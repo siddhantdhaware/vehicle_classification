{
 "cells": [
  {
   "cell_type": "markdown",
   "metadata": {},
   "source": [
    "# Test two final models (Best and Proposed)"
   ]
  },
  {
   "cell_type": "markdown",
   "metadata": {},
   "source": [
    "### Importing the libraries"
   ]
  },
  {
   "cell_type": "code",
   "execution_count": 1,
   "metadata": {},
   "outputs": [],
   "source": [
    "import tensorflow as tf\n",
    "from tensorflow.keras import layers, utils\n",
    "from tensorflow import keras\n",
    "from matplotlib import pyplot as plt\n",
    "\n",
    "import sys\n",
    "sys.path.insert(0, '../helpers/')\n",
    "from plot_graphs import plot_loss, plot_acc"
   ]
  },
  {
   "cell_type": "markdown",
   "metadata": {},
   "source": [
    "### Setting batch and image size, and importing the datasets "
   ]
  },
  {
   "cell_type": "code",
   "execution_count": 4,
   "metadata": {},
   "outputs": [
    {
     "name": "stdout",
     "output_type": "stream",
     "text": [
      "Found 3840 files belonging to 6 classes.\n",
      "Found 480 files belonging to 6 classes.\n",
      "Found 480 files belonging to 6 classes.\n"
     ]
    }
   ],
   "source": [
    "IMAGE_SIZE = 100\n",
    "BATCH_SIZE = 32\n",
    "\n",
    "train = utils.image_dataset_from_directory(\"../datasets/data/split/Zenodo/train\", image_size=(IMAGE_SIZE, IMAGE_SIZE), batch_size=BATCH_SIZE)\n",
    "val = utils.image_dataset_from_directory(\"../datasets/data/split/Zenodo/val\", image_size=(IMAGE_SIZE, IMAGE_SIZE), batch_size=BATCH_SIZE)\n",
    "test = utils.image_dataset_from_directory(\"../datasets/data/split/Zenodo/test\", image_size=(IMAGE_SIZE, IMAGE_SIZE), batch_size=BATCH_SIZE)\n",
    "\n",
    "train = train.prefetch(buffer_size=tf.data.AUTOTUNE).cache()\n",
    "val = val.prefetch(buffer_size=tf.data.AUTOTUNE).cache()\n",
    "test = test.prefetch(buffer_size=tf.data.AUTOTUNE).cache()"
   ]
  },
  {
   "cell_type": "markdown",
   "metadata": {},
   "source": [
    "### Processing images"
   ]
  },
  {
   "cell_type": "code",
   "execution_count": 5,
   "metadata": {},
   "outputs": [],
   "source": [
    "def process_image(x):\n",
    "  x = tf.image.adjust_brightness(x, 0.8)\n",
    "  x = tf.image.adjust_contrast(x, 3)\n",
    "  x = tf.image.adjust_saturation(x, 2)\n",
    "  return x\n",
    "\n",
    "def process_ds(dataset):\n",
    "  return dataset.map(lambda x, y: (process_image(x), y)).prefetch(tf.data.AUTOTUNE).cache()\n",
    "  \n",
    "train_processed = process_ds(train)\n",
    "val_processed = process_ds(val)\n",
    "test_processed = process_ds(test)"
   ]
  },
  {
   "cell_type": "markdown",
   "metadata": {},
   "source": [
    "## Best Model"
   ]
  },
  {
   "cell_type": "code",
   "execution_count": null,
   "metadata": {},
   "outputs": [],
   "source": [
    "inputs = keras.Input(shape=(100, 100, 3))\n",
    "x = inputs\n",
    "x = layers.Rescaling(1./255)(x)\n",
    "x = layers.Conv2D(32, 3, activation='relu')(x)\n",
    "x = layers.Conv2D(32, 3, activation='relu')(x)\n",
    "x = layers.Conv2D(32, 3, activation='relu')(x)\n",
    "x = layers.MaxPooling2D(2)(x)\n",
    "x = layers.Conv2D(64, 3, activation='relu')(x)\n",
    "x = layers.Conv2D(64, 3, activation='relu')(x)\n",
    "x = layers.MaxPooling2D(2)(x)\n",
    "x = layers.Conv2D(128, 3, activation='relu')(x)\n",
    "x = layers.Conv2D(128, 3, activation='relu')(x)\n",
    "x = layers.MaxPooling2D(2)(x)\n",
    "x = layers.Conv2D(256, 3, activation='relu')(x)\n",
    "x = layers.Conv2D(256, 3, activation='relu')(x)\n",
    "x = layers.GlobalAveragePooling2D()(x)\n",
    "x = layers.Dropout(0.5)(x)\n",
    "outputs = layers.Dense(6, activation='softmax')(x)\n",
    "\n",
    "model_best = keras.Model(inputs, outputs)\n",
    "\n",
    "model_best.compile(optimizer=keras.optimizers.RMSprop(0.001), loss='sparse_categorical_crossentropy', metrics=['accuracy'])\n",
    "\n",
    "model_best.summary()"
   ]
  },
  {
   "cell_type": "code",
   "execution_count": null,
   "metadata": {},
   "outputs": [],
   "source": [
    "callbacks_list = [\n",
    "    keras.callbacks.EarlyStopping(\n",
    "        monitor=\"val_accuracy\",\n",
    "        patience=10\n",
    "    ),    \n",
    "    keras.callbacks.ModelCheckpoint(\n",
    "        filepath=\"../models/4_best.h5\",\n",
    "        monitor=\"val_accuracy\",\n",
    "        save_best_only=True\n",
    "    )\n",
    "]\n",
    "\n",
    "history_best = model_best.fit(\n",
    "  train_processed,\n",
    "  epochs=50,\n",
    "  callbacks=callbacks_list,\n",
    "  validation_data=val_processed\n",
    ")"
   ]
  },
  {
   "cell_type": "markdown",
   "metadata": {},
   "source": [
    "## Proposed"
   ]
  },
  {
   "cell_type": "code",
   "execution_count": 6,
   "metadata": {},
   "outputs": [
    {
     "name": "stdout",
     "output_type": "stream",
     "text": [
      "Model: \"model\"\n",
      "_________________________________________________________________\n",
      " Layer (type)                Output Shape              Param #   \n",
      "=================================================================\n",
      " input_1 (InputLayer)        [(None, 100, 100, 3)]     0         \n",
      "                                                                 \n",
      " conv2d (Conv2D)             (None, 98, 98, 16)        448       \n",
      "                                                                 \n",
      " max_pooling2d (MaxPooling2D  (None, 49, 49, 16)       0         \n",
      " )                                                               \n",
      "                                                                 \n",
      " conv2d_1 (Conv2D)           (None, 47, 47, 32)        4640      \n",
      "                                                                 \n",
      " max_pooling2d_1 (MaxPooling  (None, 23, 23, 32)       0         \n",
      " 2D)                                                             \n",
      "                                                                 \n",
      " conv2d_2 (Conv2D)           (None, 21, 21, 32)        9248      \n",
      "                                                                 \n",
      " max_pooling2d_2 (MaxPooling  (None, 10, 10, 32)       0         \n",
      " 2D)                                                             \n",
      "                                                                 \n",
      " conv2d_3 (Conv2D)           (None, 8, 8, 32)          9248      \n",
      "                                                                 \n",
      " global_average_pooling2d (G  (None, 32)               0         \n",
      " lobalAveragePooling2D)                                          \n",
      "                                                                 \n",
      " dropout (Dropout)           (None, 32)                0         \n",
      "                                                                 \n",
      " dense (Dense)               (None, 6)                 198       \n",
      "                                                                 \n",
      "=================================================================\n",
      "Total params: 23,782\n",
      "Trainable params: 23,782\n",
      "Non-trainable params: 0\n",
      "_________________________________________________________________\n"
     ]
    }
   ],
   "source": [
    "inputs = keras.Input(shape=(100, 100, 3))\n",
    "x = inputs\n",
    "x = layers.Conv2D(16, 3, activation='relu')(x)\n",
    "x = layers.MaxPooling2D(2)(x)\n",
    "x = layers.Conv2D(32, 3, activation='relu')(x)\n",
    "x = layers.MaxPooling2D(2)(x)\n",
    "x = layers.Conv2D(32, 3, activation='relu')(x)\n",
    "x = layers.MaxPooling2D(2)(x)\n",
    "x = layers.Conv2D(32, 3, activation='relu')(x)\n",
    "x = layers.GlobalAveragePooling2D()(x)\n",
    "x = layers.Dropout(0.3)(x)\n",
    "outputs = layers.Dense(6, activation='softmax')(x)\n",
    "\n",
    "model_proposed = keras.Model(inputs, outputs)\n",
    "\n",
    "model_proposed.compile(optimizer=keras.optimizers.RMSprop(0.001), loss='sparse_categorical_crossentropy', metrics=['accuracy'])\n",
    "\n",
    "model_proposed.summary()"
   ]
  },
  {
   "cell_type": "code",
   "execution_count": 7,
   "metadata": {},
   "outputs": [
    {
     "name": "stdout",
     "output_type": "stream",
     "text": [
      "Epoch 1/50\n"
     ]
    },
    {
     "name": "stderr",
     "output_type": "stream",
     "text": [
      "2022-08-29 06:21:20.833713: W tensorflow/core/platform/profile_utils/cpu_utils.cc:128] Failed to get CPU frequency: 0 Hz\n",
      "2022-08-29 06:21:20.833805: I tensorflow/core/grappler/optimizers/custom_graph_optimizer_registry.cc:112] Plugin optimizer for device_type GPU is enabled.\n"
     ]
    },
    {
     "name": "stdout",
     "output_type": "stream",
     "text": [
      "119/120 [============================>.] - ETA: 0s - loss: 2.2958 - accuracy: 0.2348"
     ]
    },
    {
     "name": "stderr",
     "output_type": "stream",
     "text": [
      "2022-08-29 06:21:24.866021: I tensorflow/core/grappler/optimizers/custom_graph_optimizer_registry.cc:112] Plugin optimizer for device_type GPU is enabled.\n"
     ]
    },
    {
     "name": "stdout",
     "output_type": "stream",
     "text": [
      "120/120 [==============================] - 5s 30ms/step - loss: 2.2900 - accuracy: 0.2349 - val_loss: 1.5958 - val_accuracy: 0.4021\n",
      "Epoch 2/50\n",
      "120/120 [==============================] - 3s 24ms/step - loss: 1.6845 - accuracy: 0.3477 - val_loss: 1.3505 - val_accuracy: 0.4688\n",
      "Epoch 3/50\n",
      "120/120 [==============================] - 3s 24ms/step - loss: 1.3683 - accuracy: 0.4836 - val_loss: 1.0712 - val_accuracy: 0.6708\n",
      "Epoch 4/50\n",
      "120/120 [==============================] - 3s 24ms/step - loss: 1.1217 - accuracy: 0.5891 - val_loss: 0.8551 - val_accuracy: 0.6813\n",
      "Epoch 5/50\n",
      "120/120 [==============================] - 3s 24ms/step - loss: 0.9838 - accuracy: 0.6435 - val_loss: 0.9414 - val_accuracy: 0.6646\n",
      "Epoch 6/50\n",
      "120/120 [==============================] - 3s 24ms/step - loss: 0.8184 - accuracy: 0.7047 - val_loss: 0.7346 - val_accuracy: 0.6875\n",
      "Epoch 7/50\n",
      "120/120 [==============================] - 3s 24ms/step - loss: 0.7186 - accuracy: 0.7354 - val_loss: 1.1222 - val_accuracy: 0.6604\n",
      "Epoch 8/50\n",
      "120/120 [==============================] - 3s 24ms/step - loss: 0.6358 - accuracy: 0.7716 - val_loss: 0.7609 - val_accuracy: 0.7000\n",
      "Epoch 9/50\n",
      "120/120 [==============================] - 3s 24ms/step - loss: 0.5632 - accuracy: 0.7990 - val_loss: 0.6315 - val_accuracy: 0.7542\n",
      "Epoch 10/50\n",
      "120/120 [==============================] - 3s 24ms/step - loss: 0.4918 - accuracy: 0.8182 - val_loss: 0.4755 - val_accuracy: 0.8271\n",
      "Epoch 11/50\n",
      "120/120 [==============================] - 3s 24ms/step - loss: 0.4473 - accuracy: 0.8380 - val_loss: 0.7438 - val_accuracy: 0.7167\n",
      "Epoch 12/50\n",
      "120/120 [==============================] - 3s 23ms/step - loss: 0.3974 - accuracy: 0.8604 - val_loss: 0.5550 - val_accuracy: 0.8104\n",
      "Epoch 13/50\n",
      "120/120 [==============================] - 3s 25ms/step - loss: 0.3949 - accuracy: 0.8594 - val_loss: 0.4202 - val_accuracy: 0.8438\n",
      "Epoch 14/50\n",
      "120/120 [==============================] - 3s 24ms/step - loss: 0.3357 - accuracy: 0.8813 - val_loss: 0.4419 - val_accuracy: 0.8500\n",
      "Epoch 15/50\n",
      "120/120 [==============================] - 3s 24ms/step - loss: 0.3152 - accuracy: 0.8964 - val_loss: 0.5453 - val_accuracy: 0.8167\n",
      "Epoch 16/50\n",
      "120/120 [==============================] - 3s 24ms/step - loss: 0.2815 - accuracy: 0.9052 - val_loss: 0.2944 - val_accuracy: 0.8938\n",
      "Epoch 17/50\n",
      "120/120 [==============================] - 3s 26ms/step - loss: 0.2495 - accuracy: 0.9159 - val_loss: 0.6798 - val_accuracy: 0.7833\n",
      "Epoch 18/50\n",
      "120/120 [==============================] - 3s 25ms/step - loss: 0.2258 - accuracy: 0.9237 - val_loss: 0.3470 - val_accuracy: 0.8917\n",
      "Epoch 19/50\n",
      "120/120 [==============================] - 3s 25ms/step - loss: 0.2164 - accuracy: 0.9289 - val_loss: 0.3322 - val_accuracy: 0.8896\n",
      "Epoch 20/50\n",
      "120/120 [==============================] - 3s 25ms/step - loss: 0.2113 - accuracy: 0.9299 - val_loss: 0.2932 - val_accuracy: 0.9063\n",
      "Epoch 21/50\n",
      "120/120 [==============================] - 3s 26ms/step - loss: 0.1748 - accuracy: 0.9391 - val_loss: 0.3933 - val_accuracy: 0.8792\n",
      "Epoch 22/50\n",
      "120/120 [==============================] - 3s 25ms/step - loss: 0.1839 - accuracy: 0.9417 - val_loss: 0.5931 - val_accuracy: 0.8521\n",
      "Epoch 23/50\n",
      "120/120 [==============================] - 3s 26ms/step - loss: 0.1629 - accuracy: 0.9471 - val_loss: 0.2668 - val_accuracy: 0.9104\n",
      "Epoch 24/50\n",
      "120/120 [==============================] - 3s 25ms/step - loss: 0.1676 - accuracy: 0.9477 - val_loss: 0.3264 - val_accuracy: 0.9146\n",
      "Epoch 25/50\n",
      "120/120 [==============================] - 3s 26ms/step - loss: 0.1511 - accuracy: 0.9526 - val_loss: 0.7019 - val_accuracy: 0.8500\n",
      "Epoch 26/50\n",
      "120/120 [==============================] - 3s 26ms/step - loss: 0.1614 - accuracy: 0.9523 - val_loss: 0.3367 - val_accuracy: 0.9167\n",
      "Epoch 27/50\n",
      "120/120 [==============================] - 3s 25ms/step - loss: 0.1389 - accuracy: 0.9581 - val_loss: 0.3429 - val_accuracy: 0.8979\n",
      "Epoch 28/50\n",
      "120/120 [==============================] - 3s 26ms/step - loss: 0.1700 - accuracy: 0.9523 - val_loss: 0.3432 - val_accuracy: 0.9125\n",
      "Epoch 29/50\n",
      "120/120 [==============================] - 3s 26ms/step - loss: 0.1268 - accuracy: 0.9622 - val_loss: 0.3748 - val_accuracy: 0.8979\n",
      "Epoch 30/50\n",
      "120/120 [==============================] - 3s 26ms/step - loss: 0.1416 - accuracy: 0.9612 - val_loss: 0.4007 - val_accuracy: 0.9083\n",
      "Epoch 31/50\n",
      "120/120 [==============================] - 3s 27ms/step - loss: 0.1253 - accuracy: 0.9659 - val_loss: 0.4897 - val_accuracy: 0.8875\n",
      "Epoch 32/50\n",
      "120/120 [==============================] - 3s 27ms/step - loss: 0.1632 - accuracy: 0.9677 - val_loss: 0.3875 - val_accuracy: 0.9063\n",
      "Epoch 33/50\n",
      "120/120 [==============================] - 3s 27ms/step - loss: 0.1356 - accuracy: 0.9594 - val_loss: 0.5607 - val_accuracy: 0.8833\n",
      "Epoch 34/50\n",
      "120/120 [==============================] - 3s 27ms/step - loss: 0.1836 - accuracy: 0.9607 - val_loss: 0.3341 - val_accuracy: 0.9104\n",
      "Epoch 35/50\n",
      "120/120 [==============================] - 3s 27ms/step - loss: 0.1135 - accuracy: 0.9719 - val_loss: 0.3867 - val_accuracy: 0.9042\n",
      "Epoch 36/50\n",
      "120/120 [==============================] - 3s 28ms/step - loss: 0.1363 - accuracy: 0.9633 - val_loss: 0.3873 - val_accuracy: 0.9188\n",
      "Epoch 37/50\n",
      "120/120 [==============================] - 3s 27ms/step - loss: 0.0970 - accuracy: 0.9719 - val_loss: 0.3499 - val_accuracy: 0.9104\n",
      "Epoch 38/50\n",
      "120/120 [==============================] - 3s 27ms/step - loss: 0.1411 - accuracy: 0.9711 - val_loss: 0.3121 - val_accuracy: 0.9167\n",
      "Epoch 39/50\n",
      "120/120 [==============================] - 3s 28ms/step - loss: 0.1388 - accuracy: 0.9646 - val_loss: 0.3321 - val_accuracy: 0.9188\n",
      "Epoch 40/50\n",
      "120/120 [==============================] - 3s 27ms/step - loss: 0.1092 - accuracy: 0.9742 - val_loss: 0.3551 - val_accuracy: 0.9042\n",
      "Epoch 41/50\n",
      "120/120 [==============================] - 3s 27ms/step - loss: 0.1076 - accuracy: 0.9698 - val_loss: 0.2871 - val_accuracy: 0.9229\n",
      "Epoch 42/50\n",
      "120/120 [==============================] - 3s 28ms/step - loss: 0.1179 - accuracy: 0.9706 - val_loss: 0.5095 - val_accuracy: 0.8917\n",
      "Epoch 43/50\n",
      "120/120 [==============================] - 3s 27ms/step - loss: 0.1107 - accuracy: 0.9755 - val_loss: 0.3743 - val_accuracy: 0.9208\n",
      "Epoch 44/50\n",
      "120/120 [==============================] - 3s 28ms/step - loss: 0.1469 - accuracy: 0.9669 - val_loss: 0.3773 - val_accuracy: 0.9229\n",
      "Epoch 45/50\n",
      "120/120 [==============================] - 3s 29ms/step - loss: 0.0815 - accuracy: 0.9797 - val_loss: 0.4405 - val_accuracy: 0.9083\n",
      "Epoch 46/50\n",
      "120/120 [==============================] - 3s 28ms/step - loss: 0.1446 - accuracy: 0.9716 - val_loss: 0.4019 - val_accuracy: 0.9250\n",
      "Epoch 47/50\n",
      "120/120 [==============================] - 3s 29ms/step - loss: 0.0902 - accuracy: 0.9747 - val_loss: 0.3260 - val_accuracy: 0.9229\n",
      "Epoch 48/50\n",
      "120/120 [==============================] - 4s 30ms/step - loss: 0.0941 - accuracy: 0.9766 - val_loss: 0.4082 - val_accuracy: 0.9146\n",
      "Epoch 49/50\n",
      "120/120 [==============================] - 3s 28ms/step - loss: 0.1172 - accuracy: 0.9703 - val_loss: 0.6702 - val_accuracy: 0.8542\n",
      "Epoch 50/50\n",
      "120/120 [==============================] - 3s 28ms/step - loss: 0.1174 - accuracy: 0.9742 - val_loss: 0.4185 - val_accuracy: 0.9229\n"
     ]
    }
   ],
   "source": [
    "callbacks_list = [\n",
    "    keras.callbacks.EarlyStopping(\n",
    "        monitor=\"val_accuracy\",\n",
    "        patience=10\n",
    "    ),    \n",
    "    keras.callbacks.ModelCheckpoint(\n",
    "        filepath=\"../models/4_proposed.h5\",\n",
    "        monitor=\"val_accuracy\",\n",
    "        save_best_only=True\n",
    "    )\n",
    "]\n",
    "\n",
    "history_proposed = model_proposed.fit(\n",
    "  train,\n",
    "  epochs=50,\n",
    "  callbacks=callbacks_list,\n",
    "  validation_data=val\n",
    ")"
   ]
  },
  {
   "cell_type": "code",
   "execution_count": 28,
   "metadata": {},
   "outputs": [
    {
     "name": "stdout",
     "output_type": "stream",
     "text": [
      "[[80  0  0  0  0  0]\n",
      " [ 0 78  0  0  1  1]\n",
      " [ 0  0 65  0  1 14]\n",
      " [ 0  5  0 70  3  2]\n",
      " [ 0  5  0  0 75  0]\n",
      " [ 1  1  2  2  1 73]]\n",
      "              precision    recall  f1-score   support\n",
      "\n",
      "           0       0.99      1.00      0.99        80\n",
      "           1       0.88      0.97      0.92        80\n",
      "           2       0.97      0.81      0.88        80\n",
      "           3       0.97      0.88      0.92        80\n",
      "           4       0.93      0.94      0.93        80\n",
      "           5       0.81      0.91      0.86        80\n",
      "\n",
      "    accuracy                           0.92       480\n",
      "   macro avg       0.92      0.92      0.92       480\n",
      "weighted avg       0.92      0.92      0.92       480\n",
      "\n"
     ]
    },
    {
     "data": {
      "image/png": "[encoded data removed]",
      "text/plain": [
       "<Figure size 1080x576 with 2 Axes>"
      ]
     },
     "metadata": {
      "needs_background": "light"
     },
     "output_type": "display_data"
    }
   ],
   "source": [
    "import numpy as np\n",
    "from sklearn.metrics import classification_report, confusion_matrix, ConfusionMatrixDisplay\n",
    "\n",
    "preds = np.argmax(model_proposed.predict(test), axis=1)\n",
    "labels = []\n",
    "for image, label in test.unbatch():\n",
    "  labels.append(label)\n",
    "labels = np.array(labels)\n",
    "class_list = ['bike', 'car', 'juggernaut', 'minibus', 'pickup', 'truck']\n",
    "cm = confusion_matrix(labels, preds)\n",
    "\n",
    "print(cm)\n",
    "print(classification_report(labels, preds))\n",
    "\n",
    "disp = ConfusionMatrixDisplay(confusion_matrix=cm, display_labels=class_list)\n",
    "\n",
    "plt.rcParams[\"figure.figsize\"] = (15,8)\n",
    "\n",
    "disp.plot(cmap=plt.cm.Blues)\n",
    "plt.show()"
   ]
  },
  {
   "cell_type": "code",
   "execution_count": null,
   "metadata": {},
   "outputs": [],
   "source": []
  }
 ],
 "metadata": {
  "kernelspec": {
   "display_name": "Python 3.9.7 ('base')",
   "language": "python",
   "name": "python3"
  },
  "language_info": {
   "codemirror_mode": {
    "name": "ipython",
    "version": 3
   },
   "file_extension": ".py",
   "mimetype": "text/x-python",
   "name": "python",
   "nbconvert_exporter": "python",
   "pygments_lexer": "ipython3",
   "version": "3.9.7"
  },
  "orig_nbformat": 4,
  "vscode": {
   "interpreter": {
    "hash": "c6e4e9f98eb68ad3b7c296f83d20e6de614cb42e90992a65aa266555a3137d0d"
   }
  }
 },
 "nbformat": 4,
 "nbformat_minor": 2
}
