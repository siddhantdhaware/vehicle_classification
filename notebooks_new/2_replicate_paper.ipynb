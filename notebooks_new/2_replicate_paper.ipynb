{
 "cells": [
  {
   "cell_type": "markdown",
   "metadata": {},
   "source": [
    "### Importing the libraries"
   ]
  },
  {
   "cell_type": "code",
   "execution_count": 1,
   "metadata": {},
   "outputs": [],
   "source": [
    "import tensorflow as tf\n",
    "from tensorflow.keras import layers, utils\n",
    "from tensorflow import keras\n",
    "from matplotlib import pyplot as plt\n",
    "\n",
    "import sys\n",
    "sys.path.insert(0, '../helpers/')\n",
    "from plot_graphs import plot_loss, plot_acc"
   ]
  },
  {
   "cell_type": "markdown",
   "metadata": {},
   "source": [
    "### Setting batch and image size, and importing the datasets "
   ]
  },
  {
   "cell_type": "code",
   "execution_count": 3,
   "metadata": {},
   "outputs": [
    {
     "name": "stdout",
     "output_type": "stream",
     "text": [
      "Found 3840 files belonging to 6 classes.\n",
      "Found 480 files belonging to 6 classes.\n",
      "Found 480 files belonging to 6 classes.\n"
     ]
    }
   ],
   "source": [
    "IMAGE_SIZE = 100\n",
    "BATCH_SIZE = 32\n",
    "\n",
    "train = utils.image_dataset_from_directory(\"../datasets/data/split/Zenodo/train\", image_size=(IMAGE_SIZE, IMAGE_SIZE), batch_size=BATCH_SIZE)\n",
    "val = utils.image_dataset_from_directory(\"../datasets/data/split/Zenodo/val\", image_size=(IMAGE_SIZE, IMAGE_SIZE), batch_size=BATCH_SIZE)\n",
    "test = utils.image_dataset_from_directory(\"../datasets/data/split/Zenodo/test\", image_size=(IMAGE_SIZE, IMAGE_SIZE), batch_size=BATCH_SIZE)\n",
    "\n",
    "train = train.prefetch(buffer_size=tf.data.AUTOTUNE).cache()\n",
    "val = val.prefetch(buffer_size=tf.data.AUTOTUNE).cache()\n",
    "test = test.prefetch(buffer_size=tf.data.AUTOTUNE).cache()"
   ]
  },
  {
   "cell_type": "markdown",
   "metadata": {},
   "source": [
    "### Model that replicates the paper"
   ]
  },
  {
   "cell_type": "code",
   "execution_count": 4,
   "metadata": {},
   "outputs": [
    {
     "name": "stdout",
     "output_type": "stream",
     "text": [
      "Model: \"model\"\n",
      "_________________________________________________________________\n",
      " Layer (type)                Output Shape              Param #   \n",
      "=================================================================\n",
      " input_1 (InputLayer)        [(None, 100, 100, 3)]     0         \n",
      "                                                                 \n",
      " rescaling (Rescaling)       (None, 100, 100, 3)       0         \n",
      "                                                                 \n",
      " conv2d (Conv2D)             (None, 96, 96, 16)        1216      \n",
      "                                                                 \n",
      " max_pooling2d (MaxPooling2D  (None, 48, 48, 16)       0         \n",
      " )                                                               \n",
      "                                                                 \n",
      " conv2d_1 (Conv2D)           (None, 44, 44, 16)        6416      \n",
      "                                                                 \n",
      " max_pooling2d_1 (MaxPooling  (None, 22, 22, 16)       0         \n",
      " 2D)                                                             \n",
      "                                                                 \n",
      " max_pooling2d_2 (MaxPooling  (None, 11, 11, 16)       0         \n",
      " 2D)                                                             \n",
      "                                                                 \n",
      " max_pooling2d_3 (MaxPooling  (None, 5, 5, 16)         0         \n",
      " 2D)                                                             \n",
      "                                                                 \n",
      " flatten (Flatten)           (None, 400)               0         \n",
      "                                                                 \n",
      " dense (Dense)               (None, 16)                6416      \n",
      "                                                                 \n",
      " dropout (Dropout)           (None, 16)                0         \n",
      "                                                                 \n",
      " dense_1 (Dense)             (None, 6)                 102       \n",
      "                                                                 \n",
      "=================================================================\n",
      "Total params: 14,150\n",
      "Trainable params: 14,150\n",
      "Non-trainable params: 0\n",
      "_________________________________________________________________\n"
     ]
    }
   ],
   "source": [
    "inputs = keras.Input(shape=(100, 100, 3))\n",
    "x = inputs\n",
    "x = layers.Rescaling(1./255)(x)\n",
    "x = layers.Conv2D(16, 5, activation='relu')(x)\n",
    "x = layers.MaxPooling2D(2)(x)\n",
    "x = layers.Conv2D(16, 5, activation='relu')(x)\n",
    "x = layers.MaxPooling2D(2)(x)\n",
    "x = layers.MaxPooling2D(2)(x)\n",
    "x = layers.MaxPooling2D(2)(x)\n",
    "\n",
    "x = layers.Flatten()(x)\n",
    "\n",
    "x = layers.Dense(16, kernel_regularizer=keras.regularizers.l2(0.008), activation='relu')(x)\n",
    "\n",
    "x = layers.Dropout(0.3)(x)\n",
    "\n",
    "outputs = layers.Dense(6, activation='softmax')(x)\n",
    "\n",
    "model = keras.Model(inputs, outputs)\n",
    "\n",
    "model.compile(optimizer=keras.optimizers.RMSprop(0.001), loss='sparse_categorical_crossentropy', metrics=['accuracy'])\n",
    "\n",
    "model.summary()"
   ]
  },
  {
   "cell_type": "code",
   "execution_count": 5,
   "metadata": {},
   "outputs": [],
   "source": [
    "callbacks_list = [\n",
    "    keras.callbacks.ModelCheckpoint(\n",
    "        filepath=\"../models/2_replicate_paper.h5\",\n",
    "        monitor=\"val_accuracy\",\n",
    "        save_best_only=True\n",
    "    )\n",
    "]"
   ]
  },
  {
   "cell_type": "code",
   "execution_count": 6,
   "metadata": {},
   "outputs": [
    {
     "name": "stdout",
     "output_type": "stream",
     "text": [
      "Epoch 1/40\n"
     ]
    },
    {
     "name": "stderr",
     "output_type": "stream",
     "text": [
      "2022-08-29 00:32:12.840853: W tensorflow/core/platform/profile_utils/cpu_utils.cc:128] Failed to get CPU frequency: 0 Hz\n",
      "2022-08-29 00:32:12.840938: I tensorflow/core/grappler/optimizers/custom_graph_optimizer_registry.cc:112] Plugin optimizer for device_type GPU is enabled.\n"
     ]
    },
    {
     "name": "stdout",
     "output_type": "stream",
     "text": [
      "118/120 [============================>.] - ETA: 0s - loss: 1.6172 - accuracy: 0.3922"
     ]
    },
    {
     "name": "stderr",
     "output_type": "stream",
     "text": [
      "2022-08-29 00:32:16.619726: I tensorflow/core/grappler/optimizers/custom_graph_optimizer_registry.cc:112] Plugin optimizer for device_type GPU is enabled.\n"
     ]
    },
    {
     "name": "stdout",
     "output_type": "stream",
     "text": [
      "120/120 [==============================] - 4s 27ms/step - loss: 1.6102 - accuracy: 0.3953 - val_loss: 1.1694 - val_accuracy: 0.6396\n",
      "Epoch 2/40\n",
      "120/120 [==============================] - 3s 25ms/step - loss: 1.0950 - accuracy: 0.6169 - val_loss: 0.8351 - val_accuracy: 0.7583\n",
      "Epoch 3/40\n",
      "120/120 [==============================] - 3s 23ms/step - loss: 0.8817 - accuracy: 0.7044 - val_loss: 0.6831 - val_accuracy: 0.7875\n",
      "Epoch 4/40\n",
      "120/120 [==============================] - 3s 23ms/step - loss: 0.7579 - accuracy: 0.7500 - val_loss: 0.6003 - val_accuracy: 0.8313\n",
      "Epoch 5/40\n",
      "120/120 [==============================] - 3s 23ms/step - loss: 0.6744 - accuracy: 0.7846 - val_loss: 0.5493 - val_accuracy: 0.8313\n",
      "Epoch 6/40\n",
      "120/120 [==============================] - 3s 23ms/step - loss: 0.6132 - accuracy: 0.8104 - val_loss: 0.4975 - val_accuracy: 0.8521\n",
      "Epoch 7/40\n",
      "120/120 [==============================] - 3s 23ms/step - loss: 0.5644 - accuracy: 0.8302 - val_loss: 0.5093 - val_accuracy: 0.8479\n",
      "Epoch 8/40\n",
      "120/120 [==============================] - 3s 23ms/step - loss: 0.5228 - accuracy: 0.8404 - val_loss: 0.5502 - val_accuracy: 0.8333\n",
      "Epoch 9/40\n",
      "120/120 [==============================] - 3s 23ms/step - loss: 0.4866 - accuracy: 0.8544 - val_loss: 0.4463 - val_accuracy: 0.8729\n",
      "Epoch 10/40\n",
      "120/120 [==============================] - 3s 23ms/step - loss: 0.4483 - accuracy: 0.8734 - val_loss: 0.4294 - val_accuracy: 0.8625\n",
      "Epoch 11/40\n",
      "120/120 [==============================] - 3s 23ms/step - loss: 0.4127 - accuracy: 0.8878 - val_loss: 0.4227 - val_accuracy: 0.8771\n",
      "Epoch 12/40\n",
      "120/120 [==============================] - 3s 23ms/step - loss: 0.3873 - accuracy: 0.8987 - val_loss: 0.4180 - val_accuracy: 0.8792\n",
      "Epoch 13/40\n",
      "120/120 [==============================] - 3s 23ms/step - loss: 0.3631 - accuracy: 0.9021 - val_loss: 0.4472 - val_accuracy: 0.8688\n",
      "Epoch 14/40\n",
      "120/120 [==============================] - 3s 23ms/step - loss: 0.3383 - accuracy: 0.9125 - val_loss: 0.4331 - val_accuracy: 0.8708\n",
      "Epoch 15/40\n",
      "120/120 [==============================] - 3s 23ms/step - loss: 0.3282 - accuracy: 0.9128 - val_loss: 0.4357 - val_accuracy: 0.8750\n",
      "Epoch 16/40\n",
      "120/120 [==============================] - 3s 23ms/step - loss: 0.3008 - accuracy: 0.9190 - val_loss: 0.4128 - val_accuracy: 0.8938\n",
      "Epoch 17/40\n",
      "120/120 [==============================] - 3s 23ms/step - loss: 0.2897 - accuracy: 0.9284 - val_loss: 0.4604 - val_accuracy: 0.8854\n",
      "Epoch 18/40\n",
      "120/120 [==============================] - 3s 23ms/step - loss: 0.2686 - accuracy: 0.9341 - val_loss: 0.4715 - val_accuracy: 0.8729\n",
      "Epoch 19/40\n",
      "120/120 [==============================] - 3s 23ms/step - loss: 0.2600 - accuracy: 0.9378 - val_loss: 0.4923 - val_accuracy: 0.8813\n",
      "Epoch 20/40\n",
      "120/120 [==============================] - 3s 23ms/step - loss: 0.2445 - accuracy: 0.9432 - val_loss: 0.5103 - val_accuracy: 0.8771\n",
      "Epoch 21/40\n",
      "120/120 [==============================] - 3s 23ms/step - loss: 0.2345 - accuracy: 0.9484 - val_loss: 0.4948 - val_accuracy: 0.8792\n",
      "Epoch 22/40\n",
      "120/120 [==============================] - 3s 23ms/step - loss: 0.2197 - accuracy: 0.9513 - val_loss: 0.6662 - val_accuracy: 0.8646\n",
      "Epoch 23/40\n",
      "120/120 [==============================] - 3s 23ms/step - loss: 0.2197 - accuracy: 0.9547 - val_loss: 0.6142 - val_accuracy: 0.8688\n",
      "Epoch 24/40\n",
      "120/120 [==============================] - 3s 24ms/step - loss: 0.2040 - accuracy: 0.9586 - val_loss: 0.6467 - val_accuracy: 0.8708\n",
      "Epoch 25/40\n",
      "120/120 [==============================] - 3s 24ms/step - loss: 0.2027 - accuracy: 0.9596 - val_loss: 0.5782 - val_accuracy: 0.8792\n",
      "Epoch 26/40\n",
      "120/120 [==============================] - 3s 24ms/step - loss: 0.1935 - accuracy: 0.9607 - val_loss: 0.7505 - val_accuracy: 0.8729\n",
      "Epoch 27/40\n",
      "120/120 [==============================] - 3s 24ms/step - loss: 0.1872 - accuracy: 0.9607 - val_loss: 0.4852 - val_accuracy: 0.9000\n",
      "Epoch 28/40\n",
      "120/120 [==============================] - 3s 24ms/step - loss: 0.1769 - accuracy: 0.9646 - val_loss: 0.6266 - val_accuracy: 0.8792\n",
      "Epoch 29/40\n",
      "120/120 [==============================] - 3s 24ms/step - loss: 0.1729 - accuracy: 0.9672 - val_loss: 0.6371 - val_accuracy: 0.8896\n",
      "Epoch 30/40\n",
      "120/120 [==============================] - 3s 24ms/step - loss: 0.1758 - accuracy: 0.9661 - val_loss: 0.4656 - val_accuracy: 0.9125\n",
      "Epoch 31/40\n",
      "120/120 [==============================] - 3s 24ms/step - loss: 0.1706 - accuracy: 0.9693 - val_loss: 0.5802 - val_accuracy: 0.9000\n",
      "Epoch 32/40\n",
      "120/120 [==============================] - 3s 25ms/step - loss: 0.1614 - accuracy: 0.9708 - val_loss: 0.4510 - val_accuracy: 0.9146\n",
      "Epoch 33/40\n",
      "120/120 [==============================] - 3s 24ms/step - loss: 0.1595 - accuracy: 0.9755 - val_loss: 0.5506 - val_accuracy: 0.8833\n",
      "Epoch 34/40\n",
      "120/120 [==============================] - 3s 25ms/step - loss: 0.1524 - accuracy: 0.9727 - val_loss: 0.4630 - val_accuracy: 0.9146\n",
      "Epoch 35/40\n",
      "120/120 [==============================] - 3s 25ms/step - loss: 0.1385 - accuracy: 0.9766 - val_loss: 0.6082 - val_accuracy: 0.8708\n",
      "Epoch 36/40\n",
      "120/120 [==============================] - 3s 25ms/step - loss: 0.1425 - accuracy: 0.9745 - val_loss: 0.5000 - val_accuracy: 0.9083\n",
      "Epoch 37/40\n",
      "120/120 [==============================] - 3s 25ms/step - loss: 0.1476 - accuracy: 0.9742 - val_loss: 0.5739 - val_accuracy: 0.8958\n",
      "Epoch 38/40\n",
      "120/120 [==============================] - 3s 25ms/step - loss: 0.1496 - accuracy: 0.9734 - val_loss: 0.5322 - val_accuracy: 0.8979\n",
      "Epoch 39/40\n",
      "120/120 [==============================] - 3s 25ms/step - loss: 0.1354 - accuracy: 0.9771 - val_loss: 0.5576 - val_accuracy: 0.8750\n",
      "Epoch 40/40\n",
      "120/120 [==============================] - 3s 26ms/step - loss: 0.1417 - accuracy: 0.9750 - val_loss: 0.5298 - val_accuracy: 0.9083\n"
     ]
    }
   ],
   "source": [
    "history = model.fit(\n",
    "  train.cache(),\n",
    "  epochs=40,\n",
    "  callbacks=callbacks_list,\n",
    "  validation_data=val.cache()\n",
    ")"
   ]
  },
  {
   "cell_type": "code",
   "execution_count": 7,
   "metadata": {},
   "outputs": [
    {
     "data": {
      "image/png": "[encoded data removed]",
      "text/plain": [
       "<Figure size 432x288 with 1 Axes>"
      ]
     },
     "metadata": {
      "needs_background": "light"
     },
     "output_type": "display_data"
    },
    {
     "data": {
      "image/png": "[encoded data removed]",
      "text/plain": [
       "<Figure size 432x288 with 1 Axes>"
      ]
     },
     "metadata": {
      "needs_background": "light"
     },
     "output_type": "display_data"
    }
   ],
   "source": [
    "plot_loss(history)\n",
    "plot_acc(history)"
   ]
  },
  {
   "cell_type": "code",
   "execution_count": 8,
   "metadata": {},
   "outputs": [
    {
     "name": "stdout",
     "output_type": "stream",
     "text": [
      "15/15 [==============================] - 0s 14ms/step - loss: 0.6020 - accuracy: 0.8875\n"
     ]
    },
    {
     "data": {
      "text/plain": [
       "[0.6020260453224182, 0.8875000476837158]"
      ]
     },
     "execution_count": 8,
     "metadata": {},
     "output_type": "execute_result"
    }
   ],
   "source": [
    "model.evaluate(test)"
   ]
  },
  {
   "cell_type": "code",
   "execution_count": 9,
   "metadata": {},
   "outputs": [
    {
     "name": "stdout",
     "output_type": "stream",
     "text": [
      "10/15 [===================>..........] - ETA: 0s - loss: 0.5701 - accuracy: 0.8750"
     ]
    },
    {
     "name": "stderr",
     "output_type": "stream",
     "text": [
      "2022-08-29 00:36:05.085451: I tensorflow/core/grappler/optimizers/custom_graph_optimizer_registry.cc:112] Plugin optimizer for device_type GPU is enabled.\n"
     ]
    },
    {
     "name": "stdout",
     "output_type": "stream",
     "text": [
      "15/15 [==============================] - 0s 12ms/step - loss: 0.5580 - accuracy: 0.8792\n"
     ]
    },
    {
     "data": {
      "text/plain": [
       "[0.5580309629440308, 0.8791667222976685]"
      ]
     },
     "execution_count": 9,
     "metadata": {},
     "output_type": "execute_result"
    }
   ],
   "source": [
    "load_best_model = keras.models.load_model(\"../models/2_replicate_paper.h5\")\n",
    "load_best_model.evaluate(test)"
   ]
  }
 ],
 "metadata": {
  "kernelspec": {
   "display_name": "Python 3.9.7 ('base')",
   "language": "python",
   "name": "python3"
  },
  "language_info": {
   "codemirror_mode": {
    "name": "ipython",
    "version": 3
   },
   "file_extension": ".py",
   "mimetype": "text/x-python",
   "name": "python",
   "nbconvert_exporter": "python",
   "pygments_lexer": "ipython3",
   "version": "3.9.7"
  },
  "orig_nbformat": 4,
  "vscode": {
   "interpreter": {
    "hash": "c6e4e9f98eb68ad3b7c296f83d20e6de614cb42e90992a65aa266555a3137d0d"
   }
  }
 },
 "nbformat": 4,
 "nbformat_minor": 2
}
