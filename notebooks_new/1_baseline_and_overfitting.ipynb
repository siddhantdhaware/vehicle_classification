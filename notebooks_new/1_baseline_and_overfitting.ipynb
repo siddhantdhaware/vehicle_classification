{
 "cells": [
  {
   "cell_type": "markdown",
   "metadata": {},
   "source": [
    "# Establishing baseline, beating the baseline, and model that overfits"
   ]
  },
  {
   "cell_type": "markdown",
   "metadata": {},
   "source": [
    "### Importing libraries"
   ]
  },
  {
   "cell_type": "code",
   "execution_count": 1,
   "metadata": {},
   "outputs": [],
   "source": [
    "import tensorflow as tf\n",
    "from tensorflow.keras import layers, utils\n",
    "from tensorflow import keras\n",
    "from matplotlib import pyplot as plt\n",
    "\n",
    "import sys\n",
    "sys.path.insert(0, '../helpers/')\n",
    "from plot_graphs import plot_loss, plot_acc"
   ]
  },
  {
   "cell_type": "markdown",
   "metadata": {},
   "source": [
    "## 1. Establishing the baseline and importing datasets"
   ]
  },
  {
   "cell_type": "markdown",
   "metadata": {},
   "source": [
    "> Baseline accuracy is 16.67%"
   ]
  },
  {
   "cell_type": "markdown",
   "metadata": {},
   "source": [
    "### 1.1 Setting Batch and Image size"
   ]
  },
  {
   "cell_type": "code",
   "execution_count": 2,
   "metadata": {},
   "outputs": [],
   "source": [
    "IMAGE_SIZE = 100\n",
    "BATCH_SIZE = 32"
   ]
  },
  {
   "cell_type": "markdown",
   "metadata": {},
   "source": [
    "### 1.2 Loading the train val and test data"
   ]
  },
  {
   "cell_type": "code",
   "execution_count": 3,
   "metadata": {},
   "outputs": [
    {
     "name": "stdout",
     "output_type": "stream",
     "text": [
      "Found 3840 files belonging to 6 classes.\n",
      "Metal device set to: Apple M1\n",
      "\n",
      "systemMemory: 16.00 GB\n",
      "maxCacheSize: 5.33 GB\n",
      "\n",
      "Found 480 files belonging to 6 classes.\n",
      "Found 480 files belonging to 6 classes.\n"
     ]
    },
    {
     "name": "stderr",
     "output_type": "stream",
     "text": [
      "2022-08-28 23:53:53.950716: I tensorflow/core/common_runtime/pluggable_device/pluggable_device_factory.cc:305] Could not identify NUMA node of platform GPU ID 0, defaulting to 0. Your kernel may not have been built with NUMA support.\n",
      "2022-08-28 23:53:53.950892: I tensorflow/core/common_runtime/pluggable_device/pluggable_device_factory.cc:271] Created TensorFlow device (/job:localhost/replica:0/task:0/device:GPU:0 with 0 MB memory) -> physical PluggableDevice (device: 0, name: METAL, pci bus id: <undefined>)\n"
     ]
    }
   ],
   "source": [
    "train = utils.image_dataset_from_directory(\"../datasets/data/split/Zenodo/train\", image_size=(IMAGE_SIZE, IMAGE_SIZE), batch_size=BATCH_SIZE)\n",
    "val = utils.image_dataset_from_directory(\"../datasets/data/split/Zenodo/val\", image_size=(IMAGE_SIZE, IMAGE_SIZE), batch_size=BATCH_SIZE)\n",
    "test = utils.image_dataset_from_directory(\"../datasets/data/split/Zenodo/test\", image_size=(IMAGE_SIZE, IMAGE_SIZE), batch_size=BATCH_SIZE)\n",
    "\n",
    "train = train.prefetch(buffer_size=tf.data.AUTOTUNE).cache()\n",
    "val = val.prefetch(buffer_size=tf.data.AUTOTUNE).cache()\n",
    "test = test.prefetch(buffer_size=tf.data.AUTOTUNE).cache()"
   ]
  },
  {
   "cell_type": "markdown",
   "metadata": {},
   "source": [
    "## 2. Small model to beat baseline"
   ]
  },
  {
   "cell_type": "markdown",
   "metadata": {},
   "source": [
    "> Explain small model..."
   ]
  },
  {
   "cell_type": "markdown",
   "metadata": {},
   "source": [
    "### 2.1 Defining the model"
   ]
  },
  {
   "cell_type": "code",
   "execution_count": 4,
   "metadata": {},
   "outputs": [
    {
     "name": "stdout",
     "output_type": "stream",
     "text": [
      "Model: \"model\"\n",
      "_________________________________________________________________\n",
      " Layer (type)                Output Shape              Param #   \n",
      "=================================================================\n",
      " input_1 (InputLayer)        [(None, 100, 100, 3)]     0         \n",
      "                                                                 \n",
      " rescaling (Rescaling)       (None, 100, 100, 3)       0         \n",
      "                                                                 \n",
      " conv2d (Conv2D)             (None, 98, 98, 8)         224       \n",
      "                                                                 \n",
      " max_pooling2d (MaxPooling2D  (None, 49, 49, 8)        0         \n",
      " )                                                               \n",
      "                                                                 \n",
      " conv2d_1 (Conv2D)           (None, 47, 47, 16)        1168      \n",
      "                                                                 \n",
      " global_average_pooling2d (G  (None, 16)               0         \n",
      " lobalAveragePooling2D)                                          \n",
      "                                                                 \n",
      " dense (Dense)               (None, 6)                 102       \n",
      "                                                                 \n",
      "=================================================================\n",
      "Total params: 1,494\n",
      "Trainable params: 1,494\n",
      "Non-trainable params: 0\n",
      "_________________________________________________________________\n"
     ]
    }
   ],
   "source": [
    "inputs = keras.Input(shape=(100, 100, 3))\n",
    "x = inputs\n",
    "x = layers.Rescaling(1./255)(x)\n",
    "x = layers.Conv2D(8, 3, activation='relu')(x)\n",
    "x = layers.MaxPooling2D(2)(x)\n",
    "x = layers.Conv2D(16, 3, activation='relu')(x)\n",
    "x = layers.GlobalAveragePooling2D()(x)\n",
    "outputs = layers.Dense(6, activation='softmax')(x)\n",
    "\n",
    "model_baseline = keras.Model(inputs, outputs)\n",
    "\n",
    "model_baseline.compile(optimizer=keras.optimizers.RMSprop(0.001), loss='sparse_categorical_crossentropy', metrics=['accuracy'])\n",
    "\n",
    "model_baseline.summary()"
   ]
  },
  {
   "cell_type": "markdown",
   "metadata": {},
   "source": [
    "### 2.2 Running the model"
   ]
  },
  {
   "cell_type": "code",
   "execution_count": 5,
   "metadata": {},
   "outputs": [
    {
     "name": "stdout",
     "output_type": "stream",
     "text": [
      "Epoch 1/10\n"
     ]
    },
    {
     "name": "stderr",
     "output_type": "stream",
     "text": [
      "2022-08-28 23:53:54.456293: W tensorflow/core/platform/profile_utils/cpu_utils.cc:128] Failed to get CPU frequency: 0 Hz\n",
      "2022-08-28 23:53:54.456366: I tensorflow/core/grappler/optimizers/custom_graph_optimizer_registry.cc:112] Plugin optimizer for device_type GPU is enabled.\n"
     ]
    },
    {
     "name": "stdout",
     "output_type": "stream",
     "text": [
      "120/120 [==============================] - 3s 19ms/step - loss: 1.7845 - accuracy: 0.1990 - val_loss: 1.7709 - val_accuracy: 0.2438\n"
     ]
    },
    {
     "name": "stderr",
     "output_type": "stream",
     "text": [
      "2022-08-28 23:53:56.710019: I tensorflow/core/grappler/optimizers/custom_graph_optimizer_registry.cc:112] Plugin optimizer for device_type GPU is enabled.\n"
     ]
    },
    {
     "name": "stdout",
     "output_type": "stream",
     "text": [
      "Epoch 2/10\n",
      "120/120 [==============================] - 2s 16ms/step - loss: 1.7584 - accuracy: 0.2310 - val_loss: 1.7474 - val_accuracy: 0.2542\n",
      "Epoch 3/10\n",
      "120/120 [==============================] - 2s 16ms/step - loss: 1.7330 - accuracy: 0.2529 - val_loss: 1.7216 - val_accuracy: 0.2833\n",
      "Epoch 4/10\n",
      "120/120 [==============================] - 2s 16ms/step - loss: 1.7051 - accuracy: 0.2779 - val_loss: 1.6928 - val_accuracy: 0.3021\n",
      "Epoch 5/10\n",
      "120/120 [==============================] - 2s 16ms/step - loss: 1.6768 - accuracy: 0.2951 - val_loss: 1.6629 - val_accuracy: 0.3396\n",
      "Epoch 6/10\n",
      "120/120 [==============================] - 2s 16ms/step - loss: 1.6503 - accuracy: 0.3122 - val_loss: 1.6343 - val_accuracy: 0.3438\n",
      "Epoch 7/10\n",
      "120/120 [==============================] - 2s 16ms/step - loss: 1.6258 - accuracy: 0.3255 - val_loss: 1.6063 - val_accuracy: 0.3375\n",
      "Epoch 8/10\n",
      "120/120 [==============================] - 2s 16ms/step - loss: 1.6029 - accuracy: 0.3372 - val_loss: 1.5797 - val_accuracy: 0.3333\n",
      "Epoch 9/10\n",
      "120/120 [==============================] - 2s 16ms/step - loss: 1.5812 - accuracy: 0.3479 - val_loss: 1.5562 - val_accuracy: 0.3104\n",
      "Epoch 10/10\n",
      "120/120 [==============================] - 2s 16ms/step - loss: 1.5589 - accuracy: 0.3576 - val_loss: 1.5326 - val_accuracy: 0.3250\n"
     ]
    }
   ],
   "source": [
    "history_baseline = model_baseline.fit(\n",
    "  train,\n",
    "  epochs=10,\n",
    "  validation_data=val\n",
    ")"
   ]
  },
  {
   "cell_type": "markdown",
   "metadata": {},
   "source": [
    "### 2.3 Plotting graphs"
   ]
  },
  {
   "cell_type": "code",
   "execution_count": 6,
   "metadata": {},
   "outputs": [
    {
     "data": {
      "image/png": "[encoded data removed]",
      "text/plain": [
       "<Figure size 432x288 with 1 Axes>"
      ]
     },
     "metadata": {
      "needs_background": "light"
     },
     "output_type": "display_data"
    },
    {
     "data": {
      "image/png": "[encoded data removed]",
      "text/plain": [
       "<Figure size 432x288 with 1 Axes>"
      ]
     },
     "metadata": {
      "needs_background": "light"
     },
     "output_type": "display_data"
    }
   ],
   "source": [
    "plot_loss(history_baseline)\n",
    "plot_acc(history_baseline)"
   ]
  },
  {
   "cell_type": "markdown",
   "metadata": {},
   "source": [
    "## 3. Scaling up: a model that overfits"
   ]
  },
  {
   "cell_type": "markdown",
   "metadata": {},
   "source": [
    "1. Add layers.\n",
    "2. Make the layers bigger.\n",
    "3. Train for more epochs."
   ]
  },
  {
   "cell_type": "markdown",
   "metadata": {},
   "source": [
    "### 3.1 Defining the model"
   ]
  },
  {
   "cell_type": "code",
   "execution_count": 18,
   "metadata": {},
   "outputs": [
    {
     "name": "stdout",
     "output_type": "stream",
     "text": [
      "Model: \"model_4\"\n",
      "_________________________________________________________________\n",
      " Layer (type)                Output Shape              Param #   \n",
      "=================================================================\n",
      " input_5 (InputLayer)        [(None, 100, 100, 3)]     0         \n",
      "                                                                 \n",
      " rescaling_4 (Rescaling)     (None, 100, 100, 3)       0         \n",
      "                                                                 \n",
      " conv2d_11 (Conv2D)          (None, 98, 98, 8)         224       \n",
      "                                                                 \n",
      " max_pooling2d_7 (MaxPooling  (None, 49, 49, 8)        0         \n",
      " 2D)                                                             \n",
      "                                                                 \n",
      " conv2d_12 (Conv2D)          (None, 47, 47, 16)        1168      \n",
      "                                                                 \n",
      " max_pooling2d_8 (MaxPooling  (None, 23, 23, 16)       0         \n",
      " 2D)                                                             \n",
      "                                                                 \n",
      " conv2d_13 (Conv2D)          (None, 21, 21, 32)        4640      \n",
      "                                                                 \n",
      " global_average_pooling2d_4   (None, 32)               0         \n",
      " (GlobalAveragePooling2D)                                        \n",
      "                                                                 \n",
      " dense_4 (Dense)             (None, 6)                 198       \n",
      "                                                                 \n",
      "=================================================================\n",
      "Total params: 6,230\n",
      "Trainable params: 6,230\n",
      "Non-trainable params: 0\n",
      "_________________________________________________________________\n"
     ]
    }
   ],
   "source": [
    "inputs = keras.Input(shape=(100, 100, 3))\n",
    "x = inputs\n",
    "x = layers.Rescaling(1./255)(x)\n",
    "x = layers.Conv2D(16, 3, activation='relu')(x)\n",
    "x = layers.MaxPooling2D(2)(x)\n",
    "x = layers.Conv2D(32, 3, activation='relu')(x)\n",
    "x = layers.MaxPooling2D(2)(x)\n",
    "x = layers.Conv2D(64, 3, activation='relu')(x)\n",
    "x = layers.GlobalAveragePooling2D()(x)\n",
    "outputs = layers.Dense(6, activation='softmax')(x)\n",
    "\n",
    "model_overfitting = keras.Model(inputs, outputs)\n",
    "\n",
    "model_overfitting.compile(optimizer=keras.optimizers.RMSprop(0.001), loss='sparse_categorical_crossentropy', metrics=['accuracy'])\n",
    "\n",
    "model_overfitting.summary()"
   ]
  },
  {
   "cell_type": "markdown",
   "metadata": {},
   "source": [
    "### 3.2 Training the model"
   ]
  },
  {
   "cell_type": "code",
   "execution_count": 19,
   "metadata": {},
   "outputs": [
    {
     "name": "stdout",
     "output_type": "stream",
     "text": [
      "Epoch 1/50\n"
     ]
    },
    {
     "name": "stderr",
     "output_type": "stream",
     "text": [
      "2022-08-29 00:06:43.041835: I tensorflow/core/grappler/optimizers/custom_graph_optimizer_registry.cc:112] Plugin optimizer for device_type GPU is enabled.\n"
     ]
    },
    {
     "name": "stdout",
     "output_type": "stream",
     "text": [
      "120/120 [==============================] - 3s 20ms/step - loss: 1.7811 - accuracy: 0.2102 - val_loss: 1.7665 - val_accuracy: 0.1688\n"
     ]
    },
    {
     "name": "stderr",
     "output_type": "stream",
     "text": [
      "2022-08-29 00:06:45.456702: I tensorflow/core/grappler/optimizers/custom_graph_optimizer_registry.cc:112] Plugin optimizer for device_type GPU is enabled.\n"
     ]
    },
    {
     "name": "stdout",
     "output_type": "stream",
     "text": [
      "Epoch 2/50\n",
      "120/120 [==============================] - 2s 18ms/step - loss: 1.6950 - accuracy: 0.2909 - val_loss: 1.6538 - val_accuracy: 0.2479\n",
      "Epoch 3/50\n",
      "120/120 [==============================] - 2s 18ms/step - loss: 1.5659 - accuracy: 0.3815 - val_loss: 1.5017 - val_accuracy: 0.3813\n",
      "Epoch 4/50\n",
      "120/120 [==============================] - 2s 18ms/step - loss: 1.4465 - accuracy: 0.4487 - val_loss: 1.3649 - val_accuracy: 0.4917\n",
      "Epoch 5/50\n",
      "120/120 [==============================] - 2s 18ms/step - loss: 1.3557 - accuracy: 0.4818 - val_loss: 1.2725 - val_accuracy: 0.5375\n",
      "Epoch 6/50\n",
      "120/120 [==============================] - 2s 18ms/step - loss: 1.2907 - accuracy: 0.5107 - val_loss: 1.2083 - val_accuracy: 0.5563\n",
      "Epoch 7/50\n",
      "120/120 [==============================] - 2s 18ms/step - loss: 1.2418 - accuracy: 0.5266 - val_loss: 1.1602 - val_accuracy: 0.5875\n",
      "Epoch 8/50\n",
      "120/120 [==============================] - 2s 18ms/step - loss: 1.2048 - accuracy: 0.5359 - val_loss: 1.1240 - val_accuracy: 0.5979\n",
      "Epoch 9/50\n",
      "120/120 [==============================] - 2s 18ms/step - loss: 1.1743 - accuracy: 0.5482 - val_loss: 1.0978 - val_accuracy: 0.5979\n",
      "Epoch 10/50\n",
      "120/120 [==============================] - 2s 18ms/step - loss: 1.1472 - accuracy: 0.5654 - val_loss: 1.0805 - val_accuracy: 0.5979\n",
      "Epoch 11/50\n",
      "120/120 [==============================] - 2s 18ms/step - loss: 1.1232 - accuracy: 0.5737 - val_loss: 1.0662 - val_accuracy: 0.5979\n",
      "Epoch 12/50\n",
      "120/120 [==============================] - 2s 19ms/step - loss: 1.1019 - accuracy: 0.5810 - val_loss: 1.0540 - val_accuracy: 0.5979\n",
      "Epoch 13/50\n",
      "120/120 [==============================] - 2s 17ms/step - loss: 1.0824 - accuracy: 0.5880 - val_loss: 1.0439 - val_accuracy: 0.5917\n",
      "Epoch 14/50\n",
      "120/120 [==============================] - 2s 17ms/step - loss: 1.0623 - accuracy: 0.5966 - val_loss: 1.0340 - val_accuracy: 0.5938\n",
      "Epoch 15/50\n",
      "120/120 [==============================] - 2s 19ms/step - loss: 1.0450 - accuracy: 0.5995 - val_loss: 1.0236 - val_accuracy: 0.5958\n",
      "Epoch 16/50\n",
      "120/120 [==============================] - 2s 19ms/step - loss: 1.0313 - accuracy: 0.6013 - val_loss: 1.0137 - val_accuracy: 0.6000\n",
      "Epoch 17/50\n",
      "120/120 [==============================] - 2s 19ms/step - loss: 1.0200 - accuracy: 0.6073 - val_loss: 1.0045 - val_accuracy: 0.6063\n",
      "Epoch 18/50\n",
      "120/120 [==============================] - 2s 19ms/step - loss: 1.0068 - accuracy: 0.6151 - val_loss: 0.9950 - val_accuracy: 0.6146\n",
      "Epoch 19/50\n",
      "120/120 [==============================] - 2s 19ms/step - loss: 0.9932 - accuracy: 0.6206 - val_loss: 0.9847 - val_accuracy: 0.6125\n",
      "Epoch 20/50\n",
      "120/120 [==============================] - 2s 20ms/step - loss: 0.9805 - accuracy: 0.6245 - val_loss: 0.9740 - val_accuracy: 0.6104\n",
      "Epoch 21/50\n",
      "120/120 [==============================] - 2s 19ms/step - loss: 0.9692 - accuracy: 0.6294 - val_loss: 0.9630 - val_accuracy: 0.6167\n",
      "Epoch 22/50\n",
      "120/120 [==============================] - 2s 18ms/step - loss: 0.9582 - accuracy: 0.6339 - val_loss: 0.9515 - val_accuracy: 0.6250\n",
      "Epoch 23/50\n",
      "120/120 [==============================] - 2s 19ms/step - loss: 0.9470 - accuracy: 0.6383 - val_loss: 0.9397 - val_accuracy: 0.6292\n",
      "Epoch 24/50\n",
      "120/120 [==============================] - 2s 19ms/step - loss: 0.9371 - accuracy: 0.6438 - val_loss: 0.9291 - val_accuracy: 0.6313\n",
      "Epoch 25/50\n",
      "120/120 [==============================] - 2s 19ms/step - loss: 0.9268 - accuracy: 0.6495 - val_loss: 0.9183 - val_accuracy: 0.6375\n",
      "Epoch 26/50\n",
      "120/120 [==============================] - 2s 20ms/step - loss: 0.9167 - accuracy: 0.6536 - val_loss: 0.9080 - val_accuracy: 0.6375\n",
      "Epoch 27/50\n",
      "120/120 [==============================] - 2s 19ms/step - loss: 0.9069 - accuracy: 0.6617 - val_loss: 0.8977 - val_accuracy: 0.6354\n",
      "Epoch 28/50\n",
      "120/120 [==============================] - 2s 19ms/step - loss: 0.8974 - accuracy: 0.6667 - val_loss: 0.8873 - val_accuracy: 0.6438\n",
      "Epoch 29/50\n",
      "120/120 [==============================] - 2s 19ms/step - loss: 0.8883 - accuracy: 0.6742 - val_loss: 0.8774 - val_accuracy: 0.6521\n",
      "Epoch 30/50\n",
      "120/120 [==============================] - 2s 19ms/step - loss: 0.8795 - accuracy: 0.6784 - val_loss: 0.8675 - val_accuracy: 0.6563\n",
      "Epoch 31/50\n",
      "120/120 [==============================] - 2s 18ms/step - loss: 0.8710 - accuracy: 0.6797 - val_loss: 0.8583 - val_accuracy: 0.6625\n",
      "Epoch 32/50\n",
      "120/120 [==============================] - 2s 18ms/step - loss: 0.8629 - accuracy: 0.6844 - val_loss: 0.8490 - val_accuracy: 0.6646\n",
      "Epoch 33/50\n",
      "120/120 [==============================] - 2s 19ms/step - loss: 0.8550 - accuracy: 0.6872 - val_loss: 0.8399 - val_accuracy: 0.6667\n",
      "Epoch 34/50\n",
      "120/120 [==============================] - 2s 19ms/step - loss: 0.8474 - accuracy: 0.6904 - val_loss: 0.8312 - val_accuracy: 0.6708\n",
      "Epoch 35/50\n",
      "120/120 [==============================] - 2s 19ms/step - loss: 0.8400 - accuracy: 0.6927 - val_loss: 0.8229 - val_accuracy: 0.6771\n",
      "Epoch 36/50\n",
      "120/120 [==============================] - 2s 20ms/step - loss: 0.8329 - accuracy: 0.6940 - val_loss: 0.8146 - val_accuracy: 0.6792\n",
      "Epoch 37/50\n",
      "120/120 [==============================] - 2s 20ms/step - loss: 0.8259 - accuracy: 0.6964 - val_loss: 0.8068 - val_accuracy: 0.6813\n",
      "Epoch 38/50\n",
      "120/120 [==============================] - 2s 20ms/step - loss: 0.8192 - accuracy: 0.6979 - val_loss: 0.7992 - val_accuracy: 0.6875\n",
      "Epoch 39/50\n",
      "120/120 [==============================] - 2s 20ms/step - loss: 0.8126 - accuracy: 0.7010 - val_loss: 0.7921 - val_accuracy: 0.6875\n",
      "Epoch 40/50\n",
      "120/120 [==============================] - 2s 20ms/step - loss: 0.8062 - accuracy: 0.7018 - val_loss: 0.7853 - val_accuracy: 0.6896\n",
      "Epoch 41/50\n",
      "120/120 [==============================] - 3s 21ms/step - loss: 0.8000 - accuracy: 0.7036 - val_loss: 0.7789 - val_accuracy: 0.6958\n",
      "Epoch 42/50\n",
      "120/120 [==============================] - 2s 21ms/step - loss: 0.7939 - accuracy: 0.7065 - val_loss: 0.7730 - val_accuracy: 0.6979\n",
      "Epoch 43/50\n",
      "120/120 [==============================] - 3s 21ms/step - loss: 0.7880 - accuracy: 0.7091 - val_loss: 0.7666 - val_accuracy: 0.7042\n",
      "Epoch 44/50\n",
      "120/120 [==============================] - 3s 21ms/step - loss: 0.7822 - accuracy: 0.7115 - val_loss: 0.7607 - val_accuracy: 0.7104\n",
      "Epoch 45/50\n",
      "120/120 [==============================] - 3s 21ms/step - loss: 0.7765 - accuracy: 0.7159 - val_loss: 0.7549 - val_accuracy: 0.7146\n",
      "Epoch 46/50\n",
      "120/120 [==============================] - 3s 21ms/step - loss: 0.7709 - accuracy: 0.7190 - val_loss: 0.7495 - val_accuracy: 0.7188\n",
      "Epoch 47/50\n",
      "120/120 [==============================] - 3s 21ms/step - loss: 0.7655 - accuracy: 0.7216 - val_loss: 0.7443 - val_accuracy: 0.7208\n",
      "Epoch 48/50\n",
      "120/120 [==============================] - 3s 21ms/step - loss: 0.7601 - accuracy: 0.7240 - val_loss: 0.7391 - val_accuracy: 0.7271\n",
      "Epoch 49/50\n",
      "120/120 [==============================] - 2s 20ms/step - loss: 0.7549 - accuracy: 0.7271 - val_loss: 0.7339 - val_accuracy: 0.7292\n",
      "Epoch 50/50\n",
      "120/120 [==============================] - 2s 21ms/step - loss: 0.7497 - accuracy: 0.7286 - val_loss: 0.7287 - val_accuracy: 0.7313\n"
     ]
    }
   ],
   "source": [
    "history_overfitting = model_overfitting.fit(\n",
    "  train,\n",
    "  epochs=50,\n",
    "  validation_data=val\n",
    ")"
   ]
  },
  {
   "cell_type": "markdown",
   "metadata": {},
   "source": [
    "### 3.3 Plotting graphs"
   ]
  },
  {
   "cell_type": "code",
   "execution_count": 20,
   "metadata": {},
   "outputs": [
    {
     "data": {
      "image/png": "[encoded data removed]",
      "text/plain": [
       "<Figure size 432x288 with 1 Axes>"
      ]
     },
     "metadata": {
      "needs_background": "light"
     },
     "output_type": "display_data"
    },
    {
     "data": {
      "image/png": "[encoded data removed]",
      "text/plain": [
       "<Figure size 432x288 with 1 Axes>"
      ]
     },
     "metadata": {
      "needs_background": "light"
     },
     "output_type": "display_data"
    }
   ],
   "source": [
    "plot_loss(history_overfitting)\n",
    "plot_acc(history_overfitting)"
   ]
  }
 ],
 "metadata": {
  "kernelspec": {
   "display_name": "Python 3.9.7 ('base')",
   "language": "python",
   "name": "python3"
  },
  "language_info": {
   "codemirror_mode": {
    "name": "ipython",
    "version": 3
   },
   "file_extension": ".py",
   "mimetype": "text/x-python",
   "name": "python",
   "nbconvert_exporter": "python",
   "pygments_lexer": "ipython3",
   "version": "3.9.7"
  },
  "orig_nbformat": 4,
  "vscode": {
   "interpreter": {
    "hash": "c6e4e9f98eb68ad3b7c296f83d20e6de614cb42e90992a65aa266555a3137d0d"
   }
  }
 },
 "nbformat": 4,
 "nbformat_minor": 2
}
