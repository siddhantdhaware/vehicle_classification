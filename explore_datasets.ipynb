{
 "cells": [
  {
   "cell_type": "markdown",
   "metadata": {},
   "source": [
    "# Importing the libraries"
   ]
  },
  {
   "cell_type": "code",
   "execution_count": 4,
   "metadata": {},
   "outputs": [],
   "source": [
    "import os\n",
    "import matplotlib.pyplot as plt"
   ]
  },
  {
   "cell_type": "markdown",
   "metadata": {},
   "source": [
    "# Function to get the required info on the datasets"
   ]
  },
  {
   "cell_type": "code",
   "execution_count": 5,
   "metadata": {},
   "outputs": [
    {
     "name": "stdout",
     "output_type": "stream",
     "text": [
      "{'car': 800, 'bike': 800, 'pickup': 800, 'minibus': 800, 'truck': 800, 'juggernaut': 800}\n",
      "{'hatchback': 606, 'bike': 600, 'pickup': 1240, 'suv': 680, 'sedan': 1230}\n"
     ]
    }
   ],
   "source": [
    "\n",
    "def get_dataset_info(dataset_name):\n",
    "\n",
    "  classes = os.listdir(\"datasets/data/raw/\" + dataset_name)\n",
    "  classes.remove('.DS_Store')\n",
    "  data = {}\n",
    "\n",
    "  for item in classes:\n",
    "      path = \"datasets/data/raw/\" + dataset_name + \"/\" + item\n",
    "      no_of_files = len([i for i in os.listdir(path) if os.path.isfile(os.path.join(path, i))])\n",
    "      data[item] = no_of_files\n",
    "\n",
    "  return data\n",
    "\n",
    "print(get_dataset_info(\"Zenodo\"))\n",
    "print(get_dataset_info(\"VTID2\"))\n",
    "zenodo_info = get_dataset_info(\"Zenodo\")\n",
    "vtid2_info = get_dataset_info(\"VTID2\")\n"
   ]
  },
  {
   "cell_type": "markdown",
   "metadata": {},
   "source": [
    "# Plot a bar plot on the Zenodo dataset to see how balanced it is"
   ]
  },
  {
   "cell_type": "code",
   "execution_count": 6,
   "metadata": {},
   "outputs": [
    {
     "data": {
      "text/plain": [
       "<BarContainer object of 6 artists>"
      ]
     },
     "execution_count": 6,
     "metadata": {},
     "output_type": "execute_result"
    },
    {
     "data": {
      "image/png": "[encoded data removed]",
      "text/plain": [
       "<Figure size 432x288 with 1 Axes>"
      ]
     },
     "metadata": {
      "needs_background": "light"
     },
     "output_type": "display_data"
    }
   ],
   "source": [
    "plt.bar(zenodo_info.keys(), zenodo_info.values(), color ='blue',\n",
    "        width = 0.4)"
   ]
  },
  {
   "cell_type": "markdown",
   "metadata": {},
   "source": [
    "# Plot a bar plot on the VTID2 dataset to see how balanced it is"
   ]
  },
  {
   "cell_type": "code",
   "execution_count": 8,
   "metadata": {},
   "outputs": [
    {
     "data": {
      "text/plain": [
       "<BarContainer object of 5 artists>"
      ]
     },
     "execution_count": 8,
     "metadata": {},
     "output_type": "execute_result"
    },
    {
     "data": {
      "image/png": "[encoded data removed]",
      "text/plain": [
       "<Figure size 432x288 with 1 Axes>"
      ]
     },
     "metadata": {
      "needs_background": "light"
     },
     "output_type": "display_data"
    }
   ],
   "source": [
    "plt.bar(vtid2_info.keys(), vtid2_info.values(), color ='maroon',\n",
    "        width = 0.4)"
   ]
  }
 ],
 "metadata": {
  "kernelspec": {
   "display_name": "Python 3.9.7 ('base')",
   "language": "python",
   "name": "python3"
  },
  "language_info": {
   "codemirror_mode": {
    "name": "ipython",
    "version": 3
   },
   "file_extension": ".py",
   "mimetype": "text/x-python",
   "name": "python",
   "nbconvert_exporter": "python",
   "pygments_lexer": "ipython3",
   "version": "3.9.7"
  },
  "orig_nbformat": 4,
  "vscode": {
   "interpreter": {
    "hash": "c6e4e9f98eb68ad3b7c296f83d20e6de614cb42e90992a65aa266555a3137d0d"
   }
  }
 },
 "nbformat": 4,
 "nbformat_minor": 2
}
