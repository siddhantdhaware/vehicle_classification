{
 "cells": [
  {
   "cell_type": "code",
   "execution_count": 1,
   "metadata": {},
   "outputs": [],
   "source": [
    "import os"
   ]
  },
  {
   "cell_type": "code",
   "execution_count": 12,
   "metadata": {},
   "outputs": [
    {
     "name": "stdout",
     "output_type": "stream",
     "text": [
      "{'car': 800, 'bike': 800, 'pickup': 800, 'minibus': 800, 'truck': 800, 'juggernaut': 800}\n",
      "{'hatchback': 606, 'bike': 600, 'pickup': 1240, 'suv': 680, 'sedan': 1230}\n"
     ]
    }
   ],
   "source": [
    "\n",
    "def get_dataset_info(dataset_name):\n",
    "\n",
    "  classes = os.listdir(\"datasets/data/raw/\" + dataset_name)\n",
    "  classes.remove('.DS_Store')\n",
    "  data = {}\n",
    "\n",
    "  for item in classes:\n",
    "      path = \"datasets/data/raw/\" + dataset_name + \"/\" + item\n",
    "      no_of_files = len([i for i in os.listdir(path) if os.path.isfile(os.path.join(path, i))])\n",
    "      data[item] = no_of_files\n",
    "\n",
    "  return data\n",
    "\n",
    "print(get_dataset_info(\"Zenodo\"))\n",
    "print(get_dataset_info(\"VTID2\"))\n"
   ]
  },
  {
   "cell_type": "code",
   "execution_count": null,
   "metadata": {},
   "outputs": [],
   "source": []
  },
  {
   "cell_type": "code",
   "execution_count": 8,
   "metadata": {},
   "outputs": [
    {
     "data": {
      "text/plain": [
       "800"
      ]
     },
     "execution_count": 8,
     "metadata": {},
     "output_type": "execute_result"
    }
   ],
   "source": [
    "\n"
   ]
  }
 ],
 "metadata": {
  "kernelspec": {
   "display_name": "Python 3.9.7 ('base')",
   "language": "python",
   "name": "python3"
  },
  "language_info": {
   "codemirror_mode": {
    "name": "ipython",
    "version": 3
   },
   "file_extension": ".py",
   "mimetype": "text/x-python",
   "name": "python",
   "nbconvert_exporter": "python",
   "pygments_lexer": "ipython3",
   "version": "3.9.7"
  },
  "orig_nbformat": 4,
  "vscode": {
   "interpreter": {
    "hash": "c6e4e9f98eb68ad3b7c296f83d20e6de614cb42e90992a65aa266555a3137d0d"
   }
  }
 },
 "nbformat": 4,
 "nbformat_minor": 2
}
