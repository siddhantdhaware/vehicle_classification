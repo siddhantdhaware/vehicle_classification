{
 "cells": [
  {
   "cell_type": "markdown",
   "metadata": {},
   "source": [
    "# Exploring and processing the datasets"
   ]
  },
  {
   "cell_type": "markdown",
   "metadata": {},
   "source": [
    "## Importing the libraries"
   ]
  },
  {
   "cell_type": "code",
   "execution_count": 1,
   "metadata": {},
   "outputs": [],
   "source": [
    "import os\n",
    "import shutil\n",
    "import matplotlib.pyplot as plt\n",
    "import splitfolders"
   ]
  },
  {
   "cell_type": "markdown",
   "metadata": {},
   "source": [
    "> Ths notebook will explore the dataset and create the final dataset"
   ]
  },
  {
   "cell_type": "markdown",
   "metadata": {},
   "source": [
    "## 1. Exploring the dataset"
   ]
  },
  {
   "cell_type": "markdown",
   "metadata": {},
   "source": [
    "### 1.1 How balanced are the datasets?"
   ]
  },
  {
   "cell_type": "markdown",
   "metadata": {},
   "source": [
    "#### Get required information on the raw datasets"
   ]
  },
  {
   "cell_type": "code",
   "execution_count": 2,
   "metadata": {},
   "outputs": [],
   "source": [
    "raw_zenodo_path = './datasets/data/raw/Dataset (Vehicles)'\n",
    "raw_vtid2_path = './datasets/data/raw/htsngg9tpc-2'"
   ]
  },
  {
   "cell_type": "code",
   "execution_count": 3,
   "metadata": {},
   "outputs": [
    {
     "name": "stdout",
     "output_type": "stream",
     "text": [
      "{'car': 800, 'bike': 800, 'pickup': 800, 'minibus': 800, 'truck': 800, 'juggernaut': 800}\n",
      "{'hatchback': 606, 'other': 600, 'pickup': 1240, 'suv': 680, 'sedan': 1230}\n"
     ]
    }
   ],
   "source": [
    "def get_dataset_info(dataset_path):\n",
    "\n",
    "  classes = os.listdir(dataset_path)\n",
    "  classes.remove('.DS_Store')\n",
    "  data = {}\n",
    "\n",
    "  for item in classes:\n",
    "      path = dataset_path + \"/\" + item\n",
    "      no_of_files = len([i for i in os.listdir(path) if os.path.isfile(os.path.join(path, i))])\n",
    "      data[item] = no_of_files\n",
    "\n",
    "  return data\n",
    "\n",
    "print(get_dataset_info(raw_zenodo_path))\n",
    "print(get_dataset_info(raw_vtid2_path))\n",
    "zenodo_info = get_dataset_info(raw_zenodo_path)\n",
    "vtid2_info = get_dataset_info(raw_vtid2_path)\n"
   ]
  },
  {
   "cell_type": "markdown",
   "metadata": {},
   "source": [
    "#### Plot a bar plot on the Zenodo dataset to see how balanced it is"
   ]
  },
  {
   "cell_type": "code",
   "execution_count": 4,
   "metadata": {},
   "outputs": [
    {
     "data": {
      "text/plain": [
       "<BarContainer object of 6 artists>"
      ]
     },
     "execution_count": 4,
     "metadata": {},
     "output_type": "execute_result"
    },
    {
     "data": {
      "image/png": "[encoded data removed]",
      "text/plain": [
       "<Figure size 432x288 with 1 Axes>"
      ]
     },
     "metadata": {
      "needs_background": "light"
     },
     "output_type": "display_data"
    }
   ],
   "source": [
    "plt.bar(zenodo_info.keys(), zenodo_info.values(), color ='blue',\n",
    "        width = 0.4)"
   ]
  },
  {
   "cell_type": "markdown",
   "metadata": {},
   "source": [
    "#### Plot a bar plot on the VTID2 dataset to see how balanced it is"
   ]
  },
  {
   "cell_type": "code",
   "execution_count": 5,
   "metadata": {},
   "outputs": [
    {
     "data": {
      "text/plain": [
       "<BarContainer object of 5 artists>"
      ]
     },
     "execution_count": 5,
     "metadata": {},
     "output_type": "execute_result"
    },
    {
     "data": {
      "image/png": "[encoded data removed]",
      "text/plain": [
       "<Figure size 432x288 with 1 Axes>"
      ]
     },
     "metadata": {
      "needs_background": "light"
     },
     "output_type": "display_data"
    }
   ],
   "source": [
    "plt.bar(vtid2_info.keys(), vtid2_info.values(), color ='maroon',\n",
    "        width = 0.4)"
   ]
  },
  {
   "cell_type": "markdown",
   "metadata": {},
   "source": [
    "### 1.2 What does the dataset look like?"
   ]
  },
  {
   "cell_type": "markdown",
   "metadata": {},
   "source": [
    "**Display images of both the datasets**"
   ]
  },
  {
   "cell_type": "markdown",
   "metadata": {},
   "source": [
    "## 2. Create train, validation, and test split"
   ]
  },
  {
   "cell_type": "markdown",
   "metadata": {},
   "source": [
    "### 2.1 Renaming 'other' folder in vtid2 dataset to bike"
   ]
  },
  {
   "cell_type": "code",
   "execution_count": 26,
   "metadata": {},
   "outputs": [],
   "source": [
    "if os.path.exists(raw_vtid2_path + '/' + 'other'):\n",
    "  os.rename(raw_vtid2_path + '/' + 'other', raw_vtid2_path + '/' + 'bike')\n"
   ]
  },
  {
   "cell_type": "code",
   "execution_count": 27,
   "metadata": {},
   "outputs": [
    {
     "name": "stderr",
     "output_type": "stream",
     "text": [
      "Copying files: 4356 files [00:01, 2517.57 files/s]\n"
     ]
    }
   ],
   "source": [
    "input_path_zenodo = raw_zenodo_path\n",
    "output_path_zenodo = 'datasets/data/split/Zenodo'\n",
    "\n",
    "input_path_vtid = raw_vtid2_path\n",
    "output_path_vtid = 'datasets/data/split/VTID2'\n",
    "\n",
    "if os.path.exists('./datasets/data/split') and os.path.isdir('./datasets/data/split'):\n",
    "    shutil.rmtree('./datasets/data/split')\n",
    "\n",
    "splitfolders.ratio(input_path_zenodo, output=output_path_zenodo,\n",
    "                   seed=1337, ratio=(0.8, 0.1, 0.1),\n",
    "                   group_prefix=None)\n",
    "\n",
    "splitfolders.ratio(input_path_vtid, output=output_path_vtid,\n",
    "                   seed=1337, ratio=(0.8, 0.1, 0.1),\n",
    "                   group_prefix=None)"
   ]
  }
 ],
 "metadata": {
  "kernelspec": {
   "display_name": "Python 3.9.7 ('base')",
   "language": "python",
   "name": "python3"
  },
  "language_info": {
   "codemirror_mode": {
    "name": "ipython",
    "version": 3
   },
   "file_extension": ".py",
   "mimetype": "text/x-python",
   "name": "python",
   "nbconvert_exporter": "python",
   "pygments_lexer": "ipython3",
   "version": "3.9.7"
  },
  "orig_nbformat": 4,
  "vscode": {
   "interpreter": {
    "hash": "c6e4e9f98eb68ad3b7c296f83d20e6de614cb42e90992a65aa266555a3137d0d"
   }
  }
 },
 "nbformat": 4,
 "nbformat_minor": 2
}
