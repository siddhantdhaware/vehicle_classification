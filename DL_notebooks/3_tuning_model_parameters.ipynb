{
 "cells": [
  {
   "cell_type": "markdown",
   "metadata": {},
   "source": [
    "# Tuning hyperparameters and model architecture\n",
    "\n",
    "----"
   ]
  },
  {
   "cell_type": "markdown",
   "metadata": {},
   "source": [
    "> This section will have many models and in each iteration, we will change different parameters and architectures to finally arrive at the best models."
   ]
  },
  {
   "cell_type": "markdown",
   "metadata": {},
   "source": [
    "### Importing the libraries"
   ]
  },
  {
   "cell_type": "code",
   "execution_count": 1,
   "metadata": {},
   "outputs": [],
   "source": [
    "import tensorflow as tf\n",
    "from tensorflow.keras import layers, utils\n",
    "from tensorflow import keras\n",
    "from matplotlib import pyplot as plt\n",
    "\n",
    "import sys\n",
    "sys.path.insert(0, '../helpers/')\n",
    "from plot_graphs import plot_loss, plot_acc"
   ]
  },
  {
   "cell_type": "markdown",
   "metadata": {},
   "source": [
    "### Setting batch and image size, and importing the datasets "
   ]
  },
  {
   "cell_type": "code",
   "execution_count": 3,
   "metadata": {},
   "outputs": [
    {
     "name": "stdout",
     "output_type": "stream",
     "text": [
      "Found 3840 files belonging to 6 classes.\n",
      "Found 480 files belonging to 6 classes.\n",
      "Found 480 files belonging to 6 classes.\n"
     ]
    }
   ],
   "source": [
    "# Batch and image sizes\n",
    "IMAGE_SIZE = 100\n",
    "BATCH_SIZE = 32\n",
    "\n",
    "# Getting the train, test and validation data\n",
    "train = utils.image_dataset_from_directory(\"../datasets/data/split/Zenodo/train\", image_size=(IMAGE_SIZE, IMAGE_SIZE), batch_size=BATCH_SIZE)\n",
    "val = utils.image_dataset_from_directory(\"../datasets/data/split/Zenodo/val\", image_size=(IMAGE_SIZE, IMAGE_SIZE), batch_size=BATCH_SIZE)\n",
    "test = utils.image_dataset_from_directory(\"../datasets/data/split/Zenodo/test\", image_size=(IMAGE_SIZE, IMAGE_SIZE), batch_size=BATCH_SIZE)\n",
    "\n",
    "# Caching the data for faster loading\n",
    "train = train.prefetch(buffer_size=tf.data.AUTOTUNE).cache()\n",
    "val = val.prefetch(buffer_size=tf.data.AUTOTUNE).cache()\n",
    "test = test.prefetch(buffer_size=tf.data.AUTOTUNE).cache()"
   ]
  },
  {
   "cell_type": "markdown",
   "metadata": {},
   "source": [
    "## 1. Finding ideal model architecture, dropout rate, and no. of epochs"
   ]
  },
  {
   "cell_type": "markdown",
   "metadata": {},
   "source": [
    "> The purpose of this section is to identify the ideal model architecture (no. of layers and sizes of those layers), and also the ideal dropout rate and no. of epochs."
   ]
  },
  {
   "cell_type": "markdown",
   "metadata": {},
   "source": [
    "### Adding more layers than baseline model with larger layer size"
   ]
  },
  {
   "cell_type": "code",
   "execution_count": 4,
   "metadata": {},
   "outputs": [
    {
     "name": "stdout",
     "output_type": "stream",
     "text": [
      "Model: \"model\"\n",
      "_________________________________________________________________\n",
      " Layer (type)                Output Shape              Param #   \n",
      "=================================================================\n",
      " input_1 (InputLayer)        [(None, 100, 100, 3)]     0         \n",
      "                                                                 \n",
      " rescaling (Rescaling)       (None, 100, 100, 3)       0         \n",
      "                                                                 \n",
      " conv2d (Conv2D)             (None, 98, 98, 32)        896       \n",
      "                                                                 \n",
      " max_pooling2d (MaxPooling2D  (None, 49, 49, 32)       0         \n",
      " )                                                               \n",
      "                                                                 \n",
      " conv2d_1 (Conv2D)           (None, 47, 47, 64)        18496     \n",
      "                                                                 \n",
      " max_pooling2d_1 (MaxPooling  (None, 23, 23, 64)       0         \n",
      " 2D)                                                             \n",
      "                                                                 \n",
      " conv2d_2 (Conv2D)           (None, 21, 21, 128)       73856     \n",
      "                                                                 \n",
      " max_pooling2d_2 (MaxPooling  (None, 10, 10, 128)      0         \n",
      " 2D)                                                             \n",
      "                                                                 \n",
      " conv2d_3 (Conv2D)           (None, 8, 8, 256)         295168    \n",
      "                                                                 \n",
      " global_average_pooling2d (G  (None, 256)              0         \n",
      " lobalAveragePooling2D)                                          \n",
      "                                                                 \n",
      " dropout (Dropout)           (None, 256)               0         \n",
      "                                                                 \n",
      " dense (Dense)               (None, 6)                 1542      \n",
      "                                                                 \n",
      "=================================================================\n",
      "Total params: 389,958\n",
      "Trainable params: 389,958\n",
      "Non-trainable params: 0\n",
      "_________________________________________________________________\n",
      "Epoch 1/25\n"
     ]
    },
    {
     "name": "stderr",
     "output_type": "stream",
     "text": [
      "2022-08-29 01:28:58.291947: W tensorflow/core/platform/profile_utils/cpu_utils.cc:128] Failed to get CPU frequency: 0 Hz\n",
      "2022-08-29 01:28:58.292054: I tensorflow/core/grappler/optimizers/custom_graph_optimizer_registry.cc:112] Plugin optimizer for device_type GPU is enabled.\n"
     ]
    },
    {
     "name": "stdout",
     "output_type": "stream",
     "text": [
      "120/120 [==============================] - ETA: 0s - loss: 1.6876 - accuracy: 0.2883"
     ]
    },
    {
     "name": "stderr",
     "output_type": "stream",
     "text": [
      "2022-08-29 01:29:03.947858: I tensorflow/core/grappler/optimizers/custom_graph_optimizer_registry.cc:112] Plugin optimizer for device_type GPU is enabled.\n"
     ]
    },
    {
     "name": "stdout",
     "output_type": "stream",
     "text": [
      "120/120 [==============================] - 6s 46ms/step - loss: 1.6876 - accuracy: 0.2883 - val_loss: 1.3303 - val_accuracy: 0.5208\n",
      "Epoch 2/25\n",
      "120/120 [==============================] - 5s 43ms/step - loss: 1.3415 - accuracy: 0.4667 - val_loss: 1.1628 - val_accuracy: 0.5625\n",
      "Epoch 3/25\n",
      "120/120 [==============================] - 5s 42ms/step - loss: 1.1519 - accuracy: 0.5531 - val_loss: 1.0342 - val_accuracy: 0.6104\n",
      "Epoch 4/25\n",
      "120/120 [==============================] - 5s 43ms/step - loss: 1.0114 - accuracy: 0.6203 - val_loss: 0.8923 - val_accuracy: 0.6750\n",
      "Epoch 5/25\n",
      "120/120 [==============================] - 5s 43ms/step - loss: 0.8836 - accuracy: 0.6685 - val_loss: 0.7515 - val_accuracy: 0.7396\n",
      "Epoch 6/25\n",
      "120/120 [==============================] - 5s 42ms/step - loss: 0.7701 - accuracy: 0.7224 - val_loss: 0.6223 - val_accuracy: 0.7854\n",
      "Epoch 7/25\n",
      "120/120 [==============================] - 5s 42ms/step - loss: 0.6698 - accuracy: 0.7648 - val_loss: 0.5715 - val_accuracy: 0.8021\n",
      "Epoch 8/25\n",
      "120/120 [==============================] - 5s 43ms/step - loss: 0.5891 - accuracy: 0.7940 - val_loss: 0.5470 - val_accuracy: 0.8042\n",
      "Epoch 9/25\n",
      "120/120 [==============================] - 5s 42ms/step - loss: 0.5231 - accuracy: 0.8177 - val_loss: 0.4746 - val_accuracy: 0.8313\n",
      "Epoch 10/25\n",
      "120/120 [==============================] - 5s 43ms/step - loss: 0.4759 - accuracy: 0.8279 - val_loss: 0.4131 - val_accuracy: 0.8563\n",
      "Epoch 11/25\n",
      "120/120 [==============================] - 5s 43ms/step - loss: 0.4236 - accuracy: 0.8513 - val_loss: 0.3950 - val_accuracy: 0.8583\n",
      "Epoch 12/25\n",
      "120/120 [==============================] - 5s 44ms/step - loss: 0.3831 - accuracy: 0.8607 - val_loss: 0.3422 - val_accuracy: 0.8771\n",
      "Epoch 13/25\n",
      "120/120 [==============================] - 5s 43ms/step - loss: 0.3419 - accuracy: 0.8768 - val_loss: 0.4104 - val_accuracy: 0.8646\n",
      "Epoch 14/25\n",
      "120/120 [==============================] - 5s 44ms/step - loss: 0.3100 - accuracy: 0.8885 - val_loss: 0.3086 - val_accuracy: 0.8792\n",
      "Epoch 15/25\n",
      "120/120 [==============================] - 5s 44ms/step - loss: 0.2692 - accuracy: 0.9031 - val_loss: 0.3636 - val_accuracy: 0.8667\n",
      "Epoch 16/25\n",
      "120/120 [==============================] - 5s 45ms/step - loss: 0.2672 - accuracy: 0.9086 - val_loss: 0.3370 - val_accuracy: 0.8667\n",
      "Epoch 17/25\n",
      "120/120 [==============================] - 6s 48ms/step - loss: 0.2396 - accuracy: 0.9208 - val_loss: 0.2868 - val_accuracy: 0.8896\n",
      "Epoch 18/25\n",
      "120/120 [==============================] - 6s 46ms/step - loss: 0.2105 - accuracy: 0.9294 - val_loss: 0.2688 - val_accuracy: 0.9000\n",
      "Epoch 19/25\n",
      "120/120 [==============================] - 5s 45ms/step - loss: 0.1760 - accuracy: 0.9419 - val_loss: 0.3833 - val_accuracy: 0.8667\n",
      "Epoch 20/25\n",
      "120/120 [==============================] - 6s 46ms/step - loss: 0.1785 - accuracy: 0.9385 - val_loss: 0.3098 - val_accuracy: 0.8917\n",
      "Epoch 21/25\n",
      "120/120 [==============================] - 5s 46ms/step - loss: 0.1581 - accuracy: 0.9435 - val_loss: 0.2964 - val_accuracy: 0.9000\n",
      "Epoch 22/25\n",
      "120/120 [==============================] - 6s 46ms/step - loss: 0.1445 - accuracy: 0.9521 - val_loss: 0.2411 - val_accuracy: 0.9167\n",
      "Epoch 23/25\n",
      "120/120 [==============================] - 6s 46ms/step - loss: 0.1427 - accuracy: 0.9529 - val_loss: 0.3740 - val_accuracy: 0.8875\n",
      "Epoch 24/25\n",
      "120/120 [==============================] - 6s 47ms/step - loss: 0.1339 - accuracy: 0.9529 - val_loss: 0.2560 - val_accuracy: 0.9188\n",
      "Epoch 25/25\n",
      "120/120 [==============================] - 6s 46ms/step - loss: 0.1351 - accuracy: 0.9602 - val_loss: 0.3062 - val_accuracy: 0.9104\n"
     ]
    }
   ],
   "source": [
    "inputs = keras.Input(shape=(100, 100, 3))\n",
    "x = inputs\n",
    "x = layers.Rescaling(1./255)(x)\n",
    "x = layers.Conv2D(32, 3, activation='relu')(x)\n",
    "x = layers.MaxPooling2D(2)(x)\n",
    "x = layers.Conv2D(64, 3, activation='relu')(x)\n",
    "x = layers.MaxPooling2D(2)(x)\n",
    "x = layers.Conv2D(128, 3, activation='relu')(x)\n",
    "x = layers.MaxPooling2D(2)(x)\n",
    "x = layers.Conv2D(256, 3, activation='relu')(x)\n",
    "x = layers.GlobalAveragePooling2D()(x)\n",
    "x = layers.Dropout(0.5)(x)\n",
    "outputs = layers.Dense(6, activation='softmax')(x)\n",
    "\n",
    "model_1_1 = keras.Model(inputs, outputs)\n",
    "\n",
    "model_1_1.compile(optimizer=keras.optimizers.RMSprop(0.001), loss='sparse_categorical_crossentropy', metrics=['accuracy'])\n",
    "\n",
    "model_1_1.summary()\n",
    "\n",
    "history_1_1 = model_1_1.fit(\n",
    "  train,\n",
    "  epochs=25,\n",
    "  validation_data=val\n",
    ")"
   ]
  },
  {
   "cell_type": "code",
   "execution_count": 5,
   "metadata": {},
   "outputs": [
    {
     "data": {
      "image/png": "[encoded data removed]",
      "text/plain": [
       "<Figure size 432x288 with 1 Axes>"
      ]
     },
     "metadata": {
      "needs_background": "light"
     },
     "output_type": "display_data"
    },
    {
     "data": {
      "image/png": "[encoded data removed]",
      "text/plain": [
       "<Figure size 432x288 with 1 Axes>"
      ]
     },
     "metadata": {
      "needs_background": "light"
     },
     "output_type": "display_data"
    }
   ],
   "source": [
    "plot_loss(history_1_1)\n",
    "plot_acc(history_1_1)"
   ]
  },
  {
   "cell_type": "markdown",
   "metadata": {},
   "source": [
    "> This model trained quite well with validation accuracies reaching 91% towards the end, but perhaps adding more layers can improve it."
   ]
  },
  {
   "cell_type": "markdown",
   "metadata": {},
   "source": [
    "---\n",
    "\n",
    "*Highest Observed Validation Accuracy*: **91.88%**\n",
    "\n",
    "---"
   ]
  },
  {
   "cell_type": "markdown",
   "metadata": {},
   "source": [
    "### Ideal no. of layers (and layer size) as well as dropout rate and epochs"
   ]
  },
  {
   "cell_type": "markdown",
   "metadata": {},
   "source": [
    "> In this model, after various experiments, the final model architecture is used with dropout rate of 0.5 and trained for 30 epochs"
   ]
  },
  {
   "cell_type": "code",
   "execution_count": 38,
   "metadata": {},
   "outputs": [
    {
     "name": "stdout",
     "output_type": "stream",
     "text": [
      "Model: \"model_29\"\n",
      "_________________________________________________________________\n",
      " Layer (type)                Output Shape              Param #   \n",
      "=================================================================\n",
      " input_30 (InputLayer)       [(None, 100, 100, 3)]     0         \n",
      "                                                                 \n",
      " rescaling_27 (Rescaling)    (None, 100, 100, 3)       0         \n",
      "                                                                 \n",
      " conv2d_251 (Conv2D)         (None, 98, 98, 32)        896       \n",
      "                                                                 \n",
      " conv2d_252 (Conv2D)         (None, 96, 96, 32)        9248      \n",
      "                                                                 \n",
      " conv2d_253 (Conv2D)         (None, 94, 94, 32)        9248      \n",
      "                                                                 \n",
      " max_pooling2d_87 (MaxPoolin  (None, 47, 47, 32)       0         \n",
      " g2D)                                                            \n",
      "                                                                 \n",
      " conv2d_254 (Conv2D)         (None, 45, 45, 64)        18496     \n",
      "                                                                 \n",
      " conv2d_255 (Conv2D)         (None, 43, 43, 64)        36928     \n",
      "                                                                 \n",
      " max_pooling2d_88 (MaxPoolin  (None, 21, 21, 64)       0         \n",
      " g2D)                                                            \n",
      "                                                                 \n",
      " conv2d_256 (Conv2D)         (None, 19, 19, 128)       73856     \n",
      "                                                                 \n",
      " conv2d_257 (Conv2D)         (None, 17, 17, 128)       147584    \n",
      "                                                                 \n",
      " max_pooling2d_89 (MaxPoolin  (None, 8, 8, 128)        0         \n",
      " g2D)                                                            \n",
      "                                                                 \n",
      " conv2d_258 (Conv2D)         (None, 6, 6, 256)         295168    \n",
      "                                                                 \n",
      " conv2d_259 (Conv2D)         (None, 4, 4, 256)         590080    \n",
      "                                                                 \n",
      " global_average_pooling2d_29  (None, 256)              0         \n",
      "  (GlobalAveragePooling2D)                                       \n",
      "                                                                 \n",
      " dropout_29 (Dropout)        (None, 256)               0         \n",
      "                                                                 \n",
      " dense_29 (Dense)            (None, 6)                 1542      \n",
      "                                                                 \n",
      "=================================================================\n",
      "Total params: 1,183,046\n",
      "Trainable params: 1,183,046\n",
      "Non-trainable params: 0\n",
      "_________________________________________________________________\n",
      "Epoch 1/30\n"
     ]
    },
    {
     "name": "stderr",
     "output_type": "stream",
     "text": [
      "2022-08-31 00:37:08.216913: I tensorflow/core/grappler/optimizers/custom_graph_optimizer_registry.cc:112] Plugin optimizer for device_type GPU is enabled.\n"
     ]
    },
    {
     "name": "stdout",
     "output_type": "stream",
     "text": [
      "120/120 [==============================] - ETA: 0s - loss: 1.8252 - accuracy: 0.2247"
     ]
    },
    {
     "name": "stderr",
     "output_type": "stream",
     "text": [
      "2022-08-31 00:37:20.397530: I tensorflow/core/grappler/optimizers/custom_graph_optimizer_registry.cc:112] Plugin optimizer for device_type GPU is enabled.\n"
     ]
    },
    {
     "name": "stdout",
     "output_type": "stream",
     "text": [
      "120/120 [==============================] - 13s 94ms/step - loss: 1.8252 - accuracy: 0.2247 - val_loss: 1.5828 - val_accuracy: 0.3333\n",
      "Epoch 2/30\n",
      "120/120 [==============================] - 11s 90ms/step - loss: 1.4439 - accuracy: 0.4495 - val_loss: 1.2477 - val_accuracy: 0.5688\n",
      "Epoch 3/30\n",
      "120/120 [==============================] - 11s 90ms/step - loss: 0.9241 - accuracy: 0.6656 - val_loss: 0.6627 - val_accuracy: 0.7604\n",
      "Epoch 4/30\n",
      "120/120 [==============================] - 11s 91ms/step - loss: 0.6287 - accuracy: 0.7846 - val_loss: 0.4020 - val_accuracy: 0.8854\n",
      "Epoch 5/30\n",
      "120/120 [==============================] - 11s 92ms/step - loss: 0.4537 - accuracy: 0.8456 - val_loss: 0.3038 - val_accuracy: 0.8958\n",
      "Epoch 6/30\n",
      "120/120 [==============================] - 11s 93ms/step - loss: 0.3118 - accuracy: 0.8943 - val_loss: 0.2603 - val_accuracy: 0.9167\n",
      "Epoch 7/30\n",
      "120/120 [==============================] - 11s 94ms/step - loss: 0.2411 - accuracy: 0.9263 - val_loss: 0.2956 - val_accuracy: 0.9083\n",
      "Epoch 8/30\n",
      "120/120 [==============================] - 11s 95ms/step - loss: 0.1963 - accuracy: 0.9331 - val_loss: 0.2389 - val_accuracy: 0.9375\n",
      "Epoch 9/30\n",
      "120/120 [==============================] - 12s 97ms/step - loss: 0.1408 - accuracy: 0.9536 - val_loss: 0.3933 - val_accuracy: 0.9042\n",
      "Epoch 10/30\n",
      "120/120 [==============================] - 12s 97ms/step - loss: 0.1201 - accuracy: 0.9596 - val_loss: 0.2462 - val_accuracy: 0.9396\n",
      "Epoch 11/30\n",
      "120/120 [==============================] - 12s 98ms/step - loss: 0.1323 - accuracy: 0.9633 - val_loss: 0.2659 - val_accuracy: 0.9417\n",
      "Epoch 12/30\n",
      "120/120 [==============================] - 12s 97ms/step - loss: 0.0857 - accuracy: 0.9719 - val_loss: 0.3741 - val_accuracy: 0.9167\n",
      "Epoch 13/30\n",
      "120/120 [==============================] - 12s 98ms/step - loss: 0.1002 - accuracy: 0.9747 - val_loss: 0.4144 - val_accuracy: 0.9396\n",
      "Epoch 14/30\n",
      "120/120 [==============================] - 12s 99ms/step - loss: 0.0834 - accuracy: 0.9807 - val_loss: 0.3138 - val_accuracy: 0.9500\n",
      "Epoch 15/30\n",
      "120/120 [==============================] - 12s 99ms/step - loss: 0.0812 - accuracy: 0.9802 - val_loss: 0.3551 - val_accuracy: 0.9521\n",
      "Epoch 16/30\n",
      "120/120 [==============================] - 12s 100ms/step - loss: 0.0727 - accuracy: 0.9797 - val_loss: 0.4181 - val_accuracy: 0.9417\n",
      "Epoch 17/30\n",
      "120/120 [==============================] - 12s 99ms/step - loss: 0.0704 - accuracy: 0.9820 - val_loss: 0.2871 - val_accuracy: 0.9417\n",
      "Epoch 18/30\n",
      "120/120 [==============================] - 91s 762ms/step - loss: 0.0681 - accuracy: 0.9823 - val_loss: 0.4351 - val_accuracy: 0.9354\n",
      "Epoch 19/30\n",
      "120/120 [==============================] - 11s 95ms/step - loss: 0.0769 - accuracy: 0.9846 - val_loss: 0.5182 - val_accuracy: 0.9396\n",
      "Epoch 20/30\n",
      "120/120 [==============================] - 11s 89ms/step - loss: 0.0881 - accuracy: 0.9807 - val_loss: 0.2973 - val_accuracy: 0.9292\n",
      "Epoch 21/30\n",
      "120/120 [==============================] - 11s 88ms/step - loss: 0.0475 - accuracy: 0.9865 - val_loss: 0.2897 - val_accuracy: 0.9625\n",
      "Epoch 22/30\n",
      "120/120 [==============================] - 11s 89ms/step - loss: 0.0809 - accuracy: 0.9878 - val_loss: 0.3250 - val_accuracy: 0.9583\n",
      "Epoch 23/30\n",
      "120/120 [==============================] - 11s 90ms/step - loss: 0.0805 - accuracy: 0.9878 - val_loss: 0.3830 - val_accuracy: 0.9563\n",
      "Epoch 24/30\n",
      "120/120 [==============================] - 11s 91ms/step - loss: 0.0734 - accuracy: 0.9857 - val_loss: 0.3532 - val_accuracy: 0.9667\n",
      "Epoch 25/30\n",
      "120/120 [==============================] - 11s 92ms/step - loss: 0.0466 - accuracy: 0.9888 - val_loss: 0.3671 - val_accuracy: 0.9604\n",
      "Epoch 26/30\n",
      "120/120 [==============================] - 11s 92ms/step - loss: 0.0747 - accuracy: 0.9878 - val_loss: 0.3377 - val_accuracy: 0.9604\n",
      "Epoch 27/30\n",
      "120/120 [==============================] - 11s 93ms/step - loss: 0.0576 - accuracy: 0.9883 - val_loss: 0.3073 - val_accuracy: 0.9646\n",
      "Epoch 28/30\n",
      "120/120 [==============================] - 11s 94ms/step - loss: 0.0543 - accuracy: 0.9888 - val_loss: 0.3269 - val_accuracy: 0.9583\n",
      "Epoch 29/30\n",
      "120/120 [==============================] - 11s 93ms/step - loss: 0.0537 - accuracy: 0.9885 - val_loss: 0.3510 - val_accuracy: 0.9563\n",
      "Epoch 30/30\n",
      "120/120 [==============================] - 11s 93ms/step - loss: 0.0507 - accuracy: 0.9896 - val_loss: 0.3766 - val_accuracy: 0.9583\n"
     ]
    }
   ],
   "source": [
    "inputs = keras.Input(shape=(100, 100, 3))\n",
    "x = inputs\n",
    "x = layers.Rescaling(1./255)(x)\n",
    "x = layers.Conv2D(32, 3, activation='relu')(x)\n",
    "x = layers.Conv2D(32, 3, activation='relu')(x)\n",
    "x = layers.Conv2D(32, 3, activation='relu')(x)\n",
    "x = layers.MaxPooling2D(2)(x)\n",
    "x = layers.Conv2D(64, 3, activation='relu')(x)\n",
    "x = layers.Conv2D(64, 3, activation='relu')(x)\n",
    "x = layers.MaxPooling2D(2)(x)\n",
    "x = layers.Conv2D(128, 3, activation='relu')(x)\n",
    "x = layers.Conv2D(128, 3, activation='relu')(x)\n",
    "x = layers.MaxPooling2D(2)(x)\n",
    "x = layers.Conv2D(256, 3, activation='relu')(x)\n",
    "x = layers.Conv2D(256, 3, activation='relu')(x)\n",
    "x = layers.GlobalAveragePooling2D()(x)\n",
    "x = layers.Dropout(0.5)(x)\n",
    "outputs = layers.Dense(6, activation='softmax')(x)\n",
    "\n",
    "model_1_2 = keras.Model(inputs, outputs)\n",
    "\n",
    "model_1_2.compile(optimizer=keras.optimizers.RMSprop(0.001), loss='sparse_categorical_crossentropy', metrics=['accuracy'])\n",
    "\n",
    "model_1_2.summary()\n",
    "\n",
    "history_1_2 = model_1_2.fit(\n",
    "  train,\n",
    "  epochs=30,\n",
    "  validation_data=val\n",
    ")"
   ]
  },
  {
   "cell_type": "code",
   "execution_count": 39,
   "metadata": {},
   "outputs": [
    {
     "data": {
      "image/png": "[encoded data removed]",
      "text/plain": [
       "<Figure size 432x288 with 1 Axes>"
      ]
     },
     "metadata": {
      "needs_background": "light"
     },
     "output_type": "display_data"
    },
    {
     "data": {
      "image/png": "[encoded data removed]",
      "text/plain": [
       "<Figure size 432x288 with 1 Axes>"
      ]
     },
     "metadata": {
      "needs_background": "light"
     },
     "output_type": "display_data"
    }
   ],
   "source": [
    "plot_loss(history_1_2)\n",
    "plot_acc(history_1_2)"
   ]
  },
  {
   "cell_type": "markdown",
   "metadata": {},
   "source": [
    "> This is an excellent model, giving peak validation accuracies of 96.67%, and looking at the graph above its extremely stable as well. This is the best model so far."
   ]
  },
  {
   "cell_type": "markdown",
   "metadata": {},
   "source": [
    "> **So the ideal model architecture is as shown in model_1_2, the ideal no. of epochs found is 30, and the ideal dropout rate for now is 0.5.**"
   ]
  },
  {
   "cell_type": "markdown",
   "metadata": {},
   "source": [
    "---\n",
    "\n",
    "*Highest Observed Validation Accuracy*: **96.67%**\n",
    "\n",
    "---"
   ]
  },
  {
   "cell_type": "markdown",
   "metadata": {},
   "source": [
    "## 2. Trying Global Max Pooling and layers.Flatten"
   ]
  },
  {
   "cell_type": "markdown",
   "metadata": {},
   "source": [
    "> In this model, we will evaluate whether using Global Max Pooling or layer.Flatten works better than Global Average Pooling. So using the same best model from the previous section, the only layer that will be replaced will be the global average pooling layer."
   ]
  },
  {
   "cell_type": "markdown",
   "metadata": {},
   "source": [
    "### Using Maxpooling layer"
   ]
  },
  {
   "cell_type": "code",
   "execution_count": 41,
   "metadata": {},
   "outputs": [
    {
     "name": "stdout",
     "output_type": "stream",
     "text": [
      "Model: \"model_30\"\n",
      "_________________________________________________________________\n",
      " Layer (type)                Output Shape              Param #   \n",
      "=================================================================\n",
      " input_31 (InputLayer)       [(None, 100, 100, 3)]     0         \n",
      "                                                                 \n",
      " rescaling_28 (Rescaling)    (None, 100, 100, 3)       0         \n",
      "                                                                 \n",
      " conv2d_260 (Conv2D)         (None, 98, 98, 32)        896       \n",
      "                                                                 \n",
      " conv2d_261 (Conv2D)         (None, 96, 96, 32)        9248      \n",
      "                                                                 \n",
      " conv2d_262 (Conv2D)         (None, 94, 94, 32)        9248      \n",
      "                                                                 \n",
      " max_pooling2d_90 (MaxPoolin  (None, 47, 47, 32)       0         \n",
      " g2D)                                                            \n",
      "                                                                 \n",
      " conv2d_263 (Conv2D)         (None, 45, 45, 64)        18496     \n",
      "                                                                 \n",
      " conv2d_264 (Conv2D)         (None, 43, 43, 64)        36928     \n",
      "                                                                 \n",
      " max_pooling2d_91 (MaxPoolin  (None, 21, 21, 64)       0         \n",
      " g2D)                                                            \n",
      "                                                                 \n",
      " conv2d_265 (Conv2D)         (None, 19, 19, 128)       73856     \n",
      "                                                                 \n",
      " conv2d_266 (Conv2D)         (None, 17, 17, 128)       147584    \n",
      "                                                                 \n",
      " max_pooling2d_92 (MaxPoolin  (None, 8, 8, 128)        0         \n",
      " g2D)                                                            \n",
      "                                                                 \n",
      " conv2d_267 (Conv2D)         (None, 6, 6, 256)         295168    \n",
      "                                                                 \n",
      " conv2d_268 (Conv2D)         (None, 4, 4, 256)         590080    \n",
      "                                                                 \n",
      " global_max_pooling2d (Globa  (None, 256)              0         \n",
      " lMaxPooling2D)                                                  \n",
      "                                                                 \n",
      " dropout_30 (Dropout)        (None, 256)               0         \n",
      "                                                                 \n",
      " dense_30 (Dense)            (None, 6)                 1542      \n",
      "                                                                 \n",
      "=================================================================\n",
      "Total params: 1,183,046\n",
      "Trainable params: 1,183,046\n",
      "Non-trainable params: 0\n",
      "_________________________________________________________________\n",
      "Epoch 1/30\n"
     ]
    },
    {
     "name": "stderr",
     "output_type": "stream",
     "text": [
      "2022-08-31 01:16:21.338025: I tensorflow/core/grappler/optimizers/custom_graph_optimizer_registry.cc:112] Plugin optimizer for device_type GPU is enabled.\n"
     ]
    },
    {
     "name": "stdout",
     "output_type": "stream",
     "text": [
      "120/120 [==============================] - ETA: 0s - loss: 1.8338 - accuracy: 0.1828"
     ]
    },
    {
     "name": "stderr",
     "output_type": "stream",
     "text": [
      "2022-08-31 01:16:33.610246: I tensorflow/core/grappler/optimizers/custom_graph_optimizer_registry.cc:112] Plugin optimizer for device_type GPU is enabled.\n"
     ]
    },
    {
     "name": "stdout",
     "output_type": "stream",
     "text": [
      "120/120 [==============================] - 15s 98ms/step - loss: 1.8338 - accuracy: 0.1828 - val_loss: 1.7923 - val_accuracy: 0.1667\n",
      "Epoch 2/30\n",
      "120/120 [==============================] - 11s 88ms/step - loss: 1.5171 - accuracy: 0.4148 - val_loss: 0.9957 - val_accuracy: 0.6063\n",
      "Epoch 3/30\n",
      "120/120 [==============================] - 11s 88ms/step - loss: 0.9138 - accuracy: 0.6555 - val_loss: 0.7101 - val_accuracy: 0.7417\n",
      "Epoch 4/30\n",
      "120/120 [==============================] - 11s 89ms/step - loss: 0.5873 - accuracy: 0.7789 - val_loss: 0.4172 - val_accuracy: 0.8521\n",
      "Epoch 5/30\n",
      "120/120 [==============================] - 11s 89ms/step - loss: 0.3720 - accuracy: 0.8633 - val_loss: 0.3434 - val_accuracy: 0.8917\n",
      "Epoch 6/30\n",
      "120/120 [==============================] - 11s 89ms/step - loss: 0.2554 - accuracy: 0.9125 - val_loss: 0.2712 - val_accuracy: 0.9146\n",
      "Epoch 7/30\n",
      "120/120 [==============================] - 11s 90ms/step - loss: 0.1785 - accuracy: 0.9391 - val_loss: 0.2897 - val_accuracy: 0.9208\n",
      "Epoch 8/30\n",
      "120/120 [==============================] - 11s 91ms/step - loss: 0.1361 - accuracy: 0.9565 - val_loss: 0.2996 - val_accuracy: 0.9104\n",
      "Epoch 9/30\n",
      "120/120 [==============================] - 11s 92ms/step - loss: 0.1195 - accuracy: 0.9656 - val_loss: 0.2622 - val_accuracy: 0.9313\n",
      "Epoch 10/30\n",
      "120/120 [==============================] - 11s 92ms/step - loss: 0.0892 - accuracy: 0.9711 - val_loss: 0.2812 - val_accuracy: 0.9188\n",
      "Epoch 11/30\n",
      "120/120 [==============================] - 11s 93ms/step - loss: 0.0718 - accuracy: 0.9781 - val_loss: 0.2837 - val_accuracy: 0.9333\n",
      "Epoch 12/30\n",
      "120/120 [==============================] - 11s 94ms/step - loss: 0.0731 - accuracy: 0.9792 - val_loss: 0.4328 - val_accuracy: 0.9417\n",
      "Epoch 13/30\n",
      "120/120 [==============================] - 11s 95ms/step - loss: 0.0623 - accuracy: 0.9839 - val_loss: 0.2666 - val_accuracy: 0.9354\n",
      "Epoch 14/30\n",
      "120/120 [==============================] - 12s 103ms/step - loss: 0.0590 - accuracy: 0.9849 - val_loss: 0.2892 - val_accuracy: 0.9417\n",
      "Epoch 15/30\n",
      "120/120 [==============================] - 12s 99ms/step - loss: 0.0472 - accuracy: 0.9872 - val_loss: 0.4459 - val_accuracy: 0.9208\n",
      "Epoch 16/30\n",
      "120/120 [==============================] - 12s 97ms/step - loss: 0.0624 - accuracy: 0.9849 - val_loss: 0.4170 - val_accuracy: 0.9229\n",
      "Epoch 17/30\n",
      "120/120 [==============================] - 12s 99ms/step - loss: 0.0537 - accuracy: 0.9872 - val_loss: 0.4412 - val_accuracy: 0.9125\n",
      "Epoch 18/30\n",
      "120/120 [==============================] - 12s 98ms/step - loss: 0.0428 - accuracy: 0.9880 - val_loss: 0.3871 - val_accuracy: 0.9417\n",
      "Epoch 19/30\n",
      "120/120 [==============================] - 12s 100ms/step - loss: 0.0506 - accuracy: 0.9880 - val_loss: 0.4199 - val_accuracy: 0.9271\n",
      "Epoch 20/30\n",
      "120/120 [==============================] - 12s 102ms/step - loss: 0.0383 - accuracy: 0.9919 - val_loss: 0.4855 - val_accuracy: 0.9375\n",
      "Epoch 21/30\n",
      "120/120 [==============================] - 12s 102ms/step - loss: 0.0282 - accuracy: 0.9917 - val_loss: 0.4767 - val_accuracy: 0.9417\n",
      "Epoch 22/30\n",
      "120/120 [==============================] - 12s 101ms/step - loss: 0.0390 - accuracy: 0.9904 - val_loss: 0.5745 - val_accuracy: 0.9104\n",
      "Epoch 23/30\n",
      "120/120 [==============================] - 12s 100ms/step - loss: 0.0451 - accuracy: 0.9906 - val_loss: 0.5766 - val_accuracy: 0.9354\n",
      "Epoch 24/30\n",
      "120/120 [==============================] - 12s 101ms/step - loss: 0.0511 - accuracy: 0.9911 - val_loss: 0.6903 - val_accuracy: 0.9208\n",
      "Epoch 25/30\n",
      "120/120 [==============================] - 12s 101ms/step - loss: 0.0337 - accuracy: 0.9930 - val_loss: 1.0017 - val_accuracy: 0.9229\n",
      "Epoch 26/30\n",
      "120/120 [==============================] - 12s 104ms/step - loss: 0.0520 - accuracy: 0.9904 - val_loss: 0.8116 - val_accuracy: 0.9292\n",
      "Epoch 27/30\n",
      "120/120 [==============================] - 13s 108ms/step - loss: 0.0494 - accuracy: 0.9909 - val_loss: 0.4962 - val_accuracy: 0.9521\n",
      "Epoch 28/30\n",
      "120/120 [==============================] - 12s 101ms/step - loss: 0.0530 - accuracy: 0.9919 - val_loss: 0.5519 - val_accuracy: 0.9354\n",
      "Epoch 29/30\n",
      "120/120 [==============================] - 13s 104ms/step - loss: 0.0225 - accuracy: 0.9956 - val_loss: 0.5633 - val_accuracy: 0.9313\n",
      "Epoch 30/30\n",
      "120/120 [==============================] - 14s 115ms/step - loss: 0.0353 - accuracy: 0.9927 - val_loss: 0.8693 - val_accuracy: 0.9563\n"
     ]
    }
   ],
   "source": [
    "inputs = keras.Input(shape=(100, 100, 3))\n",
    "x = inputs\n",
    "x = layers.Rescaling(1./255)(x)\n",
    "x = layers.Conv2D(32, 3, activation='relu')(x)\n",
    "x = layers.Conv2D(32, 3, activation='relu')(x)\n",
    "x = layers.Conv2D(32, 3, activation='relu')(x)\n",
    "x = layers.MaxPooling2D(2)(x)\n",
    "x = layers.Conv2D(64, 3, activation='relu')(x)\n",
    "x = layers.Conv2D(64, 3, activation='relu')(x)\n",
    "x = layers.MaxPooling2D(2)(x)\n",
    "x = layers.Conv2D(128, 3, activation='relu')(x)\n",
    "x = layers.Conv2D(128, 3, activation='relu')(x)\n",
    "x = layers.MaxPooling2D(2)(x)\n",
    "x = layers.Conv2D(256, 3, activation='relu')(x)\n",
    "x = layers.Conv2D(256, 3, activation='relu')(x)\n",
    "x = layers.GlobalMaxPooling2D()(x)\n",
    "x = layers.Dropout(0.5)(x)\n",
    "outputs = layers.Dense(6, activation='softmax')(x)\n",
    "\n",
    "model_2_1 = keras.Model(inputs, outputs)\n",
    "\n",
    "model_2_1.compile(optimizer=keras.optimizers.RMSprop(0.001), loss='sparse_categorical_crossentropy', metrics=['accuracy'])\n",
    "\n",
    "model_2_1.summary()\n",
    "\n",
    "history_2_1 = model_2_1.fit(\n",
    "  train,\n",
    "  epochs=30,\n",
    "  validation_data=val\n",
    ")"
   ]
  },
  {
   "cell_type": "code",
   "execution_count": 42,
   "metadata": {},
   "outputs": [
    {
     "data": {
      "image/png": "[encoded data removed]",
      "text/plain": [
       "<Figure size 432x288 with 1 Axes>"
      ]
     },
     "metadata": {
      "needs_background": "light"
     },
     "output_type": "display_data"
    },
    {
     "data": {
      "image/png": "[encoded data removed]",
      "text/plain": [
       "<Figure size 432x288 with 1 Axes>"
      ]
     },
     "metadata": {
      "needs_background": "light"
     },
     "output_type": "display_data"
    }
   ],
   "source": [
    "plot_loss(history_2_1)\n",
    "plot_acc(history_2_1)"
   ]
  },
  {
   "cell_type": "markdown",
   "metadata": {},
   "source": [
    "---\n",
    "\n",
    "*Highest Observed Validation Accuracy*: **95.63%**\n",
    "\n",
    "---"
   ]
  },
  {
   "cell_type": "markdown",
   "metadata": {},
   "source": [
    "### Using Flatten"
   ]
  },
  {
   "cell_type": "code",
   "execution_count": 43,
   "metadata": {},
   "outputs": [
    {
     "name": "stdout",
     "output_type": "stream",
     "text": [
      "Model: \"model_31\"\n",
      "_________________________________________________________________\n",
      " Layer (type)                Output Shape              Param #   \n",
      "=================================================================\n",
      " input_32 (InputLayer)       [(None, 100, 100, 3)]     0         \n",
      "                                                                 \n",
      " rescaling_29 (Rescaling)    (None, 100, 100, 3)       0         \n",
      "                                                                 \n",
      " conv2d_269 (Conv2D)         (None, 98, 98, 32)        896       \n",
      "                                                                 \n",
      " conv2d_270 (Conv2D)         (None, 96, 96, 32)        9248      \n",
      "                                                                 \n",
      " conv2d_271 (Conv2D)         (None, 94, 94, 32)        9248      \n",
      "                                                                 \n",
      " max_pooling2d_93 (MaxPoolin  (None, 47, 47, 32)       0         \n",
      " g2D)                                                            \n",
      "                                                                 \n",
      " conv2d_272 (Conv2D)         (None, 45, 45, 64)        18496     \n",
      "                                                                 \n",
      " conv2d_273 (Conv2D)         (None, 43, 43, 64)        36928     \n",
      "                                                                 \n",
      " max_pooling2d_94 (MaxPoolin  (None, 21, 21, 64)       0         \n",
      " g2D)                                                            \n",
      "                                                                 \n",
      " conv2d_274 (Conv2D)         (None, 19, 19, 128)       73856     \n",
      "                                                                 \n",
      " conv2d_275 (Conv2D)         (None, 17, 17, 128)       147584    \n",
      "                                                                 \n",
      " max_pooling2d_95 (MaxPoolin  (None, 8, 8, 128)        0         \n",
      " g2D)                                                            \n",
      "                                                                 \n",
      " conv2d_276 (Conv2D)         (None, 6, 6, 256)         295168    \n",
      "                                                                 \n",
      " conv2d_277 (Conv2D)         (None, 4, 4, 256)         590080    \n",
      "                                                                 \n",
      " flatten (Flatten)           (None, 4096)              0         \n",
      "                                                                 \n",
      " dropout_31 (Dropout)        (None, 4096)              0         \n",
      "                                                                 \n",
      " dense_31 (Dense)            (None, 6)                 24582     \n",
      "                                                                 \n",
      "=================================================================\n",
      "Total params: 1,206,086\n",
      "Trainable params: 1,206,086\n",
      "Non-trainable params: 0\n",
      "_________________________________________________________________\n",
      "Epoch 1/30\n"
     ]
    },
    {
     "name": "stderr",
     "output_type": "stream",
     "text": [
      "2022-08-31 01:27:06.939051: I tensorflow/core/grappler/optimizers/custom_graph_optimizer_registry.cc:112] Plugin optimizer for device_type GPU is enabled.\n"
     ]
    },
    {
     "name": "stdout",
     "output_type": "stream",
     "text": [
      "120/120 [==============================] - ETA: 0s - loss: 1.8128 - accuracy: 0.1708"
     ]
    },
    {
     "name": "stderr",
     "output_type": "stream",
     "text": [
      "2022-08-31 01:27:19.184015: I tensorflow/core/grappler/optimizers/custom_graph_optimizer_registry.cc:112] Plugin optimizer for device_type GPU is enabled.\n"
     ]
    },
    {
     "name": "stdout",
     "output_type": "stream",
     "text": [
      "120/120 [==============================] - 13s 96ms/step - loss: 1.8128 - accuracy: 0.1708 - val_loss: 1.7923 - val_accuracy: 0.1667\n",
      "Epoch 2/30\n",
      "120/120 [==============================] - 11s 94ms/step - loss: 1.7380 - accuracy: 0.2719 - val_loss: 1.1919 - val_accuracy: 0.5813\n",
      "Epoch 3/30\n",
      "120/120 [==============================] - 11s 91ms/step - loss: 0.9609 - accuracy: 0.6542 - val_loss: 0.5536 - val_accuracy: 0.8146\n",
      "Epoch 4/30\n",
      "120/120 [==============================] - 11s 92ms/step - loss: 0.4953 - accuracy: 0.8326 - val_loss: 0.3847 - val_accuracy: 0.8833\n",
      "Epoch 5/30\n",
      "120/120 [==============================] - 11s 91ms/step - loss: 0.2934 - accuracy: 0.9003 - val_loss: 0.3478 - val_accuracy: 0.8917\n",
      "Epoch 6/30\n",
      "120/120 [==============================] - 11s 92ms/step - loss: 0.1971 - accuracy: 0.9378 - val_loss: 0.3488 - val_accuracy: 0.8958\n",
      "Epoch 7/30\n",
      "120/120 [==============================] - 12s 97ms/step - loss: 0.1303 - accuracy: 0.9563 - val_loss: 0.3834 - val_accuracy: 0.9125\n",
      "Epoch 8/30\n",
      "120/120 [==============================] - 12s 100ms/step - loss: 0.1095 - accuracy: 0.9669 - val_loss: 0.5046 - val_accuracy: 0.8958\n",
      "Epoch 9/30\n",
      "120/120 [==============================] - 12s 101ms/step - loss: 0.0749 - accuracy: 0.9786 - val_loss: 0.3998 - val_accuracy: 0.9083\n",
      "Epoch 10/30\n",
      "120/120 [==============================] - 12s 96ms/step - loss: 0.0846 - accuracy: 0.9789 - val_loss: 0.4397 - val_accuracy: 0.9188\n",
      "Epoch 11/30\n",
      "120/120 [==============================] - 12s 98ms/step - loss: 0.0547 - accuracy: 0.9839 - val_loss: 0.5311 - val_accuracy: 0.9125\n",
      "Epoch 12/30\n",
      "120/120 [==============================] - 12s 102ms/step - loss: 0.0593 - accuracy: 0.9826 - val_loss: 0.5471 - val_accuracy: 0.9042\n",
      "Epoch 13/30\n",
      "120/120 [==============================] - 12s 98ms/step - loss: 0.0418 - accuracy: 0.9852 - val_loss: 0.7502 - val_accuracy: 0.9167\n",
      "Epoch 14/30\n",
      "120/120 [==============================] - 13s 107ms/step - loss: 0.0493 - accuracy: 0.9880 - val_loss: 0.5337 - val_accuracy: 0.9354\n",
      "Epoch 15/30\n",
      "120/120 [==============================] - 12s 104ms/step - loss: 0.0463 - accuracy: 0.9870 - val_loss: 0.6419 - val_accuracy: 0.9229\n",
      "Epoch 16/30\n",
      "120/120 [==============================] - 12s 104ms/step - loss: 0.0411 - accuracy: 0.9898 - val_loss: 0.5551 - val_accuracy: 0.9250\n",
      "Epoch 17/30\n",
      "120/120 [==============================] - 12s 102ms/step - loss: 0.0708 - accuracy: 0.9865 - val_loss: 0.6452 - val_accuracy: 0.9271\n",
      "Epoch 18/30\n",
      "120/120 [==============================] - 12s 98ms/step - loss: 0.0438 - accuracy: 0.9880 - val_loss: 1.0473 - val_accuracy: 0.8917\n",
      "Epoch 19/30\n",
      "120/120 [==============================] - 12s 104ms/step - loss: 0.0391 - accuracy: 0.9909 - val_loss: 0.5878 - val_accuracy: 0.9271\n",
      "Epoch 20/30\n",
      "120/120 [==============================] - 12s 102ms/step - loss: 0.0309 - accuracy: 0.9922 - val_loss: 0.7349 - val_accuracy: 0.9125\n",
      "Epoch 21/30\n",
      "120/120 [==============================] - 13s 105ms/step - loss: 0.1203 - accuracy: 0.9888 - val_loss: 0.9987 - val_accuracy: 0.9021\n",
      "Epoch 22/30\n",
      "120/120 [==============================] - 13s 105ms/step - loss: 0.0301 - accuracy: 0.9943 - val_loss: 1.1570 - val_accuracy: 0.9021\n",
      "Epoch 23/30\n",
      "120/120 [==============================] - 13s 105ms/step - loss: 0.0681 - accuracy: 0.9883 - val_loss: 0.6231 - val_accuracy: 0.9292\n",
      "Epoch 24/30\n",
      "120/120 [==============================] - 13s 106ms/step - loss: 0.0442 - accuracy: 0.9922 - val_loss: 1.0952 - val_accuracy: 0.9021\n",
      "Epoch 25/30\n",
      "120/120 [==============================] - 13s 107ms/step - loss: 0.0421 - accuracy: 0.9930 - val_loss: 1.2326 - val_accuracy: 0.9063\n",
      "Epoch 26/30\n",
      "120/120 [==============================] - 13s 112ms/step - loss: 0.0534 - accuracy: 0.9919 - val_loss: 0.7145 - val_accuracy: 0.9333\n",
      "Epoch 27/30\n",
      "120/120 [==============================] - 12s 104ms/step - loss: 0.0445 - accuracy: 0.9943 - val_loss: 0.9054 - val_accuracy: 0.9063\n",
      "Epoch 28/30\n",
      "120/120 [==============================] - 13s 107ms/step - loss: 0.0339 - accuracy: 0.9948 - val_loss: 1.7656 - val_accuracy: 0.8938\n",
      "Epoch 29/30\n",
      "120/120 [==============================] - 13s 109ms/step - loss: 0.0366 - accuracy: 0.9938 - val_loss: 1.0289 - val_accuracy: 0.9313\n",
      "Epoch 30/30\n",
      "120/120 [==============================] - 13s 111ms/step - loss: 0.0261 - accuracy: 0.9958 - val_loss: 1.4961 - val_accuracy: 0.9000\n"
     ]
    }
   ],
   "source": [
    "inputs = keras.Input(shape=(100, 100, 3))\n",
    "x = inputs\n",
    "x = layers.Rescaling(1./255)(x)\n",
    "x = layers.Conv2D(32, 3, activation='relu')(x)\n",
    "x = layers.Conv2D(32, 3, activation='relu')(x)\n",
    "x = layers.Conv2D(32, 3, activation='relu')(x)\n",
    "x = layers.MaxPooling2D(2)(x)\n",
    "x = layers.Conv2D(64, 3, activation='relu')(x)\n",
    "x = layers.Conv2D(64, 3, activation='relu')(x)\n",
    "x = layers.MaxPooling2D(2)(x)\n",
    "x = layers.Conv2D(128, 3, activation='relu')(x)\n",
    "x = layers.Conv2D(128, 3, activation='relu')(x)\n",
    "x = layers.MaxPooling2D(2)(x)\n",
    "x = layers.Conv2D(256, 3, activation='relu')(x)\n",
    "x = layers.Conv2D(256, 3, activation='relu')(x)\n",
    "x = layers.Flatten()(x)\n",
    "x = layers.Dropout(0.5)(x)\n",
    "outputs = layers.Dense(6, activation='softmax')(x)\n",
    "\n",
    "model_2_2 = keras.Model(inputs, outputs)\n",
    "\n",
    "model_2_2.compile(optimizer=keras.optimizers.RMSprop(0.001), loss='sparse_categorical_crossentropy', metrics=['accuracy'])\n",
    "\n",
    "model_2_2.summary()\n",
    "\n",
    "history_2_2 = model_2_2.fit(\n",
    "  train,\n",
    "  epochs=30,\n",
    "  validation_data=val\n",
    ")"
   ]
  },
  {
   "cell_type": "code",
   "execution_count": 44,
   "metadata": {},
   "outputs": [
    {
     "data": {
      "image/png": "[encoded data removed]",
      "text/plain": [
       "<Figure size 432x288 with 1 Axes>"
      ]
     },
     "metadata": {
      "needs_background": "light"
     },
     "output_type": "display_data"
    },
    {
     "data": {
      "image/png": "[encoded data removed]",
      "text/plain": [
       "<Figure size 432x288 with 1 Axes>"
      ]
     },
     "metadata": {
      "needs_background": "light"
     },
     "output_type": "display_data"
    }
   ],
   "source": [
    "plot_loss(history_2_2)\n",
    "plot_acc(history_2_2)"
   ]
  },
  {
   "cell_type": "markdown",
   "metadata": {},
   "source": [
    "---\n",
    "\n",
    "*Highest Observed Validation Accuracy*: **93.54%**\n",
    "\n",
    "---"
   ]
  },
  {
   "cell_type": "markdown",
   "metadata": {},
   "source": [
    "> Using global max pooling gave extremely similar results to average pooling as it gave validation accuracies of up to 95%, although average pooling was still better with peak validation accuracies of 96.67%. Using layer.Flatten gives much inferior results compared to the other two with peak validation accuracies not crossing 94%. "
   ]
  },
  {
   "cell_type": "markdown",
   "metadata": {},
   "source": [
    "> **So going forward, it makes sense to use global average pooling.**"
   ]
  },
  {
   "cell_type": "markdown",
   "metadata": {},
   "source": [
    "## 3. Regularizing the model and testing different learning rates"
   ]
  },
  {
   "cell_type": "markdown",
   "metadata": {},
   "source": [
    "> Regularizer and different learning rates"
   ]
  },
  {
   "cell_type": "code",
   "execution_count": 45,
   "metadata": {},
   "outputs": [
    {
     "name": "stdout",
     "output_type": "stream",
     "text": [
      "Model: \"model_32\"\n",
      "_________________________________________________________________\n",
      " Layer (type)                Output Shape              Param #   \n",
      "=================================================================\n",
      " input_33 (InputLayer)       [(None, 100, 100, 3)]     0         \n",
      "                                                                 \n",
      " rescaling_30 (Rescaling)    (None, 100, 100, 3)       0         \n",
      "                                                                 \n",
      " conv2d_278 (Conv2D)         (None, 98, 98, 32)        896       \n",
      "                                                                 \n",
      " conv2d_279 (Conv2D)         (None, 96, 96, 32)        9248      \n",
      "                                                                 \n",
      " conv2d_280 (Conv2D)         (None, 94, 94, 32)        9248      \n",
      "                                                                 \n",
      " max_pooling2d_96 (MaxPoolin  (None, 47, 47, 32)       0         \n",
      " g2D)                                                            \n",
      "                                                                 \n",
      " conv2d_281 (Conv2D)         (None, 45, 45, 64)        18496     \n",
      "                                                                 \n",
      " conv2d_282 (Conv2D)         (None, 43, 43, 64)        36928     \n",
      "                                                                 \n",
      " max_pooling2d_97 (MaxPoolin  (None, 21, 21, 64)       0         \n",
      " g2D)                                                            \n",
      "                                                                 \n",
      " conv2d_283 (Conv2D)         (None, 19, 19, 128)       73856     \n",
      "                                                                 \n",
      " conv2d_284 (Conv2D)         (None, 17, 17, 128)       147584    \n",
      "                                                                 \n",
      " max_pooling2d_98 (MaxPoolin  (None, 8, 8, 128)        0         \n",
      " g2D)                                                            \n",
      "                                                                 \n",
      " conv2d_285 (Conv2D)         (None, 6, 6, 256)         295168    \n",
      "                                                                 \n",
      " conv2d_286 (Conv2D)         (None, 4, 4, 256)         590080    \n",
      "                                                                 \n",
      " global_average_pooling2d_30  (None, 256)              0         \n",
      "  (GlobalAveragePooling2D)                                       \n",
      "                                                                 \n",
      " dropout_32 (Dropout)        (None, 256)               0         \n",
      "                                                                 \n",
      " dense_32 (Dense)            (None, 6)                 1542      \n",
      "                                                                 \n",
      "=================================================================\n",
      "Total params: 1,183,046\n",
      "Trainable params: 1,183,046\n",
      "Non-trainable params: 0\n",
      "_________________________________________________________________\n",
      "Epoch 1/30\n"
     ]
    },
    {
     "name": "stderr",
     "output_type": "stream",
     "text": [
      "2022-08-31 01:45:11.237125: I tensorflow/core/grappler/optimizers/custom_graph_optimizer_registry.cc:112] Plugin optimizer for device_type GPU is enabled.\n"
     ]
    },
    {
     "name": "stdout",
     "output_type": "stream",
     "text": [
      "120/120 [==============================] - ETA: 0s - loss: 1.8313 - accuracy: 0.1935"
     ]
    },
    {
     "name": "stderr",
     "output_type": "stream",
     "text": [
      "2022-08-31 01:45:23.742652: I tensorflow/core/grappler/optimizers/custom_graph_optimizer_registry.cc:112] Plugin optimizer for device_type GPU is enabled.\n"
     ]
    },
    {
     "name": "stdout",
     "output_type": "stream",
     "text": [
      "120/120 [==============================] - 14s 97ms/step - loss: 1.8313 - accuracy: 0.1935 - val_loss: 1.7236 - val_accuracy: 0.2167\n",
      "Epoch 2/30\n",
      "120/120 [==============================] - 11s 93ms/step - loss: 1.6135 - accuracy: 0.3641 - val_loss: 1.1171 - val_accuracy: 0.5833\n",
      "Epoch 3/30\n",
      "120/120 [==============================] - 11s 93ms/step - loss: 1.1531 - accuracy: 0.5648 - val_loss: 0.9633 - val_accuracy: 0.6125\n",
      "Epoch 4/30\n",
      "120/120 [==============================] - 11s 92ms/step - loss: 0.8330 - accuracy: 0.7042 - val_loss: 0.6117 - val_accuracy: 0.7917\n",
      "Epoch 5/30\n",
      "120/120 [==============================] - 11s 93ms/step - loss: 0.5984 - accuracy: 0.7875 - val_loss: 0.5012 - val_accuracy: 0.8375\n",
      "Epoch 6/30\n",
      "120/120 [==============================] - 11s 93ms/step - loss: 0.4404 - accuracy: 0.8500 - val_loss: 0.3768 - val_accuracy: 0.8729\n",
      "Epoch 7/30\n",
      "120/120 [==============================] - 11s 96ms/step - loss: 0.3365 - accuracy: 0.8870 - val_loss: 0.3907 - val_accuracy: 0.8625\n",
      "Epoch 8/30\n",
      "120/120 [==============================] - 12s 98ms/step - loss: 0.2674 - accuracy: 0.9083 - val_loss: 0.5587 - val_accuracy: 0.8688\n",
      "Epoch 9/30\n",
      "120/120 [==============================] - 12s 104ms/step - loss: 0.2315 - accuracy: 0.9253 - val_loss: 0.3410 - val_accuracy: 0.8958\n",
      "Epoch 10/30\n",
      "120/120 [==============================] - 12s 100ms/step - loss: 0.1764 - accuracy: 0.9440 - val_loss: 0.6269 - val_accuracy: 0.8521\n",
      "Epoch 11/30\n",
      "120/120 [==============================] - 12s 100ms/step - loss: 0.1577 - accuracy: 0.9521 - val_loss: 0.4128 - val_accuracy: 0.8938\n",
      "Epoch 12/30\n",
      "120/120 [==============================] - 12s 101ms/step - loss: 0.1426 - accuracy: 0.9630 - val_loss: 0.2657 - val_accuracy: 0.9313\n",
      "Epoch 13/30\n",
      "120/120 [==============================] - 13s 105ms/step - loss: 0.1137 - accuracy: 0.9708 - val_loss: 0.4391 - val_accuracy: 0.9229\n",
      "Epoch 14/30\n",
      "120/120 [==============================] - 13s 106ms/step - loss: 0.1033 - accuracy: 0.9740 - val_loss: 0.6096 - val_accuracy: 0.9313\n",
      "Epoch 15/30\n",
      "120/120 [==============================] - 12s 102ms/step - loss: 0.1223 - accuracy: 0.9714 - val_loss: 0.2882 - val_accuracy: 0.9375\n",
      "Epoch 16/30\n",
      "120/120 [==============================] - 12s 104ms/step - loss: 0.0978 - accuracy: 0.9766 - val_loss: 0.3977 - val_accuracy: 0.9250\n",
      "Epoch 17/30\n",
      "120/120 [==============================] - 14s 114ms/step - loss: 0.0881 - accuracy: 0.9797 - val_loss: 0.8634 - val_accuracy: 0.8875\n",
      "Epoch 18/30\n",
      "120/120 [==============================] - 13s 105ms/step - loss: 0.0926 - accuracy: 0.9753 - val_loss: 0.3313 - val_accuracy: 0.9333\n",
      "Epoch 19/30\n",
      "120/120 [==============================] - 13s 105ms/step - loss: 0.0830 - accuracy: 0.9826 - val_loss: 0.5062 - val_accuracy: 0.9292\n",
      "Epoch 20/30\n",
      "120/120 [==============================] - 13s 107ms/step - loss: 0.0799 - accuracy: 0.9865 - val_loss: 0.3980 - val_accuracy: 0.9063\n",
      "Epoch 21/30\n",
      "120/120 [==============================] - 13s 108ms/step - loss: 0.0920 - accuracy: 0.9833 - val_loss: 0.2605 - val_accuracy: 0.9333\n",
      "Epoch 22/30\n",
      "120/120 [==============================] - 13s 107ms/step - loss: 0.0733 - accuracy: 0.9870 - val_loss: 0.3455 - val_accuracy: 0.9438\n",
      "Epoch 23/30\n",
      "120/120 [==============================] - 13s 110ms/step - loss: 0.0666 - accuracy: 0.9859 - val_loss: 0.2980 - val_accuracy: 0.9375\n",
      "Epoch 24/30\n",
      "120/120 [==============================] - 13s 111ms/step - loss: 0.0729 - accuracy: 0.9885 - val_loss: 0.3331 - val_accuracy: 0.9542\n",
      "Epoch 25/30\n",
      "120/120 [==============================] - 13s 111ms/step - loss: 0.0607 - accuracy: 0.9885 - val_loss: 0.2855 - val_accuracy: 0.9604\n",
      "Epoch 26/30\n",
      "120/120 [==============================] - 13s 107ms/step - loss: 0.1315 - accuracy: 0.9836 - val_loss: 0.3706 - val_accuracy: 0.9354\n",
      "Epoch 27/30\n",
      "120/120 [==============================] - 14s 113ms/step - loss: 0.0644 - accuracy: 0.9872 - val_loss: 0.4295 - val_accuracy: 0.9313\n",
      "Epoch 28/30\n",
      "120/120 [==============================] - 14s 114ms/step - loss: 0.0519 - accuracy: 0.9896 - val_loss: 0.3661 - val_accuracy: 0.9417\n",
      "Epoch 29/30\n",
      "120/120 [==============================] - 14s 117ms/step - loss: 0.0694 - accuracy: 0.9896 - val_loss: 0.5492 - val_accuracy: 0.9375\n",
      "Epoch 30/30\n",
      "120/120 [==============================] - 14s 115ms/step - loss: 0.0663 - accuracy: 0.9865 - val_loss: 0.3429 - val_accuracy: 0.9521\n"
     ]
    }
   ],
   "source": [
    "# adding l2 regularization\n",
    "regularizer = keras.regularizers.L2(0.00002)\n",
    "\n",
    "inputs = keras.Input(shape=(100, 100, 3))\n",
    "x = inputs\n",
    "x = layers.Rescaling(1./255)(x)\n",
    "x = layers.Conv2D(32, 3, activation='relu')(x)\n",
    "x = layers.Conv2D(32, 3, activation='relu')(x)\n",
    "x = layers.Conv2D(32, 3, activation='relu')(x)\n",
    "x = layers.MaxPooling2D(2)(x)\n",
    "x = layers.Conv2D(64, 3, activation='relu')(x)\n",
    "x = layers.Conv2D(64, 3, activation='relu')(x)\n",
    "x = layers.MaxPooling2D(2)(x)\n",
    "x = layers.Conv2D(128, 3, activation='relu')(x)\n",
    "x = layers.Conv2D(128, 3, activation='relu')(x)\n",
    "x = layers.MaxPooling2D(2)(x)\n",
    "x = layers.Conv2D(256, 3, activation='relu', kernel_regularizer=regularizer)(x)\n",
    "x = layers.Conv2D(256, 3, activation='relu', kernel_regularizer=regularizer)(x)\n",
    "x = layers.GlobalAveragePooling2D()(x)\n",
    "\n",
    "x = layers.Dropout(0.5)(x)\n",
    "\n",
    "outputs = layers.Dense(6, activation='softmax')(x)\n",
    "\n",
    "model_3_1 = keras.Model(inputs, outputs)\n",
    "\n",
    "model_3_1.compile(optimizer=keras.optimizers.RMSprop(0.001), loss='sparse_categorical_crossentropy', metrics=['accuracy'])\n",
    "\n",
    "model_3_1.summary()\n",
    "\n",
    "history_3_1 = model_3_1.fit(\n",
    "  train,\n",
    "  epochs=30,\n",
    "  validation_data=val\n",
    ")"
   ]
  },
  {
   "cell_type": "code",
   "execution_count": 46,
   "metadata": {},
   "outputs": [
    {
     "data": {
      "image/png": "[encoded data removed]",
      "text/plain": [
       "<Figure size 432x288 with 1 Axes>"
      ]
     },
     "metadata": {
      "needs_background": "light"
     },
     "output_type": "display_data"
    },
    {
     "data": {
      "image/png": "[encoded data removed]",
      "text/plain": [
       "<Figure size 432x288 with 1 Axes>"
      ]
     },
     "metadata": {
      "needs_background": "light"
     },
     "output_type": "display_data"
    }
   ],
   "source": [
    "plot_loss(history_3_1)\n",
    "plot_acc(history_3_1)"
   ]
  },
  {
   "cell_type": "markdown",
   "metadata": {},
   "source": [
    "> Using an L2 regularizer with a value of 0.00002 for the last two Conv2D layer of size 256 gives quite good results and the model even crosses 96% validation accuracies, although not reaching the peak accuracy of 96.67% from section 1. So an extremely low regularizer value could be used in the best model. The ideal learning rate is found to be the default, 0.01. "
   ]
  },
  {
   "cell_type": "markdown",
   "metadata": {},
   "source": [
    "---\n",
    "\n",
    "*Highest Observed Validation Accuracy*: **96.04%**\n",
    "\n",
    "---"
   ]
  },
  {
   "cell_type": "markdown",
   "metadata": {},
   "source": [
    "## 4. Adding residuals and batch normalization"
   ]
  },
  {
   "cell_type": "markdown",
   "metadata": {},
   "source": [
    "> This is a new model which uses residuals and batch normalization to see if they help improve model performance. The architecture is quite similar to the best model so far, with the addition of two Conv2D layers of size 512 at the end. A regularizer is also included."
   ]
  },
  {
   "cell_type": "code",
   "execution_count": 48,
   "metadata": {},
   "outputs": [
    {
     "name": "stdout",
     "output_type": "stream",
     "text": [
      "Model: \"model_34\"\n",
      "__________________________________________________________________________________________________\n",
      " Layer (type)                   Output Shape         Param #     Connected to                     \n",
      "==================================================================================================\n",
      " input_35 (InputLayer)          [(None, 100, 100, 3  0           []                               \n",
      "                                )]                                                                \n",
      "                                                                                                  \n",
      " rescaling_32 (Rescaling)       (None, 100, 100, 3)  0           ['input_35[0][0]']               \n",
      "                                                                                                  \n",
      " conv2d_303 (Conv2D)            (None, 98, 98, 32)   864         ['rescaling_32[0][0]']           \n",
      "                                                                                                  \n",
      " batch_normalization_10 (BatchN  (None, 98, 98, 32)  128         ['conv2d_303[0][0]']             \n",
      " ormalization)                                                                                    \n",
      "                                                                                                  \n",
      " activation_10 (Activation)     (None, 98, 98, 32)   0           ['batch_normalization_10[0][0]'] \n",
      "                                                                                                  \n",
      " conv2d_304 (Conv2D)            (None, 98, 98, 32)   9216        ['activation_10[0][0]']          \n",
      "                                                                                                  \n",
      " batch_normalization_11 (BatchN  (None, 98, 98, 32)  128         ['conv2d_304[0][0]']             \n",
      " ormalization)                                                                                    \n",
      "                                                                                                  \n",
      " activation_11 (Activation)     (None, 98, 98, 32)   0           ['batch_normalization_11[0][0]'] \n",
      "                                                                                                  \n",
      " conv2d_305 (Conv2D)            (None, 98, 98, 32)   9216        ['activation_11[0][0]']          \n",
      "                                                                                                  \n",
      " max_pooling2d_104 (MaxPooling2  (None, 49, 49, 32)  0           ['conv2d_305[0][0]']             \n",
      " D)                                                                                               \n",
      "                                                                                                  \n",
      " conv2d_306 (Conv2D)            (None, 49, 49, 32)   1024        ['conv2d_303[0][0]']             \n",
      "                                                                                                  \n",
      " add_5 (Add)                    (None, 49, 49, 32)   0           ['max_pooling2d_104[0][0]',      \n",
      "                                                                  'conv2d_306[0][0]']             \n",
      "                                                                                                  \n",
      " batch_normalization_12 (BatchN  (None, 49, 49, 32)  128         ['add_5[0][0]']                  \n",
      " ormalization)                                                                                    \n",
      "                                                                                                  \n",
      " activation_12 (Activation)     (None, 49, 49, 32)   0           ['batch_normalization_12[0][0]'] \n",
      "                                                                                                  \n",
      " conv2d_307 (Conv2D)            (None, 49, 49, 64)   18432       ['activation_12[0][0]']          \n",
      "                                                                                                  \n",
      " batch_normalization_13 (BatchN  (None, 49, 49, 64)  256         ['conv2d_307[0][0]']             \n",
      " ormalization)                                                                                    \n",
      "                                                                                                  \n",
      " activation_13 (Activation)     (None, 49, 49, 64)   0           ['batch_normalization_13[0][0]'] \n",
      "                                                                                                  \n",
      " conv2d_308 (Conv2D)            (None, 49, 49, 64)   36864       ['activation_13[0][0]']          \n",
      "                                                                                                  \n",
      " max_pooling2d_105 (MaxPooling2  (None, 25, 25, 64)  0           ['conv2d_308[0][0]']             \n",
      " D)                                                                                               \n",
      "                                                                                                  \n",
      " conv2d_309 (Conv2D)            (None, 25, 25, 64)   2048        ['add_5[0][0]']                  \n",
      "                                                                                                  \n",
      " add_6 (Add)                    (None, 25, 25, 64)   0           ['max_pooling2d_105[0][0]',      \n",
      "                                                                  'conv2d_309[0][0]']             \n",
      "                                                                                                  \n",
      " batch_normalization_14 (BatchN  (None, 25, 25, 64)  256         ['add_6[0][0]']                  \n",
      " ormalization)                                                                                    \n",
      "                                                                                                  \n",
      " activation_14 (Activation)     (None, 25, 25, 64)   0           ['batch_normalization_14[0][0]'] \n",
      "                                                                                                  \n",
      " conv2d_310 (Conv2D)            (None, 25, 25, 128)  73728       ['activation_14[0][0]']          \n",
      "                                                                                                  \n",
      " batch_normalization_15 (BatchN  (None, 25, 25, 128)  512        ['conv2d_310[0][0]']             \n",
      " ormalization)                                                                                    \n",
      "                                                                                                  \n",
      " activation_15 (Activation)     (None, 25, 25, 128)  0           ['batch_normalization_15[0][0]'] \n",
      "                                                                                                  \n",
      " conv2d_311 (Conv2D)            (None, 25, 25, 128)  147456      ['activation_15[0][0]']          \n",
      "                                                                                                  \n",
      " max_pooling2d_106 (MaxPooling2  (None, 13, 13, 128)  0          ['conv2d_311[0][0]']             \n",
      " D)                                                                                               \n",
      "                                                                                                  \n",
      " conv2d_312 (Conv2D)            (None, 13, 13, 128)  8192        ['add_6[0][0]']                  \n",
      "                                                                                                  \n",
      " add_7 (Add)                    (None, 13, 13, 128)  0           ['max_pooling2d_106[0][0]',      \n",
      "                                                                  'conv2d_312[0][0]']             \n",
      "                                                                                                  \n",
      " batch_normalization_16 (BatchN  (None, 13, 13, 128)  512        ['add_7[0][0]']                  \n",
      " ormalization)                                                                                    \n",
      "                                                                                                  \n",
      " activation_16 (Activation)     (None, 13, 13, 128)  0           ['batch_normalization_16[0][0]'] \n",
      "                                                                                                  \n",
      " conv2d_313 (Conv2D)            (None, 13, 13, 256)  294912      ['activation_16[0][0]']          \n",
      "                                                                                                  \n",
      " batch_normalization_17 (BatchN  (None, 13, 13, 256)  1024       ['conv2d_313[0][0]']             \n",
      " ormalization)                                                                                    \n",
      "                                                                                                  \n",
      " activation_17 (Activation)     (None, 13, 13, 256)  0           ['batch_normalization_17[0][0]'] \n",
      "                                                                                                  \n",
      " conv2d_314 (Conv2D)            (None, 13, 13, 256)  589824      ['activation_17[0][0]']          \n",
      "                                                                                                  \n",
      " max_pooling2d_107 (MaxPooling2  (None, 7, 7, 256)   0           ['conv2d_314[0][0]']             \n",
      " D)                                                                                               \n",
      "                                                                                                  \n",
      " conv2d_315 (Conv2D)            (None, 7, 7, 256)    32768       ['add_7[0][0]']                  \n",
      "                                                                                                  \n",
      " add_8 (Add)                    (None, 7, 7, 256)    0           ['max_pooling2d_107[0][0]',      \n",
      "                                                                  'conv2d_315[0][0]']             \n",
      "                                                                                                  \n",
      " batch_normalization_18 (BatchN  (None, 7, 7, 256)   1024        ['add_8[0][0]']                  \n",
      " ormalization)                                                                                    \n",
      "                                                                                                  \n",
      " activation_18 (Activation)     (None, 7, 7, 256)    0           ['batch_normalization_18[0][0]'] \n",
      "                                                                                                  \n",
      " conv2d_316 (Conv2D)            (None, 7, 7, 512)    1179648     ['activation_18[0][0]']          \n",
      "                                                                                                  \n",
      " batch_normalization_19 (BatchN  (None, 7, 7, 512)   2048        ['conv2d_316[0][0]']             \n",
      " ormalization)                                                                                    \n",
      "                                                                                                  \n",
      " activation_19 (Activation)     (None, 7, 7, 512)    0           ['batch_normalization_19[0][0]'] \n",
      "                                                                                                  \n",
      " conv2d_317 (Conv2D)            (None, 7, 7, 512)    2359296     ['activation_19[0][0]']          \n",
      "                                                                                                  \n",
      " max_pooling2d_108 (MaxPooling2  (None, 4, 4, 512)   0           ['conv2d_317[0][0]']             \n",
      " D)                                                                                               \n",
      "                                                                                                  \n",
      " conv2d_318 (Conv2D)            (None, 4, 4, 512)    131072      ['add_8[0][0]']                  \n",
      "                                                                                                  \n",
      " add_9 (Add)                    (None, 4, 4, 512)    0           ['max_pooling2d_108[0][0]',      \n",
      "                                                                  'conv2d_318[0][0]']             \n",
      "                                                                                                  \n",
      " global_average_pooling2d_32 (G  (None, 512)         0           ['add_9[0][0]']                  \n",
      " lobalAveragePooling2D)                                                                           \n",
      "                                                                                                  \n",
      " dropout_34 (Dropout)           (None, 512)          0           ['global_average_pooling2d_32[0][\n",
      "                                                                 0]']                             \n",
      "                                                                                                  \n",
      " dense_34 (Dense)               (None, 6)            3078        ['dropout_34[0][0]']             \n",
      "                                                                                                  \n",
      "==================================================================================================\n",
      "Total params: 4,903,654\n",
      "Trainable params: 4,900,646\n",
      "Non-trainable params: 3,008\n",
      "__________________________________________________________________________________________________\n",
      "Epoch 1/30\n"
     ]
    },
    {
     "name": "stderr",
     "output_type": "stream",
     "text": [
      "2022-08-31 02:01:52.872243: I tensorflow/core/grappler/optimizers/custom_graph_optimizer_registry.cc:112] Plugin optimizer for device_type GPU is enabled.\n"
     ]
    },
    {
     "name": "stdout",
     "output_type": "stream",
     "text": [
      "120/120 [==============================] - ETA: 0s - loss: 4.9677 - accuracy: 0.4073"
     ]
    },
    {
     "name": "stderr",
     "output_type": "stream",
     "text": [
      "2022-08-31 02:02:20.422110: I tensorflow/core/grappler/optimizers/custom_graph_optimizer_registry.cc:112] Plugin optimizer for device_type GPU is enabled.\n"
     ]
    },
    {
     "name": "stdout",
     "output_type": "stream",
     "text": [
      "120/120 [==============================] - 29s 216ms/step - loss: 4.9677 - accuracy: 0.4073 - val_loss: 7.0240 - val_accuracy: 0.1667\n",
      "Epoch 2/30\n",
      "120/120 [==============================] - 25s 209ms/step - loss: 1.4762 - accuracy: 0.6404 - val_loss: 5.0053 - val_accuracy: 0.1667\n",
      "Epoch 3/30\n",
      "120/120 [==============================] - 25s 209ms/step - loss: 0.8189 - accuracy: 0.7458 - val_loss: 4.6339 - val_accuracy: 0.2438\n",
      "Epoch 4/30\n",
      "120/120 [==============================] - 26s 215ms/step - loss: 0.5840 - accuracy: 0.8266 - val_loss: 1.9072 - val_accuracy: 0.5250\n",
      "Epoch 5/30\n",
      "120/120 [==============================] - 26s 219ms/step - loss: 0.4187 - accuracy: 0.8771 - val_loss: 0.7909 - val_accuracy: 0.7542\n",
      "Epoch 6/30\n",
      "120/120 [==============================] - 26s 219ms/step - loss: 0.2853 - accuracy: 0.9242 - val_loss: 1.1685 - val_accuracy: 0.7063\n",
      "Epoch 7/30\n",
      "120/120 [==============================] - 26s 220ms/step - loss: 0.2777 - accuracy: 0.9380 - val_loss: 1.0957 - val_accuracy: 0.7604\n",
      "Epoch 8/30\n",
      "120/120 [==============================] - 28s 229ms/step - loss: 0.2012 - accuracy: 0.9516 - val_loss: 6.1452 - val_accuracy: 0.4688\n",
      "Epoch 9/30\n",
      "120/120 [==============================] - 28s 237ms/step - loss: 0.1863 - accuracy: 0.9539 - val_loss: 1.6699 - val_accuracy: 0.7042\n",
      "Epoch 10/30\n",
      "120/120 [==============================] - 29s 241ms/step - loss: 0.1632 - accuracy: 0.9674 - val_loss: 0.7507 - val_accuracy: 0.7646\n",
      "Epoch 11/30\n",
      "120/120 [==============================] - 32s 266ms/step - loss: 0.1445 - accuracy: 0.9745 - val_loss: 8.7634 - val_accuracy: 0.4958\n",
      "Epoch 12/30\n",
      "120/120 [==============================] - 34s 282ms/step - loss: 0.1578 - accuracy: 0.9711 - val_loss: 0.5878 - val_accuracy: 0.9146\n",
      "Epoch 13/30\n",
      "120/120 [==============================] - 33s 271ms/step - loss: 0.1350 - accuracy: 0.9771 - val_loss: 0.5594 - val_accuracy: 0.9083\n",
      "Epoch 14/30\n",
      "120/120 [==============================] - 33s 274ms/step - loss: 0.1358 - accuracy: 0.9760 - val_loss: 3.8918 - val_accuracy: 0.7188\n",
      "Epoch 15/30\n",
      "120/120 [==============================] - 35s 291ms/step - loss: 0.1346 - accuracy: 0.9789 - val_loss: 2.0994 - val_accuracy: 0.7396\n",
      "Epoch 16/30\n",
      "120/120 [==============================] - 32s 266ms/step - loss: 0.1416 - accuracy: 0.9792 - val_loss: 2.9852 - val_accuracy: 0.7521\n",
      "Epoch 17/30\n",
      "120/120 [==============================] - 32s 270ms/step - loss: 0.1043 - accuracy: 0.9841 - val_loss: 1.4189 - val_accuracy: 0.8521\n",
      "Epoch 18/30\n",
      "120/120 [==============================] - 32s 270ms/step - loss: 0.1386 - accuracy: 0.9815 - val_loss: 0.7282 - val_accuracy: 0.8938\n",
      "Epoch 19/30\n",
      "120/120 [==============================] - 33s 272ms/step - loss: 0.1138 - accuracy: 0.9859 - val_loss: 12.4677 - val_accuracy: 0.3000\n",
      "Epoch 20/30\n",
      "120/120 [==============================] - 33s 272ms/step - loss: 0.1067 - accuracy: 0.9846 - val_loss: 4.7530 - val_accuracy: 0.6313\n",
      "Epoch 21/30\n",
      "120/120 [==============================] - 33s 272ms/step - loss: 0.0974 - accuracy: 0.9859 - val_loss: 2.0426 - val_accuracy: 0.7729\n",
      "Epoch 22/30\n",
      "120/120 [==============================] - 35s 290ms/step - loss: 0.0974 - accuracy: 0.9870 - val_loss: 7.7542 - val_accuracy: 0.6458\n",
      "Epoch 23/30\n",
      "120/120 [==============================] - 32s 266ms/step - loss: 0.0997 - accuracy: 0.9875 - val_loss: 0.4705 - val_accuracy: 0.9396\n",
      "Epoch 24/30\n",
      "120/120 [==============================] - 32s 268ms/step - loss: 0.0783 - accuracy: 0.9901 - val_loss: 1.6381 - val_accuracy: 0.8396\n",
      "Epoch 25/30\n",
      "120/120 [==============================] - 32s 270ms/step - loss: 0.0959 - accuracy: 0.9898 - val_loss: 0.6407 - val_accuracy: 0.9000\n",
      "Epoch 26/30\n",
      "120/120 [==============================] - 33s 273ms/step - loss: 0.0929 - accuracy: 0.9870 - val_loss: 0.4287 - val_accuracy: 0.9417\n",
      "Epoch 27/30\n",
      "120/120 [==============================] - 33s 272ms/step - loss: 0.0696 - accuracy: 0.9914 - val_loss: 0.9357 - val_accuracy: 0.9063\n",
      "Epoch 28/30\n",
      "120/120 [==============================] - 33s 273ms/step - loss: 0.0906 - accuracy: 0.9896 - val_loss: 0.4287 - val_accuracy: 0.9417\n",
      "Epoch 29/30\n",
      "120/120 [==============================] - 33s 273ms/step - loss: 0.0620 - accuracy: 0.9924 - val_loss: 1.9495 - val_accuracy: 0.8458\n",
      "Epoch 30/30\n",
      "120/120 [==============================] - 32s 270ms/step - loss: 0.0972 - accuracy: 0.9875 - val_loss: 6.6595 - val_accuracy: 0.5875\n"
     ]
    }
   ],
   "source": [
    "# The code below was inspired from the book Deep Learning with Python by Francois Chollet (Second Edition) Chapter 9, page 260. The original code is tweaked to work with a different model architecture from this project.\n",
    "\n",
    "inputs = keras.Input(shape=(100, 100, 3))\n",
    "x = inputs\n",
    "x = layers.Rescaling(1./255)(x)\n",
    "regularizer = keras.regularizers.L2(0.00002)\n",
    "\n",
    "x = layers.Conv2D(filters=32, kernel_size=3, use_bias=False)(x)\n",
    "\n",
    "for size in [32, 64, 128, 256, 512]:\n",
    "  residual = x\n",
    "  x = layers.BatchNormalization()(x)\n",
    "  x = layers.Activation(\"relu\")(x)\n",
    "  if size == 512:\n",
    "    x = layers.Conv2D(size, 3, padding=\"same\", use_bias=False, kernel_regularizer=regularizer)(x)  \n",
    "  else:\n",
    "    x = layers.Conv2D(size, 3, padding=\"same\", use_bias=False)(x)\n",
    "  x = layers.BatchNormalization()(x)\n",
    "  x = layers.Activation(\"relu\")(x)\n",
    "  if size == 512:\n",
    "    x = layers.Conv2D(size, 3, padding=\"same\", use_bias=False, kernel_regularizer=regularizer)(x)  \n",
    "  else:\n",
    "    x = layers.Conv2D(size, 3, padding=\"same\", use_bias=False)(x)\n",
    "  x = layers.MaxPooling2D(3, strides=2, padding=\"same\")(x)\n",
    "  residual = layers.Conv2D(size, 1, strides=2, padding=\"same\", use_bias=False)(residual)\n",
    "  x = layers.add([x, residual])\n",
    "\n",
    "x = layers.GlobalAveragePooling2D()(x)\n",
    "x = layers.Dropout(0.3)(x)\n",
    "outputs = layers.Dense(6, activation='softmax')(x)\n",
    "\n",
    "model_4_1 = keras.Model(inputs, outputs)\n",
    "\n",
    "model_4_1.compile(optimizer=keras.optimizers.RMSprop(0.001), loss='sparse_categorical_crossentropy', metrics=['accuracy'])\n",
    "\n",
    "model_4_1.summary()\n",
    "\n",
    "history_4_1 = model_4_1.fit(\n",
    "  train,\n",
    "  epochs=30,\n",
    "  validation_data=val\n",
    ")"
   ]
  },
  {
   "cell_type": "code",
   "execution_count": 49,
   "metadata": {},
   "outputs": [
    {
     "data": {
      "image/png": "[encoded data removed]",
      "text/plain": [
       "<Figure size 432x288 with 1 Axes>"
      ]
     },
     "metadata": {
      "needs_background": "light"
     },
     "output_type": "display_data"
    },
    {
     "data": {
      "image/png": "[encoded data removed]",
      "text/plain": [
       "<Figure size 432x288 with 1 Axes>"
      ]
     },
     "metadata": {
      "needs_background": "light"
     },
     "output_type": "display_data"
    }
   ],
   "source": [
    "plot_loss(history_4_1)\n",
    "plot_acc(history_4_1)"
   ]
  },
  {
   "cell_type": "markdown",
   "metadata": {},
   "source": [
    "> While this model gives validation accuracies as high as around 94%, it is quite unstable in nature as apparent from the graphs above, and it also does not justify its huge size since it does not cross peak validation accuracies of the best model so far."
   ]
  },
  {
   "cell_type": "markdown",
   "metadata": {},
   "source": [
    "---\n",
    "\n",
    "*Highest Observed Validation Accuracy*: **94.17%**\n",
    "\n",
    "---"
   ]
  },
  {
   "cell_type": "markdown",
   "metadata": {},
   "source": [
    "## 5. Experimenting with data augmentation"
   ]
  },
  {
   "cell_type": "markdown",
   "metadata": {},
   "source": [
    "> In this section, the subject of experimentation will be data augmentation. A small model which gives extremely high validation accuracies is used as a benchmark to apply data augmentation and see if it helps. The learning rate will be increased to 0.009 and the number of epochs will be increased to 100, in order to compensate for data augmentation hindering faster overfitting. "
   ]
  },
  {
   "cell_type": "code",
   "execution_count": 62,
   "metadata": {},
   "outputs": [],
   "source": [
    "# Using this method for M1 Mac CPU acces to run augmentation\n",
    "with tf.device('/cpu:0'):\n",
    "  data_augmentation = keras.Sequential(\n",
    "  [\n",
    "      # Defining the augmentation params\n",
    "      layers.RandomFlip(\"horizontal\"),\n",
    "      layers.RandomRotation(0.1),\n",
    "      layers.RandomZoom(0.2)\n",
    "  ] \n",
    "  )"
   ]
  },
  {
   "cell_type": "code",
   "execution_count": 64,
   "metadata": {},
   "outputs": [
    {
     "name": "stdout",
     "output_type": "stream",
     "text": [
      "Model: \"model_45\"\n",
      "_________________________________________________________________\n",
      " Layer (type)                Output Shape              Param #   \n",
      "=================================================================\n",
      " input_46 (InputLayer)       [(None, 100, 100, 3)]     0         \n",
      "                                                                 \n",
      " sequential_1 (Sequential)   (None, 100, 100, 3)       0         \n",
      "                                                                 \n",
      " rescaling_43 (Rescaling)    (None, 100, 100, 3)       0         \n",
      "                                                                 \n",
      " conv2d_384 (Conv2D)         (None, 98, 98, 16)        448       \n",
      "                                                                 \n",
      " max_pooling2d_139 (MaxPooli  (None, 49, 49, 16)       0         \n",
      " ng2D)                                                           \n",
      "                                                                 \n",
      " conv2d_385 (Conv2D)         (None, 47, 47, 32)        4640      \n",
      "                                                                 \n",
      " max_pooling2d_140 (MaxPooli  (None, 23, 23, 32)       0         \n",
      " ng2D)                                                           \n",
      "                                                                 \n",
      " conv2d_386 (Conv2D)         (None, 21, 21, 32)        9248      \n",
      "                                                                 \n",
      " max_pooling2d_141 (MaxPooli  (None, 10, 10, 32)       0         \n",
      " ng2D)                                                           \n",
      "                                                                 \n",
      " conv2d_387 (Conv2D)         (None, 8, 8, 32)          9248      \n",
      "                                                                 \n",
      " global_average_pooling2d_43  (None, 32)               0         \n",
      "  (GlobalAveragePooling2D)                                       \n",
      "                                                                 \n",
      " dropout_45 (Dropout)        (None, 32)                0         \n",
      "                                                                 \n",
      " dense_45 (Dense)            (None, 6)                 198       \n",
      "                                                                 \n",
      "=================================================================\n",
      "Total params: 23,782\n",
      "Trainable params: 23,782\n",
      "Non-trainable params: 0\n",
      "_________________________________________________________________\n",
      "Epoch 1/100\n"
     ]
    },
    {
     "name": "stderr",
     "output_type": "stream",
     "text": [
      "2022-08-31 03:29:57.460652: I tensorflow/core/grappler/optimizers/custom_graph_optimizer_registry.cc:112] Plugin optimizer for device_type GPU is enabled.\n"
     ]
    },
    {
     "name": "stdout",
     "output_type": "stream",
     "text": [
      "119/120 [============================>.] - ETA: 0s - loss: 1.7827 - accuracy: 0.1846"
     ]
    },
    {
     "name": "stderr",
     "output_type": "stream",
     "text": [
      "2022-08-31 03:30:04.255809: I tensorflow/core/grappler/optimizers/custom_graph_optimizer_registry.cc:112] Plugin optimizer for device_type GPU is enabled.\n"
     ]
    },
    {
     "name": "stdout",
     "output_type": "stream",
     "text": [
      "120/120 [==============================] - 8s 48ms/step - loss: 1.7822 - accuracy: 0.1852 - val_loss: 1.7504 - val_accuracy: 0.2500\n",
      "Epoch 2/100\n",
      "120/120 [==============================] - 6s 47ms/step - loss: 1.7101 - accuracy: 0.2607 - val_loss: 1.6656 - val_accuracy: 0.3271\n",
      "Epoch 3/100\n",
      "120/120 [==============================] - 5s 45ms/step - loss: 1.6439 - accuracy: 0.2995 - val_loss: 1.5730 - val_accuracy: 0.3896\n",
      "Epoch 4/100\n",
      "120/120 [==============================] - 5s 44ms/step - loss: 1.5794 - accuracy: 0.3367 - val_loss: 1.5069 - val_accuracy: 0.4146\n",
      "Epoch 5/100\n",
      "120/120 [==============================] - 5s 45ms/step - loss: 1.5263 - accuracy: 0.3693 - val_loss: 1.4605 - val_accuracy: 0.4208\n",
      "Epoch 6/100\n",
      "120/120 [==============================] - 5s 45ms/step - loss: 1.4765 - accuracy: 0.4029 - val_loss: 1.3678 - val_accuracy: 0.4917\n",
      "Epoch 7/100\n",
      "120/120 [==============================] - 5s 45ms/step - loss: 1.4242 - accuracy: 0.4305 - val_loss: 1.2789 - val_accuracy: 0.5125\n",
      "Epoch 8/100\n",
      "120/120 [==============================] - 5s 46ms/step - loss: 1.3783 - accuracy: 0.4633 - val_loss: 1.2077 - val_accuracy: 0.5521\n",
      "Epoch 9/100\n",
      "120/120 [==============================] - 6s 48ms/step - loss: 1.3364 - accuracy: 0.4789 - val_loss: 1.3701 - val_accuracy: 0.4292\n",
      "Epoch 10/100\n",
      "120/120 [==============================] - 6s 46ms/step - loss: 1.2951 - accuracy: 0.4966 - val_loss: 1.2240 - val_accuracy: 0.5375\n",
      "Epoch 11/100\n",
      "120/120 [==============================] - 6s 46ms/step - loss: 1.2611 - accuracy: 0.5185 - val_loss: 1.1485 - val_accuracy: 0.5813\n",
      "Epoch 12/100\n",
      "120/120 [==============================] - 5s 45ms/step - loss: 1.2140 - accuracy: 0.5253 - val_loss: 1.0124 - val_accuracy: 0.6563\n",
      "Epoch 13/100\n",
      "120/120 [==============================] - 5s 46ms/step - loss: 1.1890 - accuracy: 0.5302 - val_loss: 1.2315 - val_accuracy: 0.5271\n",
      "Epoch 14/100\n",
      "120/120 [==============================] - 6s 46ms/step - loss: 1.1537 - accuracy: 0.5615 - val_loss: 1.1182 - val_accuracy: 0.5771\n",
      "Epoch 15/100\n",
      "120/120 [==============================] - 5s 45ms/step - loss: 1.1343 - accuracy: 0.5622 - val_loss: 1.1823 - val_accuracy: 0.5667\n",
      "Epoch 16/100\n",
      "120/120 [==============================] - 5s 46ms/step - loss: 1.1008 - accuracy: 0.5719 - val_loss: 0.9496 - val_accuracy: 0.6688\n",
      "Epoch 17/100\n",
      "120/120 [==============================] - 5s 45ms/step - loss: 1.0715 - accuracy: 0.5807 - val_loss: 0.9380 - val_accuracy: 0.6604\n",
      "Epoch 18/100\n",
      "120/120 [==============================] - 6s 46ms/step - loss: 1.0445 - accuracy: 0.5990 - val_loss: 0.9022 - val_accuracy: 0.6688\n",
      "Epoch 19/100\n",
      "120/120 [==============================] - 5s 46ms/step - loss: 1.0406 - accuracy: 0.5997 - val_loss: 0.9309 - val_accuracy: 0.6667\n",
      "Epoch 20/100\n",
      "120/120 [==============================] - 5s 45ms/step - loss: 1.0089 - accuracy: 0.6031 - val_loss: 0.8879 - val_accuracy: 0.6854\n",
      "Epoch 21/100\n",
      "120/120 [==============================] - 6s 46ms/step - loss: 0.9897 - accuracy: 0.6128 - val_loss: 0.9633 - val_accuracy: 0.6708\n",
      "Epoch 22/100\n",
      "120/120 [==============================] - 5s 45ms/step - loss: 0.9640 - accuracy: 0.6198 - val_loss: 0.8856 - val_accuracy: 0.6854\n",
      "Epoch 23/100\n",
      "120/120 [==============================] - 6s 46ms/step - loss: 0.9618 - accuracy: 0.6237 - val_loss: 0.8547 - val_accuracy: 0.6792\n",
      "Epoch 24/100\n",
      "120/120 [==============================] - 6s 46ms/step - loss: 0.9545 - accuracy: 0.6349 - val_loss: 0.9303 - val_accuracy: 0.6333\n",
      "Epoch 25/100\n",
      "120/120 [==============================] - 5s 45ms/step - loss: 0.9360 - accuracy: 0.6404 - val_loss: 0.8741 - val_accuracy: 0.6875\n",
      "Epoch 26/100\n",
      "120/120 [==============================] - 5s 46ms/step - loss: 0.9142 - accuracy: 0.6341 - val_loss: 0.8468 - val_accuracy: 0.7063\n",
      "Epoch 27/100\n",
      "120/120 [==============================] - 5s 44ms/step - loss: 0.9017 - accuracy: 0.6526 - val_loss: 0.8664 - val_accuracy: 0.6750\n",
      "Epoch 28/100\n",
      "120/120 [==============================] - 5s 45ms/step - loss: 0.8895 - accuracy: 0.6536 - val_loss: 0.8454 - val_accuracy: 0.6813\n",
      "Epoch 29/100\n",
      "120/120 [==============================] - 5s 46ms/step - loss: 0.8793 - accuracy: 0.6576 - val_loss: 0.8133 - val_accuracy: 0.6979\n",
      "Epoch 30/100\n",
      "120/120 [==============================] - 5s 45ms/step - loss: 0.8739 - accuracy: 0.6583 - val_loss: 0.9236 - val_accuracy: 0.6750\n",
      "Epoch 31/100\n",
      "120/120 [==============================] - 5s 45ms/step - loss: 0.8579 - accuracy: 0.6643 - val_loss: 0.9165 - val_accuracy: 0.6667\n",
      "Epoch 32/100\n",
      "120/120 [==============================] - 5s 45ms/step - loss: 0.8487 - accuracy: 0.6781 - val_loss: 0.8187 - val_accuracy: 0.7104\n",
      "Epoch 33/100\n",
      "120/120 [==============================] - 5s 45ms/step - loss: 0.8281 - accuracy: 0.6831 - val_loss: 0.8661 - val_accuracy: 0.7021\n",
      "Epoch 34/100\n",
      "120/120 [==============================] - 5s 46ms/step - loss: 0.8164 - accuracy: 0.6831 - val_loss: 0.8776 - val_accuracy: 0.6833\n",
      "Epoch 35/100\n",
      "120/120 [==============================] - 6s 46ms/step - loss: 0.7959 - accuracy: 0.6896 - val_loss: 0.9569 - val_accuracy: 0.6500\n",
      "Epoch 36/100\n",
      "120/120 [==============================] - 5s 45ms/step - loss: 0.7944 - accuracy: 0.6927 - val_loss: 0.9432 - val_accuracy: 0.6708\n",
      "Epoch 37/100\n",
      "120/120 [==============================] - 5s 46ms/step - loss: 0.7874 - accuracy: 0.6951 - val_loss: 0.7299 - val_accuracy: 0.7688\n",
      "Epoch 38/100\n",
      "120/120 [==============================] - 5s 45ms/step - loss: 0.7709 - accuracy: 0.7003 - val_loss: 1.0968 - val_accuracy: 0.6396\n",
      "Epoch 39/100\n",
      "120/120 [==============================] - 6s 46ms/step - loss: 0.7538 - accuracy: 0.7055 - val_loss: 0.9466 - val_accuracy: 0.7000\n",
      "Epoch 40/100\n",
      "120/120 [==============================] - 6s 46ms/step - loss: 0.7617 - accuracy: 0.7076 - val_loss: 0.7626 - val_accuracy: 0.7313\n",
      "Epoch 41/100\n",
      "120/120 [==============================] - 6s 48ms/step - loss: 0.7454 - accuracy: 0.7190 - val_loss: 0.7058 - val_accuracy: 0.7625\n",
      "Epoch 42/100\n",
      "120/120 [==============================] - 6s 47ms/step - loss: 0.7331 - accuracy: 0.7167 - val_loss: 0.8140 - val_accuracy: 0.7208\n",
      "Epoch 43/100\n",
      "120/120 [==============================] - 6s 47ms/step - loss: 0.7314 - accuracy: 0.7250 - val_loss: 0.8035 - val_accuracy: 0.7354\n",
      "Epoch 44/100\n",
      "120/120 [==============================] - 6s 46ms/step - loss: 0.7148 - accuracy: 0.7240 - val_loss: 0.7731 - val_accuracy: 0.7375\n",
      "Epoch 45/100\n",
      "120/120 [==============================] - 5s 45ms/step - loss: 0.7203 - accuracy: 0.7201 - val_loss: 0.9614 - val_accuracy: 0.7063\n",
      "Epoch 46/100\n",
      "120/120 [==============================] - 6s 49ms/step - loss: 0.7069 - accuracy: 0.7276 - val_loss: 1.1557 - val_accuracy: 0.6479\n",
      "Epoch 47/100\n",
      "120/120 [==============================] - 6s 47ms/step - loss: 0.7086 - accuracy: 0.7328 - val_loss: 0.7790 - val_accuracy: 0.7458\n",
      "Epoch 48/100\n",
      "120/120 [==============================] - 6s 48ms/step - loss: 0.6860 - accuracy: 0.7451 - val_loss: 0.7373 - val_accuracy: 0.7583\n",
      "Epoch 49/100\n",
      "120/120 [==============================] - 6s 46ms/step - loss: 0.6802 - accuracy: 0.7357 - val_loss: 1.1317 - val_accuracy: 0.6771\n",
      "Epoch 50/100\n",
      "120/120 [==============================] - 5s 45ms/step - loss: 0.6793 - accuracy: 0.7451 - val_loss: 1.2017 - val_accuracy: 0.6688\n",
      "Epoch 51/100\n",
      "120/120 [==============================] - 6s 46ms/step - loss: 0.6693 - accuracy: 0.7464 - val_loss: 0.8218 - val_accuracy: 0.7375\n",
      "Epoch 52/100\n",
      "120/120 [==============================] - 6s 46ms/step - loss: 0.6520 - accuracy: 0.7474 - val_loss: 0.8163 - val_accuracy: 0.7458\n",
      "Epoch 53/100\n",
      "120/120 [==============================] - 6s 50ms/step - loss: 0.6463 - accuracy: 0.7617 - val_loss: 0.7684 - val_accuracy: 0.7458\n",
      "Epoch 54/100\n",
      "120/120 [==============================] - 5s 45ms/step - loss: 0.6457 - accuracy: 0.7578 - val_loss: 0.9179 - val_accuracy: 0.7271\n",
      "Epoch 55/100\n",
      "120/120 [==============================] - 6s 46ms/step - loss: 0.6469 - accuracy: 0.7518 - val_loss: 0.7997 - val_accuracy: 0.7417\n",
      "Epoch 56/100\n",
      "120/120 [==============================] - 6s 47ms/step - loss: 0.6338 - accuracy: 0.7573 - val_loss: 0.7305 - val_accuracy: 0.7646\n",
      "Epoch 57/100\n",
      "120/120 [==============================] - 6s 48ms/step - loss: 0.6229 - accuracy: 0.7589 - val_loss: 0.7300 - val_accuracy: 0.7542\n",
      "Epoch 58/100\n",
      "120/120 [==============================] - 6s 48ms/step - loss: 0.6178 - accuracy: 0.7656 - val_loss: 0.9526 - val_accuracy: 0.7146\n",
      "Epoch 59/100\n",
      "120/120 [==============================] - 5s 46ms/step - loss: 0.6069 - accuracy: 0.7688 - val_loss: 0.8071 - val_accuracy: 0.7500\n",
      "Epoch 60/100\n",
      "120/120 [==============================] - 5s 46ms/step - loss: 0.6030 - accuracy: 0.7758 - val_loss: 1.3224 - val_accuracy: 0.6771\n",
      "Epoch 61/100\n",
      "120/120 [==============================] - 6s 46ms/step - loss: 0.5996 - accuracy: 0.7771 - val_loss: 0.5300 - val_accuracy: 0.8146\n",
      "Epoch 62/100\n",
      "120/120 [==============================] - 5s 46ms/step - loss: 0.5906 - accuracy: 0.7797 - val_loss: 0.6992 - val_accuracy: 0.7729\n",
      "Epoch 63/100\n",
      "120/120 [==============================] - 6s 46ms/step - loss: 0.5780 - accuracy: 0.7836 - val_loss: 1.2892 - val_accuracy: 0.6688\n",
      "Epoch 64/100\n",
      "120/120 [==============================] - 5s 45ms/step - loss: 0.5911 - accuracy: 0.7734 - val_loss: 1.1015 - val_accuracy: 0.7000\n",
      "Epoch 65/100\n",
      "120/120 [==============================] - 5s 46ms/step - loss: 0.5724 - accuracy: 0.7854 - val_loss: 0.8846 - val_accuracy: 0.7354\n",
      "Epoch 66/100\n",
      "120/120 [==============================] - 6s 47ms/step - loss: 0.5756 - accuracy: 0.7807 - val_loss: 0.8587 - val_accuracy: 0.7563\n",
      "Epoch 67/100\n",
      "120/120 [==============================] - 5s 46ms/step - loss: 0.5707 - accuracy: 0.7852 - val_loss: 0.6944 - val_accuracy: 0.7813\n",
      "Epoch 68/100\n",
      "120/120 [==============================] - 5s 43ms/step - loss: 0.5595 - accuracy: 0.7896 - val_loss: 1.1127 - val_accuracy: 0.7042\n",
      "Epoch 69/100\n",
      "120/120 [==============================] - 6s 49ms/step - loss: 0.5662 - accuracy: 0.7919 - val_loss: 0.9302 - val_accuracy: 0.7354\n",
      "Epoch 70/100\n",
      "120/120 [==============================] - 6s 49ms/step - loss: 0.5539 - accuracy: 0.7956 - val_loss: 0.6773 - val_accuracy: 0.7875\n",
      "Epoch 71/100\n",
      "120/120 [==============================] - 5s 43ms/step - loss: 0.5519 - accuracy: 0.7917 - val_loss: 0.7426 - val_accuracy: 0.7854\n",
      "Epoch 72/100\n",
      "120/120 [==============================] - 5s 43ms/step - loss: 0.5656 - accuracy: 0.7911 - val_loss: 0.6163 - val_accuracy: 0.8021\n",
      "Epoch 73/100\n",
      "120/120 [==============================] - 5s 44ms/step - loss: 0.5548 - accuracy: 0.7977 - val_loss: 0.9229 - val_accuracy: 0.7417\n",
      "Epoch 74/100\n",
      "120/120 [==============================] - 5s 43ms/step - loss: 0.5350 - accuracy: 0.8010 - val_loss: 0.7279 - val_accuracy: 0.7750\n",
      "Epoch 75/100\n",
      "120/120 [==============================] - 6s 47ms/step - loss: 0.5329 - accuracy: 0.8073 - val_loss: 0.6847 - val_accuracy: 0.7833\n",
      "Epoch 76/100\n",
      "120/120 [==============================] - 6s 49ms/step - loss: 0.5369 - accuracy: 0.8018 - val_loss: 0.9238 - val_accuracy: 0.7354\n",
      "Epoch 77/100\n",
      "120/120 [==============================] - 6s 46ms/step - loss: 0.5122 - accuracy: 0.8117 - val_loss: 0.9489 - val_accuracy: 0.7313\n",
      "Epoch 78/100\n",
      "120/120 [==============================] - 6s 46ms/step - loss: 0.5175 - accuracy: 0.8052 - val_loss: 0.6750 - val_accuracy: 0.7896\n",
      "Epoch 79/100\n",
      "120/120 [==============================] - 5s 46ms/step - loss: 0.5102 - accuracy: 0.8094 - val_loss: 0.8419 - val_accuracy: 0.7563\n",
      "Epoch 80/100\n",
      "120/120 [==============================] - 6s 46ms/step - loss: 0.5169 - accuracy: 0.8081 - val_loss: 0.7127 - val_accuracy: 0.7771\n",
      "Epoch 81/100\n",
      "120/120 [==============================] - 5s 46ms/step - loss: 0.5048 - accuracy: 0.8026 - val_loss: 0.6364 - val_accuracy: 0.7896\n",
      "Epoch 82/100\n",
      "120/120 [==============================] - 6s 46ms/step - loss: 0.5097 - accuracy: 0.8159 - val_loss: 0.6330 - val_accuracy: 0.7979\n",
      "Epoch 83/100\n",
      "120/120 [==============================] - 5s 46ms/step - loss: 0.5127 - accuracy: 0.8148 - val_loss: 1.0931 - val_accuracy: 0.7188\n",
      "Epoch 84/100\n",
      "120/120 [==============================] - 6s 46ms/step - loss: 0.5013 - accuracy: 0.8169 - val_loss: 1.0294 - val_accuracy: 0.7375\n",
      "Epoch 85/100\n",
      "120/120 [==============================] - 5s 46ms/step - loss: 0.5034 - accuracy: 0.8104 - val_loss: 0.7847 - val_accuracy: 0.7750\n",
      "Epoch 86/100\n",
      "120/120 [==============================] - 6s 46ms/step - loss: 0.4947 - accuracy: 0.8232 - val_loss: 0.8367 - val_accuracy: 0.7667\n",
      "Epoch 87/100\n",
      "120/120 [==============================] - 6s 47ms/step - loss: 0.4988 - accuracy: 0.8172 - val_loss: 0.9754 - val_accuracy: 0.7375\n",
      "Epoch 88/100\n",
      "120/120 [==============================] - 6s 46ms/step - loss: 0.4857 - accuracy: 0.8201 - val_loss: 0.8709 - val_accuracy: 0.7604\n",
      "Epoch 89/100\n",
      "120/120 [==============================] - 5s 45ms/step - loss: 0.4789 - accuracy: 0.8219 - val_loss: 1.3792 - val_accuracy: 0.7188\n",
      "Epoch 90/100\n",
      "120/120 [==============================] - 6s 47ms/step - loss: 0.4694 - accuracy: 0.8247 - val_loss: 0.5911 - val_accuracy: 0.8063\n",
      "Epoch 91/100\n",
      "120/120 [==============================] - 5s 45ms/step - loss: 0.4671 - accuracy: 0.8310 - val_loss: 0.5157 - val_accuracy: 0.8333\n",
      "Epoch 92/100\n",
      "120/120 [==============================] - 6s 47ms/step - loss: 0.4581 - accuracy: 0.8307 - val_loss: 0.8008 - val_accuracy: 0.7729\n",
      "Epoch 93/100\n",
      "120/120 [==============================] - 5s 46ms/step - loss: 0.4632 - accuracy: 0.8289 - val_loss: 1.0499 - val_accuracy: 0.7438\n",
      "Epoch 94/100\n",
      "120/120 [==============================] - 6s 46ms/step - loss: 0.4665 - accuracy: 0.8247 - val_loss: 0.5637 - val_accuracy: 0.8104\n",
      "Epoch 95/100\n",
      "120/120 [==============================] - 5s 45ms/step - loss: 0.4483 - accuracy: 0.8411 - val_loss: 1.2199 - val_accuracy: 0.7250\n",
      "Epoch 96/100\n",
      "120/120 [==============================] - 6s 47ms/step - loss: 0.4705 - accuracy: 0.8281 - val_loss: 0.8378 - val_accuracy: 0.7667\n",
      "Epoch 97/100\n",
      "120/120 [==============================] - 5s 46ms/step - loss: 0.4484 - accuracy: 0.8380 - val_loss: 1.0574 - val_accuracy: 0.7396\n",
      "Epoch 98/100\n",
      "120/120 [==============================] - 6s 46ms/step - loss: 0.4520 - accuracy: 0.8372 - val_loss: 1.3938 - val_accuracy: 0.7208\n",
      "Epoch 99/100\n",
      "120/120 [==============================] - 5s 45ms/step - loss: 0.4532 - accuracy: 0.8367 - val_loss: 1.3031 - val_accuracy: 0.7271\n",
      "Epoch 100/100\n",
      "120/120 [==============================] - 6s 46ms/step - loss: 0.4489 - accuracy: 0.8331 - val_loss: 1.1426 - val_accuracy: 0.7354\n"
     ]
    }
   ],
   "source": [
    "inputs = keras.Input(shape=(100, 100, 3))\n",
    "x = inputs\n",
    "with tf.device('/cpu:0'):\n",
    "  x = data_augmentation(inputs)\n",
    "x = layers.Rescaling(1./255)(x)\n",
    "x = layers.Conv2D(16, 3, activation='relu')(x)\n",
    "x = layers.MaxPooling2D(2)(x)\n",
    "x = layers.Conv2D(32, 3, activation='relu')(x)\n",
    "x = layers.MaxPooling2D(2)(x)\n",
    "x = layers.Conv2D(32, 3, activation='relu')(x)\n",
    "x = layers.MaxPooling2D(2)(x)\n",
    "x = layers.Conv2D(32, 3, activation='relu')(x)\n",
    "x = layers.GlobalAveragePooling2D()(x)\n",
    "\n",
    "x = layers.Dropout(0.5)(x)\n",
    "\n",
    "outputs = layers.Dense(6, activation='softmax')(x)\n",
    "\n",
    "model_5_1 = keras.Model(inputs, outputs)\n",
    "\n",
    "model_5_1.compile(optimizer=keras.optimizers.RMSprop(0.001), loss='sparse_categorical_crossentropy', metrics=['accuracy'])\n",
    "\n",
    "model_5_1.summary()\n",
    "\n",
    "history_5_1 = model_5_1.fit(\n",
    "  train,\n",
    "  epochs=100,\n",
    "  validation_data=val\n",
    ")"
   ]
  },
  {
   "cell_type": "code",
   "execution_count": 65,
   "metadata": {},
   "outputs": [
    {
     "data": {
      "image/png": "[encoded data removed]",
      "text/plain": [
       "<Figure size 432x288 with 1 Axes>"
      ]
     },
     "metadata": {
      "needs_background": "light"
     },
     "output_type": "display_data"
    },
    {
     "data": {
      "image/png": "[encoded data removed]",
      "text/plain": [
       "<Figure size 432x288 with 1 Axes>"
      ]
     },
     "metadata": {
      "needs_background": "light"
     },
     "output_type": "display_data"
    }
   ],
   "source": [
    "plot_loss(history_5_1)\n",
    "plot_acc(history_5_1)"
   ]
  },
  {
   "cell_type": "markdown",
   "metadata": {},
   "source": [
    "> Using data augmentation causes the training accuracy to rise at a very slow rate, and increasing the number of epochs and learning rate does not help much. So while data augmentation did work and trains the model well, we would have to run that model for many epochs which is redundant for the scope of this project."
   ]
  },
  {
   "cell_type": "markdown",
   "metadata": {},
   "source": [
    "---\n",
    "\n",
    "*Highest Observed Validation Accuracy*: **84.11%**\n",
    "\n",
    "---"
   ]
  },
  {
   "cell_type": "markdown",
   "metadata": {},
   "source": [
    "## 6. Experimenting with image processing"
   ]
  },
  {
   "cell_type": "markdown",
   "metadata": {},
   "source": [
    "> In this section, the subject of experimentation is the use of image processing. Essentially, images from the train, validation, and test set will be processed, and then the processed images will be trained and tested on."
   ]
  },
  {
   "cell_type": "code",
   "execution_count": 67,
   "metadata": {},
   "outputs": [],
   "source": [
    "# Creating new modified train, test and val datasets after applying image processing\n",
    "\n",
    "def process_image(x):\n",
    "  x = tf.image.adjust_brightness(x, 0.8)\n",
    "  x = tf.image.adjust_contrast(x, 3)\n",
    "  x = tf.image.adjust_saturation(x, 2)\n",
    "  return x\n",
    "\n",
    "def process_ds(dataset):\n",
    "  return dataset.map(lambda x, y: (process_image(x), y)).prefetch(tf.data.AUTOTUNE).cache()\n",
    "  \n",
    "train_processed = process_ds(train)\n",
    "val_processed = process_ds(val)\n",
    "test_processed = process_ds(test)"
   ]
  },
  {
   "cell_type": "markdown",
   "metadata": {},
   "source": [
    "### Trying processed images on the best model so far"
   ]
  },
  {
   "cell_type": "code",
   "execution_count": 68,
   "metadata": {},
   "outputs": [
    {
     "name": "stdout",
     "output_type": "stream",
     "text": [
      "Model: \"model_46\"\n",
      "_________________________________________________________________\n",
      " Layer (type)                Output Shape              Param #   \n",
      "=================================================================\n",
      " input_47 (InputLayer)       [(None, 100, 100, 3)]     0         \n",
      "                                                                 \n",
      " rescaling_44 (Rescaling)    (None, 100, 100, 3)       0         \n",
      "                                                                 \n",
      " conv2d_388 (Conv2D)         (None, 98, 98, 32)        896       \n",
      "                                                                 \n",
      " conv2d_389 (Conv2D)         (None, 96, 96, 32)        9248      \n",
      "                                                                 \n",
      " conv2d_390 (Conv2D)         (None, 94, 94, 32)        9248      \n",
      "                                                                 \n",
      " max_pooling2d_142 (MaxPooli  (None, 47, 47, 32)       0         \n",
      " ng2D)                                                           \n",
      "                                                                 \n",
      " conv2d_391 (Conv2D)         (None, 45, 45, 64)        18496     \n",
      "                                                                 \n",
      " conv2d_392 (Conv2D)         (None, 43, 43, 64)        36928     \n",
      "                                                                 \n",
      " max_pooling2d_143 (MaxPooli  (None, 21, 21, 64)       0         \n",
      " ng2D)                                                           \n",
      "                                                                 \n",
      " conv2d_393 (Conv2D)         (None, 19, 19, 128)       73856     \n",
      "                                                                 \n",
      " conv2d_394 (Conv2D)         (None, 17, 17, 128)       147584    \n",
      "                                                                 \n",
      " max_pooling2d_144 (MaxPooli  (None, 8, 8, 128)        0         \n",
      " ng2D)                                                           \n",
      "                                                                 \n",
      " conv2d_395 (Conv2D)         (None, 6, 6, 256)         295168    \n",
      "                                                                 \n",
      " conv2d_396 (Conv2D)         (None, 4, 4, 256)         590080    \n",
      "                                                                 \n",
      " global_average_pooling2d_44  (None, 256)              0         \n",
      "  (GlobalAveragePooling2D)                                       \n",
      "                                                                 \n",
      " dropout_46 (Dropout)        (None, 256)               0         \n",
      "                                                                 \n",
      " dense_46 (Dense)            (None, 6)                 1542      \n",
      "                                                                 \n",
      "=================================================================\n",
      "Total params: 1,183,046\n",
      "Trainable params: 1,183,046\n",
      "Non-trainable params: 0\n",
      "_________________________________________________________________\n",
      "Epoch 1/40\n"
     ]
    },
    {
     "name": "stderr",
     "output_type": "stream",
     "text": [
      "2022-08-31 03:41:12.753681: I tensorflow/core/grappler/optimizers/custom_graph_optimizer_registry.cc:112] Plugin optimizer for device_type GPU is enabled.\n"
     ]
    },
    {
     "name": "stdout",
     "output_type": "stream",
     "text": [
      "120/120 [==============================] - ETA: 0s - loss: 1.6455 - accuracy: 0.3273"
     ]
    },
    {
     "name": "stderr",
     "output_type": "stream",
     "text": [
      "2022-08-31 03:41:26.353376: I tensorflow/core/grappler/optimizers/custom_graph_optimizer_registry.cc:112] Plugin optimizer for device_type GPU is enabled.\n"
     ]
    },
    {
     "name": "stdout",
     "output_type": "stream",
     "text": [
      "120/120 [==============================] - 15s 100ms/step - loss: 1.6455 - accuracy: 0.3273 - val_loss: 1.0259 - val_accuracy: 0.6000\n",
      "Epoch 2/40\n",
      "120/120 [==============================] - 11s 93ms/step - loss: 0.9639 - accuracy: 0.6388 - val_loss: 0.9422 - val_accuracy: 0.6625\n",
      "Epoch 3/40\n",
      "120/120 [==============================] - 11s 94ms/step - loss: 0.6181 - accuracy: 0.7844 - val_loss: 0.3886 - val_accuracy: 0.8583\n",
      "Epoch 4/40\n",
      "120/120 [==============================] - 12s 96ms/step - loss: 0.4295 - accuracy: 0.8534 - val_loss: 0.3275 - val_accuracy: 0.8792\n",
      "Epoch 5/40\n",
      "120/120 [==============================] - 12s 97ms/step - loss: 0.3055 - accuracy: 0.9021 - val_loss: 0.2896 - val_accuracy: 0.9021\n",
      "Epoch 6/40\n",
      "120/120 [==============================] - 12s 100ms/step - loss: 0.2161 - accuracy: 0.9289 - val_loss: 0.2564 - val_accuracy: 0.9250\n",
      "Epoch 7/40\n",
      "120/120 [==============================] - 12s 103ms/step - loss: 0.1900 - accuracy: 0.9435 - val_loss: 0.3531 - val_accuracy: 0.8958\n",
      "Epoch 8/40\n",
      "120/120 [==============================] - 13s 104ms/step - loss: 0.1478 - accuracy: 0.9518 - val_loss: 0.1947 - val_accuracy: 0.9396\n",
      "Epoch 9/40\n",
      "120/120 [==============================] - 13s 106ms/step - loss: 0.1376 - accuracy: 0.9586 - val_loss: 0.3214 - val_accuracy: 0.9292\n",
      "Epoch 10/40\n",
      "120/120 [==============================] - 13s 108ms/step - loss: 0.1167 - accuracy: 0.9701 - val_loss: 0.2993 - val_accuracy: 0.9354\n",
      "Epoch 11/40\n",
      "120/120 [==============================] - 13s 108ms/step - loss: 0.0992 - accuracy: 0.9768 - val_loss: 0.2059 - val_accuracy: 0.9417\n",
      "Epoch 12/40\n",
      "120/120 [==============================] - 13s 107ms/step - loss: 0.0898 - accuracy: 0.9740 - val_loss: 0.3209 - val_accuracy: 0.9208\n",
      "Epoch 13/40\n",
      "120/120 [==============================] - 13s 108ms/step - loss: 0.0822 - accuracy: 0.9818 - val_loss: 0.2595 - val_accuracy: 0.9521\n",
      "Epoch 14/40\n",
      "120/120 [==============================] - 13s 108ms/step - loss: 0.0672 - accuracy: 0.9813 - val_loss: 0.2992 - val_accuracy: 0.9292\n",
      "Epoch 15/40\n",
      "120/120 [==============================] - 13s 110ms/step - loss: 0.0659 - accuracy: 0.9826 - val_loss: 0.2786 - val_accuracy: 0.9375\n",
      "Epoch 16/40\n",
      "120/120 [==============================] - 14s 113ms/step - loss: 0.0944 - accuracy: 0.9836 - val_loss: 0.3647 - val_accuracy: 0.9438\n",
      "Epoch 17/40\n",
      "120/120 [==============================] - 15s 125ms/step - loss: 0.0838 - accuracy: 0.9846 - val_loss: 0.4476 - val_accuracy: 0.9146\n",
      "Epoch 18/40\n",
      "120/120 [==============================] - 15s 128ms/step - loss: 0.0425 - accuracy: 0.9885 - val_loss: 0.3231 - val_accuracy: 0.9396\n",
      "Epoch 19/40\n",
      "120/120 [==============================] - 15s 128ms/step - loss: 0.0563 - accuracy: 0.9862 - val_loss: 0.2427 - val_accuracy: 0.9583\n",
      "Epoch 20/40\n",
      "120/120 [==============================] - 15s 128ms/step - loss: 0.0639 - accuracy: 0.9888 - val_loss: 0.2758 - val_accuracy: 0.9604\n",
      "Epoch 21/40\n",
      "120/120 [==============================] - 15s 126ms/step - loss: 0.0470 - accuracy: 0.9906 - val_loss: 0.2690 - val_accuracy: 0.9563\n",
      "Epoch 22/40\n",
      "120/120 [==============================] - 15s 126ms/step - loss: 0.0767 - accuracy: 0.9872 - val_loss: 0.5118 - val_accuracy: 0.9417\n",
      "Epoch 23/40\n",
      "120/120 [==============================] - 15s 125ms/step - loss: 0.0793 - accuracy: 0.9878 - val_loss: 0.4382 - val_accuracy: 0.9500\n",
      "Epoch 24/40\n",
      "120/120 [==============================] - 15s 124ms/step - loss: 0.0756 - accuracy: 0.9891 - val_loss: 1.1955 - val_accuracy: 0.9208\n",
      "Epoch 25/40\n",
      "120/120 [==============================] - 15s 126ms/step - loss: 0.1071 - accuracy: 0.9841 - val_loss: 0.5400 - val_accuracy: 0.9458\n",
      "Epoch 26/40\n",
      "120/120 [==============================] - 15s 126ms/step - loss: 0.0563 - accuracy: 0.9922 - val_loss: 0.6969 - val_accuracy: 0.9479\n",
      "Epoch 27/40\n",
      "120/120 [==============================] - 15s 122ms/step - loss: 0.0692 - accuracy: 0.9867 - val_loss: 0.4308 - val_accuracy: 0.9458\n",
      "Epoch 28/40\n",
      "120/120 [==============================] - 15s 123ms/step - loss: 0.0461 - accuracy: 0.9945 - val_loss: 0.4234 - val_accuracy: 0.9625\n",
      "Epoch 29/40\n",
      "120/120 [==============================] - 15s 122ms/step - loss: 0.0560 - accuracy: 0.9893 - val_loss: 0.3852 - val_accuracy: 0.9583\n",
      "Epoch 30/40\n",
      "120/120 [==============================] - 15s 123ms/step - loss: 0.0655 - accuracy: 0.9896 - val_loss: 0.6461 - val_accuracy: 0.9563\n",
      "Epoch 31/40\n",
      "120/120 [==============================] - 15s 122ms/step - loss: 0.0631 - accuracy: 0.9893 - val_loss: 0.6239 - val_accuracy: 0.9438\n",
      "Epoch 32/40\n",
      "120/120 [==============================] - 15s 122ms/step - loss: 0.0615 - accuracy: 0.9927 - val_loss: 0.9093 - val_accuracy: 0.9375\n",
      "Epoch 33/40\n",
      "120/120 [==============================] - 15s 121ms/step - loss: 0.0564 - accuracy: 0.9911 - val_loss: 0.3798 - val_accuracy: 0.9646\n",
      "Epoch 34/40\n",
      "120/120 [==============================] - 14s 121ms/step - loss: 0.0564 - accuracy: 0.9917 - val_loss: 0.4517 - val_accuracy: 0.9479\n",
      "Epoch 35/40\n",
      "120/120 [==============================] - 15s 122ms/step - loss: 0.0629 - accuracy: 0.9904 - val_loss: 1.3340 - val_accuracy: 0.9438\n",
      "Epoch 36/40\n",
      "120/120 [==============================] - 15s 123ms/step - loss: 0.0786 - accuracy: 0.9911 - val_loss: 0.5724 - val_accuracy: 0.9604\n",
      "Epoch 37/40\n",
      "120/120 [==============================] - 15s 124ms/step - loss: 0.0667 - accuracy: 0.9896 - val_loss: 1.3932 - val_accuracy: 0.9188\n",
      "Epoch 38/40\n",
      "120/120 [==============================] - 15s 127ms/step - loss: 0.0906 - accuracy: 0.9888 - val_loss: 0.4295 - val_accuracy: 0.9396\n",
      "Epoch 39/40\n",
      "120/120 [==============================] - 15s 127ms/step - loss: 0.0320 - accuracy: 0.9922 - val_loss: 0.5523 - val_accuracy: 0.9521\n",
      "Epoch 40/40\n",
      "120/120 [==============================] - 15s 123ms/step - loss: 0.0388 - accuracy: 0.9948 - val_loss: 0.5986 - val_accuracy: 0.9583\n"
     ]
    }
   ],
   "source": [
    "inputs = keras.Input(shape=(100, 100, 3))\n",
    "x = inputs\n",
    "x = layers.Rescaling(1./255)(x)\n",
    "x = layers.Conv2D(32, 3, activation='relu', kernel_regularizer=regularizer)(x)\n",
    "x = layers.Conv2D(32, 3, activation='relu', kernel_regularizer=regularizer)(x)\n",
    "x = layers.Conv2D(32, 3, activation='relu', kernel_regularizer=regularizer)(x)\n",
    "x = layers.MaxPooling2D(2)(x)\n",
    "x = layers.Conv2D(64, 3, activation='relu')(x)\n",
    "x = layers.Conv2D(64, 3, activation='relu')(x)\n",
    "x = layers.MaxPooling2D(2)(x)\n",
    "x = layers.Conv2D(128, 3, activation='relu')(x)\n",
    "x = layers.Conv2D(128, 3, activation='relu')(x)\n",
    "x = layers.MaxPooling2D(2)(x)\n",
    "x = layers.Conv2D(256, 3, activation='relu')(x)\n",
    "x = layers.Conv2D(256, 3, activation='relu')(x)\n",
    "x = layers.GlobalAveragePooling2D()(x)\n",
    "x = layers.Dropout(0.5)(x)\n",
    "outputs = layers.Dense(6, activation='softmax')(x)\n",
    "\n",
    "model_6_2 = keras.Model(inputs, outputs)\n",
    "\n",
    "model_6_2.compile(optimizer=keras.optimizers.RMSprop(0.001), loss='sparse_categorical_crossentropy', metrics=['accuracy'])\n",
    "\n",
    "model_6_2.summary()\n",
    "\n",
    "history_6_2 = model_6_2.fit(\n",
    "  train_processed,\n",
    "  epochs=40,\n",
    "  validation_data=val_processed\n",
    ")"
   ]
  },
  {
   "cell_type": "code",
   "execution_count": 69,
   "metadata": {},
   "outputs": [
    {
     "data": {
      "image/png": "[encoded data removed]",
      "text/plain": [
       "<Figure size 432x288 with 1 Axes>"
      ]
     },
     "metadata": {
      "needs_background": "light"
     },
     "output_type": "display_data"
    },
    {
     "data": {
      "image/png": "[encoded data removed]",
      "text/plain": [
       "<Figure size 432x288 with 1 Axes>"
      ]
     },
     "metadata": {
      "needs_background": "light"
     },
     "output_type": "display_data"
    }
   ],
   "source": [
    "plot_loss(history_6_2)\n",
    "plot_acc(history_6_2)"
   ]
  },
  {
   "cell_type": "markdown",
   "metadata": {},
   "source": [
    "> This model reaches peak accuracy of around 96% just like the best model, and it is similarly slightly as can be from the graphs above. "
   ]
  },
  {
   "cell_type": "markdown",
   "metadata": {},
   "source": [
    "---\n",
    "\n",
    "*Highest Observed Validation Accuracy*: **96.46%**\n",
    "\n",
    "---"
   ]
  },
  {
   "cell_type": "markdown",
   "metadata": {},
   "source": [
    "## 7. Efficient model - the highest possible accuracy with the lowest possible size"
   ]
  },
  {
   "cell_type": "markdown",
   "metadata": {},
   "source": [
    "> This idea in this section is to use the small benchmark model from section 5 of data augmentation, and tweak it in order to maximize accuracy."
   ]
  },
  {
   "cell_type": "code",
   "execution_count": 70,
   "metadata": {},
   "outputs": [
    {
     "name": "stdout",
     "output_type": "stream",
     "text": [
      "Model: \"model_47\"\n",
      "_________________________________________________________________\n",
      " Layer (type)                Output Shape              Param #   \n",
      "=================================================================\n",
      " input_48 (InputLayer)       [(None, 100, 100, 3)]     0         \n",
      "                                                                 \n",
      " conv2d_397 (Conv2D)         (None, 98, 98, 16)        448       \n",
      "                                                                 \n",
      " max_pooling2d_145 (MaxPooli  (None, 49, 49, 16)       0         \n",
      " ng2D)                                                           \n",
      "                                                                 \n",
      " conv2d_398 (Conv2D)         (None, 47, 47, 32)        4640      \n",
      "                                                                 \n",
      " max_pooling2d_146 (MaxPooli  (None, 23, 23, 32)       0         \n",
      " ng2D)                                                           \n",
      "                                                                 \n",
      " conv2d_399 (Conv2D)         (None, 21, 21, 32)        9248      \n",
      "                                                                 \n",
      " max_pooling2d_147 (MaxPooli  (None, 10, 10, 32)       0         \n",
      " ng2D)                                                           \n",
      "                                                                 \n",
      " conv2d_400 (Conv2D)         (None, 8, 8, 32)          9248      \n",
      "                                                                 \n",
      " global_average_pooling2d_45  (None, 32)               0         \n",
      "  (GlobalAveragePooling2D)                                       \n",
      "                                                                 \n",
      " dropout_47 (Dropout)        (None, 32)                0         \n",
      "                                                                 \n",
      " dense_47 (Dense)            (None, 6)                 198       \n",
      "                                                                 \n",
      "=================================================================\n",
      "Total params: 23,782\n",
      "Trainable params: 23,782\n",
      "Non-trainable params: 0\n",
      "_________________________________________________________________\n",
      "Epoch 1/30\n"
     ]
    },
    {
     "name": "stderr",
     "output_type": "stream",
     "text": [
      "2022-08-31 03:52:57.271594: I tensorflow/core/grappler/optimizers/custom_graph_optimizer_registry.cc:112] Plugin optimizer for device_type GPU is enabled.\n"
     ]
    },
    {
     "name": "stdout",
     "output_type": "stream",
     "text": [
      "120/120 [==============================] - ETA: 0s - loss: 2.6164 - accuracy: 0.1935"
     ]
    },
    {
     "name": "stderr",
     "output_type": "stream",
     "text": [
      "2022-08-31 03:53:01.764921: I tensorflow/core/grappler/optimizers/custom_graph_optimizer_registry.cc:112] Plugin optimizer for device_type GPU is enabled.\n"
     ]
    },
    {
     "name": "stdout",
     "output_type": "stream",
     "text": [
      "120/120 [==============================] - 5s 29ms/step - loss: 2.6164 - accuracy: 0.1935 - val_loss: 1.7757 - val_accuracy: 0.3250\n",
      "Epoch 2/30\n",
      "120/120 [==============================] - 3s 25ms/step - loss: 1.7999 - accuracy: 0.2065 - val_loss: 1.7489 - val_accuracy: 0.2167\n",
      "Epoch 3/30\n",
      "120/120 [==============================] - 3s 23ms/step - loss: 1.7437 - accuracy: 0.2773 - val_loss: 1.8174 - val_accuracy: 0.2021\n",
      "Epoch 4/30\n",
      "120/120 [==============================] - 3s 24ms/step - loss: 1.6351 - accuracy: 0.3292 - val_loss: 1.8224 - val_accuracy: 0.2396\n",
      "Epoch 5/30\n",
      "120/120 [==============================] - 3s 24ms/step - loss: 1.5136 - accuracy: 0.3734 - val_loss: 1.3680 - val_accuracy: 0.5312\n",
      "Epoch 6/30\n",
      "120/120 [==============================] - 3s 24ms/step - loss: 1.4061 - accuracy: 0.4492 - val_loss: 1.1832 - val_accuracy: 0.6542\n",
      "Epoch 7/30\n",
      "120/120 [==============================] - 3s 25ms/step - loss: 1.2658 - accuracy: 0.5094 - val_loss: 0.9924 - val_accuracy: 0.7000\n",
      "Epoch 8/30\n",
      "120/120 [==============================] - 3s 24ms/step - loss: 1.1531 - accuracy: 0.5695 - val_loss: 1.6850 - val_accuracy: 0.3167\n",
      "Epoch 9/30\n",
      "120/120 [==============================] - 3s 24ms/step - loss: 1.0387 - accuracy: 0.5992 - val_loss: 0.7466 - val_accuracy: 0.7438\n",
      "Epoch 10/30\n",
      "120/120 [==============================] - 3s 24ms/step - loss: 0.9349 - accuracy: 0.6393 - val_loss: 0.7613 - val_accuracy: 0.6833\n",
      "Epoch 11/30\n",
      "120/120 [==============================] - 3s 24ms/step - loss: 0.8507 - accuracy: 0.6854 - val_loss: 0.5772 - val_accuracy: 0.8063\n",
      "Epoch 12/30\n",
      "120/120 [==============================] - 3s 25ms/step - loss: 0.7439 - accuracy: 0.7289 - val_loss: 0.4932 - val_accuracy: 0.8250\n",
      "Epoch 13/30\n",
      "120/120 [==============================] - 3s 24ms/step - loss: 0.6908 - accuracy: 0.7560 - val_loss: 0.4380 - val_accuracy: 0.8521\n",
      "Epoch 14/30\n",
      "120/120 [==============================] - 3s 25ms/step - loss: 0.6071 - accuracy: 0.7917 - val_loss: 0.4478 - val_accuracy: 0.8167\n",
      "Epoch 15/30\n",
      "120/120 [==============================] - 3s 24ms/step - loss: 0.5857 - accuracy: 0.8081 - val_loss: 0.4136 - val_accuracy: 0.8396\n",
      "Epoch 16/30\n",
      "120/120 [==============================] - 3s 25ms/step - loss: 0.4966 - accuracy: 0.8258 - val_loss: 0.3351 - val_accuracy: 0.8688\n",
      "Epoch 17/30\n",
      "120/120 [==============================] - 3s 26ms/step - loss: 0.4671 - accuracy: 0.8461 - val_loss: 0.3553 - val_accuracy: 0.8792\n",
      "Epoch 18/30\n",
      "120/120 [==============================] - 3s 26ms/step - loss: 0.4138 - accuracy: 0.8612 - val_loss: 0.3453 - val_accuracy: 0.8771\n",
      "Epoch 19/30\n",
      "120/120 [==============================] - 3s 26ms/step - loss: 0.3911 - accuracy: 0.8646 - val_loss: 0.3837 - val_accuracy: 0.8542\n",
      "Epoch 20/30\n",
      "120/120 [==============================] - 3s 26ms/step - loss: 0.3625 - accuracy: 0.8760 - val_loss: 0.3241 - val_accuracy: 0.8813\n",
      "Epoch 21/30\n",
      "120/120 [==============================] - 3s 27ms/step - loss: 0.3513 - accuracy: 0.8862 - val_loss: 0.2767 - val_accuracy: 0.9104\n",
      "Epoch 22/30\n",
      "120/120 [==============================] - 3s 26ms/step - loss: 0.3153 - accuracy: 0.8966 - val_loss: 0.2458 - val_accuracy: 0.9188\n",
      "Epoch 23/30\n",
      "120/120 [==============================] - 3s 27ms/step - loss: 0.2720 - accuracy: 0.9109 - val_loss: 0.2292 - val_accuracy: 0.9125\n",
      "Epoch 24/30\n",
      "120/120 [==============================] - 3s 27ms/step - loss: 0.2601 - accuracy: 0.9104 - val_loss: 0.3248 - val_accuracy: 0.8917\n",
      "Epoch 25/30\n",
      "120/120 [==============================] - 3s 26ms/step - loss: 0.2492 - accuracy: 0.9177 - val_loss: 0.2221 - val_accuracy: 0.9250\n",
      "Epoch 26/30\n",
      "120/120 [==============================] - 3s 26ms/step - loss: 0.2164 - accuracy: 0.9279 - val_loss: 0.2255 - val_accuracy: 0.9208\n",
      "Epoch 27/30\n",
      "120/120 [==============================] - 3s 26ms/step - loss: 0.1845 - accuracy: 0.9380 - val_loss: 0.2386 - val_accuracy: 0.9250\n",
      "Epoch 28/30\n",
      "120/120 [==============================] - 3s 26ms/step - loss: 0.2104 - accuracy: 0.9294 - val_loss: 0.2102 - val_accuracy: 0.9229\n",
      "Epoch 29/30\n",
      "120/120 [==============================] - 3s 26ms/step - loss: 0.1747 - accuracy: 0.9417 - val_loss: 0.2574 - val_accuracy: 0.9167\n",
      "Epoch 30/30\n",
      "120/120 [==============================] - 3s 26ms/step - loss: 0.1879 - accuracy: 0.9458 - val_loss: 0.2204 - val_accuracy: 0.9292\n"
     ]
    }
   ],
   "source": [
    "inputs = keras.Input(shape=(100, 100, 3))\n",
    "x = inputs\n",
    "x = layers.Conv2D(16, 3, activation='relu')(x)\n",
    "x = layers.MaxPooling2D(2)(x)\n",
    "x = layers.Conv2D(32, 3, activation='relu')(x)\n",
    "x = layers.MaxPooling2D(2)(x)\n",
    "x = layers.Conv2D(32, 3, activation='relu')(x)\n",
    "x = layers.MaxPooling2D(2)(x)\n",
    "x = layers.Conv2D(32, 3, activation='relu')(x)\n",
    "x = layers.GlobalAveragePooling2D()(x)\n",
    "x = layers.Dropout(0.3)(x)\n",
    "outputs = layers.Dense(6, activation='softmax')(x)\n",
    "\n",
    "model_7_1 = keras.Model(inputs, outputs)\n",
    "\n",
    "model_7_1.compile(optimizer=keras.optimizers.RMSprop(0.001), loss='sparse_categorical_crossentropy', metrics=['accuracy'])\n",
    "\n",
    "model_7_1.summary()\n",
    "\n",
    "history_7_1 = model_7_1.fit(\n",
    "  train,\n",
    "  epochs=30,\n",
    "  validation_data=val\n",
    ")"
   ]
  },
  {
   "cell_type": "code",
   "execution_count": 71,
   "metadata": {},
   "outputs": [
    {
     "data": {
      "image/png": "[encoded data removed]",
      "text/plain": [
       "<Figure size 432x288 with 1 Axes>"
      ]
     },
     "metadata": {
      "needs_background": "light"
     },
     "output_type": "display_data"
    },
    {
     "data": {
      "image/png": "[encoded data removed]",
      "text/plain": [
       "<Figure size 432x288 with 1 Axes>"
      ]
     },
     "metadata": {
      "needs_background": "light"
     },
     "output_type": "display_data"
    }
   ],
   "source": [
    "plot_loss(history_7_1)\n",
    "plot_acc(history_7_1)"
   ]
  },
  {
   "cell_type": "markdown",
   "metadata": {},
   "source": [
    "> Reaching peak validation accuracies of around 92% with just 23000 parameters, this is clearly the most efficient model in terms to the parameters to accuracy ratio."
   ]
  },
  {
   "cell_type": "markdown",
   "metadata": {},
   "source": [
    "---\n",
    "\n",
    "*Highest Observed Validation Accuracy*: **92.92%**\n",
    "\n",
    "---"
   ]
  }
 ],
 "metadata": {
  "kernelspec": {
   "display_name": "Python 3.9.7 ('base')",
   "language": "python",
   "name": "python3"
  },
  "language_info": {
   "codemirror_mode": {
    "name": "ipython",
    "version": 3
   },
   "file_extension": ".py",
   "mimetype": "text/x-python",
   "name": "python",
   "nbconvert_exporter": "python",
   "pygments_lexer": "ipython3",
   "version": "3.9.7"
  },
  "orig_nbformat": 4,
  "vscode": {
   "interpreter": {
    "hash": "c6e4e9f98eb68ad3b7c296f83d20e6de614cb42e90992a65aa266555a3137d0d"
   }
  }
 },
 "nbformat": 4,
 "nbformat_minor": 2
}
