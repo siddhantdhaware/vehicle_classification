{
 "cells": [
  {
   "cell_type": "markdown",
   "metadata": {},
   "source": [
    "# State-of-the-art model using VGG16\n",
    "\n",
    "---"
   ]
  },
  {
   "cell_type": "markdown",
   "metadata": {},
   "source": [
    "### Importing the libraries"
   ]
  },
  {
   "cell_type": "code",
   "execution_count": 1,
   "metadata": {},
   "outputs": [],
   "source": [
    "import tensorflow as tf\n",
    "from tensorflow.keras import layers, utils\n",
    "from tensorflow import keras\n",
    "from matplotlib import pyplot as plt\n",
    "\n",
    "import sys\n",
    "sys.path.insert(0, '../helpers/')\n",
    "from plot_graphs import plot_loss, plot_acc"
   ]
  },
  {
   "cell_type": "markdown",
   "metadata": {},
   "source": [
    "### Setting batch and image size, and importing the datasets"
   ]
  },
  {
   "cell_type": "code",
   "execution_count": 3,
   "metadata": {},
   "outputs": [
    {
     "name": "stdout",
     "output_type": "stream",
     "text": [
      "Found 3840 files belonging to 6 classes.\n",
      "Found 480 files belonging to 6 classes.\n",
      "Found 480 files belonging to 6 classes.\n"
     ]
    }
   ],
   "source": [
    "IMAGE_SIZE = 100\n",
    "BATCH_SIZE = 32\n",
    "\n",
    "train = utils.image_dataset_from_directory(\"../datasets/data/split/Zenodo/train\", image_size=(IMAGE_SIZE, IMAGE_SIZE), batch_size=BATCH_SIZE)\n",
    "val = utils.image_dataset_from_directory(\"../datasets/data/split/Zenodo/val\", image_size=(IMAGE_SIZE, IMAGE_SIZE), batch_size=BATCH_SIZE)\n",
    "test = utils.image_dataset_from_directory(\"../datasets/data/split/Zenodo/test\", image_size=(IMAGE_SIZE, IMAGE_SIZE), batch_size=BATCH_SIZE)\n",
    "\n",
    "train = train.prefetch(buffer_size=tf.data.AUTOTUNE).cache()\n",
    "val = val.prefetch(buffer_size=tf.data.AUTOTUNE).cache()\n",
    "test = test.prefetch(buffer_size=tf.data.AUTOTUNE).cache()"
   ]
  },
  {
   "cell_type": "markdown",
   "metadata": {},
   "source": [
    "### Processing the data for VGG16"
   ]
  },
  {
   "cell_type": "code",
   "execution_count": 4,
   "metadata": {},
   "outputs": [],
   "source": [
    "train = train.map(lambda x, y: (tf.keras.applications.vgg16.preprocess_input(x), y))\n",
    "val = val.map(lambda x, y: (tf.keras.applications.vgg16.preprocess_input(x), y))\n",
    "test = test.map(lambda x, y: (tf.keras.applications.vgg16.preprocess_input(x), y))"
   ]
  },
  {
   "cell_type": "markdown",
   "metadata": {},
   "source": [
    "### Defining the SOTA VGG16 model with no weights and a low learning rate"
   ]
  },
  {
   "cell_type": "code",
   "execution_count": 5,
   "metadata": {},
   "outputs": [
    {
     "name": "stdout",
     "output_type": "stream",
     "text": [
      "Model: \"vgg16\"\n",
      "_________________________________________________________________\n",
      " Layer (type)                Output Shape              Param #   \n",
      "=================================================================\n",
      " input_1 (InputLayer)        [(None, 100, 100, 3)]     0         \n",
      "                                                                 \n",
      " block1_conv1 (Conv2D)       (None, 100, 100, 64)      1792      \n",
      "                                                                 \n",
      " block1_conv2 (Conv2D)       (None, 100, 100, 64)      36928     \n",
      "                                                                 \n",
      " block1_pool (MaxPooling2D)  (None, 50, 50, 64)        0         \n",
      "                                                                 \n",
      " block2_conv1 (Conv2D)       (None, 50, 50, 128)       73856     \n",
      "                                                                 \n",
      " block2_conv2 (Conv2D)       (None, 50, 50, 128)       147584    \n",
      "                                                                 \n",
      " block2_pool (MaxPooling2D)  (None, 25, 25, 128)       0         \n",
      "                                                                 \n",
      " block3_conv1 (Conv2D)       (None, 25, 25, 256)       295168    \n",
      "                                                                 \n",
      " block3_conv2 (Conv2D)       (None, 25, 25, 256)       590080    \n",
      "                                                                 \n",
      " block3_conv3 (Conv2D)       (None, 25, 25, 256)       590080    \n",
      "                                                                 \n",
      " block3_pool (MaxPooling2D)  (None, 12, 12, 256)       0         \n",
      "                                                                 \n",
      " block4_conv1 (Conv2D)       (None, 12, 12, 512)       1180160   \n",
      "                                                                 \n",
      " block4_conv2 (Conv2D)       (None, 12, 12, 512)       2359808   \n",
      "                                                                 \n",
      " block4_conv3 (Conv2D)       (None, 12, 12, 512)       2359808   \n",
      "                                                                 \n",
      " block4_pool (MaxPooling2D)  (None, 6, 6, 512)         0         \n",
      "                                                                 \n",
      " block5_conv1 (Conv2D)       (None, 6, 6, 512)         2359808   \n",
      "                                                                 \n",
      " block5_conv2 (Conv2D)       (None, 6, 6, 512)         2359808   \n",
      "                                                                 \n",
      " block5_conv3 (Conv2D)       (None, 6, 6, 512)         2359808   \n",
      "                                                                 \n",
      " block5_pool (MaxPooling2D)  (None, 3, 3, 512)         0         \n",
      "                                                                 \n",
      " flatten (Flatten)           (None, 4608)              0         \n",
      "                                                                 \n",
      " fc1 (Dense)                 (None, 4096)              18878464  \n",
      "                                                                 \n",
      " fc2 (Dense)                 (None, 4096)              16781312  \n",
      "                                                                 \n",
      " predictions (Dense)         (None, 6)                 24582     \n",
      "                                                                 \n",
      "=================================================================\n",
      "Total params: 50,399,046\n",
      "Trainable params: 50,399,046\n",
      "Non-trainable params: 0\n",
      "_________________________________________________________________\n"
     ]
    }
   ],
   "source": [
    "model = tf.keras.applications.VGG16(\n",
    "    include_top=True,\n",
    "    weights=None,\n",
    "    input_shape=(IMAGE_SIZE, IMAGE_SIZE, 3),\n",
    "    pooling='avg',\n",
    "    classes=6,\n",
    "    classifier_activation=\"softmax\"\n",
    ")\n",
    "\n",
    "model.compile(optimizer=keras.optimizers.RMSprop(0.0001), loss='sparse_categorical_crossentropy', metrics=['accuracy'])\n",
    "\n",
    "model.summary()"
   ]
  },
  {
   "cell_type": "markdown",
   "metadata": {},
   "source": [
    "### Running the SOTA VGG16 model with patience 7"
   ]
  },
  {
   "cell_type": "code",
   "execution_count": 9,
   "metadata": {},
   "outputs": [
    {
     "name": "stdout",
     "output_type": "stream",
     "text": [
      "Epoch 1/20\n",
      "120/120 [==============================] - 67s 555ms/step - loss: 0.0605 - accuracy: 0.9846 - val_loss: 0.4307 - val_accuracy: 0.9042\n",
      "Epoch 2/20\n",
      "120/120 [==============================] - 68s 570ms/step - loss: 0.0578 - accuracy: 0.9849 - val_loss: 0.1961 - val_accuracy: 0.9417\n",
      "Epoch 3/20\n",
      "120/120 [==============================] - 70s 584ms/step - loss: 0.0409 - accuracy: 0.9893 - val_loss: 0.2684 - val_accuracy: 0.9438\n",
      "Epoch 4/20\n",
      "120/120 [==============================] - 79s 657ms/step - loss: 0.0515 - accuracy: 0.9857 - val_loss: 0.3370 - val_accuracy: 0.9313\n",
      "Epoch 5/20\n",
      "120/120 [==============================] - 71s 589ms/step - loss: 0.0458 - accuracy: 0.9888 - val_loss: 0.3081 - val_accuracy: 0.9417\n",
      "Epoch 6/20\n",
      "120/120 [==============================] - 71s 589ms/step - loss: 0.0432 - accuracy: 0.9914 - val_loss: 0.3098 - val_accuracy: 0.9375\n",
      "Epoch 7/20\n",
      "120/120 [==============================] - 71s 591ms/step - loss: 0.0383 - accuracy: 0.9880 - val_loss: 0.2798 - val_accuracy: 0.9521\n",
      "Epoch 8/20\n",
      "120/120 [==============================] - 74s 616ms/step - loss: 0.0296 - accuracy: 0.9935 - val_loss: 0.3925 - val_accuracy: 0.9438\n",
      "Epoch 9/20\n",
      "120/120 [==============================] - 78s 649ms/step - loss: 0.0440 - accuracy: 0.9930 - val_loss: 0.2934 - val_accuracy: 0.9542\n",
      "Epoch 10/20\n",
      "120/120 [==============================] - 77s 638ms/step - loss: 0.0414 - accuracy: 0.9924 - val_loss: 0.3902 - val_accuracy: 0.9438\n",
      "Epoch 11/20\n",
      "120/120 [==============================] - 77s 644ms/step - loss: 0.0482 - accuracy: 0.9909 - val_loss: 0.4039 - val_accuracy: 0.9333\n",
      "Epoch 12/20\n",
      "120/120 [==============================] - 78s 651ms/step - loss: 0.0509 - accuracy: 0.9927 - val_loss: 0.3968 - val_accuracy: 0.9458\n",
      "Epoch 13/20\n",
      "120/120 [==============================] - 77s 641ms/step - loss: 0.0374 - accuracy: 0.9919 - val_loss: 0.2457 - val_accuracy: 0.9521\n",
      "Epoch 14/20\n",
      "120/120 [==============================] - 79s 655ms/step - loss: 0.0357 - accuracy: 0.9943 - val_loss: 0.4238 - val_accuracy: 0.9479\n",
      "Epoch 15/20\n",
      "120/120 [==============================] - 78s 653ms/step - loss: 0.0407 - accuracy: 0.9904 - val_loss: 0.4713 - val_accuracy: 0.9229\n",
      "Epoch 16/20\n",
      "120/120 [==============================] - 78s 652ms/step - loss: 0.0399 - accuracy: 0.9932 - val_loss: 0.3147 - val_accuracy: 0.9500\n",
      "Epoch 17/20\n",
      "120/120 [==============================] - 79s 654ms/step - loss: 0.0356 - accuracy: 0.9924 - val_loss: 0.3064 - val_accuracy: 0.9500\n",
      "Epoch 18/20\n",
      "120/120 [==============================] - 80s 668ms/step - loss: 0.0418 - accuracy: 0.9945 - val_loss: 0.2801 - val_accuracy: 0.9646\n",
      "Epoch 19/20\n",
      "120/120 [==============================] - 79s 661ms/step - loss: 0.0394 - accuracy: 0.9953 - val_loss: 0.3416 - val_accuracy: 0.9396\n",
      "Epoch 20/20\n",
      "120/120 [==============================] - 80s 666ms/step - loss: 0.0234 - accuracy: 0.9945 - val_loss: 0.3826 - val_accuracy: 0.9521\n"
     ]
    }
   ],
   "source": [
    "callbacks_list = [\n",
    "    keras.callbacks.ModelCheckpoint(\n",
    "        filepath=\"../models/6_sota_vgg16.h5\",\n",
    "        monitor=\"val_accuracy\",\n",
    "        save_best_only=True\n",
    "    )\n",
    "]\n",
    "\n",
    "history = model.fit(\n",
    "  train,\n",
    "  epochs=20,\n",
    "  callbacks=callbacks_list,\n",
    "  validation_data=val\n",
    ")"
   ]
  },
  {
   "cell_type": "code",
   "execution_count": 10,
   "metadata": {},
   "outputs": [
    {
     "data": {
      "image/png": "[encoded data removed]",
      "text/plain": [
       "<Figure size 432x288 with 1 Axes>"
      ]
     },
     "metadata": {
      "needs_background": "light"
     },
     "output_type": "display_data"
    },
    {
     "data": {
      "image/png": "[encoded data removed]",
      "text/plain": [
       "<Figure size 432x288 with 1 Axes>"
      ]
     },
     "metadata": {
      "needs_background": "light"
     },
     "output_type": "display_data"
    }
   ],
   "source": [
    "plot_loss(history)\n",
    "plot_acc(history)"
   ]
  },
  {
   "cell_type": "markdown",
   "metadata": {},
   "source": [
    "### Evaluating test accuracy on the SOTA model"
   ]
  },
  {
   "cell_type": "code",
   "execution_count": 11,
   "metadata": {},
   "outputs": [
    {
     "name": "stderr",
     "output_type": "stream",
     "text": [
      "2022-08-31 06:19:41.749429: I tensorflow/core/grappler/optimizers/custom_graph_optimizer_registry.cc:112] Plugin optimizer for device_type GPU is enabled.\n"
     ]
    },
    {
     "name": "stdout",
     "output_type": "stream",
     "text": [
      "15/15 [==============================] - 2s 124ms/step - loss: 0.3720 - accuracy: 0.9479\n"
     ]
    },
    {
     "data": {
      "text/plain": [
       "[0.371992826461792, 0.9479166865348816]"
      ]
     },
     "execution_count": 11,
     "metadata": {},
     "output_type": "execute_result"
    }
   ],
   "source": [
    "load_model = tf.keras.models.load_model(\"../models/6_sota_vgg16.h5\")\n",
    "load_model.evaluate(test)"
   ]
  },
  {
   "cell_type": "markdown",
   "metadata": {},
   "source": [
    "---\n",
    "\n",
    "*Test Accuracy*: **94.79%**\n",
    "\n",
    "---"
   ]
  }
 ],
 "metadata": {
  "kernelspec": {
   "display_name": "Python 3.9.7 ('base')",
   "language": "python",
   "name": "python3"
  },
  "language_info": {
   "codemirror_mode": {
    "name": "ipython",
    "version": 3
   },
   "file_extension": ".py",
   "mimetype": "text/x-python",
   "name": "python",
   "nbconvert_exporter": "python",
   "pygments_lexer": "ipython3",
   "version": "3.9.7"
  },
  "orig_nbformat": 4,
  "vscode": {
   "interpreter": {
    "hash": "c6e4e9f98eb68ad3b7c296f83d20e6de614cb42e90992a65aa266555a3137d0d"
   }
  }
 },
 "nbformat": 4,
 "nbformat_minor": 2
}
