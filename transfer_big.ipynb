{
 "cells": [
  {
   "cell_type": "code",
   "execution_count": 1,
   "metadata": {},
   "outputs": [],
   "source": [
    "from tensorflow import keras"
   ]
  },
  {
   "cell_type": "markdown",
   "metadata": {},
   "source": [
    "# Train form the 4th conv2d layer"
   ]
  },
  {
   "cell_type": "code",
   "execution_count": 2,
   "metadata": {},
   "outputs": [
    {
     "name": "stdout",
     "output_type": "stream",
     "text": [
      "Metal device set to: Apple M1\n",
      "\n",
      "systemMemory: 16.00 GB\n",
      "maxCacheSize: 5.33 GB\n",
      "\n",
      "Model: \"model\"\n",
      "_________________________________________________________________\n",
      " Layer (type)                Output Shape              Param #   \n",
      "=================================================================\n",
      " input_4 (InputLayer)        [(None, 100, 100, 3)]     0         \n",
      "                                                                 \n",
      " conv2d_29 (Conv2D)          (None, 98, 98, 32)        896       \n",
      "                                                                 \n",
      " max_pooling2d_9 (MaxPooling  (None, 49, 49, 32)       0         \n",
      " 2D)                                                             \n",
      "                                                                 \n",
      " conv2d_30 (Conv2D)          (None, 47, 47, 64)        18496     \n",
      "                                                                 \n",
      " conv2d_31 (Conv2D)          (None, 45, 45, 64)        36928     \n",
      "                                                                 \n",
      " max_pooling2d_10 (MaxPoolin  (None, 22, 22, 64)       0         \n",
      " g2D)                                                            \n",
      "                                                                 \n",
      " conv2d_32 (Conv2D)          (None, 20, 20, 128)       73856     \n",
      "                                                                 \n",
      " conv2d_33 (Conv2D)          (None, 18, 18, 128)       147584    \n",
      "                                                                 \n",
      " max_pooling2d_11 (MaxPoolin  (None, 9, 9, 128)        0         \n",
      " g2D)                                                            \n",
      "                                                                 \n",
      " conv2d_34 (Conv2D)          (None, 7, 7, 256)         295168    \n",
      "                                                                 \n",
      " conv2d_35 (Conv2D)          (None, 5, 5, 256)         590080    \n",
      "                                                                 \n",
      " global_average_pooling2d_3   (None, 256)              0         \n",
      " (GlobalAveragePooling2D)                                        \n",
      "                                                                 \n",
      " dense_6 (Dense)             (None, 256)               65792     \n",
      "                                                                 \n",
      " dropout_3 (Dropout)         (None, 256)               0         \n",
      "                                                                 \n",
      " classifier (Dense)          (None, 6)                 1542      \n",
      "                                                                 \n",
      "=================================================================\n",
      "Total params: 1,230,342\n",
      "Trainable params: 1,174,022\n",
      "Non-trainable params: 56,320\n",
      "_________________________________________________________________\n"
     ]
    },
    {
     "name": "stderr",
     "output_type": "stream",
     "text": [
      "2022-08-02 07:19:35.936503: I tensorflow/core/common_runtime/pluggable_device/pluggable_device_factory.cc:305] Could not identify NUMA node of platform GPU ID 0, defaulting to 0. Your kernel may not have been built with NUMA support.\n",
      "2022-08-02 07:19:35.936618: I tensorflow/core/common_runtime/pluggable_device/pluggable_device_factory.cc:271] Created TensorFlow device (/job:localhost/replica:0/task:0/device:GPU:0 with 0 MB memory) -> physical PluggableDevice (device: 0, name: METAL, pci bus id: <undefined>)\n"
     ]
    }
   ],
   "source": [
    "vtid = keras.models.load_model('models/vtid_2.h5')\n",
    "vtid.trainable = False\n",
    "\n",
    "for layer in vtid.layers[6:]:\n",
    "  layer.trainable = True\n",
    "\n",
    "x = vtid.layers[-2].output\n",
    "outputs = keras.layers.Dense(6, activation='softmax', name='classifier')(x)\n",
    "model = keras.Model(vtid.inputs, outputs)\n",
    "model.compile(optimizer='rmsprop', loss='sparse_categorical_crossentropy', metrics=['accuracy'])\n",
    "\n",
    "model.summary()\n",
    "# vtid.layers[6:]"
   ]
  },
  {
   "cell_type": "code",
   "execution_count": 3,
   "metadata": {},
   "outputs": [
    {
     "name": "stdout",
     "output_type": "stream",
     "text": [
      "Found 3360 files belonging to 6 classes.\n",
      "Found 720 files belonging to 6 classes.\n",
      "Found 720 files belonging to 6 classes.\n",
      "Epoch 1/40\n"
     ]
    },
    {
     "name": "stderr",
     "output_type": "stream",
     "text": [
      "2022-08-02 07:20:00.553628: W tensorflow/core/platform/profile_utils/cpu_utils.cc:128] Failed to get CPU frequency: 0 Hz\n",
      "2022-08-02 07:20:00.553737: I tensorflow/core/grappler/optimizers/custom_graph_optimizer_registry.cc:112] Plugin optimizer for device_type GPU is enabled.\n"
     ]
    },
    {
     "name": "stdout",
     "output_type": "stream",
     "text": [
      "104/105 [============================>.] - ETA: 0s - loss: 1.2962 - accuracy: 0.5099"
     ]
    },
    {
     "name": "stderr",
     "output_type": "stream",
     "text": [
      "2022-08-02 07:20:05.040355: I tensorflow/core/grappler/optimizers/custom_graph_optimizer_registry.cc:112] Plugin optimizer for device_type GPU is enabled.\n"
     ]
    },
    {
     "name": "stdout",
     "output_type": "stream",
     "text": [
      "105/105 [==============================] - 6s 48ms/step - loss: 1.2889 - accuracy: 0.5122 - val_loss: 0.7148 - val_accuracy: 0.7306\n",
      "Epoch 2/40\n",
      "105/105 [==============================] - 5s 46ms/step - loss: 0.5756 - accuracy: 0.7991 - val_loss: 0.5247 - val_accuracy: 0.8472\n",
      "Epoch 3/40\n",
      "105/105 [==============================] - 5s 46ms/step - loss: 0.3376 - accuracy: 0.8884 - val_loss: 0.5206 - val_accuracy: 0.8653\n",
      "Epoch 4/40\n",
      "105/105 [==============================] - 4s 42ms/step - loss: 0.2418 - accuracy: 0.9360 - val_loss: 0.7083 - val_accuracy: 0.8611\n",
      "Epoch 5/40\n",
      "105/105 [==============================] - 7s 69ms/step - loss: 0.1615 - accuracy: 0.9464 - val_loss: 0.4260 - val_accuracy: 0.9069\n",
      "Epoch 6/40\n",
      "105/105 [==============================] - 8s 72ms/step - loss: 0.1562 - accuracy: 0.9631 - val_loss: 0.3894 - val_accuracy: 0.9083\n",
      "Epoch 7/40\n",
      "105/105 [==============================] - 5s 46ms/step - loss: 0.1025 - accuracy: 0.9693 - val_loss: 0.7039 - val_accuracy: 0.8986\n",
      "Epoch 8/40\n",
      "105/105 [==============================] - 5s 47ms/step - loss: 0.1119 - accuracy: 0.9789 - val_loss: 0.5026 - val_accuracy: 0.9111\n",
      "Epoch 9/40\n",
      "105/105 [==============================] - 5s 48ms/step - loss: 0.1234 - accuracy: 0.9765 - val_loss: 0.6538 - val_accuracy: 0.9083\n",
      "Epoch 10/40\n",
      "105/105 [==============================] - 5s 50ms/step - loss: 0.1011 - accuracy: 0.9830 - val_loss: 0.4423 - val_accuracy: 0.9194\n",
      "Epoch 11/40\n",
      "105/105 [==============================] - 5s 48ms/step - loss: 0.1127 - accuracy: 0.9789 - val_loss: 0.8973 - val_accuracy: 0.8861\n",
      "Epoch 12/40\n",
      "105/105 [==============================] - 5s 47ms/step - loss: 0.0907 - accuracy: 0.9818 - val_loss: 1.0290 - val_accuracy: 0.9028\n",
      "Epoch 13/40\n",
      "105/105 [==============================] - 5s 48ms/step - loss: 0.0757 - accuracy: 0.9833 - val_loss: 0.7457 - val_accuracy: 0.9194\n",
      "Epoch 14/40\n",
      "105/105 [==============================] - 5s 49ms/step - loss: 0.0685 - accuracy: 0.9878 - val_loss: 0.5718 - val_accuracy: 0.9389\n",
      "Epoch 15/40\n",
      "105/105 [==============================] - 11s 105ms/step - loss: 0.0694 - accuracy: 0.9857 - val_loss: 1.0851 - val_accuracy: 0.9042\n",
      "Epoch 16/40\n",
      "105/105 [==============================] - 5s 49ms/step - loss: 0.0644 - accuracy: 0.9875 - val_loss: 1.4259 - val_accuracy: 0.8917\n",
      "Epoch 17/40\n",
      "105/105 [==============================] - 5s 50ms/step - loss: 0.0957 - accuracy: 0.9854 - val_loss: 1.5413 - val_accuracy: 0.8708\n",
      "Epoch 18/40\n",
      "105/105 [==============================] - 5s 50ms/step - loss: 0.1002 - accuracy: 0.9813 - val_loss: 1.0884 - val_accuracy: 0.9194\n",
      "Epoch 19/40\n",
      "105/105 [==============================] - 5s 51ms/step - loss: 0.0491 - accuracy: 0.9884 - val_loss: 1.5928 - val_accuracy: 0.9139\n",
      "Epoch 20/40\n",
      "105/105 [==============================] - 6s 52ms/step - loss: 0.0955 - accuracy: 0.9872 - val_loss: 0.6859 - val_accuracy: 0.9403\n",
      "Epoch 21/40\n",
      "105/105 [==============================] - 5s 50ms/step - loss: 0.0805 - accuracy: 0.9893 - val_loss: 1.2305 - val_accuracy: 0.9139\n",
      "Epoch 22/40\n",
      "105/105 [==============================] - 5s 52ms/step - loss: 0.1005 - accuracy: 0.9875 - val_loss: 1.6881 - val_accuracy: 0.8958\n",
      "Epoch 23/40\n",
      "105/105 [==============================] - 5s 51ms/step - loss: 0.0772 - accuracy: 0.9896 - val_loss: 1.3809 - val_accuracy: 0.9153\n",
      "Epoch 24/40\n",
      "105/105 [==============================] - 5s 51ms/step - loss: 0.0950 - accuracy: 0.9872 - val_loss: 0.9954 - val_accuracy: 0.9319\n",
      "Epoch 25/40\n",
      "105/105 [==============================] - 5s 52ms/step - loss: 0.0670 - accuracy: 0.9908 - val_loss: 1.5704 - val_accuracy: 0.9111\n",
      "Epoch 26/40\n",
      "105/105 [==============================] - 5s 51ms/step - loss: 0.1047 - accuracy: 0.9908 - val_loss: 1.7240 - val_accuracy: 0.9306\n",
      "Epoch 27/40\n",
      "105/105 [==============================] - 5s 52ms/step - loss: 0.0852 - accuracy: 0.9896 - val_loss: 1.0875 - val_accuracy: 0.9306\n",
      "Epoch 28/40\n",
      "105/105 [==============================] - 5s 50ms/step - loss: 0.0730 - accuracy: 0.9929 - val_loss: 1.6906 - val_accuracy: 0.9083\n",
      "Epoch 29/40\n",
      "105/105 [==============================] - 5s 50ms/step - loss: 0.1070 - accuracy: 0.9869 - val_loss: 1.4053 - val_accuracy: 0.9111\n",
      "Epoch 30/40\n",
      "105/105 [==============================] - 5s 50ms/step - loss: 0.0852 - accuracy: 0.9923 - val_loss: 1.3355 - val_accuracy: 0.9361\n",
      "Epoch 31/40\n",
      "105/105 [==============================] - 5s 51ms/step - loss: 0.1079 - accuracy: 0.9923 - val_loss: 1.5529 - val_accuracy: 0.9278\n",
      "Epoch 32/40\n",
      "105/105 [==============================] - 5s 52ms/step - loss: 0.0924 - accuracy: 0.9940 - val_loss: 2.0183 - val_accuracy: 0.9319\n",
      "Epoch 33/40\n",
      "105/105 [==============================] - 6s 53ms/step - loss: 0.1055 - accuracy: 0.9902 - val_loss: 2.3395 - val_accuracy: 0.9250\n",
      "Epoch 34/40\n",
      "105/105 [==============================] - 6s 53ms/step - loss: 0.1131 - accuracy: 0.9917 - val_loss: 6.1509 - val_accuracy: 0.8569\n",
      "Epoch 35/40\n",
      "105/105 [==============================] - 10s 98ms/step - loss: 0.0524 - accuracy: 0.9935 - val_loss: 2.2197 - val_accuracy: 0.9375\n",
      "Epoch 36/40\n",
      "105/105 [==============================] - 5s 52ms/step - loss: 0.1100 - accuracy: 0.9914 - val_loss: 2.4901 - val_accuracy: 0.9083\n",
      "Epoch 37/40\n",
      "105/105 [==============================] - 10s 97ms/step - loss: 0.0963 - accuracy: 0.9932 - val_loss: 1.9912 - val_accuracy: 0.9139\n",
      "Epoch 38/40\n",
      "105/105 [==============================] - 6s 53ms/step - loss: 0.0932 - accuracy: 0.9896 - val_loss: 2.2333 - val_accuracy: 0.9361\n",
      "Epoch 39/40\n",
      "105/105 [==============================] - 10s 91ms/step - loss: 0.0605 - accuracy: 0.9929 - val_loss: 2.2599 - val_accuracy: 0.9111\n",
      "Epoch 40/40\n",
      "105/105 [==============================] - 13s 126ms/step - loss: 0.1211 - accuracy: 0.9893 - val_loss: 2.5684 - val_accuracy: 0.9333\n"
     ]
    }
   ],
   "source": [
    "IMAGE_SIZE = 100\n",
    "BATCH_SIZE = 32\n",
    "\n",
    "train = keras.utils.image_dataset_from_directory(\"datasets/data/split/vehicles_zenodo/train/\", image_size=(IMAGE_SIZE, IMAGE_SIZE), batch_size=BATCH_SIZE)\n",
    "val = keras.utils.image_dataset_from_directory(\"datasets/data/split/vehicles_zenodo/val\", image_size=(IMAGE_SIZE, IMAGE_SIZE), batch_size=BATCH_SIZE)\n",
    "test = keras.utils.image_dataset_from_directory(\"datasets/data/split/vehicles_zenodo/test\", image_size=(IMAGE_SIZE, IMAGE_SIZE), batch_size=BATCH_SIZE)\n",
    "\n",
    "callbacks_list = [\n",
    "    # keras.callbacks.EarlyStopping(\n",
    "    #     monitor=\"val_accuracy\",\n",
    "    #     patience=7\n",
    "    # ),\n",
    "    keras.callbacks.ModelCheckpoint(\n",
    "        filepath=\"models/transfer_2.h5\",\n",
    "        monitor=\"val_loss\",\n",
    "        save_best_only=True\n",
    "    )\n",
    "]\n",
    "\n",
    "history = model.fit(\n",
    "  train.cache(),\n",
    "  epochs=40,\n",
    "  callbacks=callbacks_list,\n",
    "  validation_data=val.cache()\n",
    ")"
   ]
  },
  {
   "cell_type": "code",
   "execution_count": 4,
   "metadata": {},
   "outputs": [
    {
     "name": "stdout",
     "output_type": "stream",
     "text": [
      " 3/23 [==>...........................] - ETA: 0s - loss: 0.7993 - accuracy: 0.8750"
     ]
    },
    {
     "name": "stderr",
     "output_type": "stream",
     "text": [
      "2022-08-02 07:24:09.412880: I tensorflow/core/grappler/optimizers/custom_graph_optimizer_registry.cc:112] Plugin optimizer for device_type GPU is enabled.\n"
     ]
    },
    {
     "name": "stdout",
     "output_type": "stream",
     "text": [
      "23/23 [==============================] - 1s 26ms/step - loss: 0.3751 - accuracy: 0.9014\n"
     ]
    },
    {
     "data": {
      "text/plain": [
       "[0.37506383657455444, 0.9013888835906982]"
      ]
     },
     "execution_count": 4,
     "metadata": {},
     "output_type": "execute_result"
    }
   ],
   "source": [
    "load_model_1 = keras.models.load_model(\"models/transfer_2.h5\")\n",
    "load_model_1.evaluate(test)"
   ]
  },
  {
   "cell_type": "code",
   "execution_count": 5,
   "metadata": {},
   "outputs": [
    {
     "name": "stdout",
     "output_type": "stream",
     "text": [
      "Model: \"model_1\"\n",
      "_________________________________________________________________\n",
      " Layer (type)                Output Shape              Param #   \n",
      "=================================================================\n",
      " input_1 (InputLayer)        [(None, 100, 100, 3)]     0         \n",
      "                                                                 \n",
      " conv2d_2 (Conv2D)           (None, 98, 98, 32)        896       \n",
      "                                                                 \n",
      " max_pooling2d (MaxPooling2D  (None, 49, 49, 32)       0         \n",
      " )                                                               \n",
      "                                                                 \n",
      " conv2d_3 (Conv2D)           (None, 47, 47, 64)        18496     \n",
      "                                                                 \n",
      " conv2d_4 (Conv2D)           (None, 45, 45, 64)        36928     \n",
      "                                                                 \n",
      " max_pooling2d_1 (MaxPooling  (None, 22, 22, 64)       0         \n",
      " 2D)                                                             \n",
      "                                                                 \n",
      " conv2d_5 (Conv2D)           (None, 20, 20, 128)       73856     \n",
      "                                                                 \n",
      " conv2d_6 (Conv2D)           (None, 18, 18, 128)       147584    \n",
      "                                                                 \n",
      " max_pooling2d_2 (MaxPooling  (None, 9, 9, 128)        0         \n",
      " 2D)                                                             \n",
      "                                                                 \n",
      " conv2d_7 (Conv2D)           (None, 7, 7, 256)         295168    \n",
      "                                                                 \n",
      " conv2d_8 (Conv2D)           (None, 5, 5, 256)         590080    \n",
      "                                                                 \n",
      " global_average_pooling2d (G  (None, 256)              0         \n",
      " lobalAveragePooling2D)                                          \n",
      "                                                                 \n",
      " dense (Dense)               (None, 256)               65792     \n",
      "                                                                 \n",
      " dropout (Dropout)           (None, 256)               0         \n",
      "                                                                 \n",
      " dense_1 (Dense)             (None, 6)                 1542      \n",
      "                                                                 \n",
      "=================================================================\n",
      "Total params: 1,230,342\n",
      "Trainable params: 1,230,342\n",
      "Non-trainable params: 0\n",
      "_________________________________________________________________\n"
     ]
    }
   ],
   "source": [
    "inputs = keras.Input(shape=(100, 100, 3))\n",
    "x = keras.layers.Conv2D(32, 3, activation='relu')(inputs)\n",
    "x = keras.layers.Conv2D(32, 3, activation='relu')(inputs)\n",
    "x = keras.layers.Conv2D(32, 3, activation='relu')(inputs)\n",
    "x = keras.layers.MaxPooling2D(2)(x)\n",
    "x = keras.layers.Conv2D(64, 3, activation='relu')(x)\n",
    "x = keras.layers.Conv2D(64, 3, activation='relu')(x)\n",
    "x = keras.layers.MaxPooling2D(2)(x)\n",
    "x = keras.layers.Conv2D(128, 3, activation='relu')(x)\n",
    "x = keras.layers.Conv2D(128, 3, activation='relu')(x)\n",
    "x = keras.layers.MaxPooling2D(2)(x)\n",
    "x = keras.layers.Conv2D(256, 3, activation='relu')(x)\n",
    "x = keras.layers.Conv2D(256, 3, activation='relu')(x)\n",
    "x = keras.layers.GlobalAveragePooling2D()(x)\n",
    "x = keras.layers.Dense(256, activation='relu')(x)\n",
    "x = keras.layers.Dropout(0.5)(x)\n",
    "outputs = keras.layers.Dense(6, activation='softmax')(x)\n",
    "\n",
    "umodel = keras.Model(inputs, outputs)\n",
    "\n",
    "umodel.compile(optimizer='rmsprop', loss='sparse_categorical_crossentropy', metrics=['accuracy'])\n",
    "\n",
    "umodel.summary()"
   ]
  },
  {
   "cell_type": "code",
   "execution_count": 6,
   "metadata": {},
   "outputs": [
    {
     "name": "stdout",
     "output_type": "stream",
     "text": [
      "Epoch 1/40\n"
     ]
    },
    {
     "name": "stderr",
     "output_type": "stream",
     "text": [
      "2022-08-02 07:25:00.414711: I tensorflow/core/grappler/optimizers/custom_graph_optimizer_registry.cc:112] Plugin optimizer for device_type GPU is enabled.\n"
     ]
    },
    {
     "name": "stdout",
     "output_type": "stream",
     "text": [
      "105/105 [==============================] - ETA: 0s - loss: 2.7039 - accuracy: 0.1842"
     ]
    },
    {
     "name": "stderr",
     "output_type": "stream",
     "text": [
      "2022-08-02 07:25:08.157390: I tensorflow/core/grappler/optimizers/custom_graph_optimizer_registry.cc:112] Plugin optimizer for device_type GPU is enabled.\n"
     ]
    },
    {
     "name": "stdout",
     "output_type": "stream",
     "text": [
      "105/105 [==============================] - 9s 76ms/step - loss: 2.7039 - accuracy: 0.1842 - val_loss: 1.7905 - val_accuracy: 0.1625\n",
      "Epoch 2/40\n",
      "105/105 [==============================] - 7s 71ms/step - loss: 1.8313 - accuracy: 0.2655 - val_loss: 1.3952 - val_accuracy: 0.4458\n",
      "Epoch 3/40\n",
      "105/105 [==============================] - 8s 74ms/step - loss: 1.2630 - accuracy: 0.5232 - val_loss: 1.2137 - val_accuracy: 0.5875\n",
      "Epoch 4/40\n",
      "105/105 [==============================] - 8s 75ms/step - loss: 0.9092 - accuracy: 0.6839 - val_loss: 0.6190 - val_accuracy: 0.7792\n",
      "Epoch 5/40\n",
      "105/105 [==============================] - 8s 78ms/step - loss: 0.5816 - accuracy: 0.7991 - val_loss: 0.5052 - val_accuracy: 0.8000\n",
      "Epoch 6/40\n",
      "105/105 [==============================] - 9s 81ms/step - loss: 0.4523 - accuracy: 0.8506 - val_loss: 0.4488 - val_accuracy: 0.8403\n",
      "Epoch 7/40\n",
      "105/105 [==============================] - 8s 80ms/step - loss: 0.2894 - accuracy: 0.9039 - val_loss: 1.0309 - val_accuracy: 0.7458\n",
      "Epoch 8/40\n",
      "105/105 [==============================] - 8s 81ms/step - loss: 0.2504 - accuracy: 0.9185 - val_loss: 0.2103 - val_accuracy: 0.9292\n",
      "Epoch 9/40\n",
      "105/105 [==============================] - 9s 82ms/step - loss: 0.2055 - accuracy: 0.9438 - val_loss: 0.3201 - val_accuracy: 0.9264\n",
      "Epoch 10/40\n",
      "105/105 [==============================] - 9s 82ms/step - loss: 0.2117 - accuracy: 0.9440 - val_loss: 0.2747 - val_accuracy: 0.9278\n",
      "Epoch 11/40\n",
      "105/105 [==============================] - 9s 82ms/step - loss: 0.1510 - accuracy: 0.9613 - val_loss: 0.3019 - val_accuracy: 0.9319\n",
      "Epoch 12/40\n",
      "105/105 [==============================] - 11s 102ms/step - loss: 0.1695 - accuracy: 0.9631 - val_loss: 1.0814 - val_accuracy: 0.8583\n",
      "Epoch 13/40\n",
      "105/105 [==============================] - 15s 144ms/step - loss: 0.1523 - accuracy: 0.9640 - val_loss: 0.3700 - val_accuracy: 0.9333\n",
      "Epoch 14/40\n",
      "105/105 [==============================] - 12s 112ms/step - loss: 0.1462 - accuracy: 0.9649 - val_loss: 0.3033 - val_accuracy: 0.9375\n",
      "Epoch 15/40\n",
      "105/105 [==============================] - 16s 151ms/step - loss: 0.1614 - accuracy: 0.9708 - val_loss: 0.4191 - val_accuracy: 0.9389\n",
      "Epoch 16/40\n",
      "105/105 [==============================] - 12s 113ms/step - loss: 0.2195 - accuracy: 0.9720 - val_loss: 0.5299 - val_accuracy: 0.9347\n",
      "Epoch 17/40\n",
      "105/105 [==============================] - 13s 127ms/step - loss: 0.1054 - accuracy: 0.9750 - val_loss: 1.9382 - val_accuracy: 0.8194\n",
      "Epoch 18/40\n",
      "105/105 [==============================] - 11s 102ms/step - loss: 0.1488 - accuracy: 0.9696 - val_loss: 0.3872 - val_accuracy: 0.9431\n",
      "Epoch 19/40\n",
      "105/105 [==============================] - 11s 103ms/step - loss: 0.1030 - accuracy: 0.9798 - val_loss: 0.3428 - val_accuracy: 0.9319\n",
      "Epoch 20/40\n",
      "105/105 [==============================] - 13s 127ms/step - loss: 0.1829 - accuracy: 0.9720 - val_loss: 0.3964 - val_accuracy: 0.9444\n",
      "Epoch 21/40\n",
      "105/105 [==============================] - 13s 127ms/step - loss: 0.1168 - accuracy: 0.9771 - val_loss: 0.2388 - val_accuracy: 0.9458\n",
      "Epoch 22/40\n",
      "105/105 [==============================] - 13s 126ms/step - loss: 0.1225 - accuracy: 0.9813 - val_loss: 0.6605 - val_accuracy: 0.9236\n",
      "Epoch 23/40\n",
      "105/105 [==============================] - 11s 101ms/step - loss: 0.1213 - accuracy: 0.9789 - val_loss: 0.5818 - val_accuracy: 0.9403\n",
      "Epoch 24/40\n",
      "105/105 [==============================] - 10s 95ms/step - loss: 0.1422 - accuracy: 0.9792 - val_loss: 0.6443 - val_accuracy: 0.9292\n",
      "Epoch 25/40\n",
      "105/105 [==============================] - 9s 83ms/step - loss: 0.0868 - accuracy: 0.9807 - val_loss: 0.8620 - val_accuracy: 0.9236\n",
      "Epoch 26/40\n",
      "105/105 [==============================] - 14s 132ms/step - loss: 0.1245 - accuracy: 0.9827 - val_loss: 0.6660 - val_accuracy: 0.9264\n",
      "Epoch 27/40\n",
      "105/105 [==============================] - 16s 154ms/step - loss: 0.1072 - accuracy: 0.9878 - val_loss: 0.6658 - val_accuracy: 0.9514\n",
      "Epoch 28/40\n",
      "105/105 [==============================] - 13s 119ms/step - loss: 0.2665 - accuracy: 0.9777 - val_loss: 0.6647 - val_accuracy: 0.9375\n",
      "Epoch 29/40\n",
      "105/105 [==============================] - 15s 143ms/step - loss: 0.1305 - accuracy: 0.9801 - val_loss: 1.7538 - val_accuracy: 0.8931\n",
      "Epoch 30/40\n",
      "105/105 [==============================] - 14s 135ms/step - loss: 0.0956 - accuracy: 0.9845 - val_loss: 1.4692 - val_accuracy: 0.9028\n",
      "Epoch 31/40\n",
      "105/105 [==============================] - 14s 136ms/step - loss: 0.1439 - accuracy: 0.9842 - val_loss: 0.7407 - val_accuracy: 0.9472\n",
      "Epoch 32/40\n",
      "105/105 [==============================] - 14s 137ms/step - loss: 0.1793 - accuracy: 0.9804 - val_loss: 0.8640 - val_accuracy: 0.9444\n",
      "Epoch 33/40\n",
      "105/105 [==============================] - 10s 94ms/step - loss: 0.1221 - accuracy: 0.9893 - val_loss: 2.0328 - val_accuracy: 0.8861\n",
      "Epoch 34/40\n",
      "105/105 [==============================] - 9s 88ms/step - loss: 0.1475 - accuracy: 0.9810 - val_loss: 1.0435 - val_accuracy: 0.9319\n",
      "Epoch 35/40\n",
      "105/105 [==============================] - 9s 86ms/step - loss: 0.1550 - accuracy: 0.9821 - val_loss: 0.6142 - val_accuracy: 0.9375\n",
      "Epoch 36/40\n",
      "105/105 [==============================] - 9s 90ms/step - loss: 0.1594 - accuracy: 0.9839 - val_loss: 2.2643 - val_accuracy: 0.9222\n",
      "Epoch 37/40\n",
      "105/105 [==============================] - 10s 92ms/step - loss: 0.1422 - accuracy: 0.9890 - val_loss: 0.8732 - val_accuracy: 0.9292\n",
      "Epoch 38/40\n",
      "105/105 [==============================] - 9s 90ms/step - loss: 0.0973 - accuracy: 0.9890 - val_loss: 1.6474 - val_accuracy: 0.8847\n",
      "Epoch 39/40\n",
      "105/105 [==============================] - 9s 88ms/step - loss: 0.1257 - accuracy: 0.9866 - val_loss: 1.0977 - val_accuracy: 0.9375\n",
      "Epoch 40/40\n",
      "105/105 [==============================] - 14s 130ms/step - loss: 0.2493 - accuracy: 0.9765 - val_loss: 0.8224 - val_accuracy: 0.9347\n"
     ]
    }
   ],
   "source": [
    "callbacks_list = [\n",
    "    # keras.callbacks.EarlyStopping(\n",
    "    #     monitor=\"val_accuracy\",\n",
    "    #     patience=7\n",
    "    # ),\n",
    "    keras.callbacks.ModelCheckpoint(\n",
    "        filepath=\"models/zenodo_from_vtid_spec_big.h5\",\n",
    "        monitor=\"val_loss\",\n",
    "        save_best_only=True\n",
    "    )\n",
    "]\n",
    "\n",
    "history = umodel.fit(\n",
    "  train.cache(),\n",
    "  epochs=40,\n",
    "  callbacks=callbacks_list,\n",
    "  validation_data=val.cache()\n",
    ")"
   ]
  },
  {
   "cell_type": "code",
   "execution_count": 7,
   "metadata": {},
   "outputs": [
    {
     "name": "stdout",
     "output_type": "stream",
     "text": [
      " 1/23 [>.............................] - ETA: 4s - loss: 0.3430 - accuracy: 0.8750"
     ]
    },
    {
     "name": "stderr",
     "output_type": "stream",
     "text": [
      "2022-08-02 07:34:11.025010: I tensorflow/core/grappler/optimizers/custom_graph_optimizer_registry.cc:112] Plugin optimizer for device_type GPU is enabled.\n"
     ]
    },
    {
     "name": "stdout",
     "output_type": "stream",
     "text": [
      "23/23 [==============================] - 1s 24ms/step - loss: 0.2196 - accuracy: 0.9292\n"
     ]
    },
    {
     "data": {
      "text/plain": [
       "[0.21957038342952728, 0.9291666746139526]"
      ]
     },
     "execution_count": 7,
     "metadata": {},
     "output_type": "execute_result"
    }
   ],
   "source": [
    "load_model_2 = keras.models.load_model(\"models/zenodo_from_vtid_spec_big.h5\")\n",
    "load_model_2.evaluate(test)"
   ]
  },
  {
   "cell_type": "markdown",
   "metadata": {},
   "source": [
    "# All Trainable Layers Transfer Learning - start from nonrandom weights"
   ]
  },
  {
   "cell_type": "code",
   "execution_count": 8,
   "metadata": {},
   "outputs": [
    {
     "name": "stdout",
     "output_type": "stream",
     "text": [
      "Model: \"model_2\"\n",
      "_________________________________________________________________\n",
      " Layer (type)                Output Shape              Param #   \n",
      "=================================================================\n",
      " input_4 (InputLayer)        [(None, 100, 100, 3)]     0         \n",
      "                                                                 \n",
      " conv2d_29 (Conv2D)          (None, 98, 98, 32)        896       \n",
      "                                                                 \n",
      " max_pooling2d_9 (MaxPooling  (None, 49, 49, 32)       0         \n",
      " 2D)                                                             \n",
      "                                                                 \n",
      " conv2d_30 (Conv2D)          (None, 47, 47, 64)        18496     \n",
      "                                                                 \n",
      " conv2d_31 (Conv2D)          (None, 45, 45, 64)        36928     \n",
      "                                                                 \n",
      " max_pooling2d_10 (MaxPoolin  (None, 22, 22, 64)       0         \n",
      " g2D)                                                            \n",
      "                                                                 \n",
      " conv2d_32 (Conv2D)          (None, 20, 20, 128)       73856     \n",
      "                                                                 \n",
      " conv2d_33 (Conv2D)          (None, 18, 18, 128)       147584    \n",
      "                                                                 \n",
      " max_pooling2d_11 (MaxPoolin  (None, 9, 9, 128)        0         \n",
      " g2D)                                                            \n",
      "                                                                 \n",
      " conv2d_34 (Conv2D)          (None, 7, 7, 256)         295168    \n",
      "                                                                 \n",
      " conv2d_35 (Conv2D)          (None, 5, 5, 256)         590080    \n",
      "                                                                 \n",
      " global_average_pooling2d_3   (None, 256)              0         \n",
      " (GlobalAveragePooling2D)                                        \n",
      "                                                                 \n",
      " dense_6 (Dense)             (None, 256)               65792     \n",
      "                                                                 \n",
      " dropout_3 (Dropout)         (None, 256)               0         \n",
      "                                                                 \n",
      " classifier (Dense)          (None, 6)                 1542      \n",
      "                                                                 \n",
      "=================================================================\n",
      "Total params: 1,230,342\n",
      "Trainable params: 1,230,342\n",
      "Non-trainable params: 0\n",
      "_________________________________________________________________\n"
     ]
    }
   ],
   "source": [
    "vtid_allTrainable = keras.models.load_model('models/vtid_2.h5')\n",
    "x = vtid_allTrainable.layers[-2].output\n",
    "outputs = keras.layers.Dense(6, activation='softmax', name='classifier')(x)\n",
    "allmodel = keras.Model(vtid_allTrainable.inputs, outputs)\n",
    "allmodel.compile(optimizer='rmsprop', loss='sparse_categorical_crossentropy', metrics=['accuracy'])\n",
    "allmodel.summary()"
   ]
  },
  {
   "cell_type": "code",
   "execution_count": 9,
   "metadata": {},
   "outputs": [
    {
     "name": "stdout",
     "output_type": "stream",
     "text": [
      "Epoch 1/40\n"
     ]
    },
    {
     "name": "stderr",
     "output_type": "stream",
     "text": [
      "2022-08-02 07:36:13.499650: I tensorflow/core/grappler/optimizers/custom_graph_optimizer_registry.cc:112] Plugin optimizer for device_type GPU is enabled.\n"
     ]
    },
    {
     "name": "stdout",
     "output_type": "stream",
     "text": [
      "105/105 [==============================] - ETA: 0s - loss: 1.5330 - accuracy: 0.4113"
     ]
    },
    {
     "name": "stderr",
     "output_type": "stream",
     "text": [
      "2022-08-02 07:36:21.062229: I tensorflow/core/grappler/optimizers/custom_graph_optimizer_registry.cc:112] Plugin optimizer for device_type GPU is enabled.\n"
     ]
    },
    {
     "name": "stdout",
     "output_type": "stream",
     "text": [
      "105/105 [==============================] - 9s 72ms/step - loss: 1.5330 - accuracy: 0.4113 - val_loss: 0.8476 - val_accuracy: 0.7000\n",
      "Epoch 2/40\n",
      "105/105 [==============================] - 7s 71ms/step - loss: 0.7959 - accuracy: 0.7238 - val_loss: 1.0101 - val_accuracy: 0.7194\n",
      "Epoch 3/40\n",
      "105/105 [==============================] - 8s 73ms/step - loss: 0.5186 - accuracy: 0.8339 - val_loss: 0.4665 - val_accuracy: 0.8806\n",
      "Epoch 4/40\n",
      "105/105 [==============================] - 8s 73ms/step - loss: 0.3103 - accuracy: 0.8940 - val_loss: 0.4852 - val_accuracy: 0.8792\n",
      "Epoch 5/40\n",
      "105/105 [==============================] - 8s 73ms/step - loss: 0.2705 - accuracy: 0.9176 - val_loss: 0.4528 - val_accuracy: 0.9111\n",
      "Epoch 6/40\n",
      "105/105 [==============================] - 8s 73ms/step - loss: 0.2073 - accuracy: 0.9354 - val_loss: 0.5468 - val_accuracy: 0.9167\n",
      "Epoch 7/40\n",
      "105/105 [==============================] - 8s 78ms/step - loss: 0.1768 - accuracy: 0.9497 - val_loss: 0.7958 - val_accuracy: 0.8528\n",
      "Epoch 8/40\n",
      "105/105 [==============================] - 8s 79ms/step - loss: 0.1682 - accuracy: 0.9580 - val_loss: 0.5617 - val_accuracy: 0.9333\n",
      "Epoch 9/40\n",
      "105/105 [==============================] - 9s 87ms/step - loss: 0.1641 - accuracy: 0.9577 - val_loss: 0.6892 - val_accuracy: 0.8903\n",
      "Epoch 10/40\n",
      "105/105 [==============================] - 9s 82ms/step - loss: 0.1526 - accuracy: 0.9634 - val_loss: 0.5551 - val_accuracy: 0.9264\n",
      "Epoch 11/40\n",
      "105/105 [==============================] - 8s 81ms/step - loss: 0.1108 - accuracy: 0.9720 - val_loss: 0.4575 - val_accuracy: 0.9250\n",
      "Epoch 12/40\n",
      "105/105 [==============================] - 16s 150ms/step - loss: 0.1495 - accuracy: 0.9658 - val_loss: 0.5719 - val_accuracy: 0.9347\n",
      "Epoch 13/40\n",
      "105/105 [==============================] - 11s 107ms/step - loss: 0.2166 - accuracy: 0.9634 - val_loss: 0.8338 - val_accuracy: 0.9111\n",
      "Epoch 14/40\n",
      "105/105 [==============================] - 9s 82ms/step - loss: 0.1287 - accuracy: 0.9688 - val_loss: 0.5399 - val_accuracy: 0.9389\n",
      "Epoch 15/40\n",
      "105/105 [==============================] - 9s 84ms/step - loss: 0.1213 - accuracy: 0.9783 - val_loss: 0.6390 - val_accuracy: 0.9278\n",
      "Epoch 16/40\n",
      "105/105 [==============================] - 9s 83ms/step - loss: 0.1566 - accuracy: 0.9693 - val_loss: 0.7910 - val_accuracy: 0.9361\n",
      "Epoch 17/40\n",
      "105/105 [==============================] - 9s 83ms/step - loss: 0.1340 - accuracy: 0.9753 - val_loss: 0.6404 - val_accuracy: 0.9389\n",
      "Epoch 18/40\n",
      "105/105 [==============================] - 9s 84ms/step - loss: 0.1245 - accuracy: 0.9786 - val_loss: 0.7540 - val_accuracy: 0.9375\n",
      "Epoch 19/40\n",
      "105/105 [==============================] - 9s 89ms/step - loss: 0.1391 - accuracy: 0.9789 - val_loss: 0.7569 - val_accuracy: 0.9431\n",
      "Epoch 20/40\n",
      "105/105 [==============================] - 9s 86ms/step - loss: 0.1425 - accuracy: 0.9774 - val_loss: 1.1756 - val_accuracy: 0.9333\n",
      "Epoch 21/40\n",
      "105/105 [==============================] - 9s 84ms/step - loss: 0.1081 - accuracy: 0.9824 - val_loss: 1.8116 - val_accuracy: 0.8028\n",
      "Epoch 22/40\n",
      "105/105 [==============================] - 9s 86ms/step - loss: 0.1389 - accuracy: 0.9807 - val_loss: 2.0682 - val_accuracy: 0.8500\n",
      "Epoch 23/40\n",
      "105/105 [==============================] - 10s 92ms/step - loss: 0.1800 - accuracy: 0.9744 - val_loss: 1.2885 - val_accuracy: 0.9375\n",
      "Epoch 24/40\n",
      "105/105 [==============================] - 10s 91ms/step - loss: 0.1504 - accuracy: 0.9780 - val_loss: 1.1474 - val_accuracy: 0.9264\n",
      "Epoch 25/40\n",
      "105/105 [==============================] - 9s 88ms/step - loss: 0.0949 - accuracy: 0.9827 - val_loss: 1.0801 - val_accuracy: 0.9319\n",
      "Epoch 26/40\n",
      "105/105 [==============================] - 9s 86ms/step - loss: 0.2346 - accuracy: 0.9756 - val_loss: 1.0418 - val_accuracy: 0.9444\n",
      "Epoch 27/40\n",
      "105/105 [==============================] - 10s 92ms/step - loss: 0.1678 - accuracy: 0.9789 - val_loss: 0.9159 - val_accuracy: 0.9486\n",
      "Epoch 28/40\n",
      "105/105 [==============================] - 10s 93ms/step - loss: 0.0956 - accuracy: 0.9845 - val_loss: 1.3983 - val_accuracy: 0.9486\n",
      "Epoch 29/40\n",
      "105/105 [==============================] - 9s 89ms/step - loss: 0.1475 - accuracy: 0.9839 - val_loss: 1.8766 - val_accuracy: 0.9417\n",
      "Epoch 30/40\n",
      "105/105 [==============================] - 14s 136ms/step - loss: 0.2512 - accuracy: 0.9759 - val_loss: 2.1034 - val_accuracy: 0.9375\n",
      "Epoch 31/40\n",
      "105/105 [==============================] - 9s 86ms/step - loss: 0.2591 - accuracy: 0.9860 - val_loss: 0.9837 - val_accuracy: 0.9500\n",
      "Epoch 32/40\n",
      "105/105 [==============================] - 9s 84ms/step - loss: 0.1860 - accuracy: 0.9824 - val_loss: 1.6768 - val_accuracy: 0.9139\n",
      "Epoch 33/40\n",
      "105/105 [==============================] - 20s 194ms/step - loss: 0.2272 - accuracy: 0.9795 - val_loss: 1.4146 - val_accuracy: 0.9375\n",
      "Epoch 34/40\n",
      "105/105 [==============================] - 8s 81ms/step - loss: 0.2634 - accuracy: 0.9777 - val_loss: 2.7563 - val_accuracy: 0.9222\n",
      "Epoch 35/40\n",
      "105/105 [==============================] - 9s 90ms/step - loss: 0.1934 - accuracy: 0.9854 - val_loss: 2.1690 - val_accuracy: 0.9347\n",
      "Epoch 36/40\n",
      "105/105 [==============================] - 8s 79ms/step - loss: 0.2120 - accuracy: 0.9821 - val_loss: 1.6072 - val_accuracy: 0.9403\n",
      "Epoch 37/40\n",
      "105/105 [==============================] - 13s 122ms/step - loss: 0.1677 - accuracy: 0.9851 - val_loss: 2.0383 - val_accuracy: 0.9333\n",
      "Epoch 38/40\n",
      "105/105 [==============================] - 12s 118ms/step - loss: 0.2906 - accuracy: 0.9821 - val_loss: 3.1281 - val_accuracy: 0.9319\n",
      "Epoch 39/40\n",
      "105/105 [==============================] - 9s 83ms/step - loss: 0.1833 - accuracy: 0.9869 - val_loss: 1.3545 - val_accuracy: 0.9361\n",
      "Epoch 40/40\n",
      "105/105 [==============================] - 15s 147ms/step - loss: 0.1493 - accuracy: 0.9845 - val_loss: 1.0070 - val_accuracy: 0.9556\n"
     ]
    }
   ],
   "source": [
    "callbacks_list = [\n",
    "    # keras.callbacks.EarlyStopping(\n",
    "    #     monitor=\"val_accuracy\",\n",
    "    #     patience=7\n",
    "    # ),\n",
    "    keras.callbacks.ModelCheckpoint(\n",
    "        filepath=\"models/vtid_all_trainable_2.h5\",\n",
    "        monitor=\"val_loss\",\n",
    "        save_best_only=True\n",
    "    )\n",
    "]\n",
    "\n",
    "history = allmodel.fit(\n",
    "  train.cache(),\n",
    "  epochs=40,\n",
    "  callbacks=callbacks_list,\n",
    "  validation_data=val.cache()\n",
    ")"
   ]
  },
  {
   "cell_type": "code",
   "execution_count": 10,
   "metadata": {},
   "outputs": [
    {
     "name": "stdout",
     "output_type": "stream",
     "text": [
      " 1/23 [>.............................] - ETA: 9s - loss: 0.1495 - accuracy: 0.9375"
     ]
    },
    {
     "name": "stderr",
     "output_type": "stream",
     "text": [
      "2022-08-02 07:42:48.354310: I tensorflow/core/grappler/optimizers/custom_graph_optimizer_registry.cc:112] Plugin optimizer for device_type GPU is enabled.\n"
     ]
    },
    {
     "name": "stdout",
     "output_type": "stream",
     "text": [
      "23/23 [==============================] - 1s 24ms/step - loss: 0.2378 - accuracy: 0.9222\n"
     ]
    },
    {
     "data": {
      "text/plain": [
       "[0.23783867061138153, 0.9222222566604614]"
      ]
     },
     "execution_count": 10,
     "metadata": {},
     "output_type": "execute_result"
    }
   ],
   "source": [
    "load_model_3 = keras.models.load_model(\"models/vtid_all_trainable_2.h5\")\n",
    "load_model_3.evaluate(test)"
   ]
  }
 ],
 "metadata": {
  "kernelspec": {
   "display_name": "Python 3.9.7 ('base')",
   "language": "python",
   "name": "python3"
  },
  "language_info": {
   "codemirror_mode": {
    "name": "ipython",
    "version": 3
   },
   "file_extension": ".py",
   "mimetype": "text/x-python",
   "name": "python",
   "nbconvert_exporter": "python",
   "pygments_lexer": "ipython3",
   "version": "3.9.7"
  },
  "orig_nbformat": 4,
  "vscode": {
   "interpreter": {
    "hash": "c6e4e9f98eb68ad3b7c296f83d20e6de614cb42e90992a65aa266555a3137d0d"
   }
  }
 },
 "nbformat": 4,
 "nbformat_minor": 2
}
