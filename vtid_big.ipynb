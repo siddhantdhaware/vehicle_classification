{
 "cells": [
  {
   "cell_type": "code",
   "execution_count": 13,
   "metadata": {},
   "outputs": [],
   "source": [
    "import tensorflow as tf\n",
    "from tensorflow.keras import layers, utils\n",
    "from tensorflow import keras\n",
    "from matplotlib import pyplot as plt"
   ]
  },
  {
   "cell_type": "code",
   "execution_count": 14,
   "metadata": {},
   "outputs": [
    {
     "name": "stdout",
     "output_type": "stream",
     "text": [
      "Found 3048 files belonging to 5 classes.\n",
      "Found 652 files belonging to 5 classes.\n",
      "Found 656 files belonging to 5 classes.\n"
     ]
    }
   ],
   "source": [
    "IMAGE_SIZE = 100\n",
    "BATCH_SIZE = 32\n",
    "\n",
    "train = utils.image_dataset_from_directory(\"datasets/data/split/VTID2/train/\", image_size=(IMAGE_SIZE, IMAGE_SIZE), batch_size=BATCH_SIZE)\n",
    "val = utils.image_dataset_from_directory(\"datasets/data/split/VTID2/val\", image_size=(IMAGE_SIZE, IMAGE_SIZE), batch_size=BATCH_SIZE)\n",
    "test = utils.image_dataset_from_directory(\"datasets/data/split/VTID2/test\", image_size=(IMAGE_SIZE, IMAGE_SIZE), batch_size=BATCH_SIZE)"
   ]
  },
  {
   "cell_type": "code",
   "execution_count": 15,
   "metadata": {},
   "outputs": [
    {
     "name": "stdout",
     "output_type": "stream",
     "text": [
      "Model: \"model_3\"\n",
      "_________________________________________________________________\n",
      " Layer (type)                Output Shape              Param #   \n",
      "=================================================================\n",
      " input_4 (InputLayer)        [(None, 100, 100, 3)]     0         \n",
      "                                                                 \n",
      " conv2d_29 (Conv2D)          (None, 98, 98, 32)        896       \n",
      "                                                                 \n",
      " max_pooling2d_9 (MaxPooling  (None, 49, 49, 32)       0         \n",
      " 2D)                                                             \n",
      "                                                                 \n",
      " conv2d_30 (Conv2D)          (None, 47, 47, 64)        18496     \n",
      "                                                                 \n",
      " conv2d_31 (Conv2D)          (None, 45, 45, 64)        36928     \n",
      "                                                                 \n",
      " max_pooling2d_10 (MaxPoolin  (None, 22, 22, 64)       0         \n",
      " g2D)                                                            \n",
      "                                                                 \n",
      " conv2d_32 (Conv2D)          (None, 20, 20, 128)       73856     \n",
      "                                                                 \n",
      " conv2d_33 (Conv2D)          (None, 18, 18, 128)       147584    \n",
      "                                                                 \n",
      " max_pooling2d_11 (MaxPoolin  (None, 9, 9, 128)        0         \n",
      " g2D)                                                            \n",
      "                                                                 \n",
      " conv2d_34 (Conv2D)          (None, 7, 7, 256)         295168    \n",
      "                                                                 \n",
      " conv2d_35 (Conv2D)          (None, 5, 5, 256)         590080    \n",
      "                                                                 \n",
      " global_average_pooling2d_3   (None, 256)              0         \n",
      " (GlobalAveragePooling2D)                                        \n",
      "                                                                 \n",
      " dense_6 (Dense)             (None, 256)               65792     \n",
      "                                                                 \n",
      " dropout_3 (Dropout)         (None, 256)               0         \n",
      "                                                                 \n",
      " dense_7 (Dense)             (None, 5)                 1285      \n",
      "                                                                 \n",
      "=================================================================\n",
      "Total params: 1,230,085\n",
      "Trainable params: 1,230,085\n",
      "Non-trainable params: 0\n",
      "_________________________________________________________________\n"
     ]
    }
   ],
   "source": [
    "inputs = keras.Input(shape=(100, 100, 3))\n",
    "x = layers.Conv2D(32, 3, activation='relu')(inputs)\n",
    "x = layers.Conv2D(32, 3, activation='relu')(inputs)\n",
    "x = layers.Conv2D(32, 3, activation='relu')(inputs)\n",
    "x = layers.MaxPooling2D(2)(x)\n",
    "x = layers.Conv2D(64, 3, activation='relu')(x)\n",
    "x = layers.Conv2D(64, 3, activation='relu')(x)\n",
    "x = layers.MaxPooling2D(2)(x)\n",
    "x = layers.Conv2D(128, 3, activation='relu')(x)\n",
    "x = layers.Conv2D(128, 3, activation='relu')(x)\n",
    "x = layers.MaxPooling2D(2)(x)\n",
    "x = layers.Conv2D(256, 3, activation='relu')(x)\n",
    "x = layers.Conv2D(256, 3, activation='relu')(x)\n",
    "x = layers.GlobalAveragePooling2D()(x)\n",
    "x = layers.Dense(256, activation='relu')(x)\n",
    "x = layers.Dropout(0.5)(x)\n",
    "outputs = layers.Dense(5, activation='softmax')(x)\n",
    "\n",
    "model = keras.Model(inputs, outputs)\n",
    "\n",
    "model.compile(optimizer=keras.optimizers.RMSprop(0.001), loss='sparse_categorical_crossentropy', metrics=['accuracy'])\n",
    "\n",
    "model.summary()"
   ]
  },
  {
   "cell_type": "code",
   "execution_count": 16,
   "metadata": {},
   "outputs": [],
   "source": [
    "callbacks_list = [\n",
    "    # keras.callbacks.EarlyStopping(\n",
    "    #     monitor=\"val_accuracy\",\n",
    "    #     patience=7\n",
    "    # ),\n",
    "    keras.callbacks.ModelCheckpoint(\n",
    "        filepath=\"models/vtid_2.h5\",\n",
    "        monitor=\"val_loss\",\n",
    "        save_best_only=True\n",
    "    )\n",
    "]"
   ]
  },
  {
   "cell_type": "code",
   "execution_count": 17,
   "metadata": {},
   "outputs": [
    {
     "name": "stdout",
     "output_type": "stream",
     "text": [
      "Epoch 1/40\n"
     ]
    },
    {
     "name": "stderr",
     "output_type": "stream",
     "text": [
      "2022-08-02 06:54:18.052673: W tensorflow/core/platform/profile_utils/cpu_utils.cc:128] Failed to get CPU frequency: 0 Hz\n",
      "2022-08-02 06:54:18.052779: I tensorflow/core/grappler/optimizers/custom_graph_optimizer_registry.cc:112] Plugin optimizer for device_type GPU is enabled.\n"
     ]
    },
    {
     "name": "stdout",
     "output_type": "stream",
     "text": [
      "96/96 [==============================] - ETA: 0s - loss: 3.2617 - accuracy: 0.2890"
     ]
    },
    {
     "name": "stderr",
     "output_type": "stream",
     "text": [
      "2022-08-02 06:54:30.414490: I tensorflow/core/grappler/optimizers/custom_graph_optimizer_registry.cc:112] Plugin optimizer for device_type GPU is enabled.\n"
     ]
    },
    {
     "name": "stdout",
     "output_type": "stream",
     "text": [
      "96/96 [==============================] - 14s 94ms/step - loss: 3.2617 - accuracy: 0.2890 - val_loss: 1.5536 - val_accuracy: 0.2822\n",
      "Epoch 2/40\n",
      "96/96 [==============================] - 7s 73ms/step - loss: 1.6081 - accuracy: 0.3097 - val_loss: 7.6337 - val_accuracy: 0.1380\n",
      "Epoch 3/40\n",
      "96/96 [==============================] - 8s 85ms/step - loss: 1.4603 - accuracy: 0.4386 - val_loss: 1.0125 - val_accuracy: 0.6288\n",
      "Epoch 4/40\n",
      "96/96 [==============================] - 9s 90ms/step - loss: 1.0695 - accuracy: 0.6211 - val_loss: 0.7176 - val_accuracy: 0.7163\n",
      "Epoch 5/40\n",
      "96/96 [==============================] - 9s 89ms/step - loss: 0.7575 - accuracy: 0.7270 - val_loss: 0.5572 - val_accuracy: 0.7868\n",
      "Epoch 6/40\n",
      "96/96 [==============================] - 8s 88ms/step - loss: 0.5497 - accuracy: 0.8009 - val_loss: 0.5240 - val_accuracy: 0.8037\n",
      "Epoch 7/40\n",
      "96/96 [==============================] - 9s 94ms/step - loss: 0.4319 - accuracy: 0.8543 - val_loss: 0.3948 - val_accuracy: 0.8620\n",
      "Epoch 8/40\n",
      "96/96 [==============================] - 10s 99ms/step - loss: 0.2950 - accuracy: 0.9012 - val_loss: 0.4617 - val_accuracy: 0.8574\n",
      "Epoch 9/40\n",
      "96/96 [==============================] - 9s 93ms/step - loss: 0.2300 - accuracy: 0.9344 - val_loss: 1.5041 - val_accuracy: 0.6534\n",
      "Epoch 10/40\n",
      "96/96 [==============================] - 9s 93ms/step - loss: 0.1817 - accuracy: 0.9491 - val_loss: 0.2101 - val_accuracy: 0.9402\n",
      "Epoch 11/40\n",
      "96/96 [==============================] - 9s 92ms/step - loss: 0.1619 - accuracy: 0.9547 - val_loss: 0.4787 - val_accuracy: 0.8773\n",
      "Epoch 12/40\n",
      "96/96 [==============================] - 9s 98ms/step - loss: 0.1948 - accuracy: 0.9521 - val_loss: 0.1205 - val_accuracy: 0.9678\n",
      "Epoch 13/40\n",
      "96/96 [==============================] - 9s 97ms/step - loss: 0.2406 - accuracy: 0.9554 - val_loss: 0.0925 - val_accuracy: 0.9785\n",
      "Epoch 14/40\n",
      "96/96 [==============================] - 10s 100ms/step - loss: 0.1528 - accuracy: 0.9652 - val_loss: 0.5546 - val_accuracy: 0.9034\n",
      "Epoch 15/40\n",
      "96/96 [==============================] - 10s 103ms/step - loss: 0.2691 - accuracy: 0.9642 - val_loss: 1.0539 - val_accuracy: 0.8589\n",
      "Epoch 16/40\n",
      "96/96 [==============================] - 9s 91ms/step - loss: 0.1348 - accuracy: 0.9787 - val_loss: 2.3177 - val_accuracy: 0.8359\n",
      "Epoch 17/40\n",
      "96/96 [==============================] - 9s 91ms/step - loss: 0.1270 - accuracy: 0.9747 - val_loss: 0.3631 - val_accuracy: 0.9571\n",
      "Epoch 18/40\n",
      "96/96 [==============================] - 9s 96ms/step - loss: 0.1430 - accuracy: 0.9767 - val_loss: 0.1922 - val_accuracy: 0.9509\n",
      "Epoch 19/40\n",
      "96/96 [==============================] - 9s 94ms/step - loss: 0.1410 - accuracy: 0.9741 - val_loss: 0.0832 - val_accuracy: 0.9877\n",
      "Epoch 20/40\n",
      "96/96 [==============================] - 10s 99ms/step - loss: 0.2200 - accuracy: 0.9665 - val_loss: 0.1033 - val_accuracy: 0.9862\n",
      "Epoch 21/40\n",
      "96/96 [==============================] - 10s 102ms/step - loss: 0.2169 - accuracy: 0.9790 - val_loss: 0.3620 - val_accuracy: 0.9555\n",
      "Epoch 22/40\n",
      "96/96 [==============================] - 10s 99ms/step - loss: 0.1712 - accuracy: 0.9734 - val_loss: 0.6144 - val_accuracy: 0.9064\n",
      "Epoch 23/40\n",
      "96/96 [==============================] - 10s 101ms/step - loss: 0.1359 - accuracy: 0.9875 - val_loss: 0.0985 - val_accuracy: 0.9816\n",
      "Epoch 24/40\n",
      "96/96 [==============================] - 9s 97ms/step - loss: 0.3582 - accuracy: 0.9731 - val_loss: 0.0822 - val_accuracy: 0.9893\n",
      "Epoch 25/40\n",
      "96/96 [==============================] - 10s 103ms/step - loss: 0.1180 - accuracy: 0.9820 - val_loss: 0.1446 - val_accuracy: 0.9724\n",
      "Epoch 26/40\n",
      "96/96 [==============================] - 10s 104ms/step - loss: 0.2227 - accuracy: 0.9747 - val_loss: 0.9943 - val_accuracy: 0.8758\n",
      "Epoch 27/40\n",
      "96/96 [==============================] - 10s 99ms/step - loss: 0.1063 - accuracy: 0.9849 - val_loss: 0.1900 - val_accuracy: 0.9663\n",
      "Epoch 28/40\n",
      "96/96 [==============================] - 9s 95ms/step - loss: 0.1485 - accuracy: 0.9783 - val_loss: 0.2248 - val_accuracy: 0.9678\n",
      "Epoch 29/40\n",
      "96/96 [==============================] - 9s 95ms/step - loss: 0.1769 - accuracy: 0.9800 - val_loss: 0.1615 - val_accuracy: 0.9847\n",
      "Epoch 30/40\n",
      "96/96 [==============================] - 9s 92ms/step - loss: 0.1476 - accuracy: 0.9829 - val_loss: 0.0721 - val_accuracy: 0.9862\n",
      "Epoch 31/40\n",
      "96/96 [==============================] - 9s 97ms/step - loss: 0.1539 - accuracy: 0.9810 - val_loss: 0.4212 - val_accuracy: 0.9724\n",
      "Epoch 32/40\n",
      "96/96 [==============================] - 10s 102ms/step - loss: 0.1051 - accuracy: 0.9862 - val_loss: 0.5597 - val_accuracy: 0.9448\n",
      "Epoch 33/40\n",
      "96/96 [==============================] - 10s 108ms/step - loss: 0.3091 - accuracy: 0.9810 - val_loss: 0.2305 - val_accuracy: 0.9801\n",
      "Epoch 34/40\n",
      "96/96 [==============================] - 10s 106ms/step - loss: 0.2212 - accuracy: 0.9816 - val_loss: 1.2179 - val_accuracy: 0.9448\n",
      "Epoch 35/40\n",
      "96/96 [==============================] - 9s 96ms/step - loss: 0.3627 - accuracy: 0.9790 - val_loss: 0.2452 - val_accuracy: 0.9847\n",
      "Epoch 36/40\n",
      "96/96 [==============================] - 9s 94ms/step - loss: 0.3418 - accuracy: 0.9793 - val_loss: 0.3821 - val_accuracy: 0.9724\n",
      "Epoch 37/40\n",
      "96/96 [==============================] - 9s 94ms/step - loss: 0.2700 - accuracy: 0.9839 - val_loss: 0.3582 - val_accuracy: 0.9555\n",
      "Epoch 38/40\n",
      "96/96 [==============================] - 9s 92ms/step - loss: 0.0131 - accuracy: 0.9980 - val_loss: 0.1700 - val_accuracy: 0.9939\n",
      "Epoch 39/40\n",
      "96/96 [==============================] - 9s 90ms/step - loss: 0.3281 - accuracy: 0.9826 - val_loss: 0.2064 - val_accuracy: 0.9893\n",
      "Epoch 40/40\n",
      "96/96 [==============================] - 9s 92ms/step - loss: 0.1678 - accuracy: 0.9852 - val_loss: 0.1130 - val_accuracy: 0.9862\n"
     ]
    }
   ],
   "source": [
    "history = model.fit(\n",
    "  train.cache(),\n",
    "  epochs=40,\n",
    "  callbacks=callbacks_list,\n",
    "  validation_data=val.cache()\n",
    ")"
   ]
  },
  {
   "cell_type": "code",
   "execution_count": 18,
   "metadata": {},
   "outputs": [
    {
     "name": "stderr",
     "output_type": "stream",
     "text": [
      "2022-08-02 07:01:44.188135: I tensorflow/core/grappler/optimizers/custom_graph_optimizer_registry.cc:112] Plugin optimizer for device_type GPU is enabled.\n"
     ]
    },
    {
     "name": "stdout",
     "output_type": "stream",
     "text": [
      "21/21 [==============================] - 1s 29ms/step - loss: 0.1808 - accuracy: 0.9802\n"
     ]
    },
    {
     "data": {
      "text/plain": [
       "[0.18082481622695923, 0.980182945728302]"
      ]
     },
     "execution_count": 18,
     "metadata": {},
     "output_type": "execute_result"
    }
   ],
   "source": [
    "load_model = keras.models.load_model(\"models/vtid_2.h5\")\n",
    "load_model.evaluate(test)"
   ]
  }
 ],
 "metadata": {
  "kernelspec": {
   "display_name": "Python 3.9.7 ('base')",
   "language": "python",
   "name": "python3"
  },
  "language_info": {
   "codemirror_mode": {
    "name": "ipython",
    "version": 3
   },
   "file_extension": ".py",
   "mimetype": "text/x-python",
   "name": "python",
   "nbconvert_exporter": "python",
   "pygments_lexer": "ipython3",
   "version": "3.9.7"
  },
  "orig_nbformat": 4,
  "vscode": {
   "interpreter": {
    "hash": "c6e4e9f98eb68ad3b7c296f83d20e6de614cb42e90992a65aa266555a3137d0d"
   }
  }
 },
 "nbformat": 4,
 "nbformat_minor": 2
}
