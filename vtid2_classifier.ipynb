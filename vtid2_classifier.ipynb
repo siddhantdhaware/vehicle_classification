{
 "cells": [
  {
   "cell_type": "code",
   "execution_count": 1,
   "metadata": {},
   "outputs": [],
   "source": [
    "import tensorflow as tf\n",
    "from tensorflow.keras import layers, utils\n",
    "from tensorflow import keras\n",
    "from matplotlib import pyplot as plt"
   ]
  },
  {
   "cell_type": "code",
   "execution_count": 2,
   "metadata": {},
   "outputs": [],
   "source": [
    "IMAGE_SIZE = 100\n",
    "BATCH_SIZE = 32"
   ]
  },
  {
   "cell_type": "code",
   "execution_count": 4,
   "metadata": {},
   "outputs": [
    {
     "name": "stdout",
     "output_type": "stream",
     "text": [
      "Found 3048 files belonging to 5 classes.\n",
      "Found 652 files belonging to 5 classes.\n",
      "Found 656 files belonging to 5 classes.\n"
     ]
    }
   ],
   "source": [
    "train = utils.image_dataset_from_directory(\"datasets/data/split/VTID2/train/\", image_size=(IMAGE_SIZE, IMAGE_SIZE), batch_size=BATCH_SIZE)\n",
    "val = utils.image_dataset_from_directory(\"datasets/data/split/VTID2/val\", image_size=(IMAGE_SIZE, IMAGE_SIZE), batch_size=BATCH_SIZE)\n",
    "test = utils.image_dataset_from_directory(\"datasets/data/split/VTID2/test\", image_size=(IMAGE_SIZE, IMAGE_SIZE), batch_size=BATCH_SIZE)"
   ]
  },
  {
   "cell_type": "code",
   "execution_count": 5,
   "metadata": {},
   "outputs": [
    {
     "name": "stdout",
     "output_type": "stream",
     "text": [
      "Model: \"model\"\n",
      "_________________________________________________________________\n",
      " Layer (type)                Output Shape              Param #   \n",
      "=================================================================\n",
      " input_1 (InputLayer)        [(None, 100, 100, 3)]     0         \n",
      "                                                                 \n",
      " conv2d (Conv2D)             (None, 98, 98, 32)        896       \n",
      "                                                                 \n",
      " max_pooling2d (MaxPooling2D  (None, 49, 49, 32)       0         \n",
      " )                                                               \n",
      "                                                                 \n",
      " conv2d_1 (Conv2D)           (None, 47, 47, 64)        18496     \n",
      "                                                                 \n",
      " max_pooling2d_1 (MaxPooling  (None, 23, 23, 64)       0         \n",
      " 2D)                                                             \n",
      "                                                                 \n",
      " conv2d_2 (Conv2D)           (None, 21, 21, 128)       73856     \n",
      "                                                                 \n",
      " max_pooling2d_2 (MaxPooling  (None, 10, 10, 128)      0         \n",
      " 2D)                                                             \n",
      "                                                                 \n",
      " conv2d_3 (Conv2D)           (None, 8, 8, 256)         295168    \n",
      "                                                                 \n",
      " global_average_pooling2d (G  (None, 256)              0         \n",
      " lobalAveragePooling2D)                                          \n",
      "                                                                 \n",
      " dense (Dense)               (None, 256)               65792     \n",
      "                                                                 \n",
      " dropout (Dropout)           (None, 256)               0         \n",
      "                                                                 \n",
      " dense_1 (Dense)             (None, 5)                 1285      \n",
      "                                                                 \n",
      "=================================================================\n",
      "Total params: 455,493\n",
      "Trainable params: 455,493\n",
      "Non-trainable params: 0\n",
      "_________________________________________________________________\n"
     ]
    }
   ],
   "source": [
    "inputs = keras.Input(shape=(100, 100, 3))\n",
    "x = layers.Conv2D(32, 3, activation='relu')(inputs)\n",
    "x = layers.MaxPooling2D(2)(x)\n",
    "x = layers.Conv2D(64, 3, activation='relu')(x)\n",
    "x = layers.MaxPooling2D(2)(x)\n",
    "x = layers.Conv2D(128, 3, activation='relu')(x)\n",
    "x = layers.MaxPooling2D(2)(x)\n",
    "x = layers.Conv2D(256, 3, activation='relu')(x)\n",
    "x = layers.GlobalAveragePooling2D()(x)\n",
    "x = layers.Dense(256, activation='relu')(x)\n",
    "x = layers.Dropout(0.5)(x)\n",
    "outputs = layers.Dense(5, activation='softmax')(x)\n",
    "\n",
    "model = keras.Model(inputs, outputs)\n",
    "\n",
    "model.compile(optimizer='rmsprop', loss='sparse_categorical_crossentropy', metrics=['accuracy'])\n",
    "\n",
    "model.summary()"
   ]
  },
  {
   "cell_type": "code",
   "execution_count": 6,
   "metadata": {},
   "outputs": [
    {
     "name": "stdout",
     "output_type": "stream",
     "text": [
      "Epoch 1/40\n"
     ]
    },
    {
     "name": "stderr",
     "output_type": "stream",
     "text": [
      "2022-08-01 10:37:59.047672: W tensorflow/core/platform/profile_utils/cpu_utils.cc:128] Failed to get CPU frequency: 0 Hz\n",
      "2022-08-01 10:37:59.047757: I tensorflow/core/grappler/optimizers/custom_graph_optimizer_registry.cc:112] Plugin optimizer for device_type GPU is enabled.\n"
     ]
    },
    {
     "name": "stdout",
     "output_type": "stream",
     "text": [
      "96/96 [==============================] - ETA: 0s - loss: 2.6805 - accuracy: 0.2940"
     ]
    },
    {
     "name": "stderr",
     "output_type": "stream",
     "text": [
      "2022-08-01 10:38:03.820058: I tensorflow/core/grappler/optimizers/custom_graph_optimizer_registry.cc:112] Plugin optimizer for device_type GPU is enabled.\n"
     ]
    },
    {
     "name": "stdout",
     "output_type": "stream",
     "text": [
      "96/96 [==============================] - 6s 52ms/step - loss: 2.6805 - accuracy: 0.2940 - val_loss: 1.9913 - val_accuracy: 0.2822\n",
      "Epoch 2/40\n",
      "96/96 [==============================] - 4s 46ms/step - loss: 1.4404 - accuracy: 0.4396 - val_loss: 1.6730 - val_accuracy: 0.3574\n",
      "Epoch 3/40\n",
      "96/96 [==============================] - 4s 45ms/step - loss: 1.0311 - accuracy: 0.6171 - val_loss: 0.6290 - val_accuracy: 0.7684\n",
      "Epoch 4/40\n",
      "96/96 [==============================] - 4s 44ms/step - loss: 0.7934 - accuracy: 0.7267 - val_loss: 0.5612 - val_accuracy: 0.7730\n",
      "Epoch 5/40\n",
      "96/96 [==============================] - 4s 44ms/step - loss: 0.5406 - accuracy: 0.8084 - val_loss: 0.2994 - val_accuracy: 0.9018\n",
      "Epoch 6/40\n",
      "96/96 [==============================] - 4s 45ms/step - loss: 0.3689 - accuracy: 0.8727 - val_loss: 0.2670 - val_accuracy: 0.9064\n",
      "Epoch 7/40\n",
      "96/96 [==============================] - 4s 45ms/step - loss: 0.2896 - accuracy: 0.9098 - val_loss: 0.1748 - val_accuracy: 0.9448\n",
      "Epoch 8/40\n",
      "96/96 [==============================] - 4s 44ms/step - loss: 0.2596 - accuracy: 0.9232 - val_loss: 0.2196 - val_accuracy: 0.9325\n",
      "Epoch 9/40\n",
      "96/96 [==============================] - 4s 44ms/step - loss: 0.2476 - accuracy: 0.9344 - val_loss: 0.1479 - val_accuracy: 0.9586\n",
      "Epoch 10/40\n",
      "96/96 [==============================] - 4s 45ms/step - loss: 0.1456 - accuracy: 0.9564 - val_loss: 0.1483 - val_accuracy: 0.9647\n",
      "Epoch 11/40\n",
      "96/96 [==============================] - 4s 45ms/step - loss: 0.2157 - accuracy: 0.9459 - val_loss: 0.0761 - val_accuracy: 0.9816\n",
      "Epoch 12/40\n",
      "96/96 [==============================] - 4s 44ms/step - loss: 0.2192 - accuracy: 0.9633 - val_loss: 0.0918 - val_accuracy: 0.9831\n",
      "Epoch 13/40\n",
      "96/96 [==============================] - 4s 44ms/step - loss: 0.2531 - accuracy: 0.9465 - val_loss: 0.1342 - val_accuracy: 0.9663\n",
      "Epoch 14/40\n",
      "96/96 [==============================] - 4s 44ms/step - loss: 0.2940 - accuracy: 0.9567 - val_loss: 0.4119 - val_accuracy: 0.9294\n",
      "Epoch 15/40\n",
      "96/96 [==============================] - 4s 45ms/step - loss: 0.3001 - accuracy: 0.9498 - val_loss: 0.1084 - val_accuracy: 0.9770\n",
      "Epoch 16/40\n",
      "96/96 [==============================] - 4s 44ms/step - loss: 0.4533 - accuracy: 0.9564 - val_loss: 0.1803 - val_accuracy: 0.9509\n",
      "Epoch 17/40\n",
      "96/96 [==============================] - 4s 44ms/step - loss: 0.2198 - accuracy: 0.9724 - val_loss: 0.2618 - val_accuracy: 0.9463\n",
      "Epoch 18/40\n",
      "96/96 [==============================] - 4s 44ms/step - loss: 0.5697 - accuracy: 0.9459 - val_loss: 0.0841 - val_accuracy: 0.9893\n",
      "Epoch 19/40\n",
      "96/96 [==============================] - 4s 45ms/step - loss: 0.3262 - accuracy: 0.9613 - val_loss: 0.1693 - val_accuracy: 0.9709\n",
      "Epoch 20/40\n",
      "96/96 [==============================] - 4s 44ms/step - loss: 0.2757 - accuracy: 0.9554 - val_loss: 0.1195 - val_accuracy: 0.9724\n",
      "Epoch 21/40\n",
      "96/96 [==============================] - 4s 44ms/step - loss: 0.3077 - accuracy: 0.9669 - val_loss: 0.1217 - val_accuracy: 0.9709\n",
      "Epoch 22/40\n",
      "96/96 [==============================] - 4s 45ms/step - loss: 0.2540 - accuracy: 0.9688 - val_loss: 0.0665 - val_accuracy: 0.9923\n",
      "Epoch 23/40\n",
      "96/96 [==============================] - 4s 45ms/step - loss: 0.4088 - accuracy: 0.9560 - val_loss: 0.1850 - val_accuracy: 0.9479\n",
      "Epoch 24/40\n",
      "96/96 [==============================] - 4s 46ms/step - loss: 0.1686 - accuracy: 0.9718 - val_loss: 0.1326 - val_accuracy: 0.9831\n",
      "Epoch 25/40\n",
      "96/96 [==============================] - 4s 44ms/step - loss: 0.2503 - accuracy: 0.9642 - val_loss: 0.1017 - val_accuracy: 0.9862\n",
      "Epoch 26/40\n",
      "96/96 [==============================] - 4s 44ms/step - loss: 0.0959 - accuracy: 0.9790 - val_loss: 0.0897 - val_accuracy: 0.9893\n",
      "Epoch 27/40\n",
      "96/96 [==============================] - 4s 45ms/step - loss: 0.3036 - accuracy: 0.9678 - val_loss: 0.1068 - val_accuracy: 0.9908\n",
      "Epoch 28/40\n",
      "96/96 [==============================] - 4s 45ms/step - loss: 0.1437 - accuracy: 0.9787 - val_loss: 0.0787 - val_accuracy: 0.9923\n",
      "Epoch 29/40\n",
      "96/96 [==============================] - 4s 45ms/step - loss: 0.2745 - accuracy: 0.9718 - val_loss: 0.1251 - val_accuracy: 0.9877\n",
      "Epoch 30/40\n",
      "96/96 [==============================] - 4s 45ms/step - loss: 0.2229 - accuracy: 0.9751 - val_loss: 0.1133 - val_accuracy: 0.9877\n",
      "Epoch 31/40\n",
      "96/96 [==============================] - 4s 44ms/step - loss: 0.5947 - accuracy: 0.9482 - val_loss: 0.1483 - val_accuracy: 0.9724\n",
      "Epoch 32/40\n",
      "96/96 [==============================] - 4s 45ms/step - loss: 0.1336 - accuracy: 0.9780 - val_loss: 0.1301 - val_accuracy: 0.9862\n",
      "Epoch 33/40\n",
      "96/96 [==============================] - 4s 45ms/step - loss: 0.4166 - accuracy: 0.9669 - val_loss: 0.1257 - val_accuracy: 0.9770\n",
      "Epoch 34/40\n",
      "96/96 [==============================] - 4s 45ms/step - loss: 0.3527 - accuracy: 0.9639 - val_loss: 0.1916 - val_accuracy: 0.9739\n",
      "Epoch 35/40\n",
      "96/96 [==============================] - 4s 45ms/step - loss: 0.1485 - accuracy: 0.9711 - val_loss: 0.7523 - val_accuracy: 0.8942\n",
      "Epoch 36/40\n",
      "96/96 [==============================] - 4s 45ms/step - loss: 0.2162 - accuracy: 0.9711 - val_loss: 0.0857 - val_accuracy: 0.9954\n",
      "Epoch 37/40\n",
      "96/96 [==============================] - 4s 45ms/step - loss: 0.1941 - accuracy: 0.9836 - val_loss: 0.1019 - val_accuracy: 0.9893\n",
      "Epoch 38/40\n",
      "96/96 [==============================] - 4s 45ms/step - loss: 0.1783 - accuracy: 0.9770 - val_loss: 0.1437 - val_accuracy: 0.9847\n",
      "Epoch 39/40\n",
      "96/96 [==============================] - 4s 45ms/step - loss: 0.3321 - accuracy: 0.9843 - val_loss: 0.1113 - val_accuracy: 0.9893\n",
      "Epoch 40/40\n",
      "96/96 [==============================] - 4s 45ms/step - loss: 0.2994 - accuracy: 0.9856 - val_loss: 0.0841 - val_accuracy: 0.9939\n"
     ]
    }
   ],
   "source": [
    "history = model.fit(\n",
    "  train.cache(),\n",
    "  epochs=40,\n",
    "  validation_data=val.cache()\n",
    ")"
   ]
  },
  {
   "cell_type": "code",
   "execution_count": 7,
   "metadata": {},
   "outputs": [
    {
     "name": "stdout",
     "output_type": "stream",
     "text": [
      "21/21 [==============================] - 1s 19ms/step - loss: 0.0482 - accuracy: 0.9924\n"
     ]
    },
    {
     "data": {
      "text/plain": [
       "[0.04816286265850067, 0.9923781156539917]"
      ]
     },
     "execution_count": 7,
     "metadata": {},
     "output_type": "execute_result"
    }
   ],
   "source": [
    "model.evaluate(test)"
   ]
  },
  {
   "cell_type": "code",
   "execution_count": null,
   "metadata": {},
   "outputs": [],
   "source": [
    "keras.models.save_model(model, \"./models/vtid2_1.h5\")"
   ]
  }
 ],
 "metadata": {
  "kernelspec": {
   "display_name": "Python 3.9.7 ('base')",
   "language": "python",
   "name": "python3"
  },
  "language_info": {
   "codemirror_mode": {
    "name": "ipython",
    "version": 3
   },
   "file_extension": ".py",
   "mimetype": "text/x-python",
   "name": "python",
   "nbconvert_exporter": "python",
   "pygments_lexer": "ipython3",
   "version": "3.9.7"
  },
  "orig_nbformat": 4,
  "vscode": {
   "interpreter": {
    "hash": "c6e4e9f98eb68ad3b7c296f83d20e6de614cb42e90992a65aa266555a3137d0d"
   }
  }
 },
 "nbformat": 4,
 "nbformat_minor": 2
}
