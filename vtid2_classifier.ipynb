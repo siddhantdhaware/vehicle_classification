{
 "cells": [
  {
   "cell_type": "code",
   "execution_count": 3,
   "metadata": {},
   "outputs": [],
   "source": [
    "import tensorflow as tf\n",
    "from tensorflow.keras import layers, utils\n",
    "from tensorflow import keras\n",
    "from matplotlib import pyplot as plt"
   ]
  },
  {
   "cell_type": "code",
   "execution_count": 4,
   "metadata": {},
   "outputs": [],
   "source": [
    "IMAGE_SIZE = 100\n",
    "BATCH_SIZE = 32"
   ]
  },
  {
   "cell_type": "code",
   "execution_count": 6,
   "metadata": {},
   "outputs": [
    {
     "name": "stdout",
     "output_type": "stream",
     "text": [
      "Found 3048 files belonging to 5 classes.\n",
      "Found 652 files belonging to 5 classes.\n",
      "Found 656 files belonging to 5 classes.\n"
     ]
    }
   ],
   "source": [
    "train = utils.image_dataset_from_directory(\"datasets/data/split/VTID2/train/\", image_size=(IMAGE_SIZE, IMAGE_SIZE), batch_size=BATCH_SIZE)\n",
    "val = utils.image_dataset_from_directory(\"datasets/data/split/VTID2/val\", image_size=(IMAGE_SIZE, IMAGE_SIZE), batch_size=BATCH_SIZE)\n",
    "test = utils.image_dataset_from_directory(\"datasets/data/split/VTID2/test\", image_size=(IMAGE_SIZE, IMAGE_SIZE), batch_size=BATCH_SIZE)"
   ]
  },
  {
   "cell_type": "code",
   "execution_count": 7,
   "metadata": {},
   "outputs": [
    {
     "name": "stdout",
     "output_type": "stream",
     "text": [
      "Model: \"model\"\n",
      "_________________________________________________________________\n",
      " Layer (type)                Output Shape              Param #   \n",
      "=================================================================\n",
      " input_1 (InputLayer)        [(None, 100, 100, 3)]     0         \n",
      "                                                                 \n",
      " conv2d (Conv2D)             (None, 98, 98, 32)        896       \n",
      "                                                                 \n",
      " max_pooling2d (MaxPooling2D  (None, 49, 49, 32)       0         \n",
      " )                                                               \n",
      "                                                                 \n",
      " conv2d_1 (Conv2D)           (None, 47, 47, 64)        18496     \n",
      "                                                                 \n",
      " max_pooling2d_1 (MaxPooling  (None, 23, 23, 64)       0         \n",
      " 2D)                                                             \n",
      "                                                                 \n",
      " conv2d_2 (Conv2D)           (None, 21, 21, 128)       73856     \n",
      "                                                                 \n",
      " max_pooling2d_2 (MaxPooling  (None, 10, 10, 128)      0         \n",
      " 2D)                                                             \n",
      "                                                                 \n",
      " conv2d_3 (Conv2D)           (None, 8, 8, 256)         295168    \n",
      "                                                                 \n",
      " global_average_pooling2d (G  (None, 256)              0         \n",
      " lobalAveragePooling2D)                                          \n",
      "                                                                 \n",
      " dense (Dense)               (None, 256)               65792     \n",
      "                                                                 \n",
      " dropout (Dropout)           (None, 256)               0         \n",
      "                                                                 \n",
      " dense_1 (Dense)             (None, 5)                 1285      \n",
      "                                                                 \n",
      "=================================================================\n",
      "Total params: 455,493\n",
      "Trainable params: 455,493\n",
      "Non-trainable params: 0\n",
      "_________________________________________________________________\n"
     ]
    }
   ],
   "source": [
    "inputs = keras.Input(shape=(100, 100, 3))\n",
    "x = layers.Conv2D(32, 3, activation='relu')(inputs)\n",
    "x = layers.MaxPooling2D(2)(x)\n",
    "x = layers.Conv2D(64, 3, activation='relu')(x)\n",
    "x = layers.MaxPooling2D(2)(x)\n",
    "x = layers.Conv2D(128, 3, activation='relu')(x)\n",
    "x = layers.MaxPooling2D(2)(x)\n",
    "x = layers.Conv2D(256, 3, activation='relu')(x)\n",
    "x = layers.GlobalAveragePooling2D()(x)\n",
    "x = layers.Dense(256, activation='relu')(x)\n",
    "x = layers.Dropout(0.5)(x)\n",
    "outputs = layers.Dense(5, activation='softmax')(x)\n",
    "\n",
    "model = keras.Model(inputs, outputs)\n",
    "\n",
    "model.compile(optimizer='rmsprop', loss='sparse_categorical_crossentropy', metrics=['accuracy'])\n",
    "\n",
    "model.summary()"
   ]
  },
  {
   "cell_type": "code",
   "execution_count": 8,
   "metadata": {},
   "outputs": [
    {
     "name": "stdout",
     "output_type": "stream",
     "text": [
      "Epoch 1/40\n"
     ]
    },
    {
     "name": "stderr",
     "output_type": "stream",
     "text": [
      "2022-07-31 05:33:52.601748: W tensorflow/core/platform/profile_utils/cpu_utils.cc:128] Failed to get CPU frequency: 0 Hz\n",
      "2022-07-31 05:33:52.601835: I tensorflow/core/grappler/optimizers/custom_graph_optimizer_registry.cc:112] Plugin optimizer for device_type GPU is enabled.\n"
     ]
    },
    {
     "name": "stdout",
     "output_type": "stream",
     "text": [
      "96/96 [==============================] - ETA: 0s - loss: 2.5895 - accuracy: 0.3182"
     ]
    },
    {
     "name": "stderr",
     "output_type": "stream",
     "text": [
      "2022-07-31 05:33:58.289955: I tensorflow/core/grappler/optimizers/custom_graph_optimizer_registry.cc:112] Plugin optimizer for device_type GPU is enabled.\n"
     ]
    },
    {
     "name": "stdout",
     "output_type": "stream",
     "text": [
      "96/96 [==============================] - 7s 60ms/step - loss: 2.5895 - accuracy: 0.3182 - val_loss: 1.9428 - val_accuracy: 0.3282\n",
      "Epoch 2/40\n",
      "96/96 [==============================] - 4s 46ms/step - loss: 1.5617 - accuracy: 0.4157 - val_loss: 1.3482 - val_accuracy: 0.4095\n",
      "Epoch 3/40\n",
      "96/96 [==============================] - 4s 44ms/step - loss: 1.1761 - accuracy: 0.5709 - val_loss: 0.9728 - val_accuracy: 0.6426\n",
      "Epoch 4/40\n",
      "96/96 [==============================] - 4s 44ms/step - loss: 0.8816 - accuracy: 0.6781 - val_loss: 0.6671 - val_accuracy: 0.7531\n",
      "Epoch 5/40\n",
      "96/96 [==============================] - 4s 45ms/step - loss: 0.6543 - accuracy: 0.7625 - val_loss: 0.5378 - val_accuracy: 0.7960\n",
      "Epoch 6/40\n",
      "96/96 [==============================] - 4s 45ms/step - loss: 0.5421 - accuracy: 0.8189 - val_loss: 0.3472 - val_accuracy: 0.8773\n",
      "Epoch 7/40\n",
      "96/96 [==============================] - 4s 45ms/step - loss: 0.3565 - accuracy: 0.8809 - val_loss: 0.2834 - val_accuracy: 0.8988\n",
      "Epoch 8/40\n",
      "96/96 [==============================] - 4s 45ms/step - loss: 0.3077 - accuracy: 0.9035 - val_loss: 0.1597 - val_accuracy: 0.9571\n",
      "Epoch 9/40\n",
      "96/96 [==============================] - 4s 44ms/step - loss: 0.2714 - accuracy: 0.9180 - val_loss: 0.6670 - val_accuracy: 0.8052\n",
      "Epoch 10/40\n",
      "96/96 [==============================] - 4s 44ms/step - loss: 0.2303 - accuracy: 0.9357 - val_loss: 0.8201 - val_accuracy: 0.7147\n",
      "Epoch 11/40\n",
      "96/96 [==============================] - 4s 44ms/step - loss: 0.2047 - accuracy: 0.9429 - val_loss: 0.0893 - val_accuracy: 0.9755\n",
      "Epoch 12/40\n",
      "96/96 [==============================] - 4s 44ms/step - loss: 0.2408 - accuracy: 0.9426 - val_loss: 0.1009 - val_accuracy: 0.9785\n",
      "Epoch 13/40\n",
      "96/96 [==============================] - 4s 46ms/step - loss: 0.2136 - accuracy: 0.9478 - val_loss: 0.1001 - val_accuracy: 0.9816\n",
      "Epoch 14/40\n",
      "96/96 [==============================] - 4s 46ms/step - loss: 0.1305 - accuracy: 0.9751 - val_loss: 1.2195 - val_accuracy: 0.8344\n",
      "Epoch 15/40\n",
      "96/96 [==============================] - 4s 45ms/step - loss: 0.2127 - accuracy: 0.9652 - val_loss: 0.1345 - val_accuracy: 0.9847\n",
      "Epoch 16/40\n",
      "96/96 [==============================] - 4s 45ms/step - loss: 0.3026 - accuracy: 0.9583 - val_loss: 0.1467 - val_accuracy: 0.9801\n",
      "Epoch 17/40\n",
      "96/96 [==============================] - 4s 45ms/step - loss: 0.5043 - accuracy: 0.9485 - val_loss: 0.3072 - val_accuracy: 0.8972\n",
      "Epoch 18/40\n",
      "96/96 [==============================] - 4s 46ms/step - loss: 0.1654 - accuracy: 0.9695 - val_loss: 0.4913 - val_accuracy: 0.9233\n",
      "Epoch 19/40\n",
      "96/96 [==============================] - 4s 45ms/step - loss: 0.2176 - accuracy: 0.9715 - val_loss: 22.1038 - val_accuracy: 0.4126\n",
      "Epoch 20/40\n",
      "96/96 [==============================] - 4s 45ms/step - loss: 0.3600 - accuracy: 0.9619 - val_loss: 0.4634 - val_accuracy: 0.9202\n",
      "Epoch 21/40\n",
      "96/96 [==============================] - 4s 45ms/step - loss: 0.2347 - accuracy: 0.9642 - val_loss: 0.1304 - val_accuracy: 0.9770\n",
      "Epoch 22/40\n",
      "96/96 [==============================] - 4s 45ms/step - loss: 0.1225 - accuracy: 0.9787 - val_loss: 0.1800 - val_accuracy: 0.9770\n",
      "Epoch 23/40\n",
      "96/96 [==============================] - 4s 46ms/step - loss: 0.3340 - accuracy: 0.9537 - val_loss: 0.3935 - val_accuracy: 0.9264\n",
      "Epoch 24/40\n",
      "96/96 [==============================] - 4s 45ms/step - loss: 0.3026 - accuracy: 0.9685 - val_loss: 0.1696 - val_accuracy: 0.9693\n",
      "Epoch 25/40\n",
      "96/96 [==============================] - 4s 45ms/step - loss: 0.1370 - accuracy: 0.9813 - val_loss: 0.6278 - val_accuracy: 0.9126\n",
      "Epoch 26/40\n",
      "96/96 [==============================] - 4s 46ms/step - loss: 0.4263 - accuracy: 0.9701 - val_loss: 0.0474 - val_accuracy: 0.9908\n",
      "Epoch 27/40\n",
      "96/96 [==============================] - 4s 45ms/step - loss: 0.4901 - accuracy: 0.9596 - val_loss: 0.2127 - val_accuracy: 0.9724\n",
      "Epoch 28/40\n",
      "96/96 [==============================] - 4s 45ms/step - loss: 0.3645 - accuracy: 0.9767 - val_loss: 0.1668 - val_accuracy: 0.9509\n",
      "Epoch 29/40\n",
      "96/96 [==============================] - 5s 47ms/step - loss: 0.1487 - accuracy: 0.9757 - val_loss: 0.1105 - val_accuracy: 0.9816\n",
      "Epoch 30/40\n",
      "96/96 [==============================] - 4s 46ms/step - loss: 0.2176 - accuracy: 0.9728 - val_loss: 0.1175 - val_accuracy: 0.9801\n",
      "Epoch 31/40\n",
      "96/96 [==============================] - 4s 45ms/step - loss: 0.4800 - accuracy: 0.9537 - val_loss: 0.1707 - val_accuracy: 0.9755\n",
      "Epoch 32/40\n",
      "96/96 [==============================] - 4s 46ms/step - loss: 0.1004 - accuracy: 0.9806 - val_loss: 0.2470 - val_accuracy: 0.9663\n",
      "Epoch 33/40\n",
      "96/96 [==============================] - 4s 45ms/step - loss: 0.5845 - accuracy: 0.9557 - val_loss: 0.1729 - val_accuracy: 0.9770\n",
      "Epoch 34/40\n",
      "96/96 [==============================] - 4s 45ms/step - loss: 0.1869 - accuracy: 0.9767 - val_loss: 0.1828 - val_accuracy: 0.9816\n",
      "Epoch 35/40\n",
      "96/96 [==============================] - 4s 45ms/step - loss: 0.2388 - accuracy: 0.9682 - val_loss: 0.0919 - val_accuracy: 0.9877\n",
      "Epoch 36/40\n",
      "96/96 [==============================] - 4s 45ms/step - loss: 0.0922 - accuracy: 0.9862 - val_loss: 0.1462 - val_accuracy: 0.9862\n",
      "Epoch 37/40\n",
      "96/96 [==============================] - 4s 45ms/step - loss: 0.4465 - accuracy: 0.9701 - val_loss: 0.1045 - val_accuracy: 0.9770\n",
      "Epoch 38/40\n",
      "96/96 [==============================] - 4s 45ms/step - loss: 0.0813 - accuracy: 0.9869 - val_loss: 0.0538 - val_accuracy: 0.9877\n",
      "Epoch 39/40\n",
      "96/96 [==============================] - 4s 45ms/step - loss: 0.4453 - accuracy: 0.9669 - val_loss: 0.1543 - val_accuracy: 0.9816\n",
      "Epoch 40/40\n",
      "96/96 [==============================] - 4s 45ms/step - loss: 0.4657 - accuracy: 0.9777 - val_loss: 0.2475 - val_accuracy: 0.9785\n"
     ]
    }
   ],
   "source": [
    "history = model.fit(\n",
    "  train.cache(),\n",
    "  epochs=40,\n",
    "  validation_data=val.cache()\n",
    ")"
   ]
  },
  {
   "cell_type": "code",
   "execution_count": 9,
   "metadata": {},
   "outputs": [
    {
     "name": "stdout",
     "output_type": "stream",
     "text": [
      "21/21 [==============================] - 1s 21ms/step - loss: 0.3006 - accuracy: 0.9787\n"
     ]
    },
    {
     "data": {
      "text/plain": [
       "[0.30055662989616394, 0.9786585569381714]"
      ]
     },
     "execution_count": 9,
     "metadata": {},
     "output_type": "execute_result"
    }
   ],
   "source": [
    "model.evaluate(test)"
   ]
  }
 ],
 "metadata": {
  "kernelspec": {
   "display_name": "Python 3.9.7 ('base')",
   "language": "python",
   "name": "python3"
  },
  "language_info": {
   "codemirror_mode": {
    "name": "ipython",
    "version": 3
   },
   "file_extension": ".py",
   "mimetype": "text/x-python",
   "name": "python",
   "nbconvert_exporter": "python",
   "pygments_lexer": "ipython3",
   "version": "3.9.7"
  },
  "orig_nbformat": 4,
  "vscode": {
   "interpreter": {
    "hash": "c6e4e9f98eb68ad3b7c296f83d20e6de614cb42e90992a65aa266555a3137d0d"
   }
  }
 },
 "nbformat": 4,
 "nbformat_minor": 2
}
