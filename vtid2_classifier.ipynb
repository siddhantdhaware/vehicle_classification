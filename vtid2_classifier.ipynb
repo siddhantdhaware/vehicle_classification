{
 "cells": [
  {
   "cell_type": "code",
   "execution_count": 1,
   "metadata": {},
   "outputs": [],
   "source": [
    "import tensorflow as tf\n",
    "from tensorflow.keras import layers, utils\n",
    "from tensorflow import keras\n",
    "from matplotlib import pyplot as plt"
   ]
  },
  {
   "cell_type": "code",
   "execution_count": 2,
   "metadata": {},
   "outputs": [],
   "source": [
    "IMAGE_SIZE = 100\n",
    "BATCH_SIZE = 32"
   ]
  },
  {
   "cell_type": "code",
   "execution_count": 3,
   "metadata": {},
   "outputs": [
    {
     "name": "stdout",
     "output_type": "stream",
     "text": [
      "Found 3048 files belonging to 5 classes.\n",
      "Metal device set to: Apple M1\n",
      "\n",
      "systemMemory: 16.00 GB\n",
      "maxCacheSize: 5.33 GB\n",
      "\n",
      "Found 652 files belonging to 5 classes.\n",
      "Found 656 files belonging to 5 classes.\n"
     ]
    },
    {
     "name": "stderr",
     "output_type": "stream",
     "text": [
      "2022-08-02 10:21:47.124863: I tensorflow/core/common_runtime/pluggable_device/pluggable_device_factory.cc:305] Could not identify NUMA node of platform GPU ID 0, defaulting to 0. Your kernel may not have been built with NUMA support.\n",
      "2022-08-02 10:21:47.124970: I tensorflow/core/common_runtime/pluggable_device/pluggable_device_factory.cc:271] Created TensorFlow device (/job:localhost/replica:0/task:0/device:GPU:0 with 0 MB memory) -> physical PluggableDevice (device: 0, name: METAL, pci bus id: <undefined>)\n"
     ]
    }
   ],
   "source": [
    "train = utils.image_dataset_from_directory(\"datasets/data/split/VTID2/train\", image_size=(IMAGE_SIZE, IMAGE_SIZE), batch_size=BATCH_SIZE)\n",
    "val = utils.image_dataset_from_directory(\"datasets/data/split/VTID2/val\", image_size=(IMAGE_SIZE, IMAGE_SIZE), batch_size=BATCH_SIZE)\n",
    "test = utils.image_dataset_from_directory(\"datasets/data/split/VTID2/test\", image_size=(IMAGE_SIZE, IMAGE_SIZE), batch_size=BATCH_SIZE)"
   ]
  },
  {
   "cell_type": "code",
   "execution_count": 4,
   "metadata": {},
   "outputs": [
    {
     "name": "stdout",
     "output_type": "stream",
     "text": [
      "Model: \"model\"\n",
      "_________________________________________________________________\n",
      " Layer (type)                Output Shape              Param #   \n",
      "=================================================================\n",
      " input_1 (InputLayer)        [(None, 100, 100, 3)]     0         \n",
      "                                                                 \n",
      " conv2d (Conv2D)             (None, 98, 98, 32)        896       \n",
      "                                                                 \n",
      " max_pooling2d (MaxPooling2D  (None, 49, 49, 32)       0         \n",
      " )                                                               \n",
      "                                                                 \n",
      " conv2d_1 (Conv2D)           (None, 47, 47, 64)        18496     \n",
      "                                                                 \n",
      " max_pooling2d_1 (MaxPooling  (None, 23, 23, 64)       0         \n",
      " 2D)                                                             \n",
      "                                                                 \n",
      " conv2d_2 (Conv2D)           (None, 21, 21, 128)       73856     \n",
      "                                                                 \n",
      " max_pooling2d_2 (MaxPooling  (None, 10, 10, 128)      0         \n",
      " 2D)                                                             \n",
      "                                                                 \n",
      " conv2d_3 (Conv2D)           (None, 8, 8, 256)         295168    \n",
      "                                                                 \n",
      " global_average_pooling2d (G  (None, 256)              0         \n",
      " lobalAveragePooling2D)                                          \n",
      "                                                                 \n",
      " dense (Dense)               (None, 256)               65792     \n",
      "                                                                 \n",
      " dropout (Dropout)           (None, 256)               0         \n",
      "                                                                 \n",
      " dense_1 (Dense)             (None, 5)                 1285      \n",
      "                                                                 \n",
      "=================================================================\n",
      "Total params: 455,493\n",
      "Trainable params: 455,493\n",
      "Non-trainable params: 0\n",
      "_________________________________________________________________\n"
     ]
    }
   ],
   "source": [
    "inputs = keras.Input(shape=(100, 100, 3))\n",
    "x = layers.Rescaling(1./255)(inputs)\n",
    "x = layers.Conv2D(32, 3, activation='relu')(inputs)\n",
    "x = layers.MaxPooling2D(2)(x)\n",
    "x = layers.Conv2D(64, 3, activation='relu')(x)\n",
    "x = layers.MaxPooling2D(2)(x)\n",
    "x = layers.Conv2D(128, 3, activation='relu')(x)\n",
    "x = layers.MaxPooling2D(2)(x)\n",
    "x = layers.Conv2D(256, 3, activation='relu')(x)\n",
    "x = layers.GlobalAveragePooling2D()(x)\n",
    "x = layers.Dense(256, activation='relu')(x)\n",
    "x = layers.Dropout(0.3)(x)\n",
    "outputs = layers.Dense(5, activation='softmax')(x)\n",
    "\n",
    "model = keras.Model(inputs, outputs)\n",
    "\n",
    "model.compile(optimizer='rmsprop', loss='sparse_categorical_crossentropy', metrics=['accuracy'])\n",
    "\n",
    "model.summary()"
   ]
  },
  {
   "cell_type": "code",
   "execution_count": 5,
   "metadata": {},
   "outputs": [],
   "source": [
    "callbacks_list = [\n",
    "    keras.callbacks.EarlyStopping(\n",
    "        monitor=\"val_accuracy\",\n",
    "        patience=8\n",
    "    ),\n",
    "    keras.callbacks.ModelCheckpoint(\n",
    "        filepath=\"models/vtid_1.h5\",\n",
    "        monitor=\"val_accuracy\",\n",
    "        save_best_only=True\n",
    "    )\n",
    "]"
   ]
  },
  {
   "cell_type": "code",
   "execution_count": 6,
   "metadata": {},
   "outputs": [
    {
     "name": "stdout",
     "output_type": "stream",
     "text": [
      "Epoch 1/40\n"
     ]
    },
    {
     "name": "stderr",
     "output_type": "stream",
     "text": [
      "2022-08-02 10:21:47.827577: W tensorflow/core/platform/profile_utils/cpu_utils.cc:128] Failed to get CPU frequency: 0 Hz\n",
      "2022-08-02 10:21:47.827679: I tensorflow/core/grappler/optimizers/custom_graph_optimizer_registry.cc:112] Plugin optimizer for device_type GPU is enabled.\n"
     ]
    },
    {
     "name": "stdout",
     "output_type": "stream",
     "text": [
      "96/96 [==============================] - ETA: 0s - loss: 2.7021 - accuracy: 0.3274"
     ]
    },
    {
     "name": "stderr",
     "output_type": "stream",
     "text": [
      "2022-08-02 10:21:52.738272: I tensorflow/core/grappler/optimizers/custom_graph_optimizer_registry.cc:112] Plugin optimizer for device_type GPU is enabled.\n"
     ]
    },
    {
     "name": "stdout",
     "output_type": "stream",
     "text": [
      "96/96 [==============================] - 6s 53ms/step - loss: 2.7021 - accuracy: 0.3274 - val_loss: 1.6024 - val_accuracy: 0.2623\n",
      "Epoch 2/40\n",
      "96/96 [==============================] - 8s 85ms/step - loss: 1.3381 - accuracy: 0.4836 - val_loss: 1.0424 - val_accuracy: 0.5951\n",
      "Epoch 3/40\n",
      "96/96 [==============================] - 4s 45ms/step - loss: 0.9600 - accuracy: 0.6437 - val_loss: 0.8715 - val_accuracy: 0.6564\n",
      "Epoch 4/40\n",
      "96/96 [==============================] - 4s 43ms/step - loss: 0.7089 - accuracy: 0.7618 - val_loss: 0.4945 - val_accuracy: 0.8206\n",
      "Epoch 5/40\n",
      "96/96 [==============================] - 4s 43ms/step - loss: 0.4604 - accuracy: 0.8406 - val_loss: 0.3930 - val_accuracy: 0.8512\n",
      "Epoch 6/40\n",
      "96/96 [==============================] - 4s 45ms/step - loss: 0.3472 - accuracy: 0.8829 - val_loss: 0.2220 - val_accuracy: 0.9233\n",
      "Epoch 7/40\n",
      "96/96 [==============================] - 4s 43ms/step - loss: 0.2563 - accuracy: 0.9255 - val_loss: 1.1773 - val_accuracy: 0.6058\n",
      "Epoch 8/40\n",
      "96/96 [==============================] - 4s 45ms/step - loss: 0.2529 - accuracy: 0.9275 - val_loss: 0.3084 - val_accuracy: 0.8926\n",
      "Epoch 9/40\n",
      "96/96 [==============================] - 4s 44ms/step - loss: 0.1469 - accuracy: 0.9557 - val_loss: 0.3736 - val_accuracy: 0.8681\n",
      "Epoch 10/40\n",
      "96/96 [==============================] - 4s 43ms/step - loss: 0.1806 - accuracy: 0.9511 - val_loss: 4.8116 - val_accuracy: 0.4509\n",
      "Epoch 11/40\n",
      "96/96 [==============================] - 4s 44ms/step - loss: 0.2801 - accuracy: 0.9377 - val_loss: 0.2078 - val_accuracy: 0.9264\n",
      "Epoch 12/40\n",
      "96/96 [==============================] - 5s 55ms/step - loss: 0.2126 - accuracy: 0.9534 - val_loss: 0.8994 - val_accuracy: 0.8543\n",
      "Epoch 13/40\n",
      "96/96 [==============================] - 7s 74ms/step - loss: 0.1323 - accuracy: 0.9711 - val_loss: 0.0616 - val_accuracy: 0.9908\n",
      "Epoch 14/40\n",
      "96/96 [==============================] - 4s 45ms/step - loss: 0.2343 - accuracy: 0.9567 - val_loss: 0.0647 - val_accuracy: 0.9923\n",
      "Epoch 15/40\n",
      "96/96 [==============================] - 4s 44ms/step - loss: 0.1197 - accuracy: 0.9741 - val_loss: 13.2828 - val_accuracy: 0.3390\n",
      "Epoch 16/40\n",
      "96/96 [==============================] - 4s 44ms/step - loss: 0.4503 - accuracy: 0.9472 - val_loss: 0.0740 - val_accuracy: 0.9785\n",
      "Epoch 17/40\n",
      "96/96 [==============================] - 7s 74ms/step - loss: 0.4055 - accuracy: 0.9455 - val_loss: 0.0601 - val_accuracy: 0.9847\n",
      "Epoch 18/40\n",
      "96/96 [==============================] - 4s 45ms/step - loss: 0.5568 - accuracy: 0.9514 - val_loss: 0.2817 - val_accuracy: 0.9095\n",
      "Epoch 19/40\n",
      "96/96 [==============================] - 4s 44ms/step - loss: 0.3765 - accuracy: 0.9682 - val_loss: 3.7099 - val_accuracy: 0.5169\n",
      "Epoch 20/40\n",
      "96/96 [==============================] - 4s 44ms/step - loss: 0.2812 - accuracy: 0.9528 - val_loss: 0.2527 - val_accuracy: 0.9172\n",
      "Epoch 21/40\n",
      "96/96 [==============================] - 4s 45ms/step - loss: 0.2643 - accuracy: 0.9636 - val_loss: 0.0885 - val_accuracy: 0.9785\n",
      "Epoch 22/40\n",
      "96/96 [==============================] - 4s 44ms/step - loss: 0.3571 - accuracy: 0.9662 - val_loss: 0.0526 - val_accuracy: 0.9893\n"
     ]
    }
   ],
   "source": [
    "history = model.fit(\n",
    "  train.cache(),\n",
    "  epochs=40,\n",
    "  callbacks=callbacks_list,\n",
    "  validation_data=val.cache()\n",
    ")"
   ]
  },
  {
   "cell_type": "code",
   "execution_count": 7,
   "metadata": {},
   "outputs": [
    {
     "name": "stdout",
     "output_type": "stream",
     "text": [
      "21/21 [==============================] - 1s 21ms/step - loss: 0.0401 - accuracy: 0.9893\n"
     ]
    },
    {
     "data": {
      "text/plain": [
       "[0.040077876299619675, 0.9893292784690857]"
      ]
     },
     "execution_count": 7,
     "metadata": {},
     "output_type": "execute_result"
    }
   ],
   "source": [
    "model.evaluate(test)"
   ]
  },
  {
   "cell_type": "code",
   "execution_count": 8,
   "metadata": {},
   "outputs": [
    {
     "name": "stdout",
     "output_type": "stream",
     "text": [
      " 1/21 [>.............................] - ETA: 4s - loss: 0.0068 - accuracy: 1.0000"
     ]
    },
    {
     "name": "stderr",
     "output_type": "stream",
     "text": [
      "2022-08-02 10:23:34.012779: I tensorflow/core/grappler/optimizers/custom_graph_optimizer_registry.cc:112] Plugin optimizer for device_type GPU is enabled.\n"
     ]
    },
    {
     "name": "stdout",
     "output_type": "stream",
     "text": [
      "21/21 [==============================] - 1s 20ms/step - loss: 0.0596 - accuracy: 0.9909\n"
     ]
    },
    {
     "data": {
      "text/plain": [
       "[0.05964948609471321, 0.9908537268638611]"
      ]
     },
     "execution_count": 8,
     "metadata": {},
     "output_type": "execute_result"
    }
   ],
   "source": [
    "load_model = keras.models.load_model(\"models/vtid_1.h5\")\n",
    "load_model.evaluate(test)"
   ]
  }
 ],
 "metadata": {
  "kernelspec": {
   "display_name": "Python 3.9.7 ('base')",
   "language": "python",
   "name": "python3"
  },
  "language_info": {
   "codemirror_mode": {
    "name": "ipython",
    "version": 3
   },
   "file_extension": ".py",
   "mimetype": "text/x-python",
   "name": "python",
   "nbconvert_exporter": "python",
   "pygments_lexer": "ipython3",
   "version": "3.9.7"
  },
  "orig_nbformat": 4,
  "vscode": {
   "interpreter": {
    "hash": "c6e4e9f98eb68ad3b7c296f83d20e6de614cb42e90992a65aa266555a3137d0d"
   }
  }
 },
 "nbformat": 4,
 "nbformat_minor": 2
}
