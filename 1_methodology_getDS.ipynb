{
 "cells": [
  {
   "cell_type": "markdown",
   "metadata": {},
   "source": [
    "# Methodology and downloading datasets\n",
    "\n",
    "---"
   ]
  },
  {
   "cell_type": "markdown",
   "metadata": {},
   "source": [
    "> This section defines the problem and has a script to download the dataset. After this, a measure of success is chosen, an evaluation protocol is decided, and the raw data is downloaded in the required form."
   ]
  },
  {
   "cell_type": "markdown",
   "metadata": {},
   "source": [
    "## 1. Defining the problem and assembling a dataset"
   ]
  },
  {
   "cell_type": "markdown",
   "metadata": {},
   "source": [
    "> The problem is a multiclass single-label image classification problem. The initial objective is to build models that can accurately classify a vehicle depending on its type - for example, accurately predicting whether a given image is of a bike, pickup truck, mini bus etc.\n",
    "\n",
    "> The main objective is to build models that are small and efficient, and yet can predict with a relatively high degree of accuracy."
   ]
  },
  {
   "cell_type": "markdown",
   "metadata": {},
   "source": [
    "> The main dataset being used is called 'A Dataset Containing Tiny and Low Quality Images for Vehicle Classification' downloaded from this link: [https://zenodo.org/record/6634554](https://zenodo.org/record/6634554). It contains six classes of vehicles and 800 images for each of those classes. This dataset is referred to as 'zenodo' in this project.\n",
    "\n",
    "> The secondary dataset which will be used for transfer learning is called 'Vehicle Type Image Dataset (Version 2)' downloaded from this link: [https://data.mendeley.com/datasets/htsngg9tpc](https://data.mendeley.com/datasets/htsngg9tpc). This dataset contains 4356 images split between five classes of vehicles. This dataset is referred to as 'vtid2' in this project.\n",
    "\n",
    "> Both datasets have the licence of 'Creative Commons Attribution 4.0 International'. More information about them can be found in the file **datasets/dataset_sources.md**.\n"
   ]
  },
  {
   "cell_type": "markdown",
   "metadata": {},
   "source": [
    "### 1.1 Downloading the datasets"
   ]
  },
  {
   "cell_type": "markdown",
   "metadata": {},
   "source": [
    "**Primary dataset (Zenodo)**"
   ]
  },
  {
   "cell_type": "markdown",
   "metadata": {},
   "source": [
    "> The primary dataset (Zenodo) data is already in the *datasets/data/raw folder*, and it is *'Dataset (Vehicles)'*"
   ]
  },
  {
   "cell_type": "markdown",
   "metadata": {},
   "source": [
    "**Secondary dataset (VTID2)**"
   ]
  },
  {
   "cell_type": "markdown",
   "metadata": {},
   "source": [
    "> In order to download the secondary dataset (VTID2) which will be used for transfer learning, run the code cell below:"
   ]
  },
  {
   "cell_type": "code",
   "execution_count": null,
   "metadata": {},
   "outputs": [],
   "source": [
    "# Download VTID2 dataset\n",
    "\n",
    "!rm -rf \"./datasets/data/raw/htsngg9tpc-2\"\n",
    "\n",
    "!wget -nc \"https://md-datasets-cache-zipfiles-prod.s3.eu-west-1.amazonaws.com/htsngg9tpc-2.zip\" -O \"./datasets/data/raw/htsngg9tpc-2.zip\"\n",
    "\n",
    "# Unzip dataset\n",
    "!unzip \"./datasets/data/raw/htsngg9tpc-2.zip\" -d \"./datasets/data/raw/\"\n",
    "\n",
    "!rm -rf \"./datasets/data/raw/htsngg9tpc-2.zip\""
   ]
  },
  {
   "cell_type": "markdown",
   "metadata": {},
   "source": [
    "## 2. Choosing a measure of success"
   ]
  },
  {
   "cell_type": "markdown",
   "metadata": {},
   "source": [
    "----\n",
    "\n",
    "Primary metric: **accuracy**\n",
    "\n",
    "Secondary metrics: *class wise precision and recall*\n",
    "\n",
    "----"
   ]
  },
  {
   "cell_type": "markdown",
   "metadata": {},
   "source": [
    "## 3. Deciding on an evaluation protocol"
   ]
  },
  {
   "cell_type": "markdown",
   "metadata": {},
   "source": [
    "----\n",
    "\n",
    "Evaluation Protocol: **Maintaining a hold-out validation set**\n",
    "\n",
    "----\n",
    "\n",
    "Dataset split ratio:\n",
    "\n",
    "| Split      | Ratio |\n",
    "|------------|-------|\n",
    "| Train      | 80%   |\n",
    "| Validation | 10%   |\n",
    "| Test       | 10%   |\n",
    "\n",
    "----"
   ]
  },
  {
   "cell_type": "markdown",
   "metadata": {},
   "source": [
    "## 4. Last layer activation, optimization, and loss function"
   ]
  },
  {
   "cell_type": "markdown",
   "metadata": {},
   "source": [
    "> This is a multiclass single-label image classification problem, so:"
   ]
  },
  {
   "cell_type": "markdown",
   "metadata": {},
   "source": [
    "1. Last-layer activation - **sigmoid**\n",
    "\n",
    "2. Loss function - **sparse_categorical_crossentropy**\n",
    "\n",
    "3. Optimization Configuration - **rmsprop**"
   ]
  },
  {
   "cell_type": "markdown",
   "metadata": {},
   "source": [
    "## 5. Fixing issues before data processing"
   ]
  },
  {
   "cell_type": "markdown",
   "metadata": {},
   "source": [
    "#### Getting raw paths for the datasets "
   ]
  },
  {
   "cell_type": "code",
   "execution_count": 10,
   "metadata": {},
   "outputs": [],
   "source": [
    "raw_zenodo_path = './datasets/data/raw/Zenodo_Dataset'\n",
    "raw_vtid2_path = './datasets/data/raw/htsngg9tpc-2'"
   ]
  },
  {
   "cell_type": "markdown",
   "metadata": {},
   "source": [
    "#### Renaming the 'other' folder in the VTID2 dataset since they are all clearly bikes"
   ]
  },
  {
   "cell_type": "code",
   "execution_count": 11,
   "metadata": {},
   "outputs": [],
   "source": [
    "import os\n",
    "\n",
    "# If the directory exists, then rename it\n",
    "if os.path.exists(raw_vtid2_path + '/' + 'other'):\n",
    "  os.rename(raw_vtid2_path + '/' + 'other', raw_vtid2_path + '/' + 'bike')"
   ]
  }
 ],
 "metadata": {
  "kernelspec": {
   "display_name": "Python 3.9.7 ('base')",
   "language": "python",
   "name": "python3"
  },
  "language_info": {
   "codemirror_mode": {
    "name": "ipython",
    "version": 3
   },
   "file_extension": ".py",
   "mimetype": "text/x-python",
   "name": "python",
   "nbconvert_exporter": "python",
   "pygments_lexer": "ipython3",
   "version": "3.9.7"
  },
  "orig_nbformat": 4,
  "vscode": {
   "interpreter": {
    "hash": "c6e4e9f98eb68ad3b7c296f83d20e6de614cb42e90992a65aa266555a3137d0d"
   }
  }
 },
 "nbformat": 4,
 "nbformat_minor": 2
}
