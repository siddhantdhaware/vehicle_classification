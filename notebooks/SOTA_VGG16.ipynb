{
 "cells": [
  {
   "cell_type": "markdown",
   "metadata": {},
   "source": [
    "# Importing the libraries"
   ]
  },
  {
   "cell_type": "code",
   "execution_count": 1,
   "metadata": {},
   "outputs": [],
   "source": [
    "import tensorflow as tf\n",
    "from tensorflow.keras import layers, utils\n",
    "from tensorflow import keras\n",
    "from matplotlib import pyplot as plt\n",
    "\n",
    "import sys\n",
    "sys.path.insert(0, '../')\n",
    "from plot_graphs import plot_loss, plot_acc"
   ]
  },
  {
   "cell_type": "markdown",
   "metadata": {},
   "source": [
    "# Setting Image and Batch size"
   ]
  },
  {
   "cell_type": "code",
   "execution_count": 2,
   "metadata": {},
   "outputs": [],
   "source": [
    "IMAGE_SIZE = 100\n",
    "BATCH_SIZE = 32"
   ]
  },
  {
   "cell_type": "markdown",
   "metadata": {},
   "source": [
    "# Importing the train, test, and val data"
   ]
  },
  {
   "cell_type": "code",
   "execution_count": 3,
   "metadata": {},
   "outputs": [
    {
     "name": "stdout",
     "output_type": "stream",
     "text": [
      "Found 3360 files belonging to 6 classes.\n",
      "Metal device set to: Apple M1\n",
      "\n",
      "systemMemory: 16.00 GB\n",
      "maxCacheSize: 5.33 GB\n",
      "\n",
      "Found 720 files belonging to 6 classes.\n",
      "Found 720 files belonging to 6 classes.\n"
     ]
    },
    {
     "name": "stderr",
     "output_type": "stream",
     "text": [
      "2022-08-04 06:01:04.822877: I tensorflow/core/common_runtime/pluggable_device/pluggable_device_factory.cc:305] Could not identify NUMA node of platform GPU ID 0, defaulting to 0. Your kernel may not have been built with NUMA support.\n",
      "2022-08-04 06:01:04.823008: I tensorflow/core/common_runtime/pluggable_device/pluggable_device_factory.cc:271] Created TensorFlow device (/job:localhost/replica:0/task:0/device:GPU:0 with 0 MB memory) -> physical PluggableDevice (device: 0, name: METAL, pci bus id: <undefined>)\n"
     ]
    }
   ],
   "source": [
    "train = utils.image_dataset_from_directory(\"../datasets/data/split/Zenodo/train\", image_size=(IMAGE_SIZE, IMAGE_SIZE), batch_size=BATCH_SIZE)\n",
    "val = utils.image_dataset_from_directory(\"../datasets/data/split/Zenodo/val\", image_size=(IMAGE_SIZE, IMAGE_SIZE), batch_size=BATCH_SIZE)\n",
    "test = utils.image_dataset_from_directory(\"../datasets/data/split/Zenodo/test\", image_size=(IMAGE_SIZE, IMAGE_SIZE), batch_size=BATCH_SIZE)\n"
   ]
  },
  {
   "cell_type": "markdown",
   "metadata": {},
   "source": [
    "# Preprocessing the data for VGG16"
   ]
  },
  {
   "cell_type": "code",
   "execution_count": 4,
   "metadata": {},
   "outputs": [],
   "source": [
    "train = train.map(lambda x, y: (tf.keras.applications.vgg16.preprocess_input(x), y))\n",
    "val = val.map(lambda x, y: (tf.keras.applications.vgg16.preprocess_input(x), y))\n",
    "test = test.map(lambda x, y: (tf.keras.applications.vgg16.preprocess_input(x), y))"
   ]
  },
  {
   "cell_type": "markdown",
   "metadata": {},
   "source": [
    "# Defining the model"
   ]
  },
  {
   "cell_type": "code",
   "execution_count": 5,
   "metadata": {},
   "outputs": [
    {
     "name": "stdout",
     "output_type": "stream",
     "text": [
      "Model: \"vgg16\"\n",
      "_________________________________________________________________\n",
      " Layer (type)                Output Shape              Param #   \n",
      "=================================================================\n",
      " input_1 (InputLayer)        [(None, 100, 100, 3)]     0         \n",
      "                                                                 \n",
      " block1_conv1 (Conv2D)       (None, 100, 100, 64)      1792      \n",
      "                                                                 \n",
      " block1_conv2 (Conv2D)       (None, 100, 100, 64)      36928     \n",
      "                                                                 \n",
      " block1_pool (MaxPooling2D)  (None, 50, 50, 64)        0         \n",
      "                                                                 \n",
      " block2_conv1 (Conv2D)       (None, 50, 50, 128)       73856     \n",
      "                                                                 \n",
      " block2_conv2 (Conv2D)       (None, 50, 50, 128)       147584    \n",
      "                                                                 \n",
      " block2_pool (MaxPooling2D)  (None, 25, 25, 128)       0         \n",
      "                                                                 \n",
      " block3_conv1 (Conv2D)       (None, 25, 25, 256)       295168    \n",
      "                                                                 \n",
      " block3_conv2 (Conv2D)       (None, 25, 25, 256)       590080    \n",
      "                                                                 \n",
      " block3_conv3 (Conv2D)       (None, 25, 25, 256)       590080    \n",
      "                                                                 \n",
      " block3_pool (MaxPooling2D)  (None, 12, 12, 256)       0         \n",
      "                                                                 \n",
      " block4_conv1 (Conv2D)       (None, 12, 12, 512)       1180160   \n",
      "                                                                 \n",
      " block4_conv2 (Conv2D)       (None, 12, 12, 512)       2359808   \n",
      "                                                                 \n",
      " block4_conv3 (Conv2D)       (None, 12, 12, 512)       2359808   \n",
      "                                                                 \n",
      " block4_pool (MaxPooling2D)  (None, 6, 6, 512)         0         \n",
      "                                                                 \n",
      " block5_conv1 (Conv2D)       (None, 6, 6, 512)         2359808   \n",
      "                                                                 \n",
      " block5_conv2 (Conv2D)       (None, 6, 6, 512)         2359808   \n",
      "                                                                 \n",
      " block5_conv3 (Conv2D)       (None, 6, 6, 512)         2359808   \n",
      "                                                                 \n",
      " block5_pool (MaxPooling2D)  (None, 3, 3, 512)         0         \n",
      "                                                                 \n",
      " flatten (Flatten)           (None, 4608)              0         \n",
      "                                                                 \n",
      " fc1 (Dense)                 (None, 4096)              18878464  \n",
      "                                                                 \n",
      " fc2 (Dense)                 (None, 4096)              16781312  \n",
      "                                                                 \n",
      " predictions (Dense)         (None, 6)                 24582     \n",
      "                                                                 \n",
      "=================================================================\n",
      "Total params: 50,399,046\n",
      "Trainable params: 50,399,046\n",
      "Non-trainable params: 0\n",
      "_________________________________________________________________\n"
     ]
    }
   ],
   "source": [
    "model = tf.keras.applications.VGG16(\n",
    "    include_top=True,\n",
    "    weights=None,\n",
    "    input_shape=(IMAGE_SIZE, IMAGE_SIZE, 3),\n",
    "    pooling='avg',\n",
    "    classes=6,\n",
    "    classifier_activation=\"softmax\"\n",
    ")\n",
    "\n",
    "model.compile(optimizer=keras.optimizers.RMSprop(0.0001), loss='sparse_categorical_crossentropy', metrics=['accuracy'])\n",
    "\n",
    "model.summary()"
   ]
  },
  {
   "cell_type": "markdown",
   "metadata": {},
   "source": [
    "# Running the Model"
   ]
  },
  {
   "cell_type": "code",
   "execution_count": 6,
   "metadata": {},
   "outputs": [
    {
     "name": "stdout",
     "output_type": "stream",
     "text": [
      "Epoch 1/20\n"
     ]
    },
    {
     "name": "stderr",
     "output_type": "stream",
     "text": [
      "2022-08-04 06:01:05.211290: W tensorflow/core/platform/profile_utils/cpu_utils.cc:128] Failed to get CPU frequency: 0 Hz\n",
      "2022-08-04 06:01:05.829007: I tensorflow/core/grappler/optimizers/custom_graph_optimizer_registry.cc:112] Plugin optimizer for device_type GPU is enabled.\n"
     ]
    },
    {
     "name": "stdout",
     "output_type": "stream",
     "text": [
      "105/105 [==============================] - ETA: 0s - loss: 1.4288 - accuracy: 0.4869"
     ]
    },
    {
     "name": "stderr",
     "output_type": "stream",
     "text": [
      "2022-08-04 06:01:59.519935: I tensorflow/core/grappler/optimizers/custom_graph_optimizer_registry.cc:112] Plugin optimizer for device_type GPU is enabled.\n"
     ]
    },
    {
     "name": "stdout",
     "output_type": "stream",
     "text": [
      "105/105 [==============================] - 57s 538ms/step - loss: 1.4288 - accuracy: 0.4869 - val_loss: 0.6312 - val_accuracy: 0.7653\n",
      "Epoch 2/20\n",
      "105/105 [==============================] - 55s 527ms/step - loss: 0.5857 - accuracy: 0.7798 - val_loss: 0.4381 - val_accuracy: 0.8347\n",
      "Epoch 3/20\n",
      "105/105 [==============================] - 55s 520ms/step - loss: 0.3492 - accuracy: 0.8777 - val_loss: 0.4972 - val_accuracy: 0.8500\n",
      "Epoch 4/20\n",
      "105/105 [==============================] - 55s 522ms/step - loss: 0.2521 - accuracy: 0.9155 - val_loss: 0.3748 - val_accuracy: 0.8972\n",
      "Epoch 5/20\n",
      "105/105 [==============================] - 55s 523ms/step - loss: 0.1752 - accuracy: 0.9405 - val_loss: 0.3623 - val_accuracy: 0.9111\n",
      "Epoch 6/20\n",
      "105/105 [==============================] - 56s 532ms/step - loss: 0.1344 - accuracy: 0.9497 - val_loss: 0.2997 - val_accuracy: 0.9250\n",
      "Epoch 7/20\n",
      "105/105 [==============================] - 57s 541ms/step - loss: 0.1158 - accuracy: 0.9649 - val_loss: 0.2874 - val_accuracy: 0.9167\n",
      "Epoch 8/20\n",
      "105/105 [==============================] - 59s 558ms/step - loss: 0.0983 - accuracy: 0.9688 - val_loss: 0.3056 - val_accuracy: 0.9236\n",
      "Epoch 9/20\n",
      "105/105 [==============================] - 65s 617ms/step - loss: 0.0802 - accuracy: 0.9735 - val_loss: 0.4084 - val_accuracy: 0.9125\n",
      "Epoch 10/20\n",
      "105/105 [==============================] - 59s 565ms/step - loss: 0.0742 - accuracy: 0.9815 - val_loss: 0.2378 - val_accuracy: 0.9347\n",
      "Epoch 11/20\n",
      "105/105 [==============================] - 59s 564ms/step - loss: 0.0566 - accuracy: 0.9827 - val_loss: 0.2737 - val_accuracy: 0.9458\n",
      "Epoch 12/20\n",
      "105/105 [==============================] - 58s 547ms/step - loss: 0.0916 - accuracy: 0.9821 - val_loss: 0.6495 - val_accuracy: 0.8958\n",
      "Epoch 13/20\n",
      "105/105 [==============================] - 58s 552ms/step - loss: 0.0688 - accuracy: 0.9810 - val_loss: 0.2397 - val_accuracy: 0.9444\n",
      "Epoch 14/20\n",
      "105/105 [==============================] - 60s 575ms/step - loss: 0.0469 - accuracy: 0.9869 - val_loss: 0.2836 - val_accuracy: 0.9472\n",
      "Epoch 15/20\n",
      "105/105 [==============================] - 61s 576ms/step - loss: 0.0705 - accuracy: 0.9821 - val_loss: 0.3332 - val_accuracy: 0.9208\n",
      "Epoch 16/20\n",
      "105/105 [==============================] - 59s 566ms/step - loss: 0.0582 - accuracy: 0.9893 - val_loss: 0.3412 - val_accuracy: 0.9472\n",
      "Epoch 17/20\n",
      "105/105 [==============================] - 58s 554ms/step - loss: 0.0345 - accuracy: 0.9899 - val_loss: 0.3464 - val_accuracy: 0.9444\n",
      "Epoch 18/20\n",
      "105/105 [==============================] - 61s 581ms/step - loss: 0.0393 - accuracy: 0.9923 - val_loss: 0.3606 - val_accuracy: 0.9431\n",
      "Epoch 19/20\n",
      "105/105 [==============================] - 60s 576ms/step - loss: 0.0460 - accuracy: 0.9902 - val_loss: 0.3009 - val_accuracy: 0.9569\n",
      "Epoch 20/20\n",
      "105/105 [==============================] - 59s 566ms/step - loss: 0.0517 - accuracy: 0.9908 - val_loss: 0.3552 - val_accuracy: 0.9417\n"
     ]
    }
   ],
   "source": [
    "callbacks_list = [\n",
    "    keras.callbacks.EarlyStopping(\n",
    "        monitor=\"val_accuracy\",\n",
    "        patience=5\n",
    "    ),\n",
    "    keras.callbacks.ModelCheckpoint(\n",
    "        filepath=\"../models/sota/sota_vgg16.h5\",\n",
    "        monitor=\"val_accuracy\",\n",
    "        save_best_only=True\n",
    "    )\n",
    "]\n",
    "\n",
    "history = model.fit(\n",
    "  train.cache(),\n",
    "  epochs=20,\n",
    "  callbacks=callbacks_list,\n",
    "  validation_data=val.cache()\n",
    ")"
   ]
  },
  {
   "cell_type": "markdown",
   "metadata": {},
   "source": [
    "# Evaluating the model"
   ]
  },
  {
   "cell_type": "code",
   "execution_count": 7,
   "metadata": {},
   "outputs": [
    {
     "name": "stdout",
     "output_type": "stream",
     "text": [
      "23/23 [==============================] - 3s 130ms/step - loss: 0.3191 - accuracy: 0.9375\n"
     ]
    },
    {
     "name": "stderr",
     "output_type": "stream",
     "text": [
      "2022-08-04 06:20:35.656830: I tensorflow/core/grappler/optimizers/custom_graph_optimizer_registry.cc:112] Plugin optimizer for device_type GPU is enabled.\n"
     ]
    },
    {
     "name": "stdout",
     "output_type": "stream",
     "text": [
      "23/23 [==============================] - 3s 129ms/step - loss: 0.2512 - accuracy: 0.9583\n"
     ]
    },
    {
     "data": {
      "text/plain": [
       "[0.25120633840560913, 0.9583333730697632]"
      ]
     },
     "execution_count": 7,
     "metadata": {},
     "output_type": "execute_result"
    }
   ],
   "source": [
    "model.evaluate(test)\n",
    "\n",
    "load_model = keras.models.load_model(\"../models/sota/sota_vgg16.h5\")\n",
    "load_model.evaluate(test)"
   ]
  },
  {
   "cell_type": "code",
   "execution_count": null,
   "metadata": {},
   "outputs": [],
   "source": [
    "# Plotting loss and accuracy graphs\n",
    "## Plotting loss\n",
    "plot_loss(history)\n",
    "## Plotting accuracy\n",
    "plot_acc(history)"
   ]
  }
 ],
 "metadata": {
  "kernelspec": {
   "display_name": "Python 3.9.7 ('base')",
   "language": "python",
   "name": "python3"
  },
  "language_info": {
   "codemirror_mode": {
    "name": "ipython",
    "version": 3
   },
   "file_extension": ".py",
   "mimetype": "text/x-python",
   "name": "python",
   "nbconvert_exporter": "python",
   "pygments_lexer": "ipython3",
   "version": "3.9.7"
  },
  "orig_nbformat": 4,
  "vscode": {
   "interpreter": {
    "hash": "c6e4e9f98eb68ad3b7c296f83d20e6de614cb42e90992a65aa266555a3137d0d"
   }
  }
 },
 "nbformat": 4,
 "nbformat_minor": 2
}
