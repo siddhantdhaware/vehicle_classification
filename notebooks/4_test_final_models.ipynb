{
 "cells": [
  {
   "cell_type": "markdown",
   "metadata": {},
   "source": [
    "# Test two final models (Best and Proposed)\n",
    "\n",
    "---"
   ]
  },
  {
   "cell_type": "markdown",
   "metadata": {},
   "source": [
    "### Importing the libraries"
   ]
  },
  {
   "cell_type": "code",
   "execution_count": 8,
   "metadata": {},
   "outputs": [],
   "source": [
    "import tensorflow as tf\n",
    "from tensorflow.keras import layers, utils\n",
    "from tensorflow import keras\n",
    "from matplotlib import pyplot as plt\n",
    "import numpy as np\n",
    "from sklearn.metrics import classification_report, confusion_matrix, ConfusionMatrixDisplay\n",
    "\n",
    "import sys\n",
    "sys.path.insert(0, '../helpers/')\n",
    "from plot_graphs import plot_loss, plot_acc"
   ]
  },
  {
   "cell_type": "markdown",
   "metadata": {},
   "source": [
    "### Setting batch and image size, and importing the datasets "
   ]
  },
  {
   "cell_type": "code",
   "execution_count": 10,
   "metadata": {},
   "outputs": [
    {
     "name": "stdout",
     "output_type": "stream",
     "text": [
      "Found 3840 files belonging to 6 classes.\n",
      "Found 480 files belonging to 6 classes.\n",
      "Found 480 files belonging to 6 classes.\n"
     ]
    }
   ],
   "source": [
    "IMAGE_SIZE = 100\n",
    "BATCH_SIZE = 32\n",
    "\n",
    "train = utils.image_dataset_from_directory(\"../datasets/data/split/Zenodo/train\", image_size=(IMAGE_SIZE, IMAGE_SIZE), batch_size=BATCH_SIZE)\n",
    "val = utils.image_dataset_from_directory(\"../datasets/data/split/Zenodo/val\", image_size=(IMAGE_SIZE, IMAGE_SIZE), batch_size=BATCH_SIZE)\n",
    "test = utils.image_dataset_from_directory(\"../datasets/data/split/Zenodo/test\", image_size=(IMAGE_SIZE, IMAGE_SIZE), batch_size=BATCH_SIZE)\n",
    "\n",
    "train = train.prefetch(buffer_size=tf.data.AUTOTUNE).cache()\n",
    "val = val.prefetch(buffer_size=tf.data.AUTOTUNE).cache()\n",
    "test = test.prefetch(buffer_size=tf.data.AUTOTUNE).cache()"
   ]
  },
  {
   "cell_type": "markdown",
   "metadata": {},
   "source": [
    "### Processing images"
   ]
  },
  {
   "cell_type": "code",
   "execution_count": 11,
   "metadata": {},
   "outputs": [],
   "source": [
    "def process_image(x):\n",
    "  x = tf.image.adjust_brightness(x, 0.8)\n",
    "  x = tf.image.adjust_contrast(x, 3)\n",
    "  x = tf.image.adjust_saturation(x, 2)\n",
    "  return x\n",
    "\n",
    "def process_ds(dataset):\n",
    "  return dataset.map(lambda x, y: (process_image(x), y)).prefetch(tf.data.AUTOTUNE).cache()\n",
    "  \n",
    "train_processed = process_ds(train)\n",
    "val_processed = process_ds(val)\n",
    "test_processed = process_ds(test)"
   ]
  },
  {
   "cell_type": "markdown",
   "metadata": {},
   "source": [
    "### Function to generate confusion matrices and get class-wise precision and recall"
   ]
  },
  {
   "cell_type": "code",
   "execution_count": 12,
   "metadata": {},
   "outputs": [],
   "source": [
    "class_list = ['bike', 'car', 'juggernaut', 'minibus', 'pickup', 'truck']\n",
    "\n",
    "# Get the labels(y_true) and predictions(y_pred) from the test set\n",
    "def get_preds_labels(model,test):\n",
    "  preds = np.argmax(model.predict(test), axis=1)\n",
    "  labels = []\n",
    "  for image, label in test.unbatch():\n",
    "    labels.append(label)\n",
    "  labels = np.array(labels)\n",
    "\n",
    "  return labels, preds\n",
    "\n",
    "# print the classification report and confusion matrix\n",
    "def print_cm(labels, preds, cm):\n",
    "  print(classification_report(labels, preds))\n",
    "\n",
    "  disp = ConfusionMatrixDisplay(confusion_matrix=cm, display_labels=class_list)\n",
    "\n",
    "  plt.rcParams[\"figure.figsize\"] = (15,8)\n",
    "\n",
    "  disp.plot(cmap=plt.cm.Blues)\n",
    "  plt.show()\n"
   ]
  },
  {
   "cell_type": "markdown",
   "metadata": {},
   "source": [
    "## 1. Best Model - highest accuracy"
   ]
  },
  {
   "cell_type": "markdown",
   "metadata": {},
   "source": [
    "> In this section, the best model which will now be trained for 50 epochs with slightly tweaked dropout and learning rates to maximize test accuracy."
   ]
  },
  {
   "cell_type": "markdown",
   "metadata": {},
   "source": [
    "### 1.1 Defining the best model"
   ]
  },
  {
   "cell_type": "code",
   "execution_count": 14,
   "metadata": {},
   "outputs": [
    {
     "name": "stdout",
     "output_type": "stream",
     "text": [
      "Model: \"model_1\"\n",
      "_________________________________________________________________\n",
      " Layer (type)                Output Shape              Param #   \n",
      "=================================================================\n",
      " input_2 (InputLayer)        [(None, 100, 100, 3)]     0         \n",
      "                                                                 \n",
      " rescaling_1 (Rescaling)     (None, 100, 100, 3)       0         \n",
      "                                                                 \n",
      " conv2d_9 (Conv2D)           (None, 98, 98, 32)        896       \n",
      "                                                                 \n",
      " conv2d_10 (Conv2D)          (None, 96, 96, 32)        9248      \n",
      "                                                                 \n",
      " conv2d_11 (Conv2D)          (None, 94, 94, 32)        9248      \n",
      "                                                                 \n",
      " max_pooling2d_3 (MaxPooling  (None, 47, 47, 32)       0         \n",
      " 2D)                                                             \n",
      "                                                                 \n",
      " conv2d_12 (Conv2D)          (None, 45, 45, 64)        18496     \n",
      "                                                                 \n",
      " conv2d_13 (Conv2D)          (None, 43, 43, 64)        36928     \n",
      "                                                                 \n",
      " max_pooling2d_4 (MaxPooling  (None, 21, 21, 64)       0         \n",
      " 2D)                                                             \n",
      "                                                                 \n",
      " conv2d_14 (Conv2D)          (None, 19, 19, 128)       73856     \n",
      "                                                                 \n",
      " conv2d_15 (Conv2D)          (None, 17, 17, 128)       147584    \n",
      "                                                                 \n",
      " max_pooling2d_5 (MaxPooling  (None, 8, 8, 128)        0         \n",
      " 2D)                                                             \n",
      "                                                                 \n",
      " conv2d_16 (Conv2D)          (None, 6, 6, 256)         295168    \n",
      "                                                                 \n",
      " conv2d_17 (Conv2D)          (None, 4, 4, 256)         590080    \n",
      "                                                                 \n",
      " global_average_pooling2d_1   (None, 256)              0         \n",
      " (GlobalAveragePooling2D)                                        \n",
      "                                                                 \n",
      " dropout_1 (Dropout)         (None, 256)               0         \n",
      "                                                                 \n",
      " dense_1 (Dense)             (None, 6)                 1542      \n",
      "                                                                 \n",
      "=================================================================\n",
      "Total params: 1,183,046\n",
      "Trainable params: 1,183,046\n",
      "Non-trainable params: 0\n",
      "_________________________________________________________________\n"
     ]
    }
   ],
   "source": [
    "inputs = keras.Input(shape=(100, 100, 3))\n",
    "x = inputs\n",
    "x = layers.Rescaling(1./255)(x)\n",
    "\n",
    "layer_architecture = {32: 3, 64: 2, 128: 2, 256: 2}\n",
    "\n",
    "for size in layer_architecture:\n",
    "  for i in range(layer_architecture[size]):\n",
    "    x = layers.Conv2D(size, 3, activation='relu')(x)\n",
    "  if size != 256:\n",
    "    x = layers.MaxPooling2D(2)(x)\n",
    "\n",
    "x = layers.GlobalAveragePooling2D()(x)\n",
    "x = layers.Dropout(0.35)(x)\n",
    "outputs = layers.Dense(6, activation='softmax')(x)\n",
    "\n",
    "model_best = keras.Model(inputs, outputs)\n",
    "\n",
    "model_best.compile(optimizer=keras.optimizers.RMSprop(0.00095), loss='sparse_categorical_crossentropy', metrics=['accuracy'])\n",
    "\n",
    "model_best.summary()"
   ]
  },
  {
   "cell_type": "markdown",
   "metadata": {},
   "source": [
    "### 1.2 Running the best model"
   ]
  },
  {
   "cell_type": "code",
   "execution_count": 15,
   "metadata": {},
   "outputs": [
    {
     "name": "stderr",
     "output_type": "stream",
     "text": [
      "2022-09-01 08:21:49.788628: W tensorflow/core/platform/profile_utils/cpu_utils.cc:128] Failed to get CPU frequency: 0 Hz\n"
     ]
    },
    {
     "name": "stdout",
     "output_type": "stream",
     "text": [
      "Epoch 1/50\n"
     ]
    },
    {
     "name": "stderr",
     "output_type": "stream",
     "text": [
      "2022-09-01 08:21:50.335258: I tensorflow/core/grappler/optimizers/custom_graph_optimizer_registry.cc:112] Plugin optimizer for device_type GPU is enabled.\n"
     ]
    },
    {
     "name": "stdout",
     "output_type": "stream",
     "text": [
      "120/120 [==============================] - ETA: 0s - loss: 1.7209 - accuracy: 0.3372"
     ]
    },
    {
     "name": "stderr",
     "output_type": "stream",
     "text": [
      "2022-09-01 08:22:02.214657: I tensorflow/core/grappler/optimizers/custom_graph_optimizer_registry.cc:112] Plugin optimizer for device_type GPU is enabled.\n"
     ]
    },
    {
     "name": "stdout",
     "output_type": "stream",
     "text": [
      "120/120 [==============================] - 13s 98ms/step - loss: 1.7209 - accuracy: 0.3372 - val_loss: 1.1544 - val_accuracy: 0.6000\n",
      "Epoch 2/50\n",
      "120/120 [==============================] - 12s 96ms/step - loss: 0.9463 - accuracy: 0.6435 - val_loss: 1.3101 - val_accuracy: 0.5083\n",
      "Epoch 3/50\n",
      "120/120 [==============================] - 11s 92ms/step - loss: 0.6263 - accuracy: 0.7781 - val_loss: 1.3327 - val_accuracy: 0.5271\n",
      "Epoch 4/50\n",
      "120/120 [==============================] - 12s 96ms/step - loss: 0.4126 - accuracy: 0.8628 - val_loss: 0.5386 - val_accuracy: 0.8125\n",
      "Epoch 5/50\n",
      "120/120 [==============================] - 12s 100ms/step - loss: 0.3061 - accuracy: 0.8964 - val_loss: 0.3530 - val_accuracy: 0.8833\n",
      "Epoch 6/50\n",
      "120/120 [==============================] - 12s 100ms/step - loss: 0.2123 - accuracy: 0.9229 - val_loss: 0.3527 - val_accuracy: 0.8917\n",
      "Epoch 7/50\n",
      "120/120 [==============================] - 14s 115ms/step - loss: 0.1904 - accuracy: 0.9372 - val_loss: 0.4028 - val_accuracy: 0.8958\n",
      "Epoch 8/50\n",
      "120/120 [==============================] - 13s 108ms/step - loss: 0.1751 - accuracy: 0.9565 - val_loss: 0.3878 - val_accuracy: 0.9042\n",
      "Epoch 9/50\n",
      "120/120 [==============================] - 13s 105ms/step - loss: 0.1232 - accuracy: 0.9630 - val_loss: 0.2558 - val_accuracy: 0.9333\n",
      "Epoch 10/50\n",
      "120/120 [==============================] - 15s 123ms/step - loss: 0.0966 - accuracy: 0.9706 - val_loss: 0.5015 - val_accuracy: 0.8958\n",
      "Epoch 11/50\n",
      "120/120 [==============================] - 15s 123ms/step - loss: 0.0844 - accuracy: 0.9755 - val_loss: 0.4308 - val_accuracy: 0.9188\n",
      "Epoch 12/50\n",
      "120/120 [==============================] - 14s 113ms/step - loss: 0.0825 - accuracy: 0.9755 - val_loss: 1.2582 - val_accuracy: 0.8354\n",
      "Epoch 13/50\n",
      "120/120 [==============================] - 14s 120ms/step - loss: 0.0920 - accuracy: 0.9797 - val_loss: 0.2643 - val_accuracy: 0.9396\n",
      "Epoch 14/50\n",
      "120/120 [==============================] - 14s 119ms/step - loss: 0.1019 - accuracy: 0.9828 - val_loss: 0.4515 - val_accuracy: 0.9271\n",
      "Epoch 15/50\n",
      "120/120 [==============================] - 13s 110ms/step - loss: 0.0805 - accuracy: 0.9823 - val_loss: 0.3456 - val_accuracy: 0.9292\n",
      "Epoch 16/50\n",
      "120/120 [==============================] - 14s 120ms/step - loss: 0.0715 - accuracy: 0.9823 - val_loss: 0.1893 - val_accuracy: 0.9521\n",
      "Epoch 17/50\n",
      "120/120 [==============================] - 15s 123ms/step - loss: 0.0584 - accuracy: 0.9849 - val_loss: 0.4565 - val_accuracy: 0.9313\n",
      "Epoch 18/50\n",
      "120/120 [==============================] - 13s 108ms/step - loss: 0.0568 - accuracy: 0.9865 - val_loss: 0.2810 - val_accuracy: 0.9500\n",
      "Epoch 19/50\n",
      "120/120 [==============================] - 13s 104ms/step - loss: 0.0582 - accuracy: 0.9880 - val_loss: 0.3661 - val_accuracy: 0.9458\n",
      "Epoch 20/50\n",
      "120/120 [==============================] - 12s 103ms/step - loss: 0.0476 - accuracy: 0.9883 - val_loss: 0.4610 - val_accuracy: 0.9417\n",
      "Epoch 21/50\n",
      "120/120 [==============================] - 12s 103ms/step - loss: 0.0619 - accuracy: 0.9852 - val_loss: 0.9497 - val_accuracy: 0.8729\n",
      "Epoch 22/50\n",
      "120/120 [==============================] - 12s 103ms/step - loss: 0.0577 - accuracy: 0.9885 - val_loss: 1.2611 - val_accuracy: 0.8500\n",
      "Epoch 23/50\n",
      "120/120 [==============================] - 14s 113ms/step - loss: 0.0481 - accuracy: 0.9891 - val_loss: 0.2565 - val_accuracy: 0.9583\n",
      "Epoch 24/50\n",
      "120/120 [==============================] - 13s 112ms/step - loss: 0.0580 - accuracy: 0.9909 - val_loss: 1.7177 - val_accuracy: 0.8438\n",
      "Epoch 25/50\n",
      "120/120 [==============================] - 15s 123ms/step - loss: 0.0589 - accuracy: 0.9901 - val_loss: 0.9500 - val_accuracy: 0.8938\n",
      "Epoch 26/50\n",
      "120/120 [==============================] - 15s 128ms/step - loss: 0.0585 - accuracy: 0.9862 - val_loss: 0.4683 - val_accuracy: 0.9438\n",
      "Epoch 27/50\n",
      "120/120 [==============================] - 15s 129ms/step - loss: 0.0537 - accuracy: 0.9898 - val_loss: 0.4227 - val_accuracy: 0.9563\n",
      "Epoch 28/50\n",
      "120/120 [==============================] - 16s 134ms/step - loss: 0.0505 - accuracy: 0.9904 - val_loss: 0.6204 - val_accuracy: 0.9417\n",
      "Epoch 29/50\n",
      "120/120 [==============================] - 16s 129ms/step - loss: 0.0647 - accuracy: 0.9909 - val_loss: 0.3955 - val_accuracy: 0.9375\n",
      "Epoch 30/50\n",
      "120/120 [==============================] - 14s 119ms/step - loss: 0.0438 - accuracy: 0.9919 - val_loss: 0.2951 - val_accuracy: 0.9625\n",
      "Epoch 31/50\n",
      "120/120 [==============================] - 17s 140ms/step - loss: 0.0476 - accuracy: 0.9906 - val_loss: 0.7350 - val_accuracy: 0.9292\n",
      "Epoch 32/50\n",
      "120/120 [==============================] - 16s 130ms/step - loss: 0.0677 - accuracy: 0.9927 - val_loss: 0.3911 - val_accuracy: 0.9438\n",
      "Epoch 33/50\n",
      "120/120 [==============================] - 17s 146ms/step - loss: 0.0523 - accuracy: 0.9911 - val_loss: 0.3471 - val_accuracy: 0.9604\n",
      "Epoch 34/50\n",
      "120/120 [==============================] - 17s 143ms/step - loss: 0.0412 - accuracy: 0.9922 - val_loss: 0.3828 - val_accuracy: 0.9604\n",
      "Epoch 35/50\n",
      "120/120 [==============================] - 17s 142ms/step - loss: 0.0579 - accuracy: 0.9919 - val_loss: 0.5482 - val_accuracy: 0.9396\n",
      "Epoch 36/50\n",
      "120/120 [==============================] - 17s 141ms/step - loss: 0.0268 - accuracy: 0.9940 - val_loss: 0.4498 - val_accuracy: 0.9583\n",
      "Epoch 37/50\n",
      "120/120 [==============================] - 15s 125ms/step - loss: 0.0589 - accuracy: 0.9938 - val_loss: 0.8191 - val_accuracy: 0.9479\n",
      "Epoch 38/50\n",
      "120/120 [==============================] - 17s 139ms/step - loss: 0.0483 - accuracy: 0.9948 - val_loss: 2.3341 - val_accuracy: 0.8771\n",
      "Epoch 39/50\n",
      "120/120 [==============================] - 17s 145ms/step - loss: 0.0908 - accuracy: 0.9906 - val_loss: 0.5760 - val_accuracy: 0.9563\n",
      "Epoch 40/50\n",
      "120/120 [==============================] - 18s 150ms/step - loss: 0.0537 - accuracy: 0.9927 - val_loss: 0.6355 - val_accuracy: 0.9375\n",
      "Epoch 41/50\n",
      "120/120 [==============================] - 19s 155ms/step - loss: 0.0685 - accuracy: 0.9911 - val_loss: 0.7680 - val_accuracy: 0.9354\n",
      "Epoch 42/50\n",
      "120/120 [==============================] - 18s 151ms/step - loss: 0.0742 - accuracy: 0.9917 - val_loss: 0.4128 - val_accuracy: 0.9604\n",
      "Epoch 43/50\n",
      "120/120 [==============================] - 17s 139ms/step - loss: 0.0304 - accuracy: 0.9953 - val_loss: 1.1060 - val_accuracy: 0.9438\n",
      "Epoch 44/50\n",
      "120/120 [==============================] - 18s 147ms/step - loss: 0.0922 - accuracy: 0.9883 - val_loss: 0.6381 - val_accuracy: 0.9479\n",
      "Epoch 45/50\n",
      "120/120 [==============================] - 18s 152ms/step - loss: 0.0451 - accuracy: 0.9966 - val_loss: 0.6984 - val_accuracy: 0.9667\n",
      "Epoch 46/50\n",
      "120/120 [==============================] - 18s 148ms/step - loss: 0.0831 - accuracy: 0.9911 - val_loss: 0.6143 - val_accuracy: 0.9500\n",
      "Epoch 47/50\n",
      "120/120 [==============================] - 15s 124ms/step - loss: 0.0660 - accuracy: 0.9922 - val_loss: 0.8447 - val_accuracy: 0.9479\n",
      "Epoch 48/50\n",
      "120/120 [==============================] - 15s 123ms/step - loss: 0.0410 - accuracy: 0.9943 - val_loss: 0.8138 - val_accuracy: 0.9563\n",
      "Epoch 49/50\n",
      "120/120 [==============================] - 15s 124ms/step - loss: 0.1093 - accuracy: 0.9930 - val_loss: 1.4208 - val_accuracy: 0.9396\n",
      "Epoch 50/50\n",
      "120/120 [==============================] - 15s 123ms/step - loss: 0.0465 - accuracy: 0.9964 - val_loss: 0.5385 - val_accuracy: 0.9646\n"
     ]
    }
   ],
   "source": [
    "callbacks_list = [\n",
    "    keras.callbacks.ModelCheckpoint(\n",
    "        filepath=\"../models/4_best_model.h5\",\n",
    "        monitor=\"val_accuracy\",\n",
    "        save_best_only=True\n",
    "    )\n",
    "]\n",
    "\n",
    "history_best = model_best.fit(\n",
    "  train_processed,\n",
    "  epochs=50,\n",
    "  callbacks=callbacks_list,\n",
    "  validation_data=val_processed\n",
    ")"
   ]
  },
  {
   "cell_type": "code",
   "execution_count": 16,
   "metadata": {},
   "outputs": [
    {
     "data": {
      "image/png": "[encoded data removed]",
      "text/plain": [
       "<Figure size 432x288 with 1 Axes>"
      ]
     },
     "metadata": {
      "needs_background": "light"
     },
     "output_type": "display_data"
    },
    {
     "data": {
      "image/png": "[encoded data removed]",
      "text/plain": [
       "<Figure size 432x288 with 1 Axes>"
      ]
     },
     "metadata": {
      "needs_background": "light"
     },
     "output_type": "display_data"
    }
   ],
   "source": [
    "plt.rcParams[\"figure.figsize\"] = (6,4)\n",
    "plot_loss(history_best)\n",
    "plot_acc(history_best)"
   ]
  },
  {
   "cell_type": "markdown",
   "metadata": {},
   "source": [
    "### 1.3 Evaluating test accuracy of the best model"
   ]
  },
  {
   "cell_type": "code",
   "execution_count": 17,
   "metadata": {},
   "outputs": [
    {
     "name": "stderr",
     "output_type": "stream",
     "text": [
      "2022-09-01 08:38:46.007367: I tensorflow/core/grappler/optimizers/custom_graph_optimizer_registry.cc:112] Plugin optimizer for device_type GPU is enabled.\n"
     ]
    },
    {
     "name": "stdout",
     "output_type": "stream",
     "text": [
      "15/15 [==============================] - 1s 32ms/step - loss: 0.9207 - accuracy: 0.9583\n"
     ]
    },
    {
     "data": {
      "text/plain": [
       "[0.9206554293632507, 0.9583333730697632]"
      ]
     },
     "execution_count": 17,
     "metadata": {},
     "output_type": "execute_result"
    }
   ],
   "source": [
    "load_model_best = keras.models.load_model(\"../models/4_best_model.h5\")\n",
    "load_model_best.evaluate(test_processed)"
   ]
  },
  {
   "cell_type": "markdown",
   "metadata": {},
   "source": [
    "---\n",
    "\n",
    "*Test Accuracy*: **95.83%**\n",
    "\n",
    "---"
   ]
  },
  {
   "cell_type": "markdown",
   "metadata": {},
   "source": [
    "### 1.4 Confusion matrix and class-wise precious and recall for best model"
   ]
  },
  {
   "cell_type": "code",
   "execution_count": 18,
   "metadata": {},
   "outputs": [
    {
     "name": "stderr",
     "output_type": "stream",
     "text": [
      "2022-09-01 08:47:52.452497: I tensorflow/core/grappler/optimizers/custom_graph_optimizer_registry.cc:112] Plugin optimizer for device_type GPU is enabled.\n"
     ]
    },
    {
     "name": "stdout",
     "output_type": "stream",
     "text": [
      "              precision    recall  f1-score   support\n",
      "\n",
      "           0       0.99      0.99      0.99        80\n",
      "           1       0.97      0.96      0.97        80\n",
      "           2       0.99      0.96      0.97        80\n",
      "           3       0.95      0.90      0.92        80\n",
      "           4       0.95      0.99      0.97        80\n",
      "           5       0.93      0.97      0.95        80\n",
      "\n",
      "    accuracy                           0.96       480\n",
      "   macro avg       0.96      0.96      0.96       480\n",
      "weighted avg       0.96      0.96      0.96       480\n",
      "\n"
     ]
    },
    {
     "data": {
      "image/png": "[encoded data removed]",
      "text/plain": [
       "<Figure size 1080x576 with 2 Axes>"
      ]
     },
     "metadata": {
      "needs_background": "light"
     },
     "output_type": "display_data"
    }
   ],
   "source": [
    "best_labels, best_preds = get_preds_labels(model_best, test_processed)\n",
    "cm_proposed = confusion_matrix(best_labels, best_preds)\n",
    "print_cm(best_labels, best_preds, cm_proposed)"
   ]
  },
  {
   "cell_type": "markdown",
   "metadata": {},
   "source": [
    "----"
   ]
  },
  {
   "cell_type": "markdown",
   "metadata": {},
   "source": [
    "## 2. Proposed Model - the smallest model that gives the highest accuracy"
   ]
  },
  {
   "cell_type": "markdown",
   "metadata": {},
   "source": [
    "> In this section, the small proposed model will run for 50 epochs to check the test accuracy it gives."
   ]
  },
  {
   "cell_type": "markdown",
   "metadata": {},
   "source": [
    "### 2.1 Defining the proposed model"
   ]
  },
  {
   "cell_type": "code",
   "execution_count": 15,
   "metadata": {},
   "outputs": [
    {
     "name": "stdout",
     "output_type": "stream",
     "text": [
      "Model: \"model_2\"\n",
      "_________________________________________________________________\n",
      " Layer (type)                Output Shape              Param #   \n",
      "=================================================================\n",
      " input_3 (InputLayer)        [(None, 100, 100, 3)]     0         \n",
      "                                                                 \n",
      " conv2d_13 (Conv2D)          (None, 98, 98, 16)        448       \n",
      "                                                                 \n",
      " max_pooling2d_7 (MaxPooling  (None, 49, 49, 16)       0         \n",
      " 2D)                                                             \n",
      "                                                                 \n",
      " conv2d_14 (Conv2D)          (None, 47, 47, 32)        4640      \n",
      "                                                                 \n",
      " max_pooling2d_8 (MaxPooling  (None, 23, 23, 32)       0         \n",
      " 2D)                                                             \n",
      "                                                                 \n",
      " conv2d_15 (Conv2D)          (None, 21, 21, 32)        9248      \n",
      "                                                                 \n",
      " max_pooling2d_9 (MaxPooling  (None, 10, 10, 32)       0         \n",
      " 2D)                                                             \n",
      "                                                                 \n",
      " conv2d_16 (Conv2D)          (None, 8, 8, 32)          9248      \n",
      "                                                                 \n",
      " global_average_pooling2d_2   (None, 32)               0         \n",
      " (GlobalAveragePooling2D)                                        \n",
      "                                                                 \n",
      " dropout_2 (Dropout)         (None, 32)                0         \n",
      "                                                                 \n",
      " dense_2 (Dense)             (None, 6)                 198       \n",
      "                                                                 \n",
      "=================================================================\n",
      "Total params: 23,782\n",
      "Trainable params: 23,782\n",
      "Non-trainable params: 0\n",
      "_________________________________________________________________\n"
     ]
    }
   ],
   "source": [
    "inputs = keras.Input(shape=(100, 100, 3))\n",
    "x = inputs\n",
    "x = layers.Conv2D(16, 3, activation='relu')(x)\n",
    "x = layers.MaxPooling2D(2)(x)\n",
    "x = layers.Conv2D(32, 3, activation='relu')(x)\n",
    "x = layers.MaxPooling2D(2)(x)\n",
    "x = layers.Conv2D(32, 3, activation='relu')(x)\n",
    "x = layers.MaxPooling2D(2)(x)\n",
    "x = layers.Conv2D(32, 3, activation='relu')(x)\n",
    "x = layers.GlobalAveragePooling2D()(x)\n",
    "x = layers.Dropout(0.3)(x)\n",
    "outputs = layers.Dense(6, activation='softmax')(x)\n",
    "\n",
    "model_proposed = keras.Model(inputs, outputs)\n",
    "\n",
    "model_proposed.compile(optimizer=keras.optimizers.RMSprop(0.0009), loss='sparse_categorical_crossentropy', metrics=['accuracy'])\n",
    "\n",
    "model_proposed.summary()"
   ]
  },
  {
   "cell_type": "markdown",
   "metadata": {},
   "source": [
    "### 2.2 Running the proposed model"
   ]
  },
  {
   "cell_type": "code",
   "execution_count": 16,
   "metadata": {},
   "outputs": [
    {
     "name": "stdout",
     "output_type": "stream",
     "text": [
      "Epoch 1/50\n"
     ]
    },
    {
     "name": "stderr",
     "output_type": "stream",
     "text": [
      "2022-08-31 22:53:28.569765: I tensorflow/core/grappler/optimizers/custom_graph_optimizer_registry.cc:112] Plugin optimizer for device_type GPU is enabled.\n"
     ]
    },
    {
     "name": "stdout",
     "output_type": "stream",
     "text": [
      "118/120 [============================>.] - ETA: 0s - loss: 2.3335 - accuracy: 0.2182"
     ]
    },
    {
     "name": "stderr",
     "output_type": "stream",
     "text": [
      "2022-08-31 22:53:31.762201: I tensorflow/core/grappler/optimizers/custom_graph_optimizer_registry.cc:112] Plugin optimizer for device_type GPU is enabled.\n"
     ]
    },
    {
     "name": "stdout",
     "output_type": "stream",
     "text": [
      "120/120 [==============================] - 4s 25ms/step - loss: 2.3244 - accuracy: 0.2190 - val_loss: 1.7639 - val_accuracy: 0.2896\n",
      "Epoch 2/50\n",
      "120/120 [==============================] - 3s 24ms/step - loss: 1.6613 - accuracy: 0.3245 - val_loss: 1.4745 - val_accuracy: 0.4042\n",
      "Epoch 3/50\n",
      "120/120 [==============================] - 3s 23ms/step - loss: 1.3978 - accuracy: 0.4630 - val_loss: 1.0321 - val_accuracy: 0.6063\n",
      "Epoch 4/50\n",
      "120/120 [==============================] - 3s 23ms/step - loss: 1.2168 - accuracy: 0.5599 - val_loss: 0.8604 - val_accuracy: 0.7104\n",
      "Epoch 5/50\n",
      "120/120 [==============================] - 3s 22ms/step - loss: 1.0398 - accuracy: 0.6255 - val_loss: 0.7878 - val_accuracy: 0.7042\n",
      "Epoch 6/50\n",
      "120/120 [==============================] - 3s 22ms/step - loss: 0.8990 - accuracy: 0.6625 - val_loss: 0.7154 - val_accuracy: 0.7542\n",
      "Epoch 7/50\n",
      "120/120 [==============================] - 3s 23ms/step - loss: 0.8003 - accuracy: 0.7042 - val_loss: 0.5962 - val_accuracy: 0.7896\n",
      "Epoch 8/50\n",
      "120/120 [==============================] - 3s 23ms/step - loss: 0.7151 - accuracy: 0.7276 - val_loss: 0.5224 - val_accuracy: 0.8042\n",
      "Epoch 9/50\n",
      "120/120 [==============================] - 3s 23ms/step - loss: 0.6537 - accuracy: 0.7589 - val_loss: 0.4728 - val_accuracy: 0.8250\n",
      "Epoch 10/50\n",
      "120/120 [==============================] - 3s 23ms/step - loss: 0.5866 - accuracy: 0.7852 - val_loss: 0.4175 - val_accuracy: 0.8583\n",
      "Epoch 11/50\n",
      "120/120 [==============================] - 3s 23ms/step - loss: 0.5180 - accuracy: 0.8161 - val_loss: 0.3838 - val_accuracy: 0.8604\n",
      "Epoch 12/50\n",
      "120/120 [==============================] - 3s 23ms/step - loss: 0.4824 - accuracy: 0.8255 - val_loss: 0.4178 - val_accuracy: 0.8542\n",
      "Epoch 13/50\n",
      "120/120 [==============================] - 3s 24ms/step - loss: 0.4446 - accuracy: 0.8451 - val_loss: 0.3077 - val_accuracy: 0.8854\n",
      "Epoch 14/50\n",
      "120/120 [==============================] - 3s 23ms/step - loss: 0.4150 - accuracy: 0.8534 - val_loss: 0.3608 - val_accuracy: 0.8729\n",
      "Epoch 15/50\n",
      "120/120 [==============================] - 3s 23ms/step - loss: 0.3629 - accuracy: 0.8716 - val_loss: 0.3589 - val_accuracy: 0.8750\n",
      "Epoch 16/50\n",
      "120/120 [==============================] - 3s 24ms/step - loss: 0.3619 - accuracy: 0.8799 - val_loss: 0.3339 - val_accuracy: 0.8854\n",
      "Epoch 17/50\n",
      "120/120 [==============================] - 3s 23ms/step - loss: 0.3301 - accuracy: 0.8852 - val_loss: 0.3387 - val_accuracy: 0.8688\n",
      "Epoch 18/50\n",
      "120/120 [==============================] - 3s 24ms/step - loss: 0.2950 - accuracy: 0.8958 - val_loss: 0.3030 - val_accuracy: 0.8833\n",
      "Epoch 19/50\n",
      "120/120 [==============================] - 3s 24ms/step - loss: 0.2792 - accuracy: 0.9083 - val_loss: 0.3617 - val_accuracy: 0.8688\n",
      "Epoch 20/50\n",
      "120/120 [==============================] - 3s 24ms/step - loss: 0.2558 - accuracy: 0.9164 - val_loss: 0.4077 - val_accuracy: 0.8479\n",
      "Epoch 21/50\n",
      "120/120 [==============================] - 3s 24ms/step - loss: 0.2405 - accuracy: 0.9185 - val_loss: 0.4227 - val_accuracy: 0.8688\n",
      "Epoch 22/50\n",
      "120/120 [==============================] - 3s 24ms/step - loss: 0.2182 - accuracy: 0.9263 - val_loss: 0.5789 - val_accuracy: 0.7813\n",
      "Epoch 23/50\n",
      "120/120 [==============================] - 3s 24ms/step - loss: 0.2183 - accuracy: 0.9297 - val_loss: 0.2554 - val_accuracy: 0.8958\n",
      "Epoch 24/50\n",
      "120/120 [==============================] - 3s 24ms/step - loss: 0.2001 - accuracy: 0.9354 - val_loss: 0.3147 - val_accuracy: 0.8875\n",
      "Epoch 25/50\n",
      "120/120 [==============================] - 3s 24ms/step - loss: 0.1793 - accuracy: 0.9378 - val_loss: 0.4747 - val_accuracy: 0.8479\n",
      "Epoch 26/50\n",
      "120/120 [==============================] - 3s 24ms/step - loss: 0.1651 - accuracy: 0.9495 - val_loss: 0.3019 - val_accuracy: 0.9063\n",
      "Epoch 27/50\n",
      "120/120 [==============================] - 3s 25ms/step - loss: 0.1897 - accuracy: 0.9466 - val_loss: 0.3847 - val_accuracy: 0.8604\n",
      "Epoch 28/50\n",
      "120/120 [==============================] - 3s 25ms/step - loss: 0.1748 - accuracy: 0.9466 - val_loss: 0.3466 - val_accuracy: 0.9021\n",
      "Epoch 29/50\n",
      "120/120 [==============================] - 3s 25ms/step - loss: 0.1818 - accuracy: 0.9479 - val_loss: 0.3354 - val_accuracy: 0.9000\n",
      "Epoch 30/50\n",
      "120/120 [==============================] - 3s 25ms/step - loss: 0.1465 - accuracy: 0.9526 - val_loss: 0.3049 - val_accuracy: 0.9000\n",
      "Epoch 31/50\n",
      "120/120 [==============================] - 3s 25ms/step - loss: 0.1556 - accuracy: 0.9529 - val_loss: 0.3013 - val_accuracy: 0.9021\n",
      "Epoch 32/50\n",
      "120/120 [==============================] - 3s 26ms/step - loss: 0.1410 - accuracy: 0.9581 - val_loss: 0.2587 - val_accuracy: 0.9167\n",
      "Epoch 33/50\n",
      "120/120 [==============================] - 3s 25ms/step - loss: 0.1208 - accuracy: 0.9612 - val_loss: 0.3198 - val_accuracy: 0.9146\n",
      "Epoch 34/50\n",
      "120/120 [==============================] - 3s 25ms/step - loss: 0.1437 - accuracy: 0.9560 - val_loss: 0.3464 - val_accuracy: 0.8979\n",
      "Epoch 35/50\n",
      "120/120 [==============================] - 3s 26ms/step - loss: 0.1320 - accuracy: 0.9633 - val_loss: 0.2391 - val_accuracy: 0.9313\n",
      "Epoch 36/50\n",
      "120/120 [==============================] - 3s 25ms/step - loss: 0.1513 - accuracy: 0.9617 - val_loss: 0.2500 - val_accuracy: 0.9229\n",
      "Epoch 37/50\n",
      "120/120 [==============================] - 3s 27ms/step - loss: 0.1219 - accuracy: 0.9677 - val_loss: 0.4989 - val_accuracy: 0.8750\n",
      "Epoch 38/50\n",
      "120/120 [==============================] - 3s 25ms/step - loss: 0.1179 - accuracy: 0.9703 - val_loss: 0.2732 - val_accuracy: 0.9208\n",
      "Epoch 39/50\n",
      "120/120 [==============================] - 3s 26ms/step - loss: 0.1169 - accuracy: 0.9680 - val_loss: 0.2349 - val_accuracy: 0.9313\n",
      "Epoch 40/50\n",
      "120/120 [==============================] - 3s 27ms/step - loss: 0.1031 - accuracy: 0.9690 - val_loss: 0.2026 - val_accuracy: 0.9333\n",
      "Epoch 41/50\n",
      "120/120 [==============================] - 3s 26ms/step - loss: 0.1066 - accuracy: 0.9693 - val_loss: 0.3814 - val_accuracy: 0.9000\n",
      "Epoch 42/50\n",
      "120/120 [==============================] - 3s 26ms/step - loss: 0.1120 - accuracy: 0.9716 - val_loss: 0.3507 - val_accuracy: 0.9146\n",
      "Epoch 43/50\n",
      "120/120 [==============================] - 3s 26ms/step - loss: 0.1227 - accuracy: 0.9711 - val_loss: 0.2876 - val_accuracy: 0.9229\n",
      "Epoch 44/50\n",
      "120/120 [==============================] - 3s 26ms/step - loss: 0.0881 - accuracy: 0.9750 - val_loss: 0.4301 - val_accuracy: 0.8833\n",
      "Epoch 45/50\n",
      "120/120 [==============================] - 3s 26ms/step - loss: 0.1302 - accuracy: 0.9669 - val_loss: 0.3271 - val_accuracy: 0.9125\n",
      "Epoch 46/50\n",
      "120/120 [==============================] - 3s 25ms/step - loss: 0.1209 - accuracy: 0.9737 - val_loss: 0.4770 - val_accuracy: 0.8938\n",
      "Epoch 47/50\n",
      "120/120 [==============================] - 3s 25ms/step - loss: 0.1276 - accuracy: 0.9685 - val_loss: 0.2880 - val_accuracy: 0.9313\n",
      "Epoch 48/50\n",
      "120/120 [==============================] - 3s 26ms/step - loss: 0.1061 - accuracy: 0.9768 - val_loss: 0.8490 - val_accuracy: 0.8563\n",
      "Epoch 49/50\n",
      "120/120 [==============================] - 3s 26ms/step - loss: 0.1110 - accuracy: 0.9734 - val_loss: 0.1980 - val_accuracy: 0.9396\n",
      "Epoch 50/50\n",
      "120/120 [==============================] - 3s 25ms/step - loss: 0.0751 - accuracy: 0.9776 - val_loss: 0.2379 - val_accuracy: 0.9354\n"
     ]
    }
   ],
   "source": [
    "callbacks_list = [\n",
    "    keras.callbacks.EarlyStopping(\n",
    "        monitor=\"val_accuracy\",\n",
    "        patience=10\n",
    "    ),    \n",
    "    keras.callbacks.ModelCheckpoint(\n",
    "        filepath=\"../models/4_proposed_model.h5\",\n",
    "        monitor=\"val_accuracy\",\n",
    "        save_best_only=True\n",
    "    )\n",
    "]\n",
    "\n",
    "history_proposed = model_proposed.fit(\n",
    "  train,\n",
    "  epochs=50,\n",
    "  callbacks=callbacks_list,\n",
    "  validation_data=val\n",
    ")"
   ]
  },
  {
   "cell_type": "code",
   "execution_count": 17,
   "metadata": {},
   "outputs": [
    {
     "data": {
      "image/png": "[encoded data removed]",
      "text/plain": [
       "<Figure size 432x288 with 1 Axes>"
      ]
     },
     "metadata": {
      "needs_background": "light"
     },
     "output_type": "display_data"
    },
    {
     "data": {
      "image/png": "[encoded data removed]",
      "text/plain": [
       "<Figure size 432x288 with 1 Axes>"
      ]
     },
     "metadata": {
      "needs_background": "light"
     },
     "output_type": "display_data"
    }
   ],
   "source": [
    "plt.rcParams[\"figure.figsize\"] = (6,4)\n",
    "plot_loss(history_proposed)\n",
    "plot_acc(history_proposed)"
   ]
  },
  {
   "cell_type": "markdown",
   "metadata": {},
   "source": [
    "### 2.3 Evaluating the test accuracy of the proposed model"
   ]
  },
  {
   "cell_type": "code",
   "execution_count": 18,
   "metadata": {},
   "outputs": [
    {
     "name": "stdout",
     "output_type": "stream",
     "text": [
      " 5/15 [=========>....................] - ETA: 0s - loss: 0.1673 - accuracy: 0.9375"
     ]
    },
    {
     "name": "stderr",
     "output_type": "stream",
     "text": [
      "2022-08-31 22:56:03.826264: I tensorflow/core/grappler/optimizers/custom_graph_optimizer_registry.cc:112] Plugin optimizer for device_type GPU is enabled.\n"
     ]
    },
    {
     "name": "stdout",
     "output_type": "stream",
     "text": [
      "15/15 [==============================] - 0s 13ms/step - loss: 0.1993 - accuracy: 0.9396\n"
     ]
    },
    {
     "data": {
      "text/plain": [
       "[0.19925062358379364, 0.9395833611488342]"
      ]
     },
     "execution_count": 18,
     "metadata": {},
     "output_type": "execute_result"
    }
   ],
   "source": [
    "load_model_proposed = keras.models.load_model(\"../models/4_proposed_model.h5\")\n",
    "load_model_proposed.evaluate(test)"
   ]
  },
  {
   "cell_type": "markdown",
   "metadata": {},
   "source": [
    "---\n",
    "\n",
    "*Test Accuracy*: **93.96%**\n",
    "\n",
    "---"
   ]
  },
  {
   "cell_type": "markdown",
   "metadata": {},
   "source": [
    "### 2.4 Confusion matrix and class-wise precious and recall for proposed model"
   ]
  },
  {
   "cell_type": "code",
   "execution_count": 19,
   "metadata": {},
   "outputs": [
    {
     "name": "stderr",
     "output_type": "stream",
     "text": [
      "2022-08-31 22:56:10.908193: I tensorflow/core/grappler/optimizers/custom_graph_optimizer_registry.cc:112] Plugin optimizer for device_type GPU is enabled.\n"
     ]
    },
    {
     "name": "stdout",
     "output_type": "stream",
     "text": [
      "              precision    recall  f1-score   support\n",
      "\n",
      "           0       1.00      0.99      0.99        80\n",
      "           1       0.88      1.00      0.94        80\n",
      "           2       0.95      0.97      0.96        80\n",
      "           3       0.90      0.90      0.90        80\n",
      "           4       0.96      0.86      0.91        80\n",
      "           5       0.93      0.89      0.91        80\n",
      "\n",
      "    accuracy                           0.94       480\n",
      "   macro avg       0.94      0.94      0.94       480\n",
      "weighted avg       0.94      0.94      0.94       480\n",
      "\n"
     ]
    },
    {
     "data": {
      "image/png": "[encoded data removed]",
      "text/plain": [
       "<Figure size 1080x576 with 2 Axes>"
      ]
     },
     "metadata": {
      "needs_background": "light"
     },
     "output_type": "display_data"
    }
   ],
   "source": [
    "proposed_labels, proposed_preds = get_preds_labels(model_proposed, test)\n",
    "cm_proposed = confusion_matrix(proposed_labels, proposed_preds)\n",
    "print_cm(proposed_labels, proposed_preds, cm_proposed)"
   ]
  }
 ],
 "metadata": {
  "kernelspec": {
   "display_name": "Python 3.9.7 ('base')",
   "language": "python",
   "name": "python3"
  },
  "language_info": {
   "codemirror_mode": {
    "name": "ipython",
    "version": 3
   },
   "file_extension": ".py",
   "mimetype": "text/x-python",
   "name": "python",
   "nbconvert_exporter": "python",
   "pygments_lexer": "ipython3",
   "version": "3.9.7"
  },
  "orig_nbformat": 4,
  "vscode": {
   "interpreter": {
    "hash": "c6e4e9f98eb68ad3b7c296f83d20e6de614cb42e90992a65aa266555a3137d0d"
   }
  }
 },
 "nbformat": 4,
 "nbformat_minor": 2
}
