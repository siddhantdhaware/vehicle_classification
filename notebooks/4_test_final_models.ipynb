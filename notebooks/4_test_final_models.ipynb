{
 "cells": [
  {
   "cell_type": "markdown",
   "metadata": {},
   "source": [
    "# Test two final models (Best and Proposed)\n",
    "\n",
    "---"
   ]
  },
  {
   "cell_type": "markdown",
   "metadata": {},
   "source": [
    "### Importing the libraries"
   ]
  },
  {
   "cell_type": "code",
   "execution_count": 42,
   "metadata": {},
   "outputs": [],
   "source": [
    "import tensorflow as tf\n",
    "from tensorflow.keras import layers, utils\n",
    "from tensorflow import keras\n",
    "from matplotlib import pyplot as plt\n",
    "import numpy as np\n",
    "from sklearn.metrics import classification_report, confusion_matrix, ConfusionMatrixDisplay\n",
    "\n",
    "\n",
    "import sys\n",
    "sys.path.insert(0, '../helpers/')\n",
    "from plot_graphs import plot_loss, plot_acc"
   ]
  },
  {
   "cell_type": "markdown",
   "metadata": {},
   "source": [
    "### Setting batch and image size, and importing the datasets "
   ]
  },
  {
   "cell_type": "code",
   "execution_count": 30,
   "metadata": {},
   "outputs": [
    {
     "name": "stdout",
     "output_type": "stream",
     "text": [
      "Found 3840 files belonging to 6 classes.\n",
      "Found 480 files belonging to 6 classes.\n",
      "Found 480 files belonging to 6 classes.\n"
     ]
    }
   ],
   "source": [
    "IMAGE_SIZE = 100\n",
    "BATCH_SIZE = 32\n",
    "\n",
    "train = utils.image_dataset_from_directory(\"../datasets/data/split/Zenodo/train\", image_size=(IMAGE_SIZE, IMAGE_SIZE), batch_size=BATCH_SIZE)\n",
    "val = utils.image_dataset_from_directory(\"../datasets/data/split/Zenodo/val\", image_size=(IMAGE_SIZE, IMAGE_SIZE), batch_size=BATCH_SIZE)\n",
    "test = utils.image_dataset_from_directory(\"../datasets/data/split/Zenodo/test\", image_size=(IMAGE_SIZE, IMAGE_SIZE), batch_size=BATCH_SIZE)\n",
    "\n",
    "train = train.prefetch(buffer_size=tf.data.AUTOTUNE).cache()\n",
    "val = val.prefetch(buffer_size=tf.data.AUTOTUNE).cache()\n",
    "test = test.prefetch(buffer_size=tf.data.AUTOTUNE).cache()"
   ]
  },
  {
   "cell_type": "markdown",
   "metadata": {},
   "source": [
    "### Processing images"
   ]
  },
  {
   "cell_type": "code",
   "execution_count": 31,
   "metadata": {},
   "outputs": [],
   "source": [
    "def process_image(x):\n",
    "  x = tf.image.adjust_brightness(x, 0.8)\n",
    "  x = tf.image.adjust_contrast(x, 3)\n",
    "  x = tf.image.adjust_saturation(x, 2)\n",
    "  return x\n",
    "\n",
    "def process_ds(dataset):\n",
    "  return dataset.map(lambda x, y: (process_image(x), y)).prefetch(tf.data.AUTOTUNE).cache()\n",
    "  \n",
    "train_processed = process_ds(train)\n",
    "val_processed = process_ds(val)\n",
    "test_processed = process_ds(test)"
   ]
  },
  {
   "cell_type": "markdown",
   "metadata": {},
   "source": [
    "### Function to generate confusion matrices and get class-wise precision and recall"
   ]
  },
  {
   "cell_type": "code",
   "execution_count": 48,
   "metadata": {},
   "outputs": [],
   "source": [
    "class_list = ['bike', 'car', 'juggernaut', 'minibus', 'pickup', 'truck']\n",
    "\n",
    "# Get the labels(y_true) and predictions(y_pred) from the test set\n",
    "def get_preds_labels(model,test):\n",
    "  preds = np.argmax(model.predict(test), axis=1)\n",
    "  labels = []\n",
    "  for image, label in test.unbatch():\n",
    "    labels.append(label)\n",
    "  labels = np.array(labels)\n",
    "\n",
    "  return labels, preds\n",
    "\n",
    "# print the classification report and confusion matrix\n",
    "def print_cm(labels, preds, cm):\n",
    "  print(classification_report(labels, preds))\n",
    "\n",
    "  disp = ConfusionMatrixDisplay(confusion_matrix=cm, display_labels=class_list)\n",
    "\n",
    "  plt.rcParams[\"figure.figsize\"] = (15,8)\n",
    "\n",
    "  disp.plot(cmap=plt.cm.Blues)\n",
    "  plt.show()\n"
   ]
  },
  {
   "cell_type": "markdown",
   "metadata": {},
   "source": [
    "## 1. Best Model - highest accuracy"
   ]
  },
  {
   "cell_type": "markdown",
   "metadata": {},
   "source": [
    "> In this section, the best model which will now be trained for 50 epochs with slightly tweaked dropout and learning rates to maximize test accuracy."
   ]
  },
  {
   "cell_type": "markdown",
   "metadata": {},
   "source": [
    "### 1.1 Defining the best model"
   ]
  },
  {
   "cell_type": "code",
   "execution_count": 58,
   "metadata": {},
   "outputs": [
    {
     "name": "stdout",
     "output_type": "stream",
     "text": [
      "Model: \"model_5\"\n",
      "_________________________________________________________________\n",
      " Layer (type)                Output Shape              Param #   \n",
      "=================================================================\n",
      " input_6 (InputLayer)        [(None, 100, 100, 3)]     0         \n",
      "                                                                 \n",
      " rescaling_3 (Rescaling)     (None, 100, 100, 3)       0         \n",
      "                                                                 \n",
      " conv2d_35 (Conv2D)          (None, 98, 98, 32)        896       \n",
      "                                                                 \n",
      " conv2d_36 (Conv2D)          (None, 96, 96, 32)        9248      \n",
      "                                                                 \n",
      " conv2d_37 (Conv2D)          (None, 94, 94, 32)        9248      \n",
      "                                                                 \n",
      " max_pooling2d_15 (MaxPoolin  (None, 47, 47, 32)       0         \n",
      " g2D)                                                            \n",
      "                                                                 \n",
      " conv2d_38 (Conv2D)          (None, 45, 45, 64)        18496     \n",
      "                                                                 \n",
      " conv2d_39 (Conv2D)          (None, 43, 43, 64)        36928     \n",
      "                                                                 \n",
      " max_pooling2d_16 (MaxPoolin  (None, 21, 21, 64)       0         \n",
      " g2D)                                                            \n",
      "                                                                 \n",
      " conv2d_40 (Conv2D)          (None, 19, 19, 128)       73856     \n",
      "                                                                 \n",
      " conv2d_41 (Conv2D)          (None, 17, 17, 128)       147584    \n",
      "                                                                 \n",
      " max_pooling2d_17 (MaxPoolin  (None, 8, 8, 128)        0         \n",
      " g2D)                                                            \n",
      "                                                                 \n",
      " conv2d_42 (Conv2D)          (None, 6, 6, 256)         295168    \n",
      "                                                                 \n",
      " conv2d_43 (Conv2D)          (None, 4, 4, 256)         590080    \n",
      "                                                                 \n",
      " global_average_pooling2d_5   (None, 256)              0         \n",
      " (GlobalAveragePooling2D)                                        \n",
      "                                                                 \n",
      " dropout_5 (Dropout)         (None, 256)               0         \n",
      "                                                                 \n",
      " dense_5 (Dense)             (None, 6)                 1542      \n",
      "                                                                 \n",
      "=================================================================\n",
      "Total params: 1,183,046\n",
      "Trainable params: 1,183,046\n",
      "Non-trainable params: 0\n",
      "_________________________________________________________________\n"
     ]
    }
   ],
   "source": [
    "inputs = keras.Input(shape=(100, 100, 3))\n",
    "x = inputs\n",
    "x = layers.Rescaling(1./255)(x)\n",
    "x = layers.Conv2D(32, 3, activation='relu')(x)\n",
    "x = layers.Conv2D(32, 3, activation='relu')(x)\n",
    "x = layers.Conv2D(32, 3, activation='relu')(x)\n",
    "x = layers.MaxPooling2D(2)(x)\n",
    "x = layers.Conv2D(64, 3, activation='relu')(x)\n",
    "x = layers.Conv2D(64, 3, activation='relu')(x)\n",
    "x = layers.MaxPooling2D(2)(x)\n",
    "x = layers.Conv2D(128, 3, activation='relu')(x)\n",
    "x = layers.Conv2D(128, 3, activation='relu')(x)\n",
    "x = layers.MaxPooling2D(2)(x)\n",
    "x = layers.Conv2D(256, 3, activation='relu')(x)\n",
    "x = layers.Conv2D(256, 3, activation='relu')(x)\n",
    "x = layers.GlobalAveragePooling2D()(x)\n",
    "x = layers.Dropout(0.35)(x)\n",
    "outputs = layers.Dense(6, activation='softmax')(x)\n",
    "\n",
    "model_best = keras.Model(inputs, outputs)\n",
    "\n",
    "model_best.compile(optimizer=keras.optimizers.RMSprop(0.00095), loss='sparse_categorical_crossentropy', metrics=['accuracy'])\n",
    "\n",
    "model_best.summary()"
   ]
  },
  {
   "cell_type": "markdown",
   "metadata": {},
   "source": [
    "### 1.2 Running the best model"
   ]
  },
  {
   "cell_type": "code",
   "execution_count": 59,
   "metadata": {},
   "outputs": [
    {
     "name": "stdout",
     "output_type": "stream",
     "text": [
      "Epoch 1/50\n"
     ]
    },
    {
     "name": "stderr",
     "output_type": "stream",
     "text": [
      "2022-08-31 04:56:18.199287: I tensorflow/core/grappler/optimizers/custom_graph_optimizer_registry.cc:112] Plugin optimizer for device_type GPU is enabled.\n"
     ]
    },
    {
     "name": "stdout",
     "output_type": "stream",
     "text": [
      "120/120 [==============================] - ETA: 0s - loss: 1.5357 - accuracy: 0.3576"
     ]
    },
    {
     "name": "stderr",
     "output_type": "stream",
     "text": [
      "2022-08-31 04:56:29.869178: I tensorflow/core/grappler/optimizers/custom_graph_optimizer_registry.cc:112] Plugin optimizer for device_type GPU is enabled.\n"
     ]
    },
    {
     "name": "stdout",
     "output_type": "stream",
     "text": [
      "120/120 [==============================] - 13s 95ms/step - loss: 1.5357 - accuracy: 0.3576 - val_loss: 0.9449 - val_accuracy: 0.6583\n",
      "Epoch 2/50\n",
      "120/120 [==============================] - 11s 94ms/step - loss: 0.8530 - accuracy: 0.6828 - val_loss: 0.6529 - val_accuracy: 0.7833\n",
      "Epoch 3/50\n",
      "120/120 [==============================] - 11s 93ms/step - loss: 0.5615 - accuracy: 0.7995 - val_loss: 0.4636 - val_accuracy: 0.8250\n",
      "Epoch 4/50\n",
      "120/120 [==============================] - 11s 93ms/step - loss: 0.3810 - accuracy: 0.8766 - val_loss: 0.3289 - val_accuracy: 0.8854\n",
      "Epoch 5/50\n",
      "120/120 [==============================] - 12s 96ms/step - loss: 0.2674 - accuracy: 0.9141 - val_loss: 0.2728 - val_accuracy: 0.9104\n",
      "Epoch 6/50\n",
      "120/120 [==============================] - 12s 97ms/step - loss: 0.1993 - accuracy: 0.9354 - val_loss: 0.2363 - val_accuracy: 0.9292\n",
      "Epoch 7/50\n",
      "120/120 [==============================] - 12s 99ms/step - loss: 0.1808 - accuracy: 0.9495 - val_loss: 0.2378 - val_accuracy: 0.9271\n",
      "Epoch 8/50\n",
      "120/120 [==============================] - 12s 101ms/step - loss: 0.1233 - accuracy: 0.9622 - val_loss: 0.2632 - val_accuracy: 0.9375\n",
      "Epoch 9/50\n",
      "120/120 [==============================] - 12s 104ms/step - loss: 0.1043 - accuracy: 0.9667 - val_loss: 0.2649 - val_accuracy: 0.9396\n",
      "Epoch 10/50\n",
      "120/120 [==============================] - 13s 104ms/step - loss: 0.1027 - accuracy: 0.9747 - val_loss: 0.1945 - val_accuracy: 0.9458\n",
      "Epoch 11/50\n",
      "120/120 [==============================] - 12s 101ms/step - loss: 0.0831 - accuracy: 0.9781 - val_loss: 0.2616 - val_accuracy: 0.9583\n",
      "Epoch 12/50\n",
      "120/120 [==============================] - 12s 101ms/step - loss: 0.0637 - accuracy: 0.9852 - val_loss: 0.3189 - val_accuracy: 0.9333\n",
      "Epoch 13/50\n",
      "120/120 [==============================] - 12s 103ms/step - loss: 0.1111 - accuracy: 0.9779 - val_loss: 0.4653 - val_accuracy: 0.9146\n",
      "Epoch 14/50\n",
      "120/120 [==============================] - 12s 102ms/step - loss: 0.0618 - accuracy: 0.9849 - val_loss: 0.2880 - val_accuracy: 0.9458\n",
      "Epoch 15/50\n",
      "120/120 [==============================] - 12s 101ms/step - loss: 0.0678 - accuracy: 0.9862 - val_loss: 0.4026 - val_accuracy: 0.9375\n",
      "Epoch 16/50\n",
      "120/120 [==============================] - 13s 105ms/step - loss: 0.0649 - accuracy: 0.9859 - val_loss: 0.4033 - val_accuracy: 0.9146\n",
      "Epoch 17/50\n",
      "120/120 [==============================] - 13s 106ms/step - loss: 0.0913 - accuracy: 0.9846 - val_loss: 0.2027 - val_accuracy: 0.9583\n",
      "Epoch 18/50\n",
      "120/120 [==============================] - 12s 104ms/step - loss: 0.0523 - accuracy: 0.9872 - val_loss: 0.2459 - val_accuracy: 0.9438\n",
      "Epoch 19/50\n",
      "120/120 [==============================] - 12s 104ms/step - loss: 0.0589 - accuracy: 0.9865 - val_loss: 0.4264 - val_accuracy: 0.9479\n",
      "Epoch 20/50\n",
      "120/120 [==============================] - 12s 104ms/step - loss: 0.0585 - accuracy: 0.9875 - val_loss: 0.2522 - val_accuracy: 0.9563\n",
      "Epoch 21/50\n",
      "120/120 [==============================] - 12s 104ms/step - loss: 0.0708 - accuracy: 0.9898 - val_loss: 0.4579 - val_accuracy: 0.9396\n",
      "Epoch 22/50\n",
      "120/120 [==============================] - 13s 109ms/step - loss: 0.0677 - accuracy: 0.9878 - val_loss: 0.4342 - val_accuracy: 0.9208\n",
      "Epoch 23/50\n",
      "120/120 [==============================] - 13s 106ms/step - loss: 0.0594 - accuracy: 0.9906 - val_loss: 0.3647 - val_accuracy: 0.9521\n",
      "Epoch 24/50\n",
      "120/120 [==============================] - 13s 104ms/step - loss: 0.0783 - accuracy: 0.9878 - val_loss: 0.3782 - val_accuracy: 0.9563\n",
      "Epoch 25/50\n",
      "120/120 [==============================] - 13s 106ms/step - loss: 0.0409 - accuracy: 0.9898 - val_loss: 0.9795 - val_accuracy: 0.9229\n",
      "Epoch 26/50\n",
      "120/120 [==============================] - 13s 107ms/step - loss: 0.0380 - accuracy: 0.9943 - val_loss: 0.3017 - val_accuracy: 0.9479\n",
      "Epoch 27/50\n",
      "120/120 [==============================] - 13s 105ms/step - loss: 0.0611 - accuracy: 0.9906 - val_loss: 0.5008 - val_accuracy: 0.9521\n",
      "Epoch 28/50\n",
      "120/120 [==============================] - 13s 105ms/step - loss: 0.0510 - accuracy: 0.9930 - val_loss: 0.8109 - val_accuracy: 0.9521\n",
      "Epoch 29/50\n",
      "120/120 [==============================] - 13s 106ms/step - loss: 0.0641 - accuracy: 0.9896 - val_loss: 0.2453 - val_accuracy: 0.9667\n",
      "Epoch 30/50\n",
      "120/120 [==============================] - 12s 104ms/step - loss: 0.0630 - accuracy: 0.9911 - val_loss: 0.3100 - val_accuracy: 0.9479\n",
      "Epoch 31/50\n",
      "120/120 [==============================] - 12s 104ms/step - loss: 0.0452 - accuracy: 0.9888 - val_loss: 0.9552 - val_accuracy: 0.9313\n",
      "Epoch 32/50\n",
      "120/120 [==============================] - 13s 105ms/step - loss: 0.0650 - accuracy: 0.9909 - val_loss: 0.8615 - val_accuracy: 0.9479\n",
      "Epoch 33/50\n",
      "120/120 [==============================] - 13s 105ms/step - loss: 0.0541 - accuracy: 0.9909 - val_loss: 1.0071 - val_accuracy: 0.9333\n",
      "Epoch 34/50\n",
      "120/120 [==============================] - 13s 105ms/step - loss: 0.0599 - accuracy: 0.9935 - val_loss: 0.7014 - val_accuracy: 0.9479\n",
      "Epoch 35/50\n",
      "120/120 [==============================] - 12s 104ms/step - loss: 0.0639 - accuracy: 0.9951 - val_loss: 0.5978 - val_accuracy: 0.9458\n",
      "Epoch 36/50\n",
      "120/120 [==============================] - 13s 105ms/step - loss: 0.0571 - accuracy: 0.9901 - val_loss: 0.5156 - val_accuracy: 0.9521\n",
      "Epoch 37/50\n",
      "120/120 [==============================] - 13s 105ms/step - loss: 0.0558 - accuracy: 0.9924 - val_loss: 1.6373 - val_accuracy: 0.8917\n",
      "Epoch 38/50\n",
      "120/120 [==============================] - 13s 105ms/step - loss: 0.0391 - accuracy: 0.9966 - val_loss: 0.4793 - val_accuracy: 0.9625\n",
      "Epoch 39/50\n",
      "120/120 [==============================] - 13s 105ms/step - loss: 0.0498 - accuracy: 0.9940 - val_loss: 0.7407 - val_accuracy: 0.9375\n",
      "Epoch 40/50\n",
      "120/120 [==============================] - 12s 104ms/step - loss: 0.0544 - accuracy: 0.9945 - val_loss: 0.8261 - val_accuracy: 0.9292\n",
      "Epoch 41/50\n",
      "120/120 [==============================] - 13s 105ms/step - loss: 0.0358 - accuracy: 0.9927 - val_loss: 0.6682 - val_accuracy: 0.9563\n",
      "Epoch 42/50\n",
      "120/120 [==============================] - 13s 105ms/step - loss: 0.0883 - accuracy: 0.9885 - val_loss: 0.7333 - val_accuracy: 0.9479\n",
      "Epoch 43/50\n",
      "120/120 [==============================] - 13s 104ms/step - loss: 0.0592 - accuracy: 0.9927 - val_loss: 1.1659 - val_accuracy: 0.9375\n",
      "Epoch 44/50\n",
      "120/120 [==============================] - 13s 104ms/step - loss: 0.0063 - accuracy: 0.9990 - val_loss: 1.1396 - val_accuracy: 0.9417\n",
      "Epoch 45/50\n",
      "120/120 [==============================] - 13s 105ms/step - loss: 0.0901 - accuracy: 0.9917 - val_loss: 0.8347 - val_accuracy: 0.9521\n",
      "Epoch 46/50\n",
      "120/120 [==============================] - 13s 105ms/step - loss: 0.0513 - accuracy: 0.9948 - val_loss: 0.7598 - val_accuracy: 0.9625\n",
      "Epoch 47/50\n",
      "120/120 [==============================] - 13s 104ms/step - loss: 0.0751 - accuracy: 0.9927 - val_loss: 0.6981 - val_accuracy: 0.9563\n",
      "Epoch 48/50\n",
      "120/120 [==============================] - 13s 105ms/step - loss: 0.0254 - accuracy: 0.9966 - val_loss: 1.5444 - val_accuracy: 0.9333\n",
      "Epoch 49/50\n",
      "120/120 [==============================] - 13s 106ms/step - loss: 0.0605 - accuracy: 0.9935 - val_loss: 1.0427 - val_accuracy: 0.9604\n",
      "Epoch 50/50\n",
      "120/120 [==============================] - 13s 106ms/step - loss: 0.0744 - accuracy: 0.9911 - val_loss: 1.9032 - val_accuracy: 0.9500\n"
     ]
    }
   ],
   "source": [
    "callbacks_list = [\n",
    "    keras.callbacks.ModelCheckpoint(\n",
    "        filepath=\"../models/4_best.h5\",\n",
    "        monitor=\"val_accuracy\",\n",
    "        save_best_only=True\n",
    "    )\n",
    "]\n",
    "\n",
    "history_best = model_best.fit(\n",
    "  train_processed,\n",
    "  epochs=50,\n",
    "  callbacks=callbacks_list,\n",
    "  validation_data=val_processed\n",
    ")"
   ]
  },
  {
   "cell_type": "code",
   "execution_count": 67,
   "metadata": {},
   "outputs": [
    {
     "data": {
      "image/png": "[encoded data removed]",
      "text/plain": [
       "<Figure size 432x288 with 1 Axes>"
      ]
     },
     "metadata": {
      "needs_background": "light"
     },
     "output_type": "display_data"
    },
    {
     "data": {
      "image/png": "[encoded data removed]",
      "text/plain": [
       "<Figure size 432x288 with 1 Axes>"
      ]
     },
     "metadata": {
      "needs_background": "light"
     },
     "output_type": "display_data"
    }
   ],
   "source": [
    "plt.rcParams[\"figure.figsize\"] = (6,4)\n",
    "plot_loss(history_best)\n",
    "plot_acc(history_best)"
   ]
  },
  {
   "cell_type": "markdown",
   "metadata": {},
   "source": [
    "### 1.3 Evaluating test accuracy of the best model"
   ]
  },
  {
   "cell_type": "code",
   "execution_count": 61,
   "metadata": {},
   "outputs": [
    {
     "name": "stdout",
     "output_type": "stream",
     "text": [
      " 1/15 [=>............................] - ETA: 3s - loss: 0.1038 - accuracy: 0.9688"
     ]
    },
    {
     "name": "stderr",
     "output_type": "stream",
     "text": [
      "2022-08-31 05:08:19.017520: I tensorflow/core/grappler/optimizers/custom_graph_optimizer_registry.cc:112] Plugin optimizer for device_type GPU is enabled.\n"
     ]
    },
    {
     "name": "stdout",
     "output_type": "stream",
     "text": [
      "15/15 [==============================] - 1s 31ms/step - loss: 0.2697 - accuracy: 0.9583\n"
     ]
    },
    {
     "data": {
      "text/plain": [
       "[0.2697398364543915, 0.9583333730697632]"
      ]
     },
     "execution_count": 61,
     "metadata": {},
     "output_type": "execute_result"
    }
   ],
   "source": [
    "load_model_best = keras.models.load_model(\"../models/4_best.h5\")\n",
    "load_model_best.evaluate(test_processed)"
   ]
  },
  {
   "cell_type": "markdown",
   "metadata": {},
   "source": [
    "---\n",
    "\n",
    "*Test Accuracy*: **%**\n",
    "\n",
    "---"
   ]
  },
  {
   "cell_type": "markdown",
   "metadata": {},
   "source": [
    "### 1.4 Confusion matrix and class-wise precious and recall for proposed model"
   ]
  },
  {
   "cell_type": "code",
   "execution_count": 62,
   "metadata": {},
   "outputs": [
    {
     "name": "stderr",
     "output_type": "stream",
     "text": [
      "2022-08-31 05:14:21.023709: I tensorflow/core/grappler/optimizers/custom_graph_optimizer_registry.cc:112] Plugin optimizer for device_type GPU is enabled.\n"
     ]
    },
    {
     "name": "stdout",
     "output_type": "stream",
     "text": [
      "              precision    recall  f1-score   support\n",
      "\n",
      "           0       0.95      1.00      0.98        80\n",
      "           1       0.97      0.86      0.91        80\n",
      "           2       0.94      1.00      0.97        80\n",
      "           3       0.95      0.90      0.92        80\n",
      "           4       0.91      0.99      0.95        80\n",
      "           5       0.96      0.93      0.94        80\n",
      "\n",
      "    accuracy                           0.95       480\n",
      "   macro avg       0.95      0.95      0.95       480\n",
      "weighted avg       0.95      0.95      0.95       480\n",
      "\n"
     ]
    },
    {
     "data": {
      "image/png": "[encoded data removed]",
      "text/plain": [
       "<Figure size 1080x576 with 2 Axes>"
      ]
     },
     "metadata": {
      "needs_background": "light"
     },
     "output_type": "display_data"
    }
   ],
   "source": [
    "best_labels, best_preds = get_preds_labels(model_best, test_processed)\n",
    "cm_proposed = confusion_matrix(best_labels, best_preds)\n",
    "print_cm(best_labels, best_preds, cm_proposed)"
   ]
  },
  {
   "cell_type": "markdown",
   "metadata": {},
   "source": [
    "----"
   ]
  },
  {
   "cell_type": "markdown",
   "metadata": {},
   "source": [
    "## 2. Proposed Model - the smallest model that gives the highest accuracy"
   ]
  },
  {
   "cell_type": "markdown",
   "metadata": {},
   "source": [
    "> In this section, the small proposed model will run for 50 epochs to check the test accuracy it gives."
   ]
  },
  {
   "cell_type": "markdown",
   "metadata": {},
   "source": [
    "### 2.1 Defining the proposed model"
   ]
  },
  {
   "cell_type": "code",
   "execution_count": 36,
   "metadata": {},
   "outputs": [
    {
     "name": "stdout",
     "output_type": "stream",
     "text": [
      "Model: \"model_2\"\n",
      "_________________________________________________________________\n",
      " Layer (type)                Output Shape              Param #   \n",
      "=================================================================\n",
      " input_3 (InputLayer)        [(None, 100, 100, 3)]     0         \n",
      "                                                                 \n",
      " conv2d_13 (Conv2D)          (None, 98, 98, 16)        448       \n",
      "                                                                 \n",
      " max_pooling2d_6 (MaxPooling  (None, 49, 49, 16)       0         \n",
      " 2D)                                                             \n",
      "                                                                 \n",
      " conv2d_14 (Conv2D)          (None, 47, 47, 32)        4640      \n",
      "                                                                 \n",
      " max_pooling2d_7 (MaxPooling  (None, 23, 23, 32)       0         \n",
      " 2D)                                                             \n",
      "                                                                 \n",
      " conv2d_15 (Conv2D)          (None, 21, 21, 32)        9248      \n",
      "                                                                 \n",
      " max_pooling2d_8 (MaxPooling  (None, 10, 10, 32)       0         \n",
      " 2D)                                                             \n",
      "                                                                 \n",
      " conv2d_16 (Conv2D)          (None, 8, 8, 32)          9248      \n",
      "                                                                 \n",
      " global_average_pooling2d_2   (None, 32)               0         \n",
      " (GlobalAveragePooling2D)                                        \n",
      "                                                                 \n",
      " dropout_2 (Dropout)         (None, 32)                0         \n",
      "                                                                 \n",
      " dense_2 (Dense)             (None, 6)                 198       \n",
      "                                                                 \n",
      "=================================================================\n",
      "Total params: 23,782\n",
      "Trainable params: 23,782\n",
      "Non-trainable params: 0\n",
      "_________________________________________________________________\n"
     ]
    }
   ],
   "source": [
    "inputs = keras.Input(shape=(100, 100, 3))\n",
    "x = inputs\n",
    "x = layers.Conv2D(16, 3, activation='relu')(x)\n",
    "x = layers.MaxPooling2D(2)(x)\n",
    "x = layers.Conv2D(32, 3, activation='relu')(x)\n",
    "x = layers.MaxPooling2D(2)(x)\n",
    "x = layers.Conv2D(32, 3, activation='relu')(x)\n",
    "x = layers.MaxPooling2D(2)(x)\n",
    "x = layers.Conv2D(32, 3, activation='relu')(x)\n",
    "x = layers.GlobalAveragePooling2D()(x)\n",
    "x = layers.Dropout(0.3)(x)\n",
    "outputs = layers.Dense(6, activation='softmax')(x)\n",
    "\n",
    "model_proposed = keras.Model(inputs, outputs)\n",
    "\n",
    "model_proposed.compile(optimizer=keras.optimizers.RMSprop(0.001), loss='sparse_categorical_crossentropy', metrics=['accuracy'])\n",
    "\n",
    "model_proposed.summary()"
   ]
  },
  {
   "cell_type": "markdown",
   "metadata": {},
   "source": [
    "### 2.2 Running the proposed model"
   ]
  },
  {
   "cell_type": "code",
   "execution_count": 38,
   "metadata": {},
   "outputs": [
    {
     "name": "stdout",
     "output_type": "stream",
     "text": [
      "Epoch 1/50\n"
     ]
    },
    {
     "name": "stderr",
     "output_type": "stream",
     "text": [
      "2022-08-31 04:13:14.176117: I tensorflow/core/grappler/optimizers/custom_graph_optimizer_registry.cc:112] Plugin optimizer for device_type GPU is enabled.\n"
     ]
    },
    {
     "name": "stdout",
     "output_type": "stream",
     "text": [
      "118/120 [============================>.] - ETA: 0s - loss: 2.4706 - accuracy: 0.1833"
     ]
    },
    {
     "name": "stderr",
     "output_type": "stream",
     "text": [
      "2022-08-31 04:13:17.302327: I tensorflow/core/grappler/optimizers/custom_graph_optimizer_registry.cc:112] Plugin optimizer for device_type GPU is enabled.\n"
     ]
    },
    {
     "name": "stdout",
     "output_type": "stream",
     "text": [
      "120/120 [==============================] - 4s 25ms/step - loss: 2.4593 - accuracy: 0.1828 - val_loss: 1.7755 - val_accuracy: 0.1979\n",
      "Epoch 2/50\n",
      "120/120 [==============================] - 3s 23ms/step - loss: 1.7677 - accuracy: 0.2586 - val_loss: 1.6609 - val_accuracy: 0.3979\n",
      "Epoch 3/50\n",
      "120/120 [==============================] - 3s 24ms/step - loss: 1.6235 - accuracy: 0.3482 - val_loss: 1.5207 - val_accuracy: 0.3250\n",
      "Epoch 4/50\n",
      "120/120 [==============================] - 3s 24ms/step - loss: 1.3860 - accuracy: 0.4839 - val_loss: 1.1510 - val_accuracy: 0.5688\n",
      "Epoch 5/50\n",
      "120/120 [==============================] - 3s 23ms/step - loss: 1.1215 - accuracy: 0.5883 - val_loss: 0.7896 - val_accuracy: 0.7438\n",
      "Epoch 6/50\n",
      "120/120 [==============================] - 3s 23ms/step - loss: 0.9369 - accuracy: 0.6536 - val_loss: 0.6661 - val_accuracy: 0.7813\n",
      "Epoch 7/50\n",
      "120/120 [==============================] - 3s 23ms/step - loss: 0.8046 - accuracy: 0.7057 - val_loss: 0.6083 - val_accuracy: 0.7896\n",
      "Epoch 8/50\n",
      "120/120 [==============================] - 3s 25ms/step - loss: 0.6941 - accuracy: 0.7518 - val_loss: 0.6018 - val_accuracy: 0.7979\n",
      "Epoch 9/50\n",
      "120/120 [==============================] - 3s 23ms/step - loss: 0.5997 - accuracy: 0.7911 - val_loss: 0.4759 - val_accuracy: 0.8354\n",
      "Epoch 10/50\n",
      "120/120 [==============================] - 3s 25ms/step - loss: 0.5287 - accuracy: 0.8161 - val_loss: 0.3864 - val_accuracy: 0.8583\n",
      "Epoch 11/50\n",
      "120/120 [==============================] - 3s 24ms/step - loss: 0.4670 - accuracy: 0.8299 - val_loss: 0.3723 - val_accuracy: 0.8771\n",
      "Epoch 12/50\n",
      "120/120 [==============================] - 3s 25ms/step - loss: 0.4156 - accuracy: 0.8552 - val_loss: 0.3392 - val_accuracy: 0.8854\n",
      "Epoch 13/50\n",
      "120/120 [==============================] - 3s 24ms/step - loss: 0.3783 - accuracy: 0.8680 - val_loss: 0.3058 - val_accuracy: 0.8958\n",
      "Epoch 14/50\n",
      "120/120 [==============================] - 3s 24ms/step - loss: 0.3500 - accuracy: 0.8768 - val_loss: 0.5605 - val_accuracy: 0.8083\n",
      "Epoch 15/50\n",
      "120/120 [==============================] - 3s 24ms/step - loss: 0.3122 - accuracy: 0.8878 - val_loss: 0.2800 - val_accuracy: 0.9021\n",
      "Epoch 16/50\n",
      "120/120 [==============================] - 3s 23ms/step - loss: 0.2917 - accuracy: 0.9003 - val_loss: 0.4275 - val_accuracy: 0.8396\n",
      "Epoch 17/50\n",
      "120/120 [==============================] - 3s 24ms/step - loss: 0.2474 - accuracy: 0.9130 - val_loss: 0.3084 - val_accuracy: 0.8917\n",
      "Epoch 18/50\n",
      "120/120 [==============================] - 3s 24ms/step - loss: 0.2329 - accuracy: 0.9237 - val_loss: 0.6048 - val_accuracy: 0.8146\n",
      "Epoch 19/50\n",
      "120/120 [==============================] - 3s 24ms/step - loss: 0.2395 - accuracy: 0.9221 - val_loss: 0.3507 - val_accuracy: 0.8729\n",
      "Epoch 20/50\n",
      "120/120 [==============================] - 3s 24ms/step - loss: 0.1951 - accuracy: 0.9365 - val_loss: 0.4973 - val_accuracy: 0.8458\n",
      "Epoch 21/50\n",
      "120/120 [==============================] - 3s 24ms/step - loss: 0.2076 - accuracy: 0.9362 - val_loss: 0.3103 - val_accuracy: 0.8854\n",
      "Epoch 22/50\n",
      "120/120 [==============================] - 3s 24ms/step - loss: 0.1767 - accuracy: 0.9461 - val_loss: 0.7348 - val_accuracy: 0.7938\n",
      "Epoch 23/50\n",
      "120/120 [==============================] - 3s 26ms/step - loss: 0.1586 - accuracy: 0.9484 - val_loss: 0.3705 - val_accuracy: 0.8792\n",
      "Epoch 24/50\n",
      "120/120 [==============================] - 3s 25ms/step - loss: 0.1504 - accuracy: 0.9471 - val_loss: 0.2493 - val_accuracy: 0.9208\n",
      "Epoch 25/50\n",
      "120/120 [==============================] - 3s 24ms/step - loss: 0.1388 - accuracy: 0.9549 - val_loss: 0.3935 - val_accuracy: 0.8875\n",
      "Epoch 26/50\n",
      "120/120 [==============================] - 3s 26ms/step - loss: 0.1678 - accuracy: 0.9521 - val_loss: 0.2524 - val_accuracy: 0.9042\n",
      "Epoch 27/50\n",
      "120/120 [==============================] - 3s 27ms/step - loss: 0.1127 - accuracy: 0.9664 - val_loss: 0.2985 - val_accuracy: 0.9021\n",
      "Epoch 28/50\n",
      "120/120 [==============================] - 3s 25ms/step - loss: 0.1194 - accuracy: 0.9599 - val_loss: 0.3738 - val_accuracy: 0.8958\n",
      "Epoch 29/50\n",
      "120/120 [==============================] - 3s 24ms/step - loss: 0.1152 - accuracy: 0.9672 - val_loss: 0.2663 - val_accuracy: 0.9146\n",
      "Epoch 30/50\n",
      "120/120 [==============================] - 3s 25ms/step - loss: 0.1092 - accuracy: 0.9667 - val_loss: 0.2685 - val_accuracy: 0.9188\n",
      "Epoch 31/50\n",
      "120/120 [==============================] - 3s 27ms/step - loss: 0.0884 - accuracy: 0.9721 - val_loss: 0.6292 - val_accuracy: 0.8688\n",
      "Epoch 32/50\n",
      "120/120 [==============================] - 3s 29ms/step - loss: 0.1118 - accuracy: 0.9669 - val_loss: 0.3334 - val_accuracy: 0.8917\n",
      "Epoch 33/50\n",
      "120/120 [==============================] - 3s 26ms/step - loss: 0.0848 - accuracy: 0.9737 - val_loss: 0.2225 - val_accuracy: 0.9313\n",
      "Epoch 34/50\n",
      "120/120 [==============================] - 3s 25ms/step - loss: 0.1317 - accuracy: 0.9682 - val_loss: 0.2348 - val_accuracy: 0.9375\n",
      "Epoch 35/50\n",
      "120/120 [==============================] - 3s 25ms/step - loss: 0.1027 - accuracy: 0.9737 - val_loss: 0.3363 - val_accuracy: 0.9104\n",
      "Epoch 36/50\n",
      "120/120 [==============================] - 3s 25ms/step - loss: 0.0886 - accuracy: 0.9745 - val_loss: 0.2983 - val_accuracy: 0.9271\n",
      "Epoch 37/50\n",
      "120/120 [==============================] - 3s 24ms/step - loss: 0.1097 - accuracy: 0.9711 - val_loss: 0.4675 - val_accuracy: 0.8917\n",
      "Epoch 38/50\n",
      "120/120 [==============================] - 3s 26ms/step - loss: 0.0703 - accuracy: 0.9813 - val_loss: 0.2998 - val_accuracy: 0.9271\n",
      "Epoch 39/50\n",
      "120/120 [==============================] - 3s 24ms/step - loss: 0.0933 - accuracy: 0.9740 - val_loss: 0.4070 - val_accuracy: 0.9021\n",
      "Epoch 40/50\n",
      "120/120 [==============================] - 3s 28ms/step - loss: 0.1009 - accuracy: 0.9805 - val_loss: 0.2804 - val_accuracy: 0.9188\n",
      "Epoch 41/50\n",
      "120/120 [==============================] - 3s 25ms/step - loss: 0.1103 - accuracy: 0.9794 - val_loss: 0.2577 - val_accuracy: 0.9292\n",
      "Epoch 42/50\n",
      "120/120 [==============================] - 3s 25ms/step - loss: 0.0942 - accuracy: 0.9750 - val_loss: 0.3188 - val_accuracy: 0.9104\n",
      "Epoch 43/50\n",
      "120/120 [==============================] - 3s 26ms/step - loss: 0.0920 - accuracy: 0.9828 - val_loss: 0.6916 - val_accuracy: 0.8667\n",
      "Epoch 44/50\n",
      "120/120 [==============================] - 3s 29ms/step - loss: 0.0954 - accuracy: 0.9813 - val_loss: 0.2379 - val_accuracy: 0.9438\n",
      "Epoch 45/50\n",
      "120/120 [==============================] - 3s 27ms/step - loss: 0.0992 - accuracy: 0.9768 - val_loss: 0.3156 - val_accuracy: 0.9188\n",
      "Epoch 46/50\n",
      "120/120 [==============================] - 3s 27ms/step - loss: 0.0509 - accuracy: 0.9833 - val_loss: 0.3463 - val_accuracy: 0.9271\n",
      "Epoch 47/50\n",
      "120/120 [==============================] - 3s 28ms/step - loss: 0.0793 - accuracy: 0.9797 - val_loss: 0.7778 - val_accuracy: 0.8458\n",
      "Epoch 48/50\n",
      "120/120 [==============================] - 3s 27ms/step - loss: 0.0668 - accuracy: 0.9870 - val_loss: 0.3052 - val_accuracy: 0.9396\n",
      "Epoch 49/50\n",
      "120/120 [==============================] - 3s 27ms/step - loss: 0.0602 - accuracy: 0.9836 - val_loss: 0.3095 - val_accuracy: 0.9292\n",
      "Epoch 50/50\n",
      "120/120 [==============================] - 3s 28ms/step - loss: 0.0820 - accuracy: 0.9799 - val_loss: 0.5450 - val_accuracy: 0.9083\n"
     ]
    }
   ],
   "source": [
    "callbacks_list = [\n",
    "    keras.callbacks.EarlyStopping(\n",
    "        monitor=\"val_accuracy\",\n",
    "        patience=10\n",
    "    ),    \n",
    "    keras.callbacks.ModelCheckpoint(\n",
    "        filepath=\"../models/4_proposed.h5\",\n",
    "        monitor=\"val_accuracy\",\n",
    "        save_best_only=True\n",
    "    )\n",
    "]\n",
    "\n",
    "history_proposed = model_proposed.fit(\n",
    "  train,\n",
    "  epochs=50,\n",
    "  callbacks=callbacks_list,\n",
    "  validation_data=val\n",
    ")"
   ]
  },
  {
   "cell_type": "code",
   "execution_count": 66,
   "metadata": {},
   "outputs": [
    {
     "data": {
      "image/png": "[encoded data removed]",
      "text/plain": [
       "<Figure size 432x288 with 1 Axes>"
      ]
     },
     "metadata": {
      "needs_background": "light"
     },
     "output_type": "display_data"
    },
    {
     "data": {
      "image/png": "[encoded data removed]",
      "text/plain": [
       "<Figure size 432x288 with 1 Axes>"
      ]
     },
     "metadata": {
      "needs_background": "light"
     },
     "output_type": "display_data"
    }
   ],
   "source": [
    "plt.rcParams[\"figure.figsize\"] = (6,4)\n",
    "plot_loss(history_proposed)\n",
    "plot_acc(history_proposed)"
   ]
  },
  {
   "cell_type": "markdown",
   "metadata": {},
   "source": [
    "### 2.3 Evaluating the test accuracy of the proposed model"
   ]
  },
  {
   "cell_type": "code",
   "execution_count": 39,
   "metadata": {},
   "outputs": [
    {
     "name": "stdout",
     "output_type": "stream",
     "text": [
      " 5/15 [=========>....................] - ETA: 0s - loss: 0.2481 - accuracy: 0.9313"
     ]
    },
    {
     "name": "stderr",
     "output_type": "stream",
     "text": [
      "2022-08-31 04:16:17.085838: I tensorflow/core/grappler/optimizers/custom_graph_optimizer_registry.cc:112] Plugin optimizer for device_type GPU is enabled.\n"
     ]
    },
    {
     "name": "stdout",
     "output_type": "stream",
     "text": [
      "15/15 [==============================] - 0s 12ms/step - loss: 0.1766 - accuracy: 0.9563\n"
     ]
    },
    {
     "data": {
      "text/plain": [
       "[0.1765802949666977, 0.9562500715255737]"
      ]
     },
     "execution_count": 39,
     "metadata": {},
     "output_type": "execute_result"
    }
   ],
   "source": [
    "load_model_proposed = keras.models.load_model(\"../models/4_proposed.h5\")\n",
    "load_model_proposed.evaluate(test)"
   ]
  },
  {
   "cell_type": "markdown",
   "metadata": {},
   "source": [
    "---\n",
    "\n",
    "*Test Accuracy*: **95.63%**\n",
    "\n",
    "---"
   ]
  },
  {
   "cell_type": "markdown",
   "metadata": {},
   "source": [
    "### 2.4 Confusion matrix and class-wise precious and recall for proposed model"
   ]
  },
  {
   "cell_type": "code",
   "execution_count": 49,
   "metadata": {},
   "outputs": [
    {
     "name": "stdout",
     "output_type": "stream",
     "text": [
      "              precision    recall  f1-score   support\n",
      "\n",
      "           0       0.94      1.00      0.97        80\n",
      "           1       0.93      0.89      0.91        80\n",
      "           2       0.92      0.97      0.95        80\n",
      "           3       0.95      0.89      0.92        80\n",
      "           4       0.83      0.99      0.90        80\n",
      "           5       0.97      0.78      0.86        80\n",
      "\n",
      "    accuracy                           0.92       480\n",
      "   macro avg       0.92      0.92      0.92       480\n",
      "weighted avg       0.92      0.92      0.92       480\n",
      "\n"
     ]
    },
    {
     "data": {
      "image/png": "[encoded data removed]",
      "text/plain": [
       "<Figure size 1080x576 with 2 Axes>"
      ]
     },
     "metadata": {
      "needs_background": "light"
     },
     "output_type": "display_data"
    }
   ],
   "source": [
    "proposed_labels, proposed_preds = get_preds_labels(model_proposed, test)\n",
    "cm_proposed = confusion_matrix(proposed_labels, proposed_preds)\n",
    "print_cm(proposed_labels, proposed_preds, cm_proposed)"
   ]
  }
 ],
 "metadata": {
  "kernelspec": {
   "display_name": "Python 3.9.7 ('base')",
   "language": "python",
   "name": "python3"
  },
  "language_info": {
   "codemirror_mode": {
    "name": "ipython",
    "version": 3
   },
   "file_extension": ".py",
   "mimetype": "text/x-python",
   "name": "python",
   "nbconvert_exporter": "python",
   "pygments_lexer": "ipython3",
   "version": "3.9.7"
  },
  "orig_nbformat": 4,
  "vscode": {
   "interpreter": {
    "hash": "c6e4e9f98eb68ad3b7c296f83d20e6de614cb42e90992a65aa266555a3137d0d"
   }
  }
 },
 "nbformat": 4,
 "nbformat_minor": 2
}
