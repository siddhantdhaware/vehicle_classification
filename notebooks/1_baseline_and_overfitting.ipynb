{
 "cells": [
  {
   "cell_type": "markdown",
   "metadata": {},
   "source": [
    "# Establishing baseline, beating the baseline, and model that overfits\n",
    "\n",
    "---"
   ]
  },
  {
   "cell_type": "markdown",
   "metadata": {},
   "source": [
    "### Importing libraries"
   ]
  },
  {
   "cell_type": "code",
   "execution_count": 1,
   "metadata": {},
   "outputs": [],
   "source": [
    "import tensorflow as tf\n",
    "from tensorflow.keras import layers, utils\n",
    "from tensorflow import keras\n",
    "from matplotlib import pyplot as plt\n",
    "\n",
    "import sys\n",
    "sys.path.insert(0, '../helpers/')\n",
    "from plot_graphs import plot_loss, plot_acc"
   ]
  },
  {
   "cell_type": "markdown",
   "metadata": {},
   "source": [
    "## 1. Establishing the baseline and importing datasets"
   ]
  },
  {
   "cell_type": "markdown",
   "metadata": {},
   "source": [
    "----\n",
    "\n",
    "Baseline accuracy is 1/6 or 16.67%\n",
    "\n",
    "----"
   ]
  },
  {
   "cell_type": "markdown",
   "metadata": {},
   "source": [
    "### 1.1 Setting Batch and Image size"
   ]
  },
  {
   "cell_type": "code",
   "execution_count": 2,
   "metadata": {},
   "outputs": [],
   "source": [
    "IMAGE_SIZE = 100\n",
    "BATCH_SIZE = 32"
   ]
  },
  {
   "cell_type": "markdown",
   "metadata": {},
   "source": [
    "### 1.2 Loading the train val and test data"
   ]
  },
  {
   "cell_type": "code",
   "execution_count": 4,
   "metadata": {},
   "outputs": [
    {
     "name": "stdout",
     "output_type": "stream",
     "text": [
      "Found 3840 files belonging to 6 classes.\n",
      "Found 480 files belonging to 6 classes.\n",
      "Found 480 files belonging to 6 classes.\n"
     ]
    }
   ],
   "source": [
    "# Getting train, validation, and test data\n",
    "\n",
    "train = utils.image_dataset_from_directory(\"../datasets/data/split/Zenodo/train\", image_size=(IMAGE_SIZE, IMAGE_SIZE), batch_size=BATCH_SIZE)\n",
    "val = utils.image_dataset_from_directory(\"../datasets/data/split/Zenodo/val\", image_size=(IMAGE_SIZE, IMAGE_SIZE), batch_size=BATCH_SIZE)\n",
    "test = utils.image_dataset_from_directory(\"../datasets/data/split/Zenodo/test\", image_size=(IMAGE_SIZE, IMAGE_SIZE), batch_size=BATCH_SIZE)\n",
    "\n",
    "# Caching the datasets to load faster\n",
    "train = train.prefetch(buffer_size=tf.data.AUTOTUNE).cache()\n",
    "val = val.prefetch(buffer_size=tf.data.AUTOTUNE).cache()\n",
    "test = test.prefetch(buffer_size=tf.data.AUTOTUNE).cache()"
   ]
  },
  {
   "cell_type": "markdown",
   "metadata": {},
   "source": [
    "## 2. Small model to beat baseline"
   ]
  },
  {
   "cell_type": "markdown",
   "metadata": {},
   "source": [
    "> This is a relatively small model with only three Conv2D layers that runs for 10 epochs, and its only purpose is to beat the baseline accuracy of 16.67%."
   ]
  },
  {
   "cell_type": "markdown",
   "metadata": {},
   "source": [
    "### 2.1 Defining and running the model"
   ]
  },
  {
   "cell_type": "code",
   "execution_count": 33,
   "metadata": {},
   "outputs": [
    {
     "name": "stdout",
     "output_type": "stream",
     "text": [
      "Model: \"model_10\"\n",
      "_________________________________________________________________\n",
      " Layer (type)                Output Shape              Param #   \n",
      "=================================================================\n",
      " input_11 (InputLayer)       [(None, 100, 100, 3)]     0         \n",
      "                                                                 \n",
      " rescaling_10 (Rescaling)    (None, 100, 100, 3)       0         \n",
      "                                                                 \n",
      " conv2d_32 (Conv2D)          (None, 98, 98, 16)        448       \n",
      "                                                                 \n",
      " max_pooling2d_22 (MaxPoolin  (None, 49, 49, 16)       0         \n",
      " g2D)                                                            \n",
      "                                                                 \n",
      " conv2d_33 (Conv2D)          (None, 47, 47, 32)        4640      \n",
      "                                                                 \n",
      " max_pooling2d_23 (MaxPoolin  (None, 23, 23, 32)       0         \n",
      " g2D)                                                            \n",
      "                                                                 \n",
      " conv2d_34 (Conv2D)          (None, 21, 21, 64)        18496     \n",
      "                                                                 \n",
      " global_average_pooling2d_10  (None, 64)               0         \n",
      "  (GlobalAveragePooling2D)                                       \n",
      "                                                                 \n",
      " dense_10 (Dense)            (None, 6)                 390       \n",
      "                                                                 \n",
      "=================================================================\n",
      "Total params: 23,974\n",
      "Trainable params: 23,974\n",
      "Non-trainable params: 0\n",
      "_________________________________________________________________\n",
      "Epoch 1/10\n"
     ]
    },
    {
     "name": "stderr",
     "output_type": "stream",
     "text": [
      "2022-08-30 23:03:40.981993: I tensorflow/core/grappler/optimizers/custom_graph_optimizer_registry.cc:112] Plugin optimizer for device_type GPU is enabled.\n"
     ]
    },
    {
     "name": "stdout",
     "output_type": "stream",
     "text": [
      "120/120 [==============================] - ETA: 0s - loss: 1.7310 - accuracy: 0.2471"
     ]
    },
    {
     "name": "stderr",
     "output_type": "stream",
     "text": [
      "2022-08-30 23:03:44.421477: I tensorflow/core/grappler/optimizers/custom_graph_optimizer_registry.cc:112] Plugin optimizer for device_type GPU is enabled.\n"
     ]
    },
    {
     "name": "stdout",
     "output_type": "stream",
     "text": [
      "120/120 [==============================] - 4s 27ms/step - loss: 1.7310 - accuracy: 0.2471 - val_loss: 1.6715 - val_accuracy: 0.2083\n",
      "Epoch 2/10\n",
      "120/120 [==============================] - 3s 23ms/step - loss: 1.5637 - accuracy: 0.3719 - val_loss: 1.5878 - val_accuracy: 0.2854\n",
      "Epoch 3/10\n",
      "120/120 [==============================] - 3s 23ms/step - loss: 1.4220 - accuracy: 0.4484 - val_loss: 1.2875 - val_accuracy: 0.5188\n",
      "Epoch 4/10\n",
      "120/120 [==============================] - 3s 23ms/step - loss: 1.3137 - accuracy: 0.5026 - val_loss: 1.2128 - val_accuracy: 0.5417\n",
      "Epoch 5/10\n",
      "120/120 [==============================] - 3s 23ms/step - loss: 1.2326 - accuracy: 0.5349 - val_loss: 1.1568 - val_accuracy: 0.5458\n",
      "Epoch 6/10\n",
      "120/120 [==============================] - 3s 23ms/step - loss: 1.1708 - accuracy: 0.5539 - val_loss: 1.1333 - val_accuracy: 0.5458\n",
      "Epoch 7/10\n",
      "120/120 [==============================] - 3s 24ms/step - loss: 1.1291 - accuracy: 0.5664 - val_loss: 1.0729 - val_accuracy: 0.5646\n",
      "Epoch 8/10\n",
      "120/120 [==============================] - 3s 24ms/step - loss: 1.0940 - accuracy: 0.5820 - val_loss: 1.0535 - val_accuracy: 0.5708\n",
      "Epoch 9/10\n",
      "120/120 [==============================] - 3s 24ms/step - loss: 1.0633 - accuracy: 0.5958 - val_loss: 1.0317 - val_accuracy: 0.5833\n",
      "Epoch 10/10\n",
      "120/120 [==============================] - 3s 24ms/step - loss: 1.0373 - accuracy: 0.6076 - val_loss: 1.0050 - val_accuracy: 0.6021\n"
     ]
    }
   ],
   "source": [
    "# Defining the model\n",
    "inputs = keras.Input(shape=(100, 100, 3))\n",
    "x = inputs\n",
    "x = layers.Rescaling(1./255)(x)\n",
    "x = layers.Conv2D(16, 3, activation='relu')(x)\n",
    "x = layers.MaxPooling2D(2)(x)\n",
    "x = layers.Conv2D(32, 3, activation='relu')(x)\n",
    "x = layers.MaxPooling2D(2)(x)\n",
    "x = layers.Conv2D(64, 3, activation='relu')(x)\n",
    "x = layers.GlobalAveragePooling2D()(x)\n",
    "outputs = layers.Dense(6, activation='softmax')(x)\n",
    "\n",
    "model_baseline = keras.Model(inputs, outputs)\n",
    "\n",
    "# Compiling the model\n",
    "model_baseline.compile(optimizer=keras.optimizers.RMSprop(0.001), loss='sparse_categorical_crossentropy', metrics=['accuracy'])\n",
    "\n",
    "# Printing model summary\n",
    "model_baseline.summary()\n",
    "\n",
    "# Training the model\n",
    "history_baseline = model_baseline.fit(\n",
    "  train,\n",
    "  epochs=10,\n",
    "  validation_data=val\n",
    ")"
   ]
  },
  {
   "cell_type": "markdown",
   "metadata": {},
   "source": [
    "### 2.2 Plotting graphs"
   ]
  },
  {
   "cell_type": "code",
   "execution_count": 31,
   "metadata": {},
   "outputs": [
    {
     "data": {
      "image/png": "[encoded data removed]",
      "text/plain": [
       "<Figure size 432x288 with 1 Axes>"
      ]
     },
     "metadata": {
      "needs_background": "light"
     },
     "output_type": "display_data"
    },
    {
     "data": {
      "image/png": "[encoded data removed]",
      "text/plain": [
       "<Figure size 432x288 with 1 Axes>"
      ]
     },
     "metadata": {
      "needs_background": "light"
     },
     "output_type": "display_data"
    }
   ],
   "source": [
    "# Plotting the loss and accuracy\n",
    "plot_loss(history_baseline)\n",
    "plot_acc(history_baseline)"
   ]
  },
  {
   "cell_type": "markdown",
   "metadata": {},
   "source": [
    "> As can be seen from the validation accuracies outputs and training and validation accuracy graph above, the models starts at about 20% accuracy, and reaches around 60% by the 10th epoch, definitely beating the baseline of 16.67% as intended."
   ]
  },
  {
   "cell_type": "markdown",
   "metadata": {},
   "source": [
    "---\n",
    "\n",
    "*Highest Observed Validation Accuracy*: **60.21%**\n",
    "\n",
    "---"
   ]
  },
  {
   "cell_type": "markdown",
   "metadata": {},
   "source": [
    "## 3. Scaling up: a model that overfits"
   ]
  },
  {
   "cell_type": "markdown",
   "metadata": {},
   "source": [
    "> In this model, we will add more layers, make the layers bigger, and train for more epochs. The purpose here is to build a model that overfits. "
   ]
  },
  {
   "cell_type": "markdown",
   "metadata": {},
   "source": [
    "### 3.1 Defining and training the model"
   ]
  },
  {
   "cell_type": "code",
   "execution_count": 27,
   "metadata": {},
   "outputs": [
    {
     "name": "stdout",
     "output_type": "stream",
     "text": [
      "Model: \"model_8\"\n",
      "_________________________________________________________________\n",
      " Layer (type)                Output Shape              Param #   \n",
      "=================================================================\n",
      " input_9 (InputLayer)        [(None, 100, 100, 3)]     0         \n",
      "                                                                 \n",
      " rescaling_8 (Rescaling)     (None, 100, 100, 3)       0         \n",
      "                                                                 \n",
      " conv2d_26 (Conv2D)          (None, 98, 98, 32)        896       \n",
      "                                                                 \n",
      " max_pooling2d_18 (MaxPoolin  (None, 49, 49, 32)       0         \n",
      " g2D)                                                            \n",
      "                                                                 \n",
      " conv2d_27 (Conv2D)          (None, 47, 47, 32)        9248      \n",
      "                                                                 \n",
      " max_pooling2d_19 (MaxPoolin  (None, 23, 23, 32)       0         \n",
      " g2D)                                                            \n",
      "                                                                 \n",
      " conv2d_28 (Conv2D)          (None, 21, 21, 64)        18496     \n",
      "                                                                 \n",
      " max_pooling2d_20 (MaxPoolin  (None, 10, 10, 64)       0         \n",
      " g2D)                                                            \n",
      "                                                                 \n",
      " conv2d_29 (Conv2D)          (None, 8, 8, 128)         73856     \n",
      "                                                                 \n",
      " global_average_pooling2d_8   (None, 128)              0         \n",
      " (GlobalAveragePooling2D)                                        \n",
      "                                                                 \n",
      " dense_8 (Dense)             (None, 6)                 774       \n",
      "                                                                 \n",
      "=================================================================\n",
      "Total params: 103,270\n",
      "Trainable params: 103,270\n",
      "Non-trainable params: 0\n",
      "_________________________________________________________________\n",
      "Epoch 1/60\n"
     ]
    },
    {
     "name": "stderr",
     "output_type": "stream",
     "text": [
      "2022-08-30 04:59:48.014778: I tensorflow/core/grappler/optimizers/custom_graph_optimizer_registry.cc:112] Plugin optimizer for device_type GPU is enabled.\n"
     ]
    },
    {
     "name": "stdout",
     "output_type": "stream",
     "text": [
      "119/120 [============================>.] - ETA: 0s - loss: 1.7219 - accuracy: 0.2458"
     ]
    },
    {
     "name": "stderr",
     "output_type": "stream",
     "text": [
      "2022-08-30 04:59:52.235480: I tensorflow/core/grappler/optimizers/custom_graph_optimizer_registry.cc:112] Plugin optimizer for device_type GPU is enabled.\n"
     ]
    },
    {
     "name": "stdout",
     "output_type": "stream",
     "text": [
      "120/120 [==============================] - 5s 34ms/step - loss: 1.7192 - accuracy: 0.2477 - val_loss: 1.5384 - val_accuracy: 0.3771\n",
      "Epoch 2/60\n",
      "120/120 [==============================] - 4s 32ms/step - loss: 1.3892 - accuracy: 0.4669 - val_loss: 1.1843 - val_accuracy: 0.5604\n",
      "Epoch 3/60\n",
      "120/120 [==============================] - 4s 33ms/step - loss: 1.1673 - accuracy: 0.5719 - val_loss: 0.9528 - val_accuracy: 0.6792\n",
      "Epoch 4/60\n",
      "120/120 [==============================] - 4s 31ms/step - loss: 1.0380 - accuracy: 0.6221 - val_loss: 0.8408 - val_accuracy: 0.7063\n",
      "Epoch 5/60\n",
      "120/120 [==============================] - 4s 31ms/step - loss: 0.9486 - accuracy: 0.6495 - val_loss: 0.7579 - val_accuracy: 0.7333\n",
      "Epoch 6/60\n",
      "120/120 [==============================] - 4s 33ms/step - loss: 0.8745 - accuracy: 0.6779 - val_loss: 0.6941 - val_accuracy: 0.7521\n",
      "Epoch 7/60\n",
      "120/120 [==============================] - 4s 31ms/step - loss: 0.8088 - accuracy: 0.7052 - val_loss: 0.6283 - val_accuracy: 0.7750\n",
      "Epoch 8/60\n",
      "120/120 [==============================] - 4s 32ms/step - loss: 0.7501 - accuracy: 0.7297 - val_loss: 0.5752 - val_accuracy: 0.7896\n",
      "Epoch 9/60\n",
      "120/120 [==============================] - 4s 31ms/step - loss: 0.6871 - accuracy: 0.7531 - val_loss: 0.5260 - val_accuracy: 0.8146\n",
      "Epoch 10/60\n",
      "120/120 [==============================] - 4s 32ms/step - loss: 0.6281 - accuracy: 0.7701 - val_loss: 0.4845 - val_accuracy: 0.8354\n",
      "Epoch 11/60\n",
      "120/120 [==============================] - 4s 34ms/step - loss: 0.5853 - accuracy: 0.7911 - val_loss: 0.4467 - val_accuracy: 0.8396\n",
      "Epoch 12/60\n",
      "120/120 [==============================] - 4s 33ms/step - loss: 0.5470 - accuracy: 0.8068 - val_loss: 0.4364 - val_accuracy: 0.8354\n",
      "Epoch 13/60\n",
      "120/120 [==============================] - 4s 32ms/step - loss: 0.4981 - accuracy: 0.8263 - val_loss: 0.3956 - val_accuracy: 0.8542\n",
      "Epoch 14/60\n",
      "120/120 [==============================] - 4s 32ms/step - loss: 0.4680 - accuracy: 0.8401 - val_loss: 0.3665 - val_accuracy: 0.8625\n",
      "Epoch 15/60\n",
      "120/120 [==============================] - 4s 33ms/step - loss: 0.4436 - accuracy: 0.8482 - val_loss: 0.3478 - val_accuracy: 0.8688\n",
      "Epoch 16/60\n",
      "120/120 [==============================] - 4s 33ms/step - loss: 0.4134 - accuracy: 0.8560 - val_loss: 0.3289 - val_accuracy: 0.8688\n",
      "Epoch 17/60\n",
      "120/120 [==============================] - 4s 33ms/step - loss: 0.3790 - accuracy: 0.8672 - val_loss: 0.3182 - val_accuracy: 0.8708\n",
      "Epoch 18/60\n",
      "120/120 [==============================] - 4s 32ms/step - loss: 0.3636 - accuracy: 0.8724 - val_loss: 0.2983 - val_accuracy: 0.8750\n",
      "Epoch 19/60\n",
      "120/120 [==============================] - 4s 32ms/step - loss: 0.3351 - accuracy: 0.8836 - val_loss: 0.2696 - val_accuracy: 0.8958\n",
      "Epoch 20/60\n",
      "120/120 [==============================] - 4s 33ms/step - loss: 0.3207 - accuracy: 0.8880 - val_loss: 0.2636 - val_accuracy: 0.9042\n",
      "Epoch 21/60\n",
      "120/120 [==============================] - 4s 33ms/step - loss: 0.3009 - accuracy: 0.8935 - val_loss: 0.2494 - val_accuracy: 0.9042\n",
      "Epoch 22/60\n",
      "120/120 [==============================] - 4s 33ms/step - loss: 0.2824 - accuracy: 0.9010 - val_loss: 0.2383 - val_accuracy: 0.9104\n",
      "Epoch 23/60\n",
      "120/120 [==============================] - 4s 34ms/step - loss: 0.2666 - accuracy: 0.9091 - val_loss: 0.2332 - val_accuracy: 0.9042\n",
      "Epoch 24/60\n",
      "120/120 [==============================] - 4s 34ms/step - loss: 0.2530 - accuracy: 0.9128 - val_loss: 0.2253 - val_accuracy: 0.9125\n",
      "Epoch 25/60\n",
      "120/120 [==============================] - 4s 33ms/step - loss: 0.2379 - accuracy: 0.9180 - val_loss: 0.2162 - val_accuracy: 0.9167\n",
      "Epoch 26/60\n",
      "120/120 [==============================] - 4s 33ms/step - loss: 0.2258 - accuracy: 0.9208 - val_loss: 0.2091 - val_accuracy: 0.9208\n",
      "Epoch 27/60\n",
      "120/120 [==============================] - 4s 33ms/step - loss: 0.2065 - accuracy: 0.9268 - val_loss: 0.2044 - val_accuracy: 0.9208\n",
      "Epoch 28/60\n",
      "120/120 [==============================] - 4s 33ms/step - loss: 0.1978 - accuracy: 0.9299 - val_loss: 0.1983 - val_accuracy: 0.9333\n",
      "Epoch 29/60\n",
      "120/120 [==============================] - 4s 34ms/step - loss: 0.1876 - accuracy: 0.9326 - val_loss: 0.1979 - val_accuracy: 0.9333\n",
      "Epoch 30/60\n",
      "120/120 [==============================] - 4s 33ms/step - loss: 0.1795 - accuracy: 0.9391 - val_loss: 0.2143 - val_accuracy: 0.9188\n",
      "Epoch 31/60\n",
      "120/120 [==============================] - 4s 34ms/step - loss: 0.1694 - accuracy: 0.9440 - val_loss: 0.2110 - val_accuracy: 0.9229\n",
      "Epoch 32/60\n",
      "120/120 [==============================] - 4s 36ms/step - loss: 0.1650 - accuracy: 0.9419 - val_loss: 0.1956 - val_accuracy: 0.9271\n",
      "Epoch 33/60\n",
      "120/120 [==============================] - 4s 35ms/step - loss: 0.1514 - accuracy: 0.9464 - val_loss: 0.1973 - val_accuracy: 0.9333\n",
      "Epoch 34/60\n",
      "120/120 [==============================] - 4s 36ms/step - loss: 0.1431 - accuracy: 0.9521 - val_loss: 0.2093 - val_accuracy: 0.9313\n",
      "Epoch 35/60\n",
      "120/120 [==============================] - 4s 35ms/step - loss: 0.1411 - accuracy: 0.9529 - val_loss: 0.2141 - val_accuracy: 0.9292\n",
      "Epoch 36/60\n",
      "120/120 [==============================] - 4s 36ms/step - loss: 0.1396 - accuracy: 0.9534 - val_loss: 0.1883 - val_accuracy: 0.9375\n",
      "Epoch 37/60\n",
      "120/120 [==============================] - 4s 35ms/step - loss: 0.1275 - accuracy: 0.9594 - val_loss: 0.2315 - val_accuracy: 0.9271\n",
      "Epoch 38/60\n",
      "120/120 [==============================] - 4s 36ms/step - loss: 0.1183 - accuracy: 0.9602 - val_loss: 0.3021 - val_accuracy: 0.9021\n",
      "Epoch 39/60\n",
      "120/120 [==============================] - 4s 36ms/step - loss: 0.1155 - accuracy: 0.9609 - val_loss: 0.1945 - val_accuracy: 0.9396\n",
      "Epoch 40/60\n",
      "120/120 [==============================] - 4s 37ms/step - loss: 0.1139 - accuracy: 0.9596 - val_loss: 0.2077 - val_accuracy: 0.9354\n",
      "Epoch 41/60\n",
      "120/120 [==============================] - 4s 36ms/step - loss: 0.1037 - accuracy: 0.9625 - val_loss: 0.2497 - val_accuracy: 0.9271\n",
      "Epoch 42/60\n",
      "120/120 [==============================] - 4s 36ms/step - loss: 0.1041 - accuracy: 0.9664 - val_loss: 0.2024 - val_accuracy: 0.9354\n",
      "Epoch 43/60\n",
      "120/120 [==============================] - 4s 36ms/step - loss: 0.0961 - accuracy: 0.9680 - val_loss: 0.2090 - val_accuracy: 0.9458\n",
      "Epoch 44/60\n",
      "120/120 [==============================] - 4s 36ms/step - loss: 0.0921 - accuracy: 0.9724 - val_loss: 0.2348 - val_accuracy: 0.9333\n",
      "Epoch 45/60\n",
      "120/120 [==============================] - 4s 36ms/step - loss: 0.0941 - accuracy: 0.9737 - val_loss: 0.2215 - val_accuracy: 0.9354\n",
      "Epoch 46/60\n",
      "120/120 [==============================] - 4s 36ms/step - loss: 0.0810 - accuracy: 0.9742 - val_loss: 0.2033 - val_accuracy: 0.9354\n",
      "Epoch 47/60\n",
      "120/120 [==============================] - 4s 36ms/step - loss: 0.0693 - accuracy: 0.9789 - val_loss: 0.2227 - val_accuracy: 0.9458\n",
      "Epoch 48/60\n",
      "120/120 [==============================] - 4s 36ms/step - loss: 0.0767 - accuracy: 0.9758 - val_loss: 0.2406 - val_accuracy: 0.9333\n",
      "Epoch 49/60\n",
      "120/120 [==============================] - 4s 37ms/step - loss: 0.0682 - accuracy: 0.9747 - val_loss: 0.2052 - val_accuracy: 0.9417\n",
      "Epoch 50/60\n",
      "120/120 [==============================] - 5s 38ms/step - loss: 0.0715 - accuracy: 0.9779 - val_loss: 0.2009 - val_accuracy: 0.9417\n",
      "Epoch 51/60\n",
      "120/120 [==============================] - 4s 37ms/step - loss: 0.0708 - accuracy: 0.9797 - val_loss: 0.2115 - val_accuracy: 0.9417\n",
      "Epoch 52/60\n",
      "120/120 [==============================] - 5s 38ms/step - loss: 0.0648 - accuracy: 0.9776 - val_loss: 0.2175 - val_accuracy: 0.9375\n",
      "Epoch 53/60\n",
      "120/120 [==============================] - 4s 37ms/step - loss: 0.0586 - accuracy: 0.9815 - val_loss: 0.5217 - val_accuracy: 0.8792\n",
      "Epoch 54/60\n",
      "120/120 [==============================] - 5s 38ms/step - loss: 0.0540 - accuracy: 0.9805 - val_loss: 0.2698 - val_accuracy: 0.9292\n",
      "Epoch 55/60\n",
      "120/120 [==============================] - 4s 36ms/step - loss: 0.0486 - accuracy: 0.9854 - val_loss: 0.2384 - val_accuracy: 0.9396\n",
      "Epoch 56/60\n",
      "120/120 [==============================] - 5s 38ms/step - loss: 0.0478 - accuracy: 0.9836 - val_loss: 0.2189 - val_accuracy: 0.9542\n",
      "Epoch 57/60\n",
      "120/120 [==============================] - 4s 37ms/step - loss: 0.0621 - accuracy: 0.9820 - val_loss: 0.2262 - val_accuracy: 0.9458\n",
      "Epoch 58/60\n",
      "120/120 [==============================] - 4s 37ms/step - loss: 0.0639 - accuracy: 0.9823 - val_loss: 0.1793 - val_accuracy: 0.9521\n",
      "Epoch 59/60\n",
      "120/120 [==============================] - 5s 38ms/step - loss: 0.0484 - accuracy: 0.9859 - val_loss: 0.1965 - val_accuracy: 0.9583\n",
      "Epoch 60/60\n",
      "120/120 [==============================] - 4s 37ms/step - loss: 0.0617 - accuracy: 0.9854 - val_loss: 0.2571 - val_accuracy: 0.9333\n"
     ]
    }
   ],
   "source": [
    "inputs = keras.Input(shape=(100, 100, 3))\n",
    "x = inputs\n",
    "x = layers.Rescaling(1./255)(x)\n",
    "x = layers.Conv2D(32, 3, activation='relu')(x)\n",
    "x = layers.MaxPooling2D(2)(x)\n",
    "x = layers.Conv2D(32, 3, activation='relu')(x)\n",
    "x = layers.MaxPooling2D(2)(x)\n",
    "x = layers.Conv2D(64, 3, activation='relu')(x)\n",
    "x = layers.MaxPooling2D(2)(x)\n",
    "x = layers.Conv2D(128, 3, activation='relu')(x)\n",
    "x = layers.GlobalAveragePooling2D()(x)\n",
    "outputs = layers.Dense(6, activation='softmax')(x)\n",
    "\n",
    "model_overfitting = keras.Model(inputs, outputs)\n",
    "\n",
    "model_overfitting.compile(optimizer=keras.optimizers.RMSprop(0.001), loss='sparse_categorical_crossentropy', metrics=['accuracy'])\n",
    "\n",
    "model_overfitting.summary()\n",
    "\n",
    "history_overfitting = model_overfitting.fit(\n",
    "  train,\n",
    "  epochs=60,\n",
    "  validation_data=val\n",
    ")"
   ]
  },
  {
   "cell_type": "markdown",
   "metadata": {},
   "source": [
    "### 3.2 Plotting graphs"
   ]
  },
  {
   "cell_type": "code",
   "execution_count": 32,
   "metadata": {},
   "outputs": [
    {
     "data": {
      "image/png": "[encoded data removed]",
      "text/plain": [
       "<Figure size 432x288 with 1 Axes>"
      ]
     },
     "metadata": {
      "needs_background": "light"
     },
     "output_type": "display_data"
    },
    {
     "data": {
      "image/png": "[encoded data removed]",
      "text/plain": [
       "<Figure size 432x288 with 1 Axes>"
      ]
     },
     "metadata": {
      "needs_background": "light"
     },
     "output_type": "display_data"
    }
   ],
   "source": [
    "# Plotting the loss and accuracy\n",
    "plot_loss(history_overfitting)\n",
    "plot_acc(history_overfitting)"
   ]
  },
  {
   "cell_type": "markdown",
   "metadata": {},
   "source": [
    "> Observing the training and validation accuracy graph above, it can be seen that the validation accuracy starts to diverge from the training accuracy after about the 35th epoch, and the model degrades from there. This shows that overfitting is now achieved."
   ]
  },
  {
   "cell_type": "markdown",
   "metadata": {},
   "source": [
    "---\n",
    "\n",
    "*Highest Observed Validation Accuracy*: **95.83%**\n",
    "\n",
    "---"
   ]
  }
 ],
 "metadata": {
  "kernelspec": {
   "display_name": "Python 3.9.7 ('base')",
   "language": "python",
   "name": "python3"
  },
  "language_info": {
   "codemirror_mode": {
    "name": "ipython",
    "version": 3
   },
   "file_extension": ".py",
   "mimetype": "text/x-python",
   "name": "python",
   "nbconvert_exporter": "python",
   "pygments_lexer": "ipython3",
   "version": "3.9.7"
  },
  "orig_nbformat": 4,
  "vscode": {
   "interpreter": {
    "hash": "c6e4e9f98eb68ad3b7c296f83d20e6de614cb42e90992a65aa266555a3137d0d"
   }
  }
 },
 "nbformat": 4,
 "nbformat_minor": 2
}
