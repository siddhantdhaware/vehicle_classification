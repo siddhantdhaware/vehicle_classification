{
 "cells": [
  {
   "cell_type": "markdown",
   "metadata": {},
   "source": [
    "# Transfer learning by using the VTID2 dataset\n",
    "\n",
    "---"
   ]
  },
  {
   "cell_type": "markdown",
   "metadata": {},
   "source": [
    "### Importing the libraries"
   ]
  },
  {
   "cell_type": "code",
   "execution_count": 1,
   "metadata": {},
   "outputs": [],
   "source": [
    "import tensorflow as tf\n",
    "from tensorflow.keras import layers, utils\n",
    "from tensorflow import keras\n",
    "from matplotlib import pyplot as plt\n",
    "\n",
    "import sys\n",
    "sys.path.insert(0, '../helpers/')\n",
    "from plot_graphs import plot_loss, plot_acc"
   ]
  },
  {
   "cell_type": "markdown",
   "metadata": {},
   "source": [
    "### Setting batch and image size, and importing the datasets "
   ]
  },
  {
   "cell_type": "markdown",
   "metadata": {},
   "source": [
    "#### Main dataset - Zenodo"
   ]
  },
  {
   "cell_type": "code",
   "execution_count": 3,
   "metadata": {},
   "outputs": [
    {
     "name": "stdout",
     "output_type": "stream",
     "text": [
      "Found 3840 files belonging to 6 classes.\n",
      "Found 480 files belonging to 6 classes.\n",
      "Found 480 files belonging to 6 classes.\n"
     ]
    }
   ],
   "source": [
    "IMAGE_SIZE = 100\n",
    "BATCH_SIZE = 32\n",
    "\n",
    "train_zenodo = utils.image_dataset_from_directory(\"../datasets/data/split/Zenodo/train\", image_size=(IMAGE_SIZE, IMAGE_SIZE), batch_size=BATCH_SIZE)\n",
    "val_zenodo = utils.image_dataset_from_directory(\"../datasets/data/split/Zenodo/val\", image_size=(IMAGE_SIZE, IMAGE_SIZE), batch_size=BATCH_SIZE)\n",
    "test_zenodo = utils.image_dataset_from_directory(\"../datasets/data/split/Zenodo/test\", image_size=(IMAGE_SIZE, IMAGE_SIZE), batch_size=BATCH_SIZE)\n",
    "\n",
    "train_zenodo = train_zenodo.prefetch(buffer_size=tf.data.AUTOTUNE).cache()\n",
    "val_zenodo = val_zenodo.prefetch(buffer_size=tf.data.AUTOTUNE).cache()\n",
    "test_zenodo = test_zenodo.prefetch(buffer_size=tf.data.AUTOTUNE).cache()"
   ]
  },
  {
   "cell_type": "markdown",
   "metadata": {},
   "source": [
    "#### Secondary dataset - VTID2"
   ]
  },
  {
   "cell_type": "code",
   "execution_count": 3,
   "metadata": {},
   "outputs": [
    {
     "name": "stdout",
     "output_type": "stream",
     "text": [
      "Found 3484 files belonging to 5 classes.\n",
      "Found 435 files belonging to 5 classes.\n",
      "Found 437 files belonging to 5 classes.\n"
     ]
    }
   ],
   "source": [
    "train_vtid2 = utils.image_dataset_from_directory(\"../datasets/data/split/VTID2/train\", image_size=(IMAGE_SIZE, IMAGE_SIZE), batch_size=BATCH_SIZE)\n",
    "val_vtid2 = utils.image_dataset_from_directory(\"../datasets/data/split/VTID2/val\", image_size=(IMAGE_SIZE, IMAGE_SIZE), batch_size=BATCH_SIZE)\n",
    "test_vtid2 = utils.image_dataset_from_directory(\"../datasets/data/split/VTID2/test\", image_size=(IMAGE_SIZE, IMAGE_SIZE), batch_size=BATCH_SIZE)\n",
    "\n",
    "train_vtid2 = train_vtid2.prefetch(buffer_size=tf.data.AUTOTUNE).cache()\n",
    "val_vtid2 = val_vtid2.prefetch(buffer_size=tf.data.AUTOTUNE).cache()\n",
    "test_vtid2 = test_vtid2.prefetch(buffer_size=tf.data.AUTOTUNE).cache()"
   ]
  },
  {
   "cell_type": "markdown",
   "metadata": {},
   "source": [
    "## 1. Creating a model for the VTID2 dataset"
   ]
  },
  {
   "cell_type": "markdown",
   "metadata": {},
   "source": [
    "> This is the model architecture for the best model from notebook 3_tuning_model_parameters with all default hyperparameters, but ran for the VTID2 dataset which has five classes. "
   ]
  },
  {
   "cell_type": "code",
   "execution_count": 4,
   "metadata": {},
   "outputs": [
    {
     "name": "stdout",
     "output_type": "stream",
     "text": [
      "Model: \"model\"\n",
      "_________________________________________________________________\n",
      " Layer (type)                Output Shape              Param #   \n",
      "=================================================================\n",
      " input_1 (InputLayer)        [(None, 100, 100, 3)]     0         \n",
      "                                                                 \n",
      " rescaling (Rescaling)       (None, 100, 100, 3)       0         \n",
      "                                                                 \n",
      " conv2d (Conv2D)             (None, 98, 98, 32)        896       \n",
      "                                                                 \n",
      " conv2d_1 (Conv2D)           (None, 96, 96, 32)        9248      \n",
      "                                                                 \n",
      " conv2d_2 (Conv2D)           (None, 94, 94, 32)        9248      \n",
      "                                                                 \n",
      " max_pooling2d (MaxPooling2D  (None, 47, 47, 32)       0         \n",
      " )                                                               \n",
      "                                                                 \n",
      " conv2d_3 (Conv2D)           (None, 45, 45, 64)        18496     \n",
      "                                                                 \n",
      " conv2d_4 (Conv2D)           (None, 43, 43, 64)        36928     \n",
      "                                                                 \n",
      " max_pooling2d_1 (MaxPooling  (None, 21, 21, 64)       0         \n",
      " 2D)                                                             \n",
      "                                                                 \n",
      " conv2d_5 (Conv2D)           (None, 19, 19, 128)       73856     \n",
      "                                                                 \n",
      " conv2d_6 (Conv2D)           (None, 17, 17, 128)       147584    \n",
      "                                                                 \n",
      " max_pooling2d_2 (MaxPooling  (None, 8, 8, 128)        0         \n",
      " 2D)                                                             \n",
      "                                                                 \n",
      " conv2d_7 (Conv2D)           (None, 6, 6, 256)         295168    \n",
      "                                                                 \n",
      " conv2d_8 (Conv2D)           (None, 4, 4, 256)         590080    \n",
      "                                                                 \n",
      " global_average_pooling2d (G  (None, 256)              0         \n",
      " lobalAveragePooling2D)                                          \n",
      "                                                                 \n",
      " dropout (Dropout)           (None, 256)               0         \n",
      "                                                                 \n",
      " dense (Dense)               (None, 5)                 1285      \n",
      "                                                                 \n",
      "=================================================================\n",
      "Total params: 1,182,789\n",
      "Trainable params: 1,182,789\n",
      "Non-trainable params: 0\n",
      "_________________________________________________________________\n",
      "Epoch 1/40\n"
     ]
    },
    {
     "name": "stderr",
     "output_type": "stream",
     "text": [
      "2022-08-31 06:30:43.205057: W tensorflow/core/platform/profile_utils/cpu_utils.cc:128] Failed to get CPU frequency: 0 Hz\n",
      "2022-08-31 06:30:43.205180: I tensorflow/core/grappler/optimizers/custom_graph_optimizer_registry.cc:112] Plugin optimizer for device_type GPU is enabled.\n"
     ]
    },
    {
     "name": "stdout",
     "output_type": "stream",
     "text": [
      "109/109 [==============================] - ETA: 0s - loss: 1.5706 - accuracy: 0.3028"
     ]
    },
    {
     "name": "stderr",
     "output_type": "stream",
     "text": [
      "2022-08-31 06:30:54.281066: I tensorflow/core/grappler/optimizers/custom_graph_optimizer_registry.cc:112] Plugin optimizer for device_type GPU is enabled.\n"
     ]
    },
    {
     "name": "stdout",
     "output_type": "stream",
     "text": [
      "109/109 [==============================] - 12s 101ms/step - loss: 1.5706 - accuracy: 0.3028 - val_loss: 1.3660 - val_accuracy: 0.4437\n",
      "Epoch 2/40\n",
      "109/109 [==============================] - 10s 93ms/step - loss: 1.2815 - accuracy: 0.4727 - val_loss: 1.0774 - val_accuracy: 0.5494\n",
      "Epoch 3/40\n",
      "109/109 [==============================] - 10s 92ms/step - loss: 0.9870 - accuracy: 0.6180 - val_loss: 1.0698 - val_accuracy: 0.6046\n",
      "Epoch 4/40\n",
      "109/109 [==============================] - 10s 92ms/step - loss: 0.7319 - accuracy: 0.7196 - val_loss: 0.6532 - val_accuracy: 0.7586\n",
      "Epoch 5/40\n",
      "109/109 [==============================] - 10s 92ms/step - loss: 0.5559 - accuracy: 0.7945 - val_loss: 0.5822 - val_accuracy: 0.7908\n",
      "Epoch 6/40\n",
      "109/109 [==============================] - 10s 94ms/step - loss: 0.3973 - accuracy: 0.8611 - val_loss: 0.5008 - val_accuracy: 0.8299\n",
      "Epoch 7/40\n",
      "109/109 [==============================] - 10s 95ms/step - loss: 0.2820 - accuracy: 0.9024 - val_loss: 0.3885 - val_accuracy: 0.8667\n",
      "Epoch 8/40\n",
      "109/109 [==============================] - 11s 98ms/step - loss: 0.2213 - accuracy: 0.9374 - val_loss: 0.2715 - val_accuracy: 0.9241\n",
      "Epoch 9/40\n",
      "109/109 [==============================] - 10s 96ms/step - loss: 0.1436 - accuracy: 0.9558 - val_loss: 0.2403 - val_accuracy: 0.9264\n",
      "Epoch 10/40\n",
      "109/109 [==============================] - 10s 93ms/step - loss: 0.1580 - accuracy: 0.9587 - val_loss: 0.3662 - val_accuracy: 0.9011\n",
      "Epoch 11/40\n",
      "109/109 [==============================] - 10s 95ms/step - loss: 0.1138 - accuracy: 0.9676 - val_loss: 0.1038 - val_accuracy: 0.9724\n",
      "Epoch 12/40\n",
      "109/109 [==============================] - 10s 94ms/step - loss: 0.1250 - accuracy: 0.9704 - val_loss: 0.4088 - val_accuracy: 0.8989\n",
      "Epoch 13/40\n",
      "109/109 [==============================] - 10s 96ms/step - loss: 0.0855 - accuracy: 0.9753 - val_loss: 0.1209 - val_accuracy: 0.9678\n",
      "Epoch 14/40\n",
      "109/109 [==============================] - 11s 97ms/step - loss: 0.0755 - accuracy: 0.9768 - val_loss: 0.1466 - val_accuracy: 0.9563\n",
      "Epoch 15/40\n",
      "109/109 [==============================] - 10s 96ms/step - loss: 0.0855 - accuracy: 0.9779 - val_loss: 0.1508 - val_accuracy: 0.9586\n",
      "Epoch 16/40\n",
      "109/109 [==============================] - 10s 95ms/step - loss: 0.1116 - accuracy: 0.9836 - val_loss: 0.4949 - val_accuracy: 0.9241\n",
      "Epoch 17/40\n",
      "109/109 [==============================] - 11s 98ms/step - loss: 0.1087 - accuracy: 0.9765 - val_loss: 0.1287 - val_accuracy: 0.9655\n",
      "Epoch 18/40\n",
      "109/109 [==============================] - 10s 96ms/step - loss: 0.0844 - accuracy: 0.9828 - val_loss: 0.1579 - val_accuracy: 0.9701\n",
      "Epoch 19/40\n",
      "109/109 [==============================] - 10s 95ms/step - loss: 0.0707 - accuracy: 0.9839 - val_loss: 1.0688 - val_accuracy: 0.8667\n",
      "Epoch 20/40\n",
      "109/109 [==============================] - 10s 96ms/step - loss: 0.0598 - accuracy: 0.9871 - val_loss: 0.1239 - val_accuracy: 0.9678\n",
      "Epoch 21/40\n",
      "109/109 [==============================] - 11s 98ms/step - loss: 0.0535 - accuracy: 0.9868 - val_loss: 0.9878 - val_accuracy: 0.8598\n"
     ]
    }
   ],
   "source": [
    "inputs = keras.Input(shape=(100, 100, 3))\n",
    "x = inputs\n",
    "x = layers.Rescaling(1./255)(x)\n",
    "x = layers.Conv2D(32, 3, activation='relu')(x)\n",
    "x = layers.Conv2D(32, 3, activation='relu')(x)\n",
    "x = layers.Conv2D(32, 3, activation='relu')(x)\n",
    "x = layers.MaxPooling2D(2)(x)\n",
    "x = layers.Conv2D(64, 3, activation='relu')(x)\n",
    "x = layers.Conv2D(64, 3, activation='relu')(x)\n",
    "x = layers.MaxPooling2D(2)(x)\n",
    "x = layers.Conv2D(128, 3, activation='relu')(x)\n",
    "x = layers.Conv2D(128, 3, activation='relu')(x)\n",
    "x = layers.MaxPooling2D(2)(x)\n",
    "x = layers.Conv2D(256, 3, activation='relu')(x)\n",
    "x = layers.Conv2D(256, 3, activation='relu')(x)\n",
    "x = layers.GlobalAveragePooling2D()(x)\n",
    "x = layers.Dropout(0.5)(x)\n",
    "outputs = layers.Dense(5, activation='softmax')(x)\n",
    "\n",
    "model_5_vtid2 = keras.Model(inputs, outputs)\n",
    "\n",
    "model_5_vtid2.compile(optimizer=keras.optimizers.RMSprop(0.001), loss='sparse_categorical_crossentropy', metrics=['accuracy'])\n",
    "\n",
    "model_5_vtid2.summary()\n",
    "\n",
    "callbacks_list = [\n",
    "    keras.callbacks.EarlyStopping(\n",
    "        monitor=\"val_accuracy\",\n",
    "        patience=10\n",
    "    ),\n",
    "    keras.callbacks.ModelCheckpoint(\n",
    "        filepath=\"../models/5_vtid2.h5\",\n",
    "        monitor=\"val_accuracy\",\n",
    "        save_best_only=True\n",
    "    )\n",
    "]\n",
    "\n",
    "history_5_vtid2 = model_5_vtid2.fit(\n",
    "  train_vtid2,\n",
    "  epochs=40,\n",
    "  callbacks=callbacks_list,\n",
    "  validation_data=val_vtid2\n",
    ")"
   ]
  },
  {
   "cell_type": "code",
   "execution_count": 5,
   "metadata": {},
   "outputs": [
    {
     "data": {
      "image/png": "[encoded data removed]",
      "text/plain": [
       "<Figure size 432x288 with 1 Axes>"
      ]
     },
     "metadata": {
      "needs_background": "light"
     },
     "output_type": "display_data"
    },
    {
     "data": {
      "image/png": "[encoded data removed]",
      "text/plain": [
       "<Figure size 432x288 with 1 Axes>"
      ]
     },
     "metadata": {
      "needs_background": "light"
     },
     "output_type": "display_data"
    }
   ],
   "source": [
    "plot_loss(history_5_vtid2)\n",
    "plot_acc(history_5_vtid2)"
   ]
  },
  {
   "cell_type": "markdown",
   "metadata": {},
   "source": [
    "### Evaluating test accuracy on the VTID2 dataset"
   ]
  },
  {
   "cell_type": "code",
   "execution_count": 6,
   "metadata": {},
   "outputs": [
    {
     "name": "stderr",
     "output_type": "stream",
     "text": [
      "2022-08-31 06:34:23.419280: I tensorflow/core/grappler/optimizers/custom_graph_optimizer_registry.cc:112] Plugin optimizer for device_type GPU is enabled.\n"
     ]
    },
    {
     "name": "stdout",
     "output_type": "stream",
     "text": [
      "14/14 [==============================] - 1s 40ms/step - loss: 0.0914 - accuracy: 0.9748\n"
     ]
    },
    {
     "data": {
      "text/plain": [
       "[0.09135134518146515, 0.9748284220695496]"
      ]
     },
     "execution_count": 6,
     "metadata": {},
     "output_type": "execute_result"
    }
   ],
   "source": [
    "load_vtid2 = keras.models.load_model(\"../models/5_vtid2.h5\")\n",
    "load_vtid2.evaluate(test_vtid2)"
   ]
  },
  {
   "cell_type": "markdown",
   "metadata": {},
   "source": [
    "> This model worked extremely well for the VTID2 dataset with a test accuracy of 97.60%."
   ]
  },
  {
   "cell_type": "markdown",
   "metadata": {},
   "source": [
    "---\n",
    "\n",
    "*Test Accuracy*: **97.60%**\n",
    "\n",
    "---"
   ]
  },
  {
   "cell_type": "markdown",
   "metadata": {},
   "source": [
    "## 2. Partially trained model"
   ]
  },
  {
   "cell_type": "markdown",
   "metadata": {},
   "source": [
    "> Importing the trained VTID2 model shown in the section above, and training it from the 4th Conv2D layer onwards for the Zenodo dataset."
   ]
  },
  {
   "cell_type": "code",
   "execution_count": 7,
   "metadata": {},
   "outputs": [
    {
     "name": "stdout",
     "output_type": "stream",
     "text": [
      "Model: \"model_1\"\n",
      "_________________________________________________________________\n",
      " Layer (type)                Output Shape              Param #   \n",
      "=================================================================\n",
      " input_1 (InputLayer)        [(None, 100, 100, 3)]     0         \n",
      "                                                                 \n",
      " rescaling (Rescaling)       (None, 100, 100, 3)       0         \n",
      "                                                                 \n",
      " conv2d (Conv2D)             (None, 98, 98, 32)        896       \n",
      "                                                                 \n",
      " conv2d_1 (Conv2D)           (None, 96, 96, 32)        9248      \n",
      "                                                                 \n",
      " conv2d_2 (Conv2D)           (None, 94, 94, 32)        9248      \n",
      "                                                                 \n",
      " max_pooling2d (MaxPooling2D  (None, 47, 47, 32)       0         \n",
      " )                                                               \n",
      "                                                                 \n",
      " conv2d_3 (Conv2D)           (None, 45, 45, 64)        18496     \n",
      "                                                                 \n",
      " conv2d_4 (Conv2D)           (None, 43, 43, 64)        36928     \n",
      "                                                                 \n",
      " max_pooling2d_1 (MaxPooling  (None, 21, 21, 64)       0         \n",
      " 2D)                                                             \n",
      "                                                                 \n",
      " conv2d_5 (Conv2D)           (None, 19, 19, 128)       73856     \n",
      "                                                                 \n",
      " conv2d_6 (Conv2D)           (None, 17, 17, 128)       147584    \n",
      "                                                                 \n",
      " max_pooling2d_2 (MaxPooling  (None, 8, 8, 128)        0         \n",
      " 2D)                                                             \n",
      "                                                                 \n",
      " conv2d_7 (Conv2D)           (None, 6, 6, 256)         295168    \n",
      "                                                                 \n",
      " conv2d_8 (Conv2D)           (None, 4, 4, 256)         590080    \n",
      "                                                                 \n",
      " global_average_pooling2d (G  (None, 256)              0         \n",
      " lobalAveragePooling2D)                                          \n",
      "                                                                 \n",
      " dropout (Dropout)           (None, 256)               0         \n",
      "                                                                 \n",
      " classifier (Dense)          (None, 6)                 1542      \n",
      "                                                                 \n",
      "=================================================================\n",
      "Total params: 1,183,046\n",
      "Trainable params: 1,163,654\n",
      "Non-trainable params: 19,392\n",
      "_________________________________________________________________\n"
     ]
    }
   ],
   "source": [
    "vtid2 = keras.models.load_model('../models/5_vtid2.h5')\n",
    "vtid2.layers\n",
    "vtid2.trainable = False\n",
    "\n",
    "for layer in vtid2.layers[6:]:\n",
    "  layer.trainable = True\n",
    "\n",
    "x = vtid2.layers[-2].output\n",
    "outputs = layers.Dense(6, activation='softmax', name='classifier')(x)\n",
    "model_partially_trained = keras.Model(vtid2.inputs, outputs)\n",
    "model_partially_trained.compile(optimizer='rmsprop', loss='sparse_categorical_crossentropy', metrics=['accuracy'])\n",
    "\n",
    "model_partially_trained.summary()"
   ]
  },
  {
   "cell_type": "code",
   "execution_count": 8,
   "metadata": {},
   "outputs": [
    {
     "name": "stdout",
     "output_type": "stream",
     "text": [
      "Epoch 1/50\n"
     ]
    },
    {
     "name": "stderr",
     "output_type": "stream",
     "text": [
      "2022-08-31 06:34:25.095753: I tensorflow/core/grappler/optimizers/custom_graph_optimizer_registry.cc:112] Plugin optimizer for device_type GPU is enabled.\n"
     ]
    },
    {
     "name": "stdout",
     "output_type": "stream",
     "text": [
      "120/120 [==============================] - ETA: 0s - loss: 1.0369 - accuracy: 0.6128"
     ]
    },
    {
     "name": "stderr",
     "output_type": "stream",
     "text": [
      "2022-08-31 06:34:33.322686: I tensorflow/core/grappler/optimizers/custom_graph_optimizer_registry.cc:112] Plugin optimizer for device_type GPU is enabled.\n"
     ]
    },
    {
     "name": "stdout",
     "output_type": "stream",
     "text": [
      "120/120 [==============================] - 9s 69ms/step - loss: 1.0369 - accuracy: 0.6128 - val_loss: 0.5861 - val_accuracy: 0.7771\n",
      "Epoch 2/50\n",
      "120/120 [==============================] - 8s 67ms/step - loss: 0.4884 - accuracy: 0.8284 - val_loss: 0.4233 - val_accuracy: 0.8417\n",
      "Epoch 3/50\n",
      "120/120 [==============================] - 8s 66ms/step - loss: 0.2971 - accuracy: 0.8977 - val_loss: 0.3374 - val_accuracy: 0.8854\n",
      "Epoch 4/50\n",
      "120/120 [==============================] - 8s 66ms/step - loss: 0.1993 - accuracy: 0.9339 - val_loss: 0.2918 - val_accuracy: 0.9104\n",
      "Epoch 5/50\n",
      "120/120 [==============================] - 8s 67ms/step - loss: 0.1449 - accuracy: 0.9539 - val_loss: 0.3287 - val_accuracy: 0.9167\n",
      "Epoch 6/50\n",
      "120/120 [==============================] - 8s 67ms/step - loss: 0.1426 - accuracy: 0.9560 - val_loss: 0.3224 - val_accuracy: 0.9021\n",
      "Epoch 7/50\n",
      "120/120 [==============================] - 8s 67ms/step - loss: 0.0908 - accuracy: 0.9706 - val_loss: 0.2919 - val_accuracy: 0.9104\n",
      "Epoch 8/50\n",
      "120/120 [==============================] - 8s 67ms/step - loss: 0.0705 - accuracy: 0.9792 - val_loss: 0.3504 - val_accuracy: 0.9167\n",
      "Epoch 9/50\n",
      "120/120 [==============================] - 8s 67ms/step - loss: 0.0837 - accuracy: 0.9823 - val_loss: 0.6095 - val_accuracy: 0.8833\n",
      "Epoch 10/50\n",
      "120/120 [==============================] - 8s 67ms/step - loss: 0.0676 - accuracy: 0.9820 - val_loss: 0.4322 - val_accuracy: 0.8979\n",
      "Epoch 11/50\n",
      "120/120 [==============================] - 8s 68ms/step - loss: 0.0802 - accuracy: 0.9802 - val_loss: 0.3512 - val_accuracy: 0.9313\n",
      "Epoch 12/50\n",
      "120/120 [==============================] - 8s 67ms/step - loss: 0.0855 - accuracy: 0.9836 - val_loss: 0.5955 - val_accuracy: 0.8854\n",
      "Epoch 13/50\n",
      "120/120 [==============================] - 8s 68ms/step - loss: 0.0756 - accuracy: 0.9828 - val_loss: 0.3731 - val_accuracy: 0.9229\n",
      "Epoch 14/50\n",
      "120/120 [==============================] - 8s 68ms/step - loss: 0.0493 - accuracy: 0.9883 - val_loss: 0.4404 - val_accuracy: 0.9333\n",
      "Epoch 15/50\n",
      "120/120 [==============================] - 8s 68ms/step - loss: 0.0502 - accuracy: 0.9867 - val_loss: 0.3552 - val_accuracy: 0.9375\n",
      "Epoch 16/50\n",
      "120/120 [==============================] - 8s 68ms/step - loss: 0.0593 - accuracy: 0.9849 - val_loss: 0.4823 - val_accuracy: 0.9063\n",
      "Epoch 17/50\n",
      "120/120 [==============================] - 8s 68ms/step - loss: 0.0662 - accuracy: 0.9849 - val_loss: 0.4572 - val_accuracy: 0.9167\n",
      "Epoch 18/50\n",
      "120/120 [==============================] - 8s 68ms/step - loss: 0.0504 - accuracy: 0.9888 - val_loss: 0.4806 - val_accuracy: 0.9292\n",
      "Epoch 19/50\n",
      "120/120 [==============================] - 8s 67ms/step - loss: 0.0746 - accuracy: 0.9865 - val_loss: 0.4656 - val_accuracy: 0.9292\n",
      "Epoch 20/50\n",
      "120/120 [==============================] - 8s 67ms/step - loss: 0.0451 - accuracy: 0.9919 - val_loss: 0.5564 - val_accuracy: 0.9313\n",
      "Epoch 21/50\n",
      "120/120 [==============================] - 8s 66ms/step - loss: 0.0725 - accuracy: 0.9888 - val_loss: 0.5521 - val_accuracy: 0.9271\n",
      "Epoch 22/50\n",
      "120/120 [==============================] - 8s 70ms/step - loss: 0.0674 - accuracy: 0.9888 - val_loss: 0.6096 - val_accuracy: 0.9271\n",
      "Epoch 23/50\n",
      "120/120 [==============================] - 8s 71ms/step - loss: 0.0748 - accuracy: 0.9898 - val_loss: 0.8996 - val_accuracy: 0.9396\n",
      "Epoch 24/50\n",
      "120/120 [==============================] - 8s 70ms/step - loss: 0.0627 - accuracy: 0.9891 - val_loss: 1.4421 - val_accuracy: 0.8750\n",
      "Epoch 25/50\n",
      "120/120 [==============================] - 9s 71ms/step - loss: 0.0904 - accuracy: 0.9888 - val_loss: 0.9470 - val_accuracy: 0.9104\n",
      "Epoch 26/50\n",
      "120/120 [==============================] - 8s 71ms/step - loss: 0.0563 - accuracy: 0.9901 - val_loss: 1.5136 - val_accuracy: 0.9125\n",
      "Epoch 27/50\n",
      "120/120 [==============================] - 8s 71ms/step - loss: 0.0567 - accuracy: 0.9911 - val_loss: 0.5553 - val_accuracy: 0.9396\n",
      "Epoch 28/50\n",
      "120/120 [==============================] - 9s 72ms/step - loss: 0.0594 - accuracy: 0.9904 - val_loss: 0.5279 - val_accuracy: 0.9354\n",
      "Epoch 29/50\n",
      "120/120 [==============================] - 9s 73ms/step - loss: 0.0887 - accuracy: 0.9906 - val_loss: 0.5145 - val_accuracy: 0.9396\n",
      "Epoch 30/50\n",
      "120/120 [==============================] - 9s 74ms/step - loss: 0.0396 - accuracy: 0.9924 - val_loss: 0.5847 - val_accuracy: 0.9229\n",
      "Epoch 31/50\n",
      "120/120 [==============================] - 9s 73ms/step - loss: 0.0505 - accuracy: 0.9909 - val_loss: 0.8876 - val_accuracy: 0.9125\n",
      "Epoch 32/50\n",
      "120/120 [==============================] - 9s 72ms/step - loss: 0.0628 - accuracy: 0.9938 - val_loss: 0.9278 - val_accuracy: 0.9125\n",
      "Epoch 33/50\n",
      "120/120 [==============================] - 9s 73ms/step - loss: 0.0374 - accuracy: 0.9932 - val_loss: 0.7928 - val_accuracy: 0.9292\n"
     ]
    }
   ],
   "source": [
    "callbacks_list = [\n",
    "    keras.callbacks.EarlyStopping(\n",
    "        monitor=\"val_accuracy\",\n",
    "        patience=10\n",
    "    ),\n",
    "    keras.callbacks.ModelCheckpoint(\n",
    "        filepath=\"../models/5_partially_trainable.h5\",\n",
    "        monitor=\"val_accuracy\",\n",
    "        save_best_only=True\n",
    "    )\n",
    "]\n",
    "\n",
    "history_partially_trained = model_partially_trained.fit(\n",
    "  train_zenodo,\n",
    "  epochs=50,\n",
    "  callbacks=callbacks_list,\n",
    "  validation_data=val_zenodo\n",
    ")"
   ]
  },
  {
   "cell_type": "code",
   "execution_count": 9,
   "metadata": {},
   "outputs": [
    {
     "data": {
      "image/png": "[encoded data removed]",
      "text/plain": [
       "<Figure size 432x288 with 1 Axes>"
      ]
     },
     "metadata": {
      "needs_background": "light"
     },
     "output_type": "display_data"
    },
    {
     "data": {
      "image/png": "[encoded data removed]",
      "text/plain": [
       "<Figure size 432x288 with 1 Axes>"
      ]
     },
     "metadata": {
      "needs_background": "light"
     },
     "output_type": "display_data"
    }
   ],
   "source": [
    "plot_loss(history_partially_trained)\n",
    "plot_acc(history_partially_trained)"
   ]
  },
  {
   "cell_type": "markdown",
   "metadata": {},
   "source": [
    "### Evaluating test accuracy on the partially trainable model"
   ]
  },
  {
   "cell_type": "code",
   "execution_count": 10,
   "metadata": {},
   "outputs": [
    {
     "name": "stderr",
     "output_type": "stream",
     "text": [
      "2022-08-31 06:38:59.200587: I tensorflow/core/grappler/optimizers/custom_graph_optimizer_registry.cc:112] Plugin optimizer for device_type GPU is enabled.\n"
     ]
    },
    {
     "name": "stdout",
     "output_type": "stream",
     "text": [
      "15/15 [==============================] - 1s 34ms/step - loss: 1.3669 - accuracy: 0.9125\n"
     ]
    },
    {
     "data": {
      "text/plain": [
       "[1.3669360876083374, 0.9125000238418579]"
      ]
     },
     "execution_count": 10,
     "metadata": {},
     "output_type": "execute_result"
    }
   ],
   "source": [
    "load_partially_trainable = keras.models.load_model(\"../models/5_partially_trainable.h5\")\n",
    "load_partially_trainable.evaluate(test_zenodo)"
   ]
  },
  {
   "cell_type": "markdown",
   "metadata": {},
   "source": [
    "> This gives a test accuracy of 91.25% which definitely does not beat the best model for the Zenodo dataset. "
   ]
  },
  {
   "cell_type": "markdown",
   "metadata": {},
   "source": [
    "---\n",
    "\n",
    "*Test Accuracy*: **91.25%**\n",
    "\n",
    "---"
   ]
  },
  {
   "cell_type": "markdown",
   "metadata": {},
   "source": [
    "## 3. All Trainable"
   ]
  },
  {
   "cell_type": "markdown",
   "metadata": {},
   "source": [
    "> In this model, we again use the trained VTID2 model from section 1 of this notebook, but this time, set all layer to trainable and train it on the Zenodo dataset."
   ]
  },
  {
   "cell_type": "code",
   "execution_count": 11,
   "metadata": {},
   "outputs": [
    {
     "name": "stdout",
     "output_type": "stream",
     "text": [
      "Model: \"model_2\"\n",
      "_________________________________________________________________\n",
      " Layer (type)                Output Shape              Param #   \n",
      "=================================================================\n",
      " input_1 (InputLayer)        [(None, 100, 100, 3)]     0         \n",
      "                                                                 \n",
      " rescaling (Rescaling)       (None, 100, 100, 3)       0         \n",
      "                                                                 \n",
      " conv2d (Conv2D)             (None, 98, 98, 32)        896       \n",
      "                                                                 \n",
      " conv2d_1 (Conv2D)           (None, 96, 96, 32)        9248      \n",
      "                                                                 \n",
      " conv2d_2 (Conv2D)           (None, 94, 94, 32)        9248      \n",
      "                                                                 \n",
      " max_pooling2d (MaxPooling2D  (None, 47, 47, 32)       0         \n",
      " )                                                               \n",
      "                                                                 \n",
      " conv2d_3 (Conv2D)           (None, 45, 45, 64)        18496     \n",
      "                                                                 \n",
      " conv2d_4 (Conv2D)           (None, 43, 43, 64)        36928     \n",
      "                                                                 \n",
      " max_pooling2d_1 (MaxPooling  (None, 21, 21, 64)       0         \n",
      " 2D)                                                             \n",
      "                                                                 \n",
      " conv2d_5 (Conv2D)           (None, 19, 19, 128)       73856     \n",
      "                                                                 \n",
      " conv2d_6 (Conv2D)           (None, 17, 17, 128)       147584    \n",
      "                                                                 \n",
      " max_pooling2d_2 (MaxPooling  (None, 8, 8, 128)        0         \n",
      " 2D)                                                             \n",
      "                                                                 \n",
      " conv2d_7 (Conv2D)           (None, 6, 6, 256)         295168    \n",
      "                                                                 \n",
      " conv2d_8 (Conv2D)           (None, 4, 4, 256)         590080    \n",
      "                                                                 \n",
      " global_average_pooling2d (G  (None, 256)              0         \n",
      " lobalAveragePooling2D)                                          \n",
      "                                                                 \n",
      " dropout (Dropout)           (None, 256)               0         \n",
      "                                                                 \n",
      " classifier (Dense)          (None, 6)                 1542      \n",
      "                                                                 \n",
      "=================================================================\n",
      "Total params: 1,183,046\n",
      "Trainable params: 1,183,046\n",
      "Non-trainable params: 0\n",
      "_________________________________________________________________\n"
     ]
    }
   ],
   "source": [
    "vtid2 = keras.models.load_model('../models/5_vtid2.h5')\n",
    "\n",
    "x = vtid2.layers[-2].output\n",
    "outputs = keras.layers.Dense(6, activation='softmax', name='classifier')(x)\n",
    "all_trainable = keras.Model(vtid2.inputs, outputs)\n",
    "all_trainable.compile(optimizer='rmsprop', loss='sparse_categorical_crossentropy', metrics=['accuracy'])\n",
    "all_trainable.summary()"
   ]
  },
  {
   "cell_type": "code",
   "execution_count": 12,
   "metadata": {},
   "outputs": [
    {
     "name": "stdout",
     "output_type": "stream",
     "text": [
      "Epoch 1/50\n"
     ]
    },
    {
     "name": "stderr",
     "output_type": "stream",
     "text": [
      "2022-08-31 06:39:00.621141: I tensorflow/core/grappler/optimizers/custom_graph_optimizer_registry.cc:112] Plugin optimizer for device_type GPU is enabled.\n"
     ]
    },
    {
     "name": "stdout",
     "output_type": "stream",
     "text": [
      "120/120 [==============================] - ETA: 0s - loss: 1.1481 - accuracy: 0.5664"
     ]
    },
    {
     "name": "stderr",
     "output_type": "stream",
     "text": [
      "2022-08-31 06:39:13.758465: I tensorflow/core/grappler/optimizers/custom_graph_optimizer_registry.cc:112] Plugin optimizer for device_type GPU is enabled.\n"
     ]
    },
    {
     "name": "stdout",
     "output_type": "stream",
     "text": [
      "120/120 [==============================] - 14s 109ms/step - loss: 1.1481 - accuracy: 0.5664 - val_loss: 0.5334 - val_accuracy: 0.8125\n",
      "Epoch 2/50\n",
      "120/120 [==============================] - 13s 111ms/step - loss: 0.5261 - accuracy: 0.8109 - val_loss: 0.3523 - val_accuracy: 0.8729\n",
      "Epoch 3/50\n",
      "120/120 [==============================] - 13s 111ms/step - loss: 0.3333 - accuracy: 0.8828 - val_loss: 0.2940 - val_accuracy: 0.9104\n",
      "Epoch 4/50\n",
      "120/120 [==============================] - 13s 111ms/step - loss: 0.2259 - accuracy: 0.9214 - val_loss: 0.2994 - val_accuracy: 0.9021\n",
      "Epoch 5/50\n",
      "120/120 [==============================] - 13s 108ms/step - loss: 0.1748 - accuracy: 0.9422 - val_loss: 0.2834 - val_accuracy: 0.9083\n",
      "Epoch 6/50\n",
      "120/120 [==============================] - 13s 111ms/step - loss: 0.1312 - accuracy: 0.9617 - val_loss: 0.2071 - val_accuracy: 0.9375\n",
      "Epoch 7/50\n",
      "120/120 [==============================] - 13s 110ms/step - loss: 0.1146 - accuracy: 0.9654 - val_loss: 0.3813 - val_accuracy: 0.9208\n",
      "Epoch 8/50\n",
      "120/120 [==============================] - 13s 109ms/step - loss: 0.0785 - accuracy: 0.9763 - val_loss: 0.4067 - val_accuracy: 0.9354\n",
      "Epoch 9/50\n",
      "120/120 [==============================] - 14s 119ms/step - loss: 0.0841 - accuracy: 0.9750 - val_loss: 0.2522 - val_accuracy: 0.9313\n",
      "Epoch 10/50\n",
      "120/120 [==============================] - 14s 119ms/step - loss: 0.0877 - accuracy: 0.9797 - val_loss: 0.6686 - val_accuracy: 0.8333\n",
      "Epoch 11/50\n",
      "120/120 [==============================] - 14s 118ms/step - loss: 0.0890 - accuracy: 0.9823 - val_loss: 0.3862 - val_accuracy: 0.9354\n",
      "Epoch 12/50\n",
      "120/120 [==============================] - 14s 120ms/step - loss: 0.0861 - accuracy: 0.9797 - val_loss: 0.3154 - val_accuracy: 0.9333\n",
      "Epoch 13/50\n",
      "120/120 [==============================] - 14s 118ms/step - loss: 0.1094 - accuracy: 0.9781 - val_loss: 0.2392 - val_accuracy: 0.9333\n",
      "Epoch 14/50\n",
      "120/120 [==============================] - 14s 118ms/step - loss: 0.0595 - accuracy: 0.9826 - val_loss: 0.5188 - val_accuracy: 0.9188\n",
      "Epoch 15/50\n",
      "120/120 [==============================] - 14s 117ms/step - loss: 0.1128 - accuracy: 0.9802 - val_loss: 0.3482 - val_accuracy: 0.9500\n",
      "Epoch 16/50\n",
      "120/120 [==============================] - 14s 116ms/step - loss: 0.0615 - accuracy: 0.9849 - val_loss: 0.2678 - val_accuracy: 0.9521\n",
      "Epoch 17/50\n",
      "120/120 [==============================] - 14s 116ms/step - loss: 0.0887 - accuracy: 0.9807 - val_loss: 0.3399 - val_accuracy: 0.9604\n",
      "Epoch 18/50\n",
      "120/120 [==============================] - 14s 116ms/step - loss: 0.0840 - accuracy: 0.9799 - val_loss: 0.3087 - val_accuracy: 0.9521\n",
      "Epoch 19/50\n",
      "120/120 [==============================] - 14s 117ms/step - loss: 0.0563 - accuracy: 0.9872 - val_loss: 0.4022 - val_accuracy: 0.9458\n",
      "Epoch 20/50\n",
      "120/120 [==============================] - 14s 117ms/step - loss: 0.0698 - accuracy: 0.9880 - val_loss: 0.3496 - val_accuracy: 0.9542\n",
      "Epoch 21/50\n",
      "120/120 [==============================] - 14s 116ms/step - loss: 0.0544 - accuracy: 0.9878 - val_loss: 0.5246 - val_accuracy: 0.9458\n",
      "Epoch 22/50\n",
      "120/120 [==============================] - 14s 116ms/step - loss: 0.1117 - accuracy: 0.9880 - val_loss: 0.3742 - val_accuracy: 0.9521\n",
      "Epoch 23/50\n",
      "120/120 [==============================] - 14s 116ms/step - loss: 0.0676 - accuracy: 0.9883 - val_loss: 0.3451 - val_accuracy: 0.9271\n",
      "Epoch 24/50\n",
      "120/120 [==============================] - 14s 116ms/step - loss: 0.0614 - accuracy: 0.9888 - val_loss: 0.5622 - val_accuracy: 0.9417\n",
      "Epoch 25/50\n",
      "120/120 [==============================] - 14s 116ms/step - loss: 0.0686 - accuracy: 0.9867 - val_loss: 0.4002 - val_accuracy: 0.9479\n",
      "Epoch 26/50\n",
      "120/120 [==============================] - 14s 116ms/step - loss: 0.0648 - accuracy: 0.9883 - val_loss: 0.2838 - val_accuracy: 0.9479\n",
      "Epoch 27/50\n",
      "120/120 [==============================] - 14s 116ms/step - loss: 0.0639 - accuracy: 0.9919 - val_loss: 0.4590 - val_accuracy: 0.9333\n"
     ]
    }
   ],
   "source": [
    "callbacks_list = [\n",
    "    keras.callbacks.EarlyStopping(\n",
    "        monitor=\"val_accuracy\",\n",
    "        patience=10\n",
    "    ),\n",
    "    keras.callbacks.ModelCheckpoint(\n",
    "        filepath=\"../models/5_all_trainable.h5\",\n",
    "        monitor=\"val_accuracy\",\n",
    "        save_best_only=True\n",
    "    )\n",
    "]\n",
    "\n",
    "history_all_trainable = all_trainable.fit(\n",
    "  train_zenodo,\n",
    "  epochs=50,\n",
    "  callbacks=callbacks_list,\n",
    "  validation_data=val_zenodo\n",
    ")"
   ]
  },
  {
   "cell_type": "code",
   "execution_count": 13,
   "metadata": {},
   "outputs": [
    {
     "data": {
      "image/png": "[encoded data removed]",
      "text/plain": [
       "<Figure size 432x288 with 1 Axes>"
      ]
     },
     "metadata": {
      "needs_background": "light"
     },
     "output_type": "display_data"
    },
    {
     "data": {
      "image/png": "[encoded data removed]",
      "text/plain": [
       "<Figure size 432x288 with 1 Axes>"
      ]
     },
     "metadata": {
      "needs_background": "light"
     },
     "output_type": "display_data"
    }
   ],
   "source": [
    "plot_loss(history_all_trainable)\n",
    "plot_acc(history_all_trainable)"
   ]
  },
  {
   "cell_type": "markdown",
   "metadata": {},
   "source": [
    "### Evaluating test accuracy on the all trainable model"
   ]
  },
  {
   "cell_type": "code",
   "execution_count": 14,
   "metadata": {},
   "outputs": [
    {
     "name": "stderr",
     "output_type": "stream",
     "text": [
      "2022-08-31 06:45:14.719432: I tensorflow/core/grappler/optimizers/custom_graph_optimizer_registry.cc:112] Plugin optimizer for device_type GPU is enabled.\n"
     ]
    },
    {
     "name": "stdout",
     "output_type": "stream",
     "text": [
      "15/15 [==============================] - 1s 33ms/step - loss: 0.5147 - accuracy: 0.9333\n"
     ]
    },
    {
     "data": {
      "text/plain": [
       "[0.5147273540496826, 0.9333333969116211]"
      ]
     },
     "execution_count": 14,
     "metadata": {},
     "output_type": "execute_result"
    }
   ],
   "source": [
    "all_trainable_model = keras.models.load_model(\"../models/5_all_trainable.h5\")\n",
    "all_trainable_model.evaluate(test_zenodo)"
   ]
  },
  {
   "cell_type": "markdown",
   "metadata": {},
   "source": [
    "> This model gives a test accuracy of 93.33% which is excellent, and comes very close to the best accuracy of Zenodo model. But the fact remains that despite using transfer learning, it does not beat the best accuracy of the best Zenodo model."
   ]
  },
  {
   "cell_type": "markdown",
   "metadata": {},
   "source": [
    "---\n",
    "\n",
    "*Test Accuracy*: **93.33%**\n",
    "\n",
    "---"
   ]
  }
 ],
 "metadata": {
  "kernelspec": {
   "display_name": "Python 3.9.7 ('base')",
   "language": "python",
   "name": "python3"
  },
  "language_info": {
   "codemirror_mode": {
    "name": "ipython",
    "version": 3
   },
   "file_extension": ".py",
   "mimetype": "text/x-python",
   "name": "python",
   "nbconvert_exporter": "python",
   "pygments_lexer": "ipython3",
   "version": "3.9.7"
  },
  "orig_nbformat": 4,
  "vscode": {
   "interpreter": {
    "hash": "c6e4e9f98eb68ad3b7c296f83d20e6de614cb42e90992a65aa266555a3137d0d"
   }
  }
 },
 "nbformat": 4,
 "nbformat_minor": 2
}
