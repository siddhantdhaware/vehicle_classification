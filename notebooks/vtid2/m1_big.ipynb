{
 "cells": [
  {
   "cell_type": "markdown",
   "metadata": {},
   "source": [
    "# Importing the libraries"
   ]
  },
  {
   "cell_type": "code",
   "execution_count": 1,
   "metadata": {},
   "outputs": [],
   "source": [
    "import tensorflow as tf\n",
    "from tensorflow.keras import layers, utils\n",
    "from tensorflow import keras\n",
    "from matplotlib import pyplot as plt\n",
    "\n",
    "import sys\n",
    "sys.path.insert(0, '../../')\n",
    "from plot_graphs import plot_loss, plot_acc"
   ]
  },
  {
   "cell_type": "markdown",
   "metadata": {},
   "source": [
    "# Setting Image and Batch Size"
   ]
  },
  {
   "cell_type": "code",
   "execution_count": 2,
   "metadata": {},
   "outputs": [],
   "source": [
    "IMAGE_SIZE = 100\n",
    "BATCH_SIZE = 32"
   ]
  },
  {
   "cell_type": "markdown",
   "metadata": {},
   "source": [
    "# Loading the train, val, and test data"
   ]
  },
  {
   "cell_type": "code",
   "execution_count": 3,
   "metadata": {},
   "outputs": [
    {
     "name": "stdout",
     "output_type": "stream",
     "text": [
      "Found 3048 files belonging to 5 classes.\n",
      "Metal device set to: Apple M1\n",
      "\n",
      "systemMemory: 16.00 GB\n",
      "maxCacheSize: 5.33 GB\n",
      "\n",
      "Found 652 files belonging to 5 classes.\n",
      "Found 656 files belonging to 5 classes.\n"
     ]
    },
    {
     "name": "stderr",
     "output_type": "stream",
     "text": [
      "2022-08-03 13:37:48.601951: I tensorflow/core/common_runtime/pluggable_device/pluggable_device_factory.cc:305] Could not identify NUMA node of platform GPU ID 0, defaulting to 0. Your kernel may not have been built with NUMA support.\n",
      "2022-08-03 13:37:48.602053: I tensorflow/core/common_runtime/pluggable_device/pluggable_device_factory.cc:271] Created TensorFlow device (/job:localhost/replica:0/task:0/device:GPU:0 with 0 MB memory) -> physical PluggableDevice (device: 0, name: METAL, pci bus id: <undefined>)\n"
     ]
    }
   ],
   "source": [
    "train = utils.image_dataset_from_directory(\"../../datasets/data/split/VTID2/train\", image_size=(IMAGE_SIZE, IMAGE_SIZE), batch_size=BATCH_SIZE)\n",
    "val = utils.image_dataset_from_directory(\"../../datasets/data/split/VTID2/val\", image_size=(IMAGE_SIZE, IMAGE_SIZE), batch_size=BATCH_SIZE)\n",
    "test = utils.image_dataset_from_directory(\"../../datasets/data/split/VTID2/test\", image_size=(IMAGE_SIZE, IMAGE_SIZE), batch_size=BATCH_SIZE)"
   ]
  },
  {
   "cell_type": "markdown",
   "metadata": {},
   "source": [
    "# Defining the model"
   ]
  },
  {
   "cell_type": "code",
   "execution_count": 4,
   "metadata": {},
   "outputs": [
    {
     "name": "stdout",
     "output_type": "stream",
     "text": [
      "Model: \"model\"\n",
      "_________________________________________________________________\n",
      " Layer (type)                Output Shape              Param #   \n",
      "=================================================================\n",
      " input_1 (InputLayer)        [(None, 100, 100, 3)]     0         \n",
      "                                                                 \n",
      " rescaling (Rescaling)       (None, 100, 100, 3)       0         \n",
      "                                                                 \n",
      " conv2d (Conv2D)             (None, 98, 98, 32)        896       \n",
      "                                                                 \n",
      " conv2d_1 (Conv2D)           (None, 96, 96, 32)        9248      \n",
      "                                                                 \n",
      " conv2d_2 (Conv2D)           (None, 94, 94, 32)        9248      \n",
      "                                                                 \n",
      " max_pooling2d (MaxPooling2D  (None, 47, 47, 32)       0         \n",
      " )                                                               \n",
      "                                                                 \n",
      " conv2d_3 (Conv2D)           (None, 45, 45, 64)        18496     \n",
      "                                                                 \n",
      " conv2d_4 (Conv2D)           (None, 43, 43, 64)        36928     \n",
      "                                                                 \n",
      " max_pooling2d_1 (MaxPooling  (None, 21, 21, 64)       0         \n",
      " 2D)                                                             \n",
      "                                                                 \n",
      " conv2d_5 (Conv2D)           (None, 19, 19, 128)       73856     \n",
      "                                                                 \n",
      " conv2d_6 (Conv2D)           (None, 17, 17, 128)       147584    \n",
      "                                                                 \n",
      " max_pooling2d_2 (MaxPooling  (None, 8, 8, 128)        0         \n",
      " 2D)                                                             \n",
      "                                                                 \n",
      " conv2d_7 (Conv2D)           (None, 6, 6, 256)         295168    \n",
      "                                                                 \n",
      " conv2d_8 (Conv2D)           (None, 4, 4, 256)         590080    \n",
      "                                                                 \n",
      " global_average_pooling2d (G  (None, 256)              0         \n",
      " lobalAveragePooling2D)                                          \n",
      "                                                                 \n",
      " dense (Dense)               (None, 256)               65792     \n",
      "                                                                 \n",
      " dropout (Dropout)           (None, 256)               0         \n",
      "                                                                 \n",
      " dense_1 (Dense)             (None, 5)                 1285      \n",
      "                                                                 \n",
      "=================================================================\n",
      "Total params: 1,248,581\n",
      "Trainable params: 1,248,581\n",
      "Non-trainable params: 0\n",
      "_________________________________________________________________\n"
     ]
    }
   ],
   "source": [
    "inputs = keras.Input(shape=(100, 100, 3))\n",
    "x = inputs\n",
    "x = layers.Rescaling(1./255)(x)\n",
    "x = layers.Conv2D(32, 3, activation='relu')(x)\n",
    "x = layers.Conv2D(32, 3, activation='relu')(x)\n",
    "x = layers.Conv2D(32, 3, activation='relu')(x)\n",
    "x = layers.MaxPooling2D(2)(x)\n",
    "x = layers.Conv2D(64, 3, activation='relu')(x)\n",
    "x = layers.Conv2D(64, 3, activation='relu')(x)\n",
    "x = layers.MaxPooling2D(2)(x)\n",
    "x = layers.Conv2D(128, 3, activation='relu')(x)\n",
    "x = layers.Conv2D(128, 3, activation='relu')(x)\n",
    "x = layers.MaxPooling2D(2)(x)\n",
    "x = layers.Conv2D(256, 3, activation='relu')(x)\n",
    "x = layers.Conv2D(256, 3, activation='relu')(x)\n",
    "x = layers.GlobalAveragePooling2D()(x)\n",
    "x = layers.Dense(256, activation='relu')(x)\n",
    "x = layers.Dropout(0.5)(x)\n",
    "outputs = layers.Dense(5, activation='softmax')(x)\n",
    "\n",
    "model = keras.Model(inputs, outputs)\n",
    "\n",
    "model.compile(optimizer=keras.optimizers.RMSprop(0.001), loss='sparse_categorical_crossentropy', metrics=['accuracy'])\n",
    "\n",
    "model.summary()"
   ]
  },
  {
   "cell_type": "markdown",
   "metadata": {},
   "source": [
    "# Adding Callbacks"
   ]
  },
  {
   "cell_type": "code",
   "execution_count": 5,
   "metadata": {},
   "outputs": [],
   "source": [
    "callbacks_list = [\n",
    "    keras.callbacks.EarlyStopping(\n",
    "        monitor=\"val_accuracy\",\n",
    "        patience=8\n",
    "    ),\n",
    "    keras.callbacks.ModelCheckpoint(\n",
    "        filepath=\"../../models/vtid2/m1_big.h5\",\n",
    "        monitor=\"val_accuracy\",\n",
    "        save_best_only=True\n",
    "    )\n",
    "]"
   ]
  },
  {
   "cell_type": "markdown",
   "metadata": {},
   "source": [
    "# Running the model"
   ]
  },
  {
   "cell_type": "code",
   "execution_count": 6,
   "metadata": {},
   "outputs": [
    {
     "name": "stdout",
     "output_type": "stream",
     "text": [
      "Epoch 1/40\n"
     ]
    },
    {
     "name": "stderr",
     "output_type": "stream",
     "text": [
      "2022-08-03 13:37:49.795262: W tensorflow/core/platform/profile_utils/cpu_utils.cc:128] Failed to get CPU frequency: 0 Hz\n",
      "2022-08-03 13:37:49.795366: I tensorflow/core/grappler/optimizers/custom_graph_optimizer_registry.cc:112] Plugin optimizer for device_type GPU is enabled.\n"
     ]
    },
    {
     "name": "stdout",
     "output_type": "stream",
     "text": [
      "96/96 [==============================] - ETA: 0s - loss: 1.9663 - accuracy: 0.3143"
     ]
    },
    {
     "name": "stderr",
     "output_type": "stream",
     "text": [
      "2022-08-03 13:38:03.793073: I tensorflow/core/grappler/optimizers/custom_graph_optimizer_registry.cc:112] Plugin optimizer for device_type GPU is enabled.\n"
     ]
    },
    {
     "name": "stdout",
     "output_type": "stream",
     "text": [
      "96/96 [==============================] - 15s 108ms/step - loss: 1.9663 - accuracy: 0.3143 - val_loss: 1.8708 - val_accuracy: 0.2822\n",
      "Epoch 2/40\n",
      "96/96 [==============================] - 9s 97ms/step - loss: 1.5028 - accuracy: 0.3688 - val_loss: 1.5188 - val_accuracy: 0.2929\n",
      "Epoch 3/40\n",
      "96/96 [==============================] - 9s 99ms/step - loss: 1.2356 - accuracy: 0.5190 - val_loss: 1.2118 - val_accuracy: 0.4908\n",
      "Epoch 4/40\n",
      "96/96 [==============================] - 9s 93ms/step - loss: 0.9612 - accuracy: 0.6411 - val_loss: 1.0877 - val_accuracy: 0.6043\n",
      "Epoch 5/40\n",
      "96/96 [==============================] - 9s 91ms/step - loss: 0.7702 - accuracy: 0.7057 - val_loss: 0.6369 - val_accuracy: 0.7546\n",
      "Epoch 6/40\n",
      "96/96 [==============================] - 9s 91ms/step - loss: 0.5725 - accuracy: 0.7831 - val_loss: 1.1396 - val_accuracy: 0.6917\n",
      "Epoch 7/40\n",
      "96/96 [==============================] - 9s 91ms/step - loss: 0.4642 - accuracy: 0.8346 - val_loss: 0.6813 - val_accuracy: 0.7623\n",
      "Epoch 8/40\n",
      "96/96 [==============================] - 9s 91ms/step - loss: 0.3832 - accuracy: 0.8734 - val_loss: 2.2718 - val_accuracy: 0.5936\n",
      "Epoch 9/40\n",
      "96/96 [==============================] - 9s 90ms/step - loss: 0.2830 - accuracy: 0.9012 - val_loss: 1.5568 - val_accuracy: 0.7485\n",
      "Epoch 10/40\n",
      "96/96 [==============================] - 9s 91ms/step - loss: 0.2456 - accuracy: 0.9272 - val_loss: 0.2118 - val_accuracy: 0.9126\n",
      "Epoch 11/40\n",
      "96/96 [==============================] - 9s 90ms/step - loss: 0.1654 - accuracy: 0.9429 - val_loss: 0.5826 - val_accuracy: 0.8819\n",
      "Epoch 12/40\n",
      "96/96 [==============================] - 9s 93ms/step - loss: 0.1930 - accuracy: 0.9377 - val_loss: 0.1474 - val_accuracy: 0.9387\n",
      "Epoch 13/40\n",
      "96/96 [==============================] - 9s 91ms/step - loss: 0.1321 - accuracy: 0.9629 - val_loss: 0.1443 - val_accuracy: 0.9540\n",
      "Epoch 14/40\n",
      "96/96 [==============================] - 9s 91ms/step - loss: 0.1280 - accuracy: 0.9633 - val_loss: 0.6800 - val_accuracy: 0.8466\n",
      "Epoch 15/40\n",
      "96/96 [==============================] - 9s 91ms/step - loss: 0.1170 - accuracy: 0.9715 - val_loss: 0.0831 - val_accuracy: 0.9601\n",
      "Epoch 16/40\n",
      "96/96 [==============================] - 9s 97ms/step - loss: 0.1144 - accuracy: 0.9718 - val_loss: 0.1157 - val_accuracy: 0.9555\n",
      "Epoch 17/40\n",
      "96/96 [==============================] - 9s 94ms/step - loss: 0.1207 - accuracy: 0.9711 - val_loss: 0.0576 - val_accuracy: 0.9801\n",
      "Epoch 18/40\n",
      "96/96 [==============================] - 9s 93ms/step - loss: 0.1156 - accuracy: 0.9820 - val_loss: 0.1018 - val_accuracy: 0.9693\n",
      "Epoch 19/40\n",
      "96/96 [==============================] - 9s 93ms/step - loss: 0.0956 - accuracy: 0.9777 - val_loss: 0.0779 - val_accuracy: 0.9724\n",
      "Epoch 20/40\n",
      "96/96 [==============================] - 9s 93ms/step - loss: 0.0767 - accuracy: 0.9829 - val_loss: 0.2907 - val_accuracy: 0.9233\n",
      "Epoch 21/40\n",
      "96/96 [==============================] - 9s 93ms/step - loss: 0.0649 - accuracy: 0.9843 - val_loss: 0.0242 - val_accuracy: 0.9923\n",
      "Epoch 22/40\n",
      "96/96 [==============================] - 9s 94ms/step - loss: 0.0924 - accuracy: 0.9806 - val_loss: 0.0358 - val_accuracy: 0.9847\n",
      "Epoch 23/40\n",
      "96/96 [==============================] - 9s 94ms/step - loss: 0.0742 - accuracy: 0.9852 - val_loss: 0.2373 - val_accuracy: 0.9433\n",
      "Epoch 24/40\n",
      "96/96 [==============================] - 9s 94ms/step - loss: 0.0744 - accuracy: 0.9833 - val_loss: 0.1361 - val_accuracy: 0.9693\n",
      "Epoch 25/40\n",
      "96/96 [==============================] - 9s 94ms/step - loss: 0.1602 - accuracy: 0.9797 - val_loss: 0.1169 - val_accuracy: 0.9739\n",
      "Epoch 26/40\n",
      "96/96 [==============================] - 9s 95ms/step - loss: 0.1197 - accuracy: 0.9797 - val_loss: 0.0422 - val_accuracy: 0.9877\n",
      "Epoch 27/40\n",
      "96/96 [==============================] - 9s 96ms/step - loss: 0.0723 - accuracy: 0.9892 - val_loss: 0.0522 - val_accuracy: 0.9801\n",
      "Epoch 28/40\n",
      "96/96 [==============================] - 9s 97ms/step - loss: 0.0793 - accuracy: 0.9816 - val_loss: 0.4350 - val_accuracy: 0.9141\n",
      "Epoch 29/40\n",
      "96/96 [==============================] - 9s 96ms/step - loss: 0.0495 - accuracy: 0.9888 - val_loss: 0.0642 - val_accuracy: 0.9816\n"
     ]
    }
   ],
   "source": [
    "history = model.fit(\n",
    "  train.cache(),\n",
    "  epochs=40,\n",
    "  callbacks=callbacks_list,\n",
    "  validation_data=val.cache()\n",
    ")"
   ]
  },
  {
   "cell_type": "markdown",
   "metadata": {},
   "source": [
    "# Evaluating the model"
   ]
  },
  {
   "cell_type": "code",
   "execution_count": 8,
   "metadata": {},
   "outputs": [
    {
     "name": "stdout",
     "output_type": "stream",
     "text": [
      "21/21 [==============================] - 1s 32ms/step - loss: 0.0847 - accuracy: 0.9848\n",
      " 1/21 [>.............................] - ETA: 4s - loss: 0.1814 - accuracy: 0.9375"
     ]
    },
    {
     "name": "stderr",
     "output_type": "stream",
     "text": [
      "2022-08-03 13:42:41.011334: I tensorflow/core/grappler/optimizers/custom_graph_optimizer_registry.cc:112] Plugin optimizer for device_type GPU is enabled.\n"
     ]
    },
    {
     "name": "stdout",
     "output_type": "stream",
     "text": [
      "21/21 [==============================] - 1s 33ms/step - loss: 0.0530 - accuracy: 0.9863\n"
     ]
    },
    {
     "data": {
      "text/plain": [
       "[0.052961062639951706, 0.9862805008888245]"
      ]
     },
     "execution_count": 8,
     "metadata": {},
     "output_type": "execute_result"
    }
   ],
   "source": [
    "model.evaluate(test)\n",
    "\n",
    "load_model = keras.models.load_model(\"../../models/vtid2/m1_big.h5\")\n",
    "load_model.evaluate(test)"
   ]
  },
  {
   "cell_type": "code",
   "execution_count": null,
   "metadata": {},
   "outputs": [],
   "source": [
    "# Plotting loss and accuracy graphs\n",
    "## Plotting loss\n",
    "plot_loss(history)\n",
    "## Plotting accuracy\n",
    "plot_acc(history)"
   ]
  }
 ],
 "metadata": {
  "kernelspec": {
   "display_name": "Python 3.9.7 ('base')",
   "language": "python",
   "name": "python3"
  },
  "language_info": {
   "codemirror_mode": {
    "name": "ipython",
    "version": 3
   },
   "file_extension": ".py",
   "mimetype": "text/x-python",
   "name": "python",
   "nbconvert_exporter": "python",
   "pygments_lexer": "ipython3",
   "version": "3.9.7"
  },
  "orig_nbformat": 4,
  "vscode": {
   "interpreter": {
    "hash": "c6e4e9f98eb68ad3b7c296f83d20e6de614cb42e90992a65aa266555a3137d0d"
   }
  }
 },
 "nbformat": 4,
 "nbformat_minor": 2
}
