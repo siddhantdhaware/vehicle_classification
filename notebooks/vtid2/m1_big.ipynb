{
 "cells": [
  {
   "cell_type": "markdown",
   "metadata": {},
   "source": [
    "# Importing the libraries"
   ]
  },
  {
   "cell_type": "code",
   "execution_count": 1,
   "metadata": {},
   "outputs": [],
   "source": [
    "import tensorflow as tf\n",
    "from tensorflow.keras import layers, utils\n",
    "from tensorflow import keras\n",
    "from matplotlib import pyplot as plt\n",
    "\n",
    "import sys\n",
    "sys.path.insert(0, '../../')\n",
    "from plot_graphs import plot_loss, plot_acc"
   ]
  },
  {
   "cell_type": "markdown",
   "metadata": {},
   "source": [
    "# Setting Image and Batch Size"
   ]
  },
  {
   "cell_type": "code",
   "execution_count": 2,
   "metadata": {},
   "outputs": [],
   "source": [
    "IMAGE_SIZE = 100\n",
    "BATCH_SIZE = 32"
   ]
  },
  {
   "cell_type": "markdown",
   "metadata": {},
   "source": [
    "# Loading the train, val, and test data"
   ]
  },
  {
   "cell_type": "code",
   "execution_count": 3,
   "metadata": {},
   "outputs": [
    {
     "name": "stdout",
     "output_type": "stream",
     "text": [
      "Found 3048 files belonging to 5 classes.\n",
      "Metal device set to: Apple M1\n",
      "\n",
      "systemMemory: 16.00 GB\n",
      "maxCacheSize: 5.33 GB\n",
      "\n",
      "Found 652 files belonging to 5 classes.\n",
      "Found 656 files belonging to 5 classes.\n"
     ]
    },
    {
     "name": "stderr",
     "output_type": "stream",
     "text": [
      "2022-08-07 15:38:40.265907: I tensorflow/core/common_runtime/pluggable_device/pluggable_device_factory.cc:305] Could not identify NUMA node of platform GPU ID 0, defaulting to 0. Your kernel may not have been built with NUMA support.\n",
      "2022-08-07 15:38:40.266063: I tensorflow/core/common_runtime/pluggable_device/pluggable_device_factory.cc:271] Created TensorFlow device (/job:localhost/replica:0/task:0/device:GPU:0 with 0 MB memory) -> physical PluggableDevice (device: 0, name: METAL, pci bus id: <undefined>)\n"
     ]
    }
   ],
   "source": [
    "train = utils.image_dataset_from_directory(\"../../datasets/data/split/VTID2/train\", image_size=(IMAGE_SIZE, IMAGE_SIZE), batch_size=BATCH_SIZE)\n",
    "val = utils.image_dataset_from_directory(\"../../datasets/data/split/VTID2/val\", image_size=(IMAGE_SIZE, IMAGE_SIZE), batch_size=BATCH_SIZE)\n",
    "test = utils.image_dataset_from_directory(\"../../datasets/data/split/VTID2/test\", image_size=(IMAGE_SIZE, IMAGE_SIZE), batch_size=BATCH_SIZE)"
   ]
  },
  {
   "cell_type": "markdown",
   "metadata": {},
   "source": [
    "# Defining the model"
   ]
  },
  {
   "cell_type": "code",
   "execution_count": 4,
   "metadata": {},
   "outputs": [
    {
     "name": "stdout",
     "output_type": "stream",
     "text": [
      "Model: \"model\"\n",
      "_________________________________________________________________\n",
      " Layer (type)                Output Shape              Param #   \n",
      "=================================================================\n",
      " input_1 (InputLayer)        [(None, 100, 100, 3)]     0         \n",
      "                                                                 \n",
      " rescaling (Rescaling)       (None, 100, 100, 3)       0         \n",
      "                                                                 \n",
      " conv2d (Conv2D)             (None, 98, 98, 32)        896       \n",
      "                                                                 \n",
      " conv2d_1 (Conv2D)           (None, 96, 96, 32)        9248      \n",
      "                                                                 \n",
      " conv2d_2 (Conv2D)           (None, 94, 94, 32)        9248      \n",
      "                                                                 \n",
      " max_pooling2d (MaxPooling2D  (None, 47, 47, 32)       0         \n",
      " )                                                               \n",
      "                                                                 \n",
      " conv2d_3 (Conv2D)           (None, 45, 45, 64)        18496     \n",
      "                                                                 \n",
      " conv2d_4 (Conv2D)           (None, 43, 43, 64)        36928     \n",
      "                                                                 \n",
      " max_pooling2d_1 (MaxPooling  (None, 21, 21, 64)       0         \n",
      " 2D)                                                             \n",
      "                                                                 \n",
      " conv2d_5 (Conv2D)           (None, 19, 19, 128)       73856     \n",
      "                                                                 \n",
      " conv2d_6 (Conv2D)           (None, 17, 17, 128)       147584    \n",
      "                                                                 \n",
      " max_pooling2d_2 (MaxPooling  (None, 8, 8, 128)        0         \n",
      " 2D)                                                             \n",
      "                                                                 \n",
      " conv2d_7 (Conv2D)           (None, 6, 6, 256)         295168    \n",
      "                                                                 \n",
      " conv2d_8 (Conv2D)           (None, 4, 4, 256)         590080    \n",
      "                                                                 \n",
      " global_average_pooling2d (G  (None, 256)              0         \n",
      " lobalAveragePooling2D)                                          \n",
      "                                                                 \n",
      " dense (Dense)               (None, 256)               65792     \n",
      "                                                                 \n",
      " dropout (Dropout)           (None, 256)               0         \n",
      "                                                                 \n",
      " dense_1 (Dense)             (None, 5)                 1285      \n",
      "                                                                 \n",
      "=================================================================\n",
      "Total params: 1,248,581\n",
      "Trainable params: 1,248,581\n",
      "Non-trainable params: 0\n",
      "_________________________________________________________________\n"
     ]
    }
   ],
   "source": [
    "inputs = keras.Input(shape=(100, 100, 3))\n",
    "x = inputs\n",
    "x = layers.Rescaling(1./255)(x)\n",
    "x = layers.Conv2D(32, 3, activation='relu')(x)\n",
    "x = layers.Conv2D(32, 3, activation='relu')(x)\n",
    "x = layers.Conv2D(32, 3, activation='relu')(x)\n",
    "x = layers.MaxPooling2D(2)(x)\n",
    "x = layers.Conv2D(64, 3, activation='relu')(x)\n",
    "x = layers.Conv2D(64, 3, activation='relu')(x)\n",
    "x = layers.MaxPooling2D(2)(x)\n",
    "x = layers.Conv2D(128, 3, activation='relu')(x)\n",
    "x = layers.Conv2D(128, 3, activation='relu')(x)\n",
    "x = layers.MaxPooling2D(2)(x)\n",
    "x = layers.Conv2D(256, 3, activation='relu')(x)\n",
    "x = layers.Conv2D(256, 3, activation='relu')(x)\n",
    "x = layers.GlobalAveragePooling2D()(x)\n",
    "x = layers.Dense(256, activation='relu')(x)\n",
    "x = layers.Dropout(0.5)(x)\n",
    "outputs = layers.Dense(5, activation='softmax')(x)\n",
    "\n",
    "model = keras.Model(inputs, outputs)\n",
    "\n",
    "model.compile(optimizer=keras.optimizers.RMSprop(0.001), loss='sparse_categorical_crossentropy', metrics=['accuracy'])\n",
    "\n",
    "model.summary()"
   ]
  },
  {
   "cell_type": "markdown",
   "metadata": {},
   "source": [
    "# Adding Callbacks"
   ]
  },
  {
   "cell_type": "code",
   "execution_count": 5,
   "metadata": {},
   "outputs": [],
   "source": [
    "callbacks_list = [\n",
    "    keras.callbacks.EarlyStopping(\n",
    "        monitor=\"val_accuracy\",\n",
    "        patience=8\n",
    "    ),\n",
    "    keras.callbacks.ModelCheckpoint(\n",
    "        filepath=\"../../models/vtid2/m1_big.h5\",\n",
    "        monitor=\"val_accuracy\",\n",
    "        save_best_only=True\n",
    "    )\n",
    "]"
   ]
  },
  {
   "cell_type": "markdown",
   "metadata": {},
   "source": [
    "# Running the model"
   ]
  },
  {
   "cell_type": "code",
   "execution_count": 6,
   "metadata": {},
   "outputs": [
    {
     "name": "stdout",
     "output_type": "stream",
     "text": [
      "Epoch 1/40\n"
     ]
    },
    {
     "name": "stderr",
     "output_type": "stream",
     "text": [
      "2022-08-07 15:38:41.067445: W tensorflow/core/platform/profile_utils/cpu_utils.cc:128] Failed to get CPU frequency: 0 Hz\n",
      "2022-08-07 15:38:41.067556: I tensorflow/core/grappler/optimizers/custom_graph_optimizer_registry.cc:112] Plugin optimizer for device_type GPU is enabled.\n"
     ]
    },
    {
     "name": "stdout",
     "output_type": "stream",
     "text": [
      "96/96 [==============================] - ETA: 0s - loss: 1.6398 - accuracy: 0.2858"
     ]
    },
    {
     "name": "stderr",
     "output_type": "stream",
     "text": [
      "2022-08-07 15:38:52.073653: I tensorflow/core/grappler/optimizers/custom_graph_optimizer_registry.cc:112] Plugin optimizer for device_type GPU is enabled.\n"
     ]
    },
    {
     "name": "stdout",
     "output_type": "stream",
     "text": [
      "96/96 [==============================] - 13s 110ms/step - loss: 1.6398 - accuracy: 0.2858 - val_loss: 1.5175 - val_accuracy: 0.2853\n",
      "Epoch 2/40\n",
      "96/96 [==============================] - 9s 94ms/step - loss: 1.5051 - accuracy: 0.3497 - val_loss: 1.4920 - val_accuracy: 0.3252\n",
      "Epoch 3/40\n",
      "96/96 [==============================] - 9s 93ms/step - loss: 1.2509 - accuracy: 0.5220 - val_loss: 1.0831 - val_accuracy: 0.6028\n",
      "Epoch 4/40\n",
      "96/96 [==============================] - 9s 92ms/step - loss: 0.9326 - accuracy: 0.6352 - val_loss: 1.0526 - val_accuracy: 0.6120\n",
      "Epoch 5/40\n",
      "96/96 [==============================] - 9s 92ms/step - loss: 0.7188 - accuracy: 0.7244 - val_loss: 0.6570 - val_accuracy: 0.7209\n",
      "Epoch 6/40\n",
      "96/96 [==============================] - 9s 96ms/step - loss: 0.5518 - accuracy: 0.7953 - val_loss: 0.4534 - val_accuracy: 0.8313\n",
      "Epoch 7/40\n",
      "96/96 [==============================] - 9s 96ms/step - loss: 0.4411 - accuracy: 0.8409 - val_loss: 0.3619 - val_accuracy: 0.8650\n",
      "Epoch 8/40\n",
      "96/96 [==============================] - 9s 97ms/step - loss: 0.3580 - accuracy: 0.8737 - val_loss: 0.4133 - val_accuracy: 0.8374\n",
      "Epoch 9/40\n",
      "96/96 [==============================] - 9s 95ms/step - loss: 0.2579 - accuracy: 0.9121 - val_loss: 0.4037 - val_accuracy: 0.8558\n",
      "Epoch 10/40\n",
      "96/96 [==============================] - 9s 94ms/step - loss: 0.2061 - accuracy: 0.9301 - val_loss: 0.4348 - val_accuracy: 0.8834\n",
      "Epoch 11/40\n",
      "96/96 [==============================] - 9s 95ms/step - loss: 0.1765 - accuracy: 0.9472 - val_loss: 0.1743 - val_accuracy: 0.9340\n",
      "Epoch 12/40\n",
      "96/96 [==============================] - 9s 95ms/step - loss: 0.2052 - accuracy: 0.9498 - val_loss: 0.4674 - val_accuracy: 0.8758\n",
      "Epoch 13/40\n",
      "96/96 [==============================] - 9s 95ms/step - loss: 0.1583 - accuracy: 0.9554 - val_loss: 0.0974 - val_accuracy: 0.9678\n",
      "Epoch 14/40\n",
      "96/96 [==============================] - 10s 100ms/step - loss: 0.1029 - accuracy: 0.9715 - val_loss: 0.1466 - val_accuracy: 0.9601\n",
      "Epoch 15/40\n",
      "96/96 [==============================] - 9s 94ms/step - loss: 0.1072 - accuracy: 0.9698 - val_loss: 0.7912 - val_accuracy: 0.8328\n",
      "Epoch 16/40\n",
      "96/96 [==============================] - 9s 95ms/step - loss: 0.1269 - accuracy: 0.9692 - val_loss: 0.0577 - val_accuracy: 0.9801\n",
      "Epoch 17/40\n",
      "96/96 [==============================] - 9s 96ms/step - loss: 0.0889 - accuracy: 0.9774 - val_loss: 0.1552 - val_accuracy: 0.9663\n",
      "Epoch 18/40\n",
      "96/96 [==============================] - 9s 94ms/step - loss: 0.1023 - accuracy: 0.9777 - val_loss: 0.1147 - val_accuracy: 0.9693\n",
      "Epoch 19/40\n",
      "96/96 [==============================] - 9s 94ms/step - loss: 0.0542 - accuracy: 0.9839 - val_loss: 0.1286 - val_accuracy: 0.9678\n",
      "Epoch 20/40\n",
      "96/96 [==============================] - 9s 93ms/step - loss: 0.1382 - accuracy: 0.9764 - val_loss: 0.3755 - val_accuracy: 0.9141\n",
      "Epoch 21/40\n",
      "96/96 [==============================] - 9s 93ms/step - loss: 0.0575 - accuracy: 0.9862 - val_loss: 0.1347 - val_accuracy: 0.9647\n",
      "Epoch 22/40\n",
      "96/96 [==============================] - 9s 93ms/step - loss: 0.0979 - accuracy: 0.9810 - val_loss: 0.0786 - val_accuracy: 0.9739\n",
      "Epoch 23/40\n",
      "96/96 [==============================] - 9s 93ms/step - loss: 0.0774 - accuracy: 0.9865 - val_loss: 0.0560 - val_accuracy: 0.9862\n",
      "Epoch 24/40\n",
      "96/96 [==============================] - 9s 97ms/step - loss: 0.0877 - accuracy: 0.9820 - val_loss: 0.0644 - val_accuracy: 0.9847\n",
      "Epoch 25/40\n",
      "96/96 [==============================] - 10s 100ms/step - loss: 0.0628 - accuracy: 0.9902 - val_loss: 0.0442 - val_accuracy: 0.9908\n",
      "Epoch 26/40\n",
      "96/96 [==============================] - 10s 99ms/step - loss: 0.0322 - accuracy: 0.9941 - val_loss: 0.0427 - val_accuracy: 0.9908\n",
      "Epoch 27/40\n",
      "96/96 [==============================] - 10s 108ms/step - loss: 0.1876 - accuracy: 0.9757 - val_loss: 0.1040 - val_accuracy: 0.9709\n",
      "Epoch 28/40\n",
      "96/96 [==============================] - 9s 97ms/step - loss: 0.0065 - accuracy: 0.9977 - val_loss: 0.0200 - val_accuracy: 0.9939\n",
      "Epoch 29/40\n",
      "96/96 [==============================] - 10s 103ms/step - loss: 0.0656 - accuracy: 0.9911 - val_loss: 0.0303 - val_accuracy: 0.9923\n",
      "Epoch 30/40\n",
      "96/96 [==============================] - 9s 99ms/step - loss: 0.0792 - accuracy: 0.9879 - val_loss: 0.4364 - val_accuracy: 0.9279\n",
      "Epoch 31/40\n",
      "96/96 [==============================] - 9s 95ms/step - loss: 0.0525 - accuracy: 0.9869 - val_loss: 0.0320 - val_accuracy: 0.9923\n",
      "Epoch 32/40\n",
      "96/96 [==============================] - 9s 96ms/step - loss: 0.0487 - accuracy: 0.9902 - val_loss: 0.1177 - val_accuracy: 0.9801\n",
      "Epoch 33/40\n",
      "96/96 [==============================] - 9s 96ms/step - loss: 0.0943 - accuracy: 0.9823 - val_loss: 0.7741 - val_accuracy: 0.8896\n",
      "Epoch 34/40\n",
      "96/96 [==============================] - 9s 96ms/step - loss: 0.0541 - accuracy: 0.9882 - val_loss: 0.0708 - val_accuracy: 0.9816\n",
      "Epoch 35/40\n",
      "96/96 [==============================] - 9s 95ms/step - loss: 0.0462 - accuracy: 0.9911 - val_loss: 0.0359 - val_accuracy: 0.9893\n",
      "Epoch 36/40\n",
      "96/96 [==============================] - 9s 96ms/step - loss: 0.0181 - accuracy: 0.9961 - val_loss: 0.0221 - val_accuracy: 0.9954\n",
      "Epoch 37/40\n",
      "96/96 [==============================] - 10s 101ms/step - loss: 0.0505 - accuracy: 0.9938 - val_loss: 0.1466 - val_accuracy: 0.9816\n",
      "Epoch 38/40\n",
      "96/96 [==============================] - 10s 102ms/step - loss: 0.0519 - accuracy: 0.9905 - val_loss: 0.0500 - val_accuracy: 0.9862\n",
      "Epoch 39/40\n",
      "96/96 [==============================] - 10s 101ms/step - loss: 0.0953 - accuracy: 0.9843 - val_loss: 0.0654 - val_accuracy: 0.9847\n",
      "Epoch 40/40\n",
      "96/96 [==============================] - 10s 102ms/step - loss: 0.0499 - accuracy: 0.9895 - val_loss: 0.4941 - val_accuracy: 0.9264\n"
     ]
    }
   ],
   "source": [
    "history = model.fit(\n",
    "  train.cache(),\n",
    "  epochs=40,\n",
    "  callbacks=callbacks_list,\n",
    "  validation_data=val.cache()\n",
    ")"
   ]
  },
  {
   "cell_type": "markdown",
   "metadata": {},
   "source": [
    "# Evaluating the model"
   ]
  },
  {
   "cell_type": "code",
   "execution_count": 7,
   "metadata": {},
   "outputs": [
    {
     "name": "stderr",
     "output_type": "stream",
     "text": [
      "2022-08-07 15:44:54.751980: I tensorflow/core/grappler/optimizers/custom_graph_optimizer_registry.cc:112] Plugin optimizer for device_type GPU is enabled.\n"
     ]
    },
    {
     "name": "stdout",
     "output_type": "stream",
     "text": [
      "21/21 [==============================] - 1s 37ms/step - loss: 0.0342 - accuracy: 0.9909\n"
     ]
    },
    {
     "data": {
      "text/plain": [
       "[0.034219831228256226, 0.9908537268638611]"
      ]
     },
     "execution_count": 7,
     "metadata": {},
     "output_type": "execute_result"
    }
   ],
   "source": [
    "# model.evaluate(test)\n",
    "\n",
    "load_model = keras.models.load_model(\"../../models/vtid2/m1_big.h5\")\n",
    "load_model.evaluate(test)"
   ]
  },
  {
   "cell_type": "code",
   "execution_count": 8,
   "metadata": {},
   "outputs": [
    {
     "data": {
      "text/plain": [
       "<module 'matplotlib.pyplot' from '/opt/homebrew/Caskroom/miniforge/base/lib/python3.9/site-packages/matplotlib/pyplot.py'>"
      ]
     },
     "execution_count": 8,
     "metadata": {},
     "output_type": "execute_result"
    },
    {
     "data": {
      "image/png": "[encoded data removed]",
      "text/plain": [
       "<Figure size 432x288 with 1 Axes>"
      ]
     },
     "metadata": {
      "needs_background": "light"
     },
     "output_type": "display_data"
    }
   ],
   "source": [
    "# Plotting loss and accuracy graphs\n",
    "## Plotting loss\n",
    "plot_loss(history)\n"
   ]
  },
  {
   "cell_type": "code",
   "execution_count": 9,
   "metadata": {},
   "outputs": [
    {
     "data": {
      "text/plain": [
       "<module 'matplotlib.pyplot' from '/opt/homebrew/Caskroom/miniforge/base/lib/python3.9/site-packages/matplotlib/pyplot.py'>"
      ]
     },
     "execution_count": 9,
     "metadata": {},
     "output_type": "execute_result"
    },
    {
     "data": {
      "image/png": "[encoded data removed]",
      "text/plain": [
       "<Figure size 432x288 with 1 Axes>"
      ]
     },
     "metadata": {
      "needs_background": "light"
     },
     "output_type": "display_data"
    }
   ],
   "source": [
    "## Plotting accuracy\n",
    "plot_acc(history)"
   ]
  }
 ],
 "metadata": {
  "kernelspec": {
   "display_name": "Python 3.9.7 ('base')",
   "language": "python",
   "name": "python3"
  },
  "language_info": {
   "codemirror_mode": {
    "name": "ipython",
    "version": 3
   },
   "file_extension": ".py",
   "mimetype": "text/x-python",
   "name": "python",
   "nbconvert_exporter": "python",
   "pygments_lexer": "ipython3",
   "version": "3.9.7"
  },
  "orig_nbformat": 4,
  "vscode": {
   "interpreter": {
    "hash": "c6e4e9f98eb68ad3b7c296f83d20e6de614cb42e90992a65aa266555a3137d0d"
   }
  }
 },
 "nbformat": 4,
 "nbformat_minor": 2
}
