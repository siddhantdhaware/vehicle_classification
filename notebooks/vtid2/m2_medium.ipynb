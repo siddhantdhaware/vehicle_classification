{
 "cells": [
  {
   "cell_type": "markdown",
   "metadata": {},
   "source": [
    "# Importing the libraries"
   ]
  },
  {
   "cell_type": "code",
   "execution_count": 1,
   "metadata": {},
   "outputs": [],
   "source": [
    "import tensorflow as tf\n",
    "from tensorflow.keras import layers, utils\n",
    "from tensorflow import keras\n",
    "from matplotlib import pyplot as plt"
   ]
  },
  {
   "cell_type": "markdown",
   "metadata": {},
   "source": [
    "# Setting Image and Batch Size"
   ]
  },
  {
   "cell_type": "code",
   "execution_count": 2,
   "metadata": {},
   "outputs": [],
   "source": [
    "IMAGE_SIZE = 100\n",
    "BATCH_SIZE = 32"
   ]
  },
  {
   "cell_type": "markdown",
   "metadata": {},
   "source": [
    "# Loading the train, val, and test data"
   ]
  },
  {
   "cell_type": "code",
   "execution_count": 3,
   "metadata": {},
   "outputs": [
    {
     "name": "stdout",
     "output_type": "stream",
     "text": [
      "Found 3048 files belonging to 5 classes.\n",
      "Metal device set to: Apple M1\n",
      "\n",
      "systemMemory: 16.00 GB\n",
      "maxCacheSize: 5.33 GB\n",
      "\n",
      "Found 652 files belonging to 5 classes.\n",
      "Found 656 files belonging to 5 classes.\n"
     ]
    },
    {
     "name": "stderr",
     "output_type": "stream",
     "text": [
      "2022-08-03 13:46:53.837006: I tensorflow/core/common_runtime/pluggable_device/pluggable_device_factory.cc:305] Could not identify NUMA node of platform GPU ID 0, defaulting to 0. Your kernel may not have been built with NUMA support.\n",
      "2022-08-03 13:46:53.837183: I tensorflow/core/common_runtime/pluggable_device/pluggable_device_factory.cc:271] Created TensorFlow device (/job:localhost/replica:0/task:0/device:GPU:0 with 0 MB memory) -> physical PluggableDevice (device: 0, name: METAL, pci bus id: <undefined>)\n"
     ]
    }
   ],
   "source": [
    "train = utils.image_dataset_from_directory(\"../../datasets/data/split/VTID2/train\", image_size=(IMAGE_SIZE, IMAGE_SIZE), batch_size=BATCH_SIZE)\n",
    "val = utils.image_dataset_from_directory(\"../../datasets/data/split/VTID2/val\", image_size=(IMAGE_SIZE, IMAGE_SIZE), batch_size=BATCH_SIZE)\n",
    "test = utils.image_dataset_from_directory(\"../../datasets/data/split/VTID2/test\", image_size=(IMAGE_SIZE, IMAGE_SIZE), batch_size=BATCH_SIZE)"
   ]
  },
  {
   "cell_type": "markdown",
   "metadata": {},
   "source": [
    "# Defining the model"
   ]
  },
  {
   "cell_type": "code",
   "execution_count": 4,
   "metadata": {},
   "outputs": [
    {
     "name": "stdout",
     "output_type": "stream",
     "text": [
      "Model: \"model\"\n",
      "_________________________________________________________________\n",
      " Layer (type)                Output Shape              Param #   \n",
      "=================================================================\n",
      " input_1 (InputLayer)        [(None, 100, 100, 3)]     0         \n",
      "                                                                 \n",
      " rescaling (Rescaling)       (None, 100, 100, 3)       0         \n",
      "                                                                 \n",
      " conv2d (Conv2D)             (None, 98, 98, 32)        896       \n",
      "                                                                 \n",
      " max_pooling2d (MaxPooling2D  (None, 49, 49, 32)       0         \n",
      " )                                                               \n",
      "                                                                 \n",
      " conv2d_1 (Conv2D)           (None, 47, 47, 64)        18496     \n",
      "                                                                 \n",
      " max_pooling2d_1 (MaxPooling  (None, 23, 23, 64)       0         \n",
      " 2D)                                                             \n",
      "                                                                 \n",
      " conv2d_2 (Conv2D)           (None, 21, 21, 128)       73856     \n",
      "                                                                 \n",
      " max_pooling2d_2 (MaxPooling  (None, 10, 10, 128)      0         \n",
      " 2D)                                                             \n",
      "                                                                 \n",
      " conv2d_3 (Conv2D)           (None, 8, 8, 256)         295168    \n",
      "                                                                 \n",
      " global_average_pooling2d (G  (None, 256)              0         \n",
      " lobalAveragePooling2D)                                          \n",
      "                                                                 \n",
      " dense (Dense)               (None, 256)               65792     \n",
      "                                                                 \n",
      " dropout (Dropout)           (None, 256)               0         \n",
      "                                                                 \n",
      " dense_1 (Dense)             (None, 5)                 1285      \n",
      "                                                                 \n",
      "=================================================================\n",
      "Total params: 455,493\n",
      "Trainable params: 455,493\n",
      "Non-trainable params: 0\n",
      "_________________________________________________________________\n"
     ]
    }
   ],
   "source": [
    "inputs = keras.Input(shape=(100, 100, 3))\n",
    "x = inputs\n",
    "x = layers.Rescaling(1./255)(x)\n",
    "x = layers.Conv2D(32, 3, activation='relu')(x)\n",
    "x = layers.MaxPooling2D(2)(x)\n",
    "x = layers.Conv2D(64, 3, activation='relu')(x)\n",
    "x = layers.MaxPooling2D(2)(x)\n",
    "x = layers.Conv2D(128, 3, activation='relu')(x)\n",
    "x = layers.MaxPooling2D(2)(x)\n",
    "x = layers.Conv2D(256, 3, activation='relu')(x)\n",
    "x = layers.GlobalAveragePooling2D()(x)\n",
    "x = layers.Dense(256, activation='relu')(x)\n",
    "x = layers.Dropout(0.5)(x)\n",
    "outputs = layers.Dense(5, activation='softmax')(x)\n",
    "\n",
    "model = keras.Model(inputs, outputs)\n",
    "\n",
    "model.compile(optimizer=keras.optimizers.RMSprop(0.001), loss='sparse_categorical_crossentropy', metrics=['accuracy'])\n",
    "\n",
    "model.summary()"
   ]
  },
  {
   "cell_type": "markdown",
   "metadata": {},
   "source": [
    "# Adding Callbacks"
   ]
  },
  {
   "cell_type": "code",
   "execution_count": 5,
   "metadata": {},
   "outputs": [],
   "source": [
    "callbacks_list = [\n",
    "    keras.callbacks.EarlyStopping(\n",
    "        monitor=\"val_accuracy\",\n",
    "        patience=8\n",
    "    ),\n",
    "    keras.callbacks.ModelCheckpoint(\n",
    "        filepath=\"../../models/vtid2/m2_medium.h5\",\n",
    "        monitor=\"val_accuracy\",\n",
    "        save_best_only=True\n",
    "    )\n",
    "]"
   ]
  },
  {
   "cell_type": "markdown",
   "metadata": {},
   "source": [
    "# Running the model"
   ]
  },
  {
   "cell_type": "code",
   "execution_count": 6,
   "metadata": {},
   "outputs": [
    {
     "name": "stdout",
     "output_type": "stream",
     "text": [
      "Epoch 1/40\n"
     ]
    },
    {
     "name": "stderr",
     "output_type": "stream",
     "text": [
      "2022-08-03 13:46:54.748293: W tensorflow/core/platform/profile_utils/cpu_utils.cc:128] Failed to get CPU frequency: 0 Hz\n",
      "2022-08-03 13:46:54.748383: I tensorflow/core/grappler/optimizers/custom_graph_optimizer_registry.cc:112] Plugin optimizer for device_type GPU is enabled.\n"
     ]
    },
    {
     "name": "stdout",
     "output_type": "stream",
     "text": [
      "96/96 [==============================] - ETA: 0s - loss: 1.5124 - accuracy: 0.3386"
     ]
    },
    {
     "name": "stderr",
     "output_type": "stream",
     "text": [
      "2022-08-03 13:47:02.289733: I tensorflow/core/grappler/optimizers/custom_graph_optimizer_registry.cc:112] Plugin optimizer for device_type GPU is enabled.\n"
     ]
    },
    {
     "name": "stdout",
     "output_type": "stream",
     "text": [
      "96/96 [==============================] - 9s 60ms/step - loss: 1.5124 - accuracy: 0.3386 - val_loss: 1.8156 - val_accuracy: 0.2837\n",
      "Epoch 2/40\n",
      "96/96 [==============================] - 5s 47ms/step - loss: 1.3488 - accuracy: 0.4593 - val_loss: 1.5450 - val_accuracy: 0.3804\n",
      "Epoch 3/40\n",
      "96/96 [==============================] - 4s 44ms/step - loss: 1.1984 - accuracy: 0.5338 - val_loss: 1.2148 - val_accuracy: 0.5199\n",
      "Epoch 4/40\n",
      "96/96 [==============================] - 4s 44ms/step - loss: 1.0756 - accuracy: 0.5886 - val_loss: 1.0835 - val_accuracy: 0.5613\n",
      "Epoch 5/40\n",
      "96/96 [==============================] - 4s 44ms/step - loss: 0.9681 - accuracy: 0.6388 - val_loss: 0.8351 - val_accuracy: 0.6641\n",
      "Epoch 6/40\n",
      "96/96 [==============================] - 4s 44ms/step - loss: 0.8242 - accuracy: 0.6883 - val_loss: 0.8229 - val_accuracy: 0.6626\n",
      "Epoch 7/40\n",
      "96/96 [==============================] - 4s 44ms/step - loss: 0.6980 - accuracy: 0.7369 - val_loss: 1.0791 - val_accuracy: 0.5920\n",
      "Epoch 8/40\n",
      "96/96 [==============================] - 5s 46ms/step - loss: 0.5752 - accuracy: 0.7871 - val_loss: 0.6250 - val_accuracy: 0.7331\n",
      "Epoch 9/40\n",
      "96/96 [==============================] - 4s 44ms/step - loss: 0.5275 - accuracy: 0.8120 - val_loss: 0.5082 - val_accuracy: 0.7868\n",
      "Epoch 10/40\n",
      "96/96 [==============================] - 4s 44ms/step - loss: 0.4525 - accuracy: 0.8448 - val_loss: 0.3620 - val_accuracy: 0.8574\n",
      "Epoch 11/40\n",
      "96/96 [==============================] - 4s 44ms/step - loss: 0.3626 - accuracy: 0.8730 - val_loss: 0.3511 - val_accuracy: 0.8650\n",
      "Epoch 12/40\n",
      "96/96 [==============================] - 4s 45ms/step - loss: 0.3160 - accuracy: 0.8901 - val_loss: 0.2554 - val_accuracy: 0.9156\n",
      "Epoch 13/40\n",
      "96/96 [==============================] - 4s 44ms/step - loss: 0.2720 - accuracy: 0.9075 - val_loss: 0.2350 - val_accuracy: 0.9264\n",
      "Epoch 14/40\n",
      "96/96 [==============================] - 4s 44ms/step - loss: 0.2175 - accuracy: 0.9190 - val_loss: 0.1838 - val_accuracy: 0.9509\n",
      "Epoch 15/40\n",
      "96/96 [==============================] - 4s 44ms/step - loss: 0.1842 - accuracy: 0.9406 - val_loss: 0.1617 - val_accuracy: 0.9586\n",
      "Epoch 16/40\n",
      "96/96 [==============================] - 4s 44ms/step - loss: 0.1855 - accuracy: 0.9449 - val_loss: 0.1200 - val_accuracy: 0.9755\n",
      "Epoch 17/40\n",
      "96/96 [==============================] - 4s 44ms/step - loss: 0.1251 - accuracy: 0.9600 - val_loss: 2.0112 - val_accuracy: 0.5721\n",
      "Epoch 18/40\n",
      "96/96 [==============================] - 4s 44ms/step - loss: 0.1521 - accuracy: 0.9544 - val_loss: 0.1324 - val_accuracy: 0.9632\n",
      "Epoch 19/40\n",
      "96/96 [==============================] - 4s 44ms/step - loss: 0.1250 - accuracy: 0.9672 - val_loss: 0.0857 - val_accuracy: 0.9831\n",
      "Epoch 20/40\n",
      "96/96 [==============================] - 4s 44ms/step - loss: 0.1146 - accuracy: 0.9652 - val_loss: 0.1887 - val_accuracy: 0.9402\n",
      "Epoch 21/40\n",
      "96/96 [==============================] - 4s 44ms/step - loss: 0.1001 - accuracy: 0.9711 - val_loss: 0.1119 - val_accuracy: 0.9678\n",
      "Epoch 22/40\n",
      "96/96 [==============================] - 4s 44ms/step - loss: 0.1047 - accuracy: 0.9738 - val_loss: 0.0849 - val_accuracy: 0.9877\n",
      "Epoch 23/40\n",
      "96/96 [==============================] - 4s 45ms/step - loss: 0.1296 - accuracy: 0.9711 - val_loss: 0.1129 - val_accuracy: 0.9785\n",
      "Epoch 24/40\n",
      "96/96 [==============================] - 4s 44ms/step - loss: 0.0799 - accuracy: 0.9816 - val_loss: 0.0752 - val_accuracy: 0.9893\n",
      "Epoch 25/40\n",
      "96/96 [==============================] - 4s 43ms/step - loss: 0.0946 - accuracy: 0.9787 - val_loss: 0.0979 - val_accuracy: 0.9724\n",
      "Epoch 26/40\n",
      "96/96 [==============================] - 4s 44ms/step - loss: 0.0773 - accuracy: 0.9806 - val_loss: 0.0901 - val_accuracy: 0.9862\n",
      "Epoch 27/40\n",
      "96/96 [==============================] - 4s 44ms/step - loss: 0.0704 - accuracy: 0.9862 - val_loss: 0.0578 - val_accuracy: 0.9908\n",
      "Epoch 28/40\n",
      "96/96 [==============================] - 4s 44ms/step - loss: 0.1220 - accuracy: 0.9826 - val_loss: 0.0666 - val_accuracy: 0.9893\n",
      "Epoch 29/40\n",
      "96/96 [==============================] - 4s 44ms/step - loss: 0.0732 - accuracy: 0.9793 - val_loss: 0.6005 - val_accuracy: 0.8589\n",
      "Epoch 30/40\n",
      "96/96 [==============================] - 4s 44ms/step - loss: 0.0629 - accuracy: 0.9885 - val_loss: 0.0556 - val_accuracy: 0.9908\n",
      "Epoch 31/40\n",
      "96/96 [==============================] - 4s 44ms/step - loss: 0.0812 - accuracy: 0.9859 - val_loss: 0.0939 - val_accuracy: 0.9847\n",
      "Epoch 32/40\n",
      "96/96 [==============================] - 4s 44ms/step - loss: 0.0735 - accuracy: 0.9908 - val_loss: 0.0525 - val_accuracy: 0.9877\n",
      "Epoch 33/40\n",
      "96/96 [==============================] - 4s 44ms/step - loss: 0.0588 - accuracy: 0.9905 - val_loss: 0.0953 - val_accuracy: 0.9831\n",
      "Epoch 34/40\n",
      "96/96 [==============================] - 4s 44ms/step - loss: 0.0208 - accuracy: 0.9948 - val_loss: 0.0695 - val_accuracy: 0.9908\n",
      "Epoch 35/40\n",
      "96/96 [==============================] - 4s 45ms/step - loss: 0.0871 - accuracy: 0.9852 - val_loss: 0.1689 - val_accuracy: 0.9632\n"
     ]
    }
   ],
   "source": [
    "history = model.fit(\n",
    "  train.cache(),\n",
    "  epochs=40,\n",
    "  callbacks=callbacks_list,\n",
    "  validation_data=val.cache()\n",
    ")"
   ]
  },
  {
   "cell_type": "markdown",
   "metadata": {},
   "source": [
    "# Evaluating the model"
   ]
  },
  {
   "cell_type": "code",
   "execution_count": 7,
   "metadata": {},
   "outputs": [
    {
     "name": "stdout",
     "output_type": "stream",
     "text": [
      "21/21 [==============================] - 1s 20ms/step - loss: 0.2103 - accuracy: 0.9604\n",
      " 1/21 [>.............................] - ETA: 4s - loss: 0.0040 - accuracy: 1.0000"
     ]
    },
    {
     "name": "stderr",
     "output_type": "stream",
     "text": [
      "2022-08-03 13:49:28.748240: I tensorflow/core/grappler/optimizers/custom_graph_optimizer_registry.cc:112] Plugin optimizer for device_type GPU is enabled.\n"
     ]
    },
    {
     "name": "stdout",
     "output_type": "stream",
     "text": [
      "21/21 [==============================] - 1s 21ms/step - loss: 0.0947 - accuracy: 0.9939\n"
     ]
    },
    {
     "data": {
      "text/plain": [
       "[0.09471728652715683, 0.9939025044441223]"
      ]
     },
     "execution_count": 7,
     "metadata": {},
     "output_type": "execute_result"
    }
   ],
   "source": [
    "model.evaluate(test)\n",
    "\n",
    "load_model = keras.models.load_model(\"../../models/vtid2/m2_medium.h5\")\n",
    "load_model.evaluate(test)"
   ]
  }
 ],
 "metadata": {
  "kernelspec": {
   "display_name": "Python 3.9.7 ('base')",
   "language": "python",
   "name": "python3"
  },
  "language_info": {
   "codemirror_mode": {
    "name": "ipython",
    "version": 3
   },
   "file_extension": ".py",
   "mimetype": "text/x-python",
   "name": "python",
   "nbconvert_exporter": "python",
   "pygments_lexer": "ipython3",
   "version": "3.9.7"
  },
  "orig_nbformat": 4,
  "vscode": {
   "interpreter": {
    "hash": "c6e4e9f98eb68ad3b7c296f83d20e6de614cb42e90992a65aa266555a3137d0d"
   }
  }
 },
 "nbformat": 4,
 "nbformat_minor": 2
}
