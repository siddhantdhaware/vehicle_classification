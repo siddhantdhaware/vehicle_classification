{
 "cells": [
  {
   "cell_type": "markdown",
   "metadata": {},
   "source": [
    "# Importing the libraries"
   ]
  },
  {
   "cell_type": "code",
   "execution_count": 1,
   "metadata": {},
   "outputs": [],
   "source": [
    "import tensorflow as tf\n",
    "from tensorflow.keras import layers, utils\n",
    "from tensorflow import keras\n",
    "from matplotlib import pyplot as plt\n",
    "\n",
    "import sys\n",
    "sys.path.insert(0, '../../')\n",
    "from plot_graphs import plot_loss, plot_acc"
   ]
  },
  {
   "cell_type": "markdown",
   "metadata": {},
   "source": [
    "# Setting Image and Batch Size"
   ]
  },
  {
   "cell_type": "code",
   "execution_count": 2,
   "metadata": {},
   "outputs": [],
   "source": [
    "IMAGE_SIZE = 100\n",
    "BATCH_SIZE = 32"
   ]
  },
  {
   "cell_type": "markdown",
   "metadata": {},
   "source": [
    "# Loading the train, val, and test data"
   ]
  },
  {
   "cell_type": "code",
   "execution_count": 3,
   "metadata": {},
   "outputs": [
    {
     "name": "stdout",
     "output_type": "stream",
     "text": [
      "Found 3048 files belonging to 5 classes.\n",
      "Metal device set to: Apple M1\n",
      "\n",
      "systemMemory: 16.00 GB\n",
      "maxCacheSize: 5.33 GB\n",
      "\n",
      "Found 652 files belonging to 5 classes.\n",
      "Found 656 files belonging to 5 classes.\n"
     ]
    },
    {
     "name": "stderr",
     "output_type": "stream",
     "text": [
      "2022-08-07 15:49:40.327911: I tensorflow/core/common_runtime/pluggable_device/pluggable_device_factory.cc:305] Could not identify NUMA node of platform GPU ID 0, defaulting to 0. Your kernel may not have been built with NUMA support.\n",
      "2022-08-07 15:49:40.328019: I tensorflow/core/common_runtime/pluggable_device/pluggable_device_factory.cc:271] Created TensorFlow device (/job:localhost/replica:0/task:0/device:GPU:0 with 0 MB memory) -> physical PluggableDevice (device: 0, name: METAL, pci bus id: <undefined>)\n"
     ]
    }
   ],
   "source": [
    "train = utils.image_dataset_from_directory(\"../../datasets/data/split/VTID2/train\", image_size=(IMAGE_SIZE, IMAGE_SIZE), batch_size=BATCH_SIZE)\n",
    "val = utils.image_dataset_from_directory(\"../../datasets/data/split/VTID2/val\", image_size=(IMAGE_SIZE, IMAGE_SIZE), batch_size=BATCH_SIZE)\n",
    "test = utils.image_dataset_from_directory(\"../../datasets/data/split/VTID2/test\", image_size=(IMAGE_SIZE, IMAGE_SIZE), batch_size=BATCH_SIZE)"
   ]
  },
  {
   "cell_type": "markdown",
   "metadata": {},
   "source": [
    "# Defining the model"
   ]
  },
  {
   "cell_type": "code",
   "execution_count": 4,
   "metadata": {},
   "outputs": [
    {
     "name": "stdout",
     "output_type": "stream",
     "text": [
      "Model: \"model\"\n",
      "_________________________________________________________________\n",
      " Layer (type)                Output Shape              Param #   \n",
      "=================================================================\n",
      " input_1 (InputLayer)        [(None, 100, 100, 3)]     0         \n",
      "                                                                 \n",
      " rescaling (Rescaling)       (None, 100, 100, 3)       0         \n",
      "                                                                 \n",
      " conv2d (Conv2D)             (None, 98, 98, 32)        896       \n",
      "                                                                 \n",
      " max_pooling2d (MaxPooling2D  (None, 49, 49, 32)       0         \n",
      " )                                                               \n",
      "                                                                 \n",
      " conv2d_1 (Conv2D)           (None, 47, 47, 64)        18496     \n",
      "                                                                 \n",
      " max_pooling2d_1 (MaxPooling  (None, 23, 23, 64)       0         \n",
      " 2D)                                                             \n",
      "                                                                 \n",
      " conv2d_2 (Conv2D)           (None, 21, 21, 128)       73856     \n",
      "                                                                 \n",
      " max_pooling2d_2 (MaxPooling  (None, 10, 10, 128)      0         \n",
      " 2D)                                                             \n",
      "                                                                 \n",
      " conv2d_3 (Conv2D)           (None, 8, 8, 256)         295168    \n",
      "                                                                 \n",
      " global_average_pooling2d (G  (None, 256)              0         \n",
      " lobalAveragePooling2D)                                          \n",
      "                                                                 \n",
      " dense (Dense)               (None, 256)               65792     \n",
      "                                                                 \n",
      " dropout (Dropout)           (None, 256)               0         \n",
      "                                                                 \n",
      " dense_1 (Dense)             (None, 5)                 1285      \n",
      "                                                                 \n",
      "=================================================================\n",
      "Total params: 455,493\n",
      "Trainable params: 455,493\n",
      "Non-trainable params: 0\n",
      "_________________________________________________________________\n"
     ]
    }
   ],
   "source": [
    "inputs = keras.Input(shape=(100, 100, 3))\n",
    "x = inputs\n",
    "x = layers.Rescaling(1./255)(x)\n",
    "x = layers.Conv2D(32, 3, activation='relu')(x)\n",
    "x = layers.MaxPooling2D(2)(x)\n",
    "x = layers.Conv2D(64, 3, activation='relu')(x)\n",
    "x = layers.MaxPooling2D(2)(x)\n",
    "x = layers.Conv2D(128, 3, activation='relu')(x)\n",
    "x = layers.MaxPooling2D(2)(x)\n",
    "x = layers.Conv2D(256, 3, activation='relu')(x)\n",
    "x = layers.GlobalAveragePooling2D()(x)\n",
    "x = layers.Dense(256, activation='relu')(x)\n",
    "x = layers.Dropout(0.5)(x)\n",
    "outputs = layers.Dense(5, activation='softmax')(x)\n",
    "\n",
    "model = keras.Model(inputs, outputs)\n",
    "\n",
    "model.compile(optimizer=keras.optimizers.RMSprop(0.001), loss='sparse_categorical_crossentropy', metrics=['accuracy'])\n",
    "\n",
    "model.summary()"
   ]
  },
  {
   "cell_type": "markdown",
   "metadata": {},
   "source": [
    "# Adding Callbacks"
   ]
  },
  {
   "cell_type": "code",
   "execution_count": 5,
   "metadata": {},
   "outputs": [],
   "source": [
    "callbacks_list = [\n",
    "    keras.callbacks.EarlyStopping(\n",
    "        monitor=\"val_accuracy\",\n",
    "        patience=8\n",
    "    ),\n",
    "    keras.callbacks.ModelCheckpoint(\n",
    "        filepath=\"../../models/vtid2/m2_medium.h5\",\n",
    "        monitor=\"val_accuracy\",\n",
    "        save_best_only=True\n",
    "    )\n",
    "]"
   ]
  },
  {
   "cell_type": "markdown",
   "metadata": {},
   "source": [
    "# Running the model"
   ]
  },
  {
   "cell_type": "code",
   "execution_count": 6,
   "metadata": {},
   "outputs": [
    {
     "name": "stdout",
     "output_type": "stream",
     "text": [
      "Epoch 1/40\n"
     ]
    },
    {
     "name": "stderr",
     "output_type": "stream",
     "text": [
      "2022-08-07 15:49:41.116664: W tensorflow/core/platform/profile_utils/cpu_utils.cc:128] Failed to get CPU frequency: 0 Hz\n",
      "2022-08-07 15:49:41.116752: I tensorflow/core/grappler/optimizers/custom_graph_optimizer_registry.cc:112] Plugin optimizer for device_type GPU is enabled.\n"
     ]
    },
    {
     "name": "stdout",
     "output_type": "stream",
     "text": [
      "96/96 [==============================] - ETA: 0s - loss: 1.5395 - accuracy: 0.3064"
     ]
    },
    {
     "name": "stderr",
     "output_type": "stream",
     "text": [
      "2022-08-07 15:49:47.756277: I tensorflow/core/grappler/optimizers/custom_graph_optimizer_registry.cc:112] Plugin optimizer for device_type GPU is enabled.\n"
     ]
    },
    {
     "name": "stdout",
     "output_type": "stream",
     "text": [
      "96/96 [==============================] - 8s 55ms/step - loss: 1.5395 - accuracy: 0.3064 - val_loss: 1.3973 - val_accuracy: 0.4893\n",
      "Epoch 2/40\n",
      "96/96 [==============================] - 4s 44ms/step - loss: 1.4296 - accuracy: 0.4291 - val_loss: 1.2122 - val_accuracy: 0.5383\n",
      "Epoch 3/40\n",
      "96/96 [==============================] - 4s 45ms/step - loss: 1.2723 - accuracy: 0.5069 - val_loss: 1.1896 - val_accuracy: 0.5307\n",
      "Epoch 4/40\n",
      "96/96 [==============================] - 4s 43ms/step - loss: 1.0786 - accuracy: 0.5886 - val_loss: 0.8793 - val_accuracy: 0.6396\n",
      "Epoch 5/40\n",
      "96/96 [==============================] - 4s 43ms/step - loss: 0.8959 - accuracy: 0.6549 - val_loss: 0.8214 - val_accuracy: 0.6779\n",
      "Epoch 6/40\n",
      "96/96 [==============================] - 4s 45ms/step - loss: 0.7651 - accuracy: 0.7103 - val_loss: 0.8452 - val_accuracy: 0.6488\n",
      "Epoch 7/40\n",
      "96/96 [==============================] - 4s 44ms/step - loss: 0.6559 - accuracy: 0.7503 - val_loss: 0.7154 - val_accuracy: 0.7224\n",
      "Epoch 8/40\n",
      "96/96 [==============================] - 4s 45ms/step - loss: 0.5667 - accuracy: 0.7822 - val_loss: 0.8618 - val_accuracy: 0.6856\n",
      "Epoch 9/40\n",
      "96/96 [==============================] - 4s 44ms/step - loss: 0.4891 - accuracy: 0.8163 - val_loss: 0.6098 - val_accuracy: 0.7745\n",
      "Epoch 10/40\n",
      "96/96 [==============================] - 4s 44ms/step - loss: 0.4183 - accuracy: 0.8484 - val_loss: 0.5764 - val_accuracy: 0.7868\n",
      "Epoch 11/40\n",
      "96/96 [==============================] - 4s 44ms/step - loss: 0.3489 - accuracy: 0.8773 - val_loss: 0.4073 - val_accuracy: 0.8466\n",
      "Epoch 12/40\n",
      "96/96 [==============================] - 4s 45ms/step - loss: 0.3036 - accuracy: 0.8937 - val_loss: 0.3248 - val_accuracy: 0.8635\n",
      "Epoch 13/40\n",
      "96/96 [==============================] - 4s 46ms/step - loss: 0.2584 - accuracy: 0.9127 - val_loss: 0.2613 - val_accuracy: 0.9064\n",
      "Epoch 14/40\n",
      "96/96 [==============================] - 4s 44ms/step - loss: 0.2075 - accuracy: 0.9285 - val_loss: 0.3105 - val_accuracy: 0.8942\n",
      "Epoch 15/40\n",
      "96/96 [==============================] - 4s 44ms/step - loss: 0.1711 - accuracy: 0.9423 - val_loss: 0.2497 - val_accuracy: 0.9110\n",
      "Epoch 16/40\n",
      "96/96 [==============================] - 4s 44ms/step - loss: 0.1589 - accuracy: 0.9455 - val_loss: 0.1747 - val_accuracy: 0.9402\n",
      "Epoch 17/40\n",
      "96/96 [==============================] - 4s 44ms/step - loss: 0.1422 - accuracy: 0.9564 - val_loss: 0.1936 - val_accuracy: 0.9417\n",
      "Epoch 18/40\n",
      "96/96 [==============================] - 4s 46ms/step - loss: 0.1330 - accuracy: 0.9596 - val_loss: 0.1729 - val_accuracy: 0.9433\n",
      "Epoch 19/40\n",
      "96/96 [==============================] - 4s 44ms/step - loss: 0.1084 - accuracy: 0.9678 - val_loss: 0.1451 - val_accuracy: 0.9586\n",
      "Epoch 20/40\n",
      "96/96 [==============================] - 4s 43ms/step - loss: 0.0812 - accuracy: 0.9760 - val_loss: 0.1646 - val_accuracy: 0.9525\n",
      "Epoch 21/40\n",
      "96/96 [==============================] - 4s 44ms/step - loss: 0.1249 - accuracy: 0.9695 - val_loss: 0.1512 - val_accuracy: 0.9509\n",
      "Epoch 22/40\n",
      "96/96 [==============================] - 4s 45ms/step - loss: 0.1019 - accuracy: 0.9774 - val_loss: 0.5090 - val_accuracy: 0.8758\n",
      "Epoch 23/40\n",
      "96/96 [==============================] - 4s 44ms/step - loss: 0.0688 - accuracy: 0.9816 - val_loss: 0.3051 - val_accuracy: 0.9141\n",
      "Epoch 24/40\n",
      "96/96 [==============================] - 4s 44ms/step - loss: 0.0977 - accuracy: 0.9793 - val_loss: 0.2095 - val_accuracy: 0.9248\n",
      "Epoch 25/40\n",
      "96/96 [==============================] - 4s 44ms/step - loss: 0.0682 - accuracy: 0.9836 - val_loss: 0.0599 - val_accuracy: 0.9877\n",
      "Epoch 26/40\n",
      "96/96 [==============================] - 4s 46ms/step - loss: 0.0654 - accuracy: 0.9865 - val_loss: 0.1110 - val_accuracy: 0.9801\n",
      "Epoch 27/40\n",
      "96/96 [==============================] - 4s 45ms/step - loss: 0.1057 - accuracy: 0.9810 - val_loss: 0.0636 - val_accuracy: 0.9862\n",
      "Epoch 28/40\n",
      "96/96 [==============================] - 4s 43ms/step - loss: 0.1059 - accuracy: 0.9797 - val_loss: 0.2062 - val_accuracy: 0.9126\n",
      "Epoch 29/40\n",
      "96/96 [==============================] - 4s 44ms/step - loss: 0.0385 - accuracy: 0.9915 - val_loss: 0.0379 - val_accuracy: 0.9908\n",
      "Epoch 30/40\n",
      "96/96 [==============================] - 4s 44ms/step - loss: 0.0667 - accuracy: 0.9833 - val_loss: 0.0350 - val_accuracy: 0.9877\n",
      "Epoch 31/40\n",
      "96/96 [==============================] - 4s 44ms/step - loss: 0.0693 - accuracy: 0.9859 - val_loss: 0.0610 - val_accuracy: 0.9862\n",
      "Epoch 32/40\n",
      "96/96 [==============================] - 4s 44ms/step - loss: 0.0719 - accuracy: 0.9869 - val_loss: 0.0740 - val_accuracy: 0.9831\n",
      "Epoch 33/40\n",
      "96/96 [==============================] - 4s 44ms/step - loss: 0.0870 - accuracy: 0.9875 - val_loss: 0.0613 - val_accuracy: 0.9831\n",
      "Epoch 34/40\n",
      "96/96 [==============================] - 4s 44ms/step - loss: 0.0684 - accuracy: 0.9882 - val_loss: 0.1505 - val_accuracy: 0.9663\n",
      "Epoch 35/40\n",
      "96/96 [==============================] - 4s 44ms/step - loss: 0.0311 - accuracy: 0.9925 - val_loss: 0.0705 - val_accuracy: 0.9862\n",
      "Epoch 36/40\n",
      "96/96 [==============================] - 4s 44ms/step - loss: 0.1059 - accuracy: 0.9836 - val_loss: 0.1081 - val_accuracy: 0.9755\n",
      "Epoch 37/40\n",
      "96/96 [==============================] - 4s 44ms/step - loss: 0.0390 - accuracy: 0.9944 - val_loss: 0.0481 - val_accuracy: 0.9908\n"
     ]
    }
   ],
   "source": [
    "history = model.fit(\n",
    "  train.cache(),\n",
    "  epochs=40,\n",
    "  callbacks=callbacks_list,\n",
    "  validation_data=val.cache()\n",
    ")"
   ]
  },
  {
   "cell_type": "markdown",
   "metadata": {},
   "source": [
    "# Evaluating the model"
   ]
  },
  {
   "cell_type": "code",
   "execution_count": 7,
   "metadata": {},
   "outputs": [
    {
     "name": "stdout",
     "output_type": "stream",
     "text": [
      " 1/21 [>.............................] - ETA: 4s - loss: 0.0024 - accuracy: 1.0000"
     ]
    },
    {
     "name": "stderr",
     "output_type": "stream",
     "text": [
      "2022-08-07 15:52:21.307258: I tensorflow/core/grappler/optimizers/custom_graph_optimizer_registry.cc:112] Plugin optimizer for device_type GPU is enabled.\n"
     ]
    },
    {
     "name": "stdout",
     "output_type": "stream",
     "text": [
      "21/21 [==============================] - 1s 20ms/step - loss: 0.0779 - accuracy: 0.9863\n"
     ]
    },
    {
     "data": {
      "text/plain": [
       "[0.07787609845399857, 0.9862805008888245]"
      ]
     },
     "execution_count": 7,
     "metadata": {},
     "output_type": "execute_result"
    }
   ],
   "source": [
    "# model.evaluate(test)\n",
    "\n",
    "load_model = keras.models.load_model(\"../../models/vtid2/m2_medium.h5\")\n",
    "load_model.evaluate(test)"
   ]
  },
  {
   "cell_type": "code",
   "execution_count": 8,
   "metadata": {},
   "outputs": [
    {
     "data": {
      "text/plain": [
       "<module 'matplotlib.pyplot' from '/opt/homebrew/Caskroom/miniforge/base/lib/python3.9/site-packages/matplotlib/pyplot.py'>"
      ]
     },
     "execution_count": 8,
     "metadata": {},
     "output_type": "execute_result"
    },
    {
     "data": {
      "image/png": "[encoded data removed]",
      "text/plain": [
       "<Figure size 432x288 with 1 Axes>"
      ]
     },
     "metadata": {
      "needs_background": "light"
     },
     "output_type": "display_data"
    }
   ],
   "source": [
    "# Plotting loss and accuracy graphs\n",
    "## Plotting loss\n",
    "plot_loss(history)\n"
   ]
  },
  {
   "cell_type": "code",
   "execution_count": 9,
   "metadata": {},
   "outputs": [
    {
     "data": {
      "text/plain": [
       "<module 'matplotlib.pyplot' from '/opt/homebrew/Caskroom/miniforge/base/lib/python3.9/site-packages/matplotlib/pyplot.py'>"
      ]
     },
     "execution_count": 9,
     "metadata": {},
     "output_type": "execute_result"
    },
    {
     "data": {
      "image/png": "[encoded data removed]",
      "text/plain": [
       "<Figure size 432x288 with 1 Axes>"
      ]
     },
     "metadata": {
      "needs_background": "light"
     },
     "output_type": "display_data"
    }
   ],
   "source": [
    "## Plotting accuracy\n",
    "plot_acc(history)"
   ]
  }
 ],
 "metadata": {
  "kernelspec": {
   "display_name": "Python 3.9.7 ('base')",
   "language": "python",
   "name": "python3"
  },
  "language_info": {
   "codemirror_mode": {
    "name": "ipython",
    "version": 3
   },
   "file_extension": ".py",
   "mimetype": "text/x-python",
   "name": "python",
   "nbconvert_exporter": "python",
   "pygments_lexer": "ipython3",
   "version": "3.9.7"
  },
  "orig_nbformat": 4,
  "vscode": {
   "interpreter": {
    "hash": "c6e4e9f98eb68ad3b7c296f83d20e6de614cb42e90992a65aa266555a3137d0d"
   }
  }
 },
 "nbformat": 4,
 "nbformat_minor": 2
}
