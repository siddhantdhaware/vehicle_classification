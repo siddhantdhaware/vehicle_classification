{
 "cells": [
  {
   "cell_type": "markdown",
   "metadata": {},
   "source": [
    "# Importing the libraries"
   ]
  },
  {
   "cell_type": "code",
   "execution_count": 1,
   "metadata": {},
   "outputs": [],
   "source": [
    "import tensorflow as tf\n",
    "from tensorflow.keras import layers, utils\n",
    "from tensorflow import keras\n",
    "from matplotlib import pyplot as plt"
   ]
  },
  {
   "cell_type": "markdown",
   "metadata": {},
   "source": [
    "# Setting Image and Batch Size"
   ]
  },
  {
   "cell_type": "code",
   "execution_count": 2,
   "metadata": {},
   "outputs": [],
   "source": [
    "IMAGE_SIZE = 100\n",
    "BATCH_SIZE = 32"
   ]
  },
  {
   "cell_type": "markdown",
   "metadata": {},
   "source": [
    "# Loading the train, val, and test data"
   ]
  },
  {
   "cell_type": "code",
   "execution_count": 3,
   "metadata": {},
   "outputs": [
    {
     "name": "stdout",
     "output_type": "stream",
     "text": [
      "Found 3048 files belonging to 5 classes.\n",
      "Metal device set to: Apple M1\n",
      "\n",
      "systemMemory: 16.00 GB\n",
      "maxCacheSize: 5.33 GB\n",
      "\n",
      "Found 652 files belonging to 5 classes.\n",
      "Found 656 files belonging to 5 classes.\n"
     ]
    },
    {
     "name": "stderr",
     "output_type": "stream",
     "text": [
      "2022-08-03 13:58:27.814527: I tensorflow/core/common_runtime/pluggable_device/pluggable_device_factory.cc:305] Could not identify NUMA node of platform GPU ID 0, defaulting to 0. Your kernel may not have been built with NUMA support.\n",
      "2022-08-03 13:58:27.814653: I tensorflow/core/common_runtime/pluggable_device/pluggable_device_factory.cc:271] Created TensorFlow device (/job:localhost/replica:0/task:0/device:GPU:0 with 0 MB memory) -> physical PluggableDevice (device: 0, name: METAL, pci bus id: <undefined>)\n"
     ]
    }
   ],
   "source": [
    "train = utils.image_dataset_from_directory(\"../../datasets/data/split/VTID2/train\", image_size=(IMAGE_SIZE, IMAGE_SIZE), batch_size=BATCH_SIZE)\n",
    "val = utils.image_dataset_from_directory(\"../../datasets/data/split/VTID2/val\", image_size=(IMAGE_SIZE, IMAGE_SIZE), batch_size=BATCH_SIZE)\n",
    "test = utils.image_dataset_from_directory(\"../../datasets/data/split/VTID2/test\", image_size=(IMAGE_SIZE, IMAGE_SIZE), batch_size=BATCH_SIZE)"
   ]
  },
  {
   "cell_type": "markdown",
   "metadata": {},
   "source": [
    "# Defining the model"
   ]
  },
  {
   "cell_type": "code",
   "execution_count": 4,
   "metadata": {},
   "outputs": [
    {
     "name": "stdout",
     "output_type": "stream",
     "text": [
      "Model: \"model\"\n",
      "_________________________________________________________________\n",
      " Layer (type)                Output Shape              Param #   \n",
      "=================================================================\n",
      " input_1 (InputLayer)        [(None, 100, 100, 3)]     0         \n",
      "                                                                 \n",
      " rescaling (Rescaling)       (None, 100, 100, 3)       0         \n",
      "                                                                 \n",
      " conv2d (Conv2D)             (None, 98, 98, 16)        448       \n",
      "                                                                 \n",
      " max_pooling2d (MaxPooling2D  (None, 49, 49, 16)       0         \n",
      " )                                                               \n",
      "                                                                 \n",
      " conv2d_1 (Conv2D)           (None, 47, 47, 32)        4640      \n",
      "                                                                 \n",
      " max_pooling2d_1 (MaxPooling  (None, 23, 23, 32)       0         \n",
      " 2D)                                                             \n",
      "                                                                 \n",
      " conv2d_2 (Conv2D)           (None, 21, 21, 64)        18496     \n",
      "                                                                 \n",
      " global_average_pooling2d (G  (None, 64)               0         \n",
      " lobalAveragePooling2D)                                          \n",
      "                                                                 \n",
      " dropout (Dropout)           (None, 64)                0         \n",
      "                                                                 \n",
      " dense (Dense)               (None, 5)                 325       \n",
      "                                                                 \n",
      "=================================================================\n",
      "Total params: 23,909\n",
      "Trainable params: 23,909\n",
      "Non-trainable params: 0\n",
      "_________________________________________________________________\n"
     ]
    }
   ],
   "source": [
    "inputs = keras.Input(shape=(100, 100, 3))\n",
    "x = inputs\n",
    "x = layers.Rescaling(1./255)(x)\n",
    "x = layers.Conv2D(16, 3, activation='relu')(x)\n",
    "x = layers.MaxPooling2D(2)(x)\n",
    "x = layers.Conv2D(32, 3, activation='relu')(x)\n",
    "x = layers.MaxPooling2D(2)(x)\n",
    "x = layers.Conv2D(64, 3, activation='relu')(x)\n",
    "x = layers.GlobalAveragePooling2D()(x)\n",
    "x = layers.Dropout(0.5)(x)\n",
    "outputs = layers.Dense(5, activation='softmax')(x)\n",
    "\n",
    "model = keras.Model(inputs, outputs)\n",
    "\n",
    "model.compile(optimizer=keras.optimizers.RMSprop(0.005), loss='sparse_categorical_crossentropy', metrics=['accuracy'])\n",
    "\n",
    "model.summary()"
   ]
  },
  {
   "cell_type": "markdown",
   "metadata": {},
   "source": [
    "# Adding Callbacks"
   ]
  },
  {
   "cell_type": "code",
   "execution_count": 5,
   "metadata": {},
   "outputs": [],
   "source": [
    "callbacks_list = [\n",
    "    keras.callbacks.EarlyStopping(\n",
    "        monitor=\"val_accuracy\",\n",
    "        patience=8\n",
    "    ),\n",
    "    keras.callbacks.ModelCheckpoint(\n",
    "        filepath=\"../../models/vtid2/m3_small.h5\",\n",
    "        monitor=\"val_accuracy\",\n",
    "        save_best_only=True\n",
    "    )\n",
    "]"
   ]
  },
  {
   "cell_type": "markdown",
   "metadata": {},
   "source": [
    "# Running the model"
   ]
  },
  {
   "cell_type": "code",
   "execution_count": 6,
   "metadata": {},
   "outputs": [
    {
     "name": "stdout",
     "output_type": "stream",
     "text": [
      "Epoch 1/50\n"
     ]
    },
    {
     "name": "stderr",
     "output_type": "stream",
     "text": [
      "2022-08-03 13:58:28.668422: W tensorflow/core/platform/profile_utils/cpu_utils.cc:128] Failed to get CPU frequency: 0 Hz\n",
      "2022-08-03 13:58:28.668511: I tensorflow/core/grappler/optimizers/custom_graph_optimizer_registry.cc:112] Plugin optimizer for device_type GPU is enabled.\n"
     ]
    },
    {
     "name": "stdout",
     "output_type": "stream",
     "text": [
      "96/96 [==============================] - ETA: 0s - loss: 1.5552 - accuracy: 0.3107"
     ]
    },
    {
     "name": "stderr",
     "output_type": "stream",
     "text": [
      "2022-08-03 13:58:33.105194: I tensorflow/core/grappler/optimizers/custom_graph_optimizer_registry.cc:112] Plugin optimizer for device_type GPU is enabled.\n"
     ]
    },
    {
     "name": "stdout",
     "output_type": "stream",
     "text": [
      "96/96 [==============================] - 5s 31ms/step - loss: 1.5552 - accuracy: 0.3107 - val_loss: 1.6082 - val_accuracy: 0.2853\n",
      "Epoch 2/50\n",
      "96/96 [==============================] - 2s 23ms/step - loss: 1.4677 - accuracy: 0.3930 - val_loss: 1.6184 - val_accuracy: 0.2929\n",
      "Epoch 3/50\n",
      "96/96 [==============================] - 2s 22ms/step - loss: 1.3844 - accuracy: 0.4488 - val_loss: 1.5082 - val_accuracy: 0.3344\n",
      "Epoch 4/50\n",
      "96/96 [==============================] - 2s 22ms/step - loss: 1.3069 - accuracy: 0.4833 - val_loss: 1.4375 - val_accuracy: 0.3896\n",
      "Epoch 5/50\n",
      "96/96 [==============================] - 2s 22ms/step - loss: 1.2198 - accuracy: 0.5259 - val_loss: 1.5239 - val_accuracy: 0.3926\n",
      "Epoch 6/50\n",
      "96/96 [==============================] - 2s 22ms/step - loss: 1.1398 - accuracy: 0.5653 - val_loss: 1.6049 - val_accuracy: 0.4049\n",
      "Epoch 7/50\n",
      "96/96 [==============================] - 2s 23ms/step - loss: 1.0608 - accuracy: 0.6017 - val_loss: 1.4976 - val_accuracy: 0.4479\n",
      "Epoch 8/50\n",
      "96/96 [==============================] - 2s 23ms/step - loss: 0.9994 - accuracy: 0.6302 - val_loss: 1.4967 - val_accuracy: 0.4678\n",
      "Epoch 9/50\n",
      "96/96 [==============================] - 2s 22ms/step - loss: 0.9433 - accuracy: 0.6516 - val_loss: 1.3795 - val_accuracy: 0.4939\n",
      "Epoch 10/50\n",
      "96/96 [==============================] - 2s 22ms/step - loss: 0.8909 - accuracy: 0.6699 - val_loss: 1.4478 - val_accuracy: 0.4908\n",
      "Epoch 11/50\n",
      "96/96 [==============================] - 3s 28ms/step - loss: 0.8423 - accuracy: 0.6880 - val_loss: 1.3891 - val_accuracy: 0.5169\n",
      "Epoch 12/50\n",
      "96/96 [==============================] - 2s 24ms/step - loss: 0.7984 - accuracy: 0.7100 - val_loss: 1.4162 - val_accuracy: 0.5153\n",
      "Epoch 13/50\n",
      "96/96 [==============================] - 2s 23ms/step - loss: 0.7534 - accuracy: 0.7264 - val_loss: 1.3714 - val_accuracy: 0.5245\n",
      "Epoch 14/50\n",
      "96/96 [==============================] - 2s 23ms/step - loss: 0.7096 - accuracy: 0.7395 - val_loss: 1.2471 - val_accuracy: 0.5660\n",
      "Epoch 15/50\n",
      "96/96 [==============================] - 2s 23ms/step - loss: 0.6679 - accuracy: 0.7562 - val_loss: 0.9757 - val_accuracy: 0.6365\n",
      "Epoch 16/50\n",
      "96/96 [==============================] - 2s 23ms/step - loss: 0.6323 - accuracy: 0.7723 - val_loss: 0.9341 - val_accuracy: 0.6503\n",
      "Epoch 17/50\n",
      "96/96 [==============================] - 2s 24ms/step - loss: 0.5980 - accuracy: 0.7884 - val_loss: 0.8842 - val_accuracy: 0.6656\n",
      "Epoch 18/50\n",
      "96/96 [==============================] - 2s 24ms/step - loss: 0.5632 - accuracy: 0.7976 - val_loss: 0.8519 - val_accuracy: 0.6840\n",
      "Epoch 19/50\n",
      "96/96 [==============================] - 2s 24ms/step - loss: 0.5401 - accuracy: 0.8114 - val_loss: 0.7852 - val_accuracy: 0.7101\n",
      "Epoch 20/50\n",
      "96/96 [==============================] - 2s 24ms/step - loss: 0.5076 - accuracy: 0.8222 - val_loss: 0.7313 - val_accuracy: 0.7362\n",
      "Epoch 21/50\n",
      "96/96 [==============================] - 2s 23ms/step - loss: 0.4828 - accuracy: 0.8376 - val_loss: 0.7185 - val_accuracy: 0.7408\n",
      "Epoch 22/50\n",
      "96/96 [==============================] - 2s 23ms/step - loss: 0.4656 - accuracy: 0.8327 - val_loss: 0.6706 - val_accuracy: 0.7515\n",
      "Epoch 23/50\n",
      "96/96 [==============================] - 2s 24ms/step - loss: 0.4287 - accuracy: 0.8488 - val_loss: 0.6831 - val_accuracy: 0.7423\n",
      "Epoch 24/50\n",
      "96/96 [==============================] - 2s 24ms/step - loss: 0.4141 - accuracy: 0.8573 - val_loss: 0.6125 - val_accuracy: 0.7684\n",
      "Epoch 25/50\n",
      "96/96 [==============================] - 2s 24ms/step - loss: 0.3880 - accuracy: 0.8678 - val_loss: 0.5841 - val_accuracy: 0.7776\n",
      "Epoch 26/50\n",
      "96/96 [==============================] - 2s 24ms/step - loss: 0.3654 - accuracy: 0.8747 - val_loss: 0.6281 - val_accuracy: 0.7684\n",
      "Epoch 27/50\n",
      "96/96 [==============================] - 2s 24ms/step - loss: 0.3571 - accuracy: 0.8743 - val_loss: 0.5728 - val_accuracy: 0.7822\n",
      "Epoch 28/50\n",
      "96/96 [==============================] - 2s 24ms/step - loss: 0.3411 - accuracy: 0.8852 - val_loss: 0.5225 - val_accuracy: 0.7914\n",
      "Epoch 29/50\n",
      "96/96 [==============================] - 2s 24ms/step - loss: 0.3013 - accuracy: 0.8960 - val_loss: 0.6023 - val_accuracy: 0.7699\n",
      "Epoch 30/50\n",
      "96/96 [==============================] - 2s 25ms/step - loss: 0.3104 - accuracy: 0.8957 - val_loss: 0.4852 - val_accuracy: 0.8129\n",
      "Epoch 31/50\n",
      "96/96 [==============================] - 2s 24ms/step - loss: 0.2937 - accuracy: 0.9022 - val_loss: 0.4252 - val_accuracy: 0.8359\n",
      "Epoch 32/50\n",
      "96/96 [==============================] - 2s 24ms/step - loss: 0.2667 - accuracy: 0.9081 - val_loss: 0.4394 - val_accuracy: 0.8282\n",
      "Epoch 33/50\n",
      "96/96 [==============================] - 2s 24ms/step - loss: 0.2508 - accuracy: 0.9193 - val_loss: 0.4727 - val_accuracy: 0.8129\n",
      "Epoch 34/50\n",
      "96/96 [==============================] - 2s 24ms/step - loss: 0.2490 - accuracy: 0.9183 - val_loss: 0.5170 - val_accuracy: 0.8175\n",
      "Epoch 35/50\n",
      "96/96 [==============================] - 2s 24ms/step - loss: 0.2290 - accuracy: 0.9222 - val_loss: 0.4775 - val_accuracy: 0.8175\n",
      "Epoch 36/50\n",
      "96/96 [==============================] - 2s 24ms/step - loss: 0.2233 - accuracy: 0.9288 - val_loss: 0.8510 - val_accuracy: 0.7485\n",
      "Epoch 37/50\n",
      "96/96 [==============================] - 2s 25ms/step - loss: 0.2087 - accuracy: 0.9281 - val_loss: 0.3965 - val_accuracy: 0.8558\n",
      "Epoch 38/50\n",
      "96/96 [==============================] - 2s 25ms/step - loss: 0.2014 - accuracy: 0.9354 - val_loss: 1.7323 - val_accuracy: 0.6365\n",
      "Epoch 39/50\n",
      "96/96 [==============================] - 2s 24ms/step - loss: 0.2128 - accuracy: 0.9347 - val_loss: 0.3599 - val_accuracy: 0.8620\n",
      "Epoch 40/50\n",
      "96/96 [==============================] - 2s 24ms/step - loss: 0.1883 - accuracy: 0.9439 - val_loss: 0.5645 - val_accuracy: 0.8160\n",
      "Epoch 41/50\n",
      "96/96 [==============================] - 2s 24ms/step - loss: 0.1856 - accuracy: 0.9413 - val_loss: 0.3584 - val_accuracy: 0.8834\n",
      "Epoch 42/50\n",
      "96/96 [==============================] - 2s 24ms/step - loss: 0.1863 - accuracy: 0.9403 - val_loss: 0.3818 - val_accuracy: 0.8681\n",
      "Epoch 43/50\n",
      "96/96 [==============================] - 2s 25ms/step - loss: 0.1836 - accuracy: 0.9455 - val_loss: 0.3687 - val_accuracy: 0.8788\n",
      "Epoch 44/50\n",
      "96/96 [==============================] - 2s 24ms/step - loss: 0.1677 - accuracy: 0.9439 - val_loss: 0.3676 - val_accuracy: 0.8819\n",
      "Epoch 45/50\n",
      "96/96 [==============================] - 2s 25ms/step - loss: 0.1473 - accuracy: 0.9514 - val_loss: 0.3202 - val_accuracy: 0.9003\n",
      "Epoch 46/50\n",
      "96/96 [==============================] - 2s 24ms/step - loss: 0.1507 - accuracy: 0.9508 - val_loss: 1.6354 - val_accuracy: 0.6994\n",
      "Epoch 47/50\n",
      "96/96 [==============================] - 2s 24ms/step - loss: 0.1449 - accuracy: 0.9554 - val_loss: 0.7733 - val_accuracy: 0.7745\n",
      "Epoch 48/50\n",
      "96/96 [==============================] - 2s 24ms/step - loss: 0.1556 - accuracy: 0.9521 - val_loss: 0.4616 - val_accuracy: 0.8390\n",
      "Epoch 49/50\n",
      "96/96 [==============================] - 2s 25ms/step - loss: 0.1315 - accuracy: 0.9567 - val_loss: 0.2510 - val_accuracy: 0.9233\n",
      "Epoch 50/50\n",
      "96/96 [==============================] - 2s 24ms/step - loss: 0.1157 - accuracy: 0.9646 - val_loss: 0.2666 - val_accuracy: 0.9126\n"
     ]
    }
   ],
   "source": [
    "history = model.fit(\n",
    "  train.cache(),\n",
    "  epochs=50,\n",
    "  callbacks=callbacks_list,\n",
    "  validation_data=val.cache()\n",
    ")"
   ]
  },
  {
   "cell_type": "markdown",
   "metadata": {},
   "source": [
    "# Evaluating the model"
   ]
  },
  {
   "cell_type": "code",
   "execution_count": 7,
   "metadata": {},
   "outputs": [
    {
     "name": "stdout",
     "output_type": "stream",
     "text": [
      "21/21 [==============================] - 1s 19ms/step - loss: 0.2897 - accuracy: 0.9345\n",
      " 1/21 [>.............................] - ETA: 4s - loss: 0.5282 - accuracy: 0.9062"
     ]
    },
    {
     "name": "stderr",
     "output_type": "stream",
     "text": [
      "2022-08-03 14:00:26.722182: I tensorflow/core/grappler/optimizers/custom_graph_optimizer_registry.cc:112] Plugin optimizer for device_type GPU is enabled.\n"
     ]
    },
    {
     "name": "stdout",
     "output_type": "stream",
     "text": [
      "21/21 [==============================] - 1s 17ms/step - loss: 0.2589 - accuracy: 0.9329\n"
     ]
    },
    {
     "data": {
      "text/plain": [
       "[0.25887244939804077, 0.9329268932342529]"
      ]
     },
     "execution_count": 7,
     "metadata": {},
     "output_type": "execute_result"
    }
   ],
   "source": [
    "model.evaluate(test)\n",
    "\n",
    "load_model = keras.models.load_model(\"../../models/vtid2/m3_small.h5\")\n",
    "load_model.evaluate(test)"
   ]
  }
 ],
 "metadata": {
  "kernelspec": {
   "display_name": "Python 3.9.7 ('base')",
   "language": "python",
   "name": "python3"
  },
  "language_info": {
   "codemirror_mode": {
    "name": "ipython",
    "version": 3
   },
   "file_extension": ".py",
   "mimetype": "text/x-python",
   "name": "python",
   "nbconvert_exporter": "python",
   "pygments_lexer": "ipython3",
   "version": "3.9.7"
  },
  "orig_nbformat": 4,
  "vscode": {
   "interpreter": {
    "hash": "c6e4e9f98eb68ad3b7c296f83d20e6de614cb42e90992a65aa266555a3137d0d"
   }
  }
 },
 "nbformat": 4,
 "nbformat_minor": 2
}
