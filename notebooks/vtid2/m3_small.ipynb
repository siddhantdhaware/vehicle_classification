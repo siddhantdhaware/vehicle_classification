{
 "cells": [
  {
   "cell_type": "markdown",
   "metadata": {},
   "source": [
    "# Importing the libraries"
   ]
  },
  {
   "cell_type": "code",
   "execution_count": 1,
   "metadata": {},
   "outputs": [],
   "source": [
    "import tensorflow as tf\n",
    "from tensorflow.keras import layers, utils\n",
    "from tensorflow import keras\n",
    "from matplotlib import pyplot as plt\n",
    "\n",
    "import sys\n",
    "sys.path.insert(0, '../../')\n",
    "from plot_graphs import plot_loss, plot_acc"
   ]
  },
  {
   "cell_type": "markdown",
   "metadata": {},
   "source": [
    "# Setting Image and Batch Size"
   ]
  },
  {
   "cell_type": "code",
   "execution_count": 2,
   "metadata": {},
   "outputs": [],
   "source": [
    "IMAGE_SIZE = 100\n",
    "BATCH_SIZE = 32"
   ]
  },
  {
   "cell_type": "markdown",
   "metadata": {},
   "source": [
    "# Loading the train, val, and test data"
   ]
  },
  {
   "cell_type": "code",
   "execution_count": 3,
   "metadata": {},
   "outputs": [
    {
     "name": "stdout",
     "output_type": "stream",
     "text": [
      "Found 3048 files belonging to 5 classes.\n",
      "Metal device set to: Apple M1\n",
      "\n",
      "systemMemory: 16.00 GB\n",
      "maxCacheSize: 5.33 GB\n",
      "\n",
      "Found 652 files belonging to 5 classes.\n",
      "Found 656 files belonging to 5 classes.\n"
     ]
    },
    {
     "name": "stderr",
     "output_type": "stream",
     "text": [
      "2022-08-07 15:54:17.912335: I tensorflow/core/common_runtime/pluggable_device/pluggable_device_factory.cc:305] Could not identify NUMA node of platform GPU ID 0, defaulting to 0. Your kernel may not have been built with NUMA support.\n",
      "2022-08-07 15:54:17.912475: I tensorflow/core/common_runtime/pluggable_device/pluggable_device_factory.cc:271] Created TensorFlow device (/job:localhost/replica:0/task:0/device:GPU:0 with 0 MB memory) -> physical PluggableDevice (device: 0, name: METAL, pci bus id: <undefined>)\n"
     ]
    }
   ],
   "source": [
    "train = utils.image_dataset_from_directory(\"../../datasets/data/split/VTID2/train\", image_size=(IMAGE_SIZE, IMAGE_SIZE), batch_size=BATCH_SIZE)\n",
    "val = utils.image_dataset_from_directory(\"../../datasets/data/split/VTID2/val\", image_size=(IMAGE_SIZE, IMAGE_SIZE), batch_size=BATCH_SIZE)\n",
    "test = utils.image_dataset_from_directory(\"../../datasets/data/split/VTID2/test\", image_size=(IMAGE_SIZE, IMAGE_SIZE), batch_size=BATCH_SIZE)"
   ]
  },
  {
   "cell_type": "markdown",
   "metadata": {},
   "source": [
    "# Defining the model"
   ]
  },
  {
   "cell_type": "code",
   "execution_count": 4,
   "metadata": {},
   "outputs": [
    {
     "name": "stdout",
     "output_type": "stream",
     "text": [
      "Model: \"model\"\n",
      "_________________________________________________________________\n",
      " Layer (type)                Output Shape              Param #   \n",
      "=================================================================\n",
      " input_1 (InputLayer)        [(None, 100, 100, 3)]     0         \n",
      "                                                                 \n",
      " rescaling (Rescaling)       (None, 100, 100, 3)       0         \n",
      "                                                                 \n",
      " conv2d (Conv2D)             (None, 98, 98, 16)        448       \n",
      "                                                                 \n",
      " max_pooling2d (MaxPooling2D  (None, 49, 49, 16)       0         \n",
      " )                                                               \n",
      "                                                                 \n",
      " conv2d_1 (Conv2D)           (None, 47, 47, 32)        4640      \n",
      "                                                                 \n",
      " max_pooling2d_1 (MaxPooling  (None, 23, 23, 32)       0         \n",
      " 2D)                                                             \n",
      "                                                                 \n",
      " conv2d_2 (Conv2D)           (None, 21, 21, 64)        18496     \n",
      "                                                                 \n",
      " global_average_pooling2d (G  (None, 64)               0         \n",
      " lobalAveragePooling2D)                                          \n",
      "                                                                 \n",
      " dropout (Dropout)           (None, 64)                0         \n",
      "                                                                 \n",
      " dense (Dense)               (None, 5)                 325       \n",
      "                                                                 \n",
      "=================================================================\n",
      "Total params: 23,909\n",
      "Trainable params: 23,909\n",
      "Non-trainable params: 0\n",
      "_________________________________________________________________\n"
     ]
    }
   ],
   "source": [
    "inputs = keras.Input(shape=(100, 100, 3))\n",
    "x = inputs\n",
    "x = layers.Rescaling(1./255)(x)\n",
    "x = layers.Conv2D(16, 3, activation='relu')(x)\n",
    "x = layers.MaxPooling2D(2)(x)\n",
    "x = layers.Conv2D(32, 3, activation='relu')(x)\n",
    "x = layers.MaxPooling2D(2)(x)\n",
    "x = layers.Conv2D(64, 3, activation='relu')(x)\n",
    "x = layers.GlobalAveragePooling2D()(x)\n",
    "x = layers.Dropout(0.5)(x)\n",
    "outputs = layers.Dense(5, activation='softmax')(x)\n",
    "\n",
    "model = keras.Model(inputs, outputs)\n",
    "\n",
    "model.compile(optimizer=keras.optimizers.RMSprop(0.005), loss='sparse_categorical_crossentropy', metrics=['accuracy'])\n",
    "\n",
    "model.summary()"
   ]
  },
  {
   "cell_type": "markdown",
   "metadata": {},
   "source": [
    "# Adding Callbacks"
   ]
  },
  {
   "cell_type": "code",
   "execution_count": 5,
   "metadata": {},
   "outputs": [],
   "source": [
    "callbacks_list = [\n",
    "    keras.callbacks.EarlyStopping(\n",
    "        monitor=\"val_accuracy\",\n",
    "        patience=8\n",
    "    ),\n",
    "    keras.callbacks.ModelCheckpoint(\n",
    "        filepath=\"../../models/vtid2/m3_small.h5\",\n",
    "        monitor=\"val_accuracy\",\n",
    "        save_best_only=True\n",
    "    )\n",
    "]"
   ]
  },
  {
   "cell_type": "markdown",
   "metadata": {},
   "source": [
    "# Running the model"
   ]
  },
  {
   "cell_type": "code",
   "execution_count": 6,
   "metadata": {},
   "outputs": [
    {
     "name": "stdout",
     "output_type": "stream",
     "text": [
      "Epoch 1/50\n"
     ]
    },
    {
     "name": "stderr",
     "output_type": "stream",
     "text": [
      "2022-08-07 15:54:18.498250: W tensorflow/core/platform/profile_utils/cpu_utils.cc:128] Failed to get CPU frequency: 0 Hz\n",
      "2022-08-07 15:54:18.498350: I tensorflow/core/grappler/optimizers/custom_graph_optimizer_registry.cc:112] Plugin optimizer for device_type GPU is enabled.\n"
     ]
    },
    {
     "name": "stdout",
     "output_type": "stream",
     "text": [
      "96/96 [==============================] - ETA: 0s - loss: 1.5630 - accuracy: 0.3163"
     ]
    },
    {
     "name": "stderr",
     "output_type": "stream",
     "text": [
      "2022-08-07 15:54:22.087399: I tensorflow/core/grappler/optimizers/custom_graph_optimizer_registry.cc:112] Plugin optimizer for device_type GPU is enabled.\n"
     ]
    },
    {
     "name": "stdout",
     "output_type": "stream",
     "text": [
      "96/96 [==============================] - 4s 34ms/step - loss: 1.5630 - accuracy: 0.3163 - val_loss: 1.5522 - val_accuracy: 0.2546\n",
      "Epoch 2/50\n",
      "96/96 [==============================] - 2s 24ms/step - loss: 1.4927 - accuracy: 0.3802 - val_loss: 1.8176 - val_accuracy: 0.1380\n",
      "Epoch 3/50\n",
      "96/96 [==============================] - 3s 27ms/step - loss: 1.3989 - accuracy: 0.4232 - val_loss: 1.5078 - val_accuracy: 0.3604\n",
      "Epoch 4/50\n",
      "96/96 [==============================] - 2s 23ms/step - loss: 1.3083 - accuracy: 0.4997 - val_loss: 1.4347 - val_accuracy: 0.3804\n",
      "Epoch 5/50\n",
      "96/96 [==============================] - 2s 25ms/step - loss: 1.1907 - accuracy: 0.5420 - val_loss: 1.3457 - val_accuracy: 0.4387\n",
      "Epoch 6/50\n",
      "96/96 [==============================] - 2s 25ms/step - loss: 1.1152 - accuracy: 0.5758 - val_loss: 1.1273 - val_accuracy: 0.5660\n",
      "Epoch 7/50\n",
      "96/96 [==============================] - 2s 24ms/step - loss: 1.0594 - accuracy: 0.6014 - val_loss: 2.7176 - val_accuracy: 0.3206\n",
      "Epoch 8/50\n",
      "96/96 [==============================] - 2s 23ms/step - loss: 1.0274 - accuracy: 0.6148 - val_loss: 0.9118 - val_accuracy: 0.7009\n",
      "Epoch 9/50\n",
      "96/96 [==============================] - 2s 24ms/step - loss: 0.9322 - accuracy: 0.6470 - val_loss: 1.4765 - val_accuracy: 0.5169\n",
      "Epoch 10/50\n",
      "96/96 [==============================] - 2s 24ms/step - loss: 0.8791 - accuracy: 0.6690 - val_loss: 0.9157 - val_accuracy: 0.6718\n",
      "Epoch 11/50\n",
      "96/96 [==============================] - 2s 23ms/step - loss: 0.8202 - accuracy: 0.6939 - val_loss: 0.9144 - val_accuracy: 0.6810\n",
      "Epoch 12/50\n",
      "96/96 [==============================] - 2s 24ms/step - loss: 0.7846 - accuracy: 0.7093 - val_loss: 1.0470 - val_accuracy: 0.6457\n",
      "Epoch 13/50\n",
      "96/96 [==============================] - 2s 23ms/step - loss: 0.7380 - accuracy: 0.7270 - val_loss: 0.7594 - val_accuracy: 0.7423\n",
      "Epoch 14/50\n",
      "96/96 [==============================] - 2s 24ms/step - loss: 0.7013 - accuracy: 0.7405 - val_loss: 1.4061 - val_accuracy: 0.5936\n",
      "Epoch 15/50\n",
      "96/96 [==============================] - 2s 22ms/step - loss: 0.6767 - accuracy: 0.7625 - val_loss: 0.9471 - val_accuracy: 0.7101\n",
      "Epoch 16/50\n",
      "96/96 [==============================] - 2s 22ms/step - loss: 0.6397 - accuracy: 0.7713 - val_loss: 1.4289 - val_accuracy: 0.6181\n",
      "Epoch 17/50\n",
      "96/96 [==============================] - 2s 26ms/step - loss: 0.6235 - accuracy: 0.7733 - val_loss: 0.9523 - val_accuracy: 0.6794\n",
      "Epoch 18/50\n",
      "96/96 [==============================] - 2s 25ms/step - loss: 0.5851 - accuracy: 0.7818 - val_loss: 0.7180 - val_accuracy: 0.7561\n",
      "Epoch 19/50\n",
      "96/96 [==============================] - 2s 23ms/step - loss: 0.5628 - accuracy: 0.8002 - val_loss: 0.7045 - val_accuracy: 0.7500\n",
      "Epoch 20/50\n",
      "96/96 [==============================] - 2s 23ms/step - loss: 0.5218 - accuracy: 0.8084 - val_loss: 0.7632 - val_accuracy: 0.7561\n",
      "Epoch 21/50\n",
      "96/96 [==============================] - 2s 24ms/step - loss: 0.5062 - accuracy: 0.8189 - val_loss: 0.8616 - val_accuracy: 0.7469\n",
      "Epoch 22/50\n",
      "96/96 [==============================] - 3s 28ms/step - loss: 0.4713 - accuracy: 0.8278 - val_loss: 1.0528 - val_accuracy: 0.7132\n",
      "Epoch 23/50\n",
      "96/96 [==============================] - 3s 29ms/step - loss: 0.4655 - accuracy: 0.8307 - val_loss: 0.8235 - val_accuracy: 0.7531\n",
      "Epoch 24/50\n",
      "96/96 [==============================] - 2s 25ms/step - loss: 0.4356 - accuracy: 0.8435 - val_loss: 0.5476 - val_accuracy: 0.8052\n",
      "Epoch 25/50\n",
      "96/96 [==============================] - 2s 24ms/step - loss: 0.4127 - accuracy: 0.8527 - val_loss: 0.8854 - val_accuracy: 0.7408\n",
      "Epoch 26/50\n",
      "96/96 [==============================] - 3s 26ms/step - loss: 0.3892 - accuracy: 0.8602 - val_loss: 1.0055 - val_accuracy: 0.7347\n",
      "Epoch 27/50\n",
      "96/96 [==============================] - 2s 25ms/step - loss: 0.3742 - accuracy: 0.8602 - val_loss: 0.9140 - val_accuracy: 0.7546\n",
      "Epoch 28/50\n",
      "96/96 [==============================] - 2s 24ms/step - loss: 0.3492 - accuracy: 0.8802 - val_loss: 0.9375 - val_accuracy: 0.7515\n",
      "Epoch 29/50\n",
      "96/96 [==============================] - 2s 23ms/step - loss: 0.3401 - accuracy: 0.8839 - val_loss: 0.6324 - val_accuracy: 0.8144\n",
      "Epoch 30/50\n",
      "96/96 [==============================] - 2s 23ms/step - loss: 0.3191 - accuracy: 0.8898 - val_loss: 0.5311 - val_accuracy: 0.8359\n",
      "Epoch 31/50\n",
      "96/96 [==============================] - 2s 25ms/step - loss: 0.3073 - accuracy: 0.9009 - val_loss: 0.3821 - val_accuracy: 0.8727\n",
      "Epoch 32/50\n",
      "96/96 [==============================] - 2s 24ms/step - loss: 0.2899 - accuracy: 0.9045 - val_loss: 0.4181 - val_accuracy: 0.8620\n",
      "Epoch 33/50\n",
      "96/96 [==============================] - 2s 22ms/step - loss: 0.2872 - accuracy: 0.9058 - val_loss: 0.3845 - val_accuracy: 0.8650\n",
      "Epoch 34/50\n",
      "96/96 [==============================] - 2s 22ms/step - loss: 0.2568 - accuracy: 0.9150 - val_loss: 0.5504 - val_accuracy: 0.8344\n",
      "Epoch 35/50\n",
      "96/96 [==============================] - 2s 24ms/step - loss: 0.2457 - accuracy: 0.9167 - val_loss: 0.3260 - val_accuracy: 0.9018\n",
      "Epoch 36/50\n",
      "96/96 [==============================] - 3s 28ms/step - loss: 0.2470 - accuracy: 0.9209 - val_loss: 1.1028 - val_accuracy: 0.7807\n",
      "Epoch 37/50\n",
      "96/96 [==============================] - 2s 24ms/step - loss: 0.2253 - accuracy: 0.9308 - val_loss: 0.3272 - val_accuracy: 0.8880\n",
      "Epoch 38/50\n",
      "96/96 [==============================] - 3s 28ms/step - loss: 0.2145 - accuracy: 0.9311 - val_loss: 0.2607 - val_accuracy: 0.9141\n",
      "Epoch 39/50\n",
      "96/96 [==============================] - 2s 23ms/step - loss: 0.2034 - accuracy: 0.9324 - val_loss: 0.3590 - val_accuracy: 0.8926\n",
      "Epoch 40/50\n",
      "96/96 [==============================] - 3s 27ms/step - loss: 0.2203 - accuracy: 0.9321 - val_loss: 0.6327 - val_accuracy: 0.7883\n",
      "Epoch 41/50\n",
      "96/96 [==============================] - 2s 25ms/step - loss: 0.2011 - accuracy: 0.9354 - val_loss: 0.4320 - val_accuracy: 0.8635\n",
      "Epoch 42/50\n",
      "96/96 [==============================] - 2s 24ms/step - loss: 0.1927 - accuracy: 0.9357 - val_loss: 0.3994 - val_accuracy: 0.8850\n",
      "Epoch 43/50\n",
      "96/96 [==============================] - 2s 24ms/step - loss: 0.1677 - accuracy: 0.9423 - val_loss: 0.2206 - val_accuracy: 0.9371\n",
      "Epoch 44/50\n",
      "96/96 [==============================] - 2s 24ms/step - loss: 0.1800 - accuracy: 0.9419 - val_loss: 0.3358 - val_accuracy: 0.9110\n",
      "Epoch 45/50\n",
      "96/96 [==============================] - 3s 28ms/step - loss: 0.1530 - accuracy: 0.9508 - val_loss: 0.4031 - val_accuracy: 0.9034\n",
      "Epoch 46/50\n",
      "96/96 [==============================] - 2s 24ms/step - loss: 0.1739 - accuracy: 0.9465 - val_loss: 0.2758 - val_accuracy: 0.9187\n",
      "Epoch 47/50\n",
      "96/96 [==============================] - 2s 23ms/step - loss: 0.1407 - accuracy: 0.9524 - val_loss: 0.8275 - val_accuracy: 0.7684\n",
      "Epoch 48/50\n",
      "96/96 [==============================] - 2s 23ms/step - loss: 0.1438 - accuracy: 0.9524 - val_loss: 0.2062 - val_accuracy: 0.9402\n",
      "Epoch 49/50\n",
      "96/96 [==============================] - 2s 23ms/step - loss: 0.1619 - accuracy: 0.9511 - val_loss: 0.6725 - val_accuracy: 0.7914\n",
      "Epoch 50/50\n",
      "96/96 [==============================] - 3s 27ms/step - loss: 0.1405 - accuracy: 0.9554 - val_loss: 0.2202 - val_accuracy: 0.9433\n"
     ]
    }
   ],
   "source": [
    "history = model.fit(\n",
    "  train.cache(),\n",
    "  epochs=50,\n",
    "  callbacks=callbacks_list,\n",
    "  validation_data=val.cache()\n",
    ")"
   ]
  },
  {
   "cell_type": "markdown",
   "metadata": {},
   "source": [
    "# Evaluating the model"
   ]
  },
  {
   "cell_type": "code",
   "execution_count": 7,
   "metadata": {},
   "outputs": [
    {
     "name": "stderr",
     "output_type": "stream",
     "text": [
      "2022-08-07 15:56:18.064307: I tensorflow/core/grappler/optimizers/custom_graph_optimizer_registry.cc:112] Plugin optimizer for device_type GPU is enabled.\n"
     ]
    },
    {
     "name": "stdout",
     "output_type": "stream",
     "text": [
      "21/21 [==============================] - 1s 16ms/step - loss: 0.2177 - accuracy: 0.9375\n"
     ]
    },
    {
     "data": {
      "text/plain": [
       "[0.2177356481552124, 0.9375000596046448]"
      ]
     },
     "execution_count": 7,
     "metadata": {},
     "output_type": "execute_result"
    }
   ],
   "source": [
    "# model.evaluate(test)\n",
    "\n",
    "load_model = keras.models.load_model(\"../../models/vtid2/m3_small.h5\")\n",
    "load_model.evaluate(test)"
   ]
  },
  {
   "cell_type": "code",
   "execution_count": 8,
   "metadata": {},
   "outputs": [
    {
     "data": {
      "text/plain": [
       "<module 'matplotlib.pyplot' from '/opt/homebrew/Caskroom/miniforge/base/lib/python3.9/site-packages/matplotlib/pyplot.py'>"
      ]
     },
     "execution_count": 8,
     "metadata": {},
     "output_type": "execute_result"
    },
    {
     "data": {
      "image/png": "[encoded data removed]",
      "text/plain": [
       "<Figure size 432x288 with 1 Axes>"
      ]
     },
     "metadata": {
      "needs_background": "light"
     },
     "output_type": "display_data"
    }
   ],
   "source": [
    "# Plotting loss and accuracy graphs\n",
    "## Plotting loss\n",
    "plot_loss(history)"
   ]
  },
  {
   "cell_type": "code",
   "execution_count": 9,
   "metadata": {},
   "outputs": [
    {
     "data": {
      "text/plain": [
       "<module 'matplotlib.pyplot' from '/opt/homebrew/Caskroom/miniforge/base/lib/python3.9/site-packages/matplotlib/pyplot.py'>"
      ]
     },
     "execution_count": 9,
     "metadata": {},
     "output_type": "execute_result"
    },
    {
     "data": {
      "image/png": "[encoded data removed]",
      "text/plain": [
       "<Figure size 432x288 with 1 Axes>"
      ]
     },
     "metadata": {
      "needs_background": "light"
     },
     "output_type": "display_data"
    }
   ],
   "source": [
    "## Plotting accuracy\n",
    "plot_acc(history)"
   ]
  }
 ],
 "metadata": {
  "kernelspec": {
   "display_name": "Python 3.9.7 ('base')",
   "language": "python",
   "name": "python3"
  },
  "language_info": {
   "codemirror_mode": {
    "name": "ipython",
    "version": 3
   },
   "file_extension": ".py",
   "mimetype": "text/x-python",
   "name": "python",
   "nbconvert_exporter": "python",
   "pygments_lexer": "ipython3",
   "version": "3.9.7"
  },
  "orig_nbformat": 4,
  "vscode": {
   "interpreter": {
    "hash": "c6e4e9f98eb68ad3b7c296f83d20e6de614cb42e90992a65aa266555a3137d0d"
   }
  }
 },
 "nbformat": 4,
 "nbformat_minor": 2
}
