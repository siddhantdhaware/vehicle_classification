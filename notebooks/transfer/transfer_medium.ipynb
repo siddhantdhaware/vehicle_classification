{
 "cells": [
  {
   "cell_type": "markdown",
   "metadata": {},
   "source": [
    "# Importing the libraries"
   ]
  },
  {
   "cell_type": "code",
   "execution_count": 1,
   "metadata": {},
   "outputs": [],
   "source": [
    "import tensorflow as tf\n",
    "from tensorflow.keras import layers, utils\n",
    "from tensorflow import keras"
   ]
  },
  {
   "cell_type": "markdown",
   "metadata": {},
   "source": [
    "# Set image size, batch size, and import dataset"
   ]
  },
  {
   "cell_type": "code",
   "execution_count": 2,
   "metadata": {},
   "outputs": [
    {
     "name": "stdout",
     "output_type": "stream",
     "text": [
      "Found 3360 files belonging to 6 classes.\n",
      "Metal device set to: Apple M1\n",
      "\n",
      "systemMemory: 16.00 GB\n",
      "maxCacheSize: 5.33 GB\n",
      "\n",
      "Found 720 files belonging to 6 classes.\n",
      "Found 720 files belonging to 6 classes.\n"
     ]
    },
    {
     "name": "stderr",
     "output_type": "stream",
     "text": [
      "2022-08-03 15:04:04.756843: I tensorflow/core/common_runtime/pluggable_device/pluggable_device_factory.cc:305] Could not identify NUMA node of platform GPU ID 0, defaulting to 0. Your kernel may not have been built with NUMA support.\n",
      "2022-08-03 15:04:04.756955: I tensorflow/core/common_runtime/pluggable_device/pluggable_device_factory.cc:271] Created TensorFlow device (/job:localhost/replica:0/task:0/device:GPU:0 with 0 MB memory) -> physical PluggableDevice (device: 0, name: METAL, pci bus id: <undefined>)\n"
     ]
    }
   ],
   "source": [
    "IMAGE_SIZE = 100\n",
    "BATCH_SIZE = 32\n",
    "\n",
    "train = utils.image_dataset_from_directory(\"../../datasets/data/split/Zenodo/train/\", image_size=(IMAGE_SIZE, IMAGE_SIZE), batch_size=BATCH_SIZE)\n",
    "val = utils.image_dataset_from_directory(\"../../datasets/data/split/Zenodo/val\", image_size=(IMAGE_SIZE, IMAGE_SIZE), batch_size=BATCH_SIZE)\n",
    "test = utils.image_dataset_from_directory(\"../../datasets/data/split/Zenodo/test\", image_size=(IMAGE_SIZE, IMAGE_SIZE), batch_size=BATCH_SIZE)"
   ]
  },
  {
   "cell_type": "markdown",
   "metadata": {},
   "source": [
    "# Train all except the first two conv2d layers"
   ]
  },
  {
   "cell_type": "code",
   "execution_count": 3,
   "metadata": {},
   "outputs": [
    {
     "name": "stdout",
     "output_type": "stream",
     "text": [
      "Model: \"model\"\n",
      "_________________________________________________________________\n",
      " Layer (type)                Output Shape              Param #   \n",
      "=================================================================\n",
      " input_1 (InputLayer)        [(None, 100, 100, 3)]     0         \n",
      "                                                                 \n",
      " rescaling (Rescaling)       (None, 100, 100, 3)       0         \n",
      "                                                                 \n",
      " conv2d (Conv2D)             (None, 98, 98, 32)        896       \n",
      "                                                                 \n",
      " max_pooling2d (MaxPooling2D  (None, 49, 49, 32)       0         \n",
      " )                                                               \n",
      "                                                                 \n",
      " conv2d_1 (Conv2D)           (None, 47, 47, 64)        18496     \n",
      "                                                                 \n",
      " max_pooling2d_1 (MaxPooling  (None, 23, 23, 64)       0         \n",
      " 2D)                                                             \n",
      "                                                                 \n",
      " conv2d_2 (Conv2D)           (None, 21, 21, 128)       73856     \n",
      "                                                                 \n",
      " max_pooling2d_2 (MaxPooling  (None, 10, 10, 128)      0         \n",
      " 2D)                                                             \n",
      "                                                                 \n",
      " conv2d_3 (Conv2D)           (None, 8, 8, 256)         295168    \n",
      "                                                                 \n",
      " global_average_pooling2d (G  (None, 256)              0         \n",
      " lobalAveragePooling2D)                                          \n",
      "                                                                 \n",
      " dense (Dense)               (None, 256)               65792     \n",
      "                                                                 \n",
      " dropout (Dropout)           (None, 256)               0         \n",
      "                                                                 \n",
      " classifier (Dense)          (None, 6)                 1542      \n",
      "                                                                 \n",
      "=================================================================\n",
      "Total params: 455,750\n",
      "Trainable params: 436,358\n",
      "Non-trainable params: 19,392\n",
      "_________________________________________________________________\n"
     ]
    }
   ],
   "source": [
    "vtid = keras.models.load_model('../../models/vtid2/m2_medium.h5')\n",
    "vtid.trainable = False\n",
    "\n",
    "for layer in vtid.layers[6:]:\n",
    "  layer.trainable = True\n",
    "\n",
    "x = vtid.layers[-2].output\n",
    "outputs = layers.Dense(6, activation='softmax', name='classifier')(x)\n",
    "model = keras.Model(vtid.inputs, outputs)\n",
    "model.compile(optimizer='rmsprop', loss='sparse_categorical_crossentropy', metrics=['accuracy'])\n",
    "\n",
    "model.summary()"
   ]
  },
  {
   "cell_type": "code",
   "execution_count": 4,
   "metadata": {},
   "outputs": [],
   "source": [
    "\n",
    "callbacks_list = [\n",
    "    keras.callbacks.EarlyStopping(\n",
    "        monitor=\"val_accuracy\",\n",
    "        patience=8\n",
    "    ),\n",
    "    keras.callbacks.ModelCheckpoint(\n",
    "        filepath=\"../../models/transfer/transfer_medium_trainHalf.h5\",\n",
    "        monitor=\"val_accuracy\",\n",
    "        save_best_only=True\n",
    "    )\n",
    "]\n"
   ]
  },
  {
   "cell_type": "code",
   "execution_count": 5,
   "metadata": {},
   "outputs": [
    {
     "name": "stdout",
     "output_type": "stream",
     "text": [
      "Epoch 1/50\n"
     ]
    },
    {
     "name": "stderr",
     "output_type": "stream",
     "text": [
      "2022-08-03 15:04:36.086848: W tensorflow/core/platform/profile_utils/cpu_utils.cc:128] Failed to get CPU frequency: 0 Hz\n",
      "2022-08-03 15:04:36.086930: I tensorflow/core/grappler/optimizers/custom_graph_optimizer_registry.cc:112] Plugin optimizer for device_type GPU is enabled.\n"
     ]
    },
    {
     "name": "stdout",
     "output_type": "stream",
     "text": [
      "105/105 [==============================] - ETA: 0s - loss: 1.1483 - accuracy: 0.5589"
     ]
    },
    {
     "name": "stderr",
     "output_type": "stream",
     "text": [
      "2022-08-03 15:04:38.999781: I tensorflow/core/grappler/optimizers/custom_graph_optimizer_registry.cc:112] Plugin optimizer for device_type GPU is enabled.\n"
     ]
    },
    {
     "name": "stdout",
     "output_type": "stream",
     "text": [
      "105/105 [==============================] - 4s 29ms/step - loss: 1.1483 - accuracy: 0.5589 - val_loss: 0.8005 - val_accuracy: 0.6972\n",
      "Epoch 2/50\n",
      "105/105 [==============================] - 3s 29ms/step - loss: 0.6678 - accuracy: 0.7503 - val_loss: 0.5918 - val_accuracy: 0.7764\n",
      "Epoch 3/50\n",
      "105/105 [==============================] - 3s 25ms/step - loss: 0.5004 - accuracy: 0.8149 - val_loss: 0.4903 - val_accuracy: 0.8042\n",
      "Epoch 4/50\n",
      "105/105 [==============================] - 3s 26ms/step - loss: 0.3951 - accuracy: 0.8577 - val_loss: 0.4262 - val_accuracy: 0.8292\n",
      "Epoch 5/50\n",
      "105/105 [==============================] - 3s 26ms/step - loss: 0.3205 - accuracy: 0.8893 - val_loss: 0.3974 - val_accuracy: 0.8458\n",
      "Epoch 6/50\n",
      "105/105 [==============================] - 3s 26ms/step - loss: 0.2641 - accuracy: 0.9125 - val_loss: 0.3602 - val_accuracy: 0.8639\n",
      "Epoch 7/50\n",
      "105/105 [==============================] - 3s 26ms/step - loss: 0.2136 - accuracy: 0.9307 - val_loss: 0.3325 - val_accuracy: 0.8806\n",
      "Epoch 8/50\n",
      "105/105 [==============================] - 3s 26ms/step - loss: 0.1706 - accuracy: 0.9378 - val_loss: 0.3572 - val_accuracy: 0.8806\n",
      "Epoch 9/50\n",
      "105/105 [==============================] - 3s 26ms/step - loss: 0.1398 - accuracy: 0.9494 - val_loss: 0.3633 - val_accuracy: 0.8875\n",
      "Epoch 10/50\n",
      "105/105 [==============================] - 3s 27ms/step - loss: 0.1185 - accuracy: 0.9586 - val_loss: 0.3615 - val_accuracy: 0.8889\n",
      "Epoch 11/50\n",
      "105/105 [==============================] - 3s 27ms/step - loss: 0.1067 - accuracy: 0.9646 - val_loss: 0.3908 - val_accuracy: 0.8778\n",
      "Epoch 12/50\n",
      "105/105 [==============================] - 3s 26ms/step - loss: 0.0916 - accuracy: 0.9693 - val_loss: 0.4274 - val_accuracy: 0.8819\n",
      "Epoch 13/50\n",
      "105/105 [==============================] - 3s 26ms/step - loss: 0.0823 - accuracy: 0.9702 - val_loss: 0.4441 - val_accuracy: 0.8722\n",
      "Epoch 14/50\n",
      "105/105 [==============================] - 3s 26ms/step - loss: 0.0584 - accuracy: 0.9818 - val_loss: 0.6864 - val_accuracy: 0.8236\n",
      "Epoch 15/50\n",
      "105/105 [==============================] - 3s 26ms/step - loss: 0.0677 - accuracy: 0.9774 - val_loss: 0.3457 - val_accuracy: 0.9042\n",
      "Epoch 16/50\n",
      "105/105 [==============================] - 3s 26ms/step - loss: 0.0605 - accuracy: 0.9845 - val_loss: 0.3938 - val_accuracy: 0.8931\n",
      "Epoch 17/50\n",
      "105/105 [==============================] - 3s 26ms/step - loss: 0.0540 - accuracy: 0.9830 - val_loss: 0.6731 - val_accuracy: 0.8500\n",
      "Epoch 18/50\n",
      "105/105 [==============================] - 3s 25ms/step - loss: 0.0547 - accuracy: 0.9872 - val_loss: 0.4175 - val_accuracy: 0.9083\n",
      "Epoch 19/50\n",
      "105/105 [==============================] - 3s 25ms/step - loss: 0.0381 - accuracy: 0.9884 - val_loss: 0.5497 - val_accuracy: 0.8778\n",
      "Epoch 20/50\n",
      "105/105 [==============================] - 3s 26ms/step - loss: 0.0318 - accuracy: 0.9926 - val_loss: 0.4051 - val_accuracy: 0.9028\n",
      "Epoch 21/50\n",
      "105/105 [==============================] - 3s 27ms/step - loss: 0.0395 - accuracy: 0.9884 - val_loss: 0.3739 - val_accuracy: 0.9111\n",
      "Epoch 22/50\n",
      "105/105 [==============================] - 3s 25ms/step - loss: 0.0313 - accuracy: 0.9929 - val_loss: 0.5615 - val_accuracy: 0.8722\n",
      "Epoch 23/50\n",
      "105/105 [==============================] - 3s 27ms/step - loss: 0.0442 - accuracy: 0.9902 - val_loss: 0.3603 - val_accuracy: 0.9181\n",
      "Epoch 24/50\n",
      "105/105 [==============================] - 3s 26ms/step - loss: 0.0250 - accuracy: 0.9920 - val_loss: 0.3248 - val_accuracy: 0.9167\n",
      "Epoch 25/50\n",
      "105/105 [==============================] - 3s 25ms/step - loss: 0.0285 - accuracy: 0.9920 - val_loss: 0.5755 - val_accuracy: 0.8847\n",
      "Epoch 26/50\n",
      "105/105 [==============================] - 3s 26ms/step - loss: 0.0317 - accuracy: 0.9926 - val_loss: 0.3535 - val_accuracy: 0.9236\n",
      "Epoch 27/50\n",
      "105/105 [==============================] - 3s 25ms/step - loss: 0.0415 - accuracy: 0.9893 - val_loss: 0.5252 - val_accuracy: 0.9083\n",
      "Epoch 28/50\n",
      "105/105 [==============================] - 3s 25ms/step - loss: 0.0209 - accuracy: 0.9949 - val_loss: 0.3560 - val_accuracy: 0.9236\n",
      "Epoch 29/50\n",
      "105/105 [==============================] - 3s 26ms/step - loss: 0.0239 - accuracy: 0.9949 - val_loss: 0.4131 - val_accuracy: 0.9125\n",
      "Epoch 30/50\n",
      "105/105 [==============================] - 3s 26ms/step - loss: 0.0352 - accuracy: 0.9920 - val_loss: 0.3941 - val_accuracy: 0.9236\n",
      "Epoch 31/50\n",
      "105/105 [==============================] - 3s 26ms/step - loss: 0.0264 - accuracy: 0.9935 - val_loss: 0.4232 - val_accuracy: 0.9125\n",
      "Epoch 32/50\n",
      "105/105 [==============================] - 3s 25ms/step - loss: 0.0233 - accuracy: 0.9943 - val_loss: 0.4507 - val_accuracy: 0.9028\n",
      "Epoch 33/50\n",
      "105/105 [==============================] - 3s 25ms/step - loss: 0.0187 - accuracy: 0.9958 - val_loss: 0.4055 - val_accuracy: 0.9194\n",
      "Epoch 34/50\n",
      "105/105 [==============================] - 3s 26ms/step - loss: 0.0293 - accuracy: 0.9920 - val_loss: 0.4491 - val_accuracy: 0.9278\n",
      "Epoch 35/50\n",
      "105/105 [==============================] - 3s 26ms/step - loss: 0.0110 - accuracy: 0.9973 - val_loss: 0.4707 - val_accuracy: 0.9167\n",
      "Epoch 36/50\n",
      "105/105 [==============================] - 3s 26ms/step - loss: 0.0331 - accuracy: 0.9917 - val_loss: 0.4347 - val_accuracy: 0.9083\n",
      "Epoch 37/50\n",
      "105/105 [==============================] - 3s 26ms/step - loss: 0.0151 - accuracy: 0.9964 - val_loss: 0.3955 - val_accuracy: 0.9250\n",
      "Epoch 38/50\n",
      "105/105 [==============================] - 3s 26ms/step - loss: 0.0133 - accuracy: 0.9961 - val_loss: 0.4044 - val_accuracy: 0.9333\n",
      "Epoch 39/50\n",
      "105/105 [==============================] - 3s 26ms/step - loss: 0.0236 - accuracy: 0.9952 - val_loss: 0.6467 - val_accuracy: 0.9000\n",
      "Epoch 40/50\n",
      "105/105 [==============================] - 3s 26ms/step - loss: 0.0277 - accuracy: 0.9926 - val_loss: 0.4614 - val_accuracy: 0.9222\n",
      "Epoch 41/50\n",
      "105/105 [==============================] - 3s 27ms/step - loss: 0.0076 - accuracy: 0.9982 - val_loss: 0.4428 - val_accuracy: 0.9319\n",
      "Epoch 42/50\n",
      "105/105 [==============================] - 3s 25ms/step - loss: 0.0186 - accuracy: 0.9949 - val_loss: 0.4854 - val_accuracy: 0.9139\n",
      "Epoch 43/50\n",
      "105/105 [==============================] - 3s 25ms/step - loss: 0.0305 - accuracy: 0.9923 - val_loss: 0.5064 - val_accuracy: 0.9111\n",
      "Epoch 44/50\n",
      "105/105 [==============================] - 3s 26ms/step - loss: 0.0184 - accuracy: 0.9967 - val_loss: 0.3972 - val_accuracy: 0.9264\n",
      "Epoch 45/50\n",
      "105/105 [==============================] - 3s 26ms/step - loss: 0.0258 - accuracy: 0.9943 - val_loss: 0.5133 - val_accuracy: 0.9167\n",
      "Epoch 46/50\n",
      "105/105 [==============================] - 3s 26ms/step - loss: 0.0082 - accuracy: 0.9985 - val_loss: 0.4702 - val_accuracy: 0.9167\n"
     ]
    }
   ],
   "source": [
    "history = model.fit(\n",
    "  train.cache(),\n",
    "  epochs=50,\n",
    "  callbacks=callbacks_list,\n",
    "  validation_data=val.cache()\n",
    ")"
   ]
  },
  {
   "cell_type": "code",
   "execution_count": 6,
   "metadata": {},
   "outputs": [
    {
     "name": "stdout",
     "output_type": "stream",
     "text": [
      " 7/23 [========>.....................] - ETA: 0s - loss: 0.5684 - accuracy: 0.9107"
     ]
    },
    {
     "name": "stderr",
     "output_type": "stream",
     "text": [
      "2022-08-03 15:06:53.910255: I tensorflow/core/grappler/optimizers/custom_graph_optimizer_registry.cc:112] Plugin optimizer for device_type GPU is enabled.\n"
     ]
    },
    {
     "name": "stdout",
     "output_type": "stream",
     "text": [
      "23/23 [==============================] - 1s 18ms/step - loss: 0.4556 - accuracy: 0.9125\n"
     ]
    },
    {
     "data": {
      "text/plain": [
       "[0.4556175470352173, 0.9125000238418579]"
      ]
     },
     "execution_count": 6,
     "metadata": {},
     "output_type": "execute_result"
    }
   ],
   "source": [
    "model = keras.models.load_model(\"../../models/transfer/transfer_medium_trainHalf.h5\")\n",
    "model.evaluate(test)"
   ]
  },
  {
   "cell_type": "markdown",
   "metadata": {},
   "source": [
    "# compare with untrained"
   ]
  },
  {
   "cell_type": "code",
   "execution_count": 7,
   "metadata": {},
   "outputs": [
    {
     "name": "stdout",
     "output_type": "stream",
     "text": [
      " 7/23 [========>.....................] - ETA: 0s - loss: 0.2139 - accuracy: 0.9420"
     ]
    },
    {
     "name": "stderr",
     "output_type": "stream",
     "text": [
      "2022-08-03 15:07:00.243229: I tensorflow/core/grappler/optimizers/custom_graph_optimizer_registry.cc:112] Plugin optimizer for device_type GPU is enabled.\n"
     ]
    },
    {
     "name": "stdout",
     "output_type": "stream",
     "text": [
      "23/23 [==============================] - 1s 17ms/step - loss: 0.1695 - accuracy: 0.9542\n"
     ]
    },
    {
     "data": {
      "text/plain": [
       "[0.16947980225086212, 0.9541667103767395]"
      ]
     },
     "execution_count": 7,
     "metadata": {},
     "output_type": "execute_result"
    }
   ],
   "source": [
    "untrained_model = keras.models.load_model(\"../../models/zenodo/m3_medium.h5\")\n",
    "untrained_model.evaluate(test)"
   ]
  },
  {
   "cell_type": "markdown",
   "metadata": {},
   "source": [
    "# All Trainable Layers Transfer Learning - start from nonrandom weights"
   ]
  },
  {
   "cell_type": "code",
   "execution_count": 8,
   "metadata": {},
   "outputs": [
    {
     "name": "stdout",
     "output_type": "stream",
     "text": [
      "Model: \"model_1\"\n",
      "_________________________________________________________________\n",
      " Layer (type)                Output Shape              Param #   \n",
      "=================================================================\n",
      " input_1 (InputLayer)        [(None, 100, 100, 3)]     0         \n",
      "                                                                 \n",
      " rescaling (Rescaling)       (None, 100, 100, 3)       0         \n",
      "                                                                 \n",
      " conv2d (Conv2D)             (None, 98, 98, 32)        896       \n",
      "                                                                 \n",
      " max_pooling2d (MaxPooling2D  (None, 49, 49, 32)       0         \n",
      " )                                                               \n",
      "                                                                 \n",
      " conv2d_1 (Conv2D)           (None, 47, 47, 64)        18496     \n",
      "                                                                 \n",
      " max_pooling2d_1 (MaxPooling  (None, 23, 23, 64)       0         \n",
      " 2D)                                                             \n",
      "                                                                 \n",
      " conv2d_2 (Conv2D)           (None, 21, 21, 128)       73856     \n",
      "                                                                 \n",
      " max_pooling2d_2 (MaxPooling  (None, 10, 10, 128)      0         \n",
      " 2D)                                                             \n",
      "                                                                 \n",
      " conv2d_3 (Conv2D)           (None, 8, 8, 256)         295168    \n",
      "                                                                 \n",
      " global_average_pooling2d (G  (None, 256)              0         \n",
      " lobalAveragePooling2D)                                          \n",
      "                                                                 \n",
      " dense (Dense)               (None, 256)               65792     \n",
      "                                                                 \n",
      " dropout (Dropout)           (None, 256)               0         \n",
      "                                                                 \n",
      " classifier (Dense)          (None, 6)                 1542      \n",
      "                                                                 \n",
      "=================================================================\n",
      "Total params: 455,750\n",
      "Trainable params: 455,750\n",
      "Non-trainable params: 0\n",
      "_________________________________________________________________\n"
     ]
    }
   ],
   "source": [
    "vtid2_allTrainable = keras.models.load_model('../../models/vtid2/m2_medium.h5')\n",
    "\n",
    "x = vtid2_allTrainable.layers[-2].output\n",
    "outputs = keras.layers.Dense(6, activation='softmax', name='classifier')(x)\n",
    "all_trainable_model = keras.Model(vtid2_allTrainable.inputs, outputs)\n",
    "all_trainable_model.compile(optimizer='rmsprop', loss='sparse_categorical_crossentropy', metrics=['accuracy'])\n",
    "all_trainable_model.summary()"
   ]
  },
  {
   "cell_type": "code",
   "execution_count": 9,
   "metadata": {},
   "outputs": [],
   "source": [
    "callbacks_list = [\n",
    "    keras.callbacks.EarlyStopping(\n",
    "        monitor=\"val_accuracy\",\n",
    "        patience=8\n",
    "    ),\n",
    "    keras.callbacks.ModelCheckpoint(\n",
    "        filepath=\"../../models/transfer/transfer_medium_trainFull.h5\",\n",
    "        monitor=\"val_accuracy\",\n",
    "        save_best_only=True\n",
    "    )\n",
    "]"
   ]
  },
  {
   "cell_type": "code",
   "execution_count": 10,
   "metadata": {},
   "outputs": [
    {
     "name": "stdout",
     "output_type": "stream",
     "text": [
      "Epoch 1/50\n"
     ]
    },
    {
     "name": "stderr",
     "output_type": "stream",
     "text": [
      "2022-08-03 15:07:50.790065: I tensorflow/core/grappler/optimizers/custom_graph_optimizer_registry.cc:112] Plugin optimizer for device_type GPU is enabled.\n"
     ]
    },
    {
     "name": "stdout",
     "output_type": "stream",
     "text": [
      "105/105 [==============================] - ETA: 0s - loss: 1.3917 - accuracy: 0.4435"
     ]
    },
    {
     "name": "stderr",
     "output_type": "stream",
     "text": [
      "2022-08-03 15:07:55.784528: I tensorflow/core/grappler/optimizers/custom_graph_optimizer_registry.cc:112] Plugin optimizer for device_type GPU is enabled.\n"
     ]
    },
    {
     "name": "stdout",
     "output_type": "stream",
     "text": [
      "105/105 [==============================] - 6s 48ms/step - loss: 1.3917 - accuracy: 0.4435 - val_loss: 0.9300 - val_accuracy: 0.6597\n",
      "Epoch 2/50\n",
      "105/105 [==============================] - 5s 45ms/step - loss: 0.8434 - accuracy: 0.6893 - val_loss: 0.6026 - val_accuracy: 0.7792\n",
      "Epoch 3/50\n",
      "105/105 [==============================] - 5s 44ms/step - loss: 0.6202 - accuracy: 0.7771 - val_loss: 0.5129 - val_accuracy: 0.8056\n",
      "Epoch 4/50\n",
      "105/105 [==============================] - 5s 44ms/step - loss: 0.4663 - accuracy: 0.8327 - val_loss: 0.3790 - val_accuracy: 0.8639\n",
      "Epoch 5/50\n",
      "105/105 [==============================] - 5s 46ms/step - loss: 0.3718 - accuracy: 0.8652 - val_loss: 0.3490 - val_accuracy: 0.8792\n",
      "Epoch 6/50\n",
      "105/105 [==============================] - 5s 45ms/step - loss: 0.3243 - accuracy: 0.8842 - val_loss: 0.2972 - val_accuracy: 0.8931\n",
      "Epoch 7/50\n",
      "105/105 [==============================] - 5s 47ms/step - loss: 0.2436 - accuracy: 0.9095 - val_loss: 0.3804 - val_accuracy: 0.8833\n",
      "Epoch 8/50\n",
      "105/105 [==============================] - 5s 43ms/step - loss: 0.2446 - accuracy: 0.9125 - val_loss: 0.3143 - val_accuracy: 0.8931\n",
      "Epoch 9/50\n",
      "105/105 [==============================] - 5s 44ms/step - loss: 0.1813 - accuracy: 0.9405 - val_loss: 0.5143 - val_accuracy: 0.8514\n",
      "Epoch 10/50\n",
      "105/105 [==============================] - 5s 43ms/step - loss: 0.1818 - accuracy: 0.9423 - val_loss: 1.0371 - val_accuracy: 0.7708\n",
      "Epoch 11/50\n",
      "105/105 [==============================] - 5s 43ms/step - loss: 0.1505 - accuracy: 0.9485 - val_loss: 0.2486 - val_accuracy: 0.9139\n",
      "Epoch 12/50\n",
      "105/105 [==============================] - 5s 43ms/step - loss: 0.1647 - accuracy: 0.9539 - val_loss: 0.2536 - val_accuracy: 0.9139\n",
      "Epoch 13/50\n",
      "105/105 [==============================] - 5s 44ms/step - loss: 0.1018 - accuracy: 0.9649 - val_loss: 0.2720 - val_accuracy: 0.9167\n",
      "Epoch 14/50\n",
      "105/105 [==============================] - 5s 47ms/step - loss: 0.1262 - accuracy: 0.9625 - val_loss: 0.2642 - val_accuracy: 0.9292\n",
      "Epoch 15/50\n",
      "105/105 [==============================] - 5s 48ms/step - loss: 0.1155 - accuracy: 0.9693 - val_loss: 0.3385 - val_accuracy: 0.9028\n",
      "Epoch 16/50\n",
      "105/105 [==============================] - 5s 51ms/step - loss: 0.0817 - accuracy: 0.9759 - val_loss: 0.6889 - val_accuracy: 0.8528\n",
      "Epoch 17/50\n",
      "105/105 [==============================] - 5s 49ms/step - loss: 0.1109 - accuracy: 0.9682 - val_loss: 0.4467 - val_accuracy: 0.9014\n",
      "Epoch 18/50\n",
      "105/105 [==============================] - 5s 46ms/step - loss: 0.0733 - accuracy: 0.9756 - val_loss: 0.2772 - val_accuracy: 0.9167\n",
      "Epoch 19/50\n",
      "105/105 [==============================] - 5s 45ms/step - loss: 0.0817 - accuracy: 0.9818 - val_loss: 0.3410 - val_accuracy: 0.9194\n",
      "Epoch 20/50\n",
      "105/105 [==============================] - 5s 46ms/step - loss: 0.0856 - accuracy: 0.9744 - val_loss: 0.2204 - val_accuracy: 0.9389\n",
      "Epoch 21/50\n",
      "105/105 [==============================] - 5s 45ms/step - loss: 0.0718 - accuracy: 0.9807 - val_loss: 0.3965 - val_accuracy: 0.9181\n",
      "Epoch 22/50\n",
      "105/105 [==============================] - 5s 47ms/step - loss: 0.0783 - accuracy: 0.9783 - val_loss: 0.2660 - val_accuracy: 0.9347\n",
      "Epoch 23/50\n",
      "105/105 [==============================] - 5s 46ms/step - loss: 0.1732 - accuracy: 0.9723 - val_loss: 0.9510 - val_accuracy: 0.8083\n",
      "Epoch 24/50\n",
      "105/105 [==============================] - 5s 45ms/step - loss: 0.0610 - accuracy: 0.9827 - val_loss: 1.2427 - val_accuracy: 0.8042\n",
      "Epoch 25/50\n",
      "105/105 [==============================] - 5s 45ms/step - loss: 0.0937 - accuracy: 0.9777 - val_loss: 0.3404 - val_accuracy: 0.9431\n",
      "Epoch 26/50\n",
      "105/105 [==============================] - 5s 45ms/step - loss: 0.0654 - accuracy: 0.9821 - val_loss: 0.3062 - val_accuracy: 0.9375\n",
      "Epoch 27/50\n",
      "105/105 [==============================] - 5s 45ms/step - loss: 0.0709 - accuracy: 0.9818 - val_loss: 1.0822 - val_accuracy: 0.8361\n",
      "Epoch 28/50\n",
      "105/105 [==============================] - 5s 45ms/step - loss: 0.1055 - accuracy: 0.9815 - val_loss: 0.3181 - val_accuracy: 0.9292\n",
      "Epoch 29/50\n",
      "105/105 [==============================] - 5s 45ms/step - loss: 0.1004 - accuracy: 0.9810 - val_loss: 0.3205 - val_accuracy: 0.9292\n",
      "Epoch 30/50\n",
      "105/105 [==============================] - 5s 46ms/step - loss: 0.0688 - accuracy: 0.9836 - val_loss: 0.2747 - val_accuracy: 0.9403\n",
      "Epoch 31/50\n",
      "105/105 [==============================] - 5s 45ms/step - loss: 0.0622 - accuracy: 0.9836 - val_loss: 0.3405 - val_accuracy: 0.9306\n",
      "Epoch 32/50\n",
      "105/105 [==============================] - 5s 45ms/step - loss: 0.0668 - accuracy: 0.9810 - val_loss: 0.3511 - val_accuracy: 0.9347\n",
      "Epoch 33/50\n",
      "105/105 [==============================] - 5s 45ms/step - loss: 0.0706 - accuracy: 0.9851 - val_loss: 0.3327 - val_accuracy: 0.9306\n"
     ]
    }
   ],
   "source": [
    "history = all_trainable_model.fit(\n",
    "  train.cache(),\n",
    "  epochs=50,\n",
    "  callbacks=callbacks_list,\n",
    "  validation_data=val.cache()\n",
    ")"
   ]
  },
  {
   "cell_type": "code",
   "execution_count": 11,
   "metadata": {},
   "outputs": [
    {
     "name": "stdout",
     "output_type": "stream",
     "text": [
      " 4/23 [====>.........................] - ETA: 0s - loss: 0.4159 - accuracy: 0.9297"
     ]
    },
    {
     "name": "stderr",
     "output_type": "stream",
     "text": [
      "2022-08-03 15:10:31.406374: I tensorflow/core/grappler/optimizers/custom_graph_optimizer_registry.cc:112] Plugin optimizer for device_type GPU is enabled.\n"
     ]
    },
    {
     "name": "stdout",
     "output_type": "stream",
     "text": [
      "23/23 [==============================] - 1s 19ms/step - loss: 0.4067 - accuracy: 0.9208\n"
     ]
    },
    {
     "data": {
      "text/plain": [
       "[0.4067090153694153, 0.9208333492279053]"
      ]
     },
     "execution_count": 11,
     "metadata": {},
     "output_type": "execute_result"
    }
   ],
   "source": [
    "trainable_model = keras.models.load_model(\"../../models/transfer/transfer_medium_trainFull.h5\")\n",
    "trainable_model.evaluate(test)"
   ]
  }
 ],
 "metadata": {
  "kernelspec": {
   "display_name": "Python 3.9.7 ('base')",
   "language": "python",
   "name": "python3"
  },
  "language_info": {
   "codemirror_mode": {
    "name": "ipython",
    "version": 3
   },
   "file_extension": ".py",
   "mimetype": "text/x-python",
   "name": "python",
   "nbconvert_exporter": "python",
   "pygments_lexer": "ipython3",
   "version": "3.9.7"
  },
  "orig_nbformat": 4,
  "vscode": {
   "interpreter": {
    "hash": "c6e4e9f98eb68ad3b7c296f83d20e6de614cb42e90992a65aa266555a3137d0d"
   }
  }
 },
 "nbformat": 4,
 "nbformat_minor": 2
}
