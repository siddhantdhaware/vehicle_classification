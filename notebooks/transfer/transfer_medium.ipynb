{
 "cells": [
  {
   "cell_type": "markdown",
   "metadata": {},
   "source": [
    "# Importing the libraries"
   ]
  },
  {
   "cell_type": "code",
   "execution_count": 1,
   "metadata": {},
   "outputs": [],
   "source": [
    "import tensorflow as tf\n",
    "from tensorflow.keras import layers, utils\n",
    "from tensorflow import keras\n",
    "\n",
    "import sys\n",
    "sys.path.insert(0, '../../')\n",
    "from plot_graphs import plot_loss, plot_acc"
   ]
  },
  {
   "cell_type": "markdown",
   "metadata": {},
   "source": [
    "# Set image size, batch size, and import dataset"
   ]
  },
  {
   "cell_type": "code",
   "execution_count": 2,
   "metadata": {},
   "outputs": [
    {
     "name": "stdout",
     "output_type": "stream",
     "text": [
      "Found 3360 files belonging to 6 classes.\n",
      "Metal device set to: Apple M1\n",
      "\n",
      "systemMemory: 16.00 GB\n",
      "maxCacheSize: 5.33 GB\n",
      "\n",
      "Found 720 files belonging to 6 classes.\n",
      "Found 720 files belonging to 6 classes.\n"
     ]
    },
    {
     "name": "stderr",
     "output_type": "stream",
     "text": [
      "2022-08-07 17:44:28.334086: I tensorflow/core/common_runtime/pluggable_device/pluggable_device_factory.cc:305] Could not identify NUMA node of platform GPU ID 0, defaulting to 0. Your kernel may not have been built with NUMA support.\n",
      "2022-08-07 17:44:28.334189: I tensorflow/core/common_runtime/pluggable_device/pluggable_device_factory.cc:271] Created TensorFlow device (/job:localhost/replica:0/task:0/device:GPU:0 with 0 MB memory) -> physical PluggableDevice (device: 0, name: METAL, pci bus id: <undefined>)\n"
     ]
    }
   ],
   "source": [
    "IMAGE_SIZE = 100\n",
    "BATCH_SIZE = 32\n",
    "\n",
    "train = utils.image_dataset_from_directory(\"../../datasets/data/split/Zenodo/train/\", image_size=(IMAGE_SIZE, IMAGE_SIZE), batch_size=BATCH_SIZE)\n",
    "val = utils.image_dataset_from_directory(\"../../datasets/data/split/Zenodo/val\", image_size=(IMAGE_SIZE, IMAGE_SIZE), batch_size=BATCH_SIZE)\n",
    "test = utils.image_dataset_from_directory(\"../../datasets/data/split/Zenodo/test\", image_size=(IMAGE_SIZE, IMAGE_SIZE), batch_size=BATCH_SIZE)"
   ]
  },
  {
   "cell_type": "markdown",
   "metadata": {},
   "source": [
    "# Train all except the first two conv2d layers"
   ]
  },
  {
   "cell_type": "code",
   "execution_count": 3,
   "metadata": {},
   "outputs": [
    {
     "name": "stdout",
     "output_type": "stream",
     "text": [
      "Model: \"model\"\n",
      "_________________________________________________________________\n",
      " Layer (type)                Output Shape              Param #   \n",
      "=================================================================\n",
      " input_1 (InputLayer)        [(None, 100, 100, 3)]     0         \n",
      "                                                                 \n",
      " rescaling (Rescaling)       (None, 100, 100, 3)       0         \n",
      "                                                                 \n",
      " conv2d (Conv2D)             (None, 98, 98, 32)        896       \n",
      "                                                                 \n",
      " max_pooling2d (MaxPooling2D  (None, 49, 49, 32)       0         \n",
      " )                                                               \n",
      "                                                                 \n",
      " conv2d_1 (Conv2D)           (None, 47, 47, 64)        18496     \n",
      "                                                                 \n",
      " max_pooling2d_1 (MaxPooling  (None, 23, 23, 64)       0         \n",
      " 2D)                                                             \n",
      "                                                                 \n",
      " conv2d_2 (Conv2D)           (None, 21, 21, 128)       73856     \n",
      "                                                                 \n",
      " max_pooling2d_2 (MaxPooling  (None, 10, 10, 128)      0         \n",
      " 2D)                                                             \n",
      "                                                                 \n",
      " conv2d_3 (Conv2D)           (None, 8, 8, 256)         295168    \n",
      "                                                                 \n",
      " global_average_pooling2d (G  (None, 256)              0         \n",
      " lobalAveragePooling2D)                                          \n",
      "                                                                 \n",
      " dense (Dense)               (None, 256)               65792     \n",
      "                                                                 \n",
      " dropout (Dropout)           (None, 256)               0         \n",
      "                                                                 \n",
      " classifier (Dense)          (None, 6)                 1542      \n",
      "                                                                 \n",
      "=================================================================\n",
      "Total params: 455,750\n",
      "Trainable params: 436,358\n",
      "Non-trainable params: 19,392\n",
      "_________________________________________________________________\n"
     ]
    }
   ],
   "source": [
    "vtid = keras.models.load_model('../../models/vtid2/m2_medium.h5')\n",
    "vtid.trainable = False\n",
    "\n",
    "for layer in vtid.layers[6:]:\n",
    "  layer.trainable = True\n",
    "\n",
    "x = vtid.layers[-2].output\n",
    "outputs = layers.Dense(6, activation='softmax', name='classifier')(x)\n",
    "model = keras.Model(vtid.inputs, outputs)\n",
    "model.compile(optimizer='rmsprop', loss='sparse_categorical_crossentropy', metrics=['accuracy'])\n",
    "\n",
    "model.summary()\n"
   ]
  },
  {
   "cell_type": "code",
   "execution_count": 4,
   "metadata": {},
   "outputs": [],
   "source": [
    "\n",
    "callbacks_list = [\n",
    "    keras.callbacks.EarlyStopping(\n",
    "        monitor=\"val_accuracy\",\n",
    "        patience=8\n",
    "    ),\n",
    "    keras.callbacks.ModelCheckpoint(\n",
    "        filepath=\"../../models/transfer/transfer_medium_trainHalf.h5\",\n",
    "        monitor=\"val_accuracy\",\n",
    "        save_best_only=True\n",
    "    )\n",
    "]\n"
   ]
  },
  {
   "cell_type": "code",
   "execution_count": 5,
   "metadata": {},
   "outputs": [
    {
     "name": "stdout",
     "output_type": "stream",
     "text": [
      "Epoch 1/50\n"
     ]
    },
    {
     "name": "stderr",
     "output_type": "stream",
     "text": [
      "2022-08-07 17:44:28.985808: W tensorflow/core/platform/profile_utils/cpu_utils.cc:128] Failed to get CPU frequency: 0 Hz\n",
      "2022-08-07 17:44:28.985886: I tensorflow/core/grappler/optimizers/custom_graph_optimizer_registry.cc:112] Plugin optimizer for device_type GPU is enabled.\n"
     ]
    },
    {
     "name": "stdout",
     "output_type": "stream",
     "text": [
      "105/105 [==============================] - ETA: 0s - loss: 1.1379 - accuracy: 0.5726"
     ]
    },
    {
     "name": "stderr",
     "output_type": "stream",
     "text": [
      "2022-08-07 17:44:32.379645: I tensorflow/core/grappler/optimizers/custom_graph_optimizer_registry.cc:112] Plugin optimizer for device_type GPU is enabled.\n"
     ]
    },
    {
     "name": "stdout",
     "output_type": "stream",
     "text": [
      "105/105 [==============================] - 4s 32ms/step - loss: 1.1379 - accuracy: 0.5726 - val_loss: 0.7277 - val_accuracy: 0.7194\n",
      "Epoch 2/50\n",
      "105/105 [==============================] - 3s 25ms/step - loss: 0.6783 - accuracy: 0.7565 - val_loss: 0.5362 - val_accuracy: 0.7903\n",
      "Epoch 3/50\n",
      "105/105 [==============================] - 3s 27ms/step - loss: 0.5057 - accuracy: 0.8223 - val_loss: 0.4657 - val_accuracy: 0.8208\n",
      "Epoch 4/50\n",
      "105/105 [==============================] - 3s 24ms/step - loss: 0.3972 - accuracy: 0.8610 - val_loss: 0.4274 - val_accuracy: 0.8333\n",
      "Epoch 5/50\n",
      "105/105 [==============================] - 3s 24ms/step - loss: 0.3153 - accuracy: 0.8890 - val_loss: 0.4042 - val_accuracy: 0.8514\n",
      "Epoch 6/50\n",
      "105/105 [==============================] - 3s 25ms/step - loss: 0.2549 - accuracy: 0.9125 - val_loss: 0.3674 - val_accuracy: 0.8681\n",
      "Epoch 7/50\n",
      "105/105 [==============================] - 3s 24ms/step - loss: 0.2043 - accuracy: 0.9345 - val_loss: 0.3531 - val_accuracy: 0.8681\n",
      "Epoch 8/50\n",
      "105/105 [==============================] - 3s 25ms/step - loss: 0.1688 - accuracy: 0.9423 - val_loss: 0.3388 - val_accuracy: 0.8819\n",
      "Epoch 9/50\n",
      "105/105 [==============================] - 3s 25ms/step - loss: 0.1371 - accuracy: 0.9521 - val_loss: 0.3187 - val_accuracy: 0.8986\n",
      "Epoch 10/50\n",
      "105/105 [==============================] - 3s 25ms/step - loss: 0.1179 - accuracy: 0.9637 - val_loss: 0.3315 - val_accuracy: 0.8903\n",
      "Epoch 11/50\n",
      "105/105 [==============================] - 3s 25ms/step - loss: 0.0941 - accuracy: 0.9693 - val_loss: 0.4046 - val_accuracy: 0.8819\n",
      "Epoch 12/50\n",
      "105/105 [==============================] - 3s 26ms/step - loss: 0.0920 - accuracy: 0.9693 - val_loss: 0.3338 - val_accuracy: 0.8958\n",
      "Epoch 13/50\n",
      "105/105 [==============================] - 3s 25ms/step - loss: 0.0704 - accuracy: 0.9795 - val_loss: 0.3316 - val_accuracy: 0.9056\n",
      "Epoch 14/50\n",
      "105/105 [==============================] - 3s 25ms/step - loss: 0.0661 - accuracy: 0.9807 - val_loss: 0.3800 - val_accuracy: 0.8986\n",
      "Epoch 15/50\n",
      "105/105 [==============================] - 3s 26ms/step - loss: 0.0565 - accuracy: 0.9789 - val_loss: 0.3374 - val_accuracy: 0.9111\n",
      "Epoch 16/50\n",
      "105/105 [==============================] - 3s 25ms/step - loss: 0.0497 - accuracy: 0.9848 - val_loss: 0.3674 - val_accuracy: 0.9194\n",
      "Epoch 17/50\n",
      "105/105 [==============================] - 3s 25ms/step - loss: 0.0585 - accuracy: 0.9795 - val_loss: 0.3775 - val_accuracy: 0.9153\n",
      "Epoch 18/50\n",
      "105/105 [==============================] - 3s 24ms/step - loss: 0.0440 - accuracy: 0.9854 - val_loss: 0.3561 - val_accuracy: 0.9181\n",
      "Epoch 19/50\n",
      "105/105 [==============================] - 3s 26ms/step - loss: 0.0586 - accuracy: 0.9872 - val_loss: 0.2916 - val_accuracy: 0.9292\n",
      "Epoch 20/50\n",
      "105/105 [==============================] - 3s 24ms/step - loss: 0.0340 - accuracy: 0.9905 - val_loss: 0.3976 - val_accuracy: 0.9042\n",
      "Epoch 21/50\n",
      "105/105 [==============================] - 3s 24ms/step - loss: 0.0272 - accuracy: 0.9908 - val_loss: 0.3877 - val_accuracy: 0.9208\n",
      "Epoch 22/50\n",
      "105/105 [==============================] - 3s 24ms/step - loss: 0.0300 - accuracy: 0.9896 - val_loss: 0.3800 - val_accuracy: 0.9278\n",
      "Epoch 23/50\n",
      "105/105 [==============================] - 3s 25ms/step - loss: 0.0278 - accuracy: 0.9914 - val_loss: 0.4359 - val_accuracy: 0.9222\n",
      "Epoch 24/50\n",
      "105/105 [==============================] - 3s 24ms/step - loss: 0.0319 - accuracy: 0.9929 - val_loss: 0.3823 - val_accuracy: 0.9264\n",
      "Epoch 25/50\n",
      "105/105 [==============================] - 3s 24ms/step - loss: 0.0297 - accuracy: 0.9938 - val_loss: 0.4733 - val_accuracy: 0.8986\n",
      "Epoch 26/50\n",
      "105/105 [==============================] - 3s 24ms/step - loss: 0.0319 - accuracy: 0.9917 - val_loss: 0.4484 - val_accuracy: 0.9181\n",
      "Epoch 27/50\n",
      "105/105 [==============================] - 3s 24ms/step - loss: 0.0406 - accuracy: 0.9920 - val_loss: 0.4319 - val_accuracy: 0.9264\n"
     ]
    }
   ],
   "source": [
    "history = model.fit(\n",
    "  train.cache(),\n",
    "  epochs=50,\n",
    "  callbacks=callbacks_list,\n",
    "  validation_data=val.cache()\n",
    ")"
   ]
  },
  {
   "cell_type": "code",
   "execution_count": 6,
   "metadata": {},
   "outputs": [
    {
     "name": "stdout",
     "output_type": "stream",
     "text": [
      " 7/23 [========>.....................] - ETA: 0s - loss: 0.2548 - accuracy: 0.9241"
     ]
    },
    {
     "name": "stderr",
     "output_type": "stream",
     "text": [
      "2022-08-07 17:45:40.914927: I tensorflow/core/grappler/optimizers/custom_graph_optimizer_registry.cc:112] Plugin optimizer for device_type GPU is enabled.\n"
     ]
    },
    {
     "name": "stdout",
     "output_type": "stream",
     "text": [
      "23/23 [==============================] - 0s 17ms/step - loss: 0.3000 - accuracy: 0.9167\n"
     ]
    },
    {
     "data": {
      "text/plain": [
       "[0.3000018298625946, 0.9166666865348816]"
      ]
     },
     "execution_count": 6,
     "metadata": {},
     "output_type": "execute_result"
    }
   ],
   "source": [
    "model = keras.models.load_model(\"../../models/transfer/transfer_medium_trainHalf.h5\")\n",
    "model.evaluate(test)"
   ]
  },
  {
   "cell_type": "code",
   "execution_count": 7,
   "metadata": {},
   "outputs": [
    {
     "data": {
      "text/plain": [
       "<module 'matplotlib.pyplot' from '/opt/homebrew/Caskroom/miniforge/base/lib/python3.9/site-packages/matplotlib/pyplot.py'>"
      ]
     },
     "execution_count": 7,
     "metadata": {},
     "output_type": "execute_result"
    },
    {
     "data": {
      "image/png": "[encoded data removed]",
      "text/plain": [
       "<Figure size 432x288 with 1 Axes>"
      ]
     },
     "metadata": {
      "needs_background": "light"
     },
     "output_type": "display_data"
    }
   ],
   "source": [
    "# Plotting loss and accuracy graphs\n",
    "## Plotting loss\n",
    "plot_loss(history)\n"
   ]
  },
  {
   "cell_type": "code",
   "execution_count": 8,
   "metadata": {},
   "outputs": [
    {
     "data": {
      "text/plain": [
       "<module 'matplotlib.pyplot' from '/opt/homebrew/Caskroom/miniforge/base/lib/python3.9/site-packages/matplotlib/pyplot.py'>"
      ]
     },
     "execution_count": 8,
     "metadata": {},
     "output_type": "execute_result"
    },
    {
     "data": {
      "image/png": "[encoded data removed]",
      "text/plain": [
       "<Figure size 432x288 with 1 Axes>"
      ]
     },
     "metadata": {
      "needs_background": "light"
     },
     "output_type": "display_data"
    }
   ],
   "source": [
    "## Plotting accuracy\n",
    "plot_acc(history)"
   ]
  },
  {
   "cell_type": "markdown",
   "metadata": {},
   "source": [
    "# compare with untrained"
   ]
  },
  {
   "cell_type": "code",
   "execution_count": 9,
   "metadata": {},
   "outputs": [
    {
     "name": "stdout",
     "output_type": "stream",
     "text": [
      " 8/23 [=========>....................] - ETA: 0s - loss: 0.3215 - accuracy: 0.9258"
     ]
    },
    {
     "name": "stderr",
     "output_type": "stream",
     "text": [
      "2022-08-07 17:45:41.665489: I tensorflow/core/grappler/optimizers/custom_graph_optimizer_registry.cc:112] Plugin optimizer for device_type GPU is enabled.\n"
     ]
    },
    {
     "name": "stdout",
     "output_type": "stream",
     "text": [
      "23/23 [==============================] - 0s 16ms/step - loss: 0.2399 - accuracy: 0.9417\n"
     ]
    },
    {
     "data": {
      "text/plain": [
       "[0.23994354903697968, 0.9416666626930237]"
      ]
     },
     "execution_count": 9,
     "metadata": {},
     "output_type": "execute_result"
    }
   ],
   "source": [
    "untrained_model = keras.models.load_model(\"../../models/zenodo/m3_medium.h5\")\n",
    "untrained_model.evaluate(test)"
   ]
  },
  {
   "cell_type": "markdown",
   "metadata": {},
   "source": [
    "# All Trainable Layers Transfer Learning - start from nonrandom weights"
   ]
  },
  {
   "cell_type": "code",
   "execution_count": 10,
   "metadata": {},
   "outputs": [
    {
     "name": "stdout",
     "output_type": "stream",
     "text": [
      "Model: \"model_1\"\n",
      "_________________________________________________________________\n",
      " Layer (type)                Output Shape              Param #   \n",
      "=================================================================\n",
      " input_1 (InputLayer)        [(None, 100, 100, 3)]     0         \n",
      "                                                                 \n",
      " rescaling (Rescaling)       (None, 100, 100, 3)       0         \n",
      "                                                                 \n",
      " conv2d (Conv2D)             (None, 98, 98, 32)        896       \n",
      "                                                                 \n",
      " max_pooling2d (MaxPooling2D  (None, 49, 49, 32)       0         \n",
      " )                                                               \n",
      "                                                                 \n",
      " conv2d_1 (Conv2D)           (None, 47, 47, 64)        18496     \n",
      "                                                                 \n",
      " max_pooling2d_1 (MaxPooling  (None, 23, 23, 64)       0         \n",
      " 2D)                                                             \n",
      "                                                                 \n",
      " conv2d_2 (Conv2D)           (None, 21, 21, 128)       73856     \n",
      "                                                                 \n",
      " max_pooling2d_2 (MaxPooling  (None, 10, 10, 128)      0         \n",
      " 2D)                                                             \n",
      "                                                                 \n",
      " conv2d_3 (Conv2D)           (None, 8, 8, 256)         295168    \n",
      "                                                                 \n",
      " global_average_pooling2d (G  (None, 256)              0         \n",
      " lobalAveragePooling2D)                                          \n",
      "                                                                 \n",
      " dense (Dense)               (None, 256)               65792     \n",
      "                                                                 \n",
      " dropout (Dropout)           (None, 256)               0         \n",
      "                                                                 \n",
      " classifier (Dense)          (None, 6)                 1542      \n",
      "                                                                 \n",
      "=================================================================\n",
      "Total params: 455,750\n",
      "Trainable params: 455,750\n",
      "Non-trainable params: 0\n",
      "_________________________________________________________________\n"
     ]
    }
   ],
   "source": [
    "vtid2_allTrainable = keras.models.load_model('../../models/vtid2/m2_medium.h5')\n",
    "\n",
    "x = vtid2_allTrainable.layers[-2].output\n",
    "outputs = keras.layers.Dense(6, activation='softmax', name='classifier')(x)\n",
    "all_trainable_model = keras.Model(vtid2_allTrainable.inputs, outputs)\n",
    "all_trainable_model.compile(optimizer='rmsprop', loss='sparse_categorical_crossentropy', metrics=['accuracy'])\n",
    "all_trainable_model.summary()"
   ]
  },
  {
   "cell_type": "code",
   "execution_count": 11,
   "metadata": {},
   "outputs": [],
   "source": [
    "callbacks_list = [\n",
    "    keras.callbacks.EarlyStopping(\n",
    "        monitor=\"val_accuracy\",\n",
    "        patience=8\n",
    "    ),\n",
    "    keras.callbacks.ModelCheckpoint(\n",
    "        filepath=\"../../models/transfer/transfer_medium_trainFull.h5\",\n",
    "        monitor=\"val_accuracy\",\n",
    "        save_best_only=True\n",
    "    )\n",
    "]"
   ]
  },
  {
   "cell_type": "code",
   "execution_count": 12,
   "metadata": {},
   "outputs": [
    {
     "name": "stdout",
     "output_type": "stream",
     "text": [
      "Epoch 1/50\n"
     ]
    },
    {
     "name": "stderr",
     "output_type": "stream",
     "text": [
      "2022-08-07 17:45:42.467444: I tensorflow/core/grappler/optimizers/custom_graph_optimizer_registry.cc:112] Plugin optimizer for device_type GPU is enabled.\n"
     ]
    },
    {
     "name": "stdout",
     "output_type": "stream",
     "text": [
      "104/105 [============================>.] - ETA: 0s - loss: 1.3310 - accuracy: 0.4919"
     ]
    },
    {
     "name": "stderr",
     "output_type": "stream",
     "text": [
      "2022-08-07 17:45:47.083036: I tensorflow/core/grappler/optimizers/custom_graph_optimizer_registry.cc:112] Plugin optimizer for device_type GPU is enabled.\n"
     ]
    },
    {
     "name": "stdout",
     "output_type": "stream",
     "text": [
      "105/105 [==============================] - 5s 46ms/step - loss: 1.3301 - accuracy: 0.4917 - val_loss: 1.0441 - val_accuracy: 0.6236\n",
      "Epoch 2/50\n",
      "105/105 [==============================] - 5s 46ms/step - loss: 0.7906 - accuracy: 0.7128 - val_loss: 0.9174 - val_accuracy: 0.6639\n",
      "Epoch 3/50\n",
      "105/105 [==============================] - 5s 49ms/step - loss: 0.5912 - accuracy: 0.7833 - val_loss: 0.6510 - val_accuracy: 0.7694\n",
      "Epoch 4/50\n",
      "105/105 [==============================] - 5s 46ms/step - loss: 0.4390 - accuracy: 0.8390 - val_loss: 0.6272 - val_accuracy: 0.7681\n",
      "Epoch 5/50\n",
      "105/105 [==============================] - 5s 45ms/step - loss: 0.3492 - accuracy: 0.8762 - val_loss: 0.4527 - val_accuracy: 0.8333\n",
      "Epoch 6/50\n",
      "105/105 [==============================] - 5s 47ms/step - loss: 0.2838 - accuracy: 0.9039 - val_loss: 0.9001 - val_accuracy: 0.7208\n",
      "Epoch 7/50\n",
      "105/105 [==============================] - 5s 46ms/step - loss: 0.2314 - accuracy: 0.9188 - val_loss: 0.2869 - val_accuracy: 0.8972\n",
      "Epoch 8/50\n",
      "105/105 [==============================] - 5s 47ms/step - loss: 0.2017 - accuracy: 0.9357 - val_loss: 0.2364 - val_accuracy: 0.9125\n",
      "Epoch 9/50\n",
      "105/105 [==============================] - 5s 46ms/step - loss: 0.1782 - accuracy: 0.9473 - val_loss: 0.2386 - val_accuracy: 0.9319\n",
      "Epoch 10/50\n",
      "105/105 [==============================] - 5s 45ms/step - loss: 0.1225 - accuracy: 0.9601 - val_loss: 0.3173 - val_accuracy: 0.9069\n",
      "Epoch 11/50\n",
      "105/105 [==============================] - 5s 45ms/step - loss: 0.1227 - accuracy: 0.9604 - val_loss: 0.4000 - val_accuracy: 0.8917\n",
      "Epoch 12/50\n",
      "105/105 [==============================] - 5s 43ms/step - loss: 0.1040 - accuracy: 0.9622 - val_loss: 0.6209 - val_accuracy: 0.8542\n",
      "Epoch 13/50\n",
      "105/105 [==============================] - 4s 43ms/step - loss: 0.1120 - accuracy: 0.9667 - val_loss: 0.2240 - val_accuracy: 0.9306\n",
      "Epoch 14/50\n",
      "105/105 [==============================] - 4s 43ms/step - loss: 0.0734 - accuracy: 0.9750 - val_loss: 0.3499 - val_accuracy: 0.9181\n",
      "Epoch 15/50\n",
      "105/105 [==============================] - 5s 43ms/step - loss: 0.0844 - accuracy: 0.9735 - val_loss: 0.2425 - val_accuracy: 0.9375\n",
      "Epoch 16/50\n",
      "105/105 [==============================] - 5s 43ms/step - loss: 0.0772 - accuracy: 0.9786 - val_loss: 0.2882 - val_accuracy: 0.9361\n",
      "Epoch 17/50\n",
      "105/105 [==============================] - 5s 45ms/step - loss: 0.1011 - accuracy: 0.9723 - val_loss: 0.6803 - val_accuracy: 0.8681\n",
      "Epoch 18/50\n",
      "105/105 [==============================] - 4s 42ms/step - loss: 0.0609 - accuracy: 0.9836 - val_loss: 0.5987 - val_accuracy: 0.8806\n",
      "Epoch 19/50\n",
      "105/105 [==============================] - 4s 43ms/step - loss: 0.0859 - accuracy: 0.9792 - val_loss: 0.3920 - val_accuracy: 0.9222\n",
      "Epoch 20/50\n",
      "105/105 [==============================] - 4s 43ms/step - loss: 0.0701 - accuracy: 0.9842 - val_loss: 0.2758 - val_accuracy: 0.9417\n",
      "Epoch 21/50\n",
      "105/105 [==============================] - 5s 43ms/step - loss: 0.0617 - accuracy: 0.9824 - val_loss: 0.3115 - val_accuracy: 0.9403\n",
      "Epoch 22/50\n",
      "105/105 [==============================] - 5s 48ms/step - loss: 0.1103 - accuracy: 0.9777 - val_loss: 0.7709 - val_accuracy: 0.8792\n",
      "Epoch 23/50\n",
      "105/105 [==============================] - 5s 44ms/step - loss: 0.0700 - accuracy: 0.9845 - val_loss: 0.3664 - val_accuracy: 0.9361\n",
      "Epoch 24/50\n",
      "105/105 [==============================] - 5s 43ms/step - loss: 0.0964 - accuracy: 0.9836 - val_loss: 0.2972 - val_accuracy: 0.9431\n",
      "Epoch 25/50\n",
      "105/105 [==============================] - 5s 44ms/step - loss: 0.1316 - accuracy: 0.9810 - val_loss: 0.3680 - val_accuracy: 0.9319\n",
      "Epoch 26/50\n",
      "105/105 [==============================] - 5s 43ms/step - loss: 0.0750 - accuracy: 0.9863 - val_loss: 0.4352 - val_accuracy: 0.9292\n",
      "Epoch 27/50\n",
      "105/105 [==============================] - 5s 43ms/step - loss: 0.0749 - accuracy: 0.9863 - val_loss: 0.2793 - val_accuracy: 0.9486\n",
      "Epoch 28/50\n",
      "105/105 [==============================] - 5s 44ms/step - loss: 0.1319 - accuracy: 0.9798 - val_loss: 0.3783 - val_accuracy: 0.9375\n",
      "Epoch 29/50\n",
      "105/105 [==============================] - 5s 43ms/step - loss: 0.0737 - accuracy: 0.9857 - val_loss: 0.3758 - val_accuracy: 0.9417\n",
      "Epoch 30/50\n",
      "105/105 [==============================] - 5s 43ms/step - loss: 0.0836 - accuracy: 0.9860 - val_loss: 0.4315 - val_accuracy: 0.9306\n",
      "Epoch 31/50\n",
      "105/105 [==============================] - 4s 43ms/step - loss: 0.0738 - accuracy: 0.9813 - val_loss: 0.2999 - val_accuracy: 0.9458\n",
      "Epoch 32/50\n",
      "105/105 [==============================] - 4s 43ms/step - loss: 0.0474 - accuracy: 0.9893 - val_loss: 0.4038 - val_accuracy: 0.9458\n",
      "Epoch 33/50\n",
      "105/105 [==============================] - 5s 43ms/step - loss: 0.0807 - accuracy: 0.9854 - val_loss: 0.4920 - val_accuracy: 0.9139\n",
      "Epoch 34/50\n",
      "105/105 [==============================] - 4s 43ms/step - loss: 0.0440 - accuracy: 0.9899 - val_loss: 0.3518 - val_accuracy: 0.9486\n",
      "Epoch 35/50\n",
      "105/105 [==============================] - 5s 43ms/step - loss: 0.0851 - accuracy: 0.9827 - val_loss: 0.5130 - val_accuracy: 0.9250\n"
     ]
    }
   ],
   "source": [
    "history = all_trainable_model.fit(\n",
    "  train.cache(),\n",
    "  epochs=50,\n",
    "  callbacks=callbacks_list,\n",
    "  validation_data=val.cache()\n",
    ")"
   ]
  },
  {
   "cell_type": "code",
   "execution_count": 13,
   "metadata": {},
   "outputs": [
    {
     "name": "stdout",
     "output_type": "stream",
     "text": [
      " 4/23 [====>.........................] - ETA: 0s - loss: 0.2707 - accuracy: 0.9297"
     ]
    },
    {
     "name": "stderr",
     "output_type": "stream",
     "text": [
      "2022-08-07 17:48:25.405990: I tensorflow/core/grappler/optimizers/custom_graph_optimizer_registry.cc:112] Plugin optimizer for device_type GPU is enabled.\n"
     ]
    },
    {
     "name": "stdout",
     "output_type": "stream",
     "text": [
      "23/23 [==============================] - 1s 17ms/step - loss: 0.2629 - accuracy: 0.9417\n"
     ]
    },
    {
     "data": {
      "text/plain": [
       "[0.26287591457366943, 0.9416666626930237]"
      ]
     },
     "execution_count": 13,
     "metadata": {},
     "output_type": "execute_result"
    }
   ],
   "source": [
    "trainable_model = keras.models.load_model(\"../../models/transfer/transfer_medium_trainFull.h5\")\n",
    "trainable_model.evaluate(test)"
   ]
  },
  {
   "cell_type": "code",
   "execution_count": 14,
   "metadata": {},
   "outputs": [
    {
     "data": {
      "text/plain": [
       "<module 'matplotlib.pyplot' from '/opt/homebrew/Caskroom/miniforge/base/lib/python3.9/site-packages/matplotlib/pyplot.py'>"
      ]
     },
     "execution_count": 14,
     "metadata": {},
     "output_type": "execute_result"
    },
    {
     "data": {
      "image/png": "[encoded data removed]",
      "text/plain": [
       "<Figure size 432x288 with 1 Axes>"
      ]
     },
     "metadata": {
      "needs_background": "light"
     },
     "output_type": "display_data"
    }
   ],
   "source": [
    "# Plotting loss and accuracy graphs\n",
    "## Plotting loss\n",
    "plot_loss(history)"
   ]
  },
  {
   "cell_type": "code",
   "execution_count": 15,
   "metadata": {},
   "outputs": [
    {
     "data": {
      "text/plain": [
       "<module 'matplotlib.pyplot' from '/opt/homebrew/Caskroom/miniforge/base/lib/python3.9/site-packages/matplotlib/pyplot.py'>"
      ]
     },
     "execution_count": 15,
     "metadata": {},
     "output_type": "execute_result"
    },
    {
     "data": {
      "image/png": "[encoded data removed]",
      "text/plain": [
       "<Figure size 432x288 with 1 Axes>"
      ]
     },
     "metadata": {
      "needs_background": "light"
     },
     "output_type": "display_data"
    }
   ],
   "source": [
    "## Plotting accuracy\n",
    "plot_acc(history)"
   ]
  }
 ],
 "metadata": {
  "kernelspec": {
   "display_name": "Python 3.9.7 ('base')",
   "language": "python",
   "name": "python3"
  },
  "language_info": {
   "codemirror_mode": {
    "name": "ipython",
    "version": 3
   },
   "file_extension": ".py",
   "mimetype": "text/x-python",
   "name": "python",
   "nbconvert_exporter": "python",
   "pygments_lexer": "ipython3",
   "version": "3.9.7"
  },
  "orig_nbformat": 4,
  "vscode": {
   "interpreter": {
    "hash": "c6e4e9f98eb68ad3b7c296f83d20e6de614cb42e90992a65aa266555a3137d0d"
   }
  }
 },
 "nbformat": 4,
 "nbformat_minor": 2
}
