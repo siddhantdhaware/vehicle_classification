{
 "cells": [
  {
   "cell_type": "markdown",
   "metadata": {},
   "source": [
    "# Importing the libraries"
   ]
  },
  {
   "cell_type": "code",
   "execution_count": 1,
   "metadata": {},
   "outputs": [],
   "source": [
    "import tensorflow as tf\n",
    "from tensorflow.keras import layers, utils\n",
    "from tensorflow import keras\n",
    "\n",
    "import sys\n",
    "sys.path.insert(0, '../../')\n",
    "from plot_graphs import plot_loss, plot_acc"
   ]
  },
  {
   "cell_type": "markdown",
   "metadata": {},
   "source": [
    "# Set image size, batch size, and import dataset"
   ]
  },
  {
   "cell_type": "code",
   "execution_count": 2,
   "metadata": {},
   "outputs": [
    {
     "name": "stdout",
     "output_type": "stream",
     "text": [
      "Found 3360 files belonging to 6 classes.\n",
      "Metal device set to: Apple M1\n",
      "\n",
      "systemMemory: 16.00 GB\n",
      "maxCacheSize: 5.33 GB\n",
      "\n",
      "Found 720 files belonging to 6 classes.\n",
      "Found 720 files belonging to 6 classes.\n"
     ]
    },
    {
     "name": "stderr",
     "output_type": "stream",
     "text": [
      "2022-08-07 17:20:08.656006: I tensorflow/core/common_runtime/pluggable_device/pluggable_device_factory.cc:305] Could not identify NUMA node of platform GPU ID 0, defaulting to 0. Your kernel may not have been built with NUMA support.\n",
      "2022-08-07 17:20:08.656190: I tensorflow/core/common_runtime/pluggable_device/pluggable_device_factory.cc:271] Created TensorFlow device (/job:localhost/replica:0/task:0/device:GPU:0 with 0 MB memory) -> physical PluggableDevice (device: 0, name: METAL, pci bus id: <undefined>)\n"
     ]
    }
   ],
   "source": [
    "IMAGE_SIZE = 100\n",
    "BATCH_SIZE = 32\n",
    "\n",
    "train = utils.image_dataset_from_directory(\"../../datasets/data/split/Zenodo/train/\", image_size=(IMAGE_SIZE, IMAGE_SIZE), batch_size=BATCH_SIZE)\n",
    "val = utils.image_dataset_from_directory(\"../../datasets/data/split/Zenodo/val\", image_size=(IMAGE_SIZE, IMAGE_SIZE), batch_size=BATCH_SIZE)\n",
    "test = utils.image_dataset_from_directory(\"../../datasets/data/split/Zenodo/test\", image_size=(IMAGE_SIZE, IMAGE_SIZE), batch_size=BATCH_SIZE)"
   ]
  },
  {
   "cell_type": "markdown",
   "metadata": {},
   "source": [
    "# Train from the 4th conv2d layer"
   ]
  },
  {
   "cell_type": "code",
   "execution_count": 3,
   "metadata": {},
   "outputs": [
    {
     "name": "stdout",
     "output_type": "stream",
     "text": [
      "Model: \"model\"\n",
      "_________________________________________________________________\n",
      " Layer (type)                Output Shape              Param #   \n",
      "=================================================================\n",
      " input_1 (InputLayer)        [(None, 100, 100, 3)]     0         \n",
      "                                                                 \n",
      " rescaling (Rescaling)       (None, 100, 100, 3)       0         \n",
      "                                                                 \n",
      " conv2d (Conv2D)             (None, 98, 98, 32)        896       \n",
      "                                                                 \n",
      " conv2d_1 (Conv2D)           (None, 96, 96, 32)        9248      \n",
      "                                                                 \n",
      " conv2d_2 (Conv2D)           (None, 94, 94, 32)        9248      \n",
      "                                                                 \n",
      " max_pooling2d (MaxPooling2D  (None, 47, 47, 32)       0         \n",
      " )                                                               \n",
      "                                                                 \n",
      " conv2d_3 (Conv2D)           (None, 45, 45, 64)        18496     \n",
      "                                                                 \n",
      " conv2d_4 (Conv2D)           (None, 43, 43, 64)        36928     \n",
      "                                                                 \n",
      " max_pooling2d_1 (MaxPooling  (None, 21, 21, 64)       0         \n",
      " 2D)                                                             \n",
      "                                                                 \n",
      " conv2d_5 (Conv2D)           (None, 19, 19, 128)       73856     \n",
      "                                                                 \n",
      " conv2d_6 (Conv2D)           (None, 17, 17, 128)       147584    \n",
      "                                                                 \n",
      " max_pooling2d_2 (MaxPooling  (None, 8, 8, 128)        0         \n",
      " 2D)                                                             \n",
      "                                                                 \n",
      " conv2d_7 (Conv2D)           (None, 6, 6, 256)         295168    \n",
      "                                                                 \n",
      " conv2d_8 (Conv2D)           (None, 4, 4, 256)         590080    \n",
      "                                                                 \n",
      " global_average_pooling2d (G  (None, 256)              0         \n",
      " lobalAveragePooling2D)                                          \n",
      "                                                                 \n",
      " dense (Dense)               (None, 256)               65792     \n",
      "                                                                 \n",
      " dropout (Dropout)           (None, 256)               0         \n",
      "                                                                 \n",
      " classifier (Dense)          (None, 6)                 1542      \n",
      "                                                                 \n",
      "=================================================================\n",
      "Total params: 1,248,838\n",
      "Trainable params: 1,229,446\n",
      "Non-trainable params: 19,392\n",
      "_________________________________________________________________\n"
     ]
    }
   ],
   "source": [
    "vtid = keras.models.load_model('../../models/vtid2/m1_big.h5')\n",
    "vtid.trainable = False\n",
    "\n",
    "for layer in vtid.layers[6:]:\n",
    "  layer.trainable = True\n",
    "\n",
    "x = vtid.layers[-2].output\n",
    "outputs = layers.Dense(6, activation='softmax', name='classifier')(x)\n",
    "model = keras.Model(vtid.inputs, outputs)\n",
    "model.compile(optimizer='rmsprop', loss='sparse_categorical_crossentropy', metrics=['accuracy'])\n",
    "\n",
    "model.summary()"
   ]
  },
  {
   "cell_type": "code",
   "execution_count": 4,
   "metadata": {},
   "outputs": [],
   "source": [
    "\n",
    "callbacks_list = [\n",
    "    keras.callbacks.EarlyStopping(\n",
    "        monitor=\"val_accuracy\",\n",
    "        patience=8\n",
    "    ),\n",
    "    keras.callbacks.ModelCheckpoint(\n",
    "        filepath=\"../../models/transfer/transfer_big_trainHalf.h5\",\n",
    "        monitor=\"val_accuracy\",\n",
    "        save_best_only=True\n",
    "    )\n",
    "]\n"
   ]
  },
  {
   "cell_type": "code",
   "execution_count": 5,
   "metadata": {},
   "outputs": [
    {
     "name": "stdout",
     "output_type": "stream",
     "text": [
      "Epoch 1/50\n"
     ]
    },
    {
     "name": "stderr",
     "output_type": "stream",
     "text": [
      "2022-08-07 17:20:09.526734: W tensorflow/core/platform/profile_utils/cpu_utils.cc:128] Failed to get CPU frequency: 0 Hz\n",
      "2022-08-07 17:20:09.526832: I tensorflow/core/grappler/optimizers/custom_graph_optimizer_registry.cc:112] Plugin optimizer for device_type GPU is enabled.\n"
     ]
    },
    {
     "name": "stdout",
     "output_type": "stream",
     "text": [
      "105/105 [==============================] - ETA: 0s - loss: 1.0088 - accuracy: 0.6304"
     ]
    },
    {
     "name": "stderr",
     "output_type": "stream",
     "text": [
      "2022-08-07 17:20:16.564768: I tensorflow/core/grappler/optimizers/custom_graph_optimizer_registry.cc:112] Plugin optimizer for device_type GPU is enabled.\n"
     ]
    },
    {
     "name": "stdout",
     "output_type": "stream",
     "text": [
      "105/105 [==============================] - 8s 67ms/step - loss: 1.0088 - accuracy: 0.6304 - val_loss: 0.5852 - val_accuracy: 0.8000\n",
      "Epoch 2/50\n",
      "105/105 [==============================] - 6s 60ms/step - loss: 0.4581 - accuracy: 0.8384 - val_loss: 0.4067 - val_accuracy: 0.8486\n",
      "Epoch 3/50\n",
      "105/105 [==============================] - 7s 64ms/step - loss: 0.2872 - accuracy: 0.8997 - val_loss: 0.5145 - val_accuracy: 0.8569\n",
      "Epoch 4/50\n",
      "105/105 [==============================] - 7s 66ms/step - loss: 0.1876 - accuracy: 0.9307 - val_loss: 1.0195 - val_accuracy: 0.8028\n",
      "Epoch 5/50\n",
      "105/105 [==============================] - 7s 66ms/step - loss: 0.1775 - accuracy: 0.9467 - val_loss: 0.4141 - val_accuracy: 0.8944\n",
      "Epoch 6/50\n",
      "105/105 [==============================] - 7s 66ms/step - loss: 0.1105 - accuracy: 0.9652 - val_loss: 0.5348 - val_accuracy: 0.8736\n",
      "Epoch 7/50\n",
      "105/105 [==============================] - 7s 64ms/step - loss: 0.0943 - accuracy: 0.9720 - val_loss: 0.4580 - val_accuracy: 0.9000\n",
      "Epoch 8/50\n",
      "105/105 [==============================] - 7s 63ms/step - loss: 0.1055 - accuracy: 0.9690 - val_loss: 0.3267 - val_accuracy: 0.9222\n",
      "Epoch 9/50\n",
      "105/105 [==============================] - 7s 62ms/step - loss: 0.0821 - accuracy: 0.9804 - val_loss: 0.3029 - val_accuracy: 0.9250\n",
      "Epoch 10/50\n",
      "105/105 [==============================] - 7s 63ms/step - loss: 0.0773 - accuracy: 0.9810 - val_loss: 0.3899 - val_accuracy: 0.9250\n",
      "Epoch 11/50\n",
      "105/105 [==============================] - 6s 61ms/step - loss: 0.0490 - accuracy: 0.9875 - val_loss: 1.3651 - val_accuracy: 0.8556\n",
      "Epoch 12/50\n",
      "105/105 [==============================] - 6s 61ms/step - loss: 0.1041 - accuracy: 0.9768 - val_loss: 0.4213 - val_accuracy: 0.9208\n",
      "Epoch 13/50\n",
      "105/105 [==============================] - 6s 61ms/step - loss: 0.0479 - accuracy: 0.9854 - val_loss: 0.4784 - val_accuracy: 0.9264\n",
      "Epoch 14/50\n",
      "105/105 [==============================] - 7s 62ms/step - loss: 0.0622 - accuracy: 0.9848 - val_loss: 0.5411 - val_accuracy: 0.9264\n",
      "Epoch 15/50\n",
      "105/105 [==============================] - 6s 61ms/step - loss: 0.0586 - accuracy: 0.9878 - val_loss: 0.4866 - val_accuracy: 0.9222\n",
      "Epoch 16/50\n",
      "105/105 [==============================] - 6s 61ms/step - loss: 0.0692 - accuracy: 0.9866 - val_loss: 0.6611 - val_accuracy: 0.9236\n",
      "Epoch 17/50\n",
      "105/105 [==============================] - 6s 61ms/step - loss: 0.0462 - accuracy: 0.9881 - val_loss: 0.3884 - val_accuracy: 0.9333\n",
      "Epoch 18/50\n",
      "105/105 [==============================] - 7s 64ms/step - loss: 0.0641 - accuracy: 0.9884 - val_loss: 0.5470 - val_accuracy: 0.9264\n",
      "Epoch 19/50\n",
      "105/105 [==============================] - 7s 65ms/step - loss: 0.0678 - accuracy: 0.9845 - val_loss: 0.6046 - val_accuracy: 0.9236\n",
      "Epoch 20/50\n",
      "105/105 [==============================] - 7s 64ms/step - loss: 0.0616 - accuracy: 0.9917 - val_loss: 0.7629 - val_accuracy: 0.9083\n",
      "Epoch 21/50\n",
      "105/105 [==============================] - 7s 63ms/step - loss: 0.0745 - accuracy: 0.9848 - val_loss: 0.4540 - val_accuracy: 0.9306\n",
      "Epoch 22/50\n",
      "105/105 [==============================] - 7s 62ms/step - loss: 0.0440 - accuracy: 0.9914 - val_loss: 0.6254 - val_accuracy: 0.9167\n",
      "Epoch 23/50\n",
      "105/105 [==============================] - 6s 61ms/step - loss: 0.0371 - accuracy: 0.9911 - val_loss: 0.7351 - val_accuracy: 0.9319\n",
      "Epoch 24/50\n",
      "105/105 [==============================] - 7s 64ms/step - loss: 0.0650 - accuracy: 0.9893 - val_loss: 0.6420 - val_accuracy: 0.9264\n",
      "Epoch 25/50\n",
      "105/105 [==============================] - 7s 62ms/step - loss: 0.0507 - accuracy: 0.9905 - val_loss: 0.5899 - val_accuracy: 0.9347\n",
      "Epoch 26/50\n",
      "105/105 [==============================] - 7s 65ms/step - loss: 0.0921 - accuracy: 0.9866 - val_loss: 0.8823 - val_accuracy: 0.9264\n",
      "Epoch 27/50\n",
      "105/105 [==============================] - 8s 76ms/step - loss: 0.0991 - accuracy: 0.9872 - val_loss: 0.8464 - val_accuracy: 0.9236\n",
      "Epoch 28/50\n",
      "105/105 [==============================] - 7s 67ms/step - loss: 0.0524 - accuracy: 0.9920 - val_loss: 1.0501 - val_accuracy: 0.9264\n",
      "Epoch 29/50\n",
      "105/105 [==============================] - 6s 61ms/step - loss: 0.0570 - accuracy: 0.9917 - val_loss: 0.9397 - val_accuracy: 0.9319\n",
      "Epoch 30/50\n",
      "105/105 [==============================] - 7s 62ms/step - loss: 0.0654 - accuracy: 0.9902 - val_loss: 0.9477 - val_accuracy: 0.9306\n",
      "Epoch 31/50\n",
      "105/105 [==============================] - 6s 62ms/step - loss: 0.0475 - accuracy: 0.9920 - val_loss: 1.2524 - val_accuracy: 0.9056\n",
      "Epoch 32/50\n",
      "105/105 [==============================] - 7s 64ms/step - loss: 0.0781 - accuracy: 0.9893 - val_loss: 0.9627 - val_accuracy: 0.9181\n",
      "Epoch 33/50\n",
      "105/105 [==============================] - 7s 63ms/step - loss: 0.0426 - accuracy: 0.9923 - val_loss: 0.8125 - val_accuracy: 0.9389\n",
      "Epoch 34/50\n",
      "105/105 [==============================] - 7s 68ms/step - loss: 0.0469 - accuracy: 0.9943 - val_loss: 1.3158 - val_accuracy: 0.9167\n",
      "Epoch 35/50\n",
      "105/105 [==============================] - 8s 73ms/step - loss: 0.0461 - accuracy: 0.9926 - val_loss: 0.8210 - val_accuracy: 0.9264\n",
      "Epoch 36/50\n",
      "105/105 [==============================] - 7s 64ms/step - loss: 0.0605 - accuracy: 0.9929 - val_loss: 0.9734 - val_accuracy: 0.9125\n",
      "Epoch 37/50\n",
      "105/105 [==============================] - 6s 61ms/step - loss: 0.0319 - accuracy: 0.9940 - val_loss: 1.7023 - val_accuracy: 0.9167\n",
      "Epoch 38/50\n",
      "105/105 [==============================] - 7s 62ms/step - loss: 0.1128 - accuracy: 0.9884 - val_loss: 0.9441 - val_accuracy: 0.9333\n",
      "Epoch 39/50\n",
      "105/105 [==============================] - 6s 62ms/step - loss: 0.0641 - accuracy: 0.9949 - val_loss: 0.8738 - val_accuracy: 0.9250\n",
      "Epoch 40/50\n",
      "105/105 [==============================] - 6s 61ms/step - loss: 0.0575 - accuracy: 0.9893 - val_loss: 0.8036 - val_accuracy: 0.9361\n",
      "Epoch 41/50\n",
      "105/105 [==============================] - 6s 62ms/step - loss: 0.0336 - accuracy: 0.9929 - val_loss: 1.6075 - val_accuracy: 0.9347\n"
     ]
    }
   ],
   "source": [
    "history = model.fit(\n",
    "  train.cache(),\n",
    "  epochs=50,\n",
    "  callbacks=callbacks_list,\n",
    "  validation_data=val.cache()\n",
    ")"
   ]
  },
  {
   "cell_type": "code",
   "execution_count": 6,
   "metadata": {},
   "outputs": [
    {
     "name": "stdout",
     "output_type": "stream",
     "text": [
      " 1/23 [>.............................] - ETA: 4s - loss: 1.0945 - accuracy: 0.8750"
     ]
    },
    {
     "name": "stderr",
     "output_type": "stream",
     "text": [
      "2022-08-07 17:24:44.555682: I tensorflow/core/grappler/optimizers/custom_graph_optimizer_registry.cc:112] Plugin optimizer for device_type GPU is enabled.\n"
     ]
    },
    {
     "name": "stdout",
     "output_type": "stream",
     "text": [
      "23/23 [==============================] - 1s 32ms/step - loss: 0.8964 - accuracy: 0.9292\n"
     ]
    },
    {
     "data": {
      "text/plain": [
       "[0.8963877558708191, 0.9291666746139526]"
      ]
     },
     "execution_count": 6,
     "metadata": {},
     "output_type": "execute_result"
    }
   ],
   "source": [
    "model = keras.models.load_model(\"../../models/transfer/transfer_big_trainHalf.h5\")\n",
    "model.evaluate(test)"
   ]
  },
  {
   "cell_type": "code",
   "execution_count": 7,
   "metadata": {},
   "outputs": [
    {
     "data": {
      "text/plain": [
       "<module 'matplotlib.pyplot' from '/opt/homebrew/Caskroom/miniforge/base/lib/python3.9/site-packages/matplotlib/pyplot.py'>"
      ]
     },
     "execution_count": 7,
     "metadata": {},
     "output_type": "execute_result"
    },
    {
     "data": {
      "image/png": "[encoded data removed]",
      "text/plain": [
       "<Figure size 432x288 with 1 Axes>"
      ]
     },
     "metadata": {
      "needs_background": "light"
     },
     "output_type": "display_data"
    }
   ],
   "source": [
    "# Plotting loss and accuracy graphs\n",
    "## Plotting loss\n",
    "plot_loss(history)\n"
   ]
  },
  {
   "cell_type": "code",
   "execution_count": 8,
   "metadata": {},
   "outputs": [
    {
     "data": {
      "text/plain": [
       "<module 'matplotlib.pyplot' from '/opt/homebrew/Caskroom/miniforge/base/lib/python3.9/site-packages/matplotlib/pyplot.py'>"
      ]
     },
     "execution_count": 8,
     "metadata": {},
     "output_type": "execute_result"
    },
    {
     "data": {
      "image/png": "[encoded data removed]",
      "text/plain": [
       "<Figure size 432x288 with 1 Axes>"
      ]
     },
     "metadata": {
      "needs_background": "light"
     },
     "output_type": "display_data"
    }
   ],
   "source": [
    "## Plotting accuracy\n",
    "plot_acc(history)"
   ]
  },
  {
   "cell_type": "markdown",
   "metadata": {},
   "source": [
    "# compare with untrained"
   ]
  },
  {
   "cell_type": "code",
   "execution_count": 9,
   "metadata": {},
   "outputs": [
    {
     "name": "stdout",
     "output_type": "stream",
     "text": [
      " 3/23 [==>...........................] - ETA: 0s - loss: 0.2416 - accuracy: 0.9792    "
     ]
    },
    {
     "name": "stderr",
     "output_type": "stream",
     "text": [
      "2022-08-07 17:24:45.850944: I tensorflow/core/grappler/optimizers/custom_graph_optimizer_registry.cc:112] Plugin optimizer for device_type GPU is enabled.\n"
     ]
    },
    {
     "name": "stdout",
     "output_type": "stream",
     "text": [
      "23/23 [==============================] - 1s 30ms/step - loss: 0.4236 - accuracy: 0.9597\n"
     ]
    },
    {
     "data": {
      "text/plain": [
       "[0.42356860637664795, 0.9597222208976746]"
      ]
     },
     "execution_count": 9,
     "metadata": {},
     "output_type": "execute_result"
    }
   ],
   "source": [
    "untrained_model = keras.models.load_model(\"../../models/zenodo/m1_big.h5\")\n",
    "untrained_model.evaluate(test)"
   ]
  },
  {
   "cell_type": "markdown",
   "metadata": {},
   "source": [
    "# All Trainable Layers Transfer Learning - start from nonrandom weights"
   ]
  },
  {
   "cell_type": "code",
   "execution_count": 10,
   "metadata": {},
   "outputs": [
    {
     "name": "stdout",
     "output_type": "stream",
     "text": [
      "Model: \"model_1\"\n",
      "_________________________________________________________________\n",
      " Layer (type)                Output Shape              Param #   \n",
      "=================================================================\n",
      " input_1 (InputLayer)        [(None, 100, 100, 3)]     0         \n",
      "                                                                 \n",
      " rescaling (Rescaling)       (None, 100, 100, 3)       0         \n",
      "                                                                 \n",
      " conv2d (Conv2D)             (None, 98, 98, 32)        896       \n",
      "                                                                 \n",
      " conv2d_1 (Conv2D)           (None, 96, 96, 32)        9248      \n",
      "                                                                 \n",
      " conv2d_2 (Conv2D)           (None, 94, 94, 32)        9248      \n",
      "                                                                 \n",
      " max_pooling2d (MaxPooling2D  (None, 47, 47, 32)       0         \n",
      " )                                                               \n",
      "                                                                 \n",
      " conv2d_3 (Conv2D)           (None, 45, 45, 64)        18496     \n",
      "                                                                 \n",
      " conv2d_4 (Conv2D)           (None, 43, 43, 64)        36928     \n",
      "                                                                 \n",
      " max_pooling2d_1 (MaxPooling  (None, 21, 21, 64)       0         \n",
      " 2D)                                                             \n",
      "                                                                 \n",
      " conv2d_5 (Conv2D)           (None, 19, 19, 128)       73856     \n",
      "                                                                 \n",
      " conv2d_6 (Conv2D)           (None, 17, 17, 128)       147584    \n",
      "                                                                 \n",
      " max_pooling2d_2 (MaxPooling  (None, 8, 8, 128)        0         \n",
      " 2D)                                                             \n",
      "                                                                 \n",
      " conv2d_7 (Conv2D)           (None, 6, 6, 256)         295168    \n",
      "                                                                 \n",
      " conv2d_8 (Conv2D)           (None, 4, 4, 256)         590080    \n",
      "                                                                 \n",
      " global_average_pooling2d (G  (None, 256)              0         \n",
      " lobalAveragePooling2D)                                          \n",
      "                                                                 \n",
      " dense (Dense)               (None, 256)               65792     \n",
      "                                                                 \n",
      " dropout (Dropout)           (None, 256)               0         \n",
      "                                                                 \n",
      " classifier (Dense)          (None, 6)                 1542      \n",
      "                                                                 \n",
      "=================================================================\n",
      "Total params: 1,248,838\n",
      "Trainable params: 1,248,838\n",
      "Non-trainable params: 0\n",
      "_________________________________________________________________\n"
     ]
    }
   ],
   "source": [
    "vtid2_allTrainable = keras.models.load_model('../../models/vtid2/m1_big.h5')\n",
    "\n",
    "x = vtid2_allTrainable.layers[-2].output\n",
    "outputs = keras.layers.Dense(6, activation='softmax', name='classifier')(x)\n",
    "all_trainable_model = keras.Model(vtid2_allTrainable.inputs, outputs)\n",
    "all_trainable_model.compile(optimizer='rmsprop', loss='sparse_categorical_crossentropy', metrics=['accuracy'])\n",
    "all_trainable_model.summary()"
   ]
  },
  {
   "cell_type": "code",
   "execution_count": 11,
   "metadata": {},
   "outputs": [],
   "source": [
    "callbacks_list = [\n",
    "    keras.callbacks.EarlyStopping(\n",
    "        monitor=\"val_accuracy\",\n",
    "        patience=8\n",
    "    ),\n",
    "    keras.callbacks.ModelCheckpoint(\n",
    "        filepath=\"../../models/transfer/transfer_big_trainFull.h5\",\n",
    "        monitor=\"val_accuracy\",\n",
    "        save_best_only=True\n",
    "    )\n",
    "]"
   ]
  },
  {
   "cell_type": "code",
   "execution_count": 12,
   "metadata": {},
   "outputs": [
    {
     "name": "stdout",
     "output_type": "stream",
     "text": [
      "Epoch 1/50\n"
     ]
    },
    {
     "name": "stderr",
     "output_type": "stream",
     "text": [
      "2022-08-07 17:24:47.431986: I tensorflow/core/grappler/optimizers/custom_graph_optimizer_registry.cc:112] Plugin optimizer for device_type GPU is enabled.\n"
     ]
    },
    {
     "name": "stdout",
     "output_type": "stream",
     "text": [
      "105/105 [==============================] - ETA: 0s - loss: 1.1311 - accuracy: 0.5542"
     ]
    },
    {
     "name": "stderr",
     "output_type": "stream",
     "text": [
      "2022-08-07 17:24:57.582531: I tensorflow/core/grappler/optimizers/custom_graph_optimizer_registry.cc:112] Plugin optimizer for device_type GPU is enabled.\n"
     ]
    },
    {
     "name": "stdout",
     "output_type": "stream",
     "text": [
      "105/105 [==============================] - 12s 97ms/step - loss: 1.1311 - accuracy: 0.5542 - val_loss: 0.5582 - val_accuracy: 0.7875\n",
      "Epoch 2/50\n",
      "105/105 [==============================] - 10s 97ms/step - loss: 0.5239 - accuracy: 0.8107 - val_loss: 0.6340 - val_accuracy: 0.7625\n",
      "Epoch 3/50\n",
      "105/105 [==============================] - 11s 101ms/step - loss: 0.3401 - accuracy: 0.8756 - val_loss: 0.4915 - val_accuracy: 0.8306\n",
      "Epoch 4/50\n",
      "105/105 [==============================] - 10s 98ms/step - loss: 0.2443 - accuracy: 0.9122 - val_loss: 0.3857 - val_accuracy: 0.8833\n",
      "Epoch 5/50\n",
      "105/105 [==============================] - 11s 103ms/step - loss: 0.1685 - accuracy: 0.9423 - val_loss: 0.4140 - val_accuracy: 0.8958\n",
      "Epoch 6/50\n",
      "105/105 [==============================] - 11s 104ms/step - loss: 0.1481 - accuracy: 0.9551 - val_loss: 0.3837 - val_accuracy: 0.8917\n",
      "Epoch 7/50\n",
      "105/105 [==============================] - 10s 95ms/step - loss: 0.1214 - accuracy: 0.9685 - val_loss: 0.3650 - val_accuracy: 0.9028\n",
      "Epoch 8/50\n",
      "105/105 [==============================] - 11s 109ms/step - loss: 0.0881 - accuracy: 0.9756 - val_loss: 0.4011 - val_accuracy: 0.9222\n",
      "Epoch 9/50\n",
      "105/105 [==============================] - 10s 98ms/step - loss: 0.0940 - accuracy: 0.9726 - val_loss: 0.5424 - val_accuracy: 0.8972\n",
      "Epoch 10/50\n",
      "105/105 [==============================] - 11s 100ms/step - loss: 0.0847 - accuracy: 0.9780 - val_loss: 0.8043 - val_accuracy: 0.8778\n",
      "Epoch 11/50\n",
      "105/105 [==============================] - 10s 93ms/step - loss: 0.0988 - accuracy: 0.9774 - val_loss: 0.3505 - val_accuracy: 0.9347\n",
      "Epoch 12/50\n",
      "105/105 [==============================] - 10s 96ms/step - loss: 0.1061 - accuracy: 0.9836 - val_loss: 0.6127 - val_accuracy: 0.9153\n",
      "Epoch 13/50\n",
      "105/105 [==============================] - 10s 96ms/step - loss: 0.0765 - accuracy: 0.9783 - val_loss: 0.6377 - val_accuracy: 0.9083\n",
      "Epoch 14/50\n",
      "105/105 [==============================] - 10s 93ms/step - loss: 0.0732 - accuracy: 0.9813 - val_loss: 0.6985 - val_accuracy: 0.8986\n",
      "Epoch 15/50\n",
      "105/105 [==============================] - 10s 94ms/step - loss: 0.0780 - accuracy: 0.9824 - val_loss: 0.5604 - val_accuracy: 0.9264\n",
      "Epoch 16/50\n",
      "105/105 [==============================] - 10s 92ms/step - loss: 0.0799 - accuracy: 0.9818 - val_loss: 0.5533 - val_accuracy: 0.9347\n",
      "Epoch 17/50\n",
      "105/105 [==============================] - 10s 94ms/step - loss: 0.0628 - accuracy: 0.9869 - val_loss: 0.5837 - val_accuracy: 0.9139\n",
      "Epoch 18/50\n",
      "105/105 [==============================] - 10s 93ms/step - loss: 0.0696 - accuracy: 0.9854 - val_loss: 0.4628 - val_accuracy: 0.9264\n",
      "Epoch 19/50\n",
      "105/105 [==============================] - 10s 95ms/step - loss: 0.0726 - accuracy: 0.9830 - val_loss: 0.4362 - val_accuracy: 0.9361\n",
      "Epoch 20/50\n",
      "105/105 [==============================] - 10s 96ms/step - loss: 0.0652 - accuracy: 0.9833 - val_loss: 0.3454 - val_accuracy: 0.9472\n",
      "Epoch 21/50\n",
      "105/105 [==============================] - 11s 106ms/step - loss: 0.0773 - accuracy: 0.9807 - val_loss: 0.5670 - val_accuracy: 0.9361\n",
      "Epoch 22/50\n",
      "105/105 [==============================] - 12s 114ms/step - loss: 0.0425 - accuracy: 0.9917 - val_loss: 0.9288 - val_accuracy: 0.9111\n",
      "Epoch 23/50\n",
      "105/105 [==============================] - 11s 105ms/step - loss: 0.0725 - accuracy: 0.9839 - val_loss: 0.6452 - val_accuracy: 0.9306\n",
      "Epoch 24/50\n",
      "105/105 [==============================] - 10s 92ms/step - loss: 0.0522 - accuracy: 0.9943 - val_loss: 0.3956 - val_accuracy: 0.9347\n",
      "Epoch 25/50\n",
      "105/105 [==============================] - 10s 92ms/step - loss: 0.0541 - accuracy: 0.9863 - val_loss: 0.8062 - val_accuracy: 0.9319\n",
      "Epoch 26/50\n",
      "105/105 [==============================] - 10s 91ms/step - loss: 0.0536 - accuracy: 0.9902 - val_loss: 0.7943 - val_accuracy: 0.9333\n",
      "Epoch 27/50\n",
      "105/105 [==============================] - 10s 91ms/step - loss: 0.0791 - accuracy: 0.9824 - val_loss: 0.7746 - val_accuracy: 0.9222\n",
      "Epoch 28/50\n",
      "105/105 [==============================] - 10s 93ms/step - loss: 0.0554 - accuracy: 0.9884 - val_loss: 1.2640 - val_accuracy: 0.8972\n"
     ]
    }
   ],
   "source": [
    "history = all_trainable_model.fit(\n",
    "  train.cache(),\n",
    "  epochs=50,\n",
    "  callbacks=callbacks_list,\n",
    "  validation_data=val.cache()\n",
    ")"
   ]
  },
  {
   "cell_type": "code",
   "execution_count": 13,
   "metadata": {},
   "outputs": [
    {
     "name": "stdout",
     "output_type": "stream",
     "text": [
      " 1/23 [>.............................] - ETA: 4s - loss: 0.0149 - accuracy: 1.0000"
     ]
    },
    {
     "name": "stderr",
     "output_type": "stream",
     "text": [
      "2022-08-07 17:29:35.295446: I tensorflow/core/grappler/optimizers/custom_graph_optimizer_registry.cc:112] Plugin optimizer for device_type GPU is enabled.\n"
     ]
    },
    {
     "name": "stdout",
     "output_type": "stream",
     "text": [
      "23/23 [==============================] - 1s 32ms/step - loss: 0.2995 - accuracy: 0.9500\n"
     ]
    },
    {
     "data": {
      "text/plain": [
       "[0.2994932532310486, 0.9500000476837158]"
      ]
     },
     "execution_count": 13,
     "metadata": {},
     "output_type": "execute_result"
    }
   ],
   "source": [
    "trainable_model = keras.models.load_model(\"../../models/transfer/transfer_big_trainFull.h5\")\n",
    "trainable_model.evaluate(test)"
   ]
  },
  {
   "cell_type": "code",
   "execution_count": 14,
   "metadata": {},
   "outputs": [
    {
     "data": {
      "text/plain": [
       "<module 'matplotlib.pyplot' from '/opt/homebrew/Caskroom/miniforge/base/lib/python3.9/site-packages/matplotlib/pyplot.py'>"
      ]
     },
     "execution_count": 14,
     "metadata": {},
     "output_type": "execute_result"
    },
    {
     "data": {
      "image/png": "[encoded data removed]",
      "text/plain": [
       "<Figure size 432x288 with 1 Axes>"
      ]
     },
     "metadata": {
      "needs_background": "light"
     },
     "output_type": "display_data"
    }
   ],
   "source": [
    "# Plotting loss and accuracy graphs\n",
    "## Plotting loss\n",
    "plot_loss(history)\n"
   ]
  },
  {
   "cell_type": "code",
   "execution_count": 15,
   "metadata": {},
   "outputs": [
    {
     "data": {
      "text/plain": [
       "<module 'matplotlib.pyplot' from '/opt/homebrew/Caskroom/miniforge/base/lib/python3.9/site-packages/matplotlib/pyplot.py'>"
      ]
     },
     "execution_count": 15,
     "metadata": {},
     "output_type": "execute_result"
    },
    {
     "data": {
      "image/png": "[encoded data removed]",
      "text/plain": [
       "<Figure size 432x288 with 1 Axes>"
      ]
     },
     "metadata": {
      "needs_background": "light"
     },
     "output_type": "display_data"
    }
   ],
   "source": [
    "## Plotting accuracy\n",
    "plot_acc(history)"
   ]
  }
 ],
 "metadata": {
  "kernelspec": {
   "display_name": "Python 3.9.7 ('base')",
   "language": "python",
   "name": "python3"
  },
  "language_info": {
   "codemirror_mode": {
    "name": "ipython",
    "version": 3
   },
   "file_extension": ".py",
   "mimetype": "text/x-python",
   "name": "python",
   "nbconvert_exporter": "python",
   "pygments_lexer": "ipython3",
   "version": "3.9.7"
  },
  "orig_nbformat": 4,
  "vscode": {
   "interpreter": {
    "hash": "c6e4e9f98eb68ad3b7c296f83d20e6de614cb42e90992a65aa266555a3137d0d"
   }
  }
 },
 "nbformat": 4,
 "nbformat_minor": 2
}
