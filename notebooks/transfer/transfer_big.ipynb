{
 "cells": [
  {
   "cell_type": "markdown",
   "metadata": {},
   "source": [
    "# Importing the libraries"
   ]
  },
  {
   "cell_type": "code",
   "execution_count": 1,
   "metadata": {},
   "outputs": [],
   "source": [
    "import tensorflow as tf\n",
    "from tensorflow.keras import layers, utils\n",
    "from tensorflow import keras"
   ]
  },
  {
   "cell_type": "markdown",
   "metadata": {},
   "source": [
    "# Set image size, batch size, and import dataset"
   ]
  },
  {
   "cell_type": "code",
   "execution_count": 2,
   "metadata": {},
   "outputs": [
    {
     "name": "stdout",
     "output_type": "stream",
     "text": [
      "Found 3360 files belonging to 6 classes.\n",
      "Metal device set to: Apple M1\n",
      "\n",
      "systemMemory: 16.00 GB\n",
      "maxCacheSize: 5.33 GB\n",
      "\n",
      "Found 720 files belonging to 6 classes.\n",
      "Found 720 files belonging to 6 classes.\n"
     ]
    },
    {
     "name": "stderr",
     "output_type": "stream",
     "text": [
      "2022-08-03 15:55:31.145370: I tensorflow/core/common_runtime/pluggable_device/pluggable_device_factory.cc:305] Could not identify NUMA node of platform GPU ID 0, defaulting to 0. Your kernel may not have been built with NUMA support.\n",
      "2022-08-03 15:55:31.145512: I tensorflow/core/common_runtime/pluggable_device/pluggable_device_factory.cc:271] Created TensorFlow device (/job:localhost/replica:0/task:0/device:GPU:0 with 0 MB memory) -> physical PluggableDevice (device: 0, name: METAL, pci bus id: <undefined>)\n"
     ]
    }
   ],
   "source": [
    "IMAGE_SIZE = 100\n",
    "BATCH_SIZE = 32\n",
    "\n",
    "train = utils.image_dataset_from_directory(\"../../datasets/data/split/Zenodo/train/\", image_size=(IMAGE_SIZE, IMAGE_SIZE), batch_size=BATCH_SIZE)\n",
    "val = utils.image_dataset_from_directory(\"../../datasets/data/split/Zenodo/val\", image_size=(IMAGE_SIZE, IMAGE_SIZE), batch_size=BATCH_SIZE)\n",
    "test = utils.image_dataset_from_directory(\"../../datasets/data/split/Zenodo/test\", image_size=(IMAGE_SIZE, IMAGE_SIZE), batch_size=BATCH_SIZE)"
   ]
  },
  {
   "cell_type": "markdown",
   "metadata": {},
   "source": [
    "# Train from the 4th conv2d layer"
   ]
  },
  {
   "cell_type": "code",
   "execution_count": 3,
   "metadata": {},
   "outputs": [
    {
     "name": "stdout",
     "output_type": "stream",
     "text": [
      "Model: \"model\"\n",
      "_________________________________________________________________\n",
      " Layer (type)                Output Shape              Param #   \n",
      "=================================================================\n",
      " input_1 (InputLayer)        [(None, 100, 100, 3)]     0         \n",
      "                                                                 \n",
      " rescaling (Rescaling)       (None, 100, 100, 3)       0         \n",
      "                                                                 \n",
      " conv2d (Conv2D)             (None, 98, 98, 32)        896       \n",
      "                                                                 \n",
      " conv2d_1 (Conv2D)           (None, 96, 96, 32)        9248      \n",
      "                                                                 \n",
      " conv2d_2 (Conv2D)           (None, 94, 94, 32)        9248      \n",
      "                                                                 \n",
      " max_pooling2d (MaxPooling2D  (None, 47, 47, 32)       0         \n",
      " )                                                               \n",
      "                                                                 \n",
      " conv2d_3 (Conv2D)           (None, 45, 45, 64)        18496     \n",
      "                                                                 \n",
      " conv2d_4 (Conv2D)           (None, 43, 43, 64)        36928     \n",
      "                                                                 \n",
      " max_pooling2d_1 (MaxPooling  (None, 21, 21, 64)       0         \n",
      " 2D)                                                             \n",
      "                                                                 \n",
      " conv2d_5 (Conv2D)           (None, 19, 19, 128)       73856     \n",
      "                                                                 \n",
      " conv2d_6 (Conv2D)           (None, 17, 17, 128)       147584    \n",
      "                                                                 \n",
      " max_pooling2d_2 (MaxPooling  (None, 8, 8, 128)        0         \n",
      " 2D)                                                             \n",
      "                                                                 \n",
      " conv2d_7 (Conv2D)           (None, 6, 6, 256)         295168    \n",
      "                                                                 \n",
      " conv2d_8 (Conv2D)           (None, 4, 4, 256)         590080    \n",
      "                                                                 \n",
      " global_average_pooling2d (G  (None, 256)              0         \n",
      " lobalAveragePooling2D)                                          \n",
      "                                                                 \n",
      " dense (Dense)               (None, 256)               65792     \n",
      "                                                                 \n",
      " dropout (Dropout)           (None, 256)               0         \n",
      "                                                                 \n",
      " classifier (Dense)          (None, 6)                 1542      \n",
      "                                                                 \n",
      "=================================================================\n",
      "Total params: 1,248,838\n",
      "Trainable params: 1,229,446\n",
      "Non-trainable params: 19,392\n",
      "_________________________________________________________________\n"
     ]
    }
   ],
   "source": [
    "vtid = keras.models.load_model('../../models/vtid2/m1_big.h5')\n",
    "vtid.trainable = False\n",
    "\n",
    "for layer in vtid.layers[6:]:\n",
    "  layer.trainable = True\n",
    "\n",
    "x = vtid.layers[-2].output\n",
    "outputs = layers.Dense(6, activation='softmax', name='classifier')(x)\n",
    "model = keras.Model(vtid.inputs, outputs)\n",
    "model.compile(optimizer='rmsprop', loss='sparse_categorical_crossentropy', metrics=['accuracy'])\n",
    "\n",
    "model.summary()"
   ]
  },
  {
   "cell_type": "code",
   "execution_count": 4,
   "metadata": {},
   "outputs": [],
   "source": [
    "\n",
    "callbacks_list = [\n",
    "    keras.callbacks.EarlyStopping(\n",
    "        monitor=\"val_accuracy\",\n",
    "        patience=8\n",
    "    ),\n",
    "    keras.callbacks.ModelCheckpoint(\n",
    "        filepath=\"../../models/transfer/transfer_big_trainHalf.h5\",\n",
    "        monitor=\"val_accuracy\",\n",
    "        save_best_only=True\n",
    "    )\n",
    "]\n"
   ]
  },
  {
   "cell_type": "code",
   "execution_count": 5,
   "metadata": {},
   "outputs": [
    {
     "name": "stdout",
     "output_type": "stream",
     "text": [
      "Epoch 1/50\n"
     ]
    },
    {
     "name": "stderr",
     "output_type": "stream",
     "text": [
      "2022-08-03 15:55:31.850029: W tensorflow/core/platform/profile_utils/cpu_utils.cc:128] Failed to get CPU frequency: 0 Hz\n",
      "2022-08-03 15:55:31.850133: I tensorflow/core/grappler/optimizers/custom_graph_optimizer_registry.cc:112] Plugin optimizer for device_type GPU is enabled.\n"
     ]
    },
    {
     "name": "stdout",
     "output_type": "stream",
     "text": [
      "105/105 [==============================] - ETA: 0s - loss: 1.1043 - accuracy: 0.5946"
     ]
    },
    {
     "name": "stderr",
     "output_type": "stream",
     "text": [
      "2022-08-03 15:55:38.928583: I tensorflow/core/grappler/optimizers/custom_graph_optimizer_registry.cc:112] Plugin optimizer for device_type GPU is enabled.\n"
     ]
    },
    {
     "name": "stdout",
     "output_type": "stream",
     "text": [
      "105/105 [==============================] - 8s 71ms/step - loss: 1.1043 - accuracy: 0.5946 - val_loss: 0.5841 - val_accuracy: 0.7806\n",
      "Epoch 2/50\n",
      "105/105 [==============================] - 7s 64ms/step - loss: 0.5562 - accuracy: 0.8027 - val_loss: 0.4694 - val_accuracy: 0.8500\n",
      "Epoch 3/50\n",
      "105/105 [==============================] - 7s 62ms/step - loss: 0.3364 - accuracy: 0.8863 - val_loss: 0.3907 - val_accuracy: 0.8639\n",
      "Epoch 4/50\n",
      "105/105 [==============================] - 7s 65ms/step - loss: 0.2114 - accuracy: 0.9307 - val_loss: 0.5807 - val_accuracy: 0.8639\n",
      "Epoch 5/50\n",
      "105/105 [==============================] - 7s 66ms/step - loss: 0.1730 - accuracy: 0.9423 - val_loss: 0.3869 - val_accuracy: 0.9014\n",
      "Epoch 6/50\n",
      "105/105 [==============================] - 7s 65ms/step - loss: 0.1276 - accuracy: 0.9563 - val_loss: 0.3478 - val_accuracy: 0.8986\n",
      "Epoch 7/50\n",
      "105/105 [==============================] - 7s 64ms/step - loss: 0.1093 - accuracy: 0.9649 - val_loss: 0.4980 - val_accuracy: 0.8750\n",
      "Epoch 8/50\n",
      "105/105 [==============================] - 6s 61ms/step - loss: 0.1099 - accuracy: 0.9708 - val_loss: 0.3845 - val_accuracy: 0.8903\n",
      "Epoch 9/50\n",
      "105/105 [==============================] - 6s 61ms/step - loss: 0.0804 - accuracy: 0.9762 - val_loss: 0.4737 - val_accuracy: 0.8875\n",
      "Epoch 10/50\n",
      "105/105 [==============================] - 6s 60ms/step - loss: 0.0988 - accuracy: 0.9747 - val_loss: 0.3861 - val_accuracy: 0.9194\n",
      "Epoch 11/50\n",
      "105/105 [==============================] - 6s 60ms/step - loss: 0.0561 - accuracy: 0.9815 - val_loss: 0.6923 - val_accuracy: 0.8806\n",
      "Epoch 12/50\n",
      "105/105 [==============================] - 6s 61ms/step - loss: 0.0741 - accuracy: 0.9792 - val_loss: 0.3542 - val_accuracy: 0.9278\n",
      "Epoch 13/50\n",
      "105/105 [==============================] - 6s 60ms/step - loss: 0.0654 - accuracy: 0.9807 - val_loss: 0.4882 - val_accuracy: 0.9111\n",
      "Epoch 14/50\n",
      "105/105 [==============================] - 7s 64ms/step - loss: 0.0811 - accuracy: 0.9836 - val_loss: 0.3759 - val_accuracy: 0.9083\n",
      "Epoch 15/50\n",
      "105/105 [==============================] - 7s 63ms/step - loss: 0.0491 - accuracy: 0.9878 - val_loss: 0.7613 - val_accuracy: 0.8681\n",
      "Epoch 16/50\n",
      "105/105 [==============================] - 7s 63ms/step - loss: 0.0552 - accuracy: 0.9857 - val_loss: 0.9032 - val_accuracy: 0.8792\n",
      "Epoch 17/50\n",
      "105/105 [==============================] - 7s 63ms/step - loss: 0.0616 - accuracy: 0.9881 - val_loss: 0.3481 - val_accuracy: 0.9278\n",
      "Epoch 18/50\n",
      "105/105 [==============================] - 7s 63ms/step - loss: 0.0644 - accuracy: 0.9863 - val_loss: 0.8919 - val_accuracy: 0.8931\n",
      "Epoch 19/50\n",
      "105/105 [==============================] - 7s 63ms/step - loss: 0.0558 - accuracy: 0.9890 - val_loss: 0.6581 - val_accuracy: 0.9153\n",
      "Epoch 20/50\n",
      "105/105 [==============================] - 7s 63ms/step - loss: 0.0385 - accuracy: 0.9932 - val_loss: 1.0959 - val_accuracy: 0.8833\n"
     ]
    }
   ],
   "source": [
    "history = model.fit(\n",
    "  train.cache(),\n",
    "  epochs=50,\n",
    "  callbacks=callbacks_list,\n",
    "  validation_data=val.cache()\n",
    ")"
   ]
  },
  {
   "cell_type": "code",
   "execution_count": 6,
   "metadata": {},
   "outputs": [
    {
     "name": "stdout",
     "output_type": "stream",
     "text": [
      " 3/23 [==>...........................] - ETA: 0s - loss: 0.3585 - accuracy: 0.9062"
     ]
    },
    {
     "name": "stderr",
     "output_type": "stream",
     "text": [
      "2022-08-03 15:57:45.135908: I tensorflow/core/grappler/optimizers/custom_graph_optimizer_registry.cc:112] Plugin optimizer for device_type GPU is enabled.\n"
     ]
    },
    {
     "name": "stdout",
     "output_type": "stream",
     "text": [
      "23/23 [==============================] - 1s 32ms/step - loss: 0.3892 - accuracy: 0.9181\n"
     ]
    },
    {
     "data": {
      "text/plain": [
       "[0.3892287313938141, 0.9180555939674377]"
      ]
     },
     "execution_count": 6,
     "metadata": {},
     "output_type": "execute_result"
    }
   ],
   "source": [
    "model = keras.models.load_model(\"../../models/transfer/transfer_big_trainHalf.h5\")\n",
    "model.evaluate(test)"
   ]
  },
  {
   "cell_type": "markdown",
   "metadata": {},
   "source": [
    "# compare with untrained"
   ]
  },
  {
   "cell_type": "code",
   "execution_count": 7,
   "metadata": {},
   "outputs": [
    {
     "name": "stdout",
     "output_type": "stream",
     "text": [
      " 3/23 [==>...........................] - ETA: 0s - loss: 0.0613 - accuracy: 0.9688"
     ]
    },
    {
     "name": "stderr",
     "output_type": "stream",
     "text": [
      "2022-08-03 15:57:46.191352: I tensorflow/core/grappler/optimizers/custom_graph_optimizer_registry.cc:112] Plugin optimizer for device_type GPU is enabled.\n"
     ]
    },
    {
     "name": "stdout",
     "output_type": "stream",
     "text": [
      "23/23 [==============================] - 1s 31ms/step - loss: 0.3322 - accuracy: 0.9597\n"
     ]
    },
    {
     "data": {
      "text/plain": [
       "[0.33215728402137756, 0.9597222208976746]"
      ]
     },
     "execution_count": 7,
     "metadata": {},
     "output_type": "execute_result"
    }
   ],
   "source": [
    "untrained_model = keras.models.load_model(\"../../models/zenodo/m1_big.h5\")\n",
    "untrained_model.evaluate(test)"
   ]
  },
  {
   "cell_type": "markdown",
   "metadata": {},
   "source": [
    "# All Trainable Layers Transfer Learning - start from nonrandom weights"
   ]
  },
  {
   "cell_type": "code",
   "execution_count": 8,
   "metadata": {},
   "outputs": [
    {
     "name": "stdout",
     "output_type": "stream",
     "text": [
      "Model: \"model_1\"\n",
      "_________________________________________________________________\n",
      " Layer (type)                Output Shape              Param #   \n",
      "=================================================================\n",
      " input_1 (InputLayer)        [(None, 100, 100, 3)]     0         \n",
      "                                                                 \n",
      " rescaling (Rescaling)       (None, 100, 100, 3)       0         \n",
      "                                                                 \n",
      " conv2d (Conv2D)             (None, 98, 98, 32)        896       \n",
      "                                                                 \n",
      " conv2d_1 (Conv2D)           (None, 96, 96, 32)        9248      \n",
      "                                                                 \n",
      " conv2d_2 (Conv2D)           (None, 94, 94, 32)        9248      \n",
      "                                                                 \n",
      " max_pooling2d (MaxPooling2D  (None, 47, 47, 32)       0         \n",
      " )                                                               \n",
      "                                                                 \n",
      " conv2d_3 (Conv2D)           (None, 45, 45, 64)        18496     \n",
      "                                                                 \n",
      " conv2d_4 (Conv2D)           (None, 43, 43, 64)        36928     \n",
      "                                                                 \n",
      " max_pooling2d_1 (MaxPooling  (None, 21, 21, 64)       0         \n",
      " 2D)                                                             \n",
      "                                                                 \n",
      " conv2d_5 (Conv2D)           (None, 19, 19, 128)       73856     \n",
      "                                                                 \n",
      " conv2d_6 (Conv2D)           (None, 17, 17, 128)       147584    \n",
      "                                                                 \n",
      " max_pooling2d_2 (MaxPooling  (None, 8, 8, 128)        0         \n",
      " 2D)                                                             \n",
      "                                                                 \n",
      " conv2d_7 (Conv2D)           (None, 6, 6, 256)         295168    \n",
      "                                                                 \n",
      " conv2d_8 (Conv2D)           (None, 4, 4, 256)         590080    \n",
      "                                                                 \n",
      " global_average_pooling2d (G  (None, 256)              0         \n",
      " lobalAveragePooling2D)                                          \n",
      "                                                                 \n",
      " dense (Dense)               (None, 256)               65792     \n",
      "                                                                 \n",
      " dropout (Dropout)           (None, 256)               0         \n",
      "                                                                 \n",
      " classifier (Dense)          (None, 6)                 1542      \n",
      "                                                                 \n",
      "=================================================================\n",
      "Total params: 1,248,838\n",
      "Trainable params: 1,248,838\n",
      "Non-trainable params: 0\n",
      "_________________________________________________________________\n"
     ]
    }
   ],
   "source": [
    "vtid2_allTrainable = keras.models.load_model('../../models/vtid2/m1_big.h5')\n",
    "\n",
    "x = vtid2_allTrainable.layers[-2].output\n",
    "outputs = keras.layers.Dense(6, activation='softmax', name='classifier')(x)\n",
    "all_trainable_model = keras.Model(vtid2_allTrainable.inputs, outputs)\n",
    "all_trainable_model.compile(optimizer='rmsprop', loss='sparse_categorical_crossentropy', metrics=['accuracy'])\n",
    "all_trainable_model.summary()"
   ]
  },
  {
   "cell_type": "code",
   "execution_count": 9,
   "metadata": {},
   "outputs": [],
   "source": [
    "callbacks_list = [\n",
    "    keras.callbacks.EarlyStopping(\n",
    "        monitor=\"val_accuracy\",\n",
    "        patience=8\n",
    "    ),\n",
    "    keras.callbacks.ModelCheckpoint(\n",
    "        filepath=\"../../models/transfer/transfer_big_trainFull.h5\",\n",
    "        monitor=\"val_accuracy\",\n",
    "        save_best_only=True\n",
    "    )\n",
    "]"
   ]
  },
  {
   "cell_type": "code",
   "execution_count": 10,
   "metadata": {},
   "outputs": [
    {
     "name": "stdout",
     "output_type": "stream",
     "text": [
      "Epoch 1/50\n"
     ]
    },
    {
     "name": "stderr",
     "output_type": "stream",
     "text": [
      "2022-08-03 15:57:47.641399: I tensorflow/core/grappler/optimizers/custom_graph_optimizer_registry.cc:112] Plugin optimizer for device_type GPU is enabled.\n"
     ]
    },
    {
     "name": "stdout",
     "output_type": "stream",
     "text": [
      "105/105 [==============================] - ETA: 0s - loss: 1.1525 - accuracy: 0.5670"
     ]
    },
    {
     "name": "stderr",
     "output_type": "stream",
     "text": [
      "2022-08-03 15:57:57.394141: I tensorflow/core/grappler/optimizers/custom_graph_optimizer_registry.cc:112] Plugin optimizer for device_type GPU is enabled.\n"
     ]
    },
    {
     "name": "stdout",
     "output_type": "stream",
     "text": [
      "105/105 [==============================] - 11s 95ms/step - loss: 1.1525 - accuracy: 0.5670 - val_loss: 0.6888 - val_accuracy: 0.7417\n",
      "Epoch 2/50\n",
      "105/105 [==============================] - 10s 93ms/step - loss: 0.5608 - accuracy: 0.7994 - val_loss: 0.4517 - val_accuracy: 0.8389\n",
      "Epoch 3/50\n",
      "105/105 [==============================] - 10s 94ms/step - loss: 0.3561 - accuracy: 0.8759 - val_loss: 0.3787 - val_accuracy: 0.8750\n",
      "Epoch 4/50\n",
      "105/105 [==============================] - 10s 92ms/step - loss: 0.2602 - accuracy: 0.9122 - val_loss: 0.3226 - val_accuracy: 0.9028\n",
      "Epoch 5/50\n",
      "105/105 [==============================] - 10s 93ms/step - loss: 0.2028 - accuracy: 0.9417 - val_loss: 0.4023 - val_accuracy: 0.8875\n",
      "Epoch 6/50\n",
      "105/105 [==============================] - 10s 93ms/step - loss: 0.1692 - accuracy: 0.9512 - val_loss: 0.2799 - val_accuracy: 0.9181\n",
      "Epoch 7/50\n",
      "105/105 [==============================] - 10s 94ms/step - loss: 0.1273 - accuracy: 0.9619 - val_loss: 0.3239 - val_accuracy: 0.9194\n",
      "Epoch 8/50\n",
      "105/105 [==============================] - 10s 93ms/step - loss: 0.1183 - accuracy: 0.9652 - val_loss: 0.4634 - val_accuracy: 0.9083\n",
      "Epoch 9/50\n",
      "105/105 [==============================] - 10s 94ms/step - loss: 0.0957 - accuracy: 0.9705 - val_loss: 0.4571 - val_accuracy: 0.9208\n",
      "Epoch 10/50\n",
      "105/105 [==============================] - 10s 93ms/step - loss: 0.0955 - accuracy: 0.9732 - val_loss: 0.5892 - val_accuracy: 0.8986\n",
      "Epoch 11/50\n",
      "105/105 [==============================] - 10s 94ms/step - loss: 0.1002 - accuracy: 0.9762 - val_loss: 0.3777 - val_accuracy: 0.9333\n",
      "Epoch 12/50\n",
      "105/105 [==============================] - 10s 94ms/step - loss: 0.0676 - accuracy: 0.9824 - val_loss: 0.4636 - val_accuracy: 0.9194\n",
      "Epoch 13/50\n",
      "105/105 [==============================] - 10s 94ms/step - loss: 0.0930 - accuracy: 0.9729 - val_loss: 0.3316 - val_accuracy: 0.9486\n",
      "Epoch 14/50\n",
      "105/105 [==============================] - 11s 108ms/step - loss: 0.0639 - accuracy: 0.9851 - val_loss: 0.4745 - val_accuracy: 0.9236\n",
      "Epoch 15/50\n",
      "105/105 [==============================] - 11s 101ms/step - loss: 0.0939 - accuracy: 0.9792 - val_loss: 0.3285 - val_accuracy: 0.9500\n",
      "Epoch 16/50\n",
      "105/105 [==============================] - 10s 97ms/step - loss: 0.0466 - accuracy: 0.9869 - val_loss: 0.3939 - val_accuracy: 0.9333\n",
      "Epoch 17/50\n",
      "105/105 [==============================] - 10s 99ms/step - loss: 0.0736 - accuracy: 0.9821 - val_loss: 0.4678 - val_accuracy: 0.9319\n",
      "Epoch 18/50\n",
      "105/105 [==============================] - 11s 101ms/step - loss: 0.0691 - accuracy: 0.9833 - val_loss: 0.7645 - val_accuracy: 0.9014\n",
      "Epoch 19/50\n",
      "105/105 [==============================] - 10s 100ms/step - loss: 0.0470 - accuracy: 0.9881 - val_loss: 0.7520 - val_accuracy: 0.9167\n",
      "Epoch 20/50\n",
      "105/105 [==============================] - 11s 100ms/step - loss: 0.0657 - accuracy: 0.9854 - val_loss: 0.4565 - val_accuracy: 0.9194\n",
      "Epoch 21/50\n",
      "105/105 [==============================] - 11s 101ms/step - loss: 0.0463 - accuracy: 0.9896 - val_loss: 0.7298 - val_accuracy: 0.9153\n",
      "Epoch 22/50\n",
      "105/105 [==============================] - 11s 102ms/step - loss: 0.0612 - accuracy: 0.9851 - val_loss: 0.5723 - val_accuracy: 0.9361\n",
      "Epoch 23/50\n",
      "105/105 [==============================] - 11s 104ms/step - loss: 0.0954 - accuracy: 0.9824 - val_loss: 0.4929 - val_accuracy: 0.9250\n"
     ]
    }
   ],
   "source": [
    "history = all_trainable_model.fit(\n",
    "  train.cache(),\n",
    "  epochs=50,\n",
    "  callbacks=callbacks_list,\n",
    "  validation_data=val.cache()\n",
    ")"
   ]
  },
  {
   "cell_type": "code",
   "execution_count": 11,
   "metadata": {},
   "outputs": [
    {
     "name": "stdout",
     "output_type": "stream",
     "text": [
      " 1/23 [>.............................] - ETA: 5s - loss: 0.3203 - accuracy: 0.9375"
     ]
    },
    {
     "name": "stderr",
     "output_type": "stream",
     "text": [
      "2022-08-03 16:01:42.332459: I tensorflow/core/grappler/optimizers/custom_graph_optimizer_registry.cc:112] Plugin optimizer for device_type GPU is enabled.\n"
     ]
    },
    {
     "name": "stdout",
     "output_type": "stream",
     "text": [
      "23/23 [==============================] - 1s 36ms/step - loss: 0.3340 - accuracy: 0.9403\n"
     ]
    },
    {
     "data": {
      "text/plain": [
       "[0.3339744508266449, 0.9402778148651123]"
      ]
     },
     "execution_count": 11,
     "metadata": {},
     "output_type": "execute_result"
    }
   ],
   "source": [
    "trainable_model = keras.models.load_model(\"../../models/transfer/transfer_big_trainFull.h5\")\n",
    "trainable_model.evaluate(test)"
   ]
  }
 ],
 "metadata": {
  "kernelspec": {
   "display_name": "Python 3.9.7 ('base')",
   "language": "python",
   "name": "python3"
  },
  "language_info": {
   "codemirror_mode": {
    "name": "ipython",
    "version": 3
   },
   "file_extension": ".py",
   "mimetype": "text/x-python",
   "name": "python",
   "nbconvert_exporter": "python",
   "pygments_lexer": "ipython3",
   "version": "3.9.7"
  },
  "orig_nbformat": 4,
  "vscode": {
   "interpreter": {
    "hash": "c6e4e9f98eb68ad3b7c296f83d20e6de614cb42e90992a65aa266555a3137d0d"
   }
  }
 },
 "nbformat": 4,
 "nbformat_minor": 2
}
