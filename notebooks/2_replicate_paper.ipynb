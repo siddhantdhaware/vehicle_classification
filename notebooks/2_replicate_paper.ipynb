{
 "cells": [
  {
   "cell_type": "markdown",
   "metadata": {},
   "source": [
    "# Replicating the model from a research paper\n",
    "\n",
    "----"
   ]
  },
  {
   "cell_type": "markdown",
   "metadata": {},
   "source": [
    "Link to the research paper is : [https://www.semanticscholar.org/paper/Deep-Learning-Based-Vehicle-Classification-for-Low-Tas-Sari/52b6e6a8e89e236581b8a92f38bf77845fc3b8f9](https://www.semanticscholar.org/paper/Deep-Learning-Based-Vehicle-Classification-for-Low-Tas-Sari/52b6e6a8e89e236581b8a92f38bf77845fc3b8f9)\n",
    "\n",
    "> The model proposed by the authors of the paper will be replicated below."
   ]
  },
  {
   "cell_type": "markdown",
   "metadata": {},
   "source": [
    "### Importing the libraries"
   ]
  },
  {
   "cell_type": "code",
   "execution_count": 10,
   "metadata": {},
   "outputs": [],
   "source": [
    "import tensorflow as tf\n",
    "from tensorflow.keras import layers, utils\n",
    "from tensorflow import keras\n",
    "from matplotlib import pyplot as plt\n",
    "\n",
    "import sys\n",
    "sys.path.insert(0, '../helpers/')\n",
    "from plot_graphs import plot_loss, plot_acc"
   ]
  },
  {
   "cell_type": "markdown",
   "metadata": {},
   "source": [
    "### Setting batch and image size, and importing the datasets "
   ]
  },
  {
   "cell_type": "code",
   "execution_count": 11,
   "metadata": {},
   "outputs": [
    {
     "name": "stdout",
     "output_type": "stream",
     "text": [
      "Found 3840 files belonging to 6 classes.\n",
      "Found 480 files belonging to 6 classes.\n",
      "Found 480 files belonging to 6 classes.\n"
     ]
    }
   ],
   "source": [
    "# Batch and image size\n",
    "IMAGE_SIZE = 100\n",
    "BATCH_SIZE = 32\n",
    "\n",
    "# Getting the train, validation and test data\n",
    "train = utils.image_dataset_from_directory(\"../datasets/data/split/Zenodo/train\", image_size=(IMAGE_SIZE, IMAGE_SIZE), batch_size=BATCH_SIZE)\n",
    "val = utils.image_dataset_from_directory(\"../datasets/data/split/Zenodo/val\", image_size=(IMAGE_SIZE, IMAGE_SIZE), batch_size=BATCH_SIZE)\n",
    "test = utils.image_dataset_from_directory(\"../datasets/data/split/Zenodo/test\", image_size=(IMAGE_SIZE, IMAGE_SIZE), batch_size=BATCH_SIZE)\n",
    "\n",
    "# Caching the datasets to load faster\n",
    "train = train.prefetch(buffer_size=tf.data.AUTOTUNE).cache()\n",
    "val = val.prefetch(buffer_size=tf.data.AUTOTUNE).cache()\n",
    "test = test.prefetch(buffer_size=tf.data.AUTOTUNE).cache()"
   ]
  },
  {
   "cell_type": "markdown",
   "metadata": {},
   "source": [
    "### Model that replicates the paper"
   ]
  },
  {
   "cell_type": "code",
   "execution_count": 12,
   "metadata": {},
   "outputs": [
    {
     "name": "stdout",
     "output_type": "stream",
     "text": [
      "Model: \"model_1\"\n",
      "_________________________________________________________________\n",
      " Layer (type)                Output Shape              Param #   \n",
      "=================================================================\n",
      " input_2 (InputLayer)        [(None, 100, 100, 3)]     0         \n",
      "                                                                 \n",
      " rescaling_1 (Rescaling)     (None, 100, 100, 3)       0         \n",
      "                                                                 \n",
      " conv2d_2 (Conv2D)           (None, 96, 96, 16)        1216      \n",
      "                                                                 \n",
      " max_pooling2d_4 (MaxPooling  (None, 48, 48, 16)       0         \n",
      " 2D)                                                             \n",
      "                                                                 \n",
      " conv2d_3 (Conv2D)           (None, 44, 44, 16)        6416      \n",
      "                                                                 \n",
      " max_pooling2d_5 (MaxPooling  (None, 22, 22, 16)       0         \n",
      " 2D)                                                             \n",
      "                                                                 \n",
      " max_pooling2d_6 (MaxPooling  (None, 11, 11, 16)       0         \n",
      " 2D)                                                             \n",
      "                                                                 \n",
      " max_pooling2d_7 (MaxPooling  (None, 5, 5, 16)         0         \n",
      " 2D)                                                             \n",
      "                                                                 \n",
      " flatten_1 (Flatten)         (None, 400)               0         \n",
      "                                                                 \n",
      " dense_2 (Dense)             (None, 16)                6416      \n",
      "                                                                 \n",
      " dropout_1 (Dropout)         (None, 16)                0         \n",
      "                                                                 \n",
      " dense_3 (Dense)             (None, 6)                 102       \n",
      "                                                                 \n",
      "=================================================================\n",
      "Total params: 14,150\n",
      "Trainable params: 14,150\n",
      "Non-trainable params: 0\n",
      "_________________________________________________________________\n"
     ]
    }
   ],
   "source": [
    "# Defining the model\n",
    "inputs = keras.Input(shape=(100, 100, 3))\n",
    "x = inputs\n",
    "x = layers.Rescaling(1./255)(x)\n",
    "x = layers.Conv2D(16, 5, activation='relu')(x)\n",
    "x = layers.MaxPooling2D(2)(x)\n",
    "x = layers.Conv2D(16, 5, activation='relu')(x)\n",
    "x = layers.MaxPooling2D(2)(x)\n",
    "x = layers.MaxPooling2D(2)(x)\n",
    "x = layers.MaxPooling2D(2)(x)\n",
    "\n",
    "x = layers.Flatten()(x)\n",
    "\n",
    "x = layers.Dense(16, kernel_regularizer=keras.regularizers.l2(0.008), activation='relu')(x)\n",
    "\n",
    "x = layers.Dropout(0.3)(x)\n",
    "\n",
    "outputs = layers.Dense(6, activation='softmax')(x)\n",
    "\n",
    "model = keras.Model(inputs, outputs)\n",
    "\n",
    "# Compiling the model\n",
    "model.compile(optimizer=keras.optimizers.RMSprop(0.001), loss='sparse_categorical_crossentropy', metrics=['accuracy'])\n",
    "\n",
    "# Printing the model summary\n",
    "model.summary()"
   ]
  },
  {
   "cell_type": "code",
   "execution_count": 13,
   "metadata": {},
   "outputs": [],
   "source": [
    "# Adding callback to save the best model\n",
    "callbacks_list = [\n",
    "    keras.callbacks.ModelCheckpoint(\n",
    "        filepath=\"../models/2_replicate_paper.h5\",\n",
    "        monitor=\"val_accuracy\",\n",
    "        save_best_only=True\n",
    "    )\n",
    "]"
   ]
  },
  {
   "cell_type": "code",
   "execution_count": 14,
   "metadata": {},
   "outputs": [
    {
     "name": "stdout",
     "output_type": "stream",
     "text": [
      "Epoch 1/40\n"
     ]
    },
    {
     "name": "stderr",
     "output_type": "stream",
     "text": [
      "2022-08-30 23:24:47.396604: I tensorflow/core/grappler/optimizers/custom_graph_optimizer_registry.cc:112] Plugin optimizer for device_type GPU is enabled.\n"
     ]
    },
    {
     "name": "stdout",
     "output_type": "stream",
     "text": [
      "118/120 [============================>.] - ETA: 0s - loss: 1.6360 - accuracy: 0.3716"
     ]
    },
    {
     "name": "stderr",
     "output_type": "stream",
     "text": [
      "2022-08-30 23:24:50.819667: I tensorflow/core/grappler/optimizers/custom_graph_optimizer_registry.cc:112] Plugin optimizer for device_type GPU is enabled.\n"
     ]
    },
    {
     "name": "stdout",
     "output_type": "stream",
     "text": [
      "120/120 [==============================] - 4s 27ms/step - loss: 1.6280 - accuracy: 0.3742 - val_loss: 1.1973 - val_accuracy: 0.5417\n",
      "Epoch 2/40\n",
      "120/120 [==============================] - 3s 23ms/step - loss: 1.0922 - accuracy: 0.6161 - val_loss: 0.8134 - val_accuracy: 0.7500\n",
      "Epoch 3/40\n",
      "120/120 [==============================] - 3s 23ms/step - loss: 0.8611 - accuracy: 0.7190 - val_loss: 0.6461 - val_accuracy: 0.7875\n",
      "Epoch 4/40\n",
      "120/120 [==============================] - 3s 23ms/step - loss: 0.7215 - accuracy: 0.7753 - val_loss: 0.5675 - val_accuracy: 0.8125\n",
      "Epoch 5/40\n",
      "120/120 [==============================] - 3s 23ms/step - loss: 0.6283 - accuracy: 0.8130 - val_loss: 0.5574 - val_accuracy: 0.8167\n",
      "Epoch 6/40\n",
      "120/120 [==============================] - 3s 23ms/step - loss: 0.5593 - accuracy: 0.8388 - val_loss: 0.4885 - val_accuracy: 0.8396\n",
      "Epoch 7/40\n",
      "120/120 [==============================] - 3s 23ms/step - loss: 0.5062 - accuracy: 0.8563 - val_loss: 0.4554 - val_accuracy: 0.8646\n",
      "Epoch 8/40\n",
      "120/120 [==============================] - 3s 23ms/step - loss: 0.4595 - accuracy: 0.8768 - val_loss: 0.4481 - val_accuracy: 0.8521\n",
      "Epoch 9/40\n",
      "120/120 [==============================] - 3s 23ms/step - loss: 0.4198 - accuracy: 0.8883 - val_loss: 0.4189 - val_accuracy: 0.8646\n",
      "Epoch 10/40\n",
      "120/120 [==============================] - 3s 23ms/step - loss: 0.3900 - accuracy: 0.8956 - val_loss: 0.4103 - val_accuracy: 0.8750\n",
      "Epoch 11/40\n",
      "120/120 [==============================] - 3s 23ms/step - loss: 0.3600 - accuracy: 0.9146 - val_loss: 0.4251 - val_accuracy: 0.8708\n",
      "Epoch 12/40\n",
      "120/120 [==============================] - 3s 23ms/step - loss: 0.3336 - accuracy: 0.9185 - val_loss: 0.4414 - val_accuracy: 0.8625\n",
      "Epoch 13/40\n",
      "120/120 [==============================] - 3s 23ms/step - loss: 0.3098 - accuracy: 0.9294 - val_loss: 0.4341 - val_accuracy: 0.8729\n",
      "Epoch 14/40\n",
      "120/120 [==============================] - 3s 23ms/step - loss: 0.2907 - accuracy: 0.9378 - val_loss: 0.4415 - val_accuracy: 0.8688\n",
      "Epoch 15/40\n",
      "120/120 [==============================] - 3s 23ms/step - loss: 0.2726 - accuracy: 0.9461 - val_loss: 0.4358 - val_accuracy: 0.8896\n",
      "Epoch 16/40\n",
      "120/120 [==============================] - 3s 23ms/step - loss: 0.2511 - accuracy: 0.9461 - val_loss: 0.4394 - val_accuracy: 0.8854\n",
      "Epoch 17/40\n",
      "120/120 [==============================] - 3s 23ms/step - loss: 0.2419 - accuracy: 0.9536 - val_loss: 0.4087 - val_accuracy: 0.8833\n",
      "Epoch 18/40\n",
      "120/120 [==============================] - 3s 23ms/step - loss: 0.2233 - accuracy: 0.9612 - val_loss: 0.4081 - val_accuracy: 0.9021\n",
      "Epoch 19/40\n",
      "120/120 [==============================] - 3s 23ms/step - loss: 0.2100 - accuracy: 0.9633 - val_loss: 0.4146 - val_accuracy: 0.8938\n",
      "Epoch 20/40\n",
      "120/120 [==============================] - 3s 23ms/step - loss: 0.2013 - accuracy: 0.9674 - val_loss: 0.4234 - val_accuracy: 0.8979\n",
      "Epoch 21/40\n",
      "120/120 [==============================] - 3s 23ms/step - loss: 0.1973 - accuracy: 0.9701 - val_loss: 0.4804 - val_accuracy: 0.8875\n",
      "Epoch 22/40\n",
      "120/120 [==============================] - 3s 24ms/step - loss: 0.1913 - accuracy: 0.9690 - val_loss: 0.4252 - val_accuracy: 0.9083\n",
      "Epoch 23/40\n",
      "120/120 [==============================] - 3s 23ms/step - loss: 0.1843 - accuracy: 0.9719 - val_loss: 0.4675 - val_accuracy: 0.8875\n",
      "Epoch 24/40\n",
      "120/120 [==============================] - 3s 24ms/step - loss: 0.1688 - accuracy: 0.9729 - val_loss: 0.4937 - val_accuracy: 0.9000\n",
      "Epoch 25/40\n",
      "120/120 [==============================] - 3s 24ms/step - loss: 0.1618 - accuracy: 0.9745 - val_loss: 0.4343 - val_accuracy: 0.9104\n",
      "Epoch 26/40\n",
      "120/120 [==============================] - 3s 24ms/step - loss: 0.1622 - accuracy: 0.9734 - val_loss: 0.5043 - val_accuracy: 0.9021\n",
      "Epoch 27/40\n",
      "120/120 [==============================] - 3s 24ms/step - loss: 0.1466 - accuracy: 0.9818 - val_loss: 0.5661 - val_accuracy: 0.8875\n",
      "Epoch 28/40\n",
      "120/120 [==============================] - 3s 24ms/step - loss: 0.1513 - accuracy: 0.9776 - val_loss: 0.4862 - val_accuracy: 0.9063\n",
      "Epoch 29/40\n",
      "120/120 [==============================] - 3s 24ms/step - loss: 0.1434 - accuracy: 0.9805 - val_loss: 0.5053 - val_accuracy: 0.8958\n",
      "Epoch 30/40\n",
      "120/120 [==============================] - 3s 24ms/step - loss: 0.1458 - accuracy: 0.9786 - val_loss: 0.5459 - val_accuracy: 0.8813\n",
      "Epoch 31/40\n",
      "120/120 [==============================] - 3s 24ms/step - loss: 0.1384 - accuracy: 0.9826 - val_loss: 0.5692 - val_accuracy: 0.8917\n",
      "Epoch 32/40\n",
      "120/120 [==============================] - 3s 24ms/step - loss: 0.1334 - accuracy: 0.9826 - val_loss: 0.4534 - val_accuracy: 0.9188\n",
      "Epoch 33/40\n",
      "120/120 [==============================] - 3s 24ms/step - loss: 0.1288 - accuracy: 0.9802 - val_loss: 0.5722 - val_accuracy: 0.8896\n",
      "Epoch 34/40\n",
      "120/120 [==============================] - 3s 25ms/step - loss: 0.1276 - accuracy: 0.9826 - val_loss: 0.5560 - val_accuracy: 0.8917\n",
      "Epoch 35/40\n",
      "120/120 [==============================] - 3s 25ms/step - loss: 0.1221 - accuracy: 0.9831 - val_loss: 0.5956 - val_accuracy: 0.8896\n",
      "Epoch 36/40\n",
      "120/120 [==============================] - 3s 25ms/step - loss: 0.1326 - accuracy: 0.9805 - val_loss: 0.5890 - val_accuracy: 0.9042\n",
      "Epoch 37/40\n",
      "120/120 [==============================] - 3s 25ms/step - loss: 0.1079 - accuracy: 0.9867 - val_loss: 0.5935 - val_accuracy: 0.9000\n",
      "Epoch 38/40\n",
      "120/120 [==============================] - 3s 25ms/step - loss: 0.1251 - accuracy: 0.9813 - val_loss: 0.6092 - val_accuracy: 0.8938\n",
      "Epoch 39/40\n",
      "120/120 [==============================] - 3s 25ms/step - loss: 0.1112 - accuracy: 0.9854 - val_loss: 0.6044 - val_accuracy: 0.8938\n",
      "Epoch 40/40\n",
      "120/120 [==============================] - 3s 25ms/step - loss: 0.1138 - accuracy: 0.9852 - val_loss: 0.5337 - val_accuracy: 0.9167\n"
     ]
    }
   ],
   "source": [
    "# Training the model\n",
    "history = model.fit(\n",
    "  train,\n",
    "  epochs=40,\n",
    "  callbacks=callbacks_list,\n",
    "  validation_data=val\n",
    ")"
   ]
  },
  {
   "cell_type": "markdown",
   "metadata": {},
   "source": [
    "### Plotting graphs"
   ]
  },
  {
   "cell_type": "code",
   "execution_count": 15,
   "metadata": {},
   "outputs": [
    {
     "data": {
      "image/png": "[encoded data removed]",
      "text/plain": [
       "<Figure size 432x288 with 1 Axes>"
      ]
     },
     "metadata": {
      "needs_background": "light"
     },
     "output_type": "display_data"
    },
    {
     "data": {
      "image/png": "[encoded data removed]",
      "text/plain": [
       "<Figure size 432x288 with 1 Axes>"
      ]
     },
     "metadata": {
      "needs_background": "light"
     },
     "output_type": "display_data"
    }
   ],
   "source": [
    "# Plotting the loss and accuracy\n",
    "plot_loss(history)\n",
    "plot_acc(history)"
   ]
  },
  {
   "cell_type": "markdown",
   "metadata": {},
   "source": [
    "### Evaluating the test accuracy"
   ]
  },
  {
   "cell_type": "code",
   "execution_count": 18,
   "metadata": {},
   "outputs": [
    {
     "name": "stdout",
     "output_type": "stream",
     "text": [
      "11/15 [=====================>........] - ETA: 0s - loss: 0.5988 - accuracy: 0.8693"
     ]
    },
    {
     "name": "stderr",
     "output_type": "stream",
     "text": [
      "2022-08-30 23:27:01.333386: I tensorflow/core/grappler/optimizers/custom_graph_optimizer_registry.cc:112] Plugin optimizer for device_type GPU is enabled.\n"
     ]
    },
    {
     "name": "stdout",
     "output_type": "stream",
     "text": [
      "15/15 [==============================] - 0s 11ms/step - loss: 0.5537 - accuracy: 0.8750\n"
     ]
    },
    {
     "data": {
      "text/plain": [
       "[0.5536521673202515, 0.8750000596046448]"
      ]
     },
     "execution_count": 18,
     "metadata": {},
     "output_type": "execute_result"
    }
   ],
   "source": [
    "# Evaluating the best model\n",
    "load_best_model = keras.models.load_model(\"../models/2_replicate_paper.h5\")\n",
    "load_best_model.evaluate(test)"
   ]
  },
  {
   "cell_type": "markdown",
   "metadata": {},
   "source": [
    "### Conclusion"
   ]
  },
  {
   "cell_type": "markdown",
   "metadata": {},
   "source": [
    "> While this model is defined and trained exactly as instructed by the authors of the paper mentioned, the trainable parameters and test accuracy are different from those mentioned in the paper."
   ]
  }
 ],
 "metadata": {
  "kernelspec": {
   "display_name": "Python 3.9.7 ('base')",
   "language": "python",
   "name": "python3"
  },
  "language_info": {
   "codemirror_mode": {
    "name": "ipython",
    "version": 3
   },
   "file_extension": ".py",
   "mimetype": "text/x-python",
   "name": "python",
   "nbconvert_exporter": "python",
   "pygments_lexer": "ipython3",
   "version": "3.9.7"
  },
  "orig_nbformat": 4,
  "vscode": {
   "interpreter": {
    "hash": "c6e4e9f98eb68ad3b7c296f83d20e6de614cb42e90992a65aa266555a3137d0d"
   }
  }
 },
 "nbformat": 4,
 "nbformat_minor": 2
}
