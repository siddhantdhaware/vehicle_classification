{
 "cells": [
  {
   "cell_type": "markdown",
   "metadata": {},
   "source": [
    "# Replicating the model from a research paper\n",
    "\n",
    "----"
   ]
  },
  {
   "cell_type": "markdown",
   "metadata": {},
   "source": [
    "Link to the research paper is : [https://www.semanticscholar.org/paper/Deep-Learning-Based-Vehicle-Classification-for-Low-Tas-Sari/52b6e6a8e89e236581b8a92f38bf77845fc3b8f9](https://www.semanticscholar.org/paper/Deep-Learning-Based-Vehicle-Classification-for-Low-Tas-Sari/52b6e6a8e89e236581b8a92f38bf77845fc3b8f9)\n",
    "\n",
    "> The model proposed by the authors of the paper will be replicated below."
   ]
  },
  {
   "cell_type": "markdown",
   "metadata": {},
   "source": [
    "### Importing the libraries"
   ]
  },
  {
   "cell_type": "code",
   "execution_count": 1,
   "metadata": {},
   "outputs": [],
   "source": [
    "import tensorflow as tf\n",
    "from tensorflow.keras import layers, utils\n",
    "from tensorflow import keras\n",
    "from matplotlib import pyplot as plt\n",
    "\n",
    "import sys\n",
    "sys.path.insert(0, '../helpers/')\n",
    "from plot_graphs import plot_loss, plot_acc"
   ]
  },
  {
   "cell_type": "markdown",
   "metadata": {},
   "source": [
    "### Setting batch and image size, and importing the datasets "
   ]
  },
  {
   "cell_type": "code",
   "execution_count": 3,
   "metadata": {},
   "outputs": [
    {
     "name": "stdout",
     "output_type": "stream",
     "text": [
      "Found 3840 files belonging to 6 classes.\n",
      "Found 480 files belonging to 6 classes.\n",
      "Found 480 files belonging to 6 classes.\n"
     ]
    }
   ],
   "source": [
    "# Batch and image size\n",
    "IMAGE_SIZE = 100\n",
    "BATCH_SIZE = 32\n",
    "\n",
    "# Getting the train, validation and test data\n",
    "train = utils.image_dataset_from_directory(\"../datasets/data/split/Zenodo/train\", image_size=(IMAGE_SIZE, IMAGE_SIZE), batch_size=BATCH_SIZE)\n",
    "val = utils.image_dataset_from_directory(\"../datasets/data/split/Zenodo/val\", image_size=(IMAGE_SIZE, IMAGE_SIZE), batch_size=BATCH_SIZE)\n",
    "test = utils.image_dataset_from_directory(\"../datasets/data/split/Zenodo/test\", image_size=(IMAGE_SIZE, IMAGE_SIZE), batch_size=BATCH_SIZE)\n",
    "\n",
    "# Caching the datasets to load faster\n",
    "train = train.prefetch(buffer_size=tf.data.AUTOTUNE).cache()\n",
    "val = val.prefetch(buffer_size=tf.data.AUTOTUNE).cache()\n",
    "test = test.prefetch(buffer_size=tf.data.AUTOTUNE).cache()"
   ]
  },
  {
   "cell_type": "markdown",
   "metadata": {},
   "source": [
    "### Model that replicates the paper"
   ]
  },
  {
   "cell_type": "code",
   "execution_count": 4,
   "metadata": {},
   "outputs": [
    {
     "name": "stdout",
     "output_type": "stream",
     "text": [
      "Model: \"model\"\n",
      "_________________________________________________________________\n",
      " Layer (type)                Output Shape              Param #   \n",
      "=================================================================\n",
      " input_1 (InputLayer)        [(None, 100, 100, 3)]     0         \n",
      "                                                                 \n",
      " rescaling (Rescaling)       (None, 100, 100, 3)       0         \n",
      "                                                                 \n",
      " conv2d (Conv2D)             (None, 96, 96, 16)        1216      \n",
      "                                                                 \n",
      " max_pooling2d (MaxPooling2D  (None, 48, 48, 16)       0         \n",
      " )                                                               \n",
      "                                                                 \n",
      " conv2d_1 (Conv2D)           (None, 44, 44, 16)        6416      \n",
      "                                                                 \n",
      " max_pooling2d_1 (MaxPooling  (None, 22, 22, 16)       0         \n",
      " 2D)                                                             \n",
      "                                                                 \n",
      " max_pooling2d_2 (MaxPooling  (None, 11, 11, 16)       0         \n",
      " 2D)                                                             \n",
      "                                                                 \n",
      " max_pooling2d_3 (MaxPooling  (None, 5, 5, 16)         0         \n",
      " 2D)                                                             \n",
      "                                                                 \n",
      " flatten (Flatten)           (None, 400)               0         \n",
      "                                                                 \n",
      " dense (Dense)               (None, 16)                6416      \n",
      "                                                                 \n",
      " dropout (Dropout)           (None, 16)                0         \n",
      "                                                                 \n",
      " dense_1 (Dense)             (None, 6)                 102       \n",
      "                                                                 \n",
      "=================================================================\n",
      "Total params: 14,150\n",
      "Trainable params: 14,150\n",
      "Non-trainable params: 0\n",
      "_________________________________________________________________\n"
     ]
    }
   ],
   "source": [
    "# Defining the model\n",
    "inputs = keras.Input(shape=(100, 100, 3))\n",
    "x = inputs\n",
    "x = layers.Rescaling(1./255)(x)\n",
    "x = layers.Conv2D(16, 5, activation='relu')(x)\n",
    "x = layers.MaxPooling2D(2, strides=(2,2))(x)\n",
    "x = layers.Conv2D(16, 5, activation='relu')(x)\n",
    "x = layers.MaxPooling2D(2, strides=(2,2))(x)\n",
    "x = layers.MaxPooling2D(2, strides=(2,2))(x)\n",
    "x = layers.MaxPooling2D(2, strides=(2,2))(x)\n",
    "\n",
    "x = layers.Flatten()(x)\n",
    "\n",
    "x = layers.Dense(16, kernel_regularizer=keras.regularizers.l2(0.008), activation='relu')(x)\n",
    "\n",
    "x = layers.Dropout(0.3)(x)\n",
    "\n",
    "outputs = layers.Dense(6, activation='softmax')(x)\n",
    "\n",
    "model = keras.Model(inputs, outputs)\n",
    "\n",
    "# Compiling the model\n",
    "model.compile(optimizer=keras.optimizers.RMSprop(0.001), loss='sparse_categorical_crossentropy', metrics=['accuracy'])\n",
    "\n",
    "# Printing the model summary\n",
    "model.summary()"
   ]
  },
  {
   "cell_type": "code",
   "execution_count": 5,
   "metadata": {},
   "outputs": [],
   "source": [
    "# Adding callback to save the best model\n",
    "callbacks_list = [\n",
    "    keras.callbacks.ModelCheckpoint(\n",
    "        filepath=\"../models/2_replicate_paper.h5\",\n",
    "        monitor=\"val_accuracy\",\n",
    "        save_best_only=True\n",
    "    )\n",
    "]"
   ]
  },
  {
   "cell_type": "code",
   "execution_count": 6,
   "metadata": {},
   "outputs": [
    {
     "name": "stdout",
     "output_type": "stream",
     "text": [
      "Epoch 1/40\n"
     ]
    },
    {
     "name": "stderr",
     "output_type": "stream",
     "text": [
      "2022-09-01 07:00:46.737948: W tensorflow/core/platform/profile_utils/cpu_utils.cc:128] Failed to get CPU frequency: 0 Hz\n",
      "2022-09-01 07:00:46.738474: I tensorflow/core/grappler/optimizers/custom_graph_optimizer_registry.cc:112] Plugin optimizer for device_type GPU is enabled.\n"
     ]
    },
    {
     "name": "stdout",
     "output_type": "stream",
     "text": [
      "118/120 [============================>.] - ETA: 0s - loss: 1.6971 - accuracy: 0.3453"
     ]
    },
    {
     "name": "stderr",
     "output_type": "stream",
     "text": [
      "2022-09-01 07:00:51.259910: I tensorflow/core/grappler/optimizers/custom_graph_optimizer_registry.cc:112] Plugin optimizer for device_type GPU is enabled.\n"
     ]
    },
    {
     "name": "stdout",
     "output_type": "stream",
     "text": [
      "120/120 [==============================] - 5s 30ms/step - loss: 1.6905 - accuracy: 0.3487 - val_loss: 1.1219 - val_accuracy: 0.6583\n",
      "Epoch 2/40\n",
      "120/120 [==============================] - 3s 23ms/step - loss: 1.1278 - accuracy: 0.5982 - val_loss: 0.8177 - val_accuracy: 0.7417\n",
      "Epoch 3/40\n",
      "120/120 [==============================] - 3s 22ms/step - loss: 0.9465 - accuracy: 0.6682 - val_loss: 0.6715 - val_accuracy: 0.7771\n",
      "Epoch 4/40\n",
      "120/120 [==============================] - 3s 22ms/step - loss: 0.8311 - accuracy: 0.7141 - val_loss: 0.5924 - val_accuracy: 0.8000\n",
      "Epoch 5/40\n",
      "120/120 [==============================] - 3s 22ms/step - loss: 0.7487 - accuracy: 0.7411 - val_loss: 0.5459 - val_accuracy: 0.8125\n",
      "Epoch 6/40\n",
      "120/120 [==============================] - 3s 22ms/step - loss: 0.6934 - accuracy: 0.7685 - val_loss: 0.5338 - val_accuracy: 0.8104\n",
      "Epoch 7/40\n",
      "120/120 [==============================] - 3s 22ms/step - loss: 0.6435 - accuracy: 0.7857 - val_loss: 0.5137 - val_accuracy: 0.8083\n",
      "Epoch 8/40\n",
      "120/120 [==============================] - 3s 23ms/step - loss: 0.5957 - accuracy: 0.8052 - val_loss: 0.4875 - val_accuracy: 0.8292\n",
      "Epoch 9/40\n",
      "120/120 [==============================] - 3s 22ms/step - loss: 0.5573 - accuracy: 0.8201 - val_loss: 0.4667 - val_accuracy: 0.8271\n",
      "Epoch 10/40\n",
      "120/120 [==============================] - 3s 22ms/step - loss: 0.5254 - accuracy: 0.8359 - val_loss: 0.4547 - val_accuracy: 0.8375\n",
      "Epoch 11/40\n",
      "120/120 [==============================] - 3s 22ms/step - loss: 0.4990 - accuracy: 0.8445 - val_loss: 0.4511 - val_accuracy: 0.8458\n",
      "Epoch 12/40\n",
      "120/120 [==============================] - 3s 22ms/step - loss: 0.4705 - accuracy: 0.8589 - val_loss: 0.4446 - val_accuracy: 0.8583\n",
      "Epoch 13/40\n",
      "120/120 [==============================] - 3s 23ms/step - loss: 0.4509 - accuracy: 0.8656 - val_loss: 0.4280 - val_accuracy: 0.8646\n",
      "Epoch 14/40\n",
      "120/120 [==============================] - 3s 23ms/step - loss: 0.4335 - accuracy: 0.8742 - val_loss: 0.4305 - val_accuracy: 0.8646\n",
      "Epoch 15/40\n",
      "120/120 [==============================] - 3s 23ms/step - loss: 0.4109 - accuracy: 0.8815 - val_loss: 0.4258 - val_accuracy: 0.8583\n",
      "Epoch 16/40\n",
      "120/120 [==============================] - 3s 23ms/step - loss: 0.3899 - accuracy: 0.8872 - val_loss: 0.4402 - val_accuracy: 0.8708\n",
      "Epoch 17/40\n",
      "120/120 [==============================] - 3s 23ms/step - loss: 0.3797 - accuracy: 0.8930 - val_loss: 0.4286 - val_accuracy: 0.8646\n",
      "Epoch 18/40\n",
      "120/120 [==============================] - 3s 24ms/step - loss: 0.3632 - accuracy: 0.8953 - val_loss: 0.4557 - val_accuracy: 0.8771\n",
      "Epoch 19/40\n",
      "120/120 [==============================] - 3s 24ms/step - loss: 0.3498 - accuracy: 0.9068 - val_loss: 0.4493 - val_accuracy: 0.8729\n",
      "Epoch 20/40\n",
      "120/120 [==============================] - 3s 24ms/step - loss: 0.3334 - accuracy: 0.9122 - val_loss: 0.4283 - val_accuracy: 0.8729\n",
      "Epoch 21/40\n",
      "120/120 [==============================] - 3s 24ms/step - loss: 0.3168 - accuracy: 0.9148 - val_loss: 0.4429 - val_accuracy: 0.8813\n",
      "Epoch 22/40\n",
      "120/120 [==============================] - 3s 23ms/step - loss: 0.3060 - accuracy: 0.9219 - val_loss: 0.4634 - val_accuracy: 0.8771\n",
      "Epoch 23/40\n",
      "120/120 [==============================] - 3s 28ms/step - loss: 0.2996 - accuracy: 0.9221 - val_loss: 0.4337 - val_accuracy: 0.8833\n",
      "Epoch 24/40\n",
      "120/120 [==============================] - 3s 26ms/step - loss: 0.2823 - accuracy: 0.9286 - val_loss: 0.4678 - val_accuracy: 0.8708\n",
      "Epoch 25/40\n",
      "120/120 [==============================] - 3s 25ms/step - loss: 0.2736 - accuracy: 0.9305 - val_loss: 0.4667 - val_accuracy: 0.8771\n",
      "Epoch 26/40\n",
      "120/120 [==============================] - 3s 25ms/step - loss: 0.2608 - accuracy: 0.9349 - val_loss: 0.4690 - val_accuracy: 0.8792\n",
      "Epoch 27/40\n",
      "120/120 [==============================] - 3s 25ms/step - loss: 0.2580 - accuracy: 0.9409 - val_loss: 0.4773 - val_accuracy: 0.8750\n",
      "Epoch 28/40\n",
      "120/120 [==============================] - 3s 26ms/step - loss: 0.2485 - accuracy: 0.9411 - val_loss: 0.4636 - val_accuracy: 0.8813\n",
      "Epoch 29/40\n",
      "120/120 [==============================] - 3s 25ms/step - loss: 0.2443 - accuracy: 0.9419 - val_loss: 0.5006 - val_accuracy: 0.8771\n",
      "Epoch 30/40\n",
      "120/120 [==============================] - 3s 27ms/step - loss: 0.2309 - accuracy: 0.9474 - val_loss: 0.5146 - val_accuracy: 0.8771\n",
      "Epoch 31/40\n",
      "120/120 [==============================] - 3s 26ms/step - loss: 0.2261 - accuracy: 0.9531 - val_loss: 0.5072 - val_accuracy: 0.8604\n",
      "Epoch 32/40\n",
      "120/120 [==============================] - 3s 27ms/step - loss: 0.2250 - accuracy: 0.9495 - val_loss: 0.6006 - val_accuracy: 0.8667\n",
      "Epoch 33/40\n",
      "120/120 [==============================] - 3s 27ms/step - loss: 0.2136 - accuracy: 0.9536 - val_loss: 0.5492 - val_accuracy: 0.8667\n",
      "Epoch 34/40\n",
      "120/120 [==============================] - 3s 27ms/step - loss: 0.2121 - accuracy: 0.9531 - val_loss: 0.5395 - val_accuracy: 0.8750\n",
      "Epoch 35/40\n",
      "120/120 [==============================] - 3s 26ms/step - loss: 0.1989 - accuracy: 0.9586 - val_loss: 0.5709 - val_accuracy: 0.8646\n",
      "Epoch 36/40\n",
      "120/120 [==============================] - 3s 26ms/step - loss: 0.1927 - accuracy: 0.9607 - val_loss: 0.6670 - val_accuracy: 0.8604\n",
      "Epoch 37/40\n",
      "120/120 [==============================] - 3s 26ms/step - loss: 0.1989 - accuracy: 0.9560 - val_loss: 0.7065 - val_accuracy: 0.8542\n",
      "Epoch 38/40\n",
      "120/120 [==============================] - 3s 27ms/step - loss: 0.2012 - accuracy: 0.9563 - val_loss: 0.6890 - val_accuracy: 0.8458\n",
      "Epoch 39/40\n",
      "120/120 [==============================] - 3s 27ms/step - loss: 0.1944 - accuracy: 0.9578 - val_loss: 0.6211 - val_accuracy: 0.8688\n",
      "Epoch 40/40\n",
      "120/120 [==============================] - 3s 27ms/step - loss: 0.1856 - accuracy: 0.9641 - val_loss: 0.6665 - val_accuracy: 0.8604\n"
     ]
    }
   ],
   "source": [
    "# Training the model\n",
    "history = model.fit(\n",
    "  train,\n",
    "  epochs=40,\n",
    "  callbacks=callbacks_list,\n",
    "  validation_data=val\n",
    ")"
   ]
  },
  {
   "cell_type": "markdown",
   "metadata": {},
   "source": [
    "### Plotting graphs"
   ]
  },
  {
   "cell_type": "code",
   "execution_count": 7,
   "metadata": {},
   "outputs": [
    {
     "data": {
      "image/png": "[encoded data removed]",
      "text/plain": [
       "<Figure size 432x288 with 1 Axes>"
      ]
     },
     "metadata": {
      "needs_background": "light"
     },
     "output_type": "display_data"
    },
    {
     "data": {
      "image/png": "[encoded data removed]",
      "text/plain": [
       "<Figure size 432x288 with 1 Axes>"
      ]
     },
     "metadata": {
      "needs_background": "light"
     },
     "output_type": "display_data"
    }
   ],
   "source": [
    "# Plotting the loss and accuracy\n",
    "plot_loss(history)\n",
    "plot_acc(history)"
   ]
  },
  {
   "cell_type": "markdown",
   "metadata": {},
   "source": [
    "### Evaluating the test accuracy"
   ]
  },
  {
   "cell_type": "code",
   "execution_count": 8,
   "metadata": {},
   "outputs": [
    {
     "name": "stdout",
     "output_type": "stream",
     "text": [
      " 4/15 [=======>......................] - ETA: 0s - loss: 0.4594 - accuracy: 0.8672"
     ]
    },
    {
     "name": "stderr",
     "output_type": "stream",
     "text": [
      "2022-09-01 07:02:50.907710: I tensorflow/core/grappler/optimizers/custom_graph_optimizer_registry.cc:112] Plugin optimizer for device_type GPU is enabled.\n"
     ]
    },
    {
     "name": "stdout",
     "output_type": "stream",
     "text": [
      "15/15 [==============================] - 0s 12ms/step - loss: 0.5872 - accuracy: 0.8438\n"
     ]
    },
    {
     "data": {
      "text/plain": [
       "[0.5872358679771423, 0.8437500596046448]"
      ]
     },
     "execution_count": 8,
     "metadata": {},
     "output_type": "execute_result"
    }
   ],
   "source": [
    "# Evaluating the best model\n",
    "load_best_model = keras.models.load_model(\"../models/2_replicate_paper.h5\")\n",
    "load_best_model.evaluate(test)"
   ]
  },
  {
   "cell_type": "markdown",
   "metadata": {},
   "source": [
    "### Conclusion"
   ]
  },
  {
   "cell_type": "markdown",
   "metadata": {},
   "source": [
    "> While this model is defined and trained exactly as instructed by the authors of the paper mentioned, the trainable parameters and test accuracy are different from those mentioned in the paper."
   ]
  },
  {
   "cell_type": "markdown",
   "metadata": {},
   "source": [
    "---\n",
    "\n",
    "*Test Accuracy*: **84.38%**\n",
    "\n",
    "---"
   ]
  }
 ],
 "metadata": {
  "kernelspec": {
   "display_name": "Python 3.9.7 ('base')",
   "language": "python",
   "name": "python3"
  },
  "language_info": {
   "codemirror_mode": {
    "name": "ipython",
    "version": 3
   },
   "file_extension": ".py",
   "mimetype": "text/x-python",
   "name": "python",
   "nbconvert_exporter": "python",
   "pygments_lexer": "ipython3",
   "version": "3.9.7"
  },
  "orig_nbformat": 4,
  "vscode": {
   "interpreter": {
    "hash": "c6e4e9f98eb68ad3b7c296f83d20e6de614cb42e90992a65aa266555a3137d0d"
   }
  }
 },
 "nbformat": 4,
 "nbformat_minor": 2
}
