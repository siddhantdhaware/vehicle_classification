{
 "cells": [
  {
   "cell_type": "markdown",
   "metadata": {},
   "source": [
    "# Importing the libraries"
   ]
  },
  {
   "cell_type": "code",
   "execution_count": 1,
   "metadata": {},
   "outputs": [],
   "source": [
    "import tensorflow as tf\n",
    "from tensorflow.keras import layers, utils\n",
    "from tensorflow import keras\n",
    "from matplotlib import pyplot as plt\n",
    "\n",
    "import sys\n",
    "sys.path.insert(0, '../../')\n",
    "from plot_graphs import plot_loss, plot_acc"
   ]
  },
  {
   "cell_type": "markdown",
   "metadata": {},
   "source": [
    "# Setting Image and Batch Size"
   ]
  },
  {
   "cell_type": "code",
   "execution_count": 2,
   "metadata": {},
   "outputs": [],
   "source": [
    "IMAGE_SIZE = 100\n",
    "BATCH_SIZE = 32"
   ]
  },
  {
   "cell_type": "markdown",
   "metadata": {},
   "source": [
    "# Loading the train, val, and test data"
   ]
  },
  {
   "cell_type": "code",
   "execution_count": 3,
   "metadata": {},
   "outputs": [
    {
     "name": "stdout",
     "output_type": "stream",
     "text": [
      "Found 3360 files belonging to 6 classes.\n",
      "Metal device set to: Apple M1\n",
      "\n",
      "systemMemory: 16.00 GB\n",
      "maxCacheSize: 5.33 GB\n",
      "\n",
      "Found 720 files belonging to 6 classes.\n",
      "Found 720 files belonging to 6 classes.\n"
     ]
    },
    {
     "name": "stderr",
     "output_type": "stream",
     "text": [
      "2022-08-07 15:08:24.161817: I tensorflow/core/common_runtime/pluggable_device/pluggable_device_factory.cc:305] Could not identify NUMA node of platform GPU ID 0, defaulting to 0. Your kernel may not have been built with NUMA support.\n",
      "2022-08-07 15:08:24.161972: I tensorflow/core/common_runtime/pluggable_device/pluggable_device_factory.cc:271] Created TensorFlow device (/job:localhost/replica:0/task:0/device:GPU:0 with 0 MB memory) -> physical PluggableDevice (device: 0, name: METAL, pci bus id: <undefined>)\n"
     ]
    }
   ],
   "source": [
    "train = utils.image_dataset_from_directory(\"../../datasets/data/split/Zenodo/train\", image_size=(IMAGE_SIZE, IMAGE_SIZE), batch_size=BATCH_SIZE)\n",
    "val = utils.image_dataset_from_directory(\"../../datasets/data/split/Zenodo/val\", image_size=(IMAGE_SIZE, IMAGE_SIZE), batch_size=BATCH_SIZE)\n",
    "test = utils.image_dataset_from_directory(\"../../datasets/data/split/Zenodo/test\", image_size=(IMAGE_SIZE, IMAGE_SIZE), batch_size=BATCH_SIZE)"
   ]
  },
  {
   "cell_type": "markdown",
   "metadata": {},
   "source": [
    "# Defining the model"
   ]
  },
  {
   "cell_type": "code",
   "execution_count": 4,
   "metadata": {},
   "outputs": [
    {
     "name": "stdout",
     "output_type": "stream",
     "text": [
      "Model: \"model\"\n",
      "_________________________________________________________________\n",
      " Layer (type)                Output Shape              Param #   \n",
      "=================================================================\n",
      " input_1 (InputLayer)        [(None, 100, 100, 3)]     0         \n",
      "                                                                 \n",
      " conv2d (Conv2D)             (None, 98, 98, 16)        448       \n",
      "                                                                 \n",
      " max_pooling2d (MaxPooling2D  (None, 49, 49, 16)       0         \n",
      " )                                                               \n",
      "                                                                 \n",
      " conv2d_1 (Conv2D)           (None, 47, 47, 32)        4640      \n",
      "                                                                 \n",
      " max_pooling2d_1 (MaxPooling  (None, 23, 23, 32)       0         \n",
      " 2D)                                                             \n",
      "                                                                 \n",
      " conv2d_2 (Conv2D)           (None, 21, 21, 32)        9248      \n",
      "                                                                 \n",
      " max_pooling2d_2 (MaxPooling  (None, 10, 10, 32)       0         \n",
      " 2D)                                                             \n",
      "                                                                 \n",
      " conv2d_3 (Conv2D)           (None, 8, 8, 32)          9248      \n",
      "                                                                 \n",
      " global_average_pooling2d (G  (None, 32)               0         \n",
      " lobalAveragePooling2D)                                          \n",
      "                                                                 \n",
      " dropout (Dropout)           (None, 32)                0         \n",
      "                                                                 \n",
      " dense (Dense)               (None, 6)                 198       \n",
      "                                                                 \n",
      "=================================================================\n",
      "Total params: 23,782\n",
      "Trainable params: 23,782\n",
      "Non-trainable params: 0\n",
      "_________________________________________________________________\n"
     ]
    }
   ],
   "source": [
    "inputs = keras.Input(shape=(100, 100, 3))\n",
    "x = inputs\n",
    "# x = layers.Rescaling(1./255)(x)\n",
    "x = layers.Conv2D(16, 3, activation='relu')(x)\n",
    "x = layers.MaxPooling2D(2)(x)\n",
    "x = layers.Conv2D(32, 3, activation='relu')(x)\n",
    "x = layers.MaxPooling2D(2)(x)\n",
    "x = layers.Conv2D(32, 3, activation='relu')(x)\n",
    "x = layers.MaxPooling2D(2)(x)\n",
    "x = layers.Conv2D(32, 3, activation='relu')(x)\n",
    "x = layers.GlobalAveragePooling2D()(x)\n",
    "x = layers.Dropout(0.3)(x)\n",
    "outputs = layers.Dense(6, activation='softmax')(x)\n",
    "\n",
    "model = keras.Model(inputs, outputs)\n",
    "\n",
    "model.compile(optimizer=keras.optimizers.RMSprop(0.001), loss='sparse_categorical_crossentropy', metrics=['accuracy'])\n",
    "\n",
    "model.summary()"
   ]
  },
  {
   "cell_type": "markdown",
   "metadata": {},
   "source": [
    "# Adding Callbacks"
   ]
  },
  {
   "cell_type": "code",
   "execution_count": 5,
   "metadata": {},
   "outputs": [],
   "source": [
    "callbacks_list = [\n",
    "    keras.callbacks.EarlyStopping(\n",
    "        monitor=\"val_accuracy\",\n",
    "        patience=10\n",
    "    ),\n",
    "    keras.callbacks.ModelCheckpoint(\n",
    "        filepath=\"../../models/zenodo/m6_modified_replication.h5\",\n",
    "        monitor=\"val_accuracy\",\n",
    "        save_best_only=True\n",
    "    )\n",
    "]"
   ]
  },
  {
   "cell_type": "markdown",
   "metadata": {},
   "source": [
    "# Running the model"
   ]
  },
  {
   "cell_type": "code",
   "execution_count": 6,
   "metadata": {},
   "outputs": [
    {
     "name": "stdout",
     "output_type": "stream",
     "text": [
      "Epoch 1/60\n"
     ]
    },
    {
     "name": "stderr",
     "output_type": "stream",
     "text": [
      "2022-08-07 15:08:24.909019: W tensorflow/core/platform/profile_utils/cpu_utils.cc:128] Failed to get CPU frequency: 0 Hz\n",
      "2022-08-07 15:08:24.909111: I tensorflow/core/grappler/optimizers/custom_graph_optimizer_registry.cc:112] Plugin optimizer for device_type GPU is enabled.\n"
     ]
    },
    {
     "name": "stdout",
     "output_type": "stream",
     "text": [
      "103/105 [============================>.] - ETA: 0s - loss: 3.2374 - accuracy: 0.2042"
     ]
    },
    {
     "name": "stderr",
     "output_type": "stream",
     "text": [
      "2022-08-07 15:08:27.688203: I tensorflow/core/grappler/optimizers/custom_graph_optimizer_registry.cc:112] Plugin optimizer for device_type GPU is enabled.\n"
     ]
    },
    {
     "name": "stdout",
     "output_type": "stream",
     "text": [
      "105/105 [==============================] - 4s 26ms/step - loss: 3.2099 - accuracy: 0.2027 - val_loss: 1.7904 - val_accuracy: 0.2125\n",
      "Epoch 2/60\n",
      "105/105 [==============================] - 2s 23ms/step - loss: 1.8717 - accuracy: 0.2131 - val_loss: 1.7738 - val_accuracy: 0.1861\n",
      "Epoch 3/60\n",
      "105/105 [==============================] - 2s 23ms/step - loss: 1.7871 - accuracy: 0.2536 - val_loss: 1.5859 - val_accuracy: 0.4250\n",
      "Epoch 4/60\n",
      "105/105 [==============================] - 3s 24ms/step - loss: 1.5805 - accuracy: 0.3688 - val_loss: 1.2734 - val_accuracy: 0.5403\n",
      "Epoch 5/60\n",
      "105/105 [==============================] - 2s 22ms/step - loss: 1.3775 - accuracy: 0.4869 - val_loss: 1.5539 - val_accuracy: 0.4556\n",
      "Epoch 6/60\n",
      "105/105 [==============================] - 2s 23ms/step - loss: 1.1501 - accuracy: 0.5628 - val_loss: 1.2901 - val_accuracy: 0.4819\n",
      "Epoch 7/60\n",
      "105/105 [==============================] - 2s 23ms/step - loss: 1.0217 - accuracy: 0.6137 - val_loss: 1.0178 - val_accuracy: 0.6222\n",
      "Epoch 8/60\n",
      "105/105 [==============================] - 2s 23ms/step - loss: 0.8837 - accuracy: 0.6682 - val_loss: 1.5011 - val_accuracy: 0.3931\n",
      "Epoch 9/60\n",
      "105/105 [==============================] - 2s 23ms/step - loss: 0.8107 - accuracy: 0.7122 - val_loss: 1.3670 - val_accuracy: 0.5208\n",
      "Epoch 10/60\n",
      "105/105 [==============================] - 2s 23ms/step - loss: 0.7400 - accuracy: 0.7497 - val_loss: 1.7940 - val_accuracy: 0.4722\n",
      "Epoch 11/60\n",
      "105/105 [==============================] - 3s 24ms/step - loss: 0.6590 - accuracy: 0.7613 - val_loss: 1.0084 - val_accuracy: 0.6292\n",
      "Epoch 12/60\n",
      "105/105 [==============================] - 2s 23ms/step - loss: 0.5737 - accuracy: 0.7875 - val_loss: 0.6673 - val_accuracy: 0.7431\n",
      "Epoch 13/60\n",
      "105/105 [==============================] - 2s 23ms/step - loss: 0.5753 - accuracy: 0.8018 - val_loss: 1.4397 - val_accuracy: 0.5750\n",
      "Epoch 14/60\n",
      "105/105 [==============================] - 2s 23ms/step - loss: 0.4769 - accuracy: 0.8330 - val_loss: 0.4607 - val_accuracy: 0.8472\n",
      "Epoch 15/60\n",
      "105/105 [==============================] - 2s 23ms/step - loss: 0.4669 - accuracy: 0.8443 - val_loss: 1.1038 - val_accuracy: 0.6472\n",
      "Epoch 16/60\n",
      "105/105 [==============================] - 2s 23ms/step - loss: 0.4872 - accuracy: 0.8417 - val_loss: 0.5212 - val_accuracy: 0.8319\n",
      "Epoch 17/60\n",
      "105/105 [==============================] - 2s 23ms/step - loss: 0.3958 - accuracy: 0.8637 - val_loss: 0.5168 - val_accuracy: 0.8306\n",
      "Epoch 18/60\n",
      "105/105 [==============================] - 3s 24ms/step - loss: 0.3874 - accuracy: 0.8708 - val_loss: 0.3927 - val_accuracy: 0.8708\n",
      "Epoch 19/60\n",
      "105/105 [==============================] - 2s 23ms/step - loss: 0.3348 - accuracy: 0.8863 - val_loss: 0.4593 - val_accuracy: 0.8500\n",
      "Epoch 20/60\n",
      "105/105 [==============================] - 3s 24ms/step - loss: 0.3162 - accuracy: 0.8929 - val_loss: 0.5101 - val_accuracy: 0.8458\n",
      "Epoch 21/60\n",
      "105/105 [==============================] - 2s 23ms/step - loss: 0.2704 - accuracy: 0.9122 - val_loss: 0.5361 - val_accuracy: 0.8556\n",
      "Epoch 22/60\n",
      "105/105 [==============================] - 2s 23ms/step - loss: 0.2996 - accuracy: 0.9086 - val_loss: 0.3715 - val_accuracy: 0.8931\n",
      "Epoch 23/60\n",
      "105/105 [==============================] - 2s 23ms/step - loss: 0.2529 - accuracy: 0.9202 - val_loss: 1.3397 - val_accuracy: 0.7319\n",
      "Epoch 24/60\n",
      "105/105 [==============================] - 2s 23ms/step - loss: 0.2591 - accuracy: 0.9211 - val_loss: 1.5350 - val_accuracy: 0.6694\n",
      "Epoch 25/60\n",
      "105/105 [==============================] - 2s 23ms/step - loss: 0.2258 - accuracy: 0.9244 - val_loss: 0.4288 - val_accuracy: 0.8875\n",
      "Epoch 26/60\n",
      "105/105 [==============================] - 3s 25ms/step - loss: 0.2242 - accuracy: 0.9274 - val_loss: 0.5558 - val_accuracy: 0.8444\n",
      "Epoch 27/60\n",
      "105/105 [==============================] - 2s 23ms/step - loss: 0.2053 - accuracy: 0.9280 - val_loss: 0.3728 - val_accuracy: 0.8986\n",
      "Epoch 28/60\n",
      "105/105 [==============================] - 2s 23ms/step - loss: 0.1874 - accuracy: 0.9396 - val_loss: 0.5548 - val_accuracy: 0.8500\n",
      "Epoch 29/60\n",
      "105/105 [==============================] - 2s 23ms/step - loss: 0.1801 - accuracy: 0.9449 - val_loss: 0.6594 - val_accuracy: 0.8403\n",
      "Epoch 30/60\n",
      "105/105 [==============================] - 3s 24ms/step - loss: 0.2161 - accuracy: 0.9408 - val_loss: 0.4319 - val_accuracy: 0.8778\n",
      "Epoch 31/60\n",
      "105/105 [==============================] - 3s 25ms/step - loss: 0.1715 - accuracy: 0.9461 - val_loss: 0.3627 - val_accuracy: 0.9042\n",
      "Epoch 32/60\n",
      "105/105 [==============================] - 2s 24ms/step - loss: 0.1590 - accuracy: 0.9527 - val_loss: 0.9133 - val_accuracy: 0.8208\n",
      "Epoch 33/60\n",
      "105/105 [==============================] - 2s 24ms/step - loss: 0.1446 - accuracy: 0.9533 - val_loss: 0.5632 - val_accuracy: 0.8556\n",
      "Epoch 34/60\n",
      "105/105 [==============================] - 3s 27ms/step - loss: 0.1430 - accuracy: 0.9589 - val_loss: 0.3173 - val_accuracy: 0.9194\n",
      "Epoch 35/60\n",
      "105/105 [==============================] - 2s 24ms/step - loss: 0.1547 - accuracy: 0.9527 - val_loss: 0.4603 - val_accuracy: 0.8958\n",
      "Epoch 36/60\n",
      "105/105 [==============================] - 2s 23ms/step - loss: 0.1495 - accuracy: 0.9574 - val_loss: 0.3400 - val_accuracy: 0.9125\n",
      "Epoch 37/60\n",
      "105/105 [==============================] - 2s 24ms/step - loss: 0.1497 - accuracy: 0.9589 - val_loss: 0.4324 - val_accuracy: 0.8833\n",
      "Epoch 38/60\n",
      "105/105 [==============================] - 3s 24ms/step - loss: 0.1501 - accuracy: 0.9583 - val_loss: 0.3874 - val_accuracy: 0.9028\n",
      "Epoch 39/60\n",
      "105/105 [==============================] - 2s 23ms/step - loss: 0.1233 - accuracy: 0.9658 - val_loss: 0.3692 - val_accuracy: 0.9153\n",
      "Epoch 40/60\n",
      "105/105 [==============================] - 2s 23ms/step - loss: 0.1367 - accuracy: 0.9655 - val_loss: 0.3472 - val_accuracy: 0.9139\n",
      "Epoch 41/60\n",
      "105/105 [==============================] - 2s 24ms/step - loss: 0.1694 - accuracy: 0.9551 - val_loss: 0.5875 - val_accuracy: 0.8847\n",
      "Epoch 42/60\n",
      "105/105 [==============================] - 2s 23ms/step - loss: 0.1164 - accuracy: 0.9658 - val_loss: 0.7387 - val_accuracy: 0.8667\n",
      "Epoch 43/60\n",
      "105/105 [==============================] - 2s 23ms/step - loss: 0.1548 - accuracy: 0.9589 - val_loss: 0.7699 - val_accuracy: 0.8472\n",
      "Epoch 44/60\n",
      "105/105 [==============================] - 2s 23ms/step - loss: 0.1159 - accuracy: 0.9708 - val_loss: 0.3638 - val_accuracy: 0.9181\n"
     ]
    }
   ],
   "source": [
    "history = model.fit(\n",
    "  train.cache(),\n",
    "  epochs=60,\n",
    "  callbacks=callbacks_list,\n",
    "  validation_data=val.cache()\n",
    ")"
   ]
  },
  {
   "cell_type": "markdown",
   "metadata": {},
   "source": [
    "# Evaluating the model"
   ]
  },
  {
   "cell_type": "code",
   "execution_count": 7,
   "metadata": {},
   "outputs": [
    {
     "name": "stdout",
     "output_type": "stream",
     "text": [
      " 9/23 [==========>...................] - ETA: 0s - loss: 0.2833 - accuracy: 0.9201"
     ]
    },
    {
     "name": "stderr",
     "output_type": "stream",
     "text": [
      "2022-08-07 15:10:14.314847: I tensorflow/core/grappler/optimizers/custom_graph_optimizer_registry.cc:112] Plugin optimizer for device_type GPU is enabled.\n"
     ]
    },
    {
     "name": "stdout",
     "output_type": "stream",
     "text": [
      "23/23 [==============================] - 0s 13ms/step - loss: 0.2977 - accuracy: 0.9111\n"
     ]
    },
    {
     "data": {
      "text/plain": [
       "[0.29771965742111206, 0.9111111164093018]"
      ]
     },
     "execution_count": 7,
     "metadata": {},
     "output_type": "execute_result"
    }
   ],
   "source": [
    "# model.evaluate(test)\n",
    "\n",
    "load_model = keras.models.load_model(\"../../models/zenodo/m6_modified_replication.h5\")\n",
    "load_model.evaluate(test)"
   ]
  },
  {
   "cell_type": "code",
   "execution_count": 8,
   "metadata": {},
   "outputs": [
    {
     "data": {
      "text/plain": [
       "<module 'matplotlib.pyplot' from '/opt/homebrew/Caskroom/miniforge/base/lib/python3.9/site-packages/matplotlib/pyplot.py'>"
      ]
     },
     "execution_count": 8,
     "metadata": {},
     "output_type": "execute_result"
    },
    {
     "data": {
      "image/png": "[encoded data removed]",
      "text/plain": [
       "<Figure size 432x288 with 1 Axes>"
      ]
     },
     "metadata": {
      "needs_background": "light"
     },
     "output_type": "display_data"
    }
   ],
   "source": [
    "# Plotting loss and accuracy graphs\n",
    "## Plotting loss\n",
    "plot_loss(history)"
   ]
  },
  {
   "cell_type": "code",
   "execution_count": 9,
   "metadata": {},
   "outputs": [
    {
     "data": {
      "text/plain": [
       "<module 'matplotlib.pyplot' from '/opt/homebrew/Caskroom/miniforge/base/lib/python3.9/site-packages/matplotlib/pyplot.py'>"
      ]
     },
     "execution_count": 9,
     "metadata": {},
     "output_type": "execute_result"
    },
    {
     "data": {
      "image/png": "[encoded data removed]",
      "text/plain": [
       "<Figure size 432x288 with 1 Axes>"
      ]
     },
     "metadata": {
      "needs_background": "light"
     },
     "output_type": "display_data"
    }
   ],
   "source": [
    "## Plotting accuracy\n",
    "plot_acc(history)"
   ]
  }
 ],
 "metadata": {
  "kernelspec": {
   "display_name": "Python 3.9.7 ('base')",
   "language": "python",
   "name": "python3"
  },
  "language_info": {
   "codemirror_mode": {
    "name": "ipython",
    "version": 3
   },
   "file_extension": ".py",
   "mimetype": "text/x-python",
   "name": "python",
   "nbconvert_exporter": "python",
   "pygments_lexer": "ipython3",
   "version": "3.9.7"
  },
  "orig_nbformat": 4,
  "vscode": {
   "interpreter": {
    "hash": "c6e4e9f98eb68ad3b7c296f83d20e6de614cb42e90992a65aa266555a3137d0d"
   }
  }
 },
 "nbformat": 4,
 "nbformat_minor": 2
}
