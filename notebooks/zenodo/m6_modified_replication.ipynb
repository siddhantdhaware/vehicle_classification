{
 "cells": [
  {
   "cell_type": "markdown",
   "metadata": {},
   "source": [
    "# Importing the libraries"
   ]
  },
  {
   "cell_type": "code",
   "execution_count": 1,
   "metadata": {},
   "outputs": [],
   "source": [
    "import tensorflow as tf\n",
    "from tensorflow.keras import layers, utils\n",
    "from tensorflow import keras\n",
    "from matplotlib import pyplot as plt"
   ]
  },
  {
   "cell_type": "markdown",
   "metadata": {},
   "source": [
    "# Setting Image and Batch Size"
   ]
  },
  {
   "cell_type": "code",
   "execution_count": 2,
   "metadata": {},
   "outputs": [],
   "source": [
    "IMAGE_SIZE = 100\n",
    "BATCH_SIZE = 32"
   ]
  },
  {
   "cell_type": "markdown",
   "metadata": {},
   "source": [
    "# Loading the train, val, and test data"
   ]
  },
  {
   "cell_type": "code",
   "execution_count": 3,
   "metadata": {},
   "outputs": [
    {
     "name": "stdout",
     "output_type": "stream",
     "text": [
      "Found 3360 files belonging to 6 classes.\n",
      "Metal device set to: Apple M1\n",
      "\n",
      "systemMemory: 16.00 GB\n",
      "maxCacheSize: 5.33 GB\n",
      "\n",
      "Found 720 files belonging to 6 classes.\n",
      "Found 720 files belonging to 6 classes.\n"
     ]
    },
    {
     "name": "stderr",
     "output_type": "stream",
     "text": [
      "2022-08-03 13:19:10.768766: I tensorflow/core/common_runtime/pluggable_device/pluggable_device_factory.cc:305] Could not identify NUMA node of platform GPU ID 0, defaulting to 0. Your kernel may not have been built with NUMA support.\n",
      "2022-08-03 13:19:10.768865: I tensorflow/core/common_runtime/pluggable_device/pluggable_device_factory.cc:271] Created TensorFlow device (/job:localhost/replica:0/task:0/device:GPU:0 with 0 MB memory) -> physical PluggableDevice (device: 0, name: METAL, pci bus id: <undefined>)\n"
     ]
    }
   ],
   "source": [
    "train = utils.image_dataset_from_directory(\"../../datasets/data/split/Zenodo/train\", image_size=(IMAGE_SIZE, IMAGE_SIZE), batch_size=BATCH_SIZE)\n",
    "val = utils.image_dataset_from_directory(\"../../datasets/data/split/Zenodo/val\", image_size=(IMAGE_SIZE, IMAGE_SIZE), batch_size=BATCH_SIZE)\n",
    "test = utils.image_dataset_from_directory(\"../../datasets/data/split/Zenodo/test\", image_size=(IMAGE_SIZE, IMAGE_SIZE), batch_size=BATCH_SIZE)"
   ]
  },
  {
   "cell_type": "markdown",
   "metadata": {},
   "source": [
    "# Defining the model"
   ]
  },
  {
   "cell_type": "code",
   "execution_count": 4,
   "metadata": {},
   "outputs": [
    {
     "name": "stdout",
     "output_type": "stream",
     "text": [
      "Model: \"model\"\n",
      "_________________________________________________________________\n",
      " Layer (type)                Output Shape              Param #   \n",
      "=================================================================\n",
      " input_1 (InputLayer)        [(None, 100, 100, 3)]     0         \n",
      "                                                                 \n",
      " conv2d (Conv2D)             (None, 98, 98, 16)        448       \n",
      "                                                                 \n",
      " max_pooling2d (MaxPooling2D  (None, 49, 49, 16)       0         \n",
      " )                                                               \n",
      "                                                                 \n",
      " conv2d_1 (Conv2D)           (None, 47, 47, 32)        4640      \n",
      "                                                                 \n",
      " max_pooling2d_1 (MaxPooling  (None, 23, 23, 32)       0         \n",
      " 2D)                                                             \n",
      "                                                                 \n",
      " conv2d_2 (Conv2D)           (None, 21, 21, 32)        9248      \n",
      "                                                                 \n",
      " max_pooling2d_2 (MaxPooling  (None, 10, 10, 32)       0         \n",
      " 2D)                                                             \n",
      "                                                                 \n",
      " conv2d_3 (Conv2D)           (None, 8, 8, 32)          9248      \n",
      "                                                                 \n",
      " global_average_pooling2d (G  (None, 32)               0         \n",
      " lobalAveragePooling2D)                                          \n",
      "                                                                 \n",
      " dropout (Dropout)           (None, 32)                0         \n",
      "                                                                 \n",
      " dense (Dense)               (None, 6)                 198       \n",
      "                                                                 \n",
      "=================================================================\n",
      "Total params: 23,782\n",
      "Trainable params: 23,782\n",
      "Non-trainable params: 0\n",
      "_________________________________________________________________\n"
     ]
    }
   ],
   "source": [
    "inputs = keras.Input(shape=(100, 100, 3))\n",
    "x = inputs\n",
    "# x = layers.Rescaling(1./255)(x)\n",
    "x = layers.Conv2D(16, 3, activation='relu')(x)\n",
    "x = layers.MaxPooling2D(2)(x)\n",
    "x = layers.Conv2D(32, 3, activation='relu')(x)\n",
    "x = layers.MaxPooling2D(2)(x)\n",
    "x = layers.Conv2D(32, 3, activation='relu')(x)\n",
    "x = layers.MaxPooling2D(2)(x)\n",
    "x = layers.Conv2D(32, 3, activation='relu')(x)\n",
    "x = layers.GlobalAveragePooling2D()(x)\n",
    "x = layers.Dropout(0.3)(x)\n",
    "outputs = layers.Dense(6, activation='softmax')(x)\n",
    "\n",
    "model = keras.Model(inputs, outputs)\n",
    "\n",
    "model.compile(optimizer=keras.optimizers.RMSprop(0.001), loss='sparse_categorical_crossentropy', metrics=['accuracy'])\n",
    "\n",
    "model.summary()"
   ]
  },
  {
   "cell_type": "markdown",
   "metadata": {},
   "source": [
    "# Adding Callbacks"
   ]
  },
  {
   "cell_type": "code",
   "execution_count": 5,
   "metadata": {},
   "outputs": [],
   "source": [
    "callbacks_list = [\n",
    "    keras.callbacks.EarlyStopping(\n",
    "        monitor=\"val_accuracy\",\n",
    "        patience=10\n",
    "    ),\n",
    "    keras.callbacks.ModelCheckpoint(\n",
    "        filepath=\"../../models/zenodo/m6_modified_replication.h5\",\n",
    "        monitor=\"val_accuracy\",\n",
    "        save_best_only=True\n",
    "    )\n",
    "]"
   ]
  },
  {
   "cell_type": "markdown",
   "metadata": {},
   "source": [
    "# Running the model"
   ]
  },
  {
   "cell_type": "code",
   "execution_count": 6,
   "metadata": {},
   "outputs": [
    {
     "name": "stdout",
     "output_type": "stream",
     "text": [
      "Epoch 1/60\n"
     ]
    },
    {
     "name": "stderr",
     "output_type": "stream",
     "text": [
      "2022-08-03 13:19:11.374396: W tensorflow/core/platform/profile_utils/cpu_utils.cc:128] Failed to get CPU frequency: 0 Hz\n",
      "2022-08-03 13:19:11.374584: I tensorflow/core/grappler/optimizers/custom_graph_optimizer_registry.cc:112] Plugin optimizer for device_type GPU is enabled.\n"
     ]
    },
    {
     "name": "stdout",
     "output_type": "stream",
     "text": [
      "104/105 [============================>.] - ETA: 0s - loss: 2.2874 - accuracy: 0.2061"
     ]
    },
    {
     "name": "stderr",
     "output_type": "stream",
     "text": [
      "2022-08-03 13:19:14.134600: I tensorflow/core/grappler/optimizers/custom_graph_optimizer_registry.cc:112] Plugin optimizer for device_type GPU is enabled.\n"
     ]
    },
    {
     "name": "stdout",
     "output_type": "stream",
     "text": [
      "105/105 [==============================] - 3s 27ms/step - loss: 2.2817 - accuracy: 0.2077 - val_loss: 1.7010 - val_accuracy: 0.2778\n",
      "Epoch 2/60\n",
      "105/105 [==============================] - 2s 23ms/step - loss: 1.7492 - accuracy: 0.2884 - val_loss: 1.5354 - val_accuracy: 0.3028\n",
      "Epoch 3/60\n",
      "105/105 [==============================] - 3s 24ms/step - loss: 1.5617 - accuracy: 0.4012 - val_loss: 2.0366 - val_accuracy: 0.3000\n",
      "Epoch 4/60\n",
      "105/105 [==============================] - 2s 24ms/step - loss: 1.3327 - accuracy: 0.4964 - val_loss: 1.8817 - val_accuracy: 0.3056\n",
      "Epoch 5/60\n",
      "105/105 [==============================] - 3s 24ms/step - loss: 1.1486 - accuracy: 0.5503 - val_loss: 1.0061 - val_accuracy: 0.5903\n",
      "Epoch 6/60\n",
      "105/105 [==============================] - 3s 24ms/step - loss: 1.0146 - accuracy: 0.6217 - val_loss: 0.9915 - val_accuracy: 0.5972\n",
      "Epoch 7/60\n",
      "105/105 [==============================] - 2s 23ms/step - loss: 0.8896 - accuracy: 0.6699 - val_loss: 0.7663 - val_accuracy: 0.6875\n",
      "Epoch 8/60\n",
      "105/105 [==============================] - 2s 24ms/step - loss: 0.7846 - accuracy: 0.7107 - val_loss: 0.7000 - val_accuracy: 0.7222\n",
      "Epoch 9/60\n",
      "105/105 [==============================] - 2s 23ms/step - loss: 0.7051 - accuracy: 0.7432 - val_loss: 0.7645 - val_accuracy: 0.7000\n",
      "Epoch 10/60\n",
      "105/105 [==============================] - 2s 24ms/step - loss: 0.6305 - accuracy: 0.7676 - val_loss: 0.5878 - val_accuracy: 0.7889\n",
      "Epoch 11/60\n",
      "105/105 [==============================] - 2s 23ms/step - loss: 0.5613 - accuracy: 0.7920 - val_loss: 0.6020 - val_accuracy: 0.7889\n",
      "Epoch 12/60\n",
      "105/105 [==============================] - 2s 23ms/step - loss: 0.5099 - accuracy: 0.8116 - val_loss: 0.4797 - val_accuracy: 0.8361\n",
      "Epoch 13/60\n",
      "105/105 [==============================] - 2s 24ms/step - loss: 0.4633 - accuracy: 0.8286 - val_loss: 0.4641 - val_accuracy: 0.8375\n",
      "Epoch 14/60\n",
      "105/105 [==============================] - 2s 24ms/step - loss: 0.4297 - accuracy: 0.8411 - val_loss: 0.4052 - val_accuracy: 0.8597\n",
      "Epoch 15/60\n",
      "105/105 [==============================] - 2s 23ms/step - loss: 0.3816 - accuracy: 0.8643 - val_loss: 0.3702 - val_accuracy: 0.8722\n",
      "Epoch 16/60\n",
      "105/105 [==============================] - 2s 23ms/step - loss: 0.3584 - accuracy: 0.8723 - val_loss: 0.3556 - val_accuracy: 0.8778\n",
      "Epoch 17/60\n",
      "105/105 [==============================] - 2s 23ms/step - loss: 0.3113 - accuracy: 0.8896 - val_loss: 0.4008 - val_accuracy: 0.8653\n",
      "Epoch 18/60\n",
      "105/105 [==============================] - 3s 25ms/step - loss: 0.2919 - accuracy: 0.9015 - val_loss: 0.3438 - val_accuracy: 0.8819\n",
      "Epoch 19/60\n",
      "105/105 [==============================] - 3s 24ms/step - loss: 0.2755 - accuracy: 0.9039 - val_loss: 0.3435 - val_accuracy: 0.8819\n",
      "Epoch 20/60\n",
      "105/105 [==============================] - 3s 24ms/step - loss: 0.2766 - accuracy: 0.9119 - val_loss: 0.2938 - val_accuracy: 0.8972\n",
      "Epoch 21/60\n",
      "105/105 [==============================] - 2s 23ms/step - loss: 0.2258 - accuracy: 0.9280 - val_loss: 0.3367 - val_accuracy: 0.8931\n",
      "Epoch 22/60\n",
      "105/105 [==============================] - 2s 23ms/step - loss: 0.2157 - accuracy: 0.9280 - val_loss: 0.3122 - val_accuracy: 0.8944\n",
      "Epoch 23/60\n",
      "105/105 [==============================] - 2s 23ms/step - loss: 0.2059 - accuracy: 0.9360 - val_loss: 0.3332 - val_accuracy: 0.8917\n",
      "Epoch 24/60\n",
      "105/105 [==============================] - 2s 23ms/step - loss: 0.1899 - accuracy: 0.9402 - val_loss: 0.3111 - val_accuracy: 0.8986\n",
      "Epoch 25/60\n",
      "105/105 [==============================] - 2s 23ms/step - loss: 0.1720 - accuracy: 0.9417 - val_loss: 0.5273 - val_accuracy: 0.8514\n",
      "Epoch 26/60\n",
      "105/105 [==============================] - 2s 23ms/step - loss: 0.1681 - accuracy: 0.9440 - val_loss: 0.2873 - val_accuracy: 0.9028\n",
      "Epoch 27/60\n",
      "105/105 [==============================] - 2s 24ms/step - loss: 0.1546 - accuracy: 0.9530 - val_loss: 0.3192 - val_accuracy: 0.9069\n",
      "Epoch 28/60\n",
      "105/105 [==============================] - 2s 24ms/step - loss: 0.1376 - accuracy: 0.9536 - val_loss: 0.3007 - val_accuracy: 0.9139\n",
      "Epoch 29/60\n",
      "105/105 [==============================] - 2s 23ms/step - loss: 0.1236 - accuracy: 0.9637 - val_loss: 0.3974 - val_accuracy: 0.8917\n",
      "Epoch 30/60\n",
      "105/105 [==============================] - 2s 23ms/step - loss: 0.1258 - accuracy: 0.9580 - val_loss: 0.3673 - val_accuracy: 0.9042\n",
      "Epoch 31/60\n",
      "105/105 [==============================] - 2s 23ms/step - loss: 0.1190 - accuracy: 0.9649 - val_loss: 0.4051 - val_accuracy: 0.8931\n",
      "Epoch 32/60\n",
      "105/105 [==============================] - 3s 24ms/step - loss: 0.1280 - accuracy: 0.9580 - val_loss: 0.3351 - val_accuracy: 0.9028\n",
      "Epoch 33/60\n",
      "105/105 [==============================] - 2s 24ms/step - loss: 0.1187 - accuracy: 0.9682 - val_loss: 0.3285 - val_accuracy: 0.9125\n",
      "Epoch 34/60\n",
      "105/105 [==============================] - 2s 23ms/step - loss: 0.1304 - accuracy: 0.9634 - val_loss: 0.3527 - val_accuracy: 0.9097\n",
      "Epoch 35/60\n",
      "105/105 [==============================] - 2s 24ms/step - loss: 0.1019 - accuracy: 0.9747 - val_loss: 0.4169 - val_accuracy: 0.9042\n",
      "Epoch 36/60\n",
      "105/105 [==============================] - 2s 23ms/step - loss: 0.1110 - accuracy: 0.9693 - val_loss: 0.4386 - val_accuracy: 0.8958\n",
      "Epoch 37/60\n",
      "105/105 [==============================] - 2s 23ms/step - loss: 0.1210 - accuracy: 0.9661 - val_loss: 0.3426 - val_accuracy: 0.9125\n",
      "Epoch 38/60\n",
      "105/105 [==============================] - 2s 23ms/step - loss: 0.0905 - accuracy: 0.9735 - val_loss: 0.3311 - val_accuracy: 0.9194\n",
      "Epoch 39/60\n",
      "105/105 [==============================] - 2s 23ms/step - loss: 0.0926 - accuracy: 0.9744 - val_loss: 0.3432 - val_accuracy: 0.9125\n",
      "Epoch 40/60\n",
      "105/105 [==============================] - 2s 24ms/step - loss: 0.0936 - accuracy: 0.9708 - val_loss: 0.3877 - val_accuracy: 0.9111\n",
      "Epoch 41/60\n",
      "105/105 [==============================] - 2s 23ms/step - loss: 0.0959 - accuracy: 0.9753 - val_loss: 0.3446 - val_accuracy: 0.9222\n",
      "Epoch 42/60\n",
      "105/105 [==============================] - 2s 23ms/step - loss: 0.1045 - accuracy: 0.9690 - val_loss: 0.4215 - val_accuracy: 0.9181\n",
      "Epoch 43/60\n",
      "105/105 [==============================] - 3s 24ms/step - loss: 0.0798 - accuracy: 0.9830 - val_loss: 0.3769 - val_accuracy: 0.9111\n",
      "Epoch 44/60\n",
      "105/105 [==============================] - 2s 23ms/step - loss: 0.0955 - accuracy: 0.9801 - val_loss: 0.4807 - val_accuracy: 0.9111\n",
      "Epoch 45/60\n",
      "105/105 [==============================] - 2s 23ms/step - loss: 0.1119 - accuracy: 0.9714 - val_loss: 0.3475 - val_accuracy: 0.9181\n",
      "Epoch 46/60\n",
      "105/105 [==============================] - 3s 24ms/step - loss: 0.0886 - accuracy: 0.9756 - val_loss: 1.1077 - val_accuracy: 0.8306\n",
      "Epoch 47/60\n",
      "105/105 [==============================] - 3s 24ms/step - loss: 0.0710 - accuracy: 0.9783 - val_loss: 0.3441 - val_accuracy: 0.9264\n",
      "Epoch 48/60\n",
      "105/105 [==============================] - 3s 24ms/step - loss: 0.1212 - accuracy: 0.9750 - val_loss: 0.4349 - val_accuracy: 0.9181\n",
      "Epoch 49/60\n",
      "105/105 [==============================] - 2s 24ms/step - loss: 0.0924 - accuracy: 0.9798 - val_loss: 0.4461 - val_accuracy: 0.9069\n",
      "Epoch 50/60\n",
      "105/105 [==============================] - 3s 26ms/step - loss: 0.0717 - accuracy: 0.9771 - val_loss: 0.4491 - val_accuracy: 0.9111\n",
      "Epoch 51/60\n",
      "105/105 [==============================] - 3s 26ms/step - loss: 0.0750 - accuracy: 0.9851 - val_loss: 0.5048 - val_accuracy: 0.8917\n",
      "Epoch 52/60\n",
      "105/105 [==============================] - 2s 23ms/step - loss: 0.0721 - accuracy: 0.9792 - val_loss: 0.5322 - val_accuracy: 0.9222\n",
      "Epoch 53/60\n",
      "105/105 [==============================] - 2s 23ms/step - loss: 0.0736 - accuracy: 0.9839 - val_loss: 0.3858 - val_accuracy: 0.9250\n",
      "Epoch 54/60\n",
      "105/105 [==============================] - 2s 23ms/step - loss: 0.0879 - accuracy: 0.9762 - val_loss: 0.3954 - val_accuracy: 0.9222\n",
      "Epoch 55/60\n",
      "105/105 [==============================] - 2s 23ms/step - loss: 0.0696 - accuracy: 0.9815 - val_loss: 0.4073 - val_accuracy: 0.9264\n",
      "Epoch 56/60\n",
      "105/105 [==============================] - 2s 23ms/step - loss: 0.0820 - accuracy: 0.9792 - val_loss: 0.4612 - val_accuracy: 0.9278\n",
      "Epoch 57/60\n",
      "105/105 [==============================] - 2s 23ms/step - loss: 0.0579 - accuracy: 0.9866 - val_loss: 0.4645 - val_accuracy: 0.9194\n",
      "Epoch 58/60\n",
      "105/105 [==============================] - 3s 24ms/step - loss: 0.0790 - accuracy: 0.9804 - val_loss: 0.8671 - val_accuracy: 0.8903\n",
      "Epoch 59/60\n",
      "105/105 [==============================] - 2s 23ms/step - loss: 0.0790 - accuracy: 0.9804 - val_loss: 0.3996 - val_accuracy: 0.9250\n",
      "Epoch 60/60\n",
      "105/105 [==============================] - 2s 23ms/step - loss: 0.1191 - accuracy: 0.9845 - val_loss: 0.4864 - val_accuracy: 0.9153\n"
     ]
    }
   ],
   "source": [
    "history = model.fit(\n",
    "  train.cache(),\n",
    "  epochs=60,\n",
    "  callbacks=callbacks_list,\n",
    "  validation_data=val.cache()\n",
    ")"
   ]
  },
  {
   "cell_type": "markdown",
   "metadata": {},
   "source": [
    "# Evaluating the model"
   ]
  },
  {
   "cell_type": "code",
   "execution_count": 8,
   "metadata": {},
   "outputs": [
    {
     "name": "stdout",
     "output_type": "stream",
     "text": [
      "23/23 [==============================] - 0s 13ms/step - loss: 0.4542 - accuracy: 0.8958\n",
      " 9/23 [==========>...................] - ETA: 0s - loss: 0.2421 - accuracy: 0.9479"
     ]
    },
    {
     "name": "stderr",
     "output_type": "stream",
     "text": [
      "2022-08-03 13:24:04.849008: I tensorflow/core/grappler/optimizers/custom_graph_optimizer_registry.cc:112] Plugin optimizer for device_type GPU is enabled.\n"
     ]
    },
    {
     "name": "stdout",
     "output_type": "stream",
     "text": [
      "23/23 [==============================] - 0s 14ms/step - loss: 0.3405 - accuracy: 0.9181\n"
     ]
    },
    {
     "data": {
      "text/plain": [
       "[0.34046489000320435, 0.9180555939674377]"
      ]
     },
     "execution_count": 8,
     "metadata": {},
     "output_type": "execute_result"
    }
   ],
   "source": [
    "model.evaluate(test)\n",
    "\n",
    "load_model = keras.models.load_model(\"../../models/zenodo/m6_modified_replication.h5\")\n",
    "load_model.evaluate(test)"
   ]
  }
 ],
 "metadata": {
  "kernelspec": {
   "display_name": "Python 3.9.7 ('base')",
   "language": "python",
   "name": "python3"
  },
  "language_info": {
   "codemirror_mode": {
    "name": "ipython",
    "version": 3
   },
   "file_extension": ".py",
   "mimetype": "text/x-python",
   "name": "python",
   "nbconvert_exporter": "python",
   "pygments_lexer": "ipython3",
   "version": "3.9.7"
  },
  "orig_nbformat": 4,
  "vscode": {
   "interpreter": {
    "hash": "c6e4e9f98eb68ad3b7c296f83d20e6de614cb42e90992a65aa266555a3137d0d"
   }
  }
 },
 "nbformat": 4,
 "nbformat_minor": 2
}
