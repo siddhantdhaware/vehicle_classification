{
 "cells": [
  {
   "cell_type": "markdown",
   "metadata": {},
   "source": [
    "# Importing the libraries"
   ]
  },
  {
   "cell_type": "code",
   "execution_count": 1,
   "metadata": {},
   "outputs": [],
   "source": [
    "import tensorflow as tf\n",
    "from tensorflow.keras import layers, utils\n",
    "from tensorflow import keras\n",
    "from matplotlib import pyplot as plt"
   ]
  },
  {
   "cell_type": "markdown",
   "metadata": {},
   "source": [
    "# Setting Image and Batch Size\n"
   ]
  },
  {
   "cell_type": "code",
   "execution_count": 2,
   "metadata": {},
   "outputs": [],
   "source": [
    "IMAGE_SIZE = 100\n",
    "BATCH_SIZE = 32"
   ]
  },
  {
   "cell_type": "markdown",
   "metadata": {},
   "source": [
    "# Loading the train, val, and test data"
   ]
  },
  {
   "cell_type": "code",
   "execution_count": 3,
   "metadata": {},
   "outputs": [
    {
     "name": "stdout",
     "output_type": "stream",
     "text": [
      "Found 3360 files belonging to 6 classes.\n",
      "Metal device set to: Apple M1\n",
      "\n",
      "systemMemory: 16.00 GB\n",
      "maxCacheSize: 5.33 GB\n",
      "\n",
      "Found 720 files belonging to 6 classes.\n",
      "Found 720 files belonging to 6 classes.\n"
     ]
    },
    {
     "name": "stderr",
     "output_type": "stream",
     "text": [
      "2022-08-03 12:10:50.447973: I tensorflow/core/common_runtime/pluggable_device/pluggable_device_factory.cc:305] Could not identify NUMA node of platform GPU ID 0, defaulting to 0. Your kernel may not have been built with NUMA support.\n",
      "2022-08-03 12:10:50.448141: I tensorflow/core/common_runtime/pluggable_device/pluggable_device_factory.cc:271] Created TensorFlow device (/job:localhost/replica:0/task:0/device:GPU:0 with 0 MB memory) -> physical PluggableDevice (device: 0, name: METAL, pci bus id: <undefined>)\n"
     ]
    }
   ],
   "source": [
    "train = utils.image_dataset_from_directory(\"../../datasets/data/split/Zenodo/train\", image_size=(IMAGE_SIZE, IMAGE_SIZE), batch_size=BATCH_SIZE)\n",
    "val = utils.image_dataset_from_directory(\"../../datasets/data/split/Zenodo/val\", image_size=(IMAGE_SIZE, IMAGE_SIZE), batch_size=BATCH_SIZE)\n",
    "test = utils.image_dataset_from_directory(\"../../datasets/data/split/Zenodo/test\", image_size=(IMAGE_SIZE, IMAGE_SIZE), batch_size=BATCH_SIZE)"
   ]
  },
  {
   "cell_type": "markdown",
   "metadata": {},
   "source": [
    "# Defining the model"
   ]
  },
  {
   "cell_type": "code",
   "execution_count": 4,
   "metadata": {},
   "outputs": [
    {
     "name": "stdout",
     "output_type": "stream",
     "text": [
      "Model: \"model\"\n",
      "_________________________________________________________________\n",
      " Layer (type)                Output Shape              Param #   \n",
      "=================================================================\n",
      " input_1 (InputLayer)        [(None, 100, 100, 3)]     0         \n",
      "                                                                 \n",
      " rescaling (Rescaling)       (None, 100, 100, 3)       0         \n",
      "                                                                 \n",
      " conv2d (Conv2D)             (None, 98, 98, 16)        448       \n",
      "                                                                 \n",
      " max_pooling2d (MaxPooling2D  (None, 49, 49, 16)       0         \n",
      " )                                                               \n",
      "                                                                 \n",
      " conv2d_1 (Conv2D)           (None, 47, 47, 32)        4640      \n",
      "                                                                 \n",
      " max_pooling2d_1 (MaxPooling  (None, 23, 23, 32)       0         \n",
      " 2D)                                                             \n",
      "                                                                 \n",
      " conv2d_2 (Conv2D)           (None, 21, 21, 32)        9248      \n",
      "                                                                 \n",
      " global_average_pooling2d (G  (None, 32)               0         \n",
      " lobalAveragePooling2D)                                          \n",
      "                                                                 \n",
      " dropout (Dropout)           (None, 32)                0         \n",
      "                                                                 \n",
      " dense (Dense)               (None, 6)                 198       \n",
      "                                                                 \n",
      "=================================================================\n",
      "Total params: 14,534\n",
      "Trainable params: 14,534\n",
      "Non-trainable params: 0\n",
      "_________________________________________________________________\n"
     ]
    }
   ],
   "source": [
    "inputs = keras.Input(shape=(100, 100, 3))\n",
    "x = inputs\n",
    "x = layers.Rescaling(1./255)(x)\n",
    "x = layers.Conv2D(16, 3, activation='relu')(x)\n",
    "x = layers.MaxPooling2D(2)(x)\n",
    "x = layers.Conv2D(32, 3, activation='relu')(x)\n",
    "x = layers.MaxPooling2D(2)(x)\n",
    "x = layers.Conv2D(32, 3, activation='relu')(x)\n",
    "x = layers.GlobalAveragePooling2D()(x)\n",
    "x = layers.Dropout(0.5)(x)\n",
    "outputs = layers.Dense(6, activation='softmax')(x)\n",
    "\n",
    "model = keras.Model(inputs, outputs)\n",
    "\n",
    "model.compile(optimizer=keras.optimizers.RMSprop(0.001), loss='sparse_categorical_crossentropy', metrics=['accuracy'])\n",
    "\n",
    "model.summary()"
   ]
  },
  {
   "cell_type": "markdown",
   "metadata": {},
   "source": [
    "# Adding Callbacks"
   ]
  },
  {
   "cell_type": "code",
   "execution_count": 5,
   "metadata": {},
   "outputs": [],
   "source": [
    "callbacks_list = [\n",
    "    keras.callbacks.ModelCheckpoint(\n",
    "        filepath=\"../../models/zenodo/m2_small.h5\",\n",
    "        monitor=\"val_accuracy\",\n",
    "        save_best_only=True\n",
    "    )\n",
    "]"
   ]
  },
  {
   "cell_type": "markdown",
   "metadata": {},
   "source": [
    "# Running the model"
   ]
  },
  {
   "cell_type": "code",
   "execution_count": 6,
   "metadata": {},
   "outputs": [
    {
     "name": "stdout",
     "output_type": "stream",
     "text": [
      "Epoch 1/40\n"
     ]
    },
    {
     "name": "stderr",
     "output_type": "stream",
     "text": [
      "2022-08-03 12:10:51.006056: W tensorflow/core/platform/profile_utils/cpu_utils.cc:128] Failed to get CPU frequency: 0 Hz\n",
      "2022-08-03 12:10:51.006133: I tensorflow/core/grappler/optimizers/custom_graph_optimizer_registry.cc:112] Plugin optimizer for device_type GPU is enabled.\n"
     ]
    },
    {
     "name": "stdout",
     "output_type": "stream",
     "text": [
      "104/105 [============================>.] - ETA: 0s - loss: 1.7934 - accuracy: 0.1740"
     ]
    },
    {
     "name": "stderr",
     "output_type": "stream",
     "text": [
      "2022-08-03 12:10:54.273920: I tensorflow/core/grappler/optimizers/custom_graph_optimizer_registry.cc:112] Plugin optimizer for device_type GPU is enabled.\n"
     ]
    },
    {
     "name": "stdout",
     "output_type": "stream",
     "text": [
      "105/105 [==============================] - 4s 27ms/step - loss: 1.7937 - accuracy: 0.1729 - val_loss: 1.7843 - val_accuracy: 0.2208\n",
      "Epoch 2/40\n",
      "105/105 [==============================] - 3s 24ms/step - loss: 1.7751 - accuracy: 0.2143 - val_loss: 1.7451 - val_accuracy: 0.2264\n",
      "Epoch 3/40\n",
      "105/105 [==============================] - 3s 24ms/step - loss: 1.7162 - accuracy: 0.2628 - val_loss: 1.7092 - val_accuracy: 0.3111\n",
      "Epoch 4/40\n",
      "105/105 [==============================] - 2s 23ms/step - loss: 1.6449 - accuracy: 0.3077 - val_loss: 1.6154 - val_accuracy: 0.3361\n",
      "Epoch 5/40\n",
      "105/105 [==============================] - 2s 22ms/step - loss: 1.5727 - accuracy: 0.3449 - val_loss: 1.5284 - val_accuracy: 0.3861\n",
      "Epoch 6/40\n",
      "105/105 [==============================] - 2s 23ms/step - loss: 1.5036 - accuracy: 0.3830 - val_loss: 1.3896 - val_accuracy: 0.5222\n",
      "Epoch 7/40\n",
      "105/105 [==============================] - 2s 23ms/step - loss: 1.4393 - accuracy: 0.4107 - val_loss: 1.3067 - val_accuracy: 0.5653\n",
      "Epoch 8/40\n",
      "105/105 [==============================] - 2s 23ms/step - loss: 1.3832 - accuracy: 0.4408 - val_loss: 1.2386 - val_accuracy: 0.5986\n",
      "Epoch 9/40\n",
      "105/105 [==============================] - 2s 23ms/step - loss: 1.3366 - accuracy: 0.4560 - val_loss: 1.1876 - val_accuracy: 0.6111\n",
      "Epoch 10/40\n",
      "105/105 [==============================] - 2s 23ms/step - loss: 1.2988 - accuracy: 0.4696 - val_loss: 1.1454 - val_accuracy: 0.6181\n",
      "Epoch 11/40\n",
      "105/105 [==============================] - 2s 23ms/step - loss: 1.2669 - accuracy: 0.4866 - val_loss: 1.1123 - val_accuracy: 0.6278\n",
      "Epoch 12/40\n",
      "105/105 [==============================] - 2s 23ms/step - loss: 1.2386 - accuracy: 0.5003 - val_loss: 1.0857 - val_accuracy: 0.6333\n",
      "Epoch 13/40\n",
      "105/105 [==============================] - 2s 22ms/step - loss: 1.2124 - accuracy: 0.5158 - val_loss: 1.0621 - val_accuracy: 0.6306\n",
      "Epoch 14/40\n",
      "105/105 [==============================] - 2s 23ms/step - loss: 1.1875 - accuracy: 0.5280 - val_loss: 1.0404 - val_accuracy: 0.6375\n",
      "Epoch 15/40\n",
      "105/105 [==============================] - 2s 23ms/step - loss: 1.1647 - accuracy: 0.5399 - val_loss: 1.0213 - val_accuracy: 0.6444\n",
      "Epoch 16/40\n",
      "105/105 [==============================] - 2s 23ms/step - loss: 1.1439 - accuracy: 0.5494 - val_loss: 1.0035 - val_accuracy: 0.6458\n",
      "Epoch 17/40\n",
      "105/105 [==============================] - 2s 23ms/step - loss: 1.1247 - accuracy: 0.5622 - val_loss: 0.9870 - val_accuracy: 0.6528\n",
      "Epoch 18/40\n",
      "105/105 [==============================] - 2s 23ms/step - loss: 1.1065 - accuracy: 0.5741 - val_loss: 0.9720 - val_accuracy: 0.6639\n",
      "Epoch 19/40\n",
      "105/105 [==============================] - 2s 23ms/step - loss: 1.0897 - accuracy: 0.5851 - val_loss: 0.9587 - val_accuracy: 0.6667\n",
      "Epoch 20/40\n",
      "105/105 [==============================] - 2s 23ms/step - loss: 1.0739 - accuracy: 0.5920 - val_loss: 0.9462 - val_accuracy: 0.6750\n",
      "Epoch 21/40\n",
      "105/105 [==============================] - 2s 23ms/step - loss: 1.0591 - accuracy: 0.5979 - val_loss: 0.9354 - val_accuracy: 0.6833\n",
      "Epoch 22/40\n",
      "105/105 [==============================] - 2s 23ms/step - loss: 1.0448 - accuracy: 0.6039 - val_loss: 0.9250 - val_accuracy: 0.6819\n",
      "Epoch 23/40\n",
      "105/105 [==============================] - 2s 23ms/step - loss: 1.0312 - accuracy: 0.6110 - val_loss: 0.9147 - val_accuracy: 0.6861\n",
      "Epoch 24/40\n",
      "105/105 [==============================] - 2s 23ms/step - loss: 1.0181 - accuracy: 0.6170 - val_loss: 0.9072 - val_accuracy: 0.6917\n",
      "Epoch 25/40\n",
      "105/105 [==============================] - 2s 23ms/step - loss: 1.0055 - accuracy: 0.6190 - val_loss: 0.8993 - val_accuracy: 0.6917\n",
      "Epoch 26/40\n",
      "105/105 [==============================] - 2s 23ms/step - loss: 0.9930 - accuracy: 0.6238 - val_loss: 0.8913 - val_accuracy: 0.6986\n",
      "Epoch 27/40\n",
      "105/105 [==============================] - 2s 22ms/step - loss: 0.9812 - accuracy: 0.6304 - val_loss: 0.8824 - val_accuracy: 0.6972\n",
      "Epoch 28/40\n",
      "105/105 [==============================] - 2s 22ms/step - loss: 0.9696 - accuracy: 0.6378 - val_loss: 0.8743 - val_accuracy: 0.7000\n",
      "Epoch 29/40\n",
      "105/105 [==============================] - 2s 23ms/step - loss: 0.9585 - accuracy: 0.6399 - val_loss: 0.8684 - val_accuracy: 0.7014\n",
      "Epoch 30/40\n",
      "105/105 [==============================] - 2s 23ms/step - loss: 0.9475 - accuracy: 0.6440 - val_loss: 0.8609 - val_accuracy: 0.7069\n",
      "Epoch 31/40\n",
      "105/105 [==============================] - 2s 23ms/step - loss: 0.9366 - accuracy: 0.6467 - val_loss: 0.8511 - val_accuracy: 0.7069\n",
      "Epoch 32/40\n",
      "105/105 [==============================] - 2s 23ms/step - loss: 0.9262 - accuracy: 0.6512 - val_loss: 0.8405 - val_accuracy: 0.7097\n",
      "Epoch 33/40\n",
      "105/105 [==============================] - 2s 23ms/step - loss: 0.9160 - accuracy: 0.6562 - val_loss: 0.8327 - val_accuracy: 0.7181\n",
      "Epoch 34/40\n",
      "105/105 [==============================] - 2s 23ms/step - loss: 0.9062 - accuracy: 0.6610 - val_loss: 0.8255 - val_accuracy: 0.7181\n",
      "Epoch 35/40\n",
      "105/105 [==============================] - 2s 23ms/step - loss: 0.8965 - accuracy: 0.6643 - val_loss: 0.8171 - val_accuracy: 0.7194\n",
      "Epoch 36/40\n",
      "105/105 [==============================] - 2s 22ms/step - loss: 0.8871 - accuracy: 0.6655 - val_loss: 0.8089 - val_accuracy: 0.7222\n",
      "Epoch 37/40\n",
      "105/105 [==============================] - 2s 23ms/step - loss: 0.8784 - accuracy: 0.6676 - val_loss: 0.8004 - val_accuracy: 0.7194\n",
      "Epoch 38/40\n",
      "105/105 [==============================] - 2s 23ms/step - loss: 0.8697 - accuracy: 0.6708 - val_loss: 0.7915 - val_accuracy: 0.7222\n",
      "Epoch 39/40\n",
      "105/105 [==============================] - 3s 24ms/step - loss: 0.8615 - accuracy: 0.6759 - val_loss: 0.7821 - val_accuracy: 0.7292\n",
      "Epoch 40/40\n",
      "105/105 [==============================] - 2s 23ms/step - loss: 0.8538 - accuracy: 0.6804 - val_loss: 0.7731 - val_accuracy: 0.7292\n"
     ]
    }
   ],
   "source": [
    "history = model.fit(\n",
    "  train.cache(),\n",
    "  epochs=40,\n",
    "  callbacks=callbacks_list,\n",
    "  validation_data=val.cache()\n",
    ")"
   ]
  },
  {
   "cell_type": "markdown",
   "metadata": {},
   "source": [
    "# Evaluating the model"
   ]
  },
  {
   "cell_type": "code",
   "execution_count": 7,
   "metadata": {},
   "outputs": [
    {
     "name": "stdout",
     "output_type": "stream",
     "text": [
      "23/23 [==============================] - 0s 13ms/step - loss: 0.7056 - accuracy: 0.7403\n",
      "10/23 [============>.................] - ETA: 0s - loss: 0.7200 - accuracy: 0.7344"
     ]
    },
    {
     "name": "stderr",
     "output_type": "stream",
     "text": [
      "2022-08-03 12:12:28.888623: I tensorflow/core/grappler/optimizers/custom_graph_optimizer_registry.cc:112] Plugin optimizer for device_type GPU is enabled.\n"
     ]
    },
    {
     "name": "stdout",
     "output_type": "stream",
     "text": [
      "23/23 [==============================] - 0s 13ms/step - loss: 0.7147 - accuracy: 0.7347\n"
     ]
    },
    {
     "data": {
      "text/plain": [
       "[0.7147029042243958, 0.7347222566604614]"
      ]
     },
     "execution_count": 7,
     "metadata": {},
     "output_type": "execute_result"
    }
   ],
   "source": [
    "model.evaluate(test)\n",
    "\n",
    "load_model = keras.models.load_model(\"../../models/zenodo/m2_small.h5\")\n",
    "load_model.evaluate(test)"
   ]
  }
 ],
 "metadata": {
  "kernelspec": {
   "display_name": "Python 3.9.7 ('base')",
   "language": "python",
   "name": "python3"
  },
  "language_info": {
   "codemirror_mode": {
    "name": "ipython",
    "version": 3
   },
   "file_extension": ".py",
   "mimetype": "text/x-python",
   "name": "python",
   "nbconvert_exporter": "python",
   "pygments_lexer": "ipython3",
   "version": "3.9.7"
  },
  "orig_nbformat": 4,
  "vscode": {
   "interpreter": {
    "hash": "c6e4e9f98eb68ad3b7c296f83d20e6de614cb42e90992a65aa266555a3137d0d"
   }
  }
 },
 "nbformat": 4,
 "nbformat_minor": 2
}
