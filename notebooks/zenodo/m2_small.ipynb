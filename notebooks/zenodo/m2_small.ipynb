{
 "cells": [
  {
   "cell_type": "markdown",
   "metadata": {},
   "source": [
    "# Importing the libraries"
   ]
  },
  {
   "cell_type": "code",
   "execution_count": 1,
   "metadata": {},
   "outputs": [],
   "source": [
    "import tensorflow as tf\n",
    "from tensorflow.keras import layers, utils\n",
    "from tensorflow import keras\n",
    "from matplotlib import pyplot as plt\n",
    "\n",
    "import sys\n",
    "sys.path.insert(0, '../../')\n",
    "from plot_graphs import plot_loss, plot_acc"
   ]
  },
  {
   "cell_type": "markdown",
   "metadata": {},
   "source": [
    "# Setting Image and Batch Size\n"
   ]
  },
  {
   "cell_type": "code",
   "execution_count": 2,
   "metadata": {},
   "outputs": [],
   "source": [
    "IMAGE_SIZE = 100\n",
    "BATCH_SIZE = 32"
   ]
  },
  {
   "cell_type": "markdown",
   "metadata": {},
   "source": [
    "# Loading the train, val, and test data"
   ]
  },
  {
   "cell_type": "code",
   "execution_count": 3,
   "metadata": {},
   "outputs": [
    {
     "name": "stdout",
     "output_type": "stream",
     "text": [
      "Found 3360 files belonging to 6 classes.\n",
      "Metal device set to: Apple M1\n",
      "\n",
      "systemMemory: 16.00 GB\n",
      "maxCacheSize: 5.33 GB\n",
      "\n",
      "Found 720 files belonging to 6 classes.\n",
      "Found 720 files belonging to 6 classes.\n"
     ]
    },
    {
     "name": "stderr",
     "output_type": "stream",
     "text": [
      "2022-08-07 14:45:44.488790: I tensorflow/core/common_runtime/pluggable_device/pluggable_device_factory.cc:305] Could not identify NUMA node of platform GPU ID 0, defaulting to 0. Your kernel may not have been built with NUMA support.\n",
      "2022-08-07 14:45:44.488888: I tensorflow/core/common_runtime/pluggable_device/pluggable_device_factory.cc:271] Created TensorFlow device (/job:localhost/replica:0/task:0/device:GPU:0 with 0 MB memory) -> physical PluggableDevice (device: 0, name: METAL, pci bus id: <undefined>)\n"
     ]
    }
   ],
   "source": [
    "train = utils.image_dataset_from_directory(\"../../datasets/data/split/Zenodo/train\", image_size=(IMAGE_SIZE, IMAGE_SIZE), batch_size=BATCH_SIZE)\n",
    "val = utils.image_dataset_from_directory(\"../../datasets/data/split/Zenodo/val\", image_size=(IMAGE_SIZE, IMAGE_SIZE), batch_size=BATCH_SIZE)\n",
    "test = utils.image_dataset_from_directory(\"../../datasets/data/split/Zenodo/test\", image_size=(IMAGE_SIZE, IMAGE_SIZE), batch_size=BATCH_SIZE)"
   ]
  },
  {
   "cell_type": "markdown",
   "metadata": {},
   "source": [
    "# Defining the model"
   ]
  },
  {
   "cell_type": "code",
   "execution_count": 4,
   "metadata": {},
   "outputs": [
    {
     "name": "stdout",
     "output_type": "stream",
     "text": [
      "Model: \"model\"\n",
      "_________________________________________________________________\n",
      " Layer (type)                Output Shape              Param #   \n",
      "=================================================================\n",
      " input_1 (InputLayer)        [(None, 100, 100, 3)]     0         \n",
      "                                                                 \n",
      " rescaling (Rescaling)       (None, 100, 100, 3)       0         \n",
      "                                                                 \n",
      " conv2d (Conv2D)             (None, 98, 98, 16)        448       \n",
      "                                                                 \n",
      " max_pooling2d (MaxPooling2D  (None, 49, 49, 16)       0         \n",
      " )                                                               \n",
      "                                                                 \n",
      " conv2d_1 (Conv2D)           (None, 47, 47, 32)        4640      \n",
      "                                                                 \n",
      " max_pooling2d_1 (MaxPooling  (None, 23, 23, 32)       0         \n",
      " 2D)                                                             \n",
      "                                                                 \n",
      " conv2d_2 (Conv2D)           (None, 21, 21, 32)        9248      \n",
      "                                                                 \n",
      " global_average_pooling2d (G  (None, 32)               0         \n",
      " lobalAveragePooling2D)                                          \n",
      "                                                                 \n",
      " dropout (Dropout)           (None, 32)                0         \n",
      "                                                                 \n",
      " dense (Dense)               (None, 6)                 198       \n",
      "                                                                 \n",
      "=================================================================\n",
      "Total params: 14,534\n",
      "Trainable params: 14,534\n",
      "Non-trainable params: 0\n",
      "_________________________________________________________________\n"
     ]
    }
   ],
   "source": [
    "inputs = keras.Input(shape=(100, 100, 3))\n",
    "x = inputs\n",
    "x = layers.Rescaling(1./255)(x)\n",
    "x = layers.Conv2D(16, 3, activation='relu')(x)\n",
    "x = layers.MaxPooling2D(2)(x)\n",
    "x = layers.Conv2D(32, 3, activation='relu')(x)\n",
    "x = layers.MaxPooling2D(2)(x)\n",
    "x = layers.Conv2D(32, 3, activation='relu')(x)\n",
    "x = layers.GlobalAveragePooling2D()(x)\n",
    "x = layers.Dropout(0.5)(x)\n",
    "outputs = layers.Dense(6, activation='softmax')(x)\n",
    "\n",
    "model = keras.Model(inputs, outputs)\n",
    "\n",
    "model.compile(optimizer=keras.optimizers.RMSprop(0.001), loss='sparse_categorical_crossentropy', metrics=['accuracy'])\n",
    "\n",
    "model.summary()"
   ]
  },
  {
   "cell_type": "markdown",
   "metadata": {},
   "source": [
    "# Adding Callbacks"
   ]
  },
  {
   "cell_type": "code",
   "execution_count": 5,
   "metadata": {},
   "outputs": [],
   "source": [
    "callbacks_list = [\n",
    "    keras.callbacks.ModelCheckpoint(\n",
    "        filepath=\"../../models/zenodo/m2_small.h5\",\n",
    "        monitor=\"val_accuracy\",\n",
    "        save_best_only=True\n",
    "    )\n",
    "]"
   ]
  },
  {
   "cell_type": "markdown",
   "metadata": {},
   "source": [
    "# Running the model"
   ]
  },
  {
   "cell_type": "code",
   "execution_count": 6,
   "metadata": {},
   "outputs": [
    {
     "name": "stdout",
     "output_type": "stream",
     "text": [
      "Epoch 1/40\n"
     ]
    },
    {
     "name": "stderr",
     "output_type": "stream",
     "text": [
      "2022-08-07 14:45:45.097562: W tensorflow/core/platform/profile_utils/cpu_utils.cc:128] Failed to get CPU frequency: 0 Hz\n",
      "2022-08-07 14:45:45.097645: I tensorflow/core/grappler/optimizers/custom_graph_optimizer_registry.cc:112] Plugin optimizer for device_type GPU is enabled.\n"
     ]
    },
    {
     "name": "stdout",
     "output_type": "stream",
     "text": [
      "104/105 [============================>.] - ETA: 0s - loss: 1.7845 - accuracy: 0.2040"
     ]
    },
    {
     "name": "stderr",
     "output_type": "stream",
     "text": [
      "2022-08-07 14:45:47.924456: I tensorflow/core/grappler/optimizers/custom_graph_optimizer_registry.cc:112] Plugin optimizer for device_type GPU is enabled.\n"
     ]
    },
    {
     "name": "stdout",
     "output_type": "stream",
     "text": [
      "105/105 [==============================] - 3s 28ms/step - loss: 1.7840 - accuracy: 0.2042 - val_loss: 1.7531 - val_accuracy: 0.1819\n",
      "Epoch 2/40\n",
      "105/105 [==============================] - 2s 23ms/step - loss: 1.7198 - accuracy: 0.2616 - val_loss: 1.6809 - val_accuracy: 0.2736\n",
      "Epoch 3/40\n",
      "105/105 [==============================] - 3s 24ms/step - loss: 1.6351 - accuracy: 0.3196 - val_loss: 1.5787 - val_accuracy: 0.3944\n",
      "Epoch 4/40\n",
      "105/105 [==============================] - 2s 23ms/step - loss: 1.5531 - accuracy: 0.3527 - val_loss: 1.4464 - val_accuracy: 0.5028\n",
      "Epoch 5/40\n",
      "105/105 [==============================] - 2s 22ms/step - loss: 1.4870 - accuracy: 0.3893 - val_loss: 1.3587 - val_accuracy: 0.5431\n",
      "Epoch 6/40\n",
      "105/105 [==============================] - 2s 22ms/step - loss: 1.4305 - accuracy: 0.4176 - val_loss: 1.2973 - val_accuracy: 0.5431\n",
      "Epoch 7/40\n",
      "105/105 [==============================] - 2s 23ms/step - loss: 1.3819 - accuracy: 0.4432 - val_loss: 1.2480 - val_accuracy: 0.5583\n",
      "Epoch 8/40\n",
      "105/105 [==============================] - 2s 22ms/step - loss: 1.3385 - accuracy: 0.4625 - val_loss: 1.2006 - val_accuracy: 0.5806\n",
      "Epoch 9/40\n",
      "105/105 [==============================] - 2s 23ms/step - loss: 1.2993 - accuracy: 0.4807 - val_loss: 1.1631 - val_accuracy: 0.6014\n",
      "Epoch 10/40\n",
      "105/105 [==============================] - 2s 22ms/step - loss: 1.2677 - accuracy: 0.4979 - val_loss: 1.1406 - val_accuracy: 0.6097\n",
      "Epoch 11/40\n",
      "105/105 [==============================] - 2s 22ms/step - loss: 1.2302 - accuracy: 0.5140 - val_loss: 1.1047 - val_accuracy: 0.6083\n",
      "Epoch 12/40\n",
      "105/105 [==============================] - 2s 22ms/step - loss: 1.2059 - accuracy: 0.5271 - val_loss: 1.0832 - val_accuracy: 0.6181\n",
      "Epoch 13/40\n",
      "105/105 [==============================] - 2s 22ms/step - loss: 1.1852 - accuracy: 0.5336 - val_loss: 1.0639 - val_accuracy: 0.6208\n",
      "Epoch 14/40\n",
      "105/105 [==============================] - 2s 22ms/step - loss: 1.1594 - accuracy: 0.5446 - val_loss: 1.0454 - val_accuracy: 0.6292\n",
      "Epoch 15/40\n",
      "105/105 [==============================] - 2s 22ms/step - loss: 1.1367 - accuracy: 0.5443 - val_loss: 1.0335 - val_accuracy: 0.6306\n",
      "Epoch 16/40\n",
      "105/105 [==============================] - 2s 22ms/step - loss: 1.1185 - accuracy: 0.5491 - val_loss: 1.0187 - val_accuracy: 0.6417\n",
      "Epoch 17/40\n",
      "105/105 [==============================] - 2s 22ms/step - loss: 1.1038 - accuracy: 0.5560 - val_loss: 1.0038 - val_accuracy: 0.6458\n",
      "Epoch 18/40\n",
      "105/105 [==============================] - 2s 22ms/step - loss: 1.0887 - accuracy: 0.5580 - val_loss: 0.9911 - val_accuracy: 0.6486\n",
      "Epoch 19/40\n",
      "105/105 [==============================] - 2s 22ms/step - loss: 1.0735 - accuracy: 0.5682 - val_loss: 0.9769 - val_accuracy: 0.6542\n",
      "Epoch 20/40\n",
      "105/105 [==============================] - 2s 22ms/step - loss: 1.0655 - accuracy: 0.5750 - val_loss: 0.9648 - val_accuracy: 0.6639\n",
      "Epoch 21/40\n",
      "105/105 [==============================] - 2s 22ms/step - loss: 1.0504 - accuracy: 0.5839 - val_loss: 0.9549 - val_accuracy: 0.6653\n",
      "Epoch 22/40\n",
      "105/105 [==============================] - 2s 22ms/step - loss: 1.0380 - accuracy: 0.5872 - val_loss: 0.9453 - val_accuracy: 0.6625\n",
      "Epoch 23/40\n",
      "105/105 [==============================] - 2s 22ms/step - loss: 1.0264 - accuracy: 0.5949 - val_loss: 0.9380 - val_accuracy: 0.6653\n",
      "Epoch 24/40\n",
      "105/105 [==============================] - 2s 22ms/step - loss: 1.0157 - accuracy: 0.5973 - val_loss: 0.9329 - val_accuracy: 0.6639\n",
      "Epoch 25/40\n",
      "105/105 [==============================] - 2s 23ms/step - loss: 1.0062 - accuracy: 0.6015 - val_loss: 0.9247 - val_accuracy: 0.6653\n",
      "Epoch 26/40\n",
      "105/105 [==============================] - 2s 22ms/step - loss: 0.9957 - accuracy: 0.6065 - val_loss: 0.9183 - val_accuracy: 0.6764\n",
      "Epoch 27/40\n",
      "105/105 [==============================] - 2s 22ms/step - loss: 0.9856 - accuracy: 0.6110 - val_loss: 0.9116 - val_accuracy: 0.6778\n",
      "Epoch 28/40\n",
      "105/105 [==============================] - 3s 24ms/step - loss: 0.9761 - accuracy: 0.6134 - val_loss: 0.9057 - val_accuracy: 0.6792\n",
      "Epoch 29/40\n",
      "105/105 [==============================] - 2s 22ms/step - loss: 0.9669 - accuracy: 0.6190 - val_loss: 0.8979 - val_accuracy: 0.6778\n",
      "Epoch 30/40\n",
      "105/105 [==============================] - 2s 22ms/step - loss: 0.9577 - accuracy: 0.6229 - val_loss: 0.8934 - val_accuracy: 0.6792\n",
      "Epoch 31/40\n",
      "105/105 [==============================] - 2s 22ms/step - loss: 0.9490 - accuracy: 0.6241 - val_loss: 0.8888 - val_accuracy: 0.6792\n",
      "Epoch 32/40\n",
      "105/105 [==============================] - 3s 24ms/step - loss: 0.9404 - accuracy: 0.6289 - val_loss: 0.8819 - val_accuracy: 0.6875\n",
      "Epoch 33/40\n",
      "105/105 [==============================] - 2s 24ms/step - loss: 0.9318 - accuracy: 0.6313 - val_loss: 0.8744 - val_accuracy: 0.6889\n",
      "Epoch 34/40\n",
      "105/105 [==============================] - 3s 25ms/step - loss: 0.9234 - accuracy: 0.6366 - val_loss: 0.8665 - val_accuracy: 0.6958\n",
      "Epoch 35/40\n",
      "105/105 [==============================] - 2s 22ms/step - loss: 0.9141 - accuracy: 0.6435 - val_loss: 0.8710 - val_accuracy: 0.6944\n",
      "Epoch 36/40\n",
      "105/105 [==============================] - 2s 23ms/step - loss: 0.9047 - accuracy: 0.6488 - val_loss: 0.8670 - val_accuracy: 0.6944\n",
      "Epoch 37/40\n",
      "105/105 [==============================] - 3s 24ms/step - loss: 0.8976 - accuracy: 0.6548 - val_loss: 0.8569 - val_accuracy: 0.7000\n",
      "Epoch 38/40\n",
      "105/105 [==============================] - 2s 23ms/step - loss: 0.8904 - accuracy: 0.6560 - val_loss: 0.8456 - val_accuracy: 0.7056\n",
      "Epoch 39/40\n",
      "105/105 [==============================] - 3s 24ms/step - loss: 0.8820 - accuracy: 0.6571 - val_loss: 0.8365 - val_accuracy: 0.7097\n",
      "Epoch 40/40\n",
      "105/105 [==============================] - 2s 23ms/step - loss: 0.8738 - accuracy: 0.6598 - val_loss: 0.8261 - val_accuracy: 0.7097\n"
     ]
    }
   ],
   "source": [
    "history = model.fit(\n",
    "  train.cache(),\n",
    "  epochs=40,\n",
    "  callbacks=callbacks_list,\n",
    "  validation_data=val.cache()\n",
    ")"
   ]
  },
  {
   "cell_type": "markdown",
   "metadata": {},
   "source": [
    "# Evaluating the model"
   ]
  },
  {
   "cell_type": "code",
   "execution_count": 7,
   "metadata": {},
   "outputs": [
    {
     "name": "stdout",
     "output_type": "stream",
     "text": [
      " 8/23 [=========>....................] - ETA: 0s - loss: 0.8188 - accuracy: 0.6953"
     ]
    },
    {
     "name": "stderr",
     "output_type": "stream",
     "text": [
      "2022-08-07 14:47:21.925191: I tensorflow/core/grappler/optimizers/custom_graph_optimizer_registry.cc:112] Plugin optimizer for device_type GPU is enabled.\n"
     ]
    },
    {
     "name": "stdout",
     "output_type": "stream",
     "text": [
      "23/23 [==============================] - 0s 14ms/step - loss: 0.7700 - accuracy: 0.6958\n"
     ]
    },
    {
     "data": {
      "text/plain": [
       "[0.7700144052505493, 0.6958333253860474]"
      ]
     },
     "execution_count": 7,
     "metadata": {},
     "output_type": "execute_result"
    }
   ],
   "source": [
    "# model.evaluate(test)\n",
    "\n",
    "load_model = keras.models.load_model(\"../../models/zenodo/m2_small.h5\")\n",
    "load_model.evaluate(test)"
   ]
  },
  {
   "cell_type": "code",
   "execution_count": 8,
   "metadata": {},
   "outputs": [
    {
     "data": {
      "text/plain": [
       "<module 'matplotlib.pyplot' from '/opt/homebrew/Caskroom/miniforge/base/lib/python3.9/site-packages/matplotlib/pyplot.py'>"
      ]
     },
     "execution_count": 8,
     "metadata": {},
     "output_type": "execute_result"
    },
    {
     "data": {
      "image/png": "[encoded data removed]",
      "text/plain": [
       "<Figure size 432x288 with 1 Axes>"
      ]
     },
     "metadata": {
      "needs_background": "light"
     },
     "output_type": "display_data"
    }
   ],
   "source": [
    "# Plotting loss and accuracy graphs\n",
    "## Plotting loss\n",
    "plot_loss(history)\n"
   ]
  },
  {
   "cell_type": "code",
   "execution_count": 9,
   "metadata": {},
   "outputs": [
    {
     "data": {
      "text/plain": [
       "<module 'matplotlib.pyplot' from '/opt/homebrew/Caskroom/miniforge/base/lib/python3.9/site-packages/matplotlib/pyplot.py'>"
      ]
     },
     "execution_count": 9,
     "metadata": {},
     "output_type": "execute_result"
    },
    {
     "data": {
      "image/png": "[encoded data removed]",
      "text/plain": [
       "<Figure size 432x288 with 1 Axes>"
      ]
     },
     "metadata": {
      "needs_background": "light"
     },
     "output_type": "display_data"
    }
   ],
   "source": [
    "## Plotting accuracy\n",
    "plot_acc(history)"
   ]
  }
 ],
 "metadata": {
  "kernelspec": {
   "display_name": "Python 3.9.7 ('base')",
   "language": "python",
   "name": "python3"
  },
  "language_info": {
   "codemirror_mode": {
    "name": "ipython",
    "version": 3
   },
   "file_extension": ".py",
   "mimetype": "text/x-python",
   "name": "python",
   "nbconvert_exporter": "python",
   "pygments_lexer": "ipython3",
   "version": "3.9.7"
  },
  "orig_nbformat": 4,
  "vscode": {
   "interpreter": {
    "hash": "c6e4e9f98eb68ad3b7c296f83d20e6de614cb42e90992a65aa266555a3137d0d"
   }
  }
 },
 "nbformat": 4,
 "nbformat_minor": 2
}
