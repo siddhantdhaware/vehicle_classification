{
 "cells": [
  {
   "cell_type": "markdown",
   "metadata": {},
   "source": [
    "# Importing the libraries"
   ]
  },
  {
   "cell_type": "code",
   "execution_count": 1,
   "metadata": {},
   "outputs": [],
   "source": [
    "import tensorflow as tf\n",
    "from tensorflow.keras import layers, utils\n",
    "from tensorflow import keras\n",
    "from matplotlib import pyplot as plt"
   ]
  },
  {
   "cell_type": "markdown",
   "metadata": {},
   "source": [
    "# Setting Image and Batch Size"
   ]
  },
  {
   "cell_type": "code",
   "execution_count": 2,
   "metadata": {},
   "outputs": [],
   "source": [
    "IMAGE_SIZE = 100\n",
    "BATCH_SIZE = 32"
   ]
  },
  {
   "cell_type": "markdown",
   "metadata": {},
   "source": [
    "# Loading the train, val, and test data"
   ]
  },
  {
   "cell_type": "code",
   "execution_count": 3,
   "metadata": {},
   "outputs": [
    {
     "name": "stdout",
     "output_type": "stream",
     "text": [
      "Found 3360 files belonging to 6 classes.\n",
      "Metal device set to: Apple M1\n",
      "\n",
      "systemMemory: 16.00 GB\n",
      "maxCacheSize: 5.33 GB\n",
      "\n",
      "Found 720 files belonging to 6 classes.\n",
      "Found 720 files belonging to 6 classes.\n"
     ]
    },
    {
     "name": "stderr",
     "output_type": "stream",
     "text": [
      "2022-08-03 12:37:30.062540: I tensorflow/core/common_runtime/pluggable_device/pluggable_device_factory.cc:305] Could not identify NUMA node of platform GPU ID 0, defaulting to 0. Your kernel may not have been built with NUMA support.\n",
      "2022-08-03 12:37:30.062700: I tensorflow/core/common_runtime/pluggable_device/pluggable_device_factory.cc:271] Created TensorFlow device (/job:localhost/replica:0/task:0/device:GPU:0 with 0 MB memory) -> physical PluggableDevice (device: 0, name: METAL, pci bus id: <undefined>)\n"
     ]
    }
   ],
   "source": [
    "train = utils.image_dataset_from_directory(\"../../datasets/data/split/Zenodo/train\", image_size=(IMAGE_SIZE, IMAGE_SIZE), batch_size=BATCH_SIZE)\n",
    "val = utils.image_dataset_from_directory(\"../../datasets/data/split/Zenodo/val\", image_size=(IMAGE_SIZE, IMAGE_SIZE), batch_size=BATCH_SIZE)\n",
    "test = utils.image_dataset_from_directory(\"../../datasets/data/split/Zenodo/test\", image_size=(IMAGE_SIZE, IMAGE_SIZE), batch_size=BATCH_SIZE)"
   ]
  },
  {
   "cell_type": "markdown",
   "metadata": {},
   "source": [
    "# Adding augmentation layer"
   ]
  },
  {
   "cell_type": "code",
   "execution_count": 4,
   "metadata": {},
   "outputs": [],
   "source": [
    "# Using this method for M1 Mac CPU acces to run augmentation\n",
    "with tf.device('/cpu:0'):\n",
    "  data_augmentation = keras.Sequential(\n",
    "  [\n",
    "      layers.RandomFlip(\"horizontal\"),\n",
    "      layers.RandomRotation(0.1),\n",
    "      layers.RandomZoom(0.2)\n",
    "      # layers.RandomContrast(0.2),\n",
    "      # layers.RandomTranslation(height_factor=0.2,width_factor=0.3)\n",
    "  ] \n",
    "  )"
   ]
  },
  {
   "cell_type": "markdown",
   "metadata": {},
   "source": [
    "# Defining the model"
   ]
  },
  {
   "cell_type": "code",
   "execution_count": 6,
   "metadata": {},
   "outputs": [
    {
     "name": "stdout",
     "output_type": "stream",
     "text": [
      "Model: \"model_1\"\n",
      "_________________________________________________________________\n",
      " Layer (type)                Output Shape              Param #   \n",
      "=================================================================\n",
      " input_2 (InputLayer)        [(None, 100, 100, 3)]     0         \n",
      "                                                                 \n",
      " conv2d_4 (Conv2D)           (None, 98, 98, 32)        896       \n",
      "                                                                 \n",
      " max_pooling2d_3 (MaxPooling  (None, 49, 49, 32)       0         \n",
      " 2D)                                                             \n",
      "                                                                 \n",
      " conv2d_5 (Conv2D)           (None, 47, 47, 64)        18496     \n",
      "                                                                 \n",
      " max_pooling2d_4 (MaxPooling  (None, 23, 23, 64)       0         \n",
      " 2D)                                                             \n",
      "                                                                 \n",
      " conv2d_6 (Conv2D)           (None, 21, 21, 128)       73856     \n",
      "                                                                 \n",
      " max_pooling2d_5 (MaxPooling  (None, 10, 10, 128)      0         \n",
      " 2D)                                                             \n",
      "                                                                 \n",
      " conv2d_7 (Conv2D)           (None, 8, 8, 256)         295168    \n",
      "                                                                 \n",
      " global_average_pooling2d_1   (None, 256)              0         \n",
      " (GlobalAveragePooling2D)                                        \n",
      "                                                                 \n",
      " dense_2 (Dense)             (None, 256)               65792     \n",
      "                                                                 \n",
      " dropout_1 (Dropout)         (None, 256)               0         \n",
      "                                                                 \n",
      " dense_3 (Dense)             (None, 6)                 1542      \n",
      "                                                                 \n",
      "=================================================================\n",
      "Total params: 455,750\n",
      "Trainable params: 455,750\n",
      "Non-trainable params: 0\n",
      "_________________________________________________________________\n"
     ]
    }
   ],
   "source": [
    "inputs = keras.Input(shape=(100, 100, 3))\n",
    "x = inputs\n",
    "with tf.device('/cpu:0'):\n",
    "  x = data_augmentation(x)\n",
    "x = layers.Rescaling(1./255)(x)\n",
    "x = data_augmentation(x)\n",
    "x = layers.Conv2D(32, 3, activation='relu')(inputs)\n",
    "x = layers.MaxPooling2D(2)(x)\n",
    "x = layers.Conv2D(64, 3, activation='relu')(x)\n",
    "x = layers.MaxPooling2D(2)(x)\n",
    "x = layers.Conv2D(128, 3, activation='relu')(x)\n",
    "x = layers.MaxPooling2D(2)(x)\n",
    "x = layers.Conv2D(256, 3, activation='relu')(x)\n",
    "x = layers.GlobalAveragePooling2D()(x)\n",
    "x = layers.Dense(256, activation='relu')(x)\n",
    "x = layers.Dropout(0.5)(x)\n",
    "outputs = layers.Dense(6, activation='softmax')(x)\n",
    "\n",
    "model = keras.Model(inputs, outputs)\n",
    "\n",
    "model.compile(optimizer=keras.optimizers.RMSprop(0.001), loss='sparse_categorical_crossentropy', metrics=['accuracy'])\n",
    "\n",
    "model.summary()"
   ]
  },
  {
   "cell_type": "markdown",
   "metadata": {},
   "source": [
    "# Adding Callbacks"
   ]
  },
  {
   "cell_type": "code",
   "execution_count": 7,
   "metadata": {},
   "outputs": [],
   "source": [
    "callbacks_list = [\n",
    "    keras.callbacks.ModelCheckpoint(\n",
    "        filepath=\"../../models/zenodo/m4_Augmentation.h5\",\n",
    "        monitor=\"val_accuracy\",\n",
    "        save_best_only=True\n",
    "    )\n",
    "]"
   ]
  },
  {
   "cell_type": "markdown",
   "metadata": {},
   "source": [
    "# Running the model"
   ]
  },
  {
   "cell_type": "code",
   "execution_count": 8,
   "metadata": {},
   "outputs": [
    {
     "name": "stdout",
     "output_type": "stream",
     "text": [
      "Epoch 1/40\n"
     ]
    },
    {
     "name": "stderr",
     "output_type": "stream",
     "text": [
      "2022-08-03 12:38:53.864961: W tensorflow/core/platform/profile_utils/cpu_utils.cc:128] Failed to get CPU frequency: 0 Hz\n",
      "2022-08-03 12:38:53.865061: I tensorflow/core/grappler/optimizers/custom_graph_optimizer_registry.cc:112] Plugin optimizer for device_type GPU is enabled.\n"
     ]
    },
    {
     "name": "stdout",
     "output_type": "stream",
     "text": [
      "105/105 [==============================] - ETA: 0s - loss: 3.4005 - accuracy: 0.2173"
     ]
    },
    {
     "name": "stderr",
     "output_type": "stream",
     "text": [
      "2022-08-03 12:38:58.790275: I tensorflow/core/grappler/optimizers/custom_graph_optimizer_registry.cc:112] Plugin optimizer for device_type GPU is enabled.\n"
     ]
    },
    {
     "name": "stdout",
     "output_type": "stream",
     "text": [
      "105/105 [==============================] - 6s 48ms/step - loss: 3.4005 - accuracy: 0.2173 - val_loss: 1.6527 - val_accuracy: 0.3736\n",
      "Epoch 2/40\n",
      "105/105 [==============================] - 5s 48ms/step - loss: 1.7816 - accuracy: 0.3054 - val_loss: 1.5224 - val_accuracy: 0.4292\n",
      "Epoch 3/40\n",
      "105/105 [==============================] - 5s 47ms/step - loss: 1.4834 - accuracy: 0.4768 - val_loss: 0.8691 - val_accuracy: 0.7083\n",
      "Epoch 4/40\n",
      "105/105 [==============================] - 5s 44ms/step - loss: 1.1462 - accuracy: 0.6051 - val_loss: 0.6954 - val_accuracy: 0.7625\n",
      "Epoch 5/40\n",
      "105/105 [==============================] - 5s 44ms/step - loss: 0.7780 - accuracy: 0.7003 - val_loss: 0.6547 - val_accuracy: 0.7681\n",
      "Epoch 6/40\n",
      "105/105 [==============================] - 5s 44ms/step - loss: 0.5948 - accuracy: 0.7774 - val_loss: 0.4726 - val_accuracy: 0.8236\n",
      "Epoch 7/40\n",
      "105/105 [==============================] - 5s 43ms/step - loss: 0.4684 - accuracy: 0.8310 - val_loss: 0.7997 - val_accuracy: 0.7389\n",
      "Epoch 8/40\n",
      "105/105 [==============================] - 5s 44ms/step - loss: 0.3950 - accuracy: 0.8643 - val_loss: 0.3524 - val_accuracy: 0.8847\n",
      "Epoch 9/40\n",
      "105/105 [==============================] - 5s 44ms/step - loss: 0.4151 - accuracy: 0.8738 - val_loss: 0.3162 - val_accuracy: 0.8986\n",
      "Epoch 10/40\n",
      "105/105 [==============================] - 5s 44ms/step - loss: 0.2956 - accuracy: 0.9107 - val_loss: 0.3115 - val_accuracy: 0.9111\n",
      "Epoch 11/40\n",
      "105/105 [==============================] - 5s 44ms/step - loss: 0.3435 - accuracy: 0.9179 - val_loss: 0.3180 - val_accuracy: 0.9042\n",
      "Epoch 12/40\n",
      "105/105 [==============================] - 5s 43ms/step - loss: 0.3373 - accuracy: 0.9208 - val_loss: 0.3478 - val_accuracy: 0.8986\n",
      "Epoch 13/40\n",
      "105/105 [==============================] - 5s 45ms/step - loss: 0.2227 - accuracy: 0.9345 - val_loss: 0.3919 - val_accuracy: 0.9056\n",
      "Epoch 14/40\n",
      "105/105 [==============================] - 5s 45ms/step - loss: 0.2626 - accuracy: 0.9438 - val_loss: 1.0225 - val_accuracy: 0.7778\n",
      "Epoch 15/40\n",
      "105/105 [==============================] - 5s 48ms/step - loss: 0.3468 - accuracy: 0.9366 - val_loss: 0.5634 - val_accuracy: 0.8972\n",
      "Epoch 16/40\n",
      "105/105 [==============================] - 5s 45ms/step - loss: 0.3083 - accuracy: 0.9435 - val_loss: 0.4773 - val_accuracy: 0.9153\n",
      "Epoch 17/40\n",
      "105/105 [==============================] - 5s 46ms/step - loss: 0.2162 - accuracy: 0.9524 - val_loss: 0.4351 - val_accuracy: 0.9208\n",
      "Epoch 18/40\n",
      "105/105 [==============================] - 5s 46ms/step - loss: 0.3037 - accuracy: 0.9509 - val_loss: 0.7329 - val_accuracy: 0.8472\n",
      "Epoch 19/40\n",
      "105/105 [==============================] - 5s 44ms/step - loss: 0.1737 - accuracy: 0.9625 - val_loss: 0.4618 - val_accuracy: 0.9278\n",
      "Epoch 20/40\n",
      "105/105 [==============================] - 5s 44ms/step - loss: 0.2320 - accuracy: 0.9565 - val_loss: 1.0449 - val_accuracy: 0.8333\n",
      "Epoch 21/40\n",
      "105/105 [==============================] - 5s 44ms/step - loss: 0.1947 - accuracy: 0.9571 - val_loss: 0.4942 - val_accuracy: 0.8944\n",
      "Epoch 22/40\n",
      "105/105 [==============================] - 5s 44ms/step - loss: 0.2994 - accuracy: 0.9643 - val_loss: 0.4441 - val_accuracy: 0.9361\n",
      "Epoch 23/40\n",
      "105/105 [==============================] - 5s 44ms/step - loss: 0.3134 - accuracy: 0.9589 - val_loss: 0.4685 - val_accuracy: 0.9347\n",
      "Epoch 24/40\n",
      "105/105 [==============================] - 5s 44ms/step - loss: 0.2666 - accuracy: 0.9595 - val_loss: 0.5011 - val_accuracy: 0.9278\n",
      "Epoch 25/40\n",
      "105/105 [==============================] - 5s 44ms/step - loss: 0.2310 - accuracy: 0.9634 - val_loss: 1.1525 - val_accuracy: 0.8292\n",
      "Epoch 26/40\n",
      "105/105 [==============================] - 5s 44ms/step - loss: 0.2679 - accuracy: 0.9637 - val_loss: 0.4816 - val_accuracy: 0.9403\n",
      "Epoch 27/40\n",
      "105/105 [==============================] - 5s 44ms/step - loss: 0.2607 - accuracy: 0.9664 - val_loss: 0.4475 - val_accuracy: 0.9319\n",
      "Epoch 28/40\n",
      "105/105 [==============================] - 5s 44ms/step - loss: 0.2133 - accuracy: 0.9738 - val_loss: 0.7268 - val_accuracy: 0.9153\n",
      "Epoch 29/40\n",
      "105/105 [==============================] - 5s 44ms/step - loss: 0.2230 - accuracy: 0.9655 - val_loss: 1.0714 - val_accuracy: 0.9153\n",
      "Epoch 30/40\n",
      "105/105 [==============================] - 5s 44ms/step - loss: 0.2877 - accuracy: 0.9688 - val_loss: 1.1643 - val_accuracy: 0.8972\n",
      "Epoch 31/40\n",
      "105/105 [==============================] - 5s 44ms/step - loss: 0.2186 - accuracy: 0.9735 - val_loss: 1.3333 - val_accuracy: 0.8653\n",
      "Epoch 32/40\n",
      "105/105 [==============================] - 5s 44ms/step - loss: 0.2785 - accuracy: 0.9676 - val_loss: 0.4260 - val_accuracy: 0.9375\n",
      "Epoch 33/40\n",
      "105/105 [==============================] - 5s 44ms/step - loss: 0.1764 - accuracy: 0.9664 - val_loss: 0.9739 - val_accuracy: 0.9125\n",
      "Epoch 34/40\n",
      "105/105 [==============================] - 5s 44ms/step - loss: 0.2482 - accuracy: 0.9708 - val_loss: 0.7042 - val_accuracy: 0.9333\n",
      "Epoch 35/40\n",
      "105/105 [==============================] - 5s 44ms/step - loss: 0.2756 - accuracy: 0.9643 - val_loss: 0.5760 - val_accuracy: 0.9292\n",
      "Epoch 36/40\n",
      "105/105 [==============================] - 5s 44ms/step - loss: 0.2413 - accuracy: 0.9741 - val_loss: 0.6746 - val_accuracy: 0.9347\n",
      "Epoch 37/40\n",
      "105/105 [==============================] - 5s 44ms/step - loss: 0.2908 - accuracy: 0.9753 - val_loss: 1.2336 - val_accuracy: 0.8986\n",
      "Epoch 38/40\n",
      "105/105 [==============================] - 5s 44ms/step - loss: 0.2397 - accuracy: 0.9759 - val_loss: 0.8888 - val_accuracy: 0.9458\n",
      "Epoch 39/40\n",
      "105/105 [==============================] - 5s 44ms/step - loss: 0.7297 - accuracy: 0.9702 - val_loss: 1.4114 - val_accuracy: 0.8972\n",
      "Epoch 40/40\n",
      "105/105 [==============================] - 5s 44ms/step - loss: 0.2466 - accuracy: 0.9705 - val_loss: 0.6207 - val_accuracy: 0.9389\n"
     ]
    }
   ],
   "source": [
    "history = model.fit(\n",
    "  train.cache(),\n",
    "  epochs=40,\n",
    "  callbacks=callbacks_list,\n",
    "  validation_data=val.cache()\n",
    ")"
   ]
  },
  {
   "cell_type": "markdown",
   "metadata": {},
   "source": [
    "# Evaluating the model"
   ]
  },
  {
   "cell_type": "code",
   "execution_count": 9,
   "metadata": {},
   "outputs": [
    {
     "name": "stdout",
     "output_type": "stream",
     "text": [
      "23/23 [==============================] - 0s 16ms/step - loss: 0.8929 - accuracy: 0.9222\n",
      " 8/23 [=========>....................] - ETA: 0s - loss: 0.4516 - accuracy: 0.9375"
     ]
    },
    {
     "name": "stderr",
     "output_type": "stream",
     "text": [
      "2022-08-03 12:42:04.544733: I tensorflow/core/grappler/optimizers/custom_graph_optimizer_registry.cc:112] Plugin optimizer for device_type GPU is enabled.\n"
     ]
    },
    {
     "name": "stdout",
     "output_type": "stream",
     "text": [
      "23/23 [==============================] - 0s 17ms/step - loss: 0.4221 - accuracy: 0.9472\n"
     ]
    },
    {
     "data": {
      "text/plain": [
       "[0.4221227169036865, 0.9472222328186035]"
      ]
     },
     "execution_count": 9,
     "metadata": {},
     "output_type": "execute_result"
    }
   ],
   "source": [
    "\n",
    "model.evaluate(test)\n",
    "\n",
    "load_model = keras.models.load_model(\"../../models/zenodo/m4_Augmentation.h5\")\n",
    "load_model.evaluate(test)"
   ]
  }
 ],
 "metadata": {
  "kernelspec": {
   "display_name": "Python 3.9.7 ('base')",
   "language": "python",
   "name": "python3"
  },
  "language_info": {
   "codemirror_mode": {
    "name": "ipython",
    "version": 3
   },
   "file_extension": ".py",
   "mimetype": "text/x-python",
   "name": "python",
   "nbconvert_exporter": "python",
   "pygments_lexer": "ipython3",
   "version": "3.9.7"
  },
  "orig_nbformat": 4,
  "vscode": {
   "interpreter": {
    "hash": "c6e4e9f98eb68ad3b7c296f83d20e6de614cb42e90992a65aa266555a3137d0d"
   }
  }
 },
 "nbformat": 4,
 "nbformat_minor": 2
}
