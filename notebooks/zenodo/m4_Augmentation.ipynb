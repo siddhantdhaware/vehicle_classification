{
 "cells": [
  {
   "cell_type": "markdown",
   "metadata": {},
   "source": [
    "# Importing the libraries"
   ]
  },
  {
   "cell_type": "code",
   "execution_count": 19,
   "metadata": {},
   "outputs": [],
   "source": [
    "import tensorflow as tf\n",
    "from tensorflow.keras import layers, utils\n",
    "from tensorflow import keras\n",
    "from matplotlib import pyplot as plt\n",
    "\n",
    "import sys\n",
    "sys.path.insert(0, '../../')\n",
    "from plot_graphs import plot_loss, plot_acc"
   ]
  },
  {
   "cell_type": "markdown",
   "metadata": {},
   "source": [
    "# Setting Image and Batch Size"
   ]
  },
  {
   "cell_type": "code",
   "execution_count": 7,
   "metadata": {},
   "outputs": [],
   "source": [
    "IMAGE_SIZE = 100\n",
    "BATCH_SIZE = 32"
   ]
  },
  {
   "cell_type": "markdown",
   "metadata": {},
   "source": [
    "# Loading the train, val, and test data"
   ]
  },
  {
   "cell_type": "code",
   "execution_count": 8,
   "metadata": {},
   "outputs": [
    {
     "name": "stdout",
     "output_type": "stream",
     "text": [
      "Found 3360 files belonging to 6 classes.\n",
      "Found 720 files belonging to 6 classes.\n",
      "Found 720 files belonging to 6 classes.\n"
     ]
    }
   ],
   "source": [
    "train = utils.image_dataset_from_directory(\"../../datasets/data/split/Zenodo/train\", image_size=(IMAGE_SIZE, IMAGE_SIZE), batch_size=BATCH_SIZE)\n",
    "val = utils.image_dataset_from_directory(\"../../datasets/data/split/Zenodo/val\", image_size=(IMAGE_SIZE, IMAGE_SIZE), batch_size=BATCH_SIZE)\n",
    "test = utils.image_dataset_from_directory(\"../../datasets/data/split/Zenodo/test\", image_size=(IMAGE_SIZE, IMAGE_SIZE), batch_size=BATCH_SIZE)"
   ]
  },
  {
   "cell_type": "markdown",
   "metadata": {},
   "source": [
    "# Adding augmentation layer"
   ]
  },
  {
   "cell_type": "code",
   "execution_count": 10,
   "metadata": {},
   "outputs": [],
   "source": [
    "# Using this method for M1 Mac CPU acces to run augmentation\n",
    "with tf.device('/cpu:0'):\n",
    "  data_augmentation = keras.Sequential(\n",
    "  [\n",
    "      layers.RandomFlip(\"horizontal\"),\n",
    "      layers.RandomRotation(0.1),\n",
    "      layers.RandomZoom(0.2)\n",
    "      # layers.RandomContrast(0.2),\n",
    "      # layers.RandomTranslation(height_factor=0.2,width_factor=0.3)\n",
    "  ] \n",
    "  )"
   ]
  },
  {
   "cell_type": "markdown",
   "metadata": {},
   "source": [
    "# Defining the model"
   ]
  },
  {
   "cell_type": "code",
   "execution_count": 11,
   "metadata": {},
   "outputs": [
    {
     "name": "stdout",
     "output_type": "stream",
     "text": [
      "Model: \"model\"\n",
      "_________________________________________________________________\n",
      " Layer (type)                Output Shape              Param #   \n",
      "=================================================================\n",
      " input_2 (InputLayer)        [(None, 100, 100, 3)]     0         \n",
      "                                                                 \n",
      " sequential (Sequential)     (None, 100, 100, 3)       0         \n",
      "                                                                 \n",
      " rescaling_1 (Rescaling)     (None, 100, 100, 3)       0         \n",
      "                                                                 \n",
      " conv2d (Conv2D)             (None, 98, 98, 32)        896       \n",
      "                                                                 \n",
      " max_pooling2d (MaxPooling2D  (None, 49, 49, 32)       0         \n",
      " )                                                               \n",
      "                                                                 \n",
      " conv2d_1 (Conv2D)           (None, 47, 47, 64)        18496     \n",
      "                                                                 \n",
      " max_pooling2d_1 (MaxPooling  (None, 23, 23, 64)       0         \n",
      " 2D)                                                             \n",
      "                                                                 \n",
      " conv2d_2 (Conv2D)           (None, 21, 21, 128)       73856     \n",
      "                                                                 \n",
      " max_pooling2d_2 (MaxPooling  (None, 10, 10, 128)      0         \n",
      " 2D)                                                             \n",
      "                                                                 \n",
      " conv2d_3 (Conv2D)           (None, 8, 8, 256)         295168    \n",
      "                                                                 \n",
      " global_average_pooling2d (G  (None, 256)              0         \n",
      " lobalAveragePooling2D)                                          \n",
      "                                                                 \n",
      " dense (Dense)               (None, 256)               65792     \n",
      "                                                                 \n",
      " dropout (Dropout)           (None, 256)               0         \n",
      "                                                                 \n",
      " dense_1 (Dense)             (None, 6)                 1542      \n",
      "                                                                 \n",
      "=================================================================\n",
      "Total params: 455,750\n",
      "Trainable params: 455,750\n",
      "Non-trainable params: 0\n",
      "_________________________________________________________________\n"
     ]
    }
   ],
   "source": [
    "inputs = keras.Input(shape=(100, 100, 3))\n",
    "x = inputs\n",
    "with tf.device('/cpu:0'):\n",
    "  x = data_augmentation(x)\n",
    "x = layers.Rescaling(1./255)(x)\n",
    "x = layers.Conv2D(32, 3, activation='relu')(x)\n",
    "x = layers.MaxPooling2D(2)(x)\n",
    "x = layers.Conv2D(64, 3, activation='relu')(x)\n",
    "x = layers.MaxPooling2D(2)(x)\n",
    "x = layers.Conv2D(128, 3, activation='relu')(x)\n",
    "x = layers.MaxPooling2D(2)(x)\n",
    "x = layers.Conv2D(256, 3, activation='relu')(x)\n",
    "x = layers.GlobalAveragePooling2D()(x)\n",
    "x = layers.Dense(256, activation='relu')(x)\n",
    "x = layers.Dropout(0.5)(x)\n",
    "outputs = layers.Dense(6, activation='softmax')(x)\n",
    "\n",
    "model = keras.Model(inputs, outputs)\n",
    "\n",
    "model.compile(optimizer=keras.optimizers.RMSprop(0.001), loss='sparse_categorical_crossentropy', metrics=['accuracy'])\n",
    "\n",
    "model.summary()"
   ]
  },
  {
   "cell_type": "markdown",
   "metadata": {},
   "source": [
    "# Adding Callbacks"
   ]
  },
  {
   "cell_type": "code",
   "execution_count": 12,
   "metadata": {},
   "outputs": [],
   "source": [
    "callbacks_list = [\n",
    "    keras.callbacks.ModelCheckpoint(\n",
    "        filepath=\"../../models/zenodo/m4_Augmentation.h5\",\n",
    "        monitor=\"val_accuracy\",\n",
    "        save_best_only=True\n",
    "    )\n",
    "]"
   ]
  },
  {
   "cell_type": "markdown",
   "metadata": {},
   "source": [
    "# Running the model"
   ]
  },
  {
   "cell_type": "code",
   "execution_count": 13,
   "metadata": {},
   "outputs": [
    {
     "name": "stdout",
     "output_type": "stream",
     "text": [
      "Epoch 1/40\n"
     ]
    },
    {
     "name": "stderr",
     "output_type": "stream",
     "text": [
      "2022-08-04 09:32:36.492479: W tensorflow/core/platform/profile_utils/cpu_utils.cc:128] Failed to get CPU frequency: 0 Hz\n",
      "2022-08-04 09:32:36.492595: I tensorflow/core/grappler/optimizers/custom_graph_optimizer_registry.cc:112] Plugin optimizer for device_type GPU is enabled.\n"
     ]
    },
    {
     "name": "stdout",
     "output_type": "stream",
     "text": [
      "105/105 [==============================] - ETA: 0s - loss: 1.7751 - accuracy: 0.2089"
     ]
    },
    {
     "name": "stderr",
     "output_type": "stream",
     "text": [
      "2022-08-04 09:32:42.949690: I tensorflow/core/grappler/optimizers/custom_graph_optimizer_registry.cc:112] Plugin optimizer for device_type GPU is enabled.\n"
     ]
    },
    {
     "name": "stdout",
     "output_type": "stream",
     "text": [
      "105/105 [==============================] - 7s 61ms/step - loss: 1.7751 - accuracy: 0.2089 - val_loss: 1.7581 - val_accuracy: 0.3097\n",
      "Epoch 2/40\n",
      "105/105 [==============================] - 6s 57ms/step - loss: 1.6339 - accuracy: 0.3372 - val_loss: 1.6626 - val_accuracy: 0.2611\n",
      "Epoch 3/40\n",
      "105/105 [==============================] - 6s 57ms/step - loss: 1.5217 - accuracy: 0.3926 - val_loss: 1.8065 - val_accuracy: 0.2694\n",
      "Epoch 4/40\n",
      "105/105 [==============================] - 6s 57ms/step - loss: 1.4314 - accuracy: 0.4342 - val_loss: 1.4955 - val_accuracy: 0.3806\n",
      "Epoch 5/40\n",
      "105/105 [==============================] - 6s 58ms/step - loss: 1.3344 - accuracy: 0.4842 - val_loss: 1.1496 - val_accuracy: 0.4847\n",
      "Epoch 6/40\n",
      "105/105 [==============================] - 6s 57ms/step - loss: 1.2329 - accuracy: 0.5286 - val_loss: 1.6582 - val_accuracy: 0.3903\n",
      "Epoch 7/40\n",
      "105/105 [==============================] - 6s 57ms/step - loss: 1.1428 - accuracy: 0.5696 - val_loss: 1.3640 - val_accuracy: 0.4500\n",
      "Epoch 8/40\n",
      "105/105 [==============================] - 6s 57ms/step - loss: 1.1016 - accuracy: 0.5863 - val_loss: 1.5243 - val_accuracy: 0.4375\n",
      "Epoch 9/40\n",
      "105/105 [==============================] - 6s 58ms/step - loss: 1.0246 - accuracy: 0.6125 - val_loss: 1.0195 - val_accuracy: 0.5861\n",
      "Epoch 10/40\n",
      "105/105 [==============================] - 6s 58ms/step - loss: 0.9812 - accuracy: 0.6247 - val_loss: 0.9674 - val_accuracy: 0.5944\n",
      "Epoch 11/40\n",
      "105/105 [==============================] - 6s 58ms/step - loss: 0.8895 - accuracy: 0.6542 - val_loss: 0.8666 - val_accuracy: 0.6444\n",
      "Epoch 12/40\n",
      "105/105 [==============================] - 6s 58ms/step - loss: 0.8267 - accuracy: 0.6899 - val_loss: 0.7675 - val_accuracy: 0.7083\n",
      "Epoch 13/40\n",
      "105/105 [==============================] - 6s 57ms/step - loss: 0.7845 - accuracy: 0.7006 - val_loss: 1.1713 - val_accuracy: 0.5792\n",
      "Epoch 14/40\n",
      "105/105 [==============================] - 6s 58ms/step - loss: 0.7381 - accuracy: 0.7211 - val_loss: 0.7798 - val_accuracy: 0.6833\n",
      "Epoch 15/40\n",
      "105/105 [==============================] - 6s 58ms/step - loss: 0.6680 - accuracy: 0.7446 - val_loss: 1.0369 - val_accuracy: 0.5958\n",
      "Epoch 16/40\n",
      "105/105 [==============================] - 6s 58ms/step - loss: 0.6657 - accuracy: 0.7432 - val_loss: 0.6243 - val_accuracy: 0.7611\n",
      "Epoch 17/40\n",
      "105/105 [==============================] - 6s 58ms/step - loss: 0.5996 - accuracy: 0.7714 - val_loss: 0.6536 - val_accuracy: 0.7556\n",
      "Epoch 18/40\n",
      "105/105 [==============================] - 6s 59ms/step - loss: 0.5823 - accuracy: 0.7804 - val_loss: 0.7813 - val_accuracy: 0.7306\n",
      "Epoch 19/40\n",
      "105/105 [==============================] - 6s 58ms/step - loss: 0.5486 - accuracy: 0.7932 - val_loss: 0.5588 - val_accuracy: 0.7931\n",
      "Epoch 20/40\n",
      "105/105 [==============================] - 6s 59ms/step - loss: 0.5275 - accuracy: 0.7976 - val_loss: 0.4322 - val_accuracy: 0.8458\n",
      "Epoch 21/40\n",
      "105/105 [==============================] - 6s 58ms/step - loss: 0.4948 - accuracy: 0.8223 - val_loss: 0.7157 - val_accuracy: 0.7611\n",
      "Epoch 22/40\n",
      "105/105 [==============================] - 6s 58ms/step - loss: 0.4775 - accuracy: 0.8202 - val_loss: 1.0372 - val_accuracy: 0.6583\n",
      "Epoch 23/40\n",
      "105/105 [==============================] - 6s 59ms/step - loss: 0.4426 - accuracy: 0.8280 - val_loss: 1.0793 - val_accuracy: 0.6806\n",
      "Epoch 24/40\n",
      "105/105 [==============================] - 6s 58ms/step - loss: 0.4366 - accuracy: 0.8333 - val_loss: 0.6450 - val_accuracy: 0.7917\n",
      "Epoch 25/40\n",
      "105/105 [==============================] - 6s 58ms/step - loss: 0.4240 - accuracy: 0.8467 - val_loss: 1.1591 - val_accuracy: 0.6708\n",
      "Epoch 26/40\n",
      "105/105 [==============================] - 6s 58ms/step - loss: 0.3851 - accuracy: 0.8554 - val_loss: 1.0766 - val_accuracy: 0.6931\n",
      "Epoch 27/40\n",
      "105/105 [==============================] - 6s 58ms/step - loss: 0.3696 - accuracy: 0.8536 - val_loss: 0.7392 - val_accuracy: 0.7833\n",
      "Epoch 28/40\n",
      "105/105 [==============================] - 6s 58ms/step - loss: 0.3563 - accuracy: 0.8658 - val_loss: 0.7577 - val_accuracy: 0.7722\n",
      "Epoch 29/40\n",
      "105/105 [==============================] - 6s 58ms/step - loss: 0.3366 - accuracy: 0.8777 - val_loss: 0.5326 - val_accuracy: 0.8125\n",
      "Epoch 30/40\n",
      "105/105 [==============================] - 6s 57ms/step - loss: 0.3137 - accuracy: 0.8824 - val_loss: 0.4715 - val_accuracy: 0.8389\n",
      "Epoch 31/40\n",
      "105/105 [==============================] - 6s 58ms/step - loss: 0.3020 - accuracy: 0.8896 - val_loss: 0.3743 - val_accuracy: 0.8847\n",
      "Epoch 32/40\n",
      "105/105 [==============================] - 6s 58ms/step - loss: 0.3179 - accuracy: 0.8872 - val_loss: 0.8971 - val_accuracy: 0.7319\n",
      "Epoch 33/40\n",
      "105/105 [==============================] - 6s 58ms/step - loss: 0.2953 - accuracy: 0.8946 - val_loss: 0.9042 - val_accuracy: 0.7292\n",
      "Epoch 34/40\n",
      "105/105 [==============================] - 6s 58ms/step - loss: 0.2985 - accuracy: 0.8940 - val_loss: 0.5161 - val_accuracy: 0.8278\n",
      "Epoch 35/40\n",
      "105/105 [==============================] - 6s 58ms/step - loss: 0.2675 - accuracy: 0.9042 - val_loss: 0.4453 - val_accuracy: 0.8569\n",
      "Epoch 36/40\n",
      "105/105 [==============================] - 6s 58ms/step - loss: 0.2628 - accuracy: 0.9027 - val_loss: 0.4294 - val_accuracy: 0.8417\n",
      "Epoch 37/40\n",
      "105/105 [==============================] - 6s 59ms/step - loss: 0.2527 - accuracy: 0.9071 - val_loss: 0.4887 - val_accuracy: 0.8542\n",
      "Epoch 38/40\n",
      "105/105 [==============================] - 6s 61ms/step - loss: 0.2434 - accuracy: 0.9077 - val_loss: 0.8473 - val_accuracy: 0.7736\n",
      "Epoch 39/40\n",
      "105/105 [==============================] - 6s 60ms/step - loss: 0.2389 - accuracy: 0.9083 - val_loss: 0.4719 - val_accuracy: 0.8569\n",
      "Epoch 40/40\n",
      "105/105 [==============================] - 6s 60ms/step - loss: 0.2243 - accuracy: 0.9196 - val_loss: 0.7210 - val_accuracy: 0.8097\n"
     ]
    }
   ],
   "source": [
    "history = model.fit(\n",
    "  train.cache(),\n",
    "  epochs=40,\n",
    "  callbacks=callbacks_list,\n",
    "  validation_data=val.cache()\n",
    ")"
   ]
  },
  {
   "cell_type": "markdown",
   "metadata": {},
   "source": [
    "# Evaluating the model"
   ]
  },
  {
   "cell_type": "code",
   "execution_count": 14,
   "metadata": {},
   "outputs": [
    {
     "name": "stdout",
     "output_type": "stream",
     "text": [
      "23/23 [==============================] - 0s 17ms/step - loss: 0.7723 - accuracy: 0.7889\n",
      " 8/23 [=========>....................] - ETA: 0s - loss: 0.4328 - accuracy: 0.8516"
     ]
    },
    {
     "name": "stderr",
     "output_type": "stream",
     "text": [
      "2022-08-04 09:36:44.820794: I tensorflow/core/grappler/optimizers/custom_graph_optimizer_registry.cc:112] Plugin optimizer for device_type GPU is enabled.\n"
     ]
    },
    {
     "name": "stdout",
     "output_type": "stream",
     "text": [
      "23/23 [==============================] - 1s 17ms/step - loss: 0.3958 - accuracy: 0.8653\n"
     ]
    },
    {
     "data": {
      "text/plain": [
       "[0.39580008387565613, 0.8652778267860413]"
      ]
     },
     "execution_count": 14,
     "metadata": {},
     "output_type": "execute_result"
    }
   ],
   "source": [
    "\n",
    "model.evaluate(test)\n",
    "\n",
    "load_model = keras.models.load_model(\"../../models/zenodo/m4_Augmentation.h5\")\n",
    "load_model.evaluate(test)"
   ]
  },
  {
   "cell_type": "markdown",
   "metadata": {},
   "source": [
    "# Plotting loss and accuracy graphs"
   ]
  },
  {
   "cell_type": "code",
   "execution_count": 22,
   "metadata": {},
   "outputs": [
    {
     "data": {
      "image/png": "[encoded data removed]",
      "text/plain": [
       "<Figure size 432x288 with 1 Axes>"
      ]
     },
     "metadata": {
      "needs_background": "light"
     },
     "output_type": "display_data"
    },
    {
     "data": {
      "image/png": "[encoded data removed]",
      "text/plain": [
       "<Figure size 432x288 with 1 Axes>"
      ]
     },
     "metadata": {
      "needs_background": "light"
     },
     "output_type": "display_data"
    }
   ],
   "source": [
    "# Plotting loss and accuracy graphs\n",
    "## Plotting loss\n",
    "plot_loss(history)\n",
    "## Plotting accuracy\n",
    "plot_acc(history)"
   ]
  }
 ],
 "metadata": {
  "kernelspec": {
   "display_name": "Python 3.9.7 ('base')",
   "language": "python",
   "name": "python3"
  },
  "language_info": {
   "codemirror_mode": {
    "name": "ipython",
    "version": 3
   },
   "file_extension": ".py",
   "mimetype": "text/x-python",
   "name": "python",
   "nbconvert_exporter": "python",
   "pygments_lexer": "ipython3",
   "version": "3.9.7"
  },
  "orig_nbformat": 4,
  "vscode": {
   "interpreter": {
    "hash": "c6e4e9f98eb68ad3b7c296f83d20e6de614cb42e90992a65aa266555a3137d0d"
   }
  }
 },
 "nbformat": 4,
 "nbformat_minor": 2
}
