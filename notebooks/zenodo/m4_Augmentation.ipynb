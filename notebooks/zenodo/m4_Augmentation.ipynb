{
 "cells": [
  {
   "cell_type": "markdown",
   "metadata": {},
   "source": [
    "# Importing the libraries"
   ]
  },
  {
   "cell_type": "code",
   "execution_count": 1,
   "metadata": {},
   "outputs": [],
   "source": [
    "import tensorflow as tf\n",
    "from tensorflow.keras import layers, utils\n",
    "from tensorflow import keras\n",
    "from matplotlib import pyplot as plt\n",
    "\n",
    "import sys\n",
    "sys.path.insert(0, '../../')\n",
    "from plot_graphs import plot_loss, plot_acc"
   ]
  },
  {
   "cell_type": "markdown",
   "metadata": {},
   "source": [
    "# Setting Image and Batch Size"
   ]
  },
  {
   "cell_type": "code",
   "execution_count": 2,
   "metadata": {},
   "outputs": [],
   "source": [
    "IMAGE_SIZE = 100\n",
    "BATCH_SIZE = 32"
   ]
  },
  {
   "cell_type": "markdown",
   "metadata": {},
   "source": [
    "# Loading the train, val, and test data"
   ]
  },
  {
   "cell_type": "code",
   "execution_count": 3,
   "metadata": {},
   "outputs": [
    {
     "name": "stdout",
     "output_type": "stream",
     "text": [
      "Found 3360 files belonging to 6 classes.\n",
      "Metal device set to: Apple M1\n",
      "\n",
      "systemMemory: 16.00 GB\n",
      "maxCacheSize: 5.33 GB\n",
      "\n",
      "Found 720 files belonging to 6 classes.\n",
      "Found 720 files belonging to 6 classes.\n"
     ]
    },
    {
     "name": "stderr",
     "output_type": "stream",
     "text": [
      "2022-08-07 14:57:02.961530: I tensorflow/core/common_runtime/pluggable_device/pluggable_device_factory.cc:305] Could not identify NUMA node of platform GPU ID 0, defaulting to 0. Your kernel may not have been built with NUMA support.\n",
      "2022-08-07 14:57:02.961632: I tensorflow/core/common_runtime/pluggable_device/pluggable_device_factory.cc:271] Created TensorFlow device (/job:localhost/replica:0/task:0/device:GPU:0 with 0 MB memory) -> physical PluggableDevice (device: 0, name: METAL, pci bus id: <undefined>)\n"
     ]
    }
   ],
   "source": [
    "train = utils.image_dataset_from_directory(\"../../datasets/data/split/Zenodo/train\", image_size=(IMAGE_SIZE, IMAGE_SIZE), batch_size=BATCH_SIZE)\n",
    "val = utils.image_dataset_from_directory(\"../../datasets/data/split/Zenodo/val\", image_size=(IMAGE_SIZE, IMAGE_SIZE), batch_size=BATCH_SIZE)\n",
    "test = utils.image_dataset_from_directory(\"../../datasets/data/split/Zenodo/test\", image_size=(IMAGE_SIZE, IMAGE_SIZE), batch_size=BATCH_SIZE)"
   ]
  },
  {
   "cell_type": "markdown",
   "metadata": {},
   "source": [
    "# Adding augmentation layer"
   ]
  },
  {
   "cell_type": "code",
   "execution_count": 4,
   "metadata": {},
   "outputs": [],
   "source": [
    "# Using this method for M1 Mac CPU acces to run augmentation\n",
    "with tf.device('/cpu:0'):\n",
    "  data_augmentation = keras.Sequential(\n",
    "  [\n",
    "      layers.RandomFlip(\"horizontal\"),\n",
    "      layers.RandomRotation(0.1),\n",
    "      layers.RandomZoom(0.2),\n",
    "      layers.RandomContrast(0.2),\n",
    "      # layers.RandomTranslation(height_factor=0.2,width_factor=0.3)\n",
    "  ] \n",
    "  )"
   ]
  },
  {
   "cell_type": "markdown",
   "metadata": {},
   "source": [
    "# Defining the model"
   ]
  },
  {
   "cell_type": "code",
   "execution_count": 5,
   "metadata": {},
   "outputs": [
    {
     "name": "stdout",
     "output_type": "stream",
     "text": [
      "Model: \"model\"\n",
      "_________________________________________________________________\n",
      " Layer (type)                Output Shape              Param #   \n",
      "=================================================================\n",
      " input_1 (InputLayer)        [(None, 100, 100, 3)]     0         \n",
      "                                                                 \n",
      " sequential (Sequential)     (None, 100, 100, 3)       0         \n",
      "                                                                 \n",
      " rescaling (Rescaling)       (None, 100, 100, 3)       0         \n",
      "                                                                 \n",
      " conv2d (Conv2D)             (None, 98, 98, 32)        896       \n",
      "                                                                 \n",
      " max_pooling2d (MaxPooling2D  (None, 49, 49, 32)       0         \n",
      " )                                                               \n",
      "                                                                 \n",
      " conv2d_1 (Conv2D)           (None, 47, 47, 64)        18496     \n",
      "                                                                 \n",
      " max_pooling2d_1 (MaxPooling  (None, 23, 23, 64)       0         \n",
      " 2D)                                                             \n",
      "                                                                 \n",
      " conv2d_2 (Conv2D)           (None, 21, 21, 128)       73856     \n",
      "                                                                 \n",
      " max_pooling2d_2 (MaxPooling  (None, 10, 10, 128)      0         \n",
      " 2D)                                                             \n",
      "                                                                 \n",
      " conv2d_3 (Conv2D)           (None, 8, 8, 256)         295168    \n",
      "                                                                 \n",
      " global_average_pooling2d (G  (None, 256)              0         \n",
      " lobalAveragePooling2D)                                          \n",
      "                                                                 \n",
      " dense (Dense)               (None, 256)               65792     \n",
      "                                                                 \n",
      " dropout (Dropout)           (None, 256)               0         \n",
      "                                                                 \n",
      " dense_1 (Dense)             (None, 6)                 1542      \n",
      "                                                                 \n",
      "=================================================================\n",
      "Total params: 455,750\n",
      "Trainable params: 455,750\n",
      "Non-trainable params: 0\n",
      "_________________________________________________________________\n"
     ]
    }
   ],
   "source": [
    "inputs = keras.Input(shape=(100, 100, 3))\n",
    "x = inputs\n",
    "with tf.device('/cpu:0'):\n",
    "  x = data_augmentation(x)\n",
    "x = layers.Rescaling(1./255)(x)\n",
    "x = layers.Conv2D(32, 3, activation='relu')(x)\n",
    "x = layers.MaxPooling2D(2)(x)\n",
    "x = layers.Conv2D(64, 3, activation='relu')(x)\n",
    "x = layers.MaxPooling2D(2)(x)\n",
    "x = layers.Conv2D(128, 3, activation='relu')(x)\n",
    "x = layers.MaxPooling2D(2)(x)\n",
    "x = layers.Conv2D(256, 3, activation='relu')(x)\n",
    "x = layers.GlobalAveragePooling2D()(x)\n",
    "x = layers.Dense(256, activation='relu')(x)\n",
    "x = layers.Dropout(0.5)(x)\n",
    "outputs = layers.Dense(6, activation='softmax')(x)\n",
    "\n",
    "model = keras.Model(inputs, outputs)\n",
    "\n",
    "model.compile(optimizer=keras.optimizers.RMSprop(0.001), loss='sparse_categorical_crossentropy', metrics=['accuracy'])\n",
    "\n",
    "model.summary()"
   ]
  },
  {
   "cell_type": "markdown",
   "metadata": {},
   "source": [
    "# Adding Callbacks"
   ]
  },
  {
   "cell_type": "code",
   "execution_count": 6,
   "metadata": {},
   "outputs": [],
   "source": [
    "callbacks_list = [\n",
    "    keras.callbacks.ModelCheckpoint(\n",
    "        filepath=\"../../models/zenodo/m4_Augmentation.h5\",\n",
    "        monitor=\"val_accuracy\",\n",
    "        save_best_only=True\n",
    "    )\n",
    "]"
   ]
  },
  {
   "cell_type": "markdown",
   "metadata": {},
   "source": [
    "# Running the model"
   ]
  },
  {
   "cell_type": "code",
   "execution_count": 7,
   "metadata": {},
   "outputs": [
    {
     "name": "stdout",
     "output_type": "stream",
     "text": [
      "Epoch 1/40\n"
     ]
    },
    {
     "name": "stderr",
     "output_type": "stream",
     "text": [
      "2022-08-07 14:57:03.897787: W tensorflow/core/platform/profile_utils/cpu_utils.cc:128] Failed to get CPU frequency: 0 Hz\n",
      "2022-08-07 14:57:03.897912: I tensorflow/core/grappler/optimizers/custom_graph_optimizer_registry.cc:112] Plugin optimizer for device_type GPU is enabled.\n"
     ]
    },
    {
     "name": "stdout",
     "output_type": "stream",
     "text": [
      "105/105 [==============================] - ETA: 0s - loss: 1.7802 - accuracy: 0.1997"
     ]
    },
    {
     "name": "stderr",
     "output_type": "stream",
     "text": [
      "2022-08-07 14:57:11.144551: I tensorflow/core/grappler/optimizers/custom_graph_optimizer_registry.cc:112] Plugin optimizer for device_type GPU is enabled.\n"
     ]
    },
    {
     "name": "stdout",
     "output_type": "stream",
     "text": [
      "105/105 [==============================] - 8s 64ms/step - loss: 1.7802 - accuracy: 0.1997 - val_loss: 2.0597 - val_accuracy: 0.1750\n",
      "Epoch 2/40\n",
      "105/105 [==============================] - 6s 59ms/step - loss: 1.7026 - accuracy: 0.2884 - val_loss: 3.4609 - val_accuracy: 0.1903\n",
      "Epoch 3/40\n",
      "105/105 [==============================] - 6s 61ms/step - loss: 1.6060 - accuracy: 0.3631 - val_loss: 2.7750 - val_accuracy: 0.1917\n",
      "Epoch 4/40\n",
      "105/105 [==============================] - 6s 59ms/step - loss: 1.4985 - accuracy: 0.4167 - val_loss: 1.8351 - val_accuracy: 0.3319\n",
      "Epoch 5/40\n",
      "105/105 [==============================] - 6s 59ms/step - loss: 1.3765 - accuracy: 0.4577 - val_loss: 1.7125 - val_accuracy: 0.3403\n",
      "Epoch 6/40\n",
      "105/105 [==============================] - 7s 65ms/step - loss: 1.2982 - accuracy: 0.4908 - val_loss: 1.5191 - val_accuracy: 0.3861\n",
      "Epoch 7/40\n",
      "105/105 [==============================] - 7s 62ms/step - loss: 1.2328 - accuracy: 0.5226 - val_loss: 1.2138 - val_accuracy: 0.4583\n",
      "Epoch 8/40\n",
      "105/105 [==============================] - 6s 59ms/step - loss: 1.1405 - accuracy: 0.5619 - val_loss: 1.1396 - val_accuracy: 0.4889\n",
      "Epoch 9/40\n",
      "105/105 [==============================] - 6s 57ms/step - loss: 1.0604 - accuracy: 0.5845 - val_loss: 1.0354 - val_accuracy: 0.5472\n",
      "Epoch 10/40\n",
      "105/105 [==============================] - 6s 56ms/step - loss: 0.9937 - accuracy: 0.6301 - val_loss: 0.9735 - val_accuracy: 0.5875\n",
      "Epoch 11/40\n",
      "105/105 [==============================] - 6s 60ms/step - loss: 0.9159 - accuracy: 0.6458 - val_loss: 1.2407 - val_accuracy: 0.5083\n",
      "Epoch 12/40\n",
      "105/105 [==============================] - 6s 56ms/step - loss: 0.8605 - accuracy: 0.6750 - val_loss: 1.0793 - val_accuracy: 0.5708\n",
      "Epoch 13/40\n",
      "105/105 [==============================] - 6s 56ms/step - loss: 0.8116 - accuracy: 0.6848 - val_loss: 1.0056 - val_accuracy: 0.6042\n",
      "Epoch 14/40\n",
      "105/105 [==============================] - 6s 57ms/step - loss: 0.7886 - accuracy: 0.7098 - val_loss: 0.7961 - val_accuracy: 0.6722\n",
      "Epoch 15/40\n",
      "105/105 [==============================] - 6s 56ms/step - loss: 0.7174 - accuracy: 0.7259 - val_loss: 1.0737 - val_accuracy: 0.6139\n",
      "Epoch 16/40\n",
      "105/105 [==============================] - 6s 59ms/step - loss: 0.6638 - accuracy: 0.7455 - val_loss: 0.9864 - val_accuracy: 0.6444\n",
      "Epoch 17/40\n",
      "105/105 [==============================] - 6s 55ms/step - loss: 0.6346 - accuracy: 0.7661 - val_loss: 1.0851 - val_accuracy: 0.6333\n",
      "Epoch 18/40\n",
      "105/105 [==============================] - 6s 55ms/step - loss: 0.5984 - accuracy: 0.7670 - val_loss: 0.8951 - val_accuracy: 0.6681\n",
      "Epoch 19/40\n",
      "105/105 [==============================] - 6s 56ms/step - loss: 0.5793 - accuracy: 0.7845 - val_loss: 0.9199 - val_accuracy: 0.6917\n",
      "Epoch 20/40\n",
      "105/105 [==============================] - 6s 56ms/step - loss: 0.5400 - accuracy: 0.7964 - val_loss: 0.7850 - val_accuracy: 0.7486\n",
      "Epoch 21/40\n",
      "105/105 [==============================] - 6s 57ms/step - loss: 0.5163 - accuracy: 0.7991 - val_loss: 0.8275 - val_accuracy: 0.7236\n",
      "Epoch 22/40\n",
      "105/105 [==============================] - 6s 56ms/step - loss: 0.4982 - accuracy: 0.8170 - val_loss: 0.3877 - val_accuracy: 0.8569\n",
      "Epoch 23/40\n",
      "105/105 [==============================] - 6s 55ms/step - loss: 0.4825 - accuracy: 0.8262 - val_loss: 0.5265 - val_accuracy: 0.8167\n",
      "Epoch 24/40\n",
      "105/105 [==============================] - 6s 59ms/step - loss: 0.4697 - accuracy: 0.8179 - val_loss: 0.5013 - val_accuracy: 0.8083\n",
      "Epoch 25/40\n",
      "105/105 [==============================] - 7s 62ms/step - loss: 0.4310 - accuracy: 0.8381 - val_loss: 0.5887 - val_accuracy: 0.7917\n",
      "Epoch 26/40\n",
      "105/105 [==============================] - 6s 60ms/step - loss: 0.4229 - accuracy: 0.8426 - val_loss: 0.4777 - val_accuracy: 0.8444\n",
      "Epoch 27/40\n",
      "105/105 [==============================] - 6s 58ms/step - loss: 0.3954 - accuracy: 0.8571 - val_loss: 0.5732 - val_accuracy: 0.8056\n",
      "Epoch 28/40\n",
      "105/105 [==============================] - 6s 57ms/step - loss: 0.3720 - accuracy: 0.8604 - val_loss: 0.6040 - val_accuracy: 0.7972\n",
      "Epoch 29/40\n",
      "105/105 [==============================] - 6s 57ms/step - loss: 0.3688 - accuracy: 0.8649 - val_loss: 0.5073 - val_accuracy: 0.8264\n",
      "Epoch 30/40\n",
      "105/105 [==============================] - 6s 57ms/step - loss: 0.3538 - accuracy: 0.8673 - val_loss: 0.5730 - val_accuracy: 0.7958\n",
      "Epoch 31/40\n",
      "105/105 [==============================] - 6s 58ms/step - loss: 0.3304 - accuracy: 0.8708 - val_loss: 0.4990 - val_accuracy: 0.8472\n",
      "Epoch 32/40\n",
      "105/105 [==============================] - 6s 57ms/step - loss: 0.3286 - accuracy: 0.8807 - val_loss: 0.4074 - val_accuracy: 0.8542\n",
      "Epoch 33/40\n",
      "105/105 [==============================] - 6s 59ms/step - loss: 0.3037 - accuracy: 0.8899 - val_loss: 0.3969 - val_accuracy: 0.8514\n",
      "Epoch 34/40\n",
      "105/105 [==============================] - 6s 61ms/step - loss: 0.2814 - accuracy: 0.8970 - val_loss: 0.6272 - val_accuracy: 0.8167\n",
      "Epoch 35/40\n",
      "105/105 [==============================] - 6s 61ms/step - loss: 0.3003 - accuracy: 0.8905 - val_loss: 0.4851 - val_accuracy: 0.8500\n",
      "Epoch 36/40\n",
      "105/105 [==============================] - 6s 60ms/step - loss: 0.2539 - accuracy: 0.9036 - val_loss: 0.3875 - val_accuracy: 0.8750\n",
      "Epoch 37/40\n",
      "105/105 [==============================] - 6s 61ms/step - loss: 0.2614 - accuracy: 0.9086 - val_loss: 0.3577 - val_accuracy: 0.8764\n",
      "Epoch 38/40\n",
      "105/105 [==============================] - 7s 69ms/step - loss: 0.2632 - accuracy: 0.9074 - val_loss: 0.3363 - val_accuracy: 0.8972\n",
      "Epoch 39/40\n",
      "105/105 [==============================] - 6s 61ms/step - loss: 0.2496 - accuracy: 0.9110 - val_loss: 0.7144 - val_accuracy: 0.8042\n",
      "Epoch 40/40\n",
      "105/105 [==============================] - 7s 64ms/step - loss: 0.2441 - accuracy: 0.9068 - val_loss: 0.5078 - val_accuracy: 0.8347\n"
     ]
    }
   ],
   "source": [
    "history = model.fit(\n",
    "  train.cache(),\n",
    "  epochs=40,\n",
    "  callbacks=callbacks_list,\n",
    "  validation_data=val.cache()\n",
    ")"
   ]
  },
  {
   "cell_type": "markdown",
   "metadata": {},
   "source": [
    "# Evaluating the model"
   ]
  },
  {
   "cell_type": "code",
   "execution_count": 8,
   "metadata": {},
   "outputs": [
    {
     "name": "stdout",
     "output_type": "stream",
     "text": [
      " 3/23 [==>...........................] - ETA: 0s - loss: 0.2176 - accuracy: 0.9167"
     ]
    },
    {
     "name": "stderr",
     "output_type": "stream",
     "text": [
      "2022-08-07 15:01:12.851452: I tensorflow/core/grappler/optimizers/custom_graph_optimizer_registry.cc:112] Plugin optimizer for device_type GPU is enabled.\n"
     ]
    },
    {
     "name": "stdout",
     "output_type": "stream",
     "text": [
      "23/23 [==============================] - 1s 19ms/step - loss: 0.4118 - accuracy: 0.8569\n"
     ]
    },
    {
     "data": {
      "text/plain": [
       "[0.41178131103515625, 0.8569444417953491]"
      ]
     },
     "execution_count": 8,
     "metadata": {},
     "output_type": "execute_result"
    }
   ],
   "source": [
    "\n",
    "# model.evaluate(test)\n",
    "\n",
    "load_model = keras.models.load_model(\"../../models/zenodo/m4_Augmentation.h5\")\n",
    "load_model.evaluate(test)"
   ]
  },
  {
   "cell_type": "markdown",
   "metadata": {},
   "source": [
    "# Plotting loss and accuracy graphs"
   ]
  },
  {
   "cell_type": "code",
   "execution_count": 9,
   "metadata": {},
   "outputs": [
    {
     "data": {
      "text/plain": [
       "<module 'matplotlib.pyplot' from '/opt/homebrew/Caskroom/miniforge/base/lib/python3.9/site-packages/matplotlib/pyplot.py'>"
      ]
     },
     "execution_count": 9,
     "metadata": {},
     "output_type": "execute_result"
    },
    {
     "data": {
      "image/png": "[encoded data removed]",
      "text/plain": [
       "<Figure size 432x288 with 1 Axes>"
      ]
     },
     "metadata": {
      "needs_background": "light"
     },
     "output_type": "display_data"
    }
   ],
   "source": [
    "# Plotting loss and accuracy graphs\n",
    "## Plotting loss\n",
    "plot_loss(history)"
   ]
  },
  {
   "cell_type": "code",
   "execution_count": 10,
   "metadata": {},
   "outputs": [
    {
     "data": {
      "text/plain": [
       "<module 'matplotlib.pyplot' from '/opt/homebrew/Caskroom/miniforge/base/lib/python3.9/site-packages/matplotlib/pyplot.py'>"
      ]
     },
     "execution_count": 10,
     "metadata": {},
     "output_type": "execute_result"
    },
    {
     "data": {
      "image/png": "[encoded data removed]",
      "text/plain": [
       "<Figure size 432x288 with 1 Axes>"
      ]
     },
     "metadata": {
      "needs_background": "light"
     },
     "output_type": "display_data"
    }
   ],
   "source": [
    "## Plotting accuracy\n",
    "plot_acc(history)"
   ]
  }
 ],
 "metadata": {
  "kernelspec": {
   "display_name": "Python 3.9.7 ('base')",
   "language": "python",
   "name": "python3"
  },
  "language_info": {
   "codemirror_mode": {
    "name": "ipython",
    "version": 3
   },
   "file_extension": ".py",
   "mimetype": "text/x-python",
   "name": "python",
   "nbconvert_exporter": "python",
   "pygments_lexer": "ipython3",
   "version": "3.9.7"
  },
  "orig_nbformat": 4,
  "vscode": {
   "interpreter": {
    "hash": "c6e4e9f98eb68ad3b7c296f83d20e6de614cb42e90992a65aa266555a3137d0d"
   }
  }
 },
 "nbformat": 4,
 "nbformat_minor": 2
}
