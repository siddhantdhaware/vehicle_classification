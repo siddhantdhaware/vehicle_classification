{
 "cells": [
  {
   "cell_type": "markdown",
   "metadata": {},
   "source": [
    "# Importing the libraries"
   ]
  },
  {
   "cell_type": "code",
   "execution_count": 1,
   "metadata": {},
   "outputs": [],
   "source": [
    "import tensorflow as tf\n",
    "from tensorflow.keras import layers, utils\n",
    "from tensorflow import keras\n",
    "from matplotlib import pyplot as plt\n",
    "\n",
    "import sys\n",
    "sys.path.insert(0, '../../')\n",
    "from plot_graphs import plot_loss, plot_acc"
   ]
  },
  {
   "cell_type": "markdown",
   "metadata": {},
   "source": [
    "# Setting Image and Batch Size"
   ]
  },
  {
   "cell_type": "code",
   "execution_count": 2,
   "metadata": {},
   "outputs": [],
   "source": [
    "IMAGE_SIZE = 100\n",
    "BATCH_SIZE = 32"
   ]
  },
  {
   "cell_type": "markdown",
   "metadata": {},
   "source": [
    "# Loading the train, val, and test data"
   ]
  },
  {
   "cell_type": "code",
   "execution_count": 3,
   "metadata": {},
   "outputs": [
    {
     "name": "stdout",
     "output_type": "stream",
     "text": [
      "Found 3360 files belonging to 6 classes.\n",
      "Metal device set to: Apple M1\n",
      "\n",
      "systemMemory: 16.00 GB\n",
      "maxCacheSize: 5.33 GB\n",
      "\n",
      "Found 720 files belonging to 6 classes.\n",
      "Found 720 files belonging to 6 classes.\n"
     ]
    },
    {
     "name": "stderr",
     "output_type": "stream",
     "text": [
      "2022-08-03 12:51:21.472237: I tensorflow/core/common_runtime/pluggable_device/pluggable_device_factory.cc:305] Could not identify NUMA node of platform GPU ID 0, defaulting to 0. Your kernel may not have been built with NUMA support.\n",
      "2022-08-03 12:51:21.472382: I tensorflow/core/common_runtime/pluggable_device/pluggable_device_factory.cc:271] Created TensorFlow device (/job:localhost/replica:0/task:0/device:GPU:0 with 0 MB memory) -> physical PluggableDevice (device: 0, name: METAL, pci bus id: <undefined>)\n"
     ]
    }
   ],
   "source": [
    "train = utils.image_dataset_from_directory(\"../../datasets/data/split/Zenodo/train\", image_size=(IMAGE_SIZE, IMAGE_SIZE), batch_size=BATCH_SIZE)\n",
    "val = utils.image_dataset_from_directory(\"../../datasets/data/split/Zenodo/val\", image_size=(IMAGE_SIZE, IMAGE_SIZE), batch_size=BATCH_SIZE)\n",
    "test = utils.image_dataset_from_directory(\"../../datasets/data/split/Zenodo/test\", image_size=(IMAGE_SIZE, IMAGE_SIZE), batch_size=BATCH_SIZE)"
   ]
  },
  {
   "cell_type": "markdown",
   "metadata": {},
   "source": [
    "# Defining the model"
   ]
  },
  {
   "cell_type": "code",
   "execution_count": 4,
   "metadata": {},
   "outputs": [
    {
     "name": "stdout",
     "output_type": "stream",
     "text": [
      "Model: \"model\"\n",
      "_________________________________________________________________\n",
      " Layer (type)                Output Shape              Param #   \n",
      "=================================================================\n",
      " input_1 (InputLayer)        [(None, 100, 100, 3)]     0         \n",
      "                                                                 \n",
      " rescaling (Rescaling)       (None, 100, 100, 3)       0         \n",
      "                                                                 \n",
      " conv2d (Conv2D)             (None, 96, 96, 16)        1216      \n",
      "                                                                 \n",
      " max_pooling2d (MaxPooling2D  (None, 48, 48, 16)       0         \n",
      " )                                                               \n",
      "                                                                 \n",
      " conv2d_1 (Conv2D)           (None, 44, 44, 16)        6416      \n",
      "                                                                 \n",
      " max_pooling2d_1 (MaxPooling  (None, 22, 22, 16)       0         \n",
      " 2D)                                                             \n",
      "                                                                 \n",
      " max_pooling2d_2 (MaxPooling  (None, 11, 11, 16)       0         \n",
      " 2D)                                                             \n",
      "                                                                 \n",
      " max_pooling2d_3 (MaxPooling  (None, 5, 5, 16)         0         \n",
      " 2D)                                                             \n",
      "                                                                 \n",
      " flatten (Flatten)           (None, 400)               0         \n",
      "                                                                 \n",
      " dense (Dense)               (None, 16)                6416      \n",
      "                                                                 \n",
      " dropout (Dropout)           (None, 16)                0         \n",
      "                                                                 \n",
      " dense_1 (Dense)             (None, 6)                 102       \n",
      "                                                                 \n",
      "=================================================================\n",
      "Total params: 14,150\n",
      "Trainable params: 14,150\n",
      "Non-trainable params: 0\n",
      "_________________________________________________________________\n"
     ]
    }
   ],
   "source": [
    "inputs = keras.Input(shape=(100, 100, 3))\n",
    "x = inputs\n",
    "x = layers.Rescaling(1./255)(x)\n",
    "x = layers.Conv2D(16, 5, activation='relu')(x)\n",
    "x = layers.MaxPooling2D(2)(x)\n",
    "x = layers.Conv2D(16, 5, activation='relu')(x)\n",
    "x = layers.MaxPooling2D(2)(x)\n",
    "x = layers.MaxPooling2D(2)(x)\n",
    "x = layers.MaxPooling2D(2)(x)\n",
    "\n",
    "x = layers.Flatten()(x)\n",
    "\n",
    "x = layers.Dense(16, kernel_regularizer=keras.regularizers.l2(0.008), activation='relu')(x)\n",
    "\n",
    "x = layers.Dropout(0.3)(x)\n",
    "\n",
    "outputs = layers.Dense(6, activation='softmax')(x)\n",
    "\n",
    "model = keras.Model(inputs, outputs)\n",
    "\n",
    "model.compile(optimizer=keras.optimizers.RMSprop(0.001), loss='sparse_categorical_crossentropy', metrics=['accuracy'])\n",
    "\n",
    "model.summary()\n"
   ]
  },
  {
   "cell_type": "markdown",
   "metadata": {},
   "source": [
    "# Adding Callbacks"
   ]
  },
  {
   "cell_type": "code",
   "execution_count": 5,
   "metadata": {},
   "outputs": [],
   "source": [
    "callbacks_list = [\n",
    "    keras.callbacks.ModelCheckpoint(\n",
    "        filepath=\"../../models/zenodo/m5_replication_1.h5\",\n",
    "        monitor=\"val_accuracy\",\n",
    "        save_best_only=True\n",
    "    )\n",
    "]"
   ]
  },
  {
   "cell_type": "markdown",
   "metadata": {},
   "source": [
    "# Running the model"
   ]
  },
  {
   "cell_type": "code",
   "execution_count": 6,
   "metadata": {},
   "outputs": [
    {
     "name": "stdout",
     "output_type": "stream",
     "text": [
      "Epoch 1/40\n"
     ]
    },
    {
     "name": "stderr",
     "output_type": "stream",
     "text": [
      "2022-08-03 12:51:53.085554: W tensorflow/core/platform/profile_utils/cpu_utils.cc:128] Failed to get CPU frequency: 0 Hz\n",
      "2022-08-03 12:51:53.085630: I tensorflow/core/grappler/optimizers/custom_graph_optimizer_registry.cc:112] Plugin optimizer for device_type GPU is enabled.\n"
     ]
    },
    {
     "name": "stdout",
     "output_type": "stream",
     "text": [
      "104/105 [============================>.] - ETA: 0s - loss: 1.6666 - accuracy: 0.3927"
     ]
    },
    {
     "name": "stderr",
     "output_type": "stream",
     "text": [
      "2022-08-03 12:51:56.577417: I tensorflow/core/grappler/optimizers/custom_graph_optimizer_registry.cc:112] Plugin optimizer for device_type GPU is enabled.\n"
     ]
    },
    {
     "name": "stdout",
     "output_type": "stream",
     "text": [
      "105/105 [==============================] - 4s 27ms/step - loss: 1.6646 - accuracy: 0.3938 - val_loss: 1.2435 - val_accuracy: 0.6278\n",
      "Epoch 2/40\n",
      "105/105 [==============================] - 2s 23ms/step - loss: 1.2104 - accuracy: 0.5830 - val_loss: 0.9687 - val_accuracy: 0.7097\n",
      "Epoch 3/40\n",
      "105/105 [==============================] - 2s 23ms/step - loss: 1.0094 - accuracy: 0.6565 - val_loss: 0.8057 - val_accuracy: 0.7667\n",
      "Epoch 4/40\n",
      "105/105 [==============================] - 2s 23ms/step - loss: 0.8703 - accuracy: 0.7107 - val_loss: 0.6937 - val_accuracy: 0.8014\n",
      "Epoch 5/40\n",
      "105/105 [==============================] - 2s 23ms/step - loss: 0.7709 - accuracy: 0.7467 - val_loss: 0.6104 - val_accuracy: 0.8194\n",
      "Epoch 6/40\n",
      "105/105 [==============================] - 2s 23ms/step - loss: 0.6875 - accuracy: 0.7821 - val_loss: 0.5672 - val_accuracy: 0.8319\n",
      "Epoch 7/40\n",
      "105/105 [==============================] - 2s 23ms/step - loss: 0.6234 - accuracy: 0.8063 - val_loss: 0.5437 - val_accuracy: 0.8431\n",
      "Epoch 8/40\n",
      "105/105 [==============================] - 2s 23ms/step - loss: 0.5675 - accuracy: 0.8253 - val_loss: 0.5080 - val_accuracy: 0.8458\n",
      "Epoch 9/40\n",
      "105/105 [==============================] - 2s 23ms/step - loss: 0.5233 - accuracy: 0.8491 - val_loss: 0.4918 - val_accuracy: 0.8597\n",
      "Epoch 10/40\n",
      "105/105 [==============================] - 2s 23ms/step - loss: 0.4837 - accuracy: 0.8604 - val_loss: 0.4807 - val_accuracy: 0.8653\n",
      "Epoch 11/40\n",
      "105/105 [==============================] - 2s 23ms/step - loss: 0.4502 - accuracy: 0.8762 - val_loss: 0.4774 - val_accuracy: 0.8667\n",
      "Epoch 12/40\n",
      "105/105 [==============================] - 2s 23ms/step - loss: 0.4204 - accuracy: 0.8890 - val_loss: 0.4699 - val_accuracy: 0.8639\n",
      "Epoch 13/40\n",
      "105/105 [==============================] - 2s 23ms/step - loss: 0.3924 - accuracy: 0.8976 - val_loss: 0.4735 - val_accuracy: 0.8681\n",
      "Epoch 14/40\n",
      "105/105 [==============================] - 2s 23ms/step - loss: 0.3669 - accuracy: 0.9042 - val_loss: 0.4594 - val_accuracy: 0.8736\n",
      "Epoch 15/40\n",
      "105/105 [==============================] - 3s 24ms/step - loss: 0.3468 - accuracy: 0.9119 - val_loss: 0.4656 - val_accuracy: 0.8792\n",
      "Epoch 16/40\n",
      "105/105 [==============================] - 2s 23ms/step - loss: 0.3243 - accuracy: 0.9220 - val_loss: 0.4603 - val_accuracy: 0.8736\n",
      "Epoch 17/40\n",
      "105/105 [==============================] - 2s 23ms/step - loss: 0.3040 - accuracy: 0.9283 - val_loss: 0.4597 - val_accuracy: 0.8736\n",
      "Epoch 18/40\n",
      "105/105 [==============================] - 2s 23ms/step - loss: 0.2869 - accuracy: 0.9342 - val_loss: 0.4715 - val_accuracy: 0.8750\n",
      "Epoch 19/40\n",
      "105/105 [==============================] - 2s 24ms/step - loss: 0.2738 - accuracy: 0.9387 - val_loss: 0.4807 - val_accuracy: 0.8722\n",
      "Epoch 20/40\n",
      "105/105 [==============================] - 2s 23ms/step - loss: 0.2582 - accuracy: 0.9423 - val_loss: 0.4814 - val_accuracy: 0.8708\n",
      "Epoch 21/40\n",
      "105/105 [==============================] - 2s 23ms/step - loss: 0.2453 - accuracy: 0.9479 - val_loss: 0.5185 - val_accuracy: 0.8778\n",
      "Epoch 22/40\n",
      "105/105 [==============================] - 2s 23ms/step - loss: 0.2306 - accuracy: 0.9533 - val_loss: 0.5382 - val_accuracy: 0.8639\n",
      "Epoch 23/40\n",
      "105/105 [==============================] - 2s 23ms/step - loss: 0.2289 - accuracy: 0.9563 - val_loss: 0.5274 - val_accuracy: 0.8722\n",
      "Epoch 24/40\n",
      "105/105 [==============================] - 2s 23ms/step - loss: 0.2174 - accuracy: 0.9551 - val_loss: 0.6150 - val_accuracy: 0.8625\n",
      "Epoch 25/40\n",
      "105/105 [==============================] - 2s 24ms/step - loss: 0.2058 - accuracy: 0.9589 - val_loss: 0.5743 - val_accuracy: 0.8667\n",
      "Epoch 26/40\n",
      "105/105 [==============================] - 2s 23ms/step - loss: 0.2011 - accuracy: 0.9598 - val_loss: 0.5718 - val_accuracy: 0.8750\n",
      "Epoch 27/40\n",
      "105/105 [==============================] - 2s 23ms/step - loss: 0.2001 - accuracy: 0.9607 - val_loss: 0.6079 - val_accuracy: 0.8611\n",
      "Epoch 28/40\n",
      "105/105 [==============================] - 2s 23ms/step - loss: 0.1859 - accuracy: 0.9631 - val_loss: 0.5550 - val_accuracy: 0.8833\n",
      "Epoch 29/40\n",
      "105/105 [==============================] - 2s 23ms/step - loss: 0.1889 - accuracy: 0.9658 - val_loss: 0.5621 - val_accuracy: 0.8806\n",
      "Epoch 30/40\n",
      "105/105 [==============================] - 2s 23ms/step - loss: 0.1719 - accuracy: 0.9714 - val_loss: 0.5909 - val_accuracy: 0.8722\n",
      "Epoch 31/40\n",
      "105/105 [==============================] - 2s 24ms/step - loss: 0.1656 - accuracy: 0.9679 - val_loss: 0.6990 - val_accuracy: 0.8514\n",
      "Epoch 32/40\n",
      "105/105 [==============================] - 2s 23ms/step - loss: 0.1614 - accuracy: 0.9699 - val_loss: 0.7335 - val_accuracy: 0.8611\n",
      "Epoch 33/40\n",
      "105/105 [==============================] - 2s 23ms/step - loss: 0.1613 - accuracy: 0.9732 - val_loss: 0.5765 - val_accuracy: 0.8819\n",
      "Epoch 34/40\n",
      "105/105 [==============================] - 2s 23ms/step - loss: 0.1519 - accuracy: 0.9759 - val_loss: 0.5983 - val_accuracy: 0.8958\n",
      "Epoch 35/40\n",
      "105/105 [==============================] - 2s 23ms/step - loss: 0.1610 - accuracy: 0.9714 - val_loss: 0.6214 - val_accuracy: 0.8792\n",
      "Epoch 36/40\n",
      "105/105 [==============================] - 2s 23ms/step - loss: 0.1529 - accuracy: 0.9717 - val_loss: 0.5662 - val_accuracy: 0.8944\n",
      "Epoch 37/40\n",
      "105/105 [==============================] - 2s 23ms/step - loss: 0.1424 - accuracy: 0.9741 - val_loss: 0.6684 - val_accuracy: 0.8750\n",
      "Epoch 38/40\n",
      "105/105 [==============================] - 2s 24ms/step - loss: 0.1366 - accuracy: 0.9810 - val_loss: 0.5814 - val_accuracy: 0.8903\n",
      "Epoch 39/40\n",
      "105/105 [==============================] - 2s 23ms/step - loss: 0.1538 - accuracy: 0.9738 - val_loss: 0.6641 - val_accuracy: 0.8819\n",
      "Epoch 40/40\n",
      "105/105 [==============================] - 2s 24ms/step - loss: 0.1379 - accuracy: 0.9783 - val_loss: 0.5991 - val_accuracy: 0.8958\n"
     ]
    }
   ],
   "source": [
    "history = model.fit(\n",
    "  train.cache(),\n",
    "  epochs=40,\n",
    "  callbacks=callbacks_list,\n",
    "  validation_data=val.cache()\n",
    ")"
   ]
  },
  {
   "cell_type": "markdown",
   "metadata": {},
   "source": [
    "# Evaluating the model"
   ]
  },
  {
   "cell_type": "code",
   "execution_count": 7,
   "metadata": {},
   "outputs": [
    {
     "name": "stdout",
     "output_type": "stream",
     "text": [
      "23/23 [==============================] - 0s 14ms/step - loss: 0.6005 - accuracy: 0.8917\n",
      " 9/23 [==========>...................] - ETA: 0s - loss: 0.6511 - accuracy: 0.8854"
     ]
    },
    {
     "name": "stderr",
     "output_type": "stream",
     "text": [
      "2022-08-03 12:53:37.199217: I tensorflow/core/grappler/optimizers/custom_graph_optimizer_registry.cc:112] Plugin optimizer for device_type GPU is enabled.\n"
     ]
    },
    {
     "name": "stdout",
     "output_type": "stream",
     "text": [
      "23/23 [==============================] - 0s 14ms/step - loss: 0.6298 - accuracy: 0.8903\n"
     ]
    },
    {
     "data": {
      "text/plain": [
       "[0.6298269629478455, 0.8902778029441833]"
      ]
     },
     "execution_count": 7,
     "metadata": {},
     "output_type": "execute_result"
    }
   ],
   "source": [
    "model.evaluate(test)\n",
    "\n",
    "load_model = keras.models.load_model(\"../../models/zenodo/m5_replication_1.h5\")\n",
    "load_model.evaluate(test)"
   ]
  },
  {
   "cell_type": "code",
   "execution_count": null,
   "metadata": {},
   "outputs": [],
   "source": [
    "# Plotting loss and accuracy graphs\n",
    "## Plotting loss\n",
    "plot_loss(history)\n",
    "## Plotting accuracy\n",
    "plot_acc(history)"
   ]
  }
 ],
 "metadata": {
  "kernelspec": {
   "display_name": "Python 3.9.7 ('base')",
   "language": "python",
   "name": "python3"
  },
  "language_info": {
   "codemirror_mode": {
    "name": "ipython",
    "version": 3
   },
   "file_extension": ".py",
   "mimetype": "text/x-python",
   "name": "python",
   "nbconvert_exporter": "python",
   "pygments_lexer": "ipython3",
   "version": "3.9.7"
  },
  "orig_nbformat": 4,
  "vscode": {
   "interpreter": {
    "hash": "c6e4e9f98eb68ad3b7c296f83d20e6de614cb42e90992a65aa266555a3137d0d"
   }
  }
 },
 "nbformat": 4,
 "nbformat_minor": 2
}
