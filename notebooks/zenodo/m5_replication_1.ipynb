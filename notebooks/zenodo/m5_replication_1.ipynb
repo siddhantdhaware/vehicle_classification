{
 "cells": [
  {
   "cell_type": "markdown",
   "metadata": {},
   "source": [
    "# Importing the libraries"
   ]
  },
  {
   "cell_type": "code",
   "execution_count": 1,
   "metadata": {},
   "outputs": [],
   "source": [
    "import tensorflow as tf\n",
    "from tensorflow.keras import layers, utils\n",
    "from tensorflow import keras\n",
    "from matplotlib import pyplot as plt\n",
    "\n",
    "import sys\n",
    "sys.path.insert(0, '../../')\n",
    "from plot_graphs import plot_loss, plot_acc"
   ]
  },
  {
   "cell_type": "markdown",
   "metadata": {},
   "source": [
    "# Setting Image and Batch Size"
   ]
  },
  {
   "cell_type": "code",
   "execution_count": 2,
   "metadata": {},
   "outputs": [],
   "source": [
    "IMAGE_SIZE = 100\n",
    "BATCH_SIZE = 32"
   ]
  },
  {
   "cell_type": "markdown",
   "metadata": {},
   "source": [
    "# Loading the train, val, and test data"
   ]
  },
  {
   "cell_type": "code",
   "execution_count": 3,
   "metadata": {},
   "outputs": [
    {
     "name": "stdout",
     "output_type": "stream",
     "text": [
      "Found 3360 files belonging to 6 classes.\n",
      "Metal device set to: Apple M1\n",
      "\n",
      "systemMemory: 16.00 GB\n",
      "maxCacheSize: 5.33 GB\n",
      "\n",
      "Found 720 files belonging to 6 classes.\n",
      "Found 720 files belonging to 6 classes.\n"
     ]
    },
    {
     "name": "stderr",
     "output_type": "stream",
     "text": [
      "2022-08-07 15:03:49.055241: I tensorflow/core/common_runtime/pluggable_device/pluggable_device_factory.cc:305] Could not identify NUMA node of platform GPU ID 0, defaulting to 0. Your kernel may not have been built with NUMA support.\n",
      "2022-08-07 15:03:49.055370: I tensorflow/core/common_runtime/pluggable_device/pluggable_device_factory.cc:271] Created TensorFlow device (/job:localhost/replica:0/task:0/device:GPU:0 with 0 MB memory) -> physical PluggableDevice (device: 0, name: METAL, pci bus id: <undefined>)\n"
     ]
    }
   ],
   "source": [
    "train = utils.image_dataset_from_directory(\"../../datasets/data/split/Zenodo/train\", image_size=(IMAGE_SIZE, IMAGE_SIZE), batch_size=BATCH_SIZE)\n",
    "val = utils.image_dataset_from_directory(\"../../datasets/data/split/Zenodo/val\", image_size=(IMAGE_SIZE, IMAGE_SIZE), batch_size=BATCH_SIZE)\n",
    "test = utils.image_dataset_from_directory(\"../../datasets/data/split/Zenodo/test\", image_size=(IMAGE_SIZE, IMAGE_SIZE), batch_size=BATCH_SIZE)"
   ]
  },
  {
   "cell_type": "markdown",
   "metadata": {},
   "source": [
    "# Defining the model"
   ]
  },
  {
   "cell_type": "code",
   "execution_count": 4,
   "metadata": {},
   "outputs": [
    {
     "name": "stdout",
     "output_type": "stream",
     "text": [
      "Model: \"model\"\n",
      "_________________________________________________________________\n",
      " Layer (type)                Output Shape              Param #   \n",
      "=================================================================\n",
      " input_1 (InputLayer)        [(None, 100, 100, 3)]     0         \n",
      "                                                                 \n",
      " rescaling (Rescaling)       (None, 100, 100, 3)       0         \n",
      "                                                                 \n",
      " conv2d (Conv2D)             (None, 96, 96, 16)        1216      \n",
      "                                                                 \n",
      " max_pooling2d (MaxPooling2D  (None, 48, 48, 16)       0         \n",
      " )                                                               \n",
      "                                                                 \n",
      " conv2d_1 (Conv2D)           (None, 44, 44, 16)        6416      \n",
      "                                                                 \n",
      " max_pooling2d_1 (MaxPooling  (None, 22, 22, 16)       0         \n",
      " 2D)                                                             \n",
      "                                                                 \n",
      " max_pooling2d_2 (MaxPooling  (None, 11, 11, 16)       0         \n",
      " 2D)                                                             \n",
      "                                                                 \n",
      " max_pooling2d_3 (MaxPooling  (None, 5, 5, 16)         0         \n",
      " 2D)                                                             \n",
      "                                                                 \n",
      " flatten (Flatten)           (None, 400)               0         \n",
      "                                                                 \n",
      " dense (Dense)               (None, 16)                6416      \n",
      "                                                                 \n",
      " dropout (Dropout)           (None, 16)                0         \n",
      "                                                                 \n",
      " dense_1 (Dense)             (None, 6)                 102       \n",
      "                                                                 \n",
      "=================================================================\n",
      "Total params: 14,150\n",
      "Trainable params: 14,150\n",
      "Non-trainable params: 0\n",
      "_________________________________________________________________\n"
     ]
    }
   ],
   "source": [
    "inputs = keras.Input(shape=(100, 100, 3))\n",
    "x = inputs\n",
    "x = layers.Rescaling(1./255)(x)\n",
    "x = layers.Conv2D(16, 5, activation='relu')(x)\n",
    "x = layers.MaxPooling2D(2)(x)\n",
    "x = layers.Conv2D(16, 5, activation='relu')(x)\n",
    "x = layers.MaxPooling2D(2)(x)\n",
    "x = layers.MaxPooling2D(2)(x)\n",
    "x = layers.MaxPooling2D(2)(x)\n",
    "\n",
    "x = layers.Flatten()(x)\n",
    "\n",
    "x = layers.Dense(16, kernel_regularizer=keras.regularizers.l2(0.008), activation='relu')(x)\n",
    "\n",
    "x = layers.Dropout(0.3)(x)\n",
    "\n",
    "outputs = layers.Dense(6, activation='softmax')(x)\n",
    "\n",
    "model = keras.Model(inputs, outputs)\n",
    "\n",
    "model.compile(optimizer=keras.optimizers.RMSprop(0.001), loss='sparse_categorical_crossentropy', metrics=['accuracy'])\n",
    "\n",
    "model.summary()\n"
   ]
  },
  {
   "cell_type": "markdown",
   "metadata": {},
   "source": [
    "# Adding Callbacks"
   ]
  },
  {
   "cell_type": "code",
   "execution_count": 5,
   "metadata": {},
   "outputs": [],
   "source": [
    "callbacks_list = [\n",
    "    keras.callbacks.ModelCheckpoint(\n",
    "        filepath=\"../../models/zenodo/m5_replication_1.h5\",\n",
    "        monitor=\"val_accuracy\",\n",
    "        save_best_only=True\n",
    "    )\n",
    "]"
   ]
  },
  {
   "cell_type": "markdown",
   "metadata": {},
   "source": [
    "# Running the model"
   ]
  },
  {
   "cell_type": "code",
   "execution_count": 6,
   "metadata": {},
   "outputs": [
    {
     "name": "stdout",
     "output_type": "stream",
     "text": [
      "Epoch 1/40\n"
     ]
    },
    {
     "name": "stderr",
     "output_type": "stream",
     "text": [
      "2022-08-07 15:03:49.855462: W tensorflow/core/platform/profile_utils/cpu_utils.cc:128] Failed to get CPU frequency: 0 Hz\n",
      "2022-08-07 15:03:49.855536: I tensorflow/core/grappler/optimizers/custom_graph_optimizer_registry.cc:112] Plugin optimizer for device_type GPU is enabled.\n"
     ]
    },
    {
     "name": "stdout",
     "output_type": "stream",
     "text": [
      "103/105 [============================>.] - ETA: 0s - loss: 1.8518 - accuracy: 0.2081"
     ]
    },
    {
     "name": "stderr",
     "output_type": "stream",
     "text": [
      "2022-08-07 15:03:53.869800: I tensorflow/core/grappler/optimizers/custom_graph_optimizer_registry.cc:112] Plugin optimizer for device_type GPU is enabled.\n"
     ]
    },
    {
     "name": "stdout",
     "output_type": "stream",
     "text": [
      "105/105 [==============================] - 5s 29ms/step - loss: 1.8487 - accuracy: 0.2104 - val_loss: 1.6901 - val_accuracy: 0.2861\n",
      "Epoch 2/40\n",
      "105/105 [==============================] - 2s 23ms/step - loss: 1.4967 - accuracy: 0.3810 - val_loss: 1.0961 - val_accuracy: 0.6306\n",
      "Epoch 3/40\n",
      "105/105 [==============================] - 2s 24ms/step - loss: 1.1305 - accuracy: 0.5634 - val_loss: 0.8260 - val_accuracy: 0.6861\n",
      "Epoch 4/40\n",
      "105/105 [==============================] - 2s 23ms/step - loss: 0.9722 - accuracy: 0.6307 - val_loss: 0.6833 - val_accuracy: 0.7694\n",
      "Epoch 5/40\n",
      "105/105 [==============================] - 2s 24ms/step - loss: 0.8625 - accuracy: 0.6798 - val_loss: 0.6180 - val_accuracy: 0.7806\n",
      "Epoch 6/40\n",
      "105/105 [==============================] - 2s 23ms/step - loss: 0.7557 - accuracy: 0.7271 - val_loss: 0.5411 - val_accuracy: 0.8028\n",
      "Epoch 7/40\n",
      "105/105 [==============================] - 2s 23ms/step - loss: 0.6848 - accuracy: 0.7592 - val_loss: 0.5244 - val_accuracy: 0.8083\n",
      "Epoch 8/40\n",
      "105/105 [==============================] - 3s 25ms/step - loss: 0.6323 - accuracy: 0.7801 - val_loss: 0.5156 - val_accuracy: 0.8222\n",
      "Epoch 9/40\n",
      "105/105 [==============================] - 3s 24ms/step - loss: 0.5900 - accuracy: 0.7908 - val_loss: 0.4902 - val_accuracy: 0.8208\n",
      "Epoch 10/40\n",
      "105/105 [==============================] - 3s 24ms/step - loss: 0.5548 - accuracy: 0.8065 - val_loss: 0.4908 - val_accuracy: 0.8292\n",
      "Epoch 11/40\n",
      "105/105 [==============================] - 3s 25ms/step - loss: 0.5282 - accuracy: 0.8193 - val_loss: 0.4735 - val_accuracy: 0.8375\n",
      "Epoch 12/40\n",
      "105/105 [==============================] - 3s 25ms/step - loss: 0.5025 - accuracy: 0.8301 - val_loss: 0.4665 - val_accuracy: 0.8458\n",
      "Epoch 13/40\n",
      "105/105 [==============================] - 2s 23ms/step - loss: 0.4831 - accuracy: 0.8375 - val_loss: 0.4643 - val_accuracy: 0.8472\n",
      "Epoch 14/40\n",
      "105/105 [==============================] - 2s 23ms/step - loss: 0.4668 - accuracy: 0.8461 - val_loss: 0.4589 - val_accuracy: 0.8444\n",
      "Epoch 15/40\n",
      "105/105 [==============================] - 2s 24ms/step - loss: 0.4471 - accuracy: 0.8497 - val_loss: 0.4661 - val_accuracy: 0.8472\n",
      "Epoch 16/40\n",
      "105/105 [==============================] - 2s 24ms/step - loss: 0.4277 - accuracy: 0.8568 - val_loss: 0.4586 - val_accuracy: 0.8514\n",
      "Epoch 17/40\n",
      "105/105 [==============================] - 3s 26ms/step - loss: 0.4093 - accuracy: 0.8649 - val_loss: 0.4599 - val_accuracy: 0.8514\n",
      "Epoch 18/40\n",
      "105/105 [==============================] - 3s 25ms/step - loss: 0.3980 - accuracy: 0.8726 - val_loss: 0.4640 - val_accuracy: 0.8542\n",
      "Epoch 19/40\n",
      "105/105 [==============================] - 2s 24ms/step - loss: 0.3884 - accuracy: 0.8726 - val_loss: 0.4805 - val_accuracy: 0.8486\n",
      "Epoch 20/40\n",
      "105/105 [==============================] - 3s 26ms/step - loss: 0.3737 - accuracy: 0.8824 - val_loss: 0.4898 - val_accuracy: 0.8403\n",
      "Epoch 21/40\n",
      "105/105 [==============================] - 2s 23ms/step - loss: 0.3671 - accuracy: 0.8854 - val_loss: 0.4888 - val_accuracy: 0.8375\n",
      "Epoch 22/40\n",
      "105/105 [==============================] - 2s 24ms/step - loss: 0.3497 - accuracy: 0.8875 - val_loss: 0.4912 - val_accuracy: 0.8486\n",
      "Epoch 23/40\n",
      "105/105 [==============================] - 2s 24ms/step - loss: 0.3419 - accuracy: 0.8893 - val_loss: 0.4870 - val_accuracy: 0.8528\n",
      "Epoch 24/40\n",
      "105/105 [==============================] - 2s 23ms/step - loss: 0.3355 - accuracy: 0.8973 - val_loss: 0.5119 - val_accuracy: 0.8444\n",
      "Epoch 25/40\n",
      "105/105 [==============================] - 2s 23ms/step - loss: 0.3250 - accuracy: 0.8961 - val_loss: 0.5188 - val_accuracy: 0.8597\n",
      "Epoch 26/40\n",
      "105/105 [==============================] - 2s 22ms/step - loss: 0.3151 - accuracy: 0.9033 - val_loss: 0.4925 - val_accuracy: 0.8597\n",
      "Epoch 27/40\n",
      "105/105 [==============================] - 2s 22ms/step - loss: 0.3095 - accuracy: 0.9033 - val_loss: 0.5253 - val_accuracy: 0.8500\n",
      "Epoch 28/40\n",
      "105/105 [==============================] - 2s 23ms/step - loss: 0.3004 - accuracy: 0.9065 - val_loss: 0.5290 - val_accuracy: 0.8556\n",
      "Epoch 29/40\n",
      "105/105 [==============================] - 3s 25ms/step - loss: 0.2929 - accuracy: 0.9131 - val_loss: 0.5489 - val_accuracy: 0.8597\n",
      "Epoch 30/40\n",
      "105/105 [==============================] - 2s 23ms/step - loss: 0.2939 - accuracy: 0.9125 - val_loss: 0.5316 - val_accuracy: 0.8542\n",
      "Epoch 31/40\n",
      "105/105 [==============================] - 2s 22ms/step - loss: 0.2777 - accuracy: 0.9182 - val_loss: 0.5411 - val_accuracy: 0.8625\n",
      "Epoch 32/40\n",
      "105/105 [==============================] - 2s 22ms/step - loss: 0.2774 - accuracy: 0.9185 - val_loss: 0.6381 - val_accuracy: 0.8431\n",
      "Epoch 33/40\n",
      "105/105 [==============================] - 2s 22ms/step - loss: 0.2688 - accuracy: 0.9229 - val_loss: 0.6418 - val_accuracy: 0.8514\n",
      "Epoch 34/40\n",
      "105/105 [==============================] - 3s 24ms/step - loss: 0.2690 - accuracy: 0.9196 - val_loss: 0.6041 - val_accuracy: 0.8611\n",
      "Epoch 35/40\n",
      "105/105 [==============================] - 2s 22ms/step - loss: 0.2553 - accuracy: 0.9286 - val_loss: 0.6053 - val_accuracy: 0.8625\n",
      "Epoch 36/40\n",
      "105/105 [==============================] - 2s 23ms/step - loss: 0.2558 - accuracy: 0.9277 - val_loss: 0.6494 - val_accuracy: 0.8569\n",
      "Epoch 37/40\n",
      "105/105 [==============================] - 2s 23ms/step - loss: 0.2478 - accuracy: 0.9315 - val_loss: 0.6343 - val_accuracy: 0.8569\n",
      "Epoch 38/40\n",
      "105/105 [==============================] - 2s 22ms/step - loss: 0.2441 - accuracy: 0.9342 - val_loss: 0.6388 - val_accuracy: 0.8583\n",
      "Epoch 39/40\n",
      "105/105 [==============================] - 2s 22ms/step - loss: 0.2368 - accuracy: 0.9378 - val_loss: 0.6575 - val_accuracy: 0.8556\n",
      "Epoch 40/40\n",
      "105/105 [==============================] - 2s 23ms/step - loss: 0.2373 - accuracy: 0.9375 - val_loss: 0.6075 - val_accuracy: 0.8625\n"
     ]
    }
   ],
   "source": [
    "history = model.fit(\n",
    "  train.cache(),\n",
    "  epochs=40,\n",
    "  callbacks=callbacks_list,\n",
    "  validation_data=val.cache()\n",
    ")"
   ]
  },
  {
   "cell_type": "markdown",
   "metadata": {},
   "source": [
    "# Evaluating the model"
   ]
  },
  {
   "cell_type": "code",
   "execution_count": 7,
   "metadata": {},
   "outputs": [
    {
     "name": "stdout",
     "output_type": "stream",
     "text": [
      " 8/23 [=========>....................] - ETA: 0s - loss: 0.5495 - accuracy: 0.8555"
     ]
    },
    {
     "name": "stderr",
     "output_type": "stream",
     "text": [
      "2022-08-07 15:05:30.695372: I tensorflow/core/grappler/optimizers/custom_graph_optimizer_registry.cc:112] Plugin optimizer for device_type GPU is enabled.\n"
     ]
    },
    {
     "name": "stdout",
     "output_type": "stream",
     "text": [
      "23/23 [==============================] - 0s 14ms/step - loss: 0.5123 - accuracy: 0.8639\n"
     ]
    },
    {
     "data": {
      "text/plain": [
       "[0.5122581124305725, 0.8638889193534851]"
      ]
     },
     "execution_count": 7,
     "metadata": {},
     "output_type": "execute_result"
    }
   ],
   "source": [
    "# model.evaluate(test)\n",
    "\n",
    "load_model = keras.models.load_model(\"../../models/zenodo/m5_replication_1.h5\")\n",
    "load_model.evaluate(test)"
   ]
  },
  {
   "cell_type": "code",
   "execution_count": 8,
   "metadata": {},
   "outputs": [
    {
     "data": {
      "text/plain": [
       "<module 'matplotlib.pyplot' from '/opt/homebrew/Caskroom/miniforge/base/lib/python3.9/site-packages/matplotlib/pyplot.py'>"
      ]
     },
     "execution_count": 8,
     "metadata": {},
     "output_type": "execute_result"
    },
    {
     "data": {
      "image/png": "[encoded data removed]",
      "text/plain": [
       "<Figure size 432x288 with 1 Axes>"
      ]
     },
     "metadata": {
      "needs_background": "light"
     },
     "output_type": "display_data"
    }
   ],
   "source": [
    "# Plotting loss and accuracy graphs\n",
    "## Plotting loss\n",
    "plot_loss(history)\n"
   ]
  },
  {
   "cell_type": "code",
   "execution_count": 9,
   "metadata": {},
   "outputs": [
    {
     "data": {
      "text/plain": [
       "<module 'matplotlib.pyplot' from '/opt/homebrew/Caskroom/miniforge/base/lib/python3.9/site-packages/matplotlib/pyplot.py'>"
      ]
     },
     "execution_count": 9,
     "metadata": {},
     "output_type": "execute_result"
    },
    {
     "data": {
      "image/png": "[encoded data removed]",
      "text/plain": [
       "<Figure size 432x288 with 1 Axes>"
      ]
     },
     "metadata": {
      "needs_background": "light"
     },
     "output_type": "display_data"
    }
   ],
   "source": [
    "## Plotting accuracy\n",
    "plot_acc(history)"
   ]
  }
 ],
 "metadata": {
  "kernelspec": {
   "display_name": "Python 3.9.7 ('base')",
   "language": "python",
   "name": "python3"
  },
  "language_info": {
   "codemirror_mode": {
    "name": "ipython",
    "version": 3
   },
   "file_extension": ".py",
   "mimetype": "text/x-python",
   "name": "python",
   "nbconvert_exporter": "python",
   "pygments_lexer": "ipython3",
   "version": "3.9.7"
  },
  "orig_nbformat": 4,
  "vscode": {
   "interpreter": {
    "hash": "c6e4e9f98eb68ad3b7c296f83d20e6de614cb42e90992a65aa266555a3137d0d"
   }
  }
 },
 "nbformat": 4,
 "nbformat_minor": 2
}
