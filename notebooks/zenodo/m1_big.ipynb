{
 "cells": [
  {
   "cell_type": "markdown",
   "metadata": {},
   "source": [
    "# Importing the libraries"
   ]
  },
  {
   "cell_type": "code",
   "execution_count": 1,
   "metadata": {},
   "outputs": [],
   "source": [
    "import tensorflow as tf\n",
    "from tensorflow.keras import layers, utils\n",
    "from tensorflow import keras\n",
    "from matplotlib import pyplot as plt\n",
    "\n",
    "import sys\n",
    "sys.path.insert(0, '../../')\n",
    "from plot_graphs import plot_loss, plot_acc"
   ]
  },
  {
   "cell_type": "markdown",
   "metadata": {},
   "source": [
    "# Setting Image and Batch Size"
   ]
  },
  {
   "cell_type": "code",
   "execution_count": 2,
   "metadata": {},
   "outputs": [],
   "source": [
    "IMAGE_SIZE = 100\n",
    "BATCH_SIZE = 32"
   ]
  },
  {
   "cell_type": "markdown",
   "metadata": {},
   "source": [
    "# Loading the train, val, and test data"
   ]
  },
  {
   "cell_type": "code",
   "execution_count": 3,
   "metadata": {},
   "outputs": [
    {
     "name": "stdout",
     "output_type": "stream",
     "text": [
      "Found 3360 files belonging to 6 classes.\n",
      "Metal device set to: Apple M1\n",
      "\n",
      "systemMemory: 16.00 GB\n",
      "maxCacheSize: 5.33 GB\n",
      "\n",
      "Found 720 files belonging to 6 classes.\n",
      "Found 720 files belonging to 6 classes.\n"
     ]
    },
    {
     "name": "stderr",
     "output_type": "stream",
     "text": [
      "2022-08-07 14:29:36.882099: I tensorflow/core/common_runtime/pluggable_device/pluggable_device_factory.cc:305] Could not identify NUMA node of platform GPU ID 0, defaulting to 0. Your kernel may not have been built with NUMA support.\n",
      "2022-08-07 14:29:36.882193: I tensorflow/core/common_runtime/pluggable_device/pluggable_device_factory.cc:271] Created TensorFlow device (/job:localhost/replica:0/task:0/device:GPU:0 with 0 MB memory) -> physical PluggableDevice (device: 0, name: METAL, pci bus id: <undefined>)\n"
     ]
    }
   ],
   "source": [
    "train = utils.image_dataset_from_directory(\"../../datasets/data/split/Zenodo/train\", image_size=(IMAGE_SIZE, IMAGE_SIZE), batch_size=BATCH_SIZE)\n",
    "val = utils.image_dataset_from_directory(\"../../datasets/data/split/Zenodo/val\", image_size=(IMAGE_SIZE, IMAGE_SIZE), batch_size=BATCH_SIZE)\n",
    "test = utils.image_dataset_from_directory(\"../../datasets/data/split/Zenodo/test\", image_size=(IMAGE_SIZE, IMAGE_SIZE), batch_size=BATCH_SIZE)\n"
   ]
  },
  {
   "cell_type": "markdown",
   "metadata": {},
   "source": [
    "# Defining the model"
   ]
  },
  {
   "cell_type": "code",
   "execution_count": 4,
   "metadata": {},
   "outputs": [
    {
     "name": "stdout",
     "output_type": "stream",
     "text": [
      "Model: \"model\"\n",
      "_________________________________________________________________\n",
      " Layer (type)                Output Shape              Param #   \n",
      "=================================================================\n",
      " input_1 (InputLayer)        [(None, 100, 100, 3)]     0         \n",
      "                                                                 \n",
      " rescaling (Rescaling)       (None, 100, 100, 3)       0         \n",
      "                                                                 \n",
      " conv2d (Conv2D)             (None, 98, 98, 32)        896       \n",
      "                                                                 \n",
      " conv2d_1 (Conv2D)           (None, 96, 96, 32)        9248      \n",
      "                                                                 \n",
      " conv2d_2 (Conv2D)           (None, 94, 94, 32)        9248      \n",
      "                                                                 \n",
      " max_pooling2d (MaxPooling2D  (None, 47, 47, 32)       0         \n",
      " )                                                               \n",
      "                                                                 \n",
      " conv2d_3 (Conv2D)           (None, 45, 45, 64)        18496     \n",
      "                                                                 \n",
      " conv2d_4 (Conv2D)           (None, 43, 43, 64)        36928     \n",
      "                                                                 \n",
      " max_pooling2d_1 (MaxPooling  (None, 21, 21, 64)       0         \n",
      " 2D)                                                             \n",
      "                                                                 \n",
      " conv2d_5 (Conv2D)           (None, 19, 19, 128)       73856     \n",
      "                                                                 \n",
      " conv2d_6 (Conv2D)           (None, 17, 17, 128)       147584    \n",
      "                                                                 \n",
      " max_pooling2d_2 (MaxPooling  (None, 8, 8, 128)        0         \n",
      " 2D)                                                             \n",
      "                                                                 \n",
      " conv2d_7 (Conv2D)           (None, 6, 6, 256)         295168    \n",
      "                                                                 \n",
      " conv2d_8 (Conv2D)           (None, 4, 4, 256)         590080    \n",
      "                                                                 \n",
      " global_average_pooling2d (G  (None, 256)              0         \n",
      " lobalAveragePooling2D)                                          \n",
      "                                                                 \n",
      " dense (Dense)               (None, 256)               65792     \n",
      "                                                                 \n",
      " dropout (Dropout)           (None, 256)               0         \n",
      "                                                                 \n",
      " dense_1 (Dense)             (None, 6)                 1542      \n",
      "                                                                 \n",
      "=================================================================\n",
      "Total params: 1,248,838\n",
      "Trainable params: 1,248,838\n",
      "Non-trainable params: 0\n",
      "_________________________________________________________________\n"
     ]
    }
   ],
   "source": [
    "inputs = keras.Input(shape=(100, 100, 3))\n",
    "x = inputs\n",
    "x = layers.Rescaling(1./255)(x)\n",
    "x = layers.Conv2D(32, 3, activation='relu')(x)\n",
    "x = layers.Conv2D(32, 3, activation='relu')(x)\n",
    "x = layers.Conv2D(32, 3, activation='relu')(x)\n",
    "x = layers.MaxPooling2D(2)(x)\n",
    "x = layers.Conv2D(64, 3, activation='relu')(x)\n",
    "x = layers.Conv2D(64, 3, activation='relu')(x)\n",
    "x = layers.MaxPooling2D(2)(x)\n",
    "x = layers.Conv2D(128, 3, activation='relu')(x)\n",
    "x = layers.Conv2D(128, 3, activation='relu')(x)\n",
    "x = layers.MaxPooling2D(2)(x)\n",
    "x = layers.Conv2D(256, 3, activation='relu')(x)\n",
    "x = layers.Conv2D(256, 3, activation='relu')(x)\n",
    "x = layers.GlobalAveragePooling2D()(x)\n",
    "x = layers.Dense(256, activation='relu')(x)\n",
    "x = layers.Dropout(0.5)(x)\n",
    "outputs = layers.Dense(6, activation='softmax')(x)\n",
    "\n",
    "model = keras.Model(inputs, outputs)\n",
    "\n",
    "model.compile(optimizer=keras.optimizers.RMSprop(0.001), loss='sparse_categorical_crossentropy', metrics=['accuracy'])\n",
    "\n",
    "model.summary()"
   ]
  },
  {
   "cell_type": "markdown",
   "metadata": {},
   "source": [
    "# Adding Callbacks"
   ]
  },
  {
   "cell_type": "code",
   "execution_count": 5,
   "metadata": {},
   "outputs": [],
   "source": [
    "callbacks_list = [\n",
    "    keras.callbacks.ModelCheckpoint(\n",
    "        filepath=\"../../models/zenodo/m1_big.h5\",\n",
    "        monitor=\"val_accuracy\",\n",
    "        save_best_only=True\n",
    "    )\n",
    "]"
   ]
  },
  {
   "cell_type": "markdown",
   "metadata": {},
   "source": [
    "# Running the model"
   ]
  },
  {
   "cell_type": "code",
   "execution_count": 6,
   "metadata": {},
   "outputs": [
    {
     "name": "stdout",
     "output_type": "stream",
     "text": [
      "Epoch 1/40\n"
     ]
    },
    {
     "name": "stderr",
     "output_type": "stream",
     "text": [
      "2022-08-07 14:29:37.681311: W tensorflow/core/platform/profile_utils/cpu_utils.cc:128] Failed to get CPU frequency: 0 Hz\n",
      "2022-08-07 14:29:37.681417: I tensorflow/core/grappler/optimizers/custom_graph_optimizer_registry.cc:112] Plugin optimizer for device_type GPU is enabled.\n"
     ]
    },
    {
     "name": "stdout",
     "output_type": "stream",
     "text": [
      "105/105 [==============================] - ETA: 0s - loss: 1.8814 - accuracy: 0.1673"
     ]
    },
    {
     "name": "stderr",
     "output_type": "stream",
     "text": [
      "2022-08-07 14:29:48.133532: I tensorflow/core/grappler/optimizers/custom_graph_optimizer_registry.cc:112] Plugin optimizer for device_type GPU is enabled.\n"
     ]
    },
    {
     "name": "stdout",
     "output_type": "stream",
     "text": [
      "105/105 [==============================] - 12s 104ms/step - loss: 1.8814 - accuracy: 0.1673 - val_loss: 1.7908 - val_accuracy: 0.2153\n",
      "Epoch 2/40\n",
      "105/105 [==============================] - 11s 101ms/step - loss: 1.7629 - accuracy: 0.2949 - val_loss: 1.5033 - val_accuracy: 0.3750\n",
      "Epoch 3/40\n",
      "105/105 [==============================] - 11s 102ms/step - loss: 1.2466 - accuracy: 0.5095 - val_loss: 1.1390 - val_accuracy: 0.5431\n",
      "Epoch 4/40\n",
      "105/105 [==============================] - 10s 97ms/step - loss: 0.9317 - accuracy: 0.6500 - val_loss: 0.6604 - val_accuracy: 0.7472\n",
      "Epoch 5/40\n",
      "105/105 [==============================] - 10s 94ms/step - loss: 0.6526 - accuracy: 0.7688 - val_loss: 0.5053 - val_accuracy: 0.8250\n",
      "Epoch 6/40\n",
      "105/105 [==============================] - 10s 94ms/step - loss: 0.4584 - accuracy: 0.8429 - val_loss: 0.4082 - val_accuracy: 0.8708\n",
      "Epoch 7/40\n",
      "105/105 [==============================] - 10s 94ms/step - loss: 0.3638 - accuracy: 0.8747 - val_loss: 0.3454 - val_accuracy: 0.8806\n",
      "Epoch 8/40\n",
      "105/105 [==============================] - 10s 97ms/step - loss: 0.2733 - accuracy: 0.9077 - val_loss: 0.3456 - val_accuracy: 0.8875\n",
      "Epoch 9/40\n",
      "105/105 [==============================] - 10s 95ms/step - loss: 0.2030 - accuracy: 0.9324 - val_loss: 0.7689 - val_accuracy: 0.7583\n",
      "Epoch 10/40\n",
      "105/105 [==============================] - 10s 95ms/step - loss: 0.1942 - accuracy: 0.9402 - val_loss: 0.2997 - val_accuracy: 0.9194\n",
      "Epoch 11/40\n",
      "105/105 [==============================] - 10s 97ms/step - loss: 0.1697 - accuracy: 0.9560 - val_loss: 0.3120 - val_accuracy: 0.9194\n",
      "Epoch 12/40\n",
      "105/105 [==============================] - 10s 97ms/step - loss: 0.1405 - accuracy: 0.9640 - val_loss: 0.3290 - val_accuracy: 0.9278\n",
      "Epoch 13/40\n",
      "105/105 [==============================] - 10s 97ms/step - loss: 0.1185 - accuracy: 0.9640 - val_loss: 0.5277 - val_accuracy: 0.8861\n",
      "Epoch 14/40\n",
      "105/105 [==============================] - 10s 98ms/step - loss: 0.1505 - accuracy: 0.9622 - val_loss: 0.4063 - val_accuracy: 0.9056\n",
      "Epoch 15/40\n",
      "105/105 [==============================] - 10s 93ms/step - loss: 0.0892 - accuracy: 0.9786 - val_loss: 0.6761 - val_accuracy: 0.8375\n",
      "Epoch 16/40\n",
      "105/105 [==============================] - 10s 92ms/step - loss: 0.0750 - accuracy: 0.9774 - val_loss: 0.3537 - val_accuracy: 0.9306\n",
      "Epoch 17/40\n",
      "105/105 [==============================] - 10s 95ms/step - loss: 0.0776 - accuracy: 0.9774 - val_loss: 0.5326 - val_accuracy: 0.9153\n",
      "Epoch 18/40\n",
      "105/105 [==============================] - 10s 99ms/step - loss: 0.0873 - accuracy: 0.9780 - val_loss: 0.5285 - val_accuracy: 0.9014\n",
      "Epoch 19/40\n",
      "105/105 [==============================] - 10s 99ms/step - loss: 0.0619 - accuracy: 0.9789 - val_loss: 0.3061 - val_accuracy: 0.9500\n",
      "Epoch 20/40\n",
      "105/105 [==============================] - 10s 93ms/step - loss: 0.0729 - accuracy: 0.9807 - val_loss: 0.6115 - val_accuracy: 0.9264\n",
      "Epoch 21/40\n",
      "105/105 [==============================] - 10s 99ms/step - loss: 0.0855 - accuracy: 0.9798 - val_loss: 0.3809 - val_accuracy: 0.9375\n",
      "Epoch 22/40\n",
      "105/105 [==============================] - 10s 99ms/step - loss: 0.0711 - accuracy: 0.9824 - val_loss: 0.5386 - val_accuracy: 0.9361\n",
      "Epoch 23/40\n",
      "105/105 [==============================] - 10s 91ms/step - loss: 0.0698 - accuracy: 0.9878 - val_loss: 0.3586 - val_accuracy: 0.9472\n",
      "Epoch 24/40\n",
      "105/105 [==============================] - 10s 93ms/step - loss: 0.0587 - accuracy: 0.9866 - val_loss: 0.3089 - val_accuracy: 0.9528\n",
      "Epoch 25/40\n",
      "105/105 [==============================] - 10s 100ms/step - loss: 0.0462 - accuracy: 0.9869 - val_loss: 0.4708 - val_accuracy: 0.9333\n",
      "Epoch 26/40\n",
      "105/105 [==============================] - 10s 97ms/step - loss: 0.0541 - accuracy: 0.9872 - val_loss: 1.3535 - val_accuracy: 0.6806\n",
      "Epoch 27/40\n",
      "105/105 [==============================] - 10s 93ms/step - loss: 0.0695 - accuracy: 0.9845 - val_loss: 0.5848 - val_accuracy: 0.8819\n",
      "Epoch 28/40\n",
      "105/105 [==============================] - 10s 94ms/step - loss: 0.0755 - accuracy: 0.9821 - val_loss: 0.4693 - val_accuracy: 0.9458\n",
      "Epoch 29/40\n",
      "105/105 [==============================] - 10s 97ms/step - loss: 0.0760 - accuracy: 0.9908 - val_loss: 0.3061 - val_accuracy: 0.9514\n",
      "Epoch 30/40\n",
      "105/105 [==============================] - 10s 92ms/step - loss: 0.0462 - accuracy: 0.9896 - val_loss: 0.4484 - val_accuracy: 0.9472\n",
      "Epoch 31/40\n",
      "105/105 [==============================] - 10s 92ms/step - loss: 0.0573 - accuracy: 0.9905 - val_loss: 0.5508 - val_accuracy: 0.9306\n",
      "Epoch 32/40\n",
      "105/105 [==============================] - 10s 93ms/step - loss: 0.0597 - accuracy: 0.9911 - val_loss: 0.4210 - val_accuracy: 0.9556\n",
      "Epoch 33/40\n",
      "105/105 [==============================] - 10s 96ms/step - loss: 0.0468 - accuracy: 0.9896 - val_loss: 0.6443 - val_accuracy: 0.9083\n",
      "Epoch 34/40\n",
      "105/105 [==============================] - 11s 101ms/step - loss: 0.0279 - accuracy: 0.9932 - val_loss: 0.6679 - val_accuracy: 0.9472\n",
      "Epoch 35/40\n",
      "105/105 [==============================] - 10s 94ms/step - loss: 0.0538 - accuracy: 0.9905 - val_loss: 0.3606 - val_accuracy: 0.9431\n",
      "Epoch 36/40\n",
      "105/105 [==============================] - 10s 96ms/step - loss: 0.0600 - accuracy: 0.9893 - val_loss: 0.5545 - val_accuracy: 0.9361\n",
      "Epoch 37/40\n",
      "105/105 [==============================] - 10s 97ms/step - loss: 0.0583 - accuracy: 0.9893 - val_loss: 0.3865 - val_accuracy: 0.9500\n",
      "Epoch 38/40\n",
      "105/105 [==============================] - 10s 99ms/step - loss: 0.0545 - accuracy: 0.9899 - val_loss: 0.8165 - val_accuracy: 0.9125\n",
      "Epoch 39/40\n",
      "105/105 [==============================] - 10s 96ms/step - loss: 0.0255 - accuracy: 0.9946 - val_loss: 2.4033 - val_accuracy: 0.8542\n",
      "Epoch 40/40\n",
      "105/105 [==============================] - 10s 97ms/step - loss: 0.0648 - accuracy: 0.9902 - val_loss: 0.5403 - val_accuracy: 0.9597\n"
     ]
    }
   ],
   "source": [
    "history = model.fit(\n",
    "  train.cache(),\n",
    "  epochs=40,\n",
    "  callbacks=callbacks_list,\n",
    "  validation_data=val.cache()\n",
    ")"
   ]
  },
  {
   "cell_type": "markdown",
   "metadata": {},
   "source": [
    "# Evaluating the model"
   ]
  },
  {
   "cell_type": "code",
   "execution_count": 7,
   "metadata": {},
   "outputs": [
    {
     "name": "stdout",
     "output_type": "stream",
     "text": [
      " 1/23 [>.............................] - ETA: 4s - loss: 0.0000e+00 - accuracy: 1.0000"
     ]
    },
    {
     "name": "stderr",
     "output_type": "stream",
     "text": [
      "2022-08-07 14:36:22.616578: I tensorflow/core/grappler/optimizers/custom_graph_optimizer_registry.cc:112] Plugin optimizer for device_type GPU is enabled.\n"
     ]
    },
    {
     "name": "stdout",
     "output_type": "stream",
     "text": [
      "23/23 [==============================] - 1s 32ms/step - loss: 0.4236 - accuracy: 0.9597\n"
     ]
    },
    {
     "data": {
      "text/plain": [
       "[0.4235686957836151, 0.9597222208976746]"
      ]
     },
     "execution_count": 7,
     "metadata": {},
     "output_type": "execute_result"
    }
   ],
   "source": [
    "# model.evaluate(test)\n",
    "\n",
    "load_model = keras.models.load_model(\"../../models/zenodo/m1_big.h5\")\n",
    "load_model.evaluate(test)"
   ]
  },
  {
   "cell_type": "code",
   "execution_count": 9,
   "metadata": {},
   "outputs": [
    {
     "data": {
      "text/plain": [
       "<module 'matplotlib.pyplot' from '/opt/homebrew/Caskroom/miniforge/base/lib/python3.9/site-packages/matplotlib/pyplot.py'>"
      ]
     },
     "execution_count": 9,
     "metadata": {},
     "output_type": "execute_result"
    },
    {
     "data": {
      "image/png": "[encoded data removed]",
      "text/plain": [
       "<Figure size 432x288 with 1 Axes>"
      ]
     },
     "metadata": {
      "needs_background": "light"
     },
     "output_type": "display_data"
    }
   ],
   "source": [
    "# Plotting loss and accuracy graphs\n",
    "## Plotting loss\n",
    "plot_loss(history)\n",
    "\n"
   ]
  },
  {
   "cell_type": "code",
   "execution_count": 10,
   "metadata": {},
   "outputs": [
    {
     "data": {
      "text/plain": [
       "<module 'matplotlib.pyplot' from '/opt/homebrew/Caskroom/miniforge/base/lib/python3.9/site-packages/matplotlib/pyplot.py'>"
      ]
     },
     "execution_count": 10,
     "metadata": {},
     "output_type": "execute_result"
    },
    {
     "data": {
      "image/png": "[encoded data removed]",
      "text/plain": [
       "<Figure size 432x288 with 1 Axes>"
      ]
     },
     "metadata": {
      "needs_background": "light"
     },
     "output_type": "display_data"
    }
   ],
   "source": [
    "## Plotting accuracy\n",
    "plot_acc(history)"
   ]
  }
 ],
 "metadata": {
  "kernelspec": {
   "display_name": "Python 3.9.7 ('base')",
   "language": "python",
   "name": "python3"
  },
  "language_info": {
   "codemirror_mode": {
    "name": "ipython",
    "version": 3
   },
   "file_extension": ".py",
   "mimetype": "text/x-python",
   "name": "python",
   "nbconvert_exporter": "python",
   "pygments_lexer": "ipython3",
   "version": "3.9.7"
  },
  "orig_nbformat": 4,
  "vscode": {
   "interpreter": {
    "hash": "c6e4e9f98eb68ad3b7c296f83d20e6de614cb42e90992a65aa266555a3137d0d"
   }
  }
 },
 "nbformat": 4,
 "nbformat_minor": 2
}
