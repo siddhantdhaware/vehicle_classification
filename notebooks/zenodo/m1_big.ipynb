{
 "cells": [
  {
   "cell_type": "markdown",
   "metadata": {},
   "source": [
    "# Importing the libraries"
   ]
  },
  {
   "cell_type": "code",
   "execution_count": 1,
   "metadata": {},
   "outputs": [],
   "source": [
    "import tensorflow as tf\n",
    "from tensorflow.keras import layers, utils\n",
    "from tensorflow import keras\n",
    "from matplotlib import pyplot as plt"
   ]
  },
  {
   "cell_type": "markdown",
   "metadata": {},
   "source": [
    "# Setting Image and Batch Size"
   ]
  },
  {
   "cell_type": "code",
   "execution_count": 2,
   "metadata": {},
   "outputs": [],
   "source": [
    "IMAGE_SIZE = 100\n",
    "BATCH_SIZE = 32"
   ]
  },
  {
   "cell_type": "markdown",
   "metadata": {},
   "source": [
    "# Loading the train, val, and test data"
   ]
  },
  {
   "cell_type": "code",
   "execution_count": 3,
   "metadata": {},
   "outputs": [
    {
     "name": "stdout",
     "output_type": "stream",
     "text": [
      "Found 3360 files belonging to 6 classes.\n",
      "Metal device set to: Apple M1\n",
      "\n",
      "systemMemory: 16.00 GB\n",
      "maxCacheSize: 5.33 GB\n",
      "\n",
      "Found 720 files belonging to 6 classes.\n",
      "Found 720 files belonging to 6 classes.\n"
     ]
    },
    {
     "name": "stderr",
     "output_type": "stream",
     "text": [
      "2022-08-03 11:53:51.064388: I tensorflow/core/common_runtime/pluggable_device/pluggable_device_factory.cc:305] Could not identify NUMA node of platform GPU ID 0, defaulting to 0. Your kernel may not have been built with NUMA support.\n",
      "2022-08-03 11:53:51.064530: I tensorflow/core/common_runtime/pluggable_device/pluggable_device_factory.cc:271] Created TensorFlow device (/job:localhost/replica:0/task:0/device:GPU:0 with 0 MB memory) -> physical PluggableDevice (device: 0, name: METAL, pci bus id: <undefined>)\n"
     ]
    }
   ],
   "source": [
    "train = utils.image_dataset_from_directory(\"../../datasets/data/split/Zenodo/train\", image_size=(IMAGE_SIZE, IMAGE_SIZE), batch_size=BATCH_SIZE)\n",
    "val = utils.image_dataset_from_directory(\"../../datasets/data/split/Zenodo/val\", image_size=(IMAGE_SIZE, IMAGE_SIZE), batch_size=BATCH_SIZE)\n",
    "test = utils.image_dataset_from_directory(\"../../datasets/data/split/Zenodo/test\", image_size=(IMAGE_SIZE, IMAGE_SIZE), batch_size=BATCH_SIZE)\n"
   ]
  },
  {
   "cell_type": "markdown",
   "metadata": {},
   "source": [
    "# Defining the model"
   ]
  },
  {
   "cell_type": "code",
   "execution_count": 4,
   "metadata": {},
   "outputs": [
    {
     "name": "stdout",
     "output_type": "stream",
     "text": [
      "Model: \"model\"\n",
      "_________________________________________________________________\n",
      " Layer (type)                Output Shape              Param #   \n",
      "=================================================================\n",
      " input_1 (InputLayer)        [(None, 100, 100, 3)]     0         \n",
      "                                                                 \n",
      " rescaling (Rescaling)       (None, 100, 100, 3)       0         \n",
      "                                                                 \n",
      " conv2d (Conv2D)             (None, 98, 98, 32)        896       \n",
      "                                                                 \n",
      " conv2d_1 (Conv2D)           (None, 96, 96, 32)        9248      \n",
      "                                                                 \n",
      " conv2d_2 (Conv2D)           (None, 94, 94, 32)        9248      \n",
      "                                                                 \n",
      " max_pooling2d (MaxPooling2D  (None, 47, 47, 32)       0         \n",
      " )                                                               \n",
      "                                                                 \n",
      " conv2d_3 (Conv2D)           (None, 45, 45, 64)        18496     \n",
      "                                                                 \n",
      " conv2d_4 (Conv2D)           (None, 43, 43, 64)        36928     \n",
      "                                                                 \n",
      " max_pooling2d_1 (MaxPooling  (None, 21, 21, 64)       0         \n",
      " 2D)                                                             \n",
      "                                                                 \n",
      " conv2d_5 (Conv2D)           (None, 19, 19, 128)       73856     \n",
      "                                                                 \n",
      " conv2d_6 (Conv2D)           (None, 17, 17, 128)       147584    \n",
      "                                                                 \n",
      " max_pooling2d_2 (MaxPooling  (None, 8, 8, 128)        0         \n",
      " 2D)                                                             \n",
      "                                                                 \n",
      " conv2d_7 (Conv2D)           (None, 6, 6, 256)         295168    \n",
      "                                                                 \n",
      " conv2d_8 (Conv2D)           (None, 4, 4, 256)         590080    \n",
      "                                                                 \n",
      " global_average_pooling2d (G  (None, 256)              0         \n",
      " lobalAveragePooling2D)                                          \n",
      "                                                                 \n",
      " dense (Dense)               (None, 256)               65792     \n",
      "                                                                 \n",
      " dropout (Dropout)           (None, 256)               0         \n",
      "                                                                 \n",
      " dense_1 (Dense)             (None, 6)                 1542      \n",
      "                                                                 \n",
      "=================================================================\n",
      "Total params: 1,248,838\n",
      "Trainable params: 1,248,838\n",
      "Non-trainable params: 0\n",
      "_________________________________________________________________\n"
     ]
    }
   ],
   "source": [
    "inputs = keras.Input(shape=(100, 100, 3))\n",
    "x = inputs\n",
    "x = layers.Rescaling(1./255)(x)\n",
    "x = layers.Conv2D(32, 3, activation='relu')(x)\n",
    "x = layers.Conv2D(32, 3, activation='relu')(x)\n",
    "x = layers.Conv2D(32, 3, activation='relu')(x)\n",
    "x = layers.MaxPooling2D(2)(x)\n",
    "x = layers.Conv2D(64, 3, activation='relu')(x)\n",
    "x = layers.Conv2D(64, 3, activation='relu')(x)\n",
    "x = layers.MaxPooling2D(2)(x)\n",
    "x = layers.Conv2D(128, 3, activation='relu')(x)\n",
    "x = layers.Conv2D(128, 3, activation='relu')(x)\n",
    "x = layers.MaxPooling2D(2)(x)\n",
    "x = layers.Conv2D(256, 3, activation='relu')(x)\n",
    "x = layers.Conv2D(256, 3, activation='relu')(x)\n",
    "x = layers.GlobalAveragePooling2D()(x)\n",
    "x = layers.Dense(256, activation='relu')(x)\n",
    "x = layers.Dropout(0.5)(x)\n",
    "outputs = layers.Dense(6, activation='softmax')(x)\n",
    "\n",
    "model = keras.Model(inputs, outputs)\n",
    "\n",
    "model.compile(optimizer=keras.optimizers.RMSprop(0.001), loss='sparse_categorical_crossentropy', metrics=['accuracy'])\n",
    "\n",
    "model.summary()"
   ]
  },
  {
   "cell_type": "markdown",
   "metadata": {},
   "source": [
    "# Adding Callbacks"
   ]
  },
  {
   "cell_type": "code",
   "execution_count": 5,
   "metadata": {},
   "outputs": [],
   "source": [
    "callbacks_list = [\n",
    "    keras.callbacks.ModelCheckpoint(\n",
    "        filepath=\"../../models/zenodo/m1_big.h5\",\n",
    "        monitor=\"val_accuracy\",\n",
    "        save_best_only=True\n",
    "    )\n",
    "]"
   ]
  },
  {
   "cell_type": "markdown",
   "metadata": {},
   "source": [
    "# Running the model"
   ]
  },
  {
   "cell_type": "code",
   "execution_count": 6,
   "metadata": {},
   "outputs": [
    {
     "name": "stdout",
     "output_type": "stream",
     "text": [
      "Epoch 1/40\n"
     ]
    },
    {
     "name": "stderr",
     "output_type": "stream",
     "text": [
      "2022-08-03 11:53:51.915898: W tensorflow/core/platform/profile_utils/cpu_utils.cc:128] Failed to get CPU frequency: 0 Hz\n",
      "2022-08-03 11:53:51.918937: I tensorflow/core/grappler/optimizers/custom_graph_optimizer_registry.cc:112] Plugin optimizer for device_type GPU is enabled.\n"
     ]
    },
    {
     "name": "stdout",
     "output_type": "stream",
     "text": [
      "105/105 [==============================] - ETA: 0s - loss: 1.8469 - accuracy: 0.1768"
     ]
    },
    {
     "name": "stderr",
     "output_type": "stream",
     "text": [
      "2022-08-03 11:54:02.716737: I tensorflow/core/grappler/optimizers/custom_graph_optimizer_registry.cc:112] Plugin optimizer for device_type GPU is enabled.\n"
     ]
    },
    {
     "name": "stdout",
     "output_type": "stream",
     "text": [
      "105/105 [==============================] - 12s 102ms/step - loss: 1.8469 - accuracy: 0.1768 - val_loss: 1.8137 - val_accuracy: 0.1667\n",
      "Epoch 2/40\n",
      "105/105 [==============================] - 10s 98ms/step - loss: 1.8618 - accuracy: 0.2449 - val_loss: 1.4631 - val_accuracy: 0.3222\n",
      "Epoch 3/40\n",
      "105/105 [==============================] - 10s 95ms/step - loss: 1.3611 - accuracy: 0.4524 - val_loss: 1.1206 - val_accuracy: 0.5139\n",
      "Epoch 4/40\n",
      "105/105 [==============================] - 10s 95ms/step - loss: 0.9400 - accuracy: 0.6411 - val_loss: 0.9026 - val_accuracy: 0.6556\n",
      "Epoch 5/40\n",
      "105/105 [==============================] - 10s 94ms/step - loss: 0.6722 - accuracy: 0.7592 - val_loss: 0.7660 - val_accuracy: 0.7042\n",
      "Epoch 6/40\n",
      "105/105 [==============================] - 10s 94ms/step - loss: 0.4621 - accuracy: 0.8381 - val_loss: 0.5646 - val_accuracy: 0.8069\n",
      "Epoch 7/40\n",
      "105/105 [==============================] - 10s 93ms/step - loss: 0.3382 - accuracy: 0.8836 - val_loss: 0.4202 - val_accuracy: 0.8528\n",
      "Epoch 8/40\n",
      "105/105 [==============================] - 10s 94ms/step - loss: 0.2734 - accuracy: 0.9101 - val_loss: 0.4146 - val_accuracy: 0.8764\n",
      "Epoch 9/40\n",
      "105/105 [==============================] - 10s 94ms/step - loss: 0.2130 - accuracy: 0.9280 - val_loss: 0.4193 - val_accuracy: 0.9028\n",
      "Epoch 10/40\n",
      "105/105 [==============================] - 10s 94ms/step - loss: 0.1747 - accuracy: 0.9417 - val_loss: 0.3692 - val_accuracy: 0.8958\n",
      "Epoch 11/40\n",
      "105/105 [==============================] - 10s 94ms/step - loss: 0.1450 - accuracy: 0.9542 - val_loss: 0.3262 - val_accuracy: 0.9028\n",
      "Epoch 12/40\n",
      "105/105 [==============================] - 10s 95ms/step - loss: 0.1519 - accuracy: 0.9565 - val_loss: 0.2762 - val_accuracy: 0.9278\n",
      "Epoch 13/40\n",
      "105/105 [==============================] - 10s 98ms/step - loss: 0.1443 - accuracy: 0.9604 - val_loss: 0.2253 - val_accuracy: 0.9306\n",
      "Epoch 14/40\n",
      "105/105 [==============================] - 10s 94ms/step - loss: 0.0758 - accuracy: 0.9753 - val_loss: 1.7983 - val_accuracy: 0.7597\n",
      "Epoch 15/40\n",
      "105/105 [==============================] - 10s 93ms/step - loss: 0.1014 - accuracy: 0.9717 - val_loss: 0.6324 - val_accuracy: 0.9139\n",
      "Epoch 16/40\n",
      "105/105 [==============================] - 10s 93ms/step - loss: 0.0872 - accuracy: 0.9762 - val_loss: 0.3479 - val_accuracy: 0.9417\n",
      "Epoch 17/40\n",
      "105/105 [==============================] - 10s 93ms/step - loss: 0.0841 - accuracy: 0.9774 - val_loss: 0.3816 - val_accuracy: 0.9264\n",
      "Epoch 18/40\n",
      "105/105 [==============================] - 10s 93ms/step - loss: 0.0735 - accuracy: 0.9795 - val_loss: 0.3842 - val_accuracy: 0.9375\n",
      "Epoch 19/40\n",
      "105/105 [==============================] - 10s 94ms/step - loss: 0.0799 - accuracy: 0.9818 - val_loss: 0.3282 - val_accuracy: 0.9375\n",
      "Epoch 20/40\n",
      "105/105 [==============================] - 10s 93ms/step - loss: 0.0547 - accuracy: 0.9833 - val_loss: 1.1206 - val_accuracy: 0.8875\n",
      "Epoch 21/40\n",
      "105/105 [==============================] - 10s 94ms/step - loss: 0.0749 - accuracy: 0.9833 - val_loss: 0.4785 - val_accuracy: 0.9319\n",
      "Epoch 22/40\n",
      "105/105 [==============================] - 10s 96ms/step - loss: 0.1138 - accuracy: 0.9854 - val_loss: 0.4392 - val_accuracy: 0.9444\n",
      "Epoch 23/40\n",
      "105/105 [==============================] - 10s 94ms/step - loss: 0.0810 - accuracy: 0.9845 - val_loss: 0.4482 - val_accuracy: 0.9167\n",
      "Epoch 24/40\n",
      "105/105 [==============================] - 10s 94ms/step - loss: 0.0552 - accuracy: 0.9908 - val_loss: 0.4715 - val_accuracy: 0.9514\n",
      "Epoch 25/40\n",
      "105/105 [==============================] - 10s 95ms/step - loss: 0.0644 - accuracy: 0.9804 - val_loss: 0.6436 - val_accuracy: 0.9375\n",
      "Epoch 26/40\n",
      "105/105 [==============================] - 10s 95ms/step - loss: 0.0427 - accuracy: 0.9902 - val_loss: 0.7564 - val_accuracy: 0.9250\n",
      "Epoch 27/40\n",
      "105/105 [==============================] - 10s 95ms/step - loss: 0.0622 - accuracy: 0.9884 - val_loss: 0.4338 - val_accuracy: 0.9333\n",
      "Epoch 28/40\n",
      "105/105 [==============================] - 10s 95ms/step - loss: 0.0709 - accuracy: 0.9872 - val_loss: 0.4465 - val_accuracy: 0.9375\n",
      "Epoch 29/40\n",
      "105/105 [==============================] - 10s 95ms/step - loss: 0.0551 - accuracy: 0.9890 - val_loss: 0.3556 - val_accuracy: 0.9514\n",
      "Epoch 30/40\n",
      "105/105 [==============================] - 10s 95ms/step - loss: 0.0509 - accuracy: 0.9890 - val_loss: 0.5668 - val_accuracy: 0.9458\n",
      "Epoch 31/40\n",
      "105/105 [==============================] - 10s 96ms/step - loss: 0.0488 - accuracy: 0.9887 - val_loss: 0.6076 - val_accuracy: 0.9472\n",
      "Epoch 32/40\n",
      "105/105 [==============================] - 10s 95ms/step - loss: 0.0346 - accuracy: 0.9946 - val_loss: 0.6840 - val_accuracy: 0.9458\n",
      "Epoch 33/40\n",
      "105/105 [==============================] - 10s 95ms/step - loss: 0.0627 - accuracy: 0.9923 - val_loss: 0.4558 - val_accuracy: 0.9458\n",
      "Epoch 34/40\n",
      "105/105 [==============================] - 10s 96ms/step - loss: 0.0525 - accuracy: 0.9902 - val_loss: 0.6043 - val_accuracy: 0.9542\n",
      "Epoch 35/40\n",
      "105/105 [==============================] - 10s 96ms/step - loss: 0.0545 - accuracy: 0.9923 - val_loss: 0.4539 - val_accuracy: 0.9458\n",
      "Epoch 36/40\n",
      "105/105 [==============================] - 10s 96ms/step - loss: 0.0363 - accuracy: 0.9923 - val_loss: 1.6314 - val_accuracy: 0.8958\n",
      "Epoch 37/40\n",
      "105/105 [==============================] - 10s 96ms/step - loss: 0.0737 - accuracy: 0.9887 - val_loss: 0.7973 - val_accuracy: 0.9389\n",
      "Epoch 38/40\n",
      "105/105 [==============================] - 10s 98ms/step - loss: 0.0556 - accuracy: 0.9917 - val_loss: 0.6931 - val_accuracy: 0.9292\n",
      "Epoch 39/40\n",
      "105/105 [==============================] - 10s 96ms/step - loss: 0.0389 - accuracy: 0.9920 - val_loss: 1.8377 - val_accuracy: 0.8889\n",
      "Epoch 40/40\n",
      "105/105 [==============================] - 10s 97ms/step - loss: 0.0464 - accuracy: 0.9943 - val_loss: 0.8338 - val_accuracy: 0.9486\n"
     ]
    }
   ],
   "source": [
    "history = model.fit(\n",
    "  train.cache(),\n",
    "  epochs=40,\n",
    "  callbacks=callbacks_list,\n",
    "  validation_data=val.cache()\n",
    ")"
   ]
  },
  {
   "cell_type": "markdown",
   "metadata": {},
   "source": [
    "# Evaluating the model"
   ]
  },
  {
   "cell_type": "code",
   "execution_count": 7,
   "metadata": {},
   "outputs": [
    {
     "name": "stdout",
     "output_type": "stream",
     "text": [
      "23/23 [==============================] - 1s 33ms/step - loss: 0.5917 - accuracy: 0.9583\n",
      " 1/23 [>.............................] - ETA: 5s - loss: 0.1767 - accuracy: 0.9688"
     ]
    },
    {
     "name": "stderr",
     "output_type": "stream",
     "text": [
      "2022-08-03 12:00:33.340832: I tensorflow/core/grappler/optimizers/custom_graph_optimizer_registry.cc:112] Plugin optimizer for device_type GPU is enabled.\n"
     ]
    },
    {
     "name": "stdout",
     "output_type": "stream",
     "text": [
      "23/23 [==============================] - 1s 33ms/step - loss: 0.3322 - accuracy: 0.9597\n"
     ]
    },
    {
     "data": {
      "text/plain": [
       "[0.3321572542190552, 0.9597222208976746]"
      ]
     },
     "execution_count": 7,
     "metadata": {},
     "output_type": "execute_result"
    }
   ],
   "source": [
    "model.evaluate(test)\n",
    "\n",
    "load_model = keras.models.load_model(\"../../models/zenodo/m1_big.h5\")\n",
    "load_model.evaluate(test)"
   ]
  }
 ],
 "metadata": {
  "kernelspec": {
   "display_name": "Python 3.9.7 ('base')",
   "language": "python",
   "name": "python3"
  },
  "language_info": {
   "codemirror_mode": {
    "name": "ipython",
    "version": 3
   },
   "file_extension": ".py",
   "mimetype": "text/x-python",
   "name": "python",
   "nbconvert_exporter": "python",
   "pygments_lexer": "ipython3",
   "version": "3.9.7"
  },
  "orig_nbformat": 4,
  "vscode": {
   "interpreter": {
    "hash": "c6e4e9f98eb68ad3b7c296f83d20e6de614cb42e90992a65aa266555a3137d0d"
   }
  }
 },
 "nbformat": 4,
 "nbformat_minor": 2
}
