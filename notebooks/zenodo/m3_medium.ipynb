{
 "cells": [
  {
   "cell_type": "markdown",
   "metadata": {},
   "source": [
    "# Importing the libraries"
   ]
  },
  {
   "cell_type": "code",
   "execution_count": 1,
   "metadata": {},
   "outputs": [],
   "source": [
    "import tensorflow as tf\n",
    "from tensorflow.keras import layers, utils\n",
    "from tensorflow import keras\n",
    "from matplotlib import pyplot as plt\n",
    "\n",
    "import sys\n",
    "sys.path.insert(0, '../../')\n",
    "from plot_graphs import plot_loss, plot_acc"
   ]
  },
  {
   "cell_type": "markdown",
   "metadata": {},
   "source": [
    "# Setting Image and Batch Size"
   ]
  },
  {
   "cell_type": "code",
   "execution_count": 2,
   "metadata": {},
   "outputs": [],
   "source": [
    "IMAGE_SIZE = 100\n",
    "BATCH_SIZE = 32"
   ]
  },
  {
   "cell_type": "markdown",
   "metadata": {},
   "source": [
    "# Loading the train, val, and test data"
   ]
  },
  {
   "cell_type": "code",
   "execution_count": 3,
   "metadata": {},
   "outputs": [
    {
     "name": "stdout",
     "output_type": "stream",
     "text": [
      "Found 3360 files belonging to 6 classes.\n",
      "Metal device set to: Apple M1\n",
      "\n",
      "systemMemory: 16.00 GB\n",
      "maxCacheSize: 5.33 GB\n",
      "\n",
      "Found 720 files belonging to 6 classes.\n",
      "Found 720 files belonging to 6 classes.\n"
     ]
    },
    {
     "name": "stderr",
     "output_type": "stream",
     "text": [
      "2022-08-03 12:18:58.468408: I tensorflow/core/common_runtime/pluggable_device/pluggable_device_factory.cc:305] Could not identify NUMA node of platform GPU ID 0, defaulting to 0. Your kernel may not have been built with NUMA support.\n",
      "2022-08-03 12:18:58.468520: I tensorflow/core/common_runtime/pluggable_device/pluggable_device_factory.cc:271] Created TensorFlow device (/job:localhost/replica:0/task:0/device:GPU:0 with 0 MB memory) -> physical PluggableDevice (device: 0, name: METAL, pci bus id: <undefined>)\n"
     ]
    }
   ],
   "source": [
    "train = utils.image_dataset_from_directory(\"../../datasets/data/split/Zenodo/train\", image_size=(IMAGE_SIZE, IMAGE_SIZE), batch_size=BATCH_SIZE)\n",
    "val = utils.image_dataset_from_directory(\"../../datasets/data/split/Zenodo/val\", image_size=(IMAGE_SIZE, IMAGE_SIZE), batch_size=BATCH_SIZE)\n",
    "test = utils.image_dataset_from_directory(\"../../datasets/data/split/Zenodo/test\", image_size=(IMAGE_SIZE, IMAGE_SIZE), batch_size=BATCH_SIZE)"
   ]
  },
  {
   "cell_type": "markdown",
   "metadata": {},
   "source": [
    "# Defining the model"
   ]
  },
  {
   "cell_type": "code",
   "execution_count": 4,
   "metadata": {},
   "outputs": [
    {
     "name": "stdout",
     "output_type": "stream",
     "text": [
      "Model: \"model\"\n",
      "_________________________________________________________________\n",
      " Layer (type)                Output Shape              Param #   \n",
      "=================================================================\n",
      " input_1 (InputLayer)        [(None, 100, 100, 3)]     0         \n",
      "                                                                 \n",
      " rescaling (Rescaling)       (None, 100, 100, 3)       0         \n",
      "                                                                 \n",
      " conv2d (Conv2D)             (None, 98, 98, 32)        896       \n",
      "                                                                 \n",
      " max_pooling2d (MaxPooling2D  (None, 49, 49, 32)       0         \n",
      " )                                                               \n",
      "                                                                 \n",
      " conv2d_1 (Conv2D)           (None, 47, 47, 64)        18496     \n",
      "                                                                 \n",
      " max_pooling2d_1 (MaxPooling  (None, 23, 23, 64)       0         \n",
      " 2D)                                                             \n",
      "                                                                 \n",
      " conv2d_2 (Conv2D)           (None, 21, 21, 128)       73856     \n",
      "                                                                 \n",
      " max_pooling2d_2 (MaxPooling  (None, 10, 10, 128)      0         \n",
      " 2D)                                                             \n",
      "                                                                 \n",
      " conv2d_3 (Conv2D)           (None, 8, 8, 256)         295168    \n",
      "                                                                 \n",
      " global_average_pooling2d (G  (None, 256)              0         \n",
      " lobalAveragePooling2D)                                          \n",
      "                                                                 \n",
      " dense (Dense)               (None, 256)               65792     \n",
      "                                                                 \n",
      " dropout (Dropout)           (None, 256)               0         \n",
      "                                                                 \n",
      " dense_1 (Dense)             (None, 6)                 1542      \n",
      "                                                                 \n",
      "=================================================================\n",
      "Total params: 455,750\n",
      "Trainable params: 455,750\n",
      "Non-trainable params: 0\n",
      "_________________________________________________________________\n"
     ]
    }
   ],
   "source": [
    "\n",
    "inputs = keras.Input(shape=(100, 100, 3))\n",
    "x = inputs\n",
    "x = layers.Rescaling(1./255)(x)\n",
    "x = layers.Conv2D(32, 3, activation='relu')(x)\n",
    "x = layers.MaxPooling2D(2)(x)\n",
    "x = layers.Conv2D(64, 3, activation='relu')(x)\n",
    "x = layers.MaxPooling2D(2)(x)\n",
    "x = layers.Conv2D(128, 3, activation='relu')(x)\n",
    "x = layers.MaxPooling2D(2)(x)\n",
    "x = layers.Conv2D(256, 3, activation='relu')(x)\n",
    "x = layers.GlobalAveragePooling2D()(x)\n",
    "x = layers.Dense(256, activation='relu')(x)\n",
    "x = layers.Dropout(0.5)(x)\n",
    "outputs = layers.Dense(6, activation='softmax')(x)\n",
    "\n",
    "model = keras.Model(inputs, outputs)\n",
    "\n",
    "model.compile(optimizer=keras.optimizers.RMSprop(0.001), loss='sparse_categorical_crossentropy', metrics=['accuracy'])\n",
    "\n",
    "model.summary()\n"
   ]
  },
  {
   "cell_type": "markdown",
   "metadata": {},
   "source": [
    "# Adding Callbacks"
   ]
  },
  {
   "cell_type": "code",
   "execution_count": 5,
   "metadata": {},
   "outputs": [],
   "source": [
    "callbacks_list = [\n",
    "    keras.callbacks.ModelCheckpoint(\n",
    "        filepath=\"../../models/zenodo/m3_medium.h5\",\n",
    "        monitor=\"val_accuracy\",\n",
    "        save_best_only=True\n",
    "    )\n",
    "]"
   ]
  },
  {
   "cell_type": "markdown",
   "metadata": {},
   "source": [
    "# Running the model"
   ]
  },
  {
   "cell_type": "code",
   "execution_count": 6,
   "metadata": {},
   "outputs": [
    {
     "name": "stdout",
     "output_type": "stream",
     "text": [
      "Epoch 1/40\n"
     ]
    },
    {
     "name": "stderr",
     "output_type": "stream",
     "text": [
      "2022-08-03 12:18:59.214892: W tensorflow/core/platform/profile_utils/cpu_utils.cc:128] Failed to get CPU frequency: 0 Hz\n",
      "2022-08-03 12:18:59.214993: I tensorflow/core/grappler/optimizers/custom_graph_optimizer_registry.cc:112] Plugin optimizer for device_type GPU is enabled.\n"
     ]
    },
    {
     "name": "stdout",
     "output_type": "stream",
     "text": [
      "105/105 [==============================] - ETA: 0s - loss: 1.7886 - accuracy: 0.1830"
     ]
    },
    {
     "name": "stderr",
     "output_type": "stream",
     "text": [
      "2022-08-03 12:19:04.588452: I tensorflow/core/grappler/optimizers/custom_graph_optimizer_registry.cc:112] Plugin optimizer for device_type GPU is enabled.\n"
     ]
    },
    {
     "name": "stdout",
     "output_type": "stream",
     "text": [
      "105/105 [==============================] - 6s 52ms/step - loss: 1.7886 - accuracy: 0.1830 - val_loss: 1.8515 - val_accuracy: 0.1681\n",
      "Epoch 2/40\n",
      "105/105 [==============================] - 5s 45ms/step - loss: 1.5933 - accuracy: 0.3634 - val_loss: 1.1936 - val_accuracy: 0.5458\n",
      "Epoch 3/40\n",
      "105/105 [==============================] - 5s 44ms/step - loss: 1.3252 - accuracy: 0.5021 - val_loss: 1.1067 - val_accuracy: 0.6986\n",
      "Epoch 4/40\n",
      "105/105 [==============================] - 5s 44ms/step - loss: 1.0840 - accuracy: 0.6080 - val_loss: 0.8961 - val_accuracy: 0.6917\n",
      "Epoch 5/40\n",
      "105/105 [==============================] - 5s 44ms/step - loss: 0.8990 - accuracy: 0.6583 - val_loss: 0.7927 - val_accuracy: 0.7222\n",
      "Epoch 6/40\n",
      "105/105 [==============================] - 5s 44ms/step - loss: 0.8133 - accuracy: 0.6952 - val_loss: 0.7126 - val_accuracy: 0.7319\n",
      "Epoch 7/40\n",
      "105/105 [==============================] - 5s 45ms/step - loss: 0.6762 - accuracy: 0.7464 - val_loss: 0.7186 - val_accuracy: 0.7264\n",
      "Epoch 8/40\n",
      "105/105 [==============================] - 5s 44ms/step - loss: 0.5822 - accuracy: 0.7789 - val_loss: 0.7570 - val_accuracy: 0.7486\n",
      "Epoch 9/40\n",
      "105/105 [==============================] - 5s 44ms/step - loss: 0.5182 - accuracy: 0.8051 - val_loss: 0.6819 - val_accuracy: 0.7472\n",
      "Epoch 10/40\n",
      "105/105 [==============================] - 5s 45ms/step - loss: 0.4211 - accuracy: 0.8470 - val_loss: 0.8148 - val_accuracy: 0.7111\n",
      "Epoch 11/40\n",
      "105/105 [==============================] - 5s 45ms/step - loss: 0.3646 - accuracy: 0.8592 - val_loss: 0.4537 - val_accuracy: 0.8278\n",
      "Epoch 12/40\n",
      "105/105 [==============================] - 5s 44ms/step - loss: 0.3080 - accuracy: 0.8869 - val_loss: 0.4300 - val_accuracy: 0.8431\n",
      "Epoch 13/40\n",
      "105/105 [==============================] - 5s 45ms/step - loss: 0.2730 - accuracy: 0.9048 - val_loss: 0.3786 - val_accuracy: 0.8708\n",
      "Epoch 14/40\n",
      "105/105 [==============================] - 5s 46ms/step - loss: 0.2560 - accuracy: 0.9110 - val_loss: 0.6504 - val_accuracy: 0.8042\n",
      "Epoch 15/40\n",
      "105/105 [==============================] - 5s 44ms/step - loss: 0.1999 - accuracy: 0.9298 - val_loss: 0.3512 - val_accuracy: 0.8917\n",
      "Epoch 16/40\n",
      "105/105 [==============================] - 5s 45ms/step - loss: 0.1864 - accuracy: 0.9339 - val_loss: 0.3623 - val_accuracy: 0.8931\n",
      "Epoch 17/40\n",
      "105/105 [==============================] - 5s 45ms/step - loss: 0.1642 - accuracy: 0.9423 - val_loss: 0.6250 - val_accuracy: 0.8250\n",
      "Epoch 18/40\n",
      "105/105 [==============================] - 5s 45ms/step - loss: 0.1552 - accuracy: 0.9440 - val_loss: 0.2417 - val_accuracy: 0.9319\n",
      "Epoch 19/40\n",
      "105/105 [==============================] - 5s 44ms/step - loss: 0.1356 - accuracy: 0.9545 - val_loss: 0.2821 - val_accuracy: 0.9264\n",
      "Epoch 20/40\n",
      "105/105 [==============================] - 5s 44ms/step - loss: 0.1401 - accuracy: 0.9577 - val_loss: 0.2064 - val_accuracy: 0.9486\n",
      "Epoch 21/40\n",
      "105/105 [==============================] - 5s 44ms/step - loss: 0.1558 - accuracy: 0.9589 - val_loss: 0.2154 - val_accuracy: 0.9472\n",
      "Epoch 22/40\n",
      "105/105 [==============================] - 5s 44ms/step - loss: 0.1470 - accuracy: 0.9619 - val_loss: 0.2071 - val_accuracy: 0.9458\n",
      "Epoch 23/40\n",
      "105/105 [==============================] - 5s 45ms/step - loss: 0.0986 - accuracy: 0.9744 - val_loss: 0.2173 - val_accuracy: 0.9472\n",
      "Epoch 24/40\n",
      "105/105 [==============================] - 5s 44ms/step - loss: 0.1112 - accuracy: 0.9714 - val_loss: 0.2321 - val_accuracy: 0.9417\n",
      "Epoch 25/40\n",
      "105/105 [==============================] - 5s 44ms/step - loss: 0.0838 - accuracy: 0.9747 - val_loss: 0.4669 - val_accuracy: 0.8944\n",
      "Epoch 26/40\n",
      "105/105 [==============================] - 5s 45ms/step - loss: 0.0970 - accuracy: 0.9714 - val_loss: 0.2200 - val_accuracy: 0.9528\n",
      "Epoch 27/40\n",
      "105/105 [==============================] - 5s 44ms/step - loss: 0.1372 - accuracy: 0.9735 - val_loss: 0.2447 - val_accuracy: 0.9417\n",
      "Epoch 28/40\n",
      "105/105 [==============================] - 5s 44ms/step - loss: 0.1120 - accuracy: 0.9771 - val_loss: 0.2258 - val_accuracy: 0.9514\n",
      "Epoch 29/40\n",
      "105/105 [==============================] - 5s 45ms/step - loss: 0.0981 - accuracy: 0.9792 - val_loss: 0.2138 - val_accuracy: 0.9486\n",
      "Epoch 30/40\n",
      "105/105 [==============================] - 5s 44ms/step - loss: 0.1473 - accuracy: 0.9789 - val_loss: 0.2800 - val_accuracy: 0.9431\n",
      "Epoch 31/40\n",
      "105/105 [==============================] - 5s 44ms/step - loss: 0.1188 - accuracy: 0.9747 - val_loss: 0.4169 - val_accuracy: 0.9208\n",
      "Epoch 32/40\n",
      "105/105 [==============================] - 5s 44ms/step - loss: 0.0641 - accuracy: 0.9848 - val_loss: 0.2673 - val_accuracy: 0.9500\n",
      "Epoch 33/40\n",
      "105/105 [==============================] - 5s 44ms/step - loss: 0.0544 - accuracy: 0.9848 - val_loss: 0.3358 - val_accuracy: 0.9403\n",
      "Epoch 34/40\n",
      "105/105 [==============================] - 5s 45ms/step - loss: 0.0903 - accuracy: 0.9815 - val_loss: 0.5882 - val_accuracy: 0.8917\n",
      "Epoch 35/40\n",
      "105/105 [==============================] - 5s 44ms/step - loss: 0.0766 - accuracy: 0.9824 - val_loss: 0.2897 - val_accuracy: 0.9472\n",
      "Epoch 36/40\n",
      "105/105 [==============================] - 5s 44ms/step - loss: 0.0631 - accuracy: 0.9839 - val_loss: 0.8508 - val_accuracy: 0.8639\n",
      "Epoch 37/40\n",
      "105/105 [==============================] - 5s 45ms/step - loss: 0.0740 - accuracy: 0.9830 - val_loss: 1.0212 - val_accuracy: 0.8514\n",
      "Epoch 38/40\n",
      "105/105 [==============================] - 5s 45ms/step - loss: 0.0470 - accuracy: 0.9863 - val_loss: 0.3536 - val_accuracy: 0.9472\n",
      "Epoch 39/40\n",
      "105/105 [==============================] - 5s 44ms/step - loss: 0.0690 - accuracy: 0.9863 - val_loss: 0.3142 - val_accuracy: 0.9417\n",
      "Epoch 40/40\n",
      "105/105 [==============================] - 5s 44ms/step - loss: 0.0511 - accuracy: 0.9872 - val_loss: 0.2630 - val_accuracy: 0.9542\n"
     ]
    }
   ],
   "source": [
    "history = model.fit(\n",
    "  train.cache(),\n",
    "  epochs=40,\n",
    "  callbacks=callbacks_list,\n",
    "  validation_data=val.cache()\n",
    ")"
   ]
  },
  {
   "cell_type": "markdown",
   "metadata": {},
   "source": [
    "# Evaluating the model"
   ]
  },
  {
   "cell_type": "code",
   "execution_count": 7,
   "metadata": {},
   "outputs": [
    {
     "name": "stdout",
     "output_type": "stream",
     "text": [
      "23/23 [==============================] - 0s 16ms/step - loss: 0.1695 - accuracy: 0.9542\n",
      " 9/23 [==========>...................] - ETA: 0s - loss: 0.1910 - accuracy: 0.9549"
     ]
    },
    {
     "name": "stderr",
     "output_type": "stream",
     "text": [
      "2022-08-03 12:22:07.652017: I tensorflow/core/grappler/optimizers/custom_graph_optimizer_registry.cc:112] Plugin optimizer for device_type GPU is enabled.\n"
     ]
    },
    {
     "name": "stdout",
     "output_type": "stream",
     "text": [
      "23/23 [==============================] - 0s 16ms/step - loss: 0.1695 - accuracy: 0.9542\n"
     ]
    },
    {
     "data": {
      "text/plain": [
       "[0.16947981715202332, 0.9541667103767395]"
      ]
     },
     "execution_count": 7,
     "metadata": {},
     "output_type": "execute_result"
    }
   ],
   "source": [
    "model.evaluate(test)\n",
    "\n",
    "load_model = keras.models.load_model(\"../../models/zenodo/m3_medium.h5\")\n",
    "load_model.evaluate(test)"
   ]
  },
  {
   "cell_type": "code",
   "execution_count": null,
   "metadata": {},
   "outputs": [],
   "source": [
    "# Plotting loss and accuracy graphs\n",
    "## Plotting loss\n",
    "plot_loss(history)\n",
    "## Plotting accuracy\n",
    "plot_acc(history)"
   ]
  }
 ],
 "metadata": {
  "kernelspec": {
   "display_name": "Python 3.9.7 ('base')",
   "language": "python",
   "name": "python3"
  },
  "language_info": {
   "codemirror_mode": {
    "name": "ipython",
    "version": 3
   },
   "file_extension": ".py",
   "mimetype": "text/x-python",
   "name": "python",
   "nbconvert_exporter": "python",
   "pygments_lexer": "ipython3",
   "version": "3.9.7"
  },
  "orig_nbformat": 4,
  "vscode": {
   "interpreter": {
    "hash": "c6e4e9f98eb68ad3b7c296f83d20e6de614cb42e90992a65aa266555a3137d0d"
   }
  }
 },
 "nbformat": 4,
 "nbformat_minor": 2
}
