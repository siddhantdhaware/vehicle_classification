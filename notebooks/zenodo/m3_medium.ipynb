{
 "cells": [
  {
   "cell_type": "markdown",
   "metadata": {},
   "source": [
    "# Importing the libraries"
   ]
  },
  {
   "cell_type": "code",
   "execution_count": 1,
   "metadata": {},
   "outputs": [],
   "source": [
    "import tensorflow as tf\n",
    "from tensorflow.keras import layers, utils\n",
    "from tensorflow import keras\n",
    "from matplotlib import pyplot as plt\n",
    "\n",
    "import sys\n",
    "sys.path.insert(0, '../../')\n",
    "from plot_graphs import plot_loss, plot_acc"
   ]
  },
  {
   "cell_type": "markdown",
   "metadata": {},
   "source": [
    "# Setting Image and Batch Size"
   ]
  },
  {
   "cell_type": "code",
   "execution_count": 2,
   "metadata": {},
   "outputs": [],
   "source": [
    "IMAGE_SIZE = 100\n",
    "BATCH_SIZE = 32"
   ]
  },
  {
   "cell_type": "markdown",
   "metadata": {},
   "source": [
    "# Loading the train, val, and test data"
   ]
  },
  {
   "cell_type": "code",
   "execution_count": 3,
   "metadata": {},
   "outputs": [
    {
     "name": "stdout",
     "output_type": "stream",
     "text": [
      "Found 3360 files belonging to 6 classes.\n",
      "Metal device set to: Apple M1\n",
      "\n",
      "systemMemory: 16.00 GB\n",
      "maxCacheSize: 5.33 GB\n",
      "\n",
      "Found 720 files belonging to 6 classes.\n",
      "Found 720 files belonging to 6 classes.\n"
     ]
    },
    {
     "name": "stderr",
     "output_type": "stream",
     "text": [
      "2022-08-07 14:50:45.003298: I tensorflow/core/common_runtime/pluggable_device/pluggable_device_factory.cc:305] Could not identify NUMA node of platform GPU ID 0, defaulting to 0. Your kernel may not have been built with NUMA support.\n",
      "2022-08-07 14:50:45.003408: I tensorflow/core/common_runtime/pluggable_device/pluggable_device_factory.cc:271] Created TensorFlow device (/job:localhost/replica:0/task:0/device:GPU:0 with 0 MB memory) -> physical PluggableDevice (device: 0, name: METAL, pci bus id: <undefined>)\n"
     ]
    }
   ],
   "source": [
    "train = utils.image_dataset_from_directory(\"../../datasets/data/split/Zenodo/train\", image_size=(IMAGE_SIZE, IMAGE_SIZE), batch_size=BATCH_SIZE)\n",
    "val = utils.image_dataset_from_directory(\"../../datasets/data/split/Zenodo/val\", image_size=(IMAGE_SIZE, IMAGE_SIZE), batch_size=BATCH_SIZE)\n",
    "test = utils.image_dataset_from_directory(\"../../datasets/data/split/Zenodo/test\", image_size=(IMAGE_SIZE, IMAGE_SIZE), batch_size=BATCH_SIZE)"
   ]
  },
  {
   "cell_type": "markdown",
   "metadata": {},
   "source": [
    "# Defining the model"
   ]
  },
  {
   "cell_type": "code",
   "execution_count": 4,
   "metadata": {},
   "outputs": [
    {
     "name": "stdout",
     "output_type": "stream",
     "text": [
      "Model: \"model\"\n",
      "_________________________________________________________________\n",
      " Layer (type)                Output Shape              Param #   \n",
      "=================================================================\n",
      " input_1 (InputLayer)        [(None, 100, 100, 3)]     0         \n",
      "                                                                 \n",
      " rescaling (Rescaling)       (None, 100, 100, 3)       0         \n",
      "                                                                 \n",
      " conv2d (Conv2D)             (None, 98, 98, 32)        896       \n",
      "                                                                 \n",
      " max_pooling2d (MaxPooling2D  (None, 49, 49, 32)       0         \n",
      " )                                                               \n",
      "                                                                 \n",
      " conv2d_1 (Conv2D)           (None, 47, 47, 64)        18496     \n",
      "                                                                 \n",
      " max_pooling2d_1 (MaxPooling  (None, 23, 23, 64)       0         \n",
      " 2D)                                                             \n",
      "                                                                 \n",
      " conv2d_2 (Conv2D)           (None, 21, 21, 128)       73856     \n",
      "                                                                 \n",
      " max_pooling2d_2 (MaxPooling  (None, 10, 10, 128)      0         \n",
      " 2D)                                                             \n",
      "                                                                 \n",
      " conv2d_3 (Conv2D)           (None, 8, 8, 256)         295168    \n",
      "                                                                 \n",
      " global_average_pooling2d (G  (None, 256)              0         \n",
      " lobalAveragePooling2D)                                          \n",
      "                                                                 \n",
      " dense (Dense)               (None, 256)               65792     \n",
      "                                                                 \n",
      " dropout (Dropout)           (None, 256)               0         \n",
      "                                                                 \n",
      " dense_1 (Dense)             (None, 6)                 1542      \n",
      "                                                                 \n",
      "=================================================================\n",
      "Total params: 455,750\n",
      "Trainable params: 455,750\n",
      "Non-trainable params: 0\n",
      "_________________________________________________________________\n"
     ]
    }
   ],
   "source": [
    "\n",
    "inputs = keras.Input(shape=(100, 100, 3))\n",
    "x = inputs\n",
    "x = layers.Rescaling(1./255)(x)\n",
    "x = layers.Conv2D(32, 3, activation='relu')(x)\n",
    "x = layers.MaxPooling2D(2)(x)\n",
    "x = layers.Conv2D(64, 3, activation='relu')(x)\n",
    "x = layers.MaxPooling2D(2)(x)\n",
    "x = layers.Conv2D(128, 3, activation='relu')(x)\n",
    "x = layers.MaxPooling2D(2)(x)\n",
    "x = layers.Conv2D(256, 3, activation='relu')(x)\n",
    "x = layers.GlobalAveragePooling2D()(x)\n",
    "x = layers.Dense(256, activation='relu')(x)\n",
    "x = layers.Dropout(0.5)(x)\n",
    "outputs = layers.Dense(6, activation='softmax')(x)\n",
    "\n",
    "model = keras.Model(inputs, outputs)\n",
    "\n",
    "model.compile(optimizer=keras.optimizers.RMSprop(0.001), loss='sparse_categorical_crossentropy', metrics=['accuracy'])\n",
    "\n",
    "model.summary()\n"
   ]
  },
  {
   "cell_type": "markdown",
   "metadata": {},
   "source": [
    "# Adding Callbacks"
   ]
  },
  {
   "cell_type": "code",
   "execution_count": 5,
   "metadata": {},
   "outputs": [],
   "source": [
    "callbacks_list = [\n",
    "    keras.callbacks.ModelCheckpoint(\n",
    "        filepath=\"../../models/zenodo/m3_medium.h5\",\n",
    "        monitor=\"val_accuracy\",\n",
    "        save_best_only=True\n",
    "    )\n",
    "]"
   ]
  },
  {
   "cell_type": "markdown",
   "metadata": {},
   "source": [
    "# Running the model"
   ]
  },
  {
   "cell_type": "code",
   "execution_count": 6,
   "metadata": {},
   "outputs": [
    {
     "name": "stdout",
     "output_type": "stream",
     "text": [
      "Epoch 1/40\n"
     ]
    },
    {
     "name": "stderr",
     "output_type": "stream",
     "text": [
      "2022-08-07 14:50:45.622553: W tensorflow/core/platform/profile_utils/cpu_utils.cc:128] Failed to get CPU frequency: 0 Hz\n",
      "2022-08-07 14:50:45.622667: I tensorflow/core/grappler/optimizers/custom_graph_optimizer_registry.cc:112] Plugin optimizer for device_type GPU is enabled.\n"
     ]
    },
    {
     "name": "stdout",
     "output_type": "stream",
     "text": [
      "104/105 [============================>.] - ETA: 0s - loss: 1.7669 - accuracy: 0.2245"
     ]
    },
    {
     "name": "stderr",
     "output_type": "stream",
     "text": [
      "2022-08-07 14:50:50.919519: I tensorflow/core/grappler/optimizers/custom_graph_optimizer_registry.cc:112] Plugin optimizer for device_type GPU is enabled.\n"
     ]
    },
    {
     "name": "stdout",
     "output_type": "stream",
     "text": [
      "105/105 [==============================] - 6s 52ms/step - loss: 1.7646 - accuracy: 0.2271 - val_loss: 1.5300 - val_accuracy: 0.4319\n",
      "Epoch 2/40\n",
      "105/105 [==============================] - 5s 47ms/step - loss: 1.5424 - accuracy: 0.3949 - val_loss: 1.2233 - val_accuracy: 0.5319\n",
      "Epoch 3/40\n",
      "105/105 [==============================] - 5s 48ms/step - loss: 1.2996 - accuracy: 0.4872 - val_loss: 1.0529 - val_accuracy: 0.5944\n",
      "Epoch 4/40\n",
      "105/105 [==============================] - 5s 47ms/step - loss: 1.1262 - accuracy: 0.5741 - val_loss: 0.9423 - val_accuracy: 0.6403\n",
      "Epoch 5/40\n",
      "105/105 [==============================] - 5s 46ms/step - loss: 0.9871 - accuracy: 0.6313 - val_loss: 0.7133 - val_accuracy: 0.7500\n",
      "Epoch 6/40\n",
      "105/105 [==============================] - 5s 46ms/step - loss: 0.8355 - accuracy: 0.6884 - val_loss: 0.6597 - val_accuracy: 0.7694\n",
      "Epoch 7/40\n",
      "105/105 [==============================] - 5s 46ms/step - loss: 0.7169 - accuracy: 0.7339 - val_loss: 0.5601 - val_accuracy: 0.7889\n",
      "Epoch 8/40\n",
      "105/105 [==============================] - 5s 45ms/step - loss: 0.6128 - accuracy: 0.7679 - val_loss: 0.5162 - val_accuracy: 0.7917\n",
      "Epoch 9/40\n",
      "105/105 [==============================] - 5s 46ms/step - loss: 0.5391 - accuracy: 0.7935 - val_loss: 0.4740 - val_accuracy: 0.8153\n",
      "Epoch 10/40\n",
      "105/105 [==============================] - 5s 44ms/step - loss: 0.4794 - accuracy: 0.8202 - val_loss: 0.4315 - val_accuracy: 0.8292\n",
      "Epoch 11/40\n",
      "105/105 [==============================] - 5s 44ms/step - loss: 0.4176 - accuracy: 0.8446 - val_loss: 0.4681 - val_accuracy: 0.8153\n",
      "Epoch 12/40\n",
      "105/105 [==============================] - 5s 45ms/step - loss: 0.3644 - accuracy: 0.8628 - val_loss: 0.4050 - val_accuracy: 0.8458\n",
      "Epoch 13/40\n",
      "105/105 [==============================] - 5s 47ms/step - loss: 0.3305 - accuracy: 0.8801 - val_loss: 0.3542 - val_accuracy: 0.8708\n",
      "Epoch 14/40\n",
      "105/105 [==============================] - 5s 46ms/step - loss: 0.2861 - accuracy: 0.8970 - val_loss: 0.2981 - val_accuracy: 0.8931\n",
      "Epoch 15/40\n",
      "105/105 [==============================] - 5s 44ms/step - loss: 0.2757 - accuracy: 0.9042 - val_loss: 0.3107 - val_accuracy: 0.8819\n",
      "Epoch 16/40\n",
      "105/105 [==============================] - 5s 44ms/step - loss: 0.2225 - accuracy: 0.9268 - val_loss: 0.2933 - val_accuracy: 0.9056\n",
      "Epoch 17/40\n",
      "105/105 [==============================] - 5s 43ms/step - loss: 0.2084 - accuracy: 0.9268 - val_loss: 0.2965 - val_accuracy: 0.8986\n",
      "Epoch 18/40\n",
      "105/105 [==============================] - 5s 46ms/step - loss: 0.1728 - accuracy: 0.9402 - val_loss: 0.2979 - val_accuracy: 0.9111\n",
      "Epoch 19/40\n",
      "105/105 [==============================] - 5s 45ms/step - loss: 0.2411 - accuracy: 0.9345 - val_loss: 0.3149 - val_accuracy: 0.9139\n",
      "Epoch 20/40\n",
      "105/105 [==============================] - 5s 44ms/step - loss: 0.1615 - accuracy: 0.9446 - val_loss: 0.3513 - val_accuracy: 0.9014\n",
      "Epoch 21/40\n",
      "105/105 [==============================] - 5s 44ms/step - loss: 0.1210 - accuracy: 0.9554 - val_loss: 0.3524 - val_accuracy: 0.8972\n",
      "Epoch 22/40\n",
      "105/105 [==============================] - 5s 44ms/step - loss: 0.1658 - accuracy: 0.9500 - val_loss: 0.2822 - val_accuracy: 0.9153\n",
      "Epoch 23/40\n",
      "105/105 [==============================] - 5s 45ms/step - loss: 0.1132 - accuracy: 0.9613 - val_loss: 0.3187 - val_accuracy: 0.9097\n",
      "Epoch 24/40\n",
      "105/105 [==============================] - 5s 45ms/step - loss: 0.1078 - accuracy: 0.9631 - val_loss: 0.4593 - val_accuracy: 0.8889\n",
      "Epoch 25/40\n",
      "105/105 [==============================] - 5s 44ms/step - loss: 0.0929 - accuracy: 0.9732 - val_loss: 0.3130 - val_accuracy: 0.9278\n",
      "Epoch 26/40\n",
      "105/105 [==============================] - 5s 45ms/step - loss: 0.0938 - accuracy: 0.9682 - val_loss: 0.5486 - val_accuracy: 0.8986\n",
      "Epoch 27/40\n",
      "105/105 [==============================] - 5s 44ms/step - loss: 0.0753 - accuracy: 0.9768 - val_loss: 0.5027 - val_accuracy: 0.8944\n",
      "Epoch 28/40\n",
      "105/105 [==============================] - 5s 44ms/step - loss: 0.0964 - accuracy: 0.9771 - val_loss: 0.4666 - val_accuracy: 0.8931\n",
      "Epoch 29/40\n",
      "105/105 [==============================] - 5s 44ms/step - loss: 0.0656 - accuracy: 0.9798 - val_loss: 0.3057 - val_accuracy: 0.9222\n",
      "Epoch 30/40\n",
      "105/105 [==============================] - 5s 44ms/step - loss: 0.0736 - accuracy: 0.9783 - val_loss: 0.4522 - val_accuracy: 0.9056\n",
      "Epoch 31/40\n",
      "105/105 [==============================] - 5s 43ms/step - loss: 0.0935 - accuracy: 0.9732 - val_loss: 0.4486 - val_accuracy: 0.9111\n",
      "Epoch 32/40\n",
      "105/105 [==============================] - 5s 43ms/step - loss: 0.0611 - accuracy: 0.9845 - val_loss: 0.3252 - val_accuracy: 0.9375\n",
      "Epoch 33/40\n",
      "105/105 [==============================] - 5s 44ms/step - loss: 0.0522 - accuracy: 0.9863 - val_loss: 0.3517 - val_accuracy: 0.9347\n",
      "Epoch 34/40\n",
      "105/105 [==============================] - 5s 51ms/step - loss: 0.1260 - accuracy: 0.9833 - val_loss: 0.3441 - val_accuracy: 0.9375\n",
      "Epoch 35/40\n",
      "105/105 [==============================] - 5s 44ms/step - loss: 0.0618 - accuracy: 0.9893 - val_loss: 0.3485 - val_accuracy: 0.9417\n",
      "Epoch 36/40\n",
      "105/105 [==============================] - 5s 44ms/step - loss: 0.0719 - accuracy: 0.9836 - val_loss: 0.3441 - val_accuracy: 0.9264\n",
      "Epoch 37/40\n",
      "105/105 [==============================] - 5s 46ms/step - loss: 0.0676 - accuracy: 0.9848 - val_loss: 0.3897 - val_accuracy: 0.9278\n",
      "Epoch 38/40\n",
      "105/105 [==============================] - 5s 44ms/step - loss: 0.1698 - accuracy: 0.9780 - val_loss: 0.5030 - val_accuracy: 0.9042\n",
      "Epoch 39/40\n",
      "105/105 [==============================] - 5s 44ms/step - loss: 0.0439 - accuracy: 0.9881 - val_loss: 0.3764 - val_accuracy: 0.9417\n",
      "Epoch 40/40\n",
      "105/105 [==============================] - 5s 44ms/step - loss: 0.0614 - accuracy: 0.9869 - val_loss: 0.4563 - val_accuracy: 0.9097\n"
     ]
    }
   ],
   "source": [
    "history = model.fit(\n",
    "  train.cache(),\n",
    "  epochs=40,\n",
    "  callbacks=callbacks_list,\n",
    "  validation_data=val.cache()\n",
    ")"
   ]
  },
  {
   "cell_type": "markdown",
   "metadata": {},
   "source": [
    "# Evaluating the model"
   ]
  },
  {
   "cell_type": "code",
   "execution_count": 7,
   "metadata": {},
   "outputs": [
    {
     "name": "stdout",
     "output_type": "stream",
     "text": [
      " 7/23 [========>.....................] - ETA: 0s - loss: 0.1996 - accuracy: 0.9554"
     ]
    },
    {
     "name": "stderr",
     "output_type": "stream",
     "text": [
      "2022-08-07 14:53:55.739801: I tensorflow/core/grappler/optimizers/custom_graph_optimizer_registry.cc:112] Plugin optimizer for device_type GPU is enabled.\n"
     ]
    },
    {
     "name": "stdout",
     "output_type": "stream",
     "text": [
      "23/23 [==============================] - 1s 17ms/step - loss: 0.2399 - accuracy: 0.9417\n"
     ]
    },
    {
     "data": {
      "text/plain": [
       "[0.2399435043334961, 0.9416666626930237]"
      ]
     },
     "execution_count": 7,
     "metadata": {},
     "output_type": "execute_result"
    }
   ],
   "source": [
    "# model.evaluate(test)\n",
    "\n",
    "load_model = keras.models.load_model(\"../../models/zenodo/m3_medium.h5\")\n",
    "load_model.evaluate(test)"
   ]
  },
  {
   "cell_type": "code",
   "execution_count": 8,
   "metadata": {},
   "outputs": [
    {
     "data": {
      "text/plain": [
       "<module 'matplotlib.pyplot' from '/opt/homebrew/Caskroom/miniforge/base/lib/python3.9/site-packages/matplotlib/pyplot.py'>"
      ]
     },
     "execution_count": 8,
     "metadata": {},
     "output_type": "execute_result"
    },
    {
     "data": {
      "image/png": "[encoded data removed]",
      "text/plain": [
       "<Figure size 432x288 with 1 Axes>"
      ]
     },
     "metadata": {
      "needs_background": "light"
     },
     "output_type": "display_data"
    }
   ],
   "source": [
    "# Plotting loss and accuracy graphs\n",
    "## Plotting loss\n",
    "plot_loss(history)\n"
   ]
  },
  {
   "cell_type": "code",
   "execution_count": 9,
   "metadata": {},
   "outputs": [
    {
     "data": {
      "text/plain": [
       "<module 'matplotlib.pyplot' from '/opt/homebrew/Caskroom/miniforge/base/lib/python3.9/site-packages/matplotlib/pyplot.py'>"
      ]
     },
     "execution_count": 9,
     "metadata": {},
     "output_type": "execute_result"
    },
    {
     "data": {
      "image/png": "[encoded data removed]",
      "text/plain": [
       "<Figure size 432x288 with 1 Axes>"
      ]
     },
     "metadata": {
      "needs_background": "light"
     },
     "output_type": "display_data"
    }
   ],
   "source": [
    "## Plotting accuracy\n",
    "plot_acc(history)"
   ]
  }
 ],
 "metadata": {
  "kernelspec": {
   "display_name": "Python 3.9.7 ('base')",
   "language": "python",
   "name": "python3"
  },
  "language_info": {
   "codemirror_mode": {
    "name": "ipython",
    "version": 3
   },
   "file_extension": ".py",
   "mimetype": "text/x-python",
   "name": "python",
   "nbconvert_exporter": "python",
   "pygments_lexer": "ipython3",
   "version": "3.9.7"
  },
  "orig_nbformat": 4,
  "vscode": {
   "interpreter": {
    "hash": "c6e4e9f98eb68ad3b7c296f83d20e6de614cb42e90992a65aa266555a3137d0d"
   }
  }
 },
 "nbformat": 4,
 "nbformat_minor": 2
}
