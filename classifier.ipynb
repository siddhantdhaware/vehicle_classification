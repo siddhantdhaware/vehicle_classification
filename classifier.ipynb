{
 "cells": [
  {
   "cell_type": "markdown",
   "metadata": {},
   "source": [
    "# 1 Colors_1 classification model"
   ]
  },
  {
   "cell_type": "code",
   "execution_count": 8,
   "metadata": {},
   "outputs": [],
   "source": [
    "import tensorflow as tf\n",
    "from tensorflow.keras import layers, utils\n",
    "from tensorflow import keras\n",
    "from matplotlib import pyplot as plt"
   ]
  },
  {
   "cell_type": "code",
   "execution_count": 36,
   "metadata": {},
   "outputs": [],
   "source": [
    "IMAGE_SIZE = 90\n",
    "BATCH_SIZE = 32"
   ]
  },
  {
   "cell_type": "code",
   "execution_count": 37,
   "metadata": {},
   "outputs": [
    {
     "name": "stdout",
     "output_type": "stream",
     "text": [
      "Found 7267 files belonging to 15 classes.\n",
      "Found 1550 files belonging to 15 classes.\n",
      "Found 1556 files belonging to 15 classes.\n"
     ]
    }
   ],
   "source": [
    "colors_1_train = utils.image_dataset_from_directory(\"datasets/data/split/colors_1/train/\", image_size=(IMAGE_SIZE, IMAGE_SIZE), batch_size=BATCH_SIZE)\n",
    "colors_1_val = utils.image_dataset_from_directory(\"datasets/data/split/colors_1/val\", image_size=(IMAGE_SIZE, IMAGE_SIZE), batch_size=BATCH_SIZE)\n",
    "colors_1_test = utils.image_dataset_from_directory(\"datasets/data/split/colors_1/test\", image_size=(IMAGE_SIZE, IMAGE_SIZE), batch_size=BATCH_SIZE)"
   ]
  },
  {
   "cell_type": "code",
   "execution_count": 38,
   "metadata": {},
   "outputs": [
    {
     "name": "stdout",
     "output_type": "stream",
     "text": [
      "Model: \"model_11\"\n",
      "_________________________________________________________________\n",
      " Layer (type)                Output Shape              Param #   \n",
      "=================================================================\n",
      " input_12 (InputLayer)       [(None, 90, 90, 3)]       0         \n",
      "                                                                 \n",
      " rescaling_11 (Rescaling)    (None, 90, 90, 3)         0         \n",
      "                                                                 \n",
      " conv2d_48 (Conv2D)          (None, 88, 88, 32)        896       \n",
      "                                                                 \n",
      " max_pooling2d_42 (MaxPoolin  (None, 44, 44, 32)       0         \n",
      " g2D)                                                            \n",
      "                                                                 \n",
      " conv2d_49 (Conv2D)          (None, 42, 42, 64)        18496     \n",
      "                                                                 \n",
      " max_pooling2d_43 (MaxPoolin  (None, 21, 21, 64)       0         \n",
      " g2D)                                                            \n",
      "                                                                 \n",
      " conv2d_50 (Conv2D)          (None, 19, 19, 128)       73856     \n",
      "                                                                 \n",
      " max_pooling2d_44 (MaxPoolin  (None, 9, 9, 128)        0         \n",
      " g2D)                                                            \n",
      "                                                                 \n",
      " conv2d_51 (Conv2D)          (None, 7, 7, 256)         295168    \n",
      "                                                                 \n",
      " global_average_pooling2d_5   (None, 256)              0         \n",
      " (GlobalAveragePooling2D)                                        \n",
      "                                                                 \n",
      " dense_11 (Dense)            (None, 15)                3855      \n",
      "                                                                 \n",
      "=================================================================\n",
      "Total params: 392,271\n",
      "Trainable params: 392,271\n",
      "Non-trainable params: 0\n",
      "_________________________________________________________________\n"
     ]
    }
   ],
   "source": [
    "colors_1_inputs = keras.Input(shape=(IMAGE_SIZE, IMAGE_SIZE, 3))\n",
    "\n",
    "x = layers.Rescaling(1./255)(colors_1_inputs)\n",
    "x = layers.Conv2D(filters=32, kernel_size=3, activation=\"relu\")(x) \n",
    "x = layers.MaxPooling2D(pool_size=2)(x)\n",
    "x = layers.Conv2D(filters=64, kernel_size=3, activation=\"relu\")(x) \n",
    "x = layers.MaxPooling2D(pool_size=2)(x)\n",
    "x = layers.Conv2D(filters=128, kernel_size=3, activation=\"relu\")(x) \n",
    "x = layers.MaxPooling2D(pool_size=2)(x)\n",
    "x = layers.Conv2D(filters=256, kernel_size=3, activation=\"relu\")(x) \n",
    "# x = layers.MaxPooling2D(pool_size=2)(x)\n",
    "# x = layers.GlobalAveragePooling2D()(x)\n",
    "\n",
    "x = layers.Flatten()(x)\n",
    "\n",
    "colors_1_outputs = layers.Dense(15, activation=\"softmax\")(x)\n",
    "\n",
    "colors_1_model = keras.Model(inputs=colors_1_inputs, outputs=colors_1_outputs)\n",
    "\n",
    "colors_1_model.compile(optimizer='rmsprop', loss='sparse_categorical_crossentropy', metrics=['accuracy'])\n",
    "\n",
    "colors_1_model.summary()"
   ]
  },
  {
   "cell_type": "code",
   "execution_count": 39,
   "metadata": {},
   "outputs": [
    {
     "name": "stdout",
     "output_type": "stream",
     "text": [
      "Epoch 1/30\n"
     ]
    },
    {
     "name": "stderr",
     "output_type": "stream",
     "text": [
      "2022-07-29 04:37:03.130201: I tensorflow/core/grappler/optimizers/custom_graph_optimizer_registry.cc:112] Plugin optimizer for device_type GPU is enabled.\n"
     ]
    },
    {
     "name": "stdout",
     "output_type": "stream",
     "text": [
      "228/228 [==============================] - ETA: 0s - loss: 1.4530 - accuracy: 0.4988"
     ]
    },
    {
     "name": "stderr",
     "output_type": "stream",
     "text": [
      "2022-07-29 04:37:13.324699: I tensorflow/core/grappler/optimizers/custom_graph_optimizer_registry.cc:112] Plugin optimizer for device_type GPU is enabled.\n"
     ]
    },
    {
     "name": "stdout",
     "output_type": "stream",
     "text": [
      "228/228 [==============================] - 12s 48ms/step - loss: 1.4530 - accuracy: 0.4988 - val_loss: 1.3239 - val_accuracy: 0.5374\n",
      "Epoch 2/30\n",
      "228/228 [==============================] - 9s 40ms/step - loss: 1.0183 - accuracy: 0.6459 - val_loss: 1.6631 - val_accuracy: 0.5052\n",
      "Epoch 3/30\n",
      "228/228 [==============================] - 9s 39ms/step - loss: 0.8864 - accuracy: 0.6874 - val_loss: 1.5193 - val_accuracy: 0.5703\n",
      "Epoch 4/30\n",
      "228/228 [==============================] - 9s 39ms/step - loss: 0.8126 - accuracy: 0.7145 - val_loss: 1.3653 - val_accuracy: 0.5987\n",
      "Epoch 5/30\n",
      "228/228 [==============================] - 9s 38ms/step - loss: 0.7642 - accuracy: 0.7330 - val_loss: 0.9528 - val_accuracy: 0.6935\n",
      "Epoch 6/30\n",
      "228/228 [==============================] - 9s 38ms/step - loss: 0.7294 - accuracy: 0.7434 - val_loss: 0.8734 - val_accuracy: 0.7097\n",
      "Epoch 7/30\n",
      "228/228 [==============================] - 9s 39ms/step - loss: 0.6936 - accuracy: 0.7574 - val_loss: 0.6512 - val_accuracy: 0.7652\n",
      "Epoch 8/30\n",
      "228/228 [==============================] - 9s 39ms/step - loss: 0.6635 - accuracy: 0.7665 - val_loss: 0.6524 - val_accuracy: 0.7626\n",
      "Epoch 9/30\n",
      "228/228 [==============================] - 9s 40ms/step - loss: 0.6359 - accuracy: 0.7789 - val_loss: 0.8292 - val_accuracy: 0.6981\n",
      "Epoch 10/30\n",
      "228/228 [==============================] - 10s 44ms/step - loss: 0.6187 - accuracy: 0.7875 - val_loss: 0.6301 - val_accuracy: 0.7671\n",
      "Epoch 11/30\n",
      "228/228 [==============================] - 10s 44ms/step - loss: 0.5898 - accuracy: 0.7961 - val_loss: 0.5794 - val_accuracy: 0.7761\n",
      "Epoch 12/30\n",
      "228/228 [==============================] - 10s 45ms/step - loss: 0.5656 - accuracy: 0.8020 - val_loss: 0.6720 - val_accuracy: 0.7458\n",
      "Epoch 13/30\n",
      "228/228 [==============================] - 10s 42ms/step - loss: 0.5454 - accuracy: 0.8124 - val_loss: 0.5950 - val_accuracy: 0.7781\n",
      "Epoch 14/30\n",
      "228/228 [==============================] - 10s 45ms/step - loss: 0.5220 - accuracy: 0.8197 - val_loss: 0.6026 - val_accuracy: 0.7774\n",
      "Epoch 15/30\n",
      "228/228 [==============================] - 11s 46ms/step - loss: 0.5077 - accuracy: 0.8274 - val_loss: 0.6108 - val_accuracy: 0.7748\n",
      "Epoch 16/30\n",
      "228/228 [==============================] - 11s 47ms/step - loss: 0.4866 - accuracy: 0.8324 - val_loss: 0.5607 - val_accuracy: 0.7968\n",
      "Epoch 17/30\n",
      "228/228 [==============================] - 11s 47ms/step - loss: 0.4716 - accuracy: 0.8384 - val_loss: 0.5426 - val_accuracy: 0.8039\n",
      "Epoch 18/30\n",
      "228/228 [==============================] - 11s 46ms/step - loss: 0.4494 - accuracy: 0.8448 - val_loss: 0.5910 - val_accuracy: 0.7865\n",
      "Epoch 19/30\n",
      "228/228 [==============================] - 11s 47ms/step - loss: 0.4310 - accuracy: 0.8526 - val_loss: 0.5990 - val_accuracy: 0.7858\n",
      "Epoch 20/30\n",
      "228/228 [==============================] - 11s 48ms/step - loss: 0.4148 - accuracy: 0.8592 - val_loss: 0.6270 - val_accuracy: 0.7806\n",
      "Epoch 21/30\n",
      "228/228 [==============================] - 11s 46ms/step - loss: 0.4000 - accuracy: 0.8580 - val_loss: 0.6458 - val_accuracy: 0.7884\n",
      "Epoch 22/30\n",
      "228/228 [==============================] - 11s 46ms/step - loss: 0.3872 - accuracy: 0.8651 - val_loss: 0.6193 - val_accuracy: 0.7890\n",
      "Epoch 23/30\n",
      "228/228 [==============================] - 11s 48ms/step - loss: 0.3681 - accuracy: 0.8722 - val_loss: 0.5758 - val_accuracy: 0.8000\n",
      "Epoch 24/30\n",
      "228/228 [==============================] - 11s 48ms/step - loss: 0.3495 - accuracy: 0.8821 - val_loss: 0.6274 - val_accuracy: 0.7923\n",
      "Epoch 25/30\n",
      "228/228 [==============================] - 11s 46ms/step - loss: 0.3350 - accuracy: 0.8862 - val_loss: 0.6206 - val_accuracy: 0.8019\n",
      "Epoch 26/30\n",
      "228/228 [==============================] - 10s 45ms/step - loss: 0.3201 - accuracy: 0.8912 - val_loss: 0.7312 - val_accuracy: 0.7813\n",
      "Epoch 27/30\n",
      "228/228 [==============================] - 11s 48ms/step - loss: 0.3061 - accuracy: 0.8951 - val_loss: 0.6351 - val_accuracy: 0.7826\n",
      "Epoch 28/30\n",
      "228/228 [==============================] - 10s 45ms/step - loss: 0.2903 - accuracy: 0.8990 - val_loss: 0.7714 - val_accuracy: 0.7826\n",
      "Epoch 29/30\n",
      "228/228 [==============================] - 11s 49ms/step - loss: 0.2727 - accuracy: 0.9071 - val_loss: 0.6724 - val_accuracy: 0.8000\n",
      "Epoch 30/30\n",
      "228/228 [==============================] - 11s 46ms/step - loss: 0.2658 - accuracy: 0.9106 - val_loss: 0.7268 - val_accuracy: 0.7948\n"
     ]
    }
   ],
   "source": [
    "history = colors_1_model.fit(\n",
    "  colors_1_train.cache(),\n",
    "  epochs=30,\n",
    "  validation_data=colors_1_val.cache()\n",
    ")"
   ]
  },
  {
   "cell_type": "markdown",
   "metadata": {},
   "source": [
    "# 2 Vehicle Type classification"
   ]
  },
  {
   "cell_type": "code",
   "execution_count": 21,
   "metadata": {},
   "outputs": [
    {
     "name": "stdout",
     "output_type": "stream",
     "text": [
      "Found 840 files belonging to 3 classes.\n",
      "Found 180 files belonging to 3 classes.\n",
      "Found 180 files belonging to 3 classes.\n"
     ]
    }
   ],
   "source": [
    "vehicle_type_train = utils.image_dataset_from_directory(\"datasets/data/split/vehicle_type/train/\", image_size=(224, 224), batch_size=16)\n",
    "vehicle_type_val = utils.image_dataset_from_directory(\"datasets/data/split/vehicle_type/val\", image_size=(224, 224), batch_size=16)\n",
    "vehicle_type_test = utils.image_dataset_from_directory(\"datasets/data/split/vehicle_type/test\", image_size=(224, 224), batch_size=16)"
   ]
  },
  {
   "cell_type": "code",
   "execution_count": 22,
   "metadata": {},
   "outputs": [
    {
     "name": "stdout",
     "output_type": "stream",
     "text": [
      "Model: \"model_7\"\n",
      "_________________________________________________________________\n",
      " Layer (type)                Output Shape              Param #   \n",
      "=================================================================\n",
      " input_8 (InputLayer)        [(None, 224, 224, 3)]     0         \n",
      "                                                                 \n",
      " rescaling_7 (Rescaling)     (None, 224, 224, 3)       0         \n",
      "                                                                 \n",
      " conv2d_31 (Conv2D)          (None, 222, 222, 32)      896       \n",
      "                                                                 \n",
      " max_pooling2d_28 (MaxPoolin  (None, 111, 111, 32)     0         \n",
      " g2D)                                                            \n",
      "                                                                 \n",
      " conv2d_32 (Conv2D)          (None, 109, 109, 64)      18496     \n",
      "                                                                 \n",
      " max_pooling2d_29 (MaxPoolin  (None, 54, 54, 64)       0         \n",
      " g2D)                                                            \n",
      "                                                                 \n",
      " conv2d_33 (Conv2D)          (None, 52, 52, 128)       73856     \n",
      "                                                                 \n",
      " max_pooling2d_30 (MaxPoolin  (None, 26, 26, 128)      0         \n",
      " g2D)                                                            \n",
      "                                                                 \n",
      " conv2d_34 (Conv2D)          (None, 24, 24, 256)       295168    \n",
      "                                                                 \n",
      " max_pooling2d_31 (MaxPoolin  (None, 12, 12, 256)      0         \n",
      " g2D)                                                            \n",
      "                                                                 \n",
      " conv2d_35 (Conv2D)          (None, 10, 10, 512)       1180160   \n",
      "                                                                 \n",
      " global_average_pooling2d_2   (None, 512)              0         \n",
      " (GlobalAveragePooling2D)                                        \n",
      "                                                                 \n",
      " dense_7 (Dense)             (None, 3)                 1539      \n",
      "                                                                 \n",
      "=================================================================\n",
      "Total params: 1,570,115\n",
      "Trainable params: 1,570,115\n",
      "Non-trainable params: 0\n",
      "_________________________________________________________________\n"
     ]
    }
   ],
   "source": [
    "vehicle_type_inputs = keras.Input(shape=(224, 224, 3))\n",
    "\n",
    "x = layers.Rescaling(1./255)(vehicle_type_inputs)\n",
    "x = layers.Conv2D(filters=32, kernel_size=3, activation=\"relu\")(x) \n",
    "x = layers.MaxPooling2D(pool_size=2)(x)\n",
    "x = layers.Conv2D(filters=64, kernel_size=3, activation=\"relu\")(x) \n",
    "x = layers.MaxPooling2D(pool_size=2)(x)\n",
    "x = layers.Conv2D(filters=128, kernel_size=3, activation=\"relu\")(x) \n",
    "x = layers.MaxPooling2D(pool_size=2)(x)\n",
    "x = layers.Conv2D(filters=256, kernel_size=3, activation=\"relu\")(x) \n",
    "x = layers.MaxPooling2D(pool_size=2)(x)\n",
    "x = layers.Conv2D(filters=512, kernel_size=3, activation=\"relu\")(x)\n",
    "\n",
    "# x = layers.Flatten()(x)\n",
    "x = layers.GlobalAveragePooling2D()(x)\n",
    "\n",
    "vehicle_type_outputs = layers.Dense(3, activation=\"softmax\")(x)\n",
    "\n",
    "vehicle_type_model = keras.Model(inputs=vehicle_type_inputs, outputs=vehicle_type_outputs)\n",
    "\n",
    "vehicle_type_model.compile(optimizer='rmsprop', loss='sparse_categorical_crossentropy', metrics=['accuracy'])\n",
    "\n",
    "vehicle_type_model.summary()"
   ]
  },
  {
   "cell_type": "code",
   "execution_count": 24,
   "metadata": {},
   "outputs": [
    {
     "name": "stdout",
     "output_type": "stream",
     "text": [
      "Epoch 1/20\n",
      "53/53 [==============================] - 8s 146ms/step - loss: 0.4631 - accuracy: 0.8440 - val_loss: 0.7853 - val_accuracy: 0.6444\n",
      "Epoch 2/20\n",
      "53/53 [==============================] - 7s 133ms/step - loss: 0.4385 - accuracy: 0.8476 - val_loss: 0.4463 - val_accuracy: 0.8222\n",
      "Epoch 3/20\n",
      "53/53 [==============================] - 7s 127ms/step - loss: 0.3545 - accuracy: 0.8702 - val_loss: 0.5103 - val_accuracy: 0.8222\n",
      "Epoch 4/20\n",
      "53/53 [==============================] - 7s 125ms/step - loss: 0.3284 - accuracy: 0.8869 - val_loss: 0.8037 - val_accuracy: 0.7389\n",
      "Epoch 5/20\n",
      "53/53 [==============================] - 7s 126ms/step - loss: 0.3146 - accuracy: 0.8964 - val_loss: 0.3971 - val_accuracy: 0.8611\n",
      "Epoch 6/20\n",
      "53/53 [==============================] - 7s 131ms/step - loss: 0.2583 - accuracy: 0.8964 - val_loss: 0.4004 - val_accuracy: 0.8833\n",
      "Epoch 7/20\n",
      "53/53 [==============================] - 7s 134ms/step - loss: 0.2879 - accuracy: 0.9155 - val_loss: 0.5110 - val_accuracy: 0.8444\n",
      "Epoch 8/20\n",
      "53/53 [==============================] - 7s 135ms/step - loss: 0.2234 - accuracy: 0.9131 - val_loss: 0.4450 - val_accuracy: 0.8667\n",
      "Epoch 9/20\n",
      "53/53 [==============================] - 7s 130ms/step - loss: 0.3181 - accuracy: 0.9095 - val_loss: 0.3448 - val_accuracy: 0.8611\n",
      "Epoch 10/20\n",
      "53/53 [==============================] - 7s 129ms/step - loss: 0.1732 - accuracy: 0.9452 - val_loss: 0.3720 - val_accuracy: 0.8778\n",
      "Epoch 11/20\n",
      "53/53 [==============================] - 8s 142ms/step - loss: 0.2300 - accuracy: 0.9262 - val_loss: 0.4899 - val_accuracy: 0.8611\n",
      "Epoch 12/20\n",
      "53/53 [==============================] - 7s 135ms/step - loss: 0.1568 - accuracy: 0.9464 - val_loss: 0.3316 - val_accuracy: 0.8778\n",
      "Epoch 13/20\n",
      "53/53 [==============================] - 7s 127ms/step - loss: 0.2412 - accuracy: 0.9393 - val_loss: 0.4272 - val_accuracy: 0.8778\n",
      "Epoch 14/20\n",
      "53/53 [==============================] - 7s 130ms/step - loss: 0.1612 - accuracy: 0.9357 - val_loss: 0.2327 - val_accuracy: 0.9222\n",
      "Epoch 15/20\n",
      "53/53 [==============================] - 7s 132ms/step - loss: 0.1440 - accuracy: 0.9488 - val_loss: 0.3725 - val_accuracy: 0.8944\n",
      "Epoch 16/20\n",
      "53/53 [==============================] - 8s 142ms/step - loss: 0.1705 - accuracy: 0.9524 - val_loss: 0.3885 - val_accuracy: 0.8778\n",
      "Epoch 17/20\n",
      "53/53 [==============================] - 8s 145ms/step - loss: 0.1372 - accuracy: 0.9583 - val_loss: 0.3938 - val_accuracy: 0.8833\n",
      "Epoch 18/20\n",
      "53/53 [==============================] - 7s 137ms/step - loss: 0.1121 - accuracy: 0.9619 - val_loss: 0.5635 - val_accuracy: 0.8833\n",
      "Epoch 19/20\n",
      "53/53 [==============================] - 7s 138ms/step - loss: 0.2510 - accuracy: 0.9548 - val_loss: 0.3449 - val_accuracy: 0.8889\n",
      "Epoch 20/20\n",
      "53/53 [==============================] - 7s 140ms/step - loss: 0.1889 - accuracy: 0.9595 - val_loss: 0.9309 - val_accuracy: 0.8056\n"
     ]
    }
   ],
   "source": [
    "history = vehicle_type_model.fit(\n",
    "  vehicle_type_train.cache(),\n",
    "  epochs=20,\n",
    "  validation_data=vehicle_type_val.cache()\n",
    ")"
   ]
  },
  {
   "cell_type": "code",
   "execution_count": 25,
   "metadata": {},
   "outputs": [
    {
     "name": "stdout",
     "output_type": "stream",
     "text": [
      "12/12 [==============================] - 1s 39ms/step - loss: 1.0187 - accuracy: 0.8333\n"
     ]
    },
    {
     "data": {
      "text/plain": [
       "[1.0186684131622314, 0.8333333730697632]"
      ]
     },
     "execution_count": 25,
     "metadata": {},
     "output_type": "execute_result"
    }
   ],
   "source": [
    "vehicle_type_model.evaluate(vehicle_type_test)"
   ]
  }
 ],
 "metadata": {
  "kernelspec": {
   "display_name": "Python 3.9.7 ('base')",
   "language": "python",
   "name": "python3"
  },
  "language_info": {
   "codemirror_mode": {
    "name": "ipython",
    "version": 3
   },
   "file_extension": ".py",
   "mimetype": "text/x-python",
   "name": "python",
   "nbconvert_exporter": "python",
   "pygments_lexer": "ipython3",
   "version": "3.9.7"
  },
  "orig_nbformat": 4,
  "vscode": {
   "interpreter": {
    "hash": "c6e4e9f98eb68ad3b7c296f83d20e6de614cb42e90992a65aa266555a3137d0d"
   }
  }
 },
 "nbformat": 4,
 "nbformat_minor": 2
}
