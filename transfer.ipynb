{
 "cells": [
  {
   "cell_type": "code",
   "execution_count": 1,
   "metadata": {},
   "outputs": [],
   "source": [
    "from tensorflow import keras"
   ]
  },
  {
   "cell_type": "markdown",
   "metadata": {},
   "source": [
    "# Train all except the first two conv2d layers"
   ]
  },
  {
   "cell_type": "code",
   "execution_count": 36,
   "metadata": {},
   "outputs": [
    {
     "name": "stdout",
     "output_type": "stream",
     "text": [
      "Model: \"model_12\"\n",
      "_________________________________________________________________\n",
      " Layer (type)                Output Shape              Param #   \n",
      "=================================================================\n",
      " input_1 (InputLayer)        [(None, 100, 100, 3)]     0         \n",
      "                                                                 \n",
      " conv2d (Conv2D)             (None, 98, 98, 32)        896       \n",
      "                                                                 \n",
      " max_pooling2d (MaxPooling2D  (None, 49, 49, 32)       0         \n",
      " )                                                               \n",
      "                                                                 \n",
      " conv2d_1 (Conv2D)           (None, 47, 47, 64)        18496     \n",
      "                                                                 \n",
      " max_pooling2d_1 (MaxPooling  (None, 23, 23, 64)       0         \n",
      " 2D)                                                             \n",
      "                                                                 \n",
      " conv2d_2 (Conv2D)           (None, 21, 21, 128)       73856     \n",
      "                                                                 \n",
      " max_pooling2d_2 (MaxPooling  (None, 10, 10, 128)      0         \n",
      " 2D)                                                             \n",
      "                                                                 \n",
      " conv2d_3 (Conv2D)           (None, 8, 8, 256)         295168    \n",
      "                                                                 \n",
      " global_average_pooling2d (G  (None, 256)              0         \n",
      " lobalAveragePooling2D)                                          \n",
      "                                                                 \n",
      " dense (Dense)               (None, 256)               65792     \n",
      "                                                                 \n",
      " dropout (Dropout)           (None, 256)               0         \n",
      "                                                                 \n",
      " classifier (Dense)          (None, 6)                 1542      \n",
      "                                                                 \n",
      "=================================================================\n",
      "Total params: 455,750\n",
      "Trainable params: 436,358\n",
      "Non-trainable params: 19,392\n",
      "_________________________________________________________________\n"
     ]
    }
   ],
   "source": [
    "vtid = keras.models.load_model('models/vtid2_1.h5')\n",
    "vtid.trainable = False\n",
    "\n",
    "for layer in vtid.layers[5:]:\n",
    "  layer.trainable = True\n",
    "\n",
    "x = vtid.layers[-2].output\n",
    "outputs = keras.layers.Dense(6, activation='softmax', name='classifier')(x)\n",
    "model = keras.Model(vtid.inputs, outputs)\n",
    "model.compile(optimizer='rmsprop', loss='sparse_categorical_crossentropy', metrics=['accuracy'])\n",
    "\n",
    "model.summary()"
   ]
  },
  {
   "cell_type": "code",
   "execution_count": 19,
   "metadata": {},
   "outputs": [
    {
     "name": "stdout",
     "output_type": "stream",
     "text": [
      "Found 3360 files belonging to 6 classes.\n",
      "Found 720 files belonging to 6 classes.\n",
      "Found 720 files belonging to 6 classes.\n",
      "Epoch 1/40\n"
     ]
    },
    {
     "name": "stderr",
     "output_type": "stream",
     "text": [
      "2022-08-02 06:19:52.933020: I tensorflow/core/grappler/optimizers/custom_graph_optimizer_registry.cc:112] Plugin optimizer for device_type GPU is enabled.\n"
     ]
    },
    {
     "name": "stdout",
     "output_type": "stream",
     "text": [
      "104/105 [============================>.] - ETA: 0s - loss: 1.4717 - accuracy: 0.4570"
     ]
    },
    {
     "name": "stderr",
     "output_type": "stream",
     "text": [
      "2022-08-02 06:19:56.473166: I tensorflow/core/grappler/optimizers/custom_graph_optimizer_registry.cc:112] Plugin optimizer for device_type GPU is enabled.\n"
     ]
    },
    {
     "name": "stdout",
     "output_type": "stream",
     "text": [
      "105/105 [==============================] - 4s 36ms/step - loss: 1.4660 - accuracy: 0.4583 - val_loss: 0.9744 - val_accuracy: 0.6444\n",
      "Epoch 2/40\n",
      "105/105 [==============================] - 3s 29ms/step - loss: 0.8473 - accuracy: 0.6896 - val_loss: 1.1537 - val_accuracy: 0.6472\n",
      "Epoch 3/40\n",
      "105/105 [==============================] - 3s 28ms/step - loss: 0.6028 - accuracy: 0.7878 - val_loss: 0.5300 - val_accuracy: 0.8083\n",
      "Epoch 4/40\n",
      "105/105 [==============================] - 3s 29ms/step - loss: 0.4382 - accuracy: 0.8461 - val_loss: 0.6055 - val_accuracy: 0.8042\n",
      "Epoch 5/40\n",
      "105/105 [==============================] - 4s 34ms/step - loss: 0.3394 - accuracy: 0.8851 - val_loss: 0.5411 - val_accuracy: 0.8444\n",
      "Epoch 6/40\n",
      "105/105 [==============================] - 4s 36ms/step - loss: 0.2595 - accuracy: 0.9122 - val_loss: 0.5149 - val_accuracy: 0.8583\n",
      "Epoch 7/40\n",
      "105/105 [==============================] - 4s 36ms/step - loss: 0.2284 - accuracy: 0.9223 - val_loss: 1.3862 - val_accuracy: 0.7264\n",
      "Epoch 8/40\n",
      "105/105 [==============================] - 4s 37ms/step - loss: 0.2123 - accuracy: 0.9372 - val_loss: 1.4567 - val_accuracy: 0.7611\n",
      "Epoch 9/40\n",
      "105/105 [==============================] - 4s 36ms/step - loss: 0.2002 - accuracy: 0.9446 - val_loss: 0.7659 - val_accuracy: 0.8333\n",
      "Epoch 10/40\n",
      "105/105 [==============================] - 3s 33ms/step - loss: 0.1521 - accuracy: 0.9506 - val_loss: 0.4607 - val_accuracy: 0.8833\n",
      "Epoch 11/40\n",
      "105/105 [==============================] - 3s 32ms/step - loss: 0.1782 - accuracy: 0.9539 - val_loss: 0.4865 - val_accuracy: 0.8875\n",
      "Epoch 12/40\n",
      "105/105 [==============================] - 4s 34ms/step - loss: 0.1313 - accuracy: 0.9631 - val_loss: 0.8034 - val_accuracy: 0.8444\n",
      "Epoch 13/40\n",
      "105/105 [==============================] - 4s 34ms/step - loss: 0.1080 - accuracy: 0.9685 - val_loss: 0.7904 - val_accuracy: 0.8653\n",
      "Epoch 14/40\n",
      "105/105 [==============================] - 4s 34ms/step - loss: 0.1371 - accuracy: 0.9667 - val_loss: 0.5330 - val_accuracy: 0.8917\n",
      "Epoch 15/40\n",
      "105/105 [==============================] - 4s 41ms/step - loss: 0.1172 - accuracy: 0.9720 - val_loss: 0.5962 - val_accuracy: 0.8819\n",
      "Epoch 16/40\n",
      "105/105 [==============================] - 4s 43ms/step - loss: 0.1514 - accuracy: 0.9711 - val_loss: 0.6136 - val_accuracy: 0.8847\n",
      "Epoch 17/40\n",
      "105/105 [==============================] - 4s 37ms/step - loss: 0.0941 - accuracy: 0.9792 - val_loss: 1.0897 - val_accuracy: 0.8472\n",
      "Epoch 18/40\n",
      "105/105 [==============================] - 4s 36ms/step - loss: 0.1399 - accuracy: 0.9714 - val_loss: 0.6311 - val_accuracy: 0.9014\n",
      "Epoch 19/40\n",
      "105/105 [==============================] - 4s 34ms/step - loss: 0.1154 - accuracy: 0.9753 - val_loss: 0.7615 - val_accuracy: 0.8889\n",
      "Epoch 20/40\n",
      "105/105 [==============================] - 4s 39ms/step - loss: 0.1379 - accuracy: 0.9735 - val_loss: 0.5647 - val_accuracy: 0.8917\n",
      "Epoch 21/40\n",
      "105/105 [==============================] - 4s 34ms/step - loss: 0.0989 - accuracy: 0.9777 - val_loss: 0.7197 - val_accuracy: 0.8875\n",
      "Epoch 22/40\n",
      "105/105 [==============================] - 4s 38ms/step - loss: 0.1572 - accuracy: 0.9765 - val_loss: 0.5802 - val_accuracy: 0.9014\n",
      "Epoch 23/40\n",
      "105/105 [==============================] - 5s 44ms/step - loss: 0.1218 - accuracy: 0.9798 - val_loss: 0.7388 - val_accuracy: 0.8903\n",
      "Epoch 24/40\n",
      "105/105 [==============================] - 4s 41ms/step - loss: 0.1399 - accuracy: 0.9824 - val_loss: 0.9490 - val_accuracy: 0.8625\n",
      "Epoch 25/40\n",
      "105/105 [==============================] - 4s 39ms/step - loss: 0.1121 - accuracy: 0.9744 - val_loss: 2.4278 - val_accuracy: 0.8069\n",
      "Epoch 26/40\n",
      "105/105 [==============================] - 4s 36ms/step - loss: 0.1177 - accuracy: 0.9777 - val_loss: 1.0133 - val_accuracy: 0.8833\n",
      "Epoch 27/40\n",
      "105/105 [==============================] - 4s 35ms/step - loss: 0.1177 - accuracy: 0.9789 - val_loss: 0.7071 - val_accuracy: 0.9097\n",
      "Epoch 28/40\n",
      "105/105 [==============================] - 4s 36ms/step - loss: 0.1766 - accuracy: 0.9792 - val_loss: 0.9693 - val_accuracy: 0.8806\n",
      "Epoch 29/40\n",
      "105/105 [==============================] - 4s 35ms/step - loss: 0.1813 - accuracy: 0.9795 - val_loss: 1.2591 - val_accuracy: 0.8861\n",
      "Epoch 30/40\n",
      "105/105 [==============================] - 4s 38ms/step - loss: 0.0957 - accuracy: 0.9848 - val_loss: 0.8725 - val_accuracy: 0.9056\n",
      "Epoch 31/40\n",
      "105/105 [==============================] - 4s 39ms/step - loss: 0.1414 - accuracy: 0.9780 - val_loss: 0.8894 - val_accuracy: 0.8875\n",
      "Epoch 32/40\n",
      "105/105 [==============================] - 4s 36ms/step - loss: 0.1201 - accuracy: 0.9813 - val_loss: 0.9373 - val_accuracy: 0.9083\n",
      "Epoch 33/40\n",
      "105/105 [==============================] - 4s 35ms/step - loss: 0.1378 - accuracy: 0.9792 - val_loss: 0.8948 - val_accuracy: 0.9139\n",
      "Epoch 34/40\n",
      "105/105 [==============================] - 4s 39ms/step - loss: 0.1284 - accuracy: 0.9798 - val_loss: 1.2543 - val_accuracy: 0.8694\n",
      "Epoch 35/40\n",
      "105/105 [==============================] - 4s 38ms/step - loss: 0.1111 - accuracy: 0.9810 - val_loss: 0.6493 - val_accuracy: 0.9250\n",
      "Epoch 36/40\n",
      "105/105 [==============================] - 4s 36ms/step - loss: 0.0969 - accuracy: 0.9807 - val_loss: 0.9285 - val_accuracy: 0.9069\n",
      "Epoch 37/40\n",
      "105/105 [==============================] - 4s 36ms/step - loss: 0.1013 - accuracy: 0.9833 - val_loss: 0.8941 - val_accuracy: 0.9181\n",
      "Epoch 38/40\n",
      "105/105 [==============================] - 4s 37ms/step - loss: 0.1682 - accuracy: 0.9795 - val_loss: 0.9845 - val_accuracy: 0.9028\n",
      "Epoch 39/40\n",
      "105/105 [==============================] - 4s 36ms/step - loss: 0.1591 - accuracy: 0.9807 - val_loss: 1.1953 - val_accuracy: 0.9069\n",
      "Epoch 40/40\n",
      "105/105 [==============================] - 4s 37ms/step - loss: 0.0678 - accuracy: 0.9884 - val_loss: 1.3193 - val_accuracy: 0.8917\n"
     ]
    }
   ],
   "source": [
    "IMAGE_SIZE = 100\n",
    "BATCH_SIZE = 32\n",
    "\n",
    "train = keras.utils.image_dataset_from_directory(\"datasets/data/split/vehicles_zenodo/train/\", image_size=(IMAGE_SIZE, IMAGE_SIZE), batch_size=BATCH_SIZE)\n",
    "val = keras.utils.image_dataset_from_directory(\"datasets/data/split/vehicles_zenodo/val\", image_size=(IMAGE_SIZE, IMAGE_SIZE), batch_size=BATCH_SIZE)\n",
    "test = keras.utils.image_dataset_from_directory(\"datasets/data/split/vehicles_zenodo/test\", image_size=(IMAGE_SIZE, IMAGE_SIZE), batch_size=BATCH_SIZE)\n",
    "\n",
    "callbacks_list = [\n",
    "    # keras.callbacks.EarlyStopping(\n",
    "    #     monitor=\"val_accuracy\",\n",
    "    #     patience=7\n",
    "    # ),\n",
    "    keras.callbacks.ModelCheckpoint(\n",
    "        filepath=\"models/transfer_1.h5\",\n",
    "        monitor=\"val_loss\",\n",
    "        save_best_only=True\n",
    "    )\n",
    "]\n",
    "\n",
    "history = model.fit(\n",
    "  train.cache(),\n",
    "  epochs=40,\n",
    "  callbacks=callbacks_list,\n",
    "  validation_data=val.cache()\n",
    ")"
   ]
  },
  {
   "cell_type": "code",
   "execution_count": 32,
   "metadata": {},
   "outputs": [
    {
     "name": "stdout",
     "output_type": "stream",
     "text": [
      " 1/23 [>.............................] - ETA: 4s - loss: 0.3194 - accuracy: 0.8750"
     ]
    },
    {
     "name": "stderr",
     "output_type": "stream",
     "text": [
      "2022-08-02 06:33:15.189082: I tensorflow/core/grappler/optimizers/custom_graph_optimizer_registry.cc:112] Plugin optimizer for device_type GPU is enabled.\n"
     ]
    },
    {
     "name": "stdout",
     "output_type": "stream",
     "text": [
      "23/23 [==============================] - 1s 21ms/step - loss: 0.3787 - accuracy: 0.8958\n"
     ]
    },
    {
     "data": {
      "text/plain": [
       "[0.37866339087486267, 0.8958333730697632]"
      ]
     },
     "execution_count": 32,
     "metadata": {},
     "output_type": "execute_result"
    }
   ],
   "source": [
    "load_model_1 = keras.models.load_model(\"models/transfer_1.h5\")\n",
    "load_model_1.evaluate(test)"
   ]
  },
  {
   "cell_type": "markdown",
   "metadata": {},
   "source": [
    "# compare with untrained"
   ]
  },
  {
   "cell_type": "code",
   "execution_count": 22,
   "metadata": {},
   "outputs": [
    {
     "name": "stdout",
     "output_type": "stream",
     "text": [
      "Model: \"model_6\"\n",
      "_________________________________________________________________\n",
      " Layer (type)                Output Shape              Param #   \n",
      "=================================================================\n",
      " input_2 (InputLayer)        [(None, 100, 100, 3)]     0         \n",
      "                                                                 \n",
      " conv2d_4 (Conv2D)           (None, 98, 98, 32)        896       \n",
      "                                                                 \n",
      " max_pooling2d_3 (MaxPooling  (None, 49, 49, 32)       0         \n",
      " 2D)                                                             \n",
      "                                                                 \n",
      " conv2d_5 (Conv2D)           (None, 47, 47, 64)        18496     \n",
      "                                                                 \n",
      " max_pooling2d_4 (MaxPooling  (None, 23, 23, 64)       0         \n",
      " 2D)                                                             \n",
      "                                                                 \n",
      " conv2d_6 (Conv2D)           (None, 21, 21, 128)       73856     \n",
      "                                                                 \n",
      " max_pooling2d_5 (MaxPooling  (None, 10, 10, 128)      0         \n",
      " 2D)                                                             \n",
      "                                                                 \n",
      " conv2d_7 (Conv2D)           (None, 8, 8, 256)         295168    \n",
      "                                                                 \n",
      " global_average_pooling2d_1   (None, 256)              0         \n",
      " (GlobalAveragePooling2D)                                        \n",
      "                                                                 \n",
      " dense_3 (Dense)             (None, 256)               65792     \n",
      "                                                                 \n",
      " dropout_1 (Dropout)         (None, 256)               0         \n",
      "                                                                 \n",
      " dense_4 (Dense)             (None, 6)                 1542      \n",
      "                                                                 \n",
      "=================================================================\n",
      "Total params: 455,750\n",
      "Trainable params: 455,750\n",
      "Non-trainable params: 0\n",
      "_________________________________________________________________\n"
     ]
    }
   ],
   "source": [
    "inputs = keras.Input(shape=(100, 100, 3))\n",
    "x = keras.layers.Conv2D(32, 3, activation='relu')(inputs)\n",
    "x = keras.layers.MaxPooling2D(2)(x)\n",
    "x = keras.layers.Conv2D(64, 3, activation='relu')(x)\n",
    "x = keras.layers.MaxPooling2D(2)(x)\n",
    "x = keras.layers.Conv2D(128, 3, activation='relu')(x)\n",
    "x = keras.layers.MaxPooling2D(2)(x)\n",
    "x = keras.layers.Conv2D(256, 3, activation='relu')(x)\n",
    "x = keras.layers.GlobalAveragePooling2D()(x)\n",
    "x = keras.layers.Dense(256, activation='relu')(x)\n",
    "x = keras.layers.Dropout(0.5)(x)\n",
    "outputs = keras.layers.Dense(6, activation='softmax')(x)\n",
    "\n",
    "umodel = keras.Model(inputs, outputs)\n",
    "\n",
    "umodel.compile(optimizer='rmsprop', loss='sparse_categorical_crossentropy', metrics=['accuracy'])\n",
    "\n",
    "umodel.summary()"
   ]
  },
  {
   "cell_type": "code",
   "execution_count": 23,
   "metadata": {},
   "outputs": [
    {
     "name": "stdout",
     "output_type": "stream",
     "text": [
      "Epoch 1/40\n",
      "105/105 [==============================] - 4s 32ms/step - loss: 0.4972 - accuracy: 0.9443 - val_loss: 0.7289 - val_accuracy: 0.9125\n",
      "Epoch 2/40\n",
      "105/105 [==============================] - 4s 38ms/step - loss: 0.2194 - accuracy: 0.9625 - val_loss: 1.3313 - val_accuracy: 0.8653\n",
      "Epoch 3/40\n",
      "105/105 [==============================] - 3s 30ms/step - loss: 0.1397 - accuracy: 0.9702 - val_loss: 0.6823 - val_accuracy: 0.9264\n",
      "Epoch 4/40\n",
      "105/105 [==============================] - 3s 32ms/step - loss: 0.2336 - accuracy: 0.9622 - val_loss: 1.9846 - val_accuracy: 0.8528\n",
      "Epoch 5/40\n",
      "105/105 [==============================] - 4s 34ms/step - loss: 0.1712 - accuracy: 0.9702 - val_loss: 0.8968 - val_accuracy: 0.9153\n",
      "Epoch 6/40\n",
      "105/105 [==============================] - 4s 37ms/step - loss: 0.1775 - accuracy: 0.9747 - val_loss: 1.3534 - val_accuracy: 0.8556\n",
      "Epoch 7/40\n",
      "105/105 [==============================] - 4s 35ms/step - loss: 0.1551 - accuracy: 0.9714 - val_loss: 3.7150 - val_accuracy: 0.7958\n",
      "Epoch 8/40\n",
      "105/105 [==============================] - 3s 33ms/step - loss: 0.1667 - accuracy: 0.9801 - val_loss: 1.9515 - val_accuracy: 0.8722\n",
      "Epoch 9/40\n",
      "105/105 [==============================] - 3s 33ms/step - loss: 0.1567 - accuracy: 0.9795 - val_loss: 0.5925 - val_accuracy: 0.9375\n",
      "Epoch 10/40\n",
      "105/105 [==============================] - 4s 38ms/step - loss: 0.1715 - accuracy: 0.9765 - val_loss: 1.2709 - val_accuracy: 0.8819\n",
      "Epoch 11/40\n",
      "105/105 [==============================] - 4s 34ms/step - loss: 0.1311 - accuracy: 0.9804 - val_loss: 1.1122 - val_accuracy: 0.9181\n",
      "Epoch 12/40\n",
      "105/105 [==============================] - 4s 35ms/step - loss: 0.1338 - accuracy: 0.9765 - val_loss: 0.9105 - val_accuracy: 0.9181\n",
      "Epoch 13/40\n",
      "105/105 [==============================] - 4s 38ms/step - loss: 0.1471 - accuracy: 0.9818 - val_loss: 0.7186 - val_accuracy: 0.9250\n",
      "Epoch 14/40\n",
      "105/105 [==============================] - 4s 35ms/step - loss: 0.2236 - accuracy: 0.9792 - val_loss: 0.8539 - val_accuracy: 0.9222\n",
      "Epoch 15/40\n",
      "105/105 [==============================] - 4s 35ms/step - loss: 0.1004 - accuracy: 0.9839 - val_loss: 0.9704 - val_accuracy: 0.9264\n",
      "Epoch 16/40\n",
      "105/105 [==============================] - 4s 37ms/step - loss: 0.0987 - accuracy: 0.9801 - val_loss: 0.9536 - val_accuracy: 0.9236\n",
      "Epoch 17/40\n",
      "105/105 [==============================] - 4s 38ms/step - loss: 0.1584 - accuracy: 0.9827 - val_loss: 0.8743 - val_accuracy: 0.9278\n",
      "Epoch 18/40\n",
      "105/105 [==============================] - 4s 40ms/step - loss: 0.1405 - accuracy: 0.9833 - val_loss: 0.9633 - val_accuracy: 0.9389\n",
      "Epoch 19/40\n",
      "105/105 [==============================] - 4s 38ms/step - loss: 0.2159 - accuracy: 0.9815 - val_loss: 0.9225 - val_accuracy: 0.9417\n",
      "Epoch 20/40\n",
      "105/105 [==============================] - 4s 33ms/step - loss: 0.2162 - accuracy: 0.9777 - val_loss: 1.2070 - val_accuracy: 0.9222\n",
      "Epoch 21/40\n",
      "105/105 [==============================] - 4s 37ms/step - loss: 0.1394 - accuracy: 0.9881 - val_loss: 0.7636 - val_accuracy: 0.9278\n",
      "Epoch 22/40\n",
      "105/105 [==============================] - 4s 38ms/step - loss: 0.1814 - accuracy: 0.9818 - val_loss: 1.1487 - val_accuracy: 0.9139\n",
      "Epoch 23/40\n",
      "105/105 [==============================] - 4s 38ms/step - loss: 0.2346 - accuracy: 0.9762 - val_loss: 1.3447 - val_accuracy: 0.8903\n",
      "Epoch 24/40\n",
      "105/105 [==============================] - 5s 44ms/step - loss: 0.0684 - accuracy: 0.9917 - val_loss: 3.4939 - val_accuracy: 0.7972\n",
      "Epoch 25/40\n",
      "105/105 [==============================] - 4s 38ms/step - loss: 0.2361 - accuracy: 0.9750 - val_loss: 1.4093 - val_accuracy: 0.9028\n",
      "Epoch 26/40\n",
      "105/105 [==============================] - 4s 38ms/step - loss: 0.1349 - accuracy: 0.9863 - val_loss: 1.1553 - val_accuracy: 0.9278\n",
      "Epoch 27/40\n",
      "105/105 [==============================] - 4s 39ms/step - loss: 0.2145 - accuracy: 0.9813 - val_loss: 1.4403 - val_accuracy: 0.9111\n",
      "Epoch 28/40\n",
      "105/105 [==============================] - 4s 37ms/step - loss: 0.1659 - accuracy: 0.9881 - val_loss: 0.9424 - val_accuracy: 0.9264\n",
      "Epoch 29/40\n",
      "105/105 [==============================] - 4s 38ms/step - loss: 0.3753 - accuracy: 0.9813 - val_loss: 1.1386 - val_accuracy: 0.9153\n",
      "Epoch 30/40\n",
      "105/105 [==============================] - 4s 39ms/step - loss: 0.2563 - accuracy: 0.9795 - val_loss: 1.2561 - val_accuracy: 0.9111\n",
      "Epoch 31/40\n",
      "105/105 [==============================] - 4s 39ms/step - loss: 0.1272 - accuracy: 0.9878 - val_loss: 0.7650 - val_accuracy: 0.9292\n",
      "Epoch 32/40\n",
      "105/105 [==============================] - 4s 39ms/step - loss: 0.1445 - accuracy: 0.9830 - val_loss: 1.1113 - val_accuracy: 0.9139\n",
      "Epoch 33/40\n",
      "105/105 [==============================] - 4s 40ms/step - loss: 0.1821 - accuracy: 0.9810 - val_loss: 1.0893 - val_accuracy: 0.9042\n",
      "Epoch 34/40\n",
      "105/105 [==============================] - 4s 41ms/step - loss: 0.1800 - accuracy: 0.9836 - val_loss: 0.8869 - val_accuracy: 0.9319\n",
      "Epoch 35/40\n",
      "105/105 [==============================] - 4s 38ms/step - loss: 0.1779 - accuracy: 0.9830 - val_loss: 3.0129 - val_accuracy: 0.8444\n",
      "Epoch 36/40\n",
      "105/105 [==============================] - 4s 38ms/step - loss: 0.1362 - accuracy: 0.9813 - val_loss: 3.7661 - val_accuracy: 0.8264\n",
      "Epoch 37/40\n",
      "105/105 [==============================] - 4s 41ms/step - loss: 0.1773 - accuracy: 0.9839 - val_loss: 1.2357 - val_accuracy: 0.9278\n",
      "Epoch 38/40\n",
      "105/105 [==============================] - 4s 38ms/step - loss: 0.1020 - accuracy: 0.9872 - val_loss: 1.1947 - val_accuracy: 0.9306\n",
      "Epoch 39/40\n",
      "105/105 [==============================] - 4s 39ms/step - loss: 0.1728 - accuracy: 0.9833 - val_loss: 3.0575 - val_accuracy: 0.8583\n",
      "Epoch 40/40\n",
      "105/105 [==============================] - 4s 39ms/step - loss: 0.1267 - accuracy: 0.9839 - val_loss: 1.6846 - val_accuracy: 0.9125\n"
     ]
    }
   ],
   "source": [
    "callbacks_list = [\n",
    "    # keras.callbacks.EarlyStopping(\n",
    "    #     monitor=\"val_accuracy\",\n",
    "    #     patience=7\n",
    "    # ),\n",
    "    keras.callbacks.ModelCheckpoint(\n",
    "        filepath=\"models/zenodo_from_vtid_spec.h5\",\n",
    "        monitor=\"val_loss\",\n",
    "        save_best_only=True\n",
    "    )\n",
    "]\n",
    "\n",
    "history = model.fit(\n",
    "  train.cache(),\n",
    "  epochs=40,\n",
    "  callbacks=callbacks_list,\n",
    "  validation_data=val.cache()\n",
    ")"
   ]
  },
  {
   "cell_type": "code",
   "execution_count": 34,
   "metadata": {},
   "outputs": [
    {
     "name": "stderr",
     "output_type": "stream",
     "text": [
      "2022-08-02 06:34:11.649794: I tensorflow/core/grappler/optimizers/custom_graph_optimizer_registry.cc:112] Plugin optimizer for device_type GPU is enabled.\n"
     ]
    },
    {
     "name": "stdout",
     "output_type": "stream",
     "text": [
      "23/23 [==============================] - 1s 27ms/step - loss: 0.6121 - accuracy: 0.9431\n"
     ]
    },
    {
     "data": {
      "text/plain": [
       "[0.612091064453125, 0.9430555701255798]"
      ]
     },
     "execution_count": 34,
     "metadata": {},
     "output_type": "execute_result"
    }
   ],
   "source": [
    "\n",
    "load_model_2 = keras.models.load_model(\"models/zenodo_from_vtid_spec.h5\")\n",
    "load_model_2.evaluate(test)\n"
   ]
  },
  {
   "cell_type": "markdown",
   "metadata": {},
   "source": [
    "# All Trainable Layers Transfer Learning - start from nonrandom weights"
   ]
  },
  {
   "cell_type": "code",
   "execution_count": 30,
   "metadata": {},
   "outputs": [
    {
     "name": "stdout",
     "output_type": "stream",
     "text": [
      "Model: \"model_11\"\n",
      "_________________________________________________________________\n",
      " Layer (type)                Output Shape              Param #   \n",
      "=================================================================\n",
      " input_1 (InputLayer)        [(None, 100, 100, 3)]     0         \n",
      "                                                                 \n",
      " conv2d (Conv2D)             (None, 98, 98, 32)        896       \n",
      "                                                                 \n",
      " max_pooling2d (MaxPooling2D  (None, 49, 49, 32)       0         \n",
      " )                                                               \n",
      "                                                                 \n",
      " conv2d_1 (Conv2D)           (None, 47, 47, 64)        18496     \n",
      "                                                                 \n",
      " max_pooling2d_1 (MaxPooling  (None, 23, 23, 64)       0         \n",
      " 2D)                                                             \n",
      "                                                                 \n",
      " conv2d_2 (Conv2D)           (None, 21, 21, 128)       73856     \n",
      "                                                                 \n",
      " max_pooling2d_2 (MaxPooling  (None, 10, 10, 128)      0         \n",
      " 2D)                                                             \n",
      "                                                                 \n",
      " conv2d_3 (Conv2D)           (None, 8, 8, 256)         295168    \n",
      "                                                                 \n",
      " global_average_pooling2d (G  (None, 256)              0         \n",
      " lobalAveragePooling2D)                                          \n",
      "                                                                 \n",
      " dense (Dense)               (None, 256)               65792     \n",
      "                                                                 \n",
      " dropout (Dropout)           (None, 256)               0         \n",
      "                                                                 \n",
      " classifier (Dense)          (None, 6)                 1542      \n",
      "                                                                 \n",
      "=================================================================\n",
      "Total params: 455,750\n",
      "Trainable params: 455,750\n",
      "Non-trainable params: 0\n",
      "_________________________________________________________________\n"
     ]
    }
   ],
   "source": [
    "vtid_allTrainable = keras.models.load_model('models/vtid2_1.h5')\n",
    "x = vtid_allTrainable.layers[-2].output\n",
    "outputs = keras.layers.Dense(6, activation='softmax', name='classifier')(x)\n",
    "model = keras.Model(vtid_allTrainable.inputs, outputs)\n",
    "model.compile(optimizer='rmsprop', loss='sparse_categorical_crossentropy', metrics=['accuracy'])\n",
    "model.summary()"
   ]
  },
  {
   "cell_type": "code",
   "execution_count": 31,
   "metadata": {},
   "outputs": [
    {
     "name": "stdout",
     "output_type": "stream",
     "text": [
      "Epoch 1/40\n"
     ]
    },
    {
     "name": "stderr",
     "output_type": "stream",
     "text": [
      "2022-08-02 06:27:56.319934: I tensorflow/core/grappler/optimizers/custom_graph_optimizer_registry.cc:112] Plugin optimizer for device_type GPU is enabled.\n"
     ]
    },
    {
     "name": "stdout",
     "output_type": "stream",
     "text": [
      "105/105 [==============================] - ETA: 0s - loss: 1.8264 - accuracy: 0.3074"
     ]
    },
    {
     "name": "stderr",
     "output_type": "stream",
     "text": [
      "2022-08-02 06:28:02.053414: I tensorflow/core/grappler/optimizers/custom_graph_optimizer_registry.cc:112] Plugin optimizer for device_type GPU is enabled.\n"
     ]
    },
    {
     "name": "stdout",
     "output_type": "stream",
     "text": [
      "105/105 [==============================] - 7s 57ms/step - loss: 1.8264 - accuracy: 0.3074 - val_loss: 1.2334 - val_accuracy: 0.5389\n",
      "Epoch 2/40\n",
      "105/105 [==============================] - 7s 62ms/step - loss: 1.2262 - accuracy: 0.5592 - val_loss: 1.2952 - val_accuracy: 0.5083\n",
      "Epoch 3/40\n",
      "105/105 [==============================] - 7s 67ms/step - loss: 0.8277 - accuracy: 0.7095 - val_loss: 1.8692 - val_accuracy: 0.5333\n",
      "Epoch 4/40\n",
      "105/105 [==============================] - 7s 64ms/step - loss: 0.6540 - accuracy: 0.7702 - val_loss: 0.7829 - val_accuracy: 0.7431\n",
      "Epoch 5/40\n",
      "105/105 [==============================] - 7s 66ms/step - loss: 0.5259 - accuracy: 0.8262 - val_loss: 0.4815 - val_accuracy: 0.8111\n",
      "Epoch 6/40\n",
      "105/105 [==============================] - 7s 67ms/step - loss: 0.3914 - accuracy: 0.8693 - val_loss: 0.5302 - val_accuracy: 0.8236\n",
      "Epoch 7/40\n",
      "105/105 [==============================] - 7s 66ms/step - loss: 0.3299 - accuracy: 0.8949 - val_loss: 0.5610 - val_accuracy: 0.8278\n",
      "Epoch 8/40\n",
      "105/105 [==============================] - 7s 62ms/step - loss: 0.3732 - accuracy: 0.8997 - val_loss: 0.4563 - val_accuracy: 0.8764\n",
      "Epoch 9/40\n",
      "105/105 [==============================] - 7s 65ms/step - loss: 0.3168 - accuracy: 0.9182 - val_loss: 0.4579 - val_accuracy: 0.8597\n",
      "Epoch 10/40\n",
      "105/105 [==============================] - 7s 64ms/step - loss: 0.2289 - accuracy: 0.9357 - val_loss: 0.3691 - val_accuracy: 0.9069\n",
      "Epoch 11/40\n",
      "105/105 [==============================] - 7s 66ms/step - loss: 0.2360 - accuracy: 0.9342 - val_loss: 0.4745 - val_accuracy: 0.8917\n",
      "Epoch 12/40\n",
      "105/105 [==============================] - 8s 73ms/step - loss: 0.4223 - accuracy: 0.9161 - val_loss: 0.3110 - val_accuracy: 0.9056\n",
      "Epoch 13/40\n",
      "105/105 [==============================] - 8s 72ms/step - loss: 0.2174 - accuracy: 0.9530 - val_loss: 0.7206 - val_accuracy: 0.8583\n",
      "Epoch 14/40\n",
      "105/105 [==============================] - 8s 75ms/step - loss: 0.5340 - accuracy: 0.9244 - val_loss: 0.3875 - val_accuracy: 0.9028\n",
      "Epoch 15/40\n",
      "105/105 [==============================] - 8s 79ms/step - loss: 0.2676 - accuracy: 0.9443 - val_loss: 0.5559 - val_accuracy: 0.8917\n",
      "Epoch 16/40\n",
      "105/105 [==============================] - 8s 73ms/step - loss: 0.3085 - accuracy: 0.9440 - val_loss: 0.3809 - val_accuracy: 0.9292\n",
      "Epoch 17/40\n",
      "105/105 [==============================] - 8s 79ms/step - loss: 0.2559 - accuracy: 0.9536 - val_loss: 2.0044 - val_accuracy: 0.7069\n",
      "Epoch 18/40\n",
      "105/105 [==============================] - 8s 80ms/step - loss: 0.2107 - accuracy: 0.9595 - val_loss: 0.4658 - val_accuracy: 0.9236\n",
      "Epoch 19/40\n",
      "105/105 [==============================] - 8s 74ms/step - loss: 0.2704 - accuracy: 0.9491 - val_loss: 0.7436 - val_accuracy: 0.8917\n",
      "Epoch 20/40\n",
      "105/105 [==============================] - 8s 80ms/step - loss: 0.4842 - accuracy: 0.9476 - val_loss: 2.0367 - val_accuracy: 0.7931\n",
      "Epoch 21/40\n",
      "105/105 [==============================] - 8s 79ms/step - loss: 0.2607 - accuracy: 0.9536 - val_loss: 0.4704 - val_accuracy: 0.9222\n",
      "Epoch 22/40\n",
      "105/105 [==============================] - 8s 79ms/step - loss: 0.3871 - accuracy: 0.9577 - val_loss: 0.9163 - val_accuracy: 0.8694\n",
      "Epoch 23/40\n",
      "105/105 [==============================] - 8s 79ms/step - loss: 0.3891 - accuracy: 0.9414 - val_loss: 0.5119 - val_accuracy: 0.9236\n",
      "Epoch 24/40\n",
      "105/105 [==============================] - 8s 80ms/step - loss: 0.4457 - accuracy: 0.9565 - val_loss: 0.4553 - val_accuracy: 0.9319\n",
      "Epoch 25/40\n",
      "105/105 [==============================] - 8s 79ms/step - loss: 0.3539 - accuracy: 0.9533 - val_loss: 2.2281 - val_accuracy: 0.7819\n",
      "Epoch 26/40\n",
      "105/105 [==============================] - 8s 78ms/step - loss: 0.3507 - accuracy: 0.9512 - val_loss: 0.2724 - val_accuracy: 0.9292\n",
      "Epoch 27/40\n",
      "105/105 [==============================] - 9s 86ms/step - loss: 0.2107 - accuracy: 0.9643 - val_loss: 2.0750 - val_accuracy: 0.7972\n",
      "Epoch 28/40\n",
      "105/105 [==============================] - 8s 78ms/step - loss: 0.2407 - accuracy: 0.9577 - val_loss: 3.0937 - val_accuracy: 0.7514\n",
      "Epoch 29/40\n",
      "105/105 [==============================] - 8s 74ms/step - loss: 0.2897 - accuracy: 0.9610 - val_loss: 0.4962 - val_accuracy: 0.9236\n",
      "Epoch 30/40\n",
      "105/105 [==============================] - 8s 72ms/step - loss: 0.8272 - accuracy: 0.9393 - val_loss: 0.6709 - val_accuracy: 0.9097\n",
      "Epoch 31/40\n",
      "105/105 [==============================] - 8s 74ms/step - loss: 0.5341 - accuracy: 0.9473 - val_loss: 0.7403 - val_accuracy: 0.9236\n",
      "Epoch 32/40\n",
      "105/105 [==============================] - 8s 80ms/step - loss: 0.8696 - accuracy: 0.9372 - val_loss: 0.8472 - val_accuracy: 0.9181\n",
      "Epoch 33/40\n",
      "105/105 [==============================] - 8s 77ms/step - loss: 0.4376 - accuracy: 0.9500 - val_loss: 0.8966 - val_accuracy: 0.9125\n",
      "Epoch 34/40\n",
      "105/105 [==============================] - 8s 80ms/step - loss: 0.4887 - accuracy: 0.9473 - val_loss: 0.5598 - val_accuracy: 0.9236\n",
      "Epoch 35/40\n",
      "105/105 [==============================] - 8s 73ms/step - loss: 0.4926 - accuracy: 0.9485 - val_loss: 0.7314 - val_accuracy: 0.9125\n",
      "Epoch 36/40\n",
      "105/105 [==============================] - 8s 78ms/step - loss: 0.4046 - accuracy: 0.9616 - val_loss: 1.3030 - val_accuracy: 0.8653\n",
      "Epoch 37/40\n",
      "105/105 [==============================] - 8s 77ms/step - loss: 0.2836 - accuracy: 0.9631 - val_loss: 0.6509 - val_accuracy: 0.9361\n",
      "Epoch 38/40\n",
      "105/105 [==============================] - 8s 79ms/step - loss: 0.3270 - accuracy: 0.9628 - val_loss: 2.1533 - val_accuracy: 0.8500\n",
      "Epoch 39/40\n",
      "105/105 [==============================] - 9s 82ms/step - loss: 0.3006 - accuracy: 0.9661 - val_loss: 0.9109 - val_accuracy: 0.9319\n",
      "Epoch 40/40\n",
      "105/105 [==============================] - 8s 73ms/step - loss: 0.4264 - accuracy: 0.9696 - val_loss: 0.7536 - val_accuracy: 0.9403\n"
     ]
    }
   ],
   "source": [
    "callbacks_list = [\n",
    "    # keras.callbacks.EarlyStopping(\n",
    "    #     monitor=\"val_accuracy\",\n",
    "    #     patience=7\n",
    "    # ),\n",
    "    keras.callbacks.ModelCheckpoint(\n",
    "        filepath=\"models/vtid_all_trainable.h5\",\n",
    "        monitor=\"val_loss\",\n",
    "        save_best_only=True\n",
    "    )\n",
    "]\n",
    "\n",
    "history = model.fit(\n",
    "  train.cache(),\n",
    "  epochs=40,\n",
    "  callbacks=callbacks_list,\n",
    "  validation_data=val.cache()\n",
    ")"
   ]
  },
  {
   "cell_type": "code",
   "execution_count": 35,
   "metadata": {},
   "outputs": [
    {
     "name": "stdout",
     "output_type": "stream",
     "text": [
      " 1/23 [>.............................] - ETA: 4s - loss: 0.7403 - accuracy: 0.9375"
     ]
    },
    {
     "name": "stderr",
     "output_type": "stream",
     "text": [
      "2022-08-02 06:34:20.280480: I tensorflow/core/grappler/optimizers/custom_graph_optimizer_registry.cc:112] Plugin optimizer for device_type GPU is enabled.\n"
     ]
    },
    {
     "name": "stdout",
     "output_type": "stream",
     "text": [
      "23/23 [==============================] - 1s 23ms/step - loss: 0.3436 - accuracy: 0.9292\n"
     ]
    },
    {
     "data": {
      "text/plain": [
       "[0.34361395239830017, 0.9291666746139526]"
      ]
     },
     "execution_count": 35,
     "metadata": {},
     "output_type": "execute_result"
    }
   ],
   "source": [
    "load_model_3 = keras.models.load_model(\"models/vtid_all_trainable.h5\")\n",
    "load_model_3.evaluate(test)"
   ]
  }
 ],
 "metadata": {
  "kernelspec": {
   "display_name": "Python 3.9.7 ('base')",
   "language": "python",
   "name": "python3"
  },
  "language_info": {
   "codemirror_mode": {
    "name": "ipython",
    "version": 3
   },
   "file_extension": ".py",
   "mimetype": "text/x-python",
   "name": "python",
   "nbconvert_exporter": "python",
   "pygments_lexer": "ipython3",
   "version": "3.9.7"
  },
  "orig_nbformat": 4,
  "vscode": {
   "interpreter": {
    "hash": "c6e4e9f98eb68ad3b7c296f83d20e6de614cb42e90992a65aa266555a3137d0d"
   }
  }
 },
 "nbformat": 4,
 "nbformat_minor": 2
}
