{
 "cells": [
  {
   "cell_type": "code",
   "execution_count": 1,
   "metadata": {},
   "outputs": [],
   "source": [
    "import tensorflow as tf\n",
    "from tensorflow.keras import layers, utils\n",
    "from tensorflow import keras\n",
    "from matplotlib import pyplot as plt"
   ]
  },
  {
   "cell_type": "code",
   "execution_count": 2,
   "metadata": {},
   "outputs": [],
   "source": [
    "IMAGE_SIZE = 100\n",
    "BATCH_SIZE = 32"
   ]
  },
  {
   "cell_type": "code",
   "execution_count": 3,
   "metadata": {},
   "outputs": [
    {
     "name": "stdout",
     "output_type": "stream",
     "text": [
      "Found 3360 files belonging to 6 classes.\n",
      "Metal device set to: Apple M1\n",
      "\n",
      "systemMemory: 16.00 GB\n",
      "maxCacheSize: 5.33 GB\n",
      "\n",
      "Found 720 files belonging to 6 classes.\n",
      "Found 720 files belonging to 6 classes.\n"
     ]
    },
    {
     "name": "stderr",
     "output_type": "stream",
     "text": [
      "2022-08-01 10:01:28.870783: I tensorflow/core/common_runtime/pluggable_device/pluggable_device_factory.cc:305] Could not identify NUMA node of platform GPU ID 0, defaulting to 0. Your kernel may not have been built with NUMA support.\n",
      "2022-08-01 10:01:28.870903: I tensorflow/core/common_runtime/pluggable_device/pluggable_device_factory.cc:271] Created TensorFlow device (/job:localhost/replica:0/task:0/device:GPU:0 with 0 MB memory) -> physical PluggableDevice (device: 0, name: METAL, pci bus id: <undefined>)\n"
     ]
    }
   ],
   "source": [
    "train = utils.image_dataset_from_directory(\"datasets/data/split/vehicles_zenodo/train/\", image_size=(IMAGE_SIZE, IMAGE_SIZE), batch_size=BATCH_SIZE)\n",
    "val = utils.image_dataset_from_directory(\"datasets/data/split/vehicles_zenodo/val\", image_size=(IMAGE_SIZE, IMAGE_SIZE), batch_size=BATCH_SIZE)\n",
    "test = utils.image_dataset_from_directory(\"datasets/data/split/vehicles_zenodo/test\", image_size=(IMAGE_SIZE, IMAGE_SIZE), batch_size=BATCH_SIZE)"
   ]
  },
  {
   "cell_type": "code",
   "execution_count": 4,
   "metadata": {},
   "outputs": [],
   "source": [
    "# data_augmentation = keras.Sequential(\n",
    "# [\n",
    "#     layers.RandomFlip(\"horizontal\"),\n",
    "#     layers.RandomRotation(0.1),\n",
    "#     layers.RandomZoom(0.2),\n",
    "#     layers.RandomContrast(0.2),\n",
    "#     layers.RandomTranslation(height_factor=0.2,width_factor=0.3)\n",
    "# ] \n",
    "# )"
   ]
  },
  {
   "cell_type": "code",
   "execution_count": 5,
   "metadata": {},
   "outputs": [
    {
     "name": "stdout",
     "output_type": "stream",
     "text": [
      "Model: \"model\"\n",
      "_________________________________________________________________\n",
      " Layer (type)                Output Shape              Param #   \n",
      "=================================================================\n",
      " input_1 (InputLayer)        [(None, 100, 100, 3)]     0         \n",
      "                                                                 \n",
      " conv2d (Conv2D)             (None, 96, 96, 16)        1216      \n",
      "                                                                 \n",
      " max_pooling2d (MaxPooling2D  (None, 48, 48, 16)       0         \n",
      " )                                                               \n",
      "                                                                 \n",
      " conv2d_1 (Conv2D)           (None, 44, 44, 16)        6416      \n",
      "                                                                 \n",
      " max_pooling2d_1 (MaxPooling  (None, 22, 22, 16)       0         \n",
      " 2D)                                                             \n",
      "                                                                 \n",
      " max_pooling2d_2 (MaxPooling  (None, 11, 11, 16)       0         \n",
      " 2D)                                                             \n",
      "                                                                 \n",
      " max_pooling2d_3 (MaxPooling  (None, 5, 5, 16)         0         \n",
      " 2D)                                                             \n",
      "                                                                 \n",
      " flatten (Flatten)           (None, 400)               0         \n",
      "                                                                 \n",
      " dense (Dense)               (None, 16)                6416      \n",
      "                                                                 \n",
      " dropout (Dropout)           (None, 16)                0         \n",
      "                                                                 \n",
      " dense_1 (Dense)             (None, 6)                 102       \n",
      "                                                                 \n",
      "=================================================================\n",
      "Total params: 14,150\n",
      "Trainable params: 14,150\n",
      "Non-trainable params: 0\n",
      "_________________________________________________________________\n"
     ]
    }
   ],
   "source": [
    "inputs = keras.Input(shape=(100, 100, 3))\n",
    "\n",
    "# x = data_augmentation(inputs)\n",
    "x = layers.Conv2D(16, 5, activation='relu')(inputs)\n",
    "x = layers.MaxPooling2D(2)(x)\n",
    "x = layers.Conv2D(16, 5, activation='relu')(x)\n",
    "x = layers.MaxPooling2D(2)(x)\n",
    "x = layers.MaxPooling2D(2)(x)\n",
    "x = layers.MaxPooling2D(2)(x)\n",
    "\n",
    "x = layers.Flatten()(x)\n",
    "\n",
    "x = layers.Dense(16, kernel_regularizer=keras.regularizers.l2(0.008), activation='relu')(x)\n",
    "\n",
    "x = layers.Dropout(0.3)(x)\n",
    "\n",
    "outputs = layers.Dense(6, activation='softmax')(x)\n",
    "\n",
    "model = keras.Model(inputs, outputs)\n",
    "\n",
    "model.compile(optimizer=keras.optimizers.RMSprop(0.001), loss='sparse_categorical_crossentropy', metrics=['accuracy'])\n",
    "\n",
    "model.summary()"
   ]
  },
  {
   "cell_type": "code",
   "execution_count": 6,
   "metadata": {},
   "outputs": [],
   "source": [
    "callbacks_list = [\n",
    "    # keras.callbacks.EarlyStopping(\n",
    "    #     monitor=\"val_accuracy\",\n",
    "    #     patience=7\n",
    "    # ),\n",
    "    keras.callbacks.ModelCheckpoint(\n",
    "        filepath=\"models/zenodo_5.h5\",\n",
    "        monitor=\"val_loss\",\n",
    "        save_best_only=True\n",
    "    )\n",
    "]"
   ]
  },
  {
   "cell_type": "code",
   "execution_count": 7,
   "metadata": {},
   "outputs": [
    {
     "name": "stdout",
     "output_type": "stream",
     "text": [
      "Epoch 1/40\n"
     ]
    },
    {
     "name": "stderr",
     "output_type": "stream",
     "text": [
      "2022-08-01 10:01:29.448658: W tensorflow/core/platform/profile_utils/cpu_utils.cc:128] Failed to get CPU frequency: 0 Hz\n",
      "2022-08-01 10:01:29.448733: I tensorflow/core/grappler/optimizers/custom_graph_optimizer_registry.cc:112] Plugin optimizer for device_type GPU is enabled.\n"
     ]
    },
    {
     "name": "stdout",
     "output_type": "stream",
     "text": [
      "105/105 [==============================] - ETA: 0s - loss: 4.5482 - accuracy: 0.1583"
     ]
    },
    {
     "name": "stderr",
     "output_type": "stream",
     "text": [
      "2022-08-01 10:01:32.218750: I tensorflow/core/grappler/optimizers/custom_graph_optimizer_registry.cc:112] Plugin optimizer for device_type GPU is enabled.\n"
     ]
    },
    {
     "name": "stdout",
     "output_type": "stream",
     "text": [
      "105/105 [==============================] - 3s 28ms/step - loss: 4.5482 - accuracy: 0.1583 - val_loss: 1.9465 - val_accuracy: 0.1667\n",
      "Epoch 2/40\n",
      "105/105 [==============================] - 3s 24ms/step - loss: 2.4087 - accuracy: 0.1595 - val_loss: 1.8724 - val_accuracy: 0.1667\n",
      "Epoch 3/40\n",
      "105/105 [==============================] - 2s 23ms/step - loss: 1.9255 - accuracy: 0.1533 - val_loss: 1.8208 - val_accuracy: 0.1667\n",
      "Epoch 4/40\n",
      "105/105 [==============================] - 2s 23ms/step - loss: 1.8617 - accuracy: 0.2759 - val_loss: 1.4673 - val_accuracy: 0.4028\n",
      "Epoch 5/40\n",
      "105/105 [==============================] - 2s 23ms/step - loss: 1.4576 - accuracy: 0.4500 - val_loss: 1.0050 - val_accuracy: 0.6611\n",
      "Epoch 6/40\n",
      "105/105 [==============================] - 2s 23ms/step - loss: 1.0557 - accuracy: 0.5848 - val_loss: 0.6823 - val_accuracy: 0.7569\n",
      "Epoch 7/40\n",
      "105/105 [==============================] - 2s 23ms/step - loss: 0.8543 - accuracy: 0.6661 - val_loss: 0.6700 - val_accuracy: 0.7708\n",
      "Epoch 8/40\n",
      "105/105 [==============================] - 2s 23ms/step - loss: 0.7345 - accuracy: 0.7063 - val_loss: 0.7214 - val_accuracy: 0.7694\n",
      "Epoch 9/40\n",
      "105/105 [==============================] - 2s 24ms/step - loss: 0.6830 - accuracy: 0.7268 - val_loss: 0.5888 - val_accuracy: 0.7917\n",
      "Epoch 10/40\n",
      "105/105 [==============================] - 2s 23ms/step - loss: 0.6062 - accuracy: 0.7604 - val_loss: 0.7886 - val_accuracy: 0.7708\n",
      "Epoch 11/40\n",
      "105/105 [==============================] - 2s 23ms/step - loss: 0.5627 - accuracy: 0.7786 - val_loss: 0.7649 - val_accuracy: 0.7861\n",
      "Epoch 12/40\n",
      "105/105 [==============================] - 3s 24ms/step - loss: 0.4838 - accuracy: 0.8190 - val_loss: 0.5782 - val_accuracy: 0.8347\n",
      "Epoch 13/40\n",
      "105/105 [==============================] - 2s 24ms/step - loss: 0.4455 - accuracy: 0.8345 - val_loss: 0.7243 - val_accuracy: 0.8264\n",
      "Epoch 14/40\n",
      "105/105 [==============================] - 2s 24ms/step - loss: 0.3987 - accuracy: 0.8628 - val_loss: 0.5614 - val_accuracy: 0.8597\n",
      "Epoch 15/40\n",
      "105/105 [==============================] - 2s 23ms/step - loss: 0.3896 - accuracy: 0.8664 - val_loss: 0.5242 - val_accuracy: 0.8528\n",
      "Epoch 16/40\n",
      "105/105 [==============================] - 2s 23ms/step - loss: 0.3747 - accuracy: 0.8726 - val_loss: 0.6491 - val_accuracy: 0.8500\n",
      "Epoch 17/40\n",
      "105/105 [==============================] - 2s 23ms/step - loss: 0.3608 - accuracy: 0.8833 - val_loss: 0.5320 - val_accuracy: 0.8681\n",
      "Epoch 18/40\n",
      "105/105 [==============================] - 2s 23ms/step - loss: 0.3260 - accuracy: 0.8857 - val_loss: 0.6052 - val_accuracy: 0.8431\n",
      "Epoch 19/40\n",
      "105/105 [==============================] - 2s 23ms/step - loss: 0.3091 - accuracy: 0.9024 - val_loss: 0.6294 - val_accuracy: 0.8389\n",
      "Epoch 20/40\n",
      "105/105 [==============================] - 2s 24ms/step - loss: 0.3052 - accuracy: 0.8976 - val_loss: 0.6248 - val_accuracy: 0.8542\n",
      "Epoch 21/40\n",
      "105/105 [==============================] - 2s 24ms/step - loss: 0.2920 - accuracy: 0.9128 - val_loss: 0.6719 - val_accuracy: 0.8569\n",
      "Epoch 22/40\n",
      "105/105 [==============================] - 2s 24ms/step - loss: 0.2864 - accuracy: 0.9134 - val_loss: 0.6857 - val_accuracy: 0.8583\n",
      "Epoch 23/40\n",
      "105/105 [==============================] - 2s 23ms/step - loss: 0.2596 - accuracy: 0.9238 - val_loss: 0.6578 - val_accuracy: 0.8792\n",
      "Epoch 24/40\n",
      "105/105 [==============================] - 2s 23ms/step - loss: 0.2682 - accuracy: 0.9238 - val_loss: 0.6705 - val_accuracy: 0.8736\n",
      "Epoch 25/40\n",
      "105/105 [==============================] - 2s 23ms/step - loss: 0.2432 - accuracy: 0.9321 - val_loss: 0.7076 - val_accuracy: 0.8764\n",
      "Epoch 26/40\n",
      "105/105 [==============================] - 2s 23ms/step - loss: 0.2775 - accuracy: 0.9211 - val_loss: 0.6728 - val_accuracy: 0.8750\n",
      "Epoch 27/40\n",
      "105/105 [==============================] - 2s 23ms/step - loss: 0.2452 - accuracy: 0.9280 - val_loss: 0.8198 - val_accuracy: 0.8500\n",
      "Epoch 28/40\n",
      "105/105 [==============================] - 3s 24ms/step - loss: 0.2267 - accuracy: 0.9348 - val_loss: 0.7748 - val_accuracy: 0.8750\n",
      "Epoch 29/40\n",
      "105/105 [==============================] - 2s 24ms/step - loss: 0.2143 - accuracy: 0.9387 - val_loss: 0.9625 - val_accuracy: 0.8667\n",
      "Epoch 30/40\n",
      "105/105 [==============================] - 2s 24ms/step - loss: 0.2376 - accuracy: 0.9399 - val_loss: 0.8105 - val_accuracy: 0.8403\n",
      "Epoch 31/40\n",
      "105/105 [==============================] - 2s 23ms/step - loss: 0.2071 - accuracy: 0.9402 - val_loss: 0.8888 - val_accuracy: 0.8792\n",
      "Epoch 32/40\n",
      "105/105 [==============================] - 3s 25ms/step - loss: 0.1816 - accuracy: 0.9494 - val_loss: 0.8564 - val_accuracy: 0.8889\n",
      "Epoch 33/40\n",
      "105/105 [==============================] - 2s 24ms/step - loss: 0.1951 - accuracy: 0.9458 - val_loss: 1.0363 - val_accuracy: 0.8833\n",
      "Epoch 34/40\n",
      "105/105 [==============================] - 2s 24ms/step - loss: 0.2152 - accuracy: 0.9426 - val_loss: 0.7557 - val_accuracy: 0.8833\n",
      "Epoch 35/40\n",
      "105/105 [==============================] - 3s 24ms/step - loss: 0.2137 - accuracy: 0.9452 - val_loss: 1.0266 - val_accuracy: 0.8694\n",
      "Epoch 36/40\n",
      "105/105 [==============================] - 2s 24ms/step - loss: 0.1918 - accuracy: 0.9539 - val_loss: 1.3056 - val_accuracy: 0.8694\n",
      "Epoch 37/40\n",
      "105/105 [==============================] - 3s 24ms/step - loss: 0.2144 - accuracy: 0.9509 - val_loss: 0.9732 - val_accuracy: 0.8694\n",
      "Epoch 38/40\n",
      "105/105 [==============================] - 3s 24ms/step - loss: 0.1994 - accuracy: 0.9563 - val_loss: 1.0557 - val_accuracy: 0.8681\n",
      "Epoch 39/40\n",
      "105/105 [==============================] - 2s 24ms/step - loss: 0.1979 - accuracy: 0.9524 - val_loss: 0.9825 - val_accuracy: 0.8875\n",
      "Epoch 40/40\n",
      "105/105 [==============================] - 3s 25ms/step - loss: 0.2156 - accuracy: 0.9509 - val_loss: 0.8847 - val_accuracy: 0.8917\n"
     ]
    }
   ],
   "source": [
    "history = model.fit(\n",
    "  train.cache(),\n",
    "  epochs=40,\n",
    "  callbacks=callbacks_list,\n",
    "  validation_data=val.cache()\n",
    ")"
   ]
  },
  {
   "cell_type": "code",
   "execution_count": 8,
   "metadata": {},
   "outputs": [
    {
     "name": "stdout",
     "output_type": "stream",
     "text": [
      "23/23 [==============================] - 0s 13ms/step - loss: 0.9069 - accuracy: 0.8736\n"
     ]
    },
    {
     "data": {
      "text/plain": [
       "[0.9068769812583923, 0.8736111521720886]"
      ]
     },
     "execution_count": 8,
     "metadata": {},
     "output_type": "execute_result"
    }
   ],
   "source": [
    "model.evaluate(test)"
   ]
  },
  {
   "cell_type": "code",
   "execution_count": 9,
   "metadata": {},
   "outputs": [
    {
     "name": "stdout",
     "output_type": "stream",
     "text": [
      " 9/23 [==========>...................] - ETA: 0s - loss: 0.5350 - accuracy: 0.8646"
     ]
    },
    {
     "name": "stderr",
     "output_type": "stream",
     "text": [
      "2022-08-01 10:03:09.876746: I tensorflow/core/grappler/optimizers/custom_graph_optimizer_registry.cc:112] Plugin optimizer for device_type GPU is enabled.\n"
     ]
    },
    {
     "name": "stdout",
     "output_type": "stream",
     "text": [
      "23/23 [==============================] - 0s 13ms/step - loss: 0.5746 - accuracy: 0.8583\n"
     ]
    },
    {
     "data": {
      "text/plain": [
       "[0.5746487975120544, 0.8583333492279053]"
      ]
     },
     "execution_count": 9,
     "metadata": {},
     "output_type": "execute_result"
    }
   ],
   "source": [
    "# keras.models.save_model(model, \"./models/zenodo_3.h5\")\n",
    "\n",
    "load_model = keras.models.load_model(\"models/zenodo_5.h5\")\n",
    "load_model.evaluate(test)"
   ]
  }
 ],
 "metadata": {
  "kernelspec": {
   "display_name": "Python 3.9.7 ('base')",
   "language": "python",
   "name": "python3"
  },
  "language_info": {
   "codemirror_mode": {
    "name": "ipython",
    "version": 3
   },
   "file_extension": ".py",
   "mimetype": "text/x-python",
   "name": "python",
   "nbconvert_exporter": "python",
   "pygments_lexer": "ipython3",
   "version": "3.9.7"
  },
  "orig_nbformat": 4,
  "vscode": {
   "interpreter": {
    "hash": "c6e4e9f98eb68ad3b7c296f83d20e6de614cb42e90992a65aa266555a3137d0d"
   }
  }
 },
 "nbformat": 4,
 "nbformat_minor": 2
}
