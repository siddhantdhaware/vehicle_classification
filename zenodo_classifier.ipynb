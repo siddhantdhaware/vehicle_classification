{
 "cells": [
  {
   "cell_type": "code",
   "execution_count": 91,
   "metadata": {},
   "outputs": [],
   "source": [
    "import tensorflow as tf\n",
    "from tensorflow.keras import layers, utils\n",
    "from tensorflow import keras\n",
    "from matplotlib import pyplot as plt"
   ]
  },
  {
   "cell_type": "code",
   "execution_count": 92,
   "metadata": {},
   "outputs": [],
   "source": [
    "IMAGE_SIZE = 100\n",
    "BATCH_SIZE = 32"
   ]
  },
  {
   "cell_type": "code",
   "execution_count": 93,
   "metadata": {},
   "outputs": [
    {
     "name": "stdout",
     "output_type": "stream",
     "text": [
      "Found 3360 files belonging to 6 classes.\n",
      "Found 720 files belonging to 6 classes.\n",
      "Found 720 files belonging to 6 classes.\n"
     ]
    }
   ],
   "source": [
    "train = utils.image_dataset_from_directory(\"datasets/data/split/vehicles_zenodo/train/\", image_size=(IMAGE_SIZE, IMAGE_SIZE), batch_size=BATCH_SIZE)\n",
    "val = utils.image_dataset_from_directory(\"datasets/data/split/vehicles_zenodo/val\", image_size=(IMAGE_SIZE, IMAGE_SIZE), batch_size=BATCH_SIZE)\n",
    "test = utils.image_dataset_from_directory(\"datasets/data/split/vehicles_zenodo/test\", image_size=(IMAGE_SIZE, IMAGE_SIZE), batch_size=BATCH_SIZE)"
   ]
  },
  {
   "cell_type": "code",
   "execution_count": 94,
   "metadata": {},
   "outputs": [],
   "source": [
    "data_augmentation = keras.Sequential(\n",
    "[\n",
    "    layers.RandomFlip(\"horizontal\"),\n",
    "    layers.RandomRotation(0.1),\n",
    "    layers.RandomZoom(0.2),\n",
    "    layers.RandomContrast(0.2),\n",
    "    layers.RandomTranslation(height_factor=0.2,width_factor=0.3)\n",
    "] \n",
    ")"
   ]
  },
  {
   "cell_type": "code",
   "execution_count": 95,
   "metadata": {},
   "outputs": [
    {
     "name": "stdout",
     "output_type": "stream",
     "text": [
      "Model: \"model_23\"\n",
      "_________________________________________________________________\n",
      " Layer (type)                Output Shape              Param #   \n",
      "=================================================================\n",
      " input_25 (InputLayer)       [(None, 100, 100, 3)]     0         \n",
      "                                                                 \n",
      " conv2d_129 (Conv2D)         (None, 98, 98, 32)        896       \n",
      "                                                                 \n",
      " max_pooling2d_68 (MaxPoolin  (None, 49, 49, 32)       0         \n",
      " g2D)                                                            \n",
      "                                                                 \n",
      " conv2d_130 (Conv2D)         (None, 47, 47, 64)        18496     \n",
      "                                                                 \n",
      " max_pooling2d_69 (MaxPoolin  (None, 23, 23, 64)       0         \n",
      " g2D)                                                            \n",
      "                                                                 \n",
      " conv2d_131 (Conv2D)         (None, 21, 21, 128)       73856     \n",
      "                                                                 \n",
      " max_pooling2d_70 (MaxPoolin  (None, 10, 10, 128)      0         \n",
      " g2D)                                                            \n",
      "                                                                 \n",
      " conv2d_132 (Conv2D)         (None, 8, 8, 256)         295168    \n",
      "                                                                 \n",
      " global_average_pooling2d_22  (None, 256)              0         \n",
      "  (GlobalAveragePooling2D)                                       \n",
      "                                                                 \n",
      " dense_42 (Dense)            (None, 256)               65792     \n",
      "                                                                 \n",
      " dropout_23 (Dropout)        (None, 256)               0         \n",
      "                                                                 \n",
      " dense_43 (Dense)            (None, 6)                 1542      \n",
      "                                                                 \n",
      "=================================================================\n",
      "Total params: 455,750\n",
      "Trainable params: 455,750\n",
      "Non-trainable params: 0\n",
      "_________________________________________________________________\n"
     ]
    }
   ],
   "source": [
    "inputs = keras.Input(shape=(100, 100, 3))\n",
    "\n",
    "x = data_augmentation(inputs)\n",
    "x = layers.Conv2D(32, 3, activation='relu')(inputs)\n",
    "x = layers.MaxPooling2D(2)(x)\n",
    "x = layers.Conv2D(64, 3, activation='relu')(x)\n",
    "x = layers.MaxPooling2D(2)(x)\n",
    "x = layers.Conv2D(128, 3, activation='relu')(x)\n",
    "x = layers.MaxPooling2D(2)(x)\n",
    "x = layers.Conv2D(256, 3, activation='relu')(x)\n",
    "x = layers.GlobalAveragePooling2D()(x)\n",
    "x = layers.Dense(256, activation='relu')(x)\n",
    "x = layers.Dropout(0.5)(x)\n",
    "outputs = layers.Dense(6, activation='softmax')(x)\n",
    "\n",
    "model = keras.Model(inputs, outputs)\n",
    "\n",
    "model.compile(optimizer=keras.optimizers.RMSprop(0.001), loss='sparse_categorical_crossentropy', metrics=['accuracy'])\n",
    "\n",
    "model.summary()"
   ]
  },
  {
   "cell_type": "code",
   "execution_count": 96,
   "metadata": {},
   "outputs": [],
   "source": [
    "callbacks_list = [\n",
    "    keras.callbacks.EarlyStopping(\n",
    "        monitor=\"val_accuracy\",\n",
    "        patience=5\n",
    "    ),\n",
    "    keras.callbacks.ModelCheckpoint(\n",
    "        filepath=\"models/zenodo_4.h5\",\n",
    "        monitor=\"val_loss\",\n",
    "        save_best_only=True\n",
    "    )\n",
    "]"
   ]
  },
  {
   "cell_type": "code",
   "execution_count": 97,
   "metadata": {},
   "outputs": [
    {
     "name": "stdout",
     "output_type": "stream",
     "text": [
      "Epoch 1/40\n"
     ]
    },
    {
     "name": "stderr",
     "output_type": "stream",
     "text": [
      "2022-08-01 07:35:58.468521: I tensorflow/core/grappler/optimizers/custom_graph_optimizer_registry.cc:112] Plugin optimizer for device_type GPU is enabled.\n"
     ]
    },
    {
     "name": "stdout",
     "output_type": "stream",
     "text": [
      "104/105 [============================>.] - ETA: 0s - loss: 2.5783 - accuracy: 0.2127"
     ]
    },
    {
     "name": "stderr",
     "output_type": "stream",
     "text": [
      "2022-08-01 07:36:04.324025: I tensorflow/core/grappler/optimizers/custom_graph_optimizer_registry.cc:112] Plugin optimizer for device_type GPU is enabled.\n"
     ]
    },
    {
     "name": "stdout",
     "output_type": "stream",
     "text": [
      "105/105 [==============================] - 7s 55ms/step - loss: 2.5696 - accuracy: 0.2125 - val_loss: 1.5605 - val_accuracy: 0.3500\n",
      "Epoch 2/40\n",
      "105/105 [==============================] - 5s 48ms/step - loss: 1.7578 - accuracy: 0.3446 - val_loss: 1.3096 - val_accuracy: 0.4722\n",
      "Epoch 3/40\n",
      "105/105 [==============================] - 5s 45ms/step - loss: 1.2986 - accuracy: 0.5366 - val_loss: 2.6733 - val_accuracy: 0.2972\n",
      "Epoch 4/40\n",
      "105/105 [==============================] - 5s 46ms/step - loss: 1.0280 - accuracy: 0.6354 - val_loss: 0.6464 - val_accuracy: 0.7931\n",
      "Epoch 5/40\n",
      "105/105 [==============================] - 5s 45ms/step - loss: 0.7389 - accuracy: 0.7405 - val_loss: 0.5478 - val_accuracy: 0.7778\n",
      "Epoch 6/40\n",
      "105/105 [==============================] - 5s 46ms/step - loss: 0.6182 - accuracy: 0.7940 - val_loss: 0.4949 - val_accuracy: 0.8194\n",
      "Epoch 7/40\n",
      "105/105 [==============================] - 5s 44ms/step - loss: 0.4578 - accuracy: 0.8357 - val_loss: 0.6731 - val_accuracy: 0.7792\n",
      "Epoch 8/40\n",
      "105/105 [==============================] - 5s 45ms/step - loss: 0.3432 - accuracy: 0.8789 - val_loss: 0.4125 - val_accuracy: 0.8542\n",
      "Epoch 9/40\n",
      "105/105 [==============================] - 5s 45ms/step - loss: 0.2954 - accuracy: 0.9012 - val_loss: 0.3506 - val_accuracy: 0.8972\n",
      "Epoch 10/40\n",
      "105/105 [==============================] - 5s 45ms/step - loss: 0.3321 - accuracy: 0.9134 - val_loss: 0.5751 - val_accuracy: 0.8542\n",
      "Epoch 11/40\n",
      "105/105 [==============================] - 5s 44ms/step - loss: 0.2534 - accuracy: 0.9193 - val_loss: 0.3243 - val_accuracy: 0.9222\n",
      "Epoch 12/40\n",
      "105/105 [==============================] - 5s 45ms/step - loss: 0.1974 - accuracy: 0.9360 - val_loss: 0.2524 - val_accuracy: 0.9278\n",
      "Epoch 13/40\n",
      "105/105 [==============================] - 5s 44ms/step - loss: 0.4762 - accuracy: 0.9390 - val_loss: 0.2924 - val_accuracy: 0.9236\n",
      "Epoch 14/40\n",
      "105/105 [==============================] - 5s 44ms/step - loss: 0.2235 - accuracy: 0.9524 - val_loss: 0.3021 - val_accuracy: 0.9333\n",
      "Epoch 15/40\n",
      "105/105 [==============================] - 5s 44ms/step - loss: 0.1853 - accuracy: 0.9548 - val_loss: 0.5969 - val_accuracy: 0.9083\n",
      "Epoch 16/40\n",
      "105/105 [==============================] - 5s 44ms/step - loss: 0.2283 - accuracy: 0.9568 - val_loss: 0.3017 - val_accuracy: 0.9417\n",
      "Epoch 17/40\n",
      "105/105 [==============================] - 5s 44ms/step - loss: 0.2064 - accuracy: 0.9503 - val_loss: 0.3507 - val_accuracy: 0.9306\n",
      "Epoch 18/40\n",
      "105/105 [==============================] - 5s 45ms/step - loss: 0.2249 - accuracy: 0.9580 - val_loss: 0.5915 - val_accuracy: 0.9153\n",
      "Epoch 19/40\n",
      "105/105 [==============================] - 5s 44ms/step - loss: 0.1770 - accuracy: 0.9628 - val_loss: 0.9059 - val_accuracy: 0.8583\n",
      "Epoch 20/40\n",
      "105/105 [==============================] - 5s 44ms/step - loss: 0.2917 - accuracy: 0.9568 - val_loss: 0.3137 - val_accuracy: 0.9278\n",
      "Epoch 21/40\n",
      "105/105 [==============================] - 5s 44ms/step - loss: 0.2299 - accuracy: 0.9658 - val_loss: 0.2956 - val_accuracy: 0.9347\n"
     ]
    }
   ],
   "source": [
    "history = model.fit(\n",
    "  train.cache(),\n",
    "  epochs=40,\n",
    "  callbacks=callbacks_list,\n",
    "  validation_data=val.cache()\n",
    ")"
   ]
  },
  {
   "cell_type": "code",
   "execution_count": 102,
   "metadata": {},
   "outputs": [
    {
     "name": "stdout",
     "output_type": "stream",
     "text": [
      "23/23 [==============================] - 0s 17ms/step - loss: 0.2292 - accuracy: 0.9222\n"
     ]
    },
    {
     "data": {
      "text/plain": [
       "[0.22924888134002686, 0.9222222566604614]"
      ]
     },
     "execution_count": 102,
     "metadata": {},
     "output_type": "execute_result"
    }
   ],
   "source": [
    "model.evaluate(test)"
   ]
  },
  {
   "cell_type": "code",
   "execution_count": 103,
   "metadata": {},
   "outputs": [
    {
     "name": "stdout",
     "output_type": "stream",
     "text": [
      " 1/23 [>.............................] - ETA: 4s - loss: 0.1912 - accuracy: 0.9062"
     ]
    },
    {
     "name": "stderr",
     "output_type": "stream",
     "text": [
      "2022-08-01 08:02:13.457122: I tensorflow/core/grappler/optimizers/custom_graph_optimizer_registry.cc:112] Plugin optimizer for device_type GPU is enabled.\n"
     ]
    },
    {
     "name": "stdout",
     "output_type": "stream",
     "text": [
      "23/23 [==============================] - 1s 18ms/step - loss: 0.2069 - accuracy: 0.9264\n"
     ]
    },
    {
     "data": {
      "text/plain": [
       "[0.2069445103406906, 0.9263889193534851]"
      ]
     },
     "execution_count": 103,
     "metadata": {},
     "output_type": "execute_result"
    }
   ],
   "source": [
    "# keras.models.save_model(model, \"./models/zenodo_3.h5\")\n",
    "\n",
    "load_model = keras.models.load_model(\"models/zenodo_4.h5\")\n",
    "load_model.evaluate(test)"
   ]
  }
 ],
 "metadata": {
  "kernelspec": {
   "display_name": "Python 3.9.7 ('base')",
   "language": "python",
   "name": "python3"
  },
  "language_info": {
   "codemirror_mode": {
    "name": "ipython",
    "version": 3
   },
   "file_extension": ".py",
   "mimetype": "text/x-python",
   "name": "python",
   "nbconvert_exporter": "python",
   "pygments_lexer": "ipython3",
   "version": "3.9.7"
  },
  "orig_nbformat": 4,
  "vscode": {
   "interpreter": {
    "hash": "c6e4e9f98eb68ad3b7c296f83d20e6de614cb42e90992a65aa266555a3137d0d"
   }
  }
 },
 "nbformat": 4,
 "nbformat_minor": 2
}
