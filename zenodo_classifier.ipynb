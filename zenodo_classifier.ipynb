{
 "cells": [
  {
   "cell_type": "code",
   "execution_count": 44,
   "metadata": {},
   "outputs": [],
   "source": [
    "import tensorflow as tf\n",
    "from tensorflow.keras import layers, utils\n",
    "from tensorflow import keras\n",
    "from matplotlib import pyplot as plt"
   ]
  },
  {
   "cell_type": "code",
   "execution_count": 45,
   "metadata": {},
   "outputs": [],
   "source": [
    "IMAGE_SIZE = 100\n",
    "BATCH_SIZE = 32"
   ]
  },
  {
   "cell_type": "code",
   "execution_count": 46,
   "metadata": {},
   "outputs": [
    {
     "name": "stdout",
     "output_type": "stream",
     "text": [
      "Found 3360 files belonging to 6 classes.\n",
      "Found 720 files belonging to 6 classes.\n",
      "Found 720 files belonging to 6 classes.\n"
     ]
    }
   ],
   "source": [
    "train = utils.image_dataset_from_directory(\"datasets/data/split/vehicles_zenodo/train/\", image_size=(IMAGE_SIZE, IMAGE_SIZE), batch_size=BATCH_SIZE)\n",
    "val = utils.image_dataset_from_directory(\"datasets/data/split/vehicles_zenodo/val\", image_size=(IMAGE_SIZE, IMAGE_SIZE), batch_size=BATCH_SIZE)\n",
    "test = utils.image_dataset_from_directory(\"datasets/data/split/vehicles_zenodo/test\", image_size=(IMAGE_SIZE, IMAGE_SIZE), batch_size=BATCH_SIZE)"
   ]
  },
  {
   "cell_type": "code",
   "execution_count": 47,
   "metadata": {},
   "outputs": [
    {
     "name": "stdout",
     "output_type": "stream",
     "text": [
      "Model: \"model_15\"\n",
      "_________________________________________________________________\n",
      " Layer (type)                Output Shape              Param #   \n",
      "=================================================================\n",
      " input_16 (InputLayer)       [(None, 100, 100, 3)]     0         \n",
      "                                                                 \n",
      " conv2d_95 (Conv2D)          (None, 98, 98, 32)        896       \n",
      "                                                                 \n",
      " max_pooling2d_45 (MaxPoolin  (None, 49, 49, 32)       0         \n",
      " g2D)                                                            \n",
      "                                                                 \n",
      " conv2d_96 (Conv2D)          (None, 47, 47, 64)        18496     \n",
      "                                                                 \n",
      " conv2d_97 (Conv2D)          (None, 45, 45, 64)        36928     \n",
      "                                                                 \n",
      " max_pooling2d_46 (MaxPoolin  (None, 22, 22, 64)       0         \n",
      " g2D)                                                            \n",
      "                                                                 \n",
      " conv2d_98 (Conv2D)          (None, 20, 20, 128)       73856     \n",
      "                                                                 \n",
      " conv2d_99 (Conv2D)          (None, 18, 18, 128)       147584    \n",
      "                                                                 \n",
      " max_pooling2d_47 (MaxPoolin  (None, 9, 9, 128)        0         \n",
      " g2D)                                                            \n",
      "                                                                 \n",
      " conv2d_100 (Conv2D)         (None, 7, 7, 256)         295168    \n",
      "                                                                 \n",
      " conv2d_101 (Conv2D)         (None, 5, 5, 256)         590080    \n",
      "                                                                 \n",
      " global_average_pooling2d_14  (None, 256)              0         \n",
      "  (GlobalAveragePooling2D)                                       \n",
      "                                                                 \n",
      " dense_29 (Dense)            (None, 256)               65792     \n",
      "                                                                 \n",
      " dropout_15 (Dropout)        (None, 256)               0         \n",
      "                                                                 \n",
      " dense_30 (Dense)            (None, 6)                 1542      \n",
      "                                                                 \n",
      "=================================================================\n",
      "Total params: 1,230,342\n",
      "Trainable params: 1,230,342\n",
      "Non-trainable params: 0\n",
      "_________________________________________________________________\n"
     ]
    }
   ],
   "source": [
    "inputs = keras.Input(shape=(100, 100, 3))\n",
    "x = layers.Conv2D(32, 3, activation='relu')(inputs)\n",
    "x = layers.Conv2D(32, 3, activation='relu')(inputs)\n",
    "x = layers.Conv2D(32, 3, activation='relu')(inputs)\n",
    "x = layers.MaxPooling2D(2)(x)\n",
    "x = layers.Conv2D(64, 3, activation='relu')(x)\n",
    "x = layers.Conv2D(64, 3, activation='relu')(x)\n",
    "x = layers.MaxPooling2D(2)(x)\n",
    "x = layers.Conv2D(128, 3, activation='relu')(x)\n",
    "x = layers.Conv2D(128, 3, activation='relu')(x)\n",
    "x = layers.MaxPooling2D(2)(x)\n",
    "x = layers.Conv2D(256, 3, activation='relu')(x)\n",
    "x = layers.Conv2D(256, 3, activation='relu')(x)\n",
    "x = layers.GlobalAveragePooling2D()(x)\n",
    "x = layers.Dense(256, activation='relu')(x)\n",
    "x = layers.Dropout(0.5)(x)\n",
    "outputs = layers.Dense(6, activation='softmax')(x)\n",
    "\n",
    "model = keras.Model(inputs, outputs)\n",
    "\n",
    "model.compile(optimizer=keras.optimizers.RMSprop(0.001), loss='sparse_categorical_crossentropy', metrics=['accuracy'])\n",
    "\n",
    "model.summary()"
   ]
  },
  {
   "cell_type": "code",
   "execution_count": 48,
   "metadata": {},
   "outputs": [
    {
     "name": "stdout",
     "output_type": "stream",
     "text": [
      "Epoch 1/40\n"
     ]
    },
    {
     "name": "stderr",
     "output_type": "stream",
     "text": [
      "2022-08-01 06:29:43.229151: I tensorflow/core/grappler/optimizers/custom_graph_optimizer_registry.cc:112] Plugin optimizer for device_type GPU is enabled.\n"
     ]
    },
    {
     "name": "stdout",
     "output_type": "stream",
     "text": [
      "105/105 [==============================] - ETA: 0s - loss: 2.3983 - accuracy: 0.1774"
     ]
    },
    {
     "name": "stderr",
     "output_type": "stream",
     "text": [
      "2022-08-01 06:29:50.649776: I tensorflow/core/grappler/optimizers/custom_graph_optimizer_registry.cc:112] Plugin optimizer for device_type GPU is enabled.\n"
     ]
    },
    {
     "name": "stdout",
     "output_type": "stream",
     "text": [
      "105/105 [==============================] - 8s 70ms/step - loss: 2.3983 - accuracy: 0.1774 - val_loss: 1.9648 - val_accuracy: 0.1667\n",
      "Epoch 2/40\n",
      "105/105 [==============================] - 7s 67ms/step - loss: 1.9049 - accuracy: 0.2521 - val_loss: 1.5474 - val_accuracy: 0.3028\n",
      "Epoch 3/40\n",
      "105/105 [==============================] - 7s 66ms/step - loss: 1.3246 - accuracy: 0.4872 - val_loss: 0.8726 - val_accuracy: 0.6528\n",
      "Epoch 4/40\n",
      "105/105 [==============================] - 7s 66ms/step - loss: 0.9525 - accuracy: 0.6333 - val_loss: 0.8222 - val_accuracy: 0.7306\n",
      "Epoch 5/40\n",
      "105/105 [==============================] - 7s 66ms/step - loss: 0.7233 - accuracy: 0.7560 - val_loss: 0.5448 - val_accuracy: 0.8083\n",
      "Epoch 6/40\n",
      "105/105 [==============================] - 7s 66ms/step - loss: 0.4861 - accuracy: 0.8357 - val_loss: 0.4998 - val_accuracy: 0.8611\n",
      "Epoch 7/40\n",
      "105/105 [==============================] - 7s 66ms/step - loss: 0.4542 - accuracy: 0.8842 - val_loss: 0.4426 - val_accuracy: 0.8722\n",
      "Epoch 8/40\n",
      "105/105 [==============================] - 7s 64ms/step - loss: 0.2679 - accuracy: 0.9182 - val_loss: 0.4352 - val_accuracy: 0.8681\n",
      "Epoch 9/40\n",
      "105/105 [==============================] - 7s 65ms/step - loss: 0.2087 - accuracy: 0.9357 - val_loss: 0.3463 - val_accuracy: 0.9236\n",
      "Epoch 10/40\n",
      "105/105 [==============================] - 7s 66ms/step - loss: 0.1991 - accuracy: 0.9372 - val_loss: 0.3129 - val_accuracy: 0.9194\n",
      "Epoch 11/40\n",
      "105/105 [==============================] - 7s 65ms/step - loss: 0.1641 - accuracy: 0.9500 - val_loss: 1.0066 - val_accuracy: 0.7875\n",
      "Epoch 12/40\n",
      "105/105 [==============================] - 7s 65ms/step - loss: 0.1428 - accuracy: 0.9586 - val_loss: 0.5624 - val_accuracy: 0.9014\n",
      "Epoch 13/40\n",
      "105/105 [==============================] - 7s 65ms/step - loss: 0.1685 - accuracy: 0.9580 - val_loss: 0.4608 - val_accuracy: 0.8861\n",
      "Epoch 14/40\n",
      "105/105 [==============================] - 7s 64ms/step - loss: 0.1141 - accuracy: 0.9688 - val_loss: 0.3991 - val_accuracy: 0.9347\n",
      "Epoch 15/40\n",
      "105/105 [==============================] - 7s 64ms/step - loss: 0.1557 - accuracy: 0.9649 - val_loss: 0.4378 - val_accuracy: 0.9347\n",
      "Epoch 16/40\n",
      "105/105 [==============================] - 7s 64ms/step - loss: 0.1765 - accuracy: 0.9643 - val_loss: 0.4332 - val_accuracy: 0.9222\n",
      "Epoch 17/40\n",
      "105/105 [==============================] - 7s 64ms/step - loss: 0.1594 - accuracy: 0.9690 - val_loss: 0.5319 - val_accuracy: 0.9222\n",
      "Epoch 18/40\n",
      "105/105 [==============================] - 7s 64ms/step - loss: 0.1149 - accuracy: 0.9729 - val_loss: 0.6668 - val_accuracy: 0.9333\n",
      "Epoch 19/40\n",
      "105/105 [==============================] - 7s 65ms/step - loss: 0.1341 - accuracy: 0.9717 - val_loss: 0.3191 - val_accuracy: 0.9375\n",
      "Epoch 20/40\n",
      "105/105 [==============================] - 7s 64ms/step - loss: 0.1350 - accuracy: 0.9747 - val_loss: 0.5847 - val_accuracy: 0.9236\n",
      "Epoch 21/40\n",
      "105/105 [==============================] - 7s 64ms/step - loss: 0.1562 - accuracy: 0.9750 - val_loss: 1.0494 - val_accuracy: 0.9069\n",
      "Epoch 22/40\n",
      "105/105 [==============================] - 7s 64ms/step - loss: 0.1197 - accuracy: 0.9813 - val_loss: 0.7403 - val_accuracy: 0.9194\n",
      "Epoch 23/40\n",
      "105/105 [==============================] - 7s 64ms/step - loss: 0.1680 - accuracy: 0.9747 - val_loss: 0.7973 - val_accuracy: 0.9375\n",
      "Epoch 24/40\n",
      "105/105 [==============================] - 7s 64ms/step - loss: 0.1081 - accuracy: 0.9804 - val_loss: 0.8427 - val_accuracy: 0.9375\n",
      "Epoch 25/40\n",
      "105/105 [==============================] - 7s 64ms/step - loss: 0.1780 - accuracy: 0.9762 - val_loss: 0.6542 - val_accuracy: 0.9389\n",
      "Epoch 26/40\n",
      "105/105 [==============================] - 7s 64ms/step - loss: 0.1529 - accuracy: 0.9810 - val_loss: 0.8387 - val_accuracy: 0.9361\n",
      "Epoch 27/40\n",
      "105/105 [==============================] - 7s 64ms/step - loss: 0.1847 - accuracy: 0.9780 - val_loss: 0.9279 - val_accuracy: 0.9375\n",
      "Epoch 28/40\n",
      "105/105 [==============================] - 7s 64ms/step - loss: 0.1241 - accuracy: 0.9804 - val_loss: 0.7606 - val_accuracy: 0.9542\n",
      "Epoch 29/40\n",
      "105/105 [==============================] - 7s 64ms/step - loss: 0.1427 - accuracy: 0.9830 - val_loss: 0.9174 - val_accuracy: 0.9361\n",
      "Epoch 30/40\n",
      "105/105 [==============================] - 7s 65ms/step - loss: 0.1699 - accuracy: 0.9771 - val_loss: 0.7102 - val_accuracy: 0.9319\n",
      "Epoch 31/40\n",
      "105/105 [==============================] - 7s 65ms/step - loss: 0.1996 - accuracy: 0.9839 - val_loss: 0.7746 - val_accuracy: 0.9333\n",
      "Epoch 32/40\n",
      "105/105 [==============================] - 7s 65ms/step - loss: 0.1487 - accuracy: 0.9839 - val_loss: 0.5873 - val_accuracy: 0.9528\n",
      "Epoch 33/40\n",
      "105/105 [==============================] - 7s 65ms/step - loss: 0.1795 - accuracy: 0.9815 - val_loss: 0.8170 - val_accuracy: 0.9403\n",
      "Epoch 34/40\n",
      "105/105 [==============================] - 7s 65ms/step - loss: 0.1154 - accuracy: 0.9842 - val_loss: 2.0269 - val_accuracy: 0.9250\n",
      "Epoch 35/40\n",
      "105/105 [==============================] - 7s 65ms/step - loss: 0.1900 - accuracy: 0.9813 - val_loss: 1.8224 - val_accuracy: 0.9222\n",
      "Epoch 36/40\n",
      "105/105 [==============================] - 7s 65ms/step - loss: 0.1515 - accuracy: 0.9815 - val_loss: 1.4935 - val_accuracy: 0.9139\n",
      "Epoch 37/40\n",
      "105/105 [==============================] - 7s 65ms/step - loss: 0.1289 - accuracy: 0.9887 - val_loss: 1.0855 - val_accuracy: 0.9083\n",
      "Epoch 38/40\n",
      "105/105 [==============================] - 7s 65ms/step - loss: 0.1184 - accuracy: 0.9854 - val_loss: 2.5244 - val_accuracy: 0.9139\n",
      "Epoch 39/40\n",
      "105/105 [==============================] - 7s 65ms/step - loss: 0.1841 - accuracy: 0.9833 - val_loss: 0.9368 - val_accuracy: 0.9250\n",
      "Epoch 40/40\n",
      "105/105 [==============================] - 7s 65ms/step - loss: 0.1377 - accuracy: 0.9866 - val_loss: 1.5031 - val_accuracy: 0.9347\n"
     ]
    }
   ],
   "source": [
    "history = model.fit(\n",
    "  train.cache(),\n",
    "  epochs=40,\n",
    "  validation_data=val.cache()\n",
    ")"
   ]
  },
  {
   "cell_type": "code",
   "execution_count": 52,
   "metadata": {},
   "outputs": [
    {
     "name": "stdout",
     "output_type": "stream",
     "text": [
      "23/23 [==============================] - 1s 21ms/step - loss: 1.0162 - accuracy: 0.9597\n"
     ]
    },
    {
     "data": {
      "text/plain": [
       "[1.0161926746368408, 0.9597222208976746]"
      ]
     },
     "execution_count": 52,
     "metadata": {},
     "output_type": "execute_result"
    }
   ],
   "source": [
    "model.evaluate(test)"
   ]
  },
  {
   "cell_type": "code",
   "execution_count": 53,
   "metadata": {},
   "outputs": [],
   "source": [
    "keras.models.save_model(model, \"./models/zenodo_1.h5\")"
   ]
  }
 ],
 "metadata": {
  "kernelspec": {
   "display_name": "Python 3.9.7 ('base')",
   "language": "python",
   "name": "python3"
  },
  "language_info": {
   "codemirror_mode": {
    "name": "ipython",
    "version": 3
   },
   "file_extension": ".py",
   "mimetype": "text/x-python",
   "name": "python",
   "nbconvert_exporter": "python",
   "pygments_lexer": "ipython3",
   "version": "3.9.7"
  },
  "orig_nbformat": 4,
  "vscode": {
   "interpreter": {
    "hash": "c6e4e9f98eb68ad3b7c296f83d20e6de614cb42e90992a65aa266555a3137d0d"
   }
  }
 },
 "nbformat": 4,
 "nbformat_minor": 2
}
