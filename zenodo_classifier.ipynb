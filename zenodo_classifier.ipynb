{
 "cells": [
  {
   "cell_type": "code",
   "execution_count": 1,
   "metadata": {},
   "outputs": [],
   "source": [
    "import tensorflow as tf\n",
    "from tensorflow.keras import layers, utils\n",
    "from tensorflow import keras\n",
    "from matplotlib import pyplot as plt"
   ]
  },
  {
   "cell_type": "code",
   "execution_count": 2,
   "metadata": {},
   "outputs": [],
   "source": [
    "IMAGE_SIZE = 100\n",
    "BATCH_SIZE = 32"
   ]
  },
  {
   "cell_type": "code",
   "execution_count": 4,
   "metadata": {},
   "outputs": [
    {
     "name": "stdout",
     "output_type": "stream",
     "text": [
      "Found 3360 files belonging to 6 classes.\n",
      "Found 720 files belonging to 6 classes.\n",
      "Found 720 files belonging to 6 classes.\n"
     ]
    }
   ],
   "source": [
    "train = utils.image_dataset_from_directory(\"datasets/data/split/vehicles_zenodo/train/\", image_size=(IMAGE_SIZE, IMAGE_SIZE), batch_size=BATCH_SIZE)\n",
    "val = utils.image_dataset_from_directory(\"datasets/data/split/vehicles_zenodo/val\", image_size=(IMAGE_SIZE, IMAGE_SIZE), batch_size=BATCH_SIZE)\n",
    "test = utils.image_dataset_from_directory(\"datasets/data/split/vehicles_zenodo/test\", image_size=(IMAGE_SIZE, IMAGE_SIZE), batch_size=BATCH_SIZE)"
   ]
  },
  {
   "cell_type": "code",
   "execution_count": 4,
   "metadata": {},
   "outputs": [],
   "source": [
    "# data_augmentation = keras.Sequential(\n",
    "# [\n",
    "#     layers.RandomFlip(\"horizontal\"),\n",
    "#     layers.RandomRotation(0.1),\n",
    "#     layers.RandomZoom(0.2),\n",
    "#     layers.RandomContrast(0.2),\n",
    "#     layers.RandomTranslation(height_factor=0.2,width_factor=0.3)\n",
    "# ] \n",
    "# )"
   ]
  },
  {
   "cell_type": "code",
   "execution_count": 6,
   "metadata": {},
   "outputs": [
    {
     "name": "stdout",
     "output_type": "stream",
     "text": [
      "Model: \"model_1\"\n",
      "_________________________________________________________________\n",
      " Layer (type)                Output Shape              Param #   \n",
      "=================================================================\n",
      " input_2 (InputLayer)        [(None, 100, 100, 3)]     0         \n",
      "                                                                 \n",
      " conv2d_4 (Conv2D)           (None, 98, 98, 16)        448       \n",
      "                                                                 \n",
      " max_pooling2d_3 (MaxPooling  (None, 49, 49, 16)       0         \n",
      " 2D)                                                             \n",
      "                                                                 \n",
      " conv2d_5 (Conv2D)           (None, 47, 47, 32)        4640      \n",
      "                                                                 \n",
      " max_pooling2d_4 (MaxPooling  (None, 23, 23, 32)       0         \n",
      " 2D)                                                             \n",
      "                                                                 \n",
      " conv2d_6 (Conv2D)           (None, 21, 21, 22)        6358      \n",
      "                                                                 \n",
      " max_pooling2d_5 (MaxPooling  (None, 10, 10, 22)       0         \n",
      " 2D)                                                             \n",
      "                                                                 \n",
      " conv2d_7 (Conv2D)           (None, 8, 8, 32)          6368      \n",
      "                                                                 \n",
      " global_average_pooling2d_1   (None, 32)               0         \n",
      " (GlobalAveragePooling2D)                                        \n",
      "                                                                 \n",
      " dropout_1 (Dropout)         (None, 32)                0         \n",
      "                                                                 \n",
      " dense_1 (Dense)             (None, 6)                 198       \n",
      "                                                                 \n",
      "=================================================================\n",
      "Total params: 18,012\n",
      "Trainable params: 18,012\n",
      "Non-trainable params: 0\n",
      "_________________________________________________________________\n"
     ]
    }
   ],
   "source": [
    "inputs = keras.Input(shape=(100, 100, 3))\n",
    "x = layers.Conv2D(16, 3, activation='relu')(inputs)\n",
    "x = layers.MaxPooling2D(2)(x)\n",
    "x = layers.Conv2D(32, 3, activation='relu')(x)\n",
    "x = layers.MaxPooling2D(2)(x)\n",
    "x = layers.Conv2D(22, 3, activation='relu')(x)\n",
    "x = layers.MaxPooling2D(2)(x)\n",
    "x = layers.Conv2D(32, 3, activation='relu')(x)\n",
    "x = layers.GlobalAveragePooling2D()(x)\n",
    "x = layers.Dropout(0.5)(x)\n",
    "outputs = layers.Dense(6, activation='softmax')(x)\n",
    "\n",
    "model = keras.Model(inputs, outputs)\n",
    "\n",
    "model.compile(optimizer=keras.optimizers.RMSprop(0.001), loss='sparse_categorical_crossentropy', metrics=['accuracy'])\n",
    "\n",
    "model.summary()"
   ]
  },
  {
   "cell_type": "code",
   "execution_count": 7,
   "metadata": {},
   "outputs": [],
   "source": [
    "callbacks_list = [\n",
    "    # keras.callbacks.EarlyStopping(\n",
    "    #     monitor=\"val_accuracy\",\n",
    "    #     patience=7\n",
    "    # ),\n",
    "    keras.callbacks.ModelCheckpoint(\n",
    "        filepath=\"models/zenodo_7.h5\",\n",
    "        monitor=\"val_loss\",\n",
    "        save_best_only=True\n",
    "    )\n",
    "]"
   ]
  },
  {
   "cell_type": "code",
   "execution_count": 8,
   "metadata": {},
   "outputs": [
    {
     "name": "stdout",
     "output_type": "stream",
     "text": [
      "Epoch 1/40\n"
     ]
    },
    {
     "name": "stderr",
     "output_type": "stream",
     "text": [
      "2022-08-01 10:16:55.946766: W tensorflow/core/platform/profile_utils/cpu_utils.cc:128] Failed to get CPU frequency: 0 Hz\n",
      "2022-08-01 10:16:55.946851: I tensorflow/core/grappler/optimizers/custom_graph_optimizer_registry.cc:112] Plugin optimizer for device_type GPU is enabled.\n"
     ]
    },
    {
     "name": "stdout",
     "output_type": "stream",
     "text": [
      "104/105 [============================>.] - ETA: 0s - loss: 2.7020 - accuracy: 0.1986"
     ]
    },
    {
     "name": "stderr",
     "output_type": "stream",
     "text": [
      "2022-08-01 10:16:59.187467: I tensorflow/core/grappler/optimizers/custom_graph_optimizer_registry.cc:112] Plugin optimizer for device_type GPU is enabled.\n"
     ]
    },
    {
     "name": "stdout",
     "output_type": "stream",
     "text": [
      "105/105 [==============================] - 4s 29ms/step - loss: 2.6930 - accuracy: 0.1982 - val_loss: 1.7365 - val_accuracy: 0.2639\n",
      "Epoch 2/40\n",
      "105/105 [==============================] - 3s 24ms/step - loss: 1.8195 - accuracy: 0.2577 - val_loss: 1.6924 - val_accuracy: 0.3597\n",
      "Epoch 3/40\n",
      "105/105 [==============================] - 2s 23ms/step - loss: 1.7551 - accuracy: 0.3036 - val_loss: 1.6080 - val_accuracy: 0.3903\n",
      "Epoch 4/40\n",
      "105/105 [==============================] - 2s 23ms/step - loss: 1.7170 - accuracy: 0.3500 - val_loss: 1.5092 - val_accuracy: 0.5014\n",
      "Epoch 5/40\n",
      "105/105 [==============================] - 2s 23ms/step - loss: 1.5930 - accuracy: 0.3821 - val_loss: 1.3469 - val_accuracy: 0.5361\n",
      "Epoch 6/40\n",
      "105/105 [==============================] - 2s 23ms/step - loss: 1.4594 - accuracy: 0.4324 - val_loss: 1.1664 - val_accuracy: 0.5958\n",
      "Epoch 7/40\n",
      "105/105 [==============================] - 2s 23ms/step - loss: 1.3165 - accuracy: 0.4943 - val_loss: 1.3127 - val_accuracy: 0.4417\n",
      "Epoch 8/40\n",
      "105/105 [==============================] - 2s 23ms/step - loss: 1.1889 - accuracy: 0.5619 - val_loss: 1.7270 - val_accuracy: 0.4667\n",
      "Epoch 9/40\n",
      "105/105 [==============================] - 2s 23ms/step - loss: 1.0922 - accuracy: 0.6003 - val_loss: 2.2380 - val_accuracy: 0.4347\n",
      "Epoch 10/40\n",
      "105/105 [==============================] - 2s 23ms/step - loss: 1.0306 - accuracy: 0.6271 - val_loss: 2.2074 - val_accuracy: 0.4472\n",
      "Epoch 11/40\n",
      "105/105 [==============================] - 2s 23ms/step - loss: 0.9663 - accuracy: 0.6509 - val_loss: 0.7540 - val_accuracy: 0.7319\n",
      "Epoch 12/40\n",
      "105/105 [==============================] - 2s 23ms/step - loss: 0.8509 - accuracy: 0.6860 - val_loss: 0.9219 - val_accuracy: 0.6597\n",
      "Epoch 13/40\n",
      "105/105 [==============================] - 2s 23ms/step - loss: 0.8690 - accuracy: 0.7030 - val_loss: 0.5538 - val_accuracy: 0.8028\n",
      "Epoch 14/40\n",
      "105/105 [==============================] - 2s 23ms/step - loss: 0.7458 - accuracy: 0.7318 - val_loss: 0.5493 - val_accuracy: 0.7917\n",
      "Epoch 15/40\n",
      "105/105 [==============================] - 2s 23ms/step - loss: 0.6723 - accuracy: 0.7601 - val_loss: 0.4831 - val_accuracy: 0.8333\n",
      "Epoch 16/40\n",
      "105/105 [==============================] - 2s 23ms/step - loss: 0.6314 - accuracy: 0.7667 - val_loss: 0.4865 - val_accuracy: 0.8222\n",
      "Epoch 17/40\n",
      "105/105 [==============================] - 2s 23ms/step - loss: 0.5979 - accuracy: 0.7851 - val_loss: 0.5156 - val_accuracy: 0.8125\n",
      "Epoch 18/40\n",
      "105/105 [==============================] - 2s 23ms/step - loss: 0.5572 - accuracy: 0.8045 - val_loss: 0.4678 - val_accuracy: 0.8389\n",
      "Epoch 19/40\n",
      "105/105 [==============================] - 2s 23ms/step - loss: 0.5210 - accuracy: 0.8125 - val_loss: 0.3811 - val_accuracy: 0.8736\n",
      "Epoch 20/40\n",
      "105/105 [==============================] - 2s 23ms/step - loss: 0.4981 - accuracy: 0.8185 - val_loss: 0.5408 - val_accuracy: 0.8028\n",
      "Epoch 21/40\n",
      "105/105 [==============================] - 2s 23ms/step - loss: 0.4639 - accuracy: 0.8339 - val_loss: 0.4185 - val_accuracy: 0.8611\n",
      "Epoch 22/40\n",
      "105/105 [==============================] - 2s 23ms/step - loss: 0.4296 - accuracy: 0.8458 - val_loss: 0.4055 - val_accuracy: 0.8639\n",
      "Epoch 23/40\n",
      "105/105 [==============================] - 2s 23ms/step - loss: 0.4111 - accuracy: 0.8539 - val_loss: 0.5682 - val_accuracy: 0.8042\n",
      "Epoch 24/40\n",
      "105/105 [==============================] - 2s 23ms/step - loss: 0.3797 - accuracy: 0.8634 - val_loss: 0.4023 - val_accuracy: 0.8667\n",
      "Epoch 25/40\n",
      "105/105 [==============================] - 2s 23ms/step - loss: 0.3882 - accuracy: 0.8601 - val_loss: 0.3024 - val_accuracy: 0.8931\n",
      "Epoch 26/40\n",
      "105/105 [==============================] - 2s 23ms/step - loss: 0.3358 - accuracy: 0.8818 - val_loss: 0.3119 - val_accuracy: 0.8958\n",
      "Epoch 27/40\n",
      "105/105 [==============================] - 2s 24ms/step - loss: 0.3139 - accuracy: 0.8845 - val_loss: 0.2765 - val_accuracy: 0.9014\n",
      "Epoch 28/40\n",
      "105/105 [==============================] - 2s 23ms/step - loss: 0.3037 - accuracy: 0.8943 - val_loss: 0.2644 - val_accuracy: 0.9056\n",
      "Epoch 29/40\n",
      "105/105 [==============================] - 2s 23ms/step - loss: 0.2731 - accuracy: 0.8979 - val_loss: 0.5390 - val_accuracy: 0.8389\n",
      "Epoch 30/40\n",
      "105/105 [==============================] - 2s 23ms/step - loss: 0.3025 - accuracy: 0.8982 - val_loss: 0.3070 - val_accuracy: 0.8986\n",
      "Epoch 31/40\n",
      "105/105 [==============================] - 2s 23ms/step - loss: 0.2566 - accuracy: 0.9048 - val_loss: 0.2696 - val_accuracy: 0.9097\n",
      "Epoch 32/40\n",
      "105/105 [==============================] - 3s 24ms/step - loss: 0.2385 - accuracy: 0.9161 - val_loss: 0.2612 - val_accuracy: 0.9181\n",
      "Epoch 33/40\n",
      "105/105 [==============================] - 2s 23ms/step - loss: 0.2179 - accuracy: 0.9232 - val_loss: 0.2870 - val_accuracy: 0.9153\n",
      "Epoch 34/40\n",
      "105/105 [==============================] - 2s 23ms/step - loss: 0.2445 - accuracy: 0.9265 - val_loss: 0.2670 - val_accuracy: 0.9167\n",
      "Epoch 35/40\n",
      "105/105 [==============================] - 2s 23ms/step - loss: 0.1998 - accuracy: 0.9318 - val_loss: 0.2784 - val_accuracy: 0.9083\n",
      "Epoch 36/40\n",
      "105/105 [==============================] - 3s 24ms/step - loss: 0.1957 - accuracy: 0.9366 - val_loss: 0.2700 - val_accuracy: 0.9111\n",
      "Epoch 37/40\n",
      "105/105 [==============================] - 3s 24ms/step - loss: 0.1896 - accuracy: 0.9399 - val_loss: 0.2945 - val_accuracy: 0.9028\n",
      "Epoch 38/40\n",
      "105/105 [==============================] - 2s 24ms/step - loss: 0.1521 - accuracy: 0.9461 - val_loss: 0.4268 - val_accuracy: 0.8750\n",
      "Epoch 39/40\n",
      "105/105 [==============================] - 2s 23ms/step - loss: 0.1828 - accuracy: 0.9411 - val_loss: 0.3256 - val_accuracy: 0.9014\n",
      "Epoch 40/40\n",
      "105/105 [==============================] - 3s 25ms/step - loss: 0.1582 - accuracy: 0.9420 - val_loss: 0.3477 - val_accuracy: 0.8833\n"
     ]
    }
   ],
   "source": [
    "history = model.fit(\n",
    "  train.cache(),\n",
    "  epochs=40,\n",
    "  callbacks=callbacks_list,\n",
    "  validation_data=val.cache()\n",
    ")"
   ]
  },
  {
   "cell_type": "code",
   "execution_count": 8,
   "metadata": {},
   "outputs": [
    {
     "name": "stdout",
     "output_type": "stream",
     "text": [
      "23/23 [==============================] - 0s 12ms/step - loss: 0.4365 - accuracy: 0.9069\n"
     ]
    },
    {
     "data": {
      "text/plain": [
       "[0.4364646077156067, 0.9069444537162781]"
      ]
     },
     "execution_count": 8,
     "metadata": {},
     "output_type": "execute_result"
    }
   ],
   "source": [
    "model.evaluate(test)"
   ]
  },
  {
   "cell_type": "code",
   "execution_count": 9,
   "metadata": {},
   "outputs": [
    {
     "name": "stdout",
     "output_type": "stream",
     "text": [
      " 9/23 [==========>...................] - ETA: 0s - loss: 0.2891 - accuracy: 0.9132"
     ]
    },
    {
     "name": "stderr",
     "output_type": "stream",
     "text": [
      "2022-08-01 10:09:16.565756: I tensorflow/core/grappler/optimizers/custom_graph_optimizer_registry.cc:112] Plugin optimizer for device_type GPU is enabled.\n"
     ]
    },
    {
     "name": "stdout",
     "output_type": "stream",
     "text": [
      "23/23 [==============================] - 0s 14ms/step - loss: 0.3014 - accuracy: 0.9125\n"
     ]
    },
    {
     "data": {
      "text/plain": [
       "[0.3013952672481537, 0.9125000238418579]"
      ]
     },
     "execution_count": 9,
     "metadata": {},
     "output_type": "execute_result"
    }
   ],
   "source": [
    "# keras.models.save_model(model, \"./models/zenodo_3.h5\")\n",
    "\n",
    "load_model = keras.models.load_model(\"models/zenodo_7.h5\")\n",
    "load_model.evaluate(test)"
   ]
  }
 ],
 "metadata": {
  "kernelspec": {
   "display_name": "Python 3.9.7 ('base')",
   "language": "python",
   "name": "python3"
  },
  "language_info": {
   "codemirror_mode": {
    "name": "ipython",
    "version": 3
   },
   "file_extension": ".py",
   "mimetype": "text/x-python",
   "name": "python",
   "nbconvert_exporter": "python",
   "pygments_lexer": "ipython3",
   "version": "3.9.7"
  },
  "orig_nbformat": 4,
  "vscode": {
   "interpreter": {
    "hash": "c6e4e9f98eb68ad3b7c296f83d20e6de614cb42e90992a65aa266555a3137d0d"
   }
  }
 },
 "nbformat": 4,
 "nbformat_minor": 2
}
