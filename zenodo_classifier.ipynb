{
 "cells": [
  {
   "cell_type": "code",
   "execution_count": 1,
   "metadata": {},
   "outputs": [],
   "source": [
    "import tensorflow as tf\n",
    "from tensorflow.keras import layers, utils\n",
    "from tensorflow import keras\n",
    "from matplotlib import pyplot as plt"
   ]
  },
  {
   "cell_type": "code",
   "execution_count": 2,
   "metadata": {},
   "outputs": [],
   "source": [
    "IMAGE_SIZE = 100\n",
    "BATCH_SIZE = 32"
   ]
  },
  {
   "cell_type": "code",
   "execution_count": 3,
   "metadata": {},
   "outputs": [
    {
     "name": "stdout",
     "output_type": "stream",
     "text": [
      "Found 3360 files belonging to 6 classes.\n",
      "Metal device set to: Apple M1\n",
      "\n",
      "systemMemory: 16.00 GB\n",
      "maxCacheSize: 5.33 GB\n",
      "\n",
      "Found 720 files belonging to 6 classes.\n",
      "Found 720 files belonging to 6 classes.\n"
     ]
    },
    {
     "name": "stderr",
     "output_type": "stream",
     "text": [
      "2022-08-02 09:30:54.298391: I tensorflow/core/common_runtime/pluggable_device/pluggable_device_factory.cc:305] Could not identify NUMA node of platform GPU ID 0, defaulting to 0. Your kernel may not have been built with NUMA support.\n",
      "2022-08-02 09:30:54.298559: I tensorflow/core/common_runtime/pluggable_device/pluggable_device_factory.cc:271] Created TensorFlow device (/job:localhost/replica:0/task:0/device:GPU:0 with 0 MB memory) -> physical PluggableDevice (device: 0, name: METAL, pci bus id: <undefined>)\n"
     ]
    }
   ],
   "source": [
    "train = utils.image_dataset_from_directory(\"datasets/data/split/vehicles_zenodo/train\", image_size=(IMAGE_SIZE, IMAGE_SIZE), batch_size=BATCH_SIZE)\n",
    "val = utils.image_dataset_from_directory(\"datasets/data/split/vehicles_zenodo/val\", image_size=(IMAGE_SIZE, IMAGE_SIZE), batch_size=BATCH_SIZE)\n",
    "test = utils.image_dataset_from_directory(\"datasets/data/split/vehicles_zenodo/test\", image_size=(IMAGE_SIZE, IMAGE_SIZE), batch_size=BATCH_SIZE)"
   ]
  },
  {
   "cell_type": "code",
   "execution_count": 4,
   "metadata": {},
   "outputs": [],
   "source": [
    "with tf.device('/cpu:0'):\n",
    "    data_augmentation = keras.Sequential(\n",
    "    [\n",
    "        layers.RandomFlip(\"horizontal\"),\n",
    "        layers.RandomRotation(0.1),\n",
    "        layers.RandomZoom(0.2)\n",
    "        # layers.RandomContrast(0.2),\n",
    "        # layers.RandomTranslation(height_factor=0.2,width_factor=0.3)\n",
    "    ] \n",
    "    )"
   ]
  },
  {
   "cell_type": "code",
   "execution_count": 5,
   "metadata": {},
   "outputs": [
    {
     "name": "stdout",
     "output_type": "stream",
     "text": [
      "Model: \"model\"\n",
      "_________________________________________________________________\n",
      " Layer (type)                Output Shape              Param #   \n",
      "=================================================================\n",
      " input_1 (InputLayer)        [(None, 100, 100, 3)]     0         \n",
      "                                                                 \n",
      " rescaling (Rescaling)       (None, 100, 100, 3)       0         \n",
      "                                                                 \n",
      " conv2d (Conv2D)             (None, 98, 98, 32)        896       \n",
      "                                                                 \n",
      " conv2d_1 (Conv2D)           (None, 96, 96, 32)        9248      \n",
      "                                                                 \n",
      " conv2d_2 (Conv2D)           (None, 94, 94, 32)        9248      \n",
      "                                                                 \n",
      " max_pooling2d (MaxPooling2D  (None, 47, 47, 32)       0         \n",
      " )                                                               \n",
      "                                                                 \n",
      " conv2d_3 (Conv2D)           (None, 45, 45, 64)        18496     \n",
      "                                                                 \n",
      " conv2d_4 (Conv2D)           (None, 43, 43, 64)        36928     \n",
      "                                                                 \n",
      " max_pooling2d_1 (MaxPooling  (None, 21, 21, 64)       0         \n",
      " 2D)                                                             \n",
      "                                                                 \n",
      " conv2d_5 (Conv2D)           (None, 19, 19, 128)       73856     \n",
      "                                                                 \n",
      " conv2d_6 (Conv2D)           (None, 17, 17, 128)       147584    \n",
      "                                                                 \n",
      " max_pooling2d_2 (MaxPooling  (None, 8, 8, 128)        0         \n",
      " 2D)                                                             \n",
      "                                                                 \n",
      " conv2d_7 (Conv2D)           (None, 6, 6, 256)         295168    \n",
      "                                                                 \n",
      " conv2d_8 (Conv2D)           (None, 4, 4, 256)         590080    \n",
      "                                                                 \n",
      " global_average_pooling2d (G  (None, 256)              0         \n",
      " lobalAveragePooling2D)                                          \n",
      "                                                                 \n",
      " dense (Dense)               (None, 256)               65792     \n",
      "                                                                 \n",
      " dropout (Dropout)           (None, 256)               0         \n",
      "                                                                 \n",
      " dense_1 (Dense)             (None, 6)                 1542      \n",
      "                                                                 \n",
      "=================================================================\n",
      "Total params: 1,248,838\n",
      "Trainable params: 1,248,838\n",
      "Non-trainable params: 0\n",
      "_________________________________________________________________\n"
     ]
    }
   ],
   "source": [
    "inputs = keras.Input(shape=(100, 100, 3))\n",
    "x = inputs\n",
    "# with tf.device('/cpu:0'):\n",
    "#   x = data_augmentation(x)\n",
    "x = layers.Rescaling(1./255)(x)\n",
    "x = layers.Conv2D(32, 3, activation='relu')(x)\n",
    "x = layers.Conv2D(32, 3, activation='relu')(x)\n",
    "x = layers.Conv2D(32, 3, activation='relu')(x)\n",
    "x = layers.MaxPooling2D(2)(x)\n",
    "x = layers.Conv2D(64, 3, activation='relu')(x)\n",
    "x = layers.Conv2D(64, 3, activation='relu')(x)\n",
    "x = layers.MaxPooling2D(2)(x)\n",
    "x = layers.Conv2D(128, 3, activation='relu')(x)\n",
    "x = layers.Conv2D(128, 3, activation='relu')(x)\n",
    "x = layers.MaxPooling2D(2)(x)\n",
    "x = layers.Conv2D(256, 3, activation='relu')(x)\n",
    "x = layers.Conv2D(256, 3, activation='relu')(x)\n",
    "x = layers.GlobalAveragePooling2D()(x)\n",
    "x = layers.Dense(256, activation='relu')(x)\n",
    "x = layers.Dropout(0.3)(x)\n",
    "outputs = layers.Dense(6, activation='softmax')(x)\n",
    "\n",
    "model = keras.Model(inputs, outputs)\n",
    "\n",
    "model.compile(optimizer=keras.optimizers.RMSprop(0.001), loss='sparse_categorical_crossentropy', metrics=['accuracy'])\n",
    "\n",
    "model.summary()"
   ]
  },
  {
   "cell_type": "code",
   "execution_count": 6,
   "metadata": {},
   "outputs": [],
   "source": [
    "callbacks_list = [\n",
    "    keras.callbacks.EarlyStopping(\n",
    "        monitor=\"val_accuracy\",\n",
    "        patience=8\n",
    "    ),\n",
    "    keras.callbacks.ModelCheckpoint(\n",
    "        filepath=\"models/zenodo_01.h5\",\n",
    "        monitor=\"val_accuracy\",\n",
    "        save_best_only=True\n",
    "    )\n",
    "]"
   ]
  },
  {
   "cell_type": "code",
   "execution_count": 7,
   "metadata": {},
   "outputs": [
    {
     "name": "stdout",
     "output_type": "stream",
     "text": [
      "Epoch 1/50\n"
     ]
    },
    {
     "name": "stderr",
     "output_type": "stream",
     "text": [
      "2022-08-02 09:30:57.356954: W tensorflow/core/platform/profile_utils/cpu_utils.cc:128] Failed to get CPU frequency: 0 Hz\n",
      "2022-08-02 09:30:57.357114: I tensorflow/core/grappler/optimizers/custom_graph_optimizer_registry.cc:112] Plugin optimizer for device_type GPU is enabled.\n"
     ]
    },
    {
     "name": "stdout",
     "output_type": "stream",
     "text": [
      "105/105 [==============================] - ETA: 0s - loss: 1.8008 - accuracy: 0.1568"
     ]
    },
    {
     "name": "stderr",
     "output_type": "stream",
     "text": [
      "2022-08-02 09:31:12.368026: I tensorflow/core/grappler/optimizers/custom_graph_optimizer_registry.cc:112] Plugin optimizer for device_type GPU is enabled.\n"
     ]
    },
    {
     "name": "stdout",
     "output_type": "stream",
     "text": [
      "105/105 [==============================] - 19s 133ms/step - loss: 1.8008 - accuracy: 0.1568 - val_loss: 1.7918 - val_accuracy: 0.1667\n",
      "Epoch 2/50\n",
      "105/105 [==============================] - 12s 114ms/step - loss: 1.8119 - accuracy: 0.1741 - val_loss: 1.7894 - val_accuracy: 0.2208\n",
      "Epoch 3/50\n",
      "105/105 [==============================] - 13s 128ms/step - loss: 1.6451 - accuracy: 0.3173 - val_loss: 1.3634 - val_accuracy: 0.4097\n",
      "Epoch 4/50\n",
      "105/105 [==============================] - 12s 118ms/step - loss: 1.1141 - accuracy: 0.5690 - val_loss: 0.9836 - val_accuracy: 0.6028\n",
      "Epoch 5/50\n",
      "105/105 [==============================] - 13s 120ms/step - loss: 0.8174 - accuracy: 0.6967 - val_loss: 0.9467 - val_accuracy: 0.6736\n",
      "Epoch 6/50\n",
      "105/105 [==============================] - 13s 125ms/step - loss: 0.6181 - accuracy: 0.7839 - val_loss: 2.6963 - val_accuracy: 0.3292\n",
      "Epoch 7/50\n",
      "105/105 [==============================] - 14s 135ms/step - loss: 0.4474 - accuracy: 0.8443 - val_loss: 0.6818 - val_accuracy: 0.7444\n",
      "Epoch 8/50\n",
      "105/105 [==============================] - 15s 142ms/step - loss: 0.3388 - accuracy: 0.8777 - val_loss: 0.3370 - val_accuracy: 0.8958\n",
      "Epoch 9/50\n",
      "105/105 [==============================] - 15s 147ms/step - loss: 0.2479 - accuracy: 0.9119 - val_loss: 0.3345 - val_accuracy: 0.8958\n",
      "Epoch 10/50\n",
      "105/105 [==============================] - 15s 145ms/step - loss: 0.1912 - accuracy: 0.9387 - val_loss: 0.2773 - val_accuracy: 0.9125\n",
      "Epoch 11/50\n",
      "105/105 [==============================] - 15s 146ms/step - loss: 0.1994 - accuracy: 0.9369 - val_loss: 0.3663 - val_accuracy: 0.9097\n",
      "Epoch 12/50\n",
      "105/105 [==============================] - 16s 152ms/step - loss: 0.1369 - accuracy: 0.9557 - val_loss: 0.2840 - val_accuracy: 0.9361\n",
      "Epoch 13/50\n",
      "105/105 [==============================] - 16s 150ms/step - loss: 0.1459 - accuracy: 0.9607 - val_loss: 0.2525 - val_accuracy: 0.9333\n",
      "Epoch 14/50\n",
      "105/105 [==============================] - 20s 191ms/step - loss: 0.1114 - accuracy: 0.9667 - val_loss: 0.2904 - val_accuracy: 0.9208\n",
      "Epoch 15/50\n",
      "105/105 [==============================] - 17s 158ms/step - loss: 0.1000 - accuracy: 0.9705 - val_loss: 0.5178 - val_accuracy: 0.8972\n",
      "Epoch 16/50\n",
      "105/105 [==============================] - 19s 177ms/step - loss: 0.0936 - accuracy: 0.9693 - val_loss: 0.3767 - val_accuracy: 0.9222\n",
      "Epoch 17/50\n",
      "105/105 [==============================] - 16s 149ms/step - loss: 0.0797 - accuracy: 0.9762 - val_loss: 0.4150 - val_accuracy: 0.9042\n",
      "Epoch 18/50\n",
      "105/105 [==============================] - 16s 149ms/step - loss: 0.0807 - accuracy: 0.9777 - val_loss: 0.3070 - val_accuracy: 0.9333\n",
      "Epoch 19/50\n",
      "105/105 [==============================] - 15s 141ms/step - loss: 0.0835 - accuracy: 0.9771 - val_loss: 0.3778 - val_accuracy: 0.9431\n",
      "Epoch 20/50\n",
      "105/105 [==============================] - 15s 146ms/step - loss: 0.0743 - accuracy: 0.9836 - val_loss: 0.3036 - val_accuracy: 0.9306\n",
      "Epoch 21/50\n",
      "105/105 [==============================] - 23s 223ms/step - loss: 0.0726 - accuracy: 0.9833 - val_loss: 0.4007 - val_accuracy: 0.9472\n",
      "Epoch 22/50\n",
      "105/105 [==============================] - 16s 150ms/step - loss: 0.0797 - accuracy: 0.9795 - val_loss: 0.4037 - val_accuracy: 0.9417\n",
      "Epoch 23/50\n",
      "105/105 [==============================] - 16s 154ms/step - loss: 0.0502 - accuracy: 0.9878 - val_loss: 0.3107 - val_accuracy: 0.9389\n",
      "Epoch 24/50\n",
      "105/105 [==============================] - 16s 152ms/step - loss: 0.0421 - accuracy: 0.9896 - val_loss: 0.3202 - val_accuracy: 0.9417\n",
      "Epoch 25/50\n",
      "105/105 [==============================] - 16s 153ms/step - loss: 0.0479 - accuracy: 0.9896 - val_loss: 0.7041 - val_accuracy: 0.8917\n",
      "Epoch 26/50\n",
      "105/105 [==============================] - 16s 150ms/step - loss: 0.0941 - accuracy: 0.9818 - val_loss: 0.4029 - val_accuracy: 0.9389\n",
      "Epoch 27/50\n",
      "105/105 [==============================] - 14s 134ms/step - loss: 0.0537 - accuracy: 0.9863 - val_loss: 0.5687 - val_accuracy: 0.9403\n",
      "Epoch 28/50\n",
      "105/105 [==============================] - 14s 135ms/step - loss: 0.0492 - accuracy: 0.9896 - val_loss: 0.5354 - val_accuracy: 0.9444\n",
      "Epoch 29/50\n",
      "105/105 [==============================] - 14s 135ms/step - loss: 0.0518 - accuracy: 0.9866 - val_loss: 0.6957 - val_accuracy: 0.9222\n"
     ]
    }
   ],
   "source": [
    "history = model.fit(\n",
    "  train.cache(),\n",
    "  epochs=50,\n",
    "  callbacks=callbacks_list,\n",
    "  validation_data=val.cache()\n",
    ")"
   ]
  },
  {
   "cell_type": "code",
   "execution_count": 8,
   "metadata": {},
   "outputs": [
    {
     "name": "stdout",
     "output_type": "stream",
     "text": [
      "23/23 [==============================] - 1s 38ms/step - loss: 0.5468 - accuracy: 0.9417\n"
     ]
    },
    {
     "data": {
      "text/plain": [
       "[0.5467965602874756, 0.9416666626930237]"
      ]
     },
     "execution_count": 8,
     "metadata": {},
     "output_type": "execute_result"
    }
   ],
   "source": [
    "model.evaluate(test)"
   ]
  },
  {
   "cell_type": "code",
   "execution_count": 9,
   "metadata": {},
   "outputs": [
    {
     "name": "stdout",
     "output_type": "stream",
     "text": [
      " 1/23 [>.............................] - ETA: 5s - loss: 0.4645 - accuracy: 0.9375"
     ]
    },
    {
     "name": "stderr",
     "output_type": "stream",
     "text": [
      "2022-08-02 09:38:28.023601: I tensorflow/core/grappler/optimizers/custom_graph_optimizer_registry.cc:112] Plugin optimizer for device_type GPU is enabled.\n"
     ]
    },
    {
     "name": "stdout",
     "output_type": "stream",
     "text": [
      "23/23 [==============================] - 1s 39ms/step - loss: 0.3098 - accuracy: 0.9486\n"
     ]
    },
    {
     "data": {
      "text/plain": [
       "[0.3097553253173828, 0.9486111402511597]"
      ]
     },
     "execution_count": 9,
     "metadata": {},
     "output_type": "execute_result"
    }
   ],
   "source": [
    "# keras.models.save_model(model, \"./models/zenodo_3.h5\")\n",
    "\n",
    "load_model = keras.models.load_model(\"models/zenodo_01.h5\")\n",
    "load_model.evaluate(test)"
   ]
  }
 ],
 "metadata": {
  "kernelspec": {
   "display_name": "Python 3.9.7 ('base')",
   "language": "python",
   "name": "python3"
  },
  "language_info": {
   "codemirror_mode": {
    "name": "ipython",
    "version": 3
   },
   "file_extension": ".py",
   "mimetype": "text/x-python",
   "name": "python",
   "nbconvert_exporter": "python",
   "pygments_lexer": "ipython3",
   "version": "3.9.7"
  },
  "orig_nbformat": 4,
  "vscode": {
   "interpreter": {
    "hash": "c6e4e9f98eb68ad3b7c296f83d20e6de614cb42e90992a65aa266555a3137d0d"
   }
  }
 },
 "nbformat": 4,
 "nbformat_minor": 2
}
