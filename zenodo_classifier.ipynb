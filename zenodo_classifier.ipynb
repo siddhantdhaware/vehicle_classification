{
 "cells": [
  {
   "cell_type": "code",
   "execution_count": 1,
   "metadata": {},
   "outputs": [],
   "source": [
    "import tensorflow as tf\n",
    "from tensorflow.keras import layers, utils\n",
    "from tensorflow import keras\n",
    "from matplotlib import pyplot as plt"
   ]
  },
  {
   "cell_type": "code",
   "execution_count": 2,
   "metadata": {},
   "outputs": [],
   "source": [
    "IMAGE_SIZE = 100\n",
    "BATCH_SIZE = 32"
   ]
  },
  {
   "cell_type": "code",
   "execution_count": 4,
   "metadata": {},
   "outputs": [
    {
     "name": "stdout",
     "output_type": "stream",
     "text": [
      "Found 3360 files belonging to 6 classes.\n",
      "Found 720 files belonging to 6 classes.\n",
      "Found 720 files belonging to 6 classes.\n"
     ]
    }
   ],
   "source": [
    "train = utils.image_dataset_from_directory(\"datasets/data/split/vehicles_zenodo/train/\", image_size=(IMAGE_SIZE, IMAGE_SIZE), batch_size=BATCH_SIZE)\n",
    "val = utils.image_dataset_from_directory(\"datasets/data/split/vehicles_zenodo/val\", image_size=(IMAGE_SIZE, IMAGE_SIZE), batch_size=BATCH_SIZE)\n",
    "test = utils.image_dataset_from_directory(\"datasets/data/split/vehicles_zenodo/test\", image_size=(IMAGE_SIZE, IMAGE_SIZE), batch_size=BATCH_SIZE)"
   ]
  },
  {
   "cell_type": "code",
   "execution_count": 5,
   "metadata": {},
   "outputs": [
    {
     "name": "stdout",
     "output_type": "stream",
     "text": [
      "Model: \"model\"\n",
      "_________________________________________________________________\n",
      " Layer (type)                Output Shape              Param #   \n",
      "=================================================================\n",
      " input_1 (InputLayer)        [(None, 100, 100, 3)]     0         \n",
      "                                                                 \n",
      " conv2d (Conv2D)             (None, 98, 98, 32)        896       \n",
      "                                                                 \n",
      " max_pooling2d (MaxPooling2D  (None, 49, 49, 32)       0         \n",
      " )                                                               \n",
      "                                                                 \n",
      " conv2d_1 (Conv2D)           (None, 47, 47, 64)        18496     \n",
      "                                                                 \n",
      " max_pooling2d_1 (MaxPooling  (None, 23, 23, 64)       0         \n",
      " 2D)                                                             \n",
      "                                                                 \n",
      " conv2d_2 (Conv2D)           (None, 21, 21, 128)       73856     \n",
      "                                                                 \n",
      " max_pooling2d_2 (MaxPooling  (None, 10, 10, 128)      0         \n",
      " 2D)                                                             \n",
      "                                                                 \n",
      " conv2d_3 (Conv2D)           (None, 8, 8, 256)         295168    \n",
      "                                                                 \n",
      " global_average_pooling2d (G  (None, 256)              0         \n",
      " lobalAveragePooling2D)                                          \n",
      "                                                                 \n",
      " dense (Dense)               (None, 256)               65792     \n",
      "                                                                 \n",
      " dropout (Dropout)           (None, 256)               0         \n",
      "                                                                 \n",
      " dense_1 (Dense)             (None, 6)                 1542      \n",
      "                                                                 \n",
      "=================================================================\n",
      "Total params: 455,750\n",
      "Trainable params: 455,750\n",
      "Non-trainable params: 0\n",
      "_________________________________________________________________\n"
     ]
    }
   ],
   "source": [
    "inputs = keras.Input(shape=(100, 100, 3))\n",
    "x = layers.Conv2D(32, 3, activation='relu')(inputs)\n",
    "x = layers.MaxPooling2D(2)(x)\n",
    "x = layers.Conv2D(64, 3, activation='relu')(x)\n",
    "x = layers.MaxPooling2D(2)(x)\n",
    "x = layers.Conv2D(128, 3, activation='relu')(x)\n",
    "x = layers.MaxPooling2D(2)(x)\n",
    "x = layers.Conv2D(256, 3, activation='relu')(x)\n",
    "x = layers.GlobalAveragePooling2D()(x)\n",
    "x = layers.Dense(256, activation='relu')(x)\n",
    "x = layers.Dropout(0.5)(x)\n",
    "outputs = layers.Dense(6, activation='softmax')(x)\n",
    "\n",
    "model = keras.Model(inputs, outputs)\n",
    "\n",
    "model.compile(optimizer='rmsprop', loss='sparse_categorical_crossentropy', metrics=['accuracy'])\n",
    "\n",
    "model.summary()"
   ]
  },
  {
   "cell_type": "code",
   "execution_count": 6,
   "metadata": {},
   "outputs": [
    {
     "name": "stdout",
     "output_type": "stream",
     "text": [
      "Epoch 1/40\n"
     ]
    },
    {
     "name": "stderr",
     "output_type": "stream",
     "text": [
      "2022-07-31 04:40:50.188932: W tensorflow/core/platform/profile_utils/cpu_utils.cc:128] Failed to get CPU frequency: 0 Hz\n",
      "2022-07-31 04:40:50.189510: I tensorflow/core/grappler/optimizers/custom_graph_optimizer_registry.cc:112] Plugin optimizer for device_type GPU is enabled.\n"
     ]
    },
    {
     "name": "stdout",
     "output_type": "stream",
     "text": [
      "105/105 [==============================] - ETA: 0s - loss: 2.7044 - accuracy: 0.2083"
     ]
    },
    {
     "name": "stderr",
     "output_type": "stream",
     "text": [
      "2022-07-31 04:40:59.151316: I tensorflow/core/grappler/optimizers/custom_graph_optimizer_registry.cc:112] Plugin optimizer for device_type GPU is enabled.\n"
     ]
    },
    {
     "name": "stdout",
     "output_type": "stream",
     "text": [
      "105/105 [==============================] - 10s 52ms/step - loss: 2.7044 - accuracy: 0.2083 - val_loss: 3.2215 - val_accuracy: 0.1667\n",
      "Epoch 2/40\n",
      "105/105 [==============================] - 5s 48ms/step - loss: 1.8345 - accuracy: 0.2711 - val_loss: 1.5920 - val_accuracy: 0.2875\n",
      "Epoch 3/40\n",
      "105/105 [==============================] - 5s 44ms/step - loss: 1.4889 - accuracy: 0.4250 - val_loss: 1.2738 - val_accuracy: 0.5125\n",
      "Epoch 4/40\n",
      "105/105 [==============================] - 5s 44ms/step - loss: 1.1562 - accuracy: 0.5759 - val_loss: 0.7705 - val_accuracy: 0.6958\n",
      "Epoch 5/40\n",
      "105/105 [==============================] - 5s 46ms/step - loss: 0.9099 - accuracy: 0.6568 - val_loss: 0.6171 - val_accuracy: 0.7750\n",
      "Epoch 6/40\n",
      "105/105 [==============================] - 5s 49ms/step - loss: 0.7251 - accuracy: 0.7613 - val_loss: 0.5158 - val_accuracy: 0.8153\n",
      "Epoch 7/40\n",
      "105/105 [==============================] - 5s 47ms/step - loss: 0.5408 - accuracy: 0.8045 - val_loss: 0.4742 - val_accuracy: 0.8250\n",
      "Epoch 8/40\n",
      "105/105 [==============================] - 5s 50ms/step - loss: 0.4708 - accuracy: 0.8384 - val_loss: 0.7784 - val_accuracy: 0.7292\n",
      "Epoch 9/40\n",
      "105/105 [==============================] - 5s 46ms/step - loss: 0.3854 - accuracy: 0.8786 - val_loss: 0.2674 - val_accuracy: 0.9028\n",
      "Epoch 10/40\n",
      "105/105 [==============================] - 5s 45ms/step - loss: 0.3616 - accuracy: 0.8792 - val_loss: 0.2963 - val_accuracy: 0.9097\n",
      "Epoch 11/40\n",
      "105/105 [==============================] - 5s 44ms/step - loss: 0.3237 - accuracy: 0.9113 - val_loss: 0.3891 - val_accuracy: 0.8819\n",
      "Epoch 12/40\n",
      "105/105 [==============================] - 5s 46ms/step - loss: 0.2117 - accuracy: 0.9313 - val_loss: 0.2688 - val_accuracy: 0.9264\n",
      "Epoch 13/40\n",
      "105/105 [==============================] - 5s 46ms/step - loss: 0.3182 - accuracy: 0.9283 - val_loss: 0.2003 - val_accuracy: 0.9361\n",
      "Epoch 14/40\n",
      "105/105 [==============================] - 5s 49ms/step - loss: 0.1918 - accuracy: 0.9420 - val_loss: 0.2170 - val_accuracy: 0.9444\n",
      "Epoch 15/40\n",
      "105/105 [==============================] - 5s 47ms/step - loss: 0.2608 - accuracy: 0.9354 - val_loss: 0.6657 - val_accuracy: 0.8069\n",
      "Epoch 16/40\n",
      "105/105 [==============================] - 5s 49ms/step - loss: 0.1507 - accuracy: 0.9583 - val_loss: 0.5341 - val_accuracy: 0.8667\n",
      "Epoch 17/40\n",
      "105/105 [==============================] - 5s 48ms/step - loss: 0.1607 - accuracy: 0.9634 - val_loss: 0.3060 - val_accuracy: 0.9403\n",
      "Epoch 18/40\n",
      "105/105 [==============================] - 5s 50ms/step - loss: 0.2674 - accuracy: 0.9518 - val_loss: 0.2908 - val_accuracy: 0.9458\n",
      "Epoch 19/40\n",
      "105/105 [==============================] - 5s 49ms/step - loss: 0.1964 - accuracy: 0.9583 - val_loss: 0.3889 - val_accuracy: 0.9153\n",
      "Epoch 20/40\n",
      "105/105 [==============================] - 5s 49ms/step - loss: 0.2203 - accuracy: 0.9563 - val_loss: 0.3298 - val_accuracy: 0.9250\n",
      "Epoch 21/40\n",
      "105/105 [==============================] - 5s 50ms/step - loss: 0.2231 - accuracy: 0.9536 - val_loss: 0.2858 - val_accuracy: 0.9361\n",
      "Epoch 22/40\n",
      "105/105 [==============================] - 5s 50ms/step - loss: 0.1464 - accuracy: 0.9690 - val_loss: 0.7648 - val_accuracy: 0.8903\n",
      "Epoch 23/40\n",
      "105/105 [==============================] - 5s 51ms/step - loss: 0.2934 - accuracy: 0.9643 - val_loss: 0.3617 - val_accuracy: 0.9375\n",
      "Epoch 24/40\n",
      "105/105 [==============================] - 5s 51ms/step - loss: 0.1963 - accuracy: 0.9673 - val_loss: 0.4221 - val_accuracy: 0.9444\n",
      "Epoch 25/40\n",
      "105/105 [==============================] - 5s 52ms/step - loss: 0.3700 - accuracy: 0.9664 - val_loss: 0.7062 - val_accuracy: 0.9083\n",
      "Epoch 26/40\n",
      "105/105 [==============================] - 6s 53ms/step - loss: 0.3185 - accuracy: 0.9607 - val_loss: 0.3652 - val_accuracy: 0.9389\n",
      "Epoch 27/40\n",
      "105/105 [==============================] - 6s 54ms/step - loss: 0.3294 - accuracy: 0.9682 - val_loss: 0.3413 - val_accuracy: 0.9486\n",
      "Epoch 28/40\n",
      "105/105 [==============================] - 5s 52ms/step - loss: 0.1743 - accuracy: 0.9682 - val_loss: 0.3664 - val_accuracy: 0.9486\n",
      "Epoch 29/40\n",
      "105/105 [==============================] - 5s 52ms/step - loss: 0.3247 - accuracy: 0.9726 - val_loss: 0.4620 - val_accuracy: 0.9333\n",
      "Epoch 30/40\n",
      "105/105 [==============================] - 6s 53ms/step - loss: 0.1666 - accuracy: 0.9679 - val_loss: 0.3735 - val_accuracy: 0.9347\n",
      "Epoch 31/40\n",
      "105/105 [==============================] - 5s 51ms/step - loss: 0.2235 - accuracy: 0.9658 - val_loss: 0.3370 - val_accuracy: 0.9403\n",
      "Epoch 32/40\n",
      "105/105 [==============================] - 6s 55ms/step - loss: 0.1519 - accuracy: 0.9705 - val_loss: 0.4997 - val_accuracy: 0.9500\n",
      "Epoch 33/40\n",
      "105/105 [==============================] - 6s 54ms/step - loss: 0.2664 - accuracy: 0.9741 - val_loss: 0.5090 - val_accuracy: 0.9486\n",
      "Epoch 34/40\n",
      "105/105 [==============================] - 6s 55ms/step - loss: 0.3315 - accuracy: 0.9702 - val_loss: 0.3406 - val_accuracy: 0.9514\n",
      "Epoch 35/40\n",
      "105/105 [==============================] - 6s 55ms/step - loss: 0.2710 - accuracy: 0.9714 - val_loss: 0.8094 - val_accuracy: 0.9000\n",
      "Epoch 36/40\n",
      "105/105 [==============================] - 6s 55ms/step - loss: 0.1679 - accuracy: 0.9726 - val_loss: 2.3246 - val_accuracy: 0.8361\n",
      "Epoch 37/40\n",
      "105/105 [==============================] - 6s 55ms/step - loss: 0.2433 - accuracy: 0.9708 - val_loss: 0.6813 - val_accuracy: 0.9347\n",
      "Epoch 38/40\n",
      "105/105 [==============================] - 6s 58ms/step - loss: 0.2450 - accuracy: 0.9759 - val_loss: 0.6159 - val_accuracy: 0.9208\n",
      "Epoch 39/40\n",
      "105/105 [==============================] - 6s 52ms/step - loss: 0.2998 - accuracy: 0.9738 - val_loss: 0.6866 - val_accuracy: 0.9375\n",
      "Epoch 40/40\n",
      "105/105 [==============================] - 6s 59ms/step - loss: 0.1819 - accuracy: 0.9711 - val_loss: 0.7512 - val_accuracy: 0.9389\n"
     ]
    }
   ],
   "source": [
    "history = model.fit(\n",
    "  train.cache(),\n",
    "  epochs=40,\n",
    "  validation_data=val.cache()\n",
    ")"
   ]
  },
  {
   "cell_type": "code",
   "execution_count": 7,
   "metadata": {},
   "outputs": [
    {
     "name": "stdout",
     "output_type": "stream",
     "text": [
      "23/23 [==============================] - 0s 18ms/step - loss: 0.4419 - accuracy: 0.9458\n"
     ]
    },
    {
     "data": {
      "text/plain": [
       "[0.44192633032798767, 0.9458333849906921]"
      ]
     },
     "execution_count": 7,
     "metadata": {},
     "output_type": "execute_result"
    }
   ],
   "source": [
    "model.evaluate(test)"
   ]
  }
 ],
 "metadata": {
  "kernelspec": {
   "display_name": "Python 3.9.7 ('base')",
   "language": "python",
   "name": "python3"
  },
  "language_info": {
   "codemirror_mode": {
    "name": "ipython",
    "version": 3
   },
   "file_extension": ".py",
   "mimetype": "text/x-python",
   "name": "python",
   "nbconvert_exporter": "python",
   "pygments_lexer": "ipython3",
   "version": "3.9.7"
  },
  "orig_nbformat": 4,
  "vscode": {
   "interpreter": {
    "hash": "c6e4e9f98eb68ad3b7c296f83d20e6de614cb42e90992a65aa266555a3137d0d"
   }
  }
 },
 "nbformat": 4,
 "nbformat_minor": 2
}
