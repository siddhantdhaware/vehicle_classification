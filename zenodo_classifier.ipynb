{
 "cells": [
  {
   "cell_type": "code",
   "execution_count": 1,
   "metadata": {},
   "outputs": [],
   "source": [
    "import tensorflow as tf\n",
    "from tensorflow.keras import layers, utils\n",
    "from tensorflow import keras\n",
    "from matplotlib import pyplot as plt"
   ]
  },
  {
   "cell_type": "code",
   "execution_count": 2,
   "metadata": {},
   "outputs": [],
   "source": [
    "IMAGE_SIZE = 100\n",
    "BATCH_SIZE = 32"
   ]
  },
  {
   "cell_type": "code",
   "execution_count": 4,
   "metadata": {},
   "outputs": [
    {
     "name": "stdout",
     "output_type": "stream",
     "text": [
      "Found 3360 files belonging to 6 classes.\n",
      "Found 720 files belonging to 6 classes.\n",
      "Found 720 files belonging to 6 classes.\n"
     ]
    }
   ],
   "source": [
    "train = utils.image_dataset_from_directory(\"datasets/data/split/vehicles_zenodo/train/\", image_size=(IMAGE_SIZE, IMAGE_SIZE), batch_size=BATCH_SIZE)\n",
    "val = utils.image_dataset_from_directory(\"datasets/data/split/vehicles_zenodo/val\", image_size=(IMAGE_SIZE, IMAGE_SIZE), batch_size=BATCH_SIZE)\n",
    "test = utils.image_dataset_from_directory(\"datasets/data/split/vehicles_zenodo/test\", image_size=(IMAGE_SIZE, IMAGE_SIZE), batch_size=BATCH_SIZE)"
   ]
  },
  {
   "cell_type": "code",
   "execution_count": 94,
   "metadata": {},
   "outputs": [],
   "source": [
    "# data_augmentation = keras.Sequential(\n",
    "# [\n",
    "#     layers.RandomFlip(\"horizontal\"),\n",
    "#     layers.RandomRotation(0.1),\n",
    "#     layers.RandomZoom(0.2),\n",
    "#     layers.RandomContrast(0.2),\n",
    "#     layers.RandomTranslation(height_factor=0.2,width_factor=0.3)\n",
    "# ] \n",
    "# )"
   ]
  },
  {
   "cell_type": "code",
   "execution_count": 5,
   "metadata": {},
   "outputs": [
    {
     "name": "stdout",
     "output_type": "stream",
     "text": [
      "Model: \"model\"\n",
      "_________________________________________________________________\n",
      " Layer (type)                Output Shape              Param #   \n",
      "=================================================================\n",
      " input_1 (InputLayer)        [(None, 100, 100, 3)]     0         \n",
      "                                                                 \n",
      " conv2d (Conv2D)             (None, 96, 96, 16)        1216      \n",
      "                                                                 \n",
      " max_pooling2d (MaxPooling2D  (None, 48, 48, 16)       0         \n",
      " )                                                               \n",
      "                                                                 \n",
      " conv2d_1 (Conv2D)           (None, 44, 44, 16)        6416      \n",
      "                                                                 \n",
      " max_pooling2d_1 (MaxPooling  (None, 22, 22, 16)       0         \n",
      " 2D)                                                             \n",
      "                                                                 \n",
      " max_pooling2d_2 (MaxPooling  (None, 11, 11, 16)       0         \n",
      " 2D)                                                             \n",
      "                                                                 \n",
      " max_pooling2d_3 (MaxPooling  (None, 5, 5, 16)         0         \n",
      " 2D)                                                             \n",
      "                                                                 \n",
      " flatten (Flatten)           (None, 400)               0         \n",
      "                                                                 \n",
      " dense (Dense)               (None, 16)                6416      \n",
      "                                                                 \n",
      " dropout (Dropout)           (None, 16)                0         \n",
      "                                                                 \n",
      " dense_1 (Dense)             (None, 6)                 102       \n",
      "                                                                 \n",
      "=================================================================\n",
      "Total params: 14,150\n",
      "Trainable params: 14,150\n",
      "Non-trainable params: 0\n",
      "_________________________________________________________________\n"
     ]
    }
   ],
   "source": [
    "inputs = keras.Input(shape=(100, 100, 3))\n",
    "\n",
    "# x = data_augmentation(inputs)\n",
    "x = layers.Conv2D(16, 5, activation='relu')(inputs)\n",
    "x = layers.MaxPooling2D(2)(x)\n",
    "x = layers.Conv2D(16, 5, activation='relu')(x)\n",
    "x = layers.MaxPooling2D(2)(x)\n",
    "x = layers.MaxPooling2D(2)(x)\n",
    "x = layers.MaxPooling2D(2)(x)\n",
    "\n",
    "x = layers.Flatten()(x)\n",
    "\n",
    "x = layers.Dense(16, kernel_regularizer=keras.regularizers.l2(0.008), activation='relu')(x)\n",
    "\n",
    "x = layers.Dropout(0.3)(x)\n",
    "\n",
    "outputs = layers.Dense(6, activation='softmax')(x)\n",
    "\n",
    "model = keras.Model(inputs, outputs)\n",
    "\n",
    "model.compile(optimizer=keras.optimizers.RMSprop(0.001), loss='sparse_categorical_crossentropy', metrics=['accuracy'])\n",
    "\n",
    "model.summary()"
   ]
  },
  {
   "cell_type": "code",
   "execution_count": 150,
   "metadata": {},
   "outputs": [],
   "source": [
    "callbacks_list = [\n",
    "    keras.callbacks.EarlyStopping(\n",
    "        monitor=\"val_accuracy\",\n",
    "        patience=10\n",
    "    ),\n",
    "    keras.callbacks.ModelCheckpoint(\n",
    "        filepath=\"models/zenodo_5.h5\",\n",
    "        monitor=\"val_loss\",\n",
    "        save_best_only=True\n",
    "    )\n",
    "]"
   ]
  },
  {
   "cell_type": "code",
   "execution_count": 151,
   "metadata": {},
   "outputs": [
    {
     "name": "stdout",
     "output_type": "stream",
     "text": [
      "Epoch 1/40\n"
     ]
    },
    {
     "name": "stderr",
     "output_type": "stream",
     "text": [
      "2022-08-01 08:41:36.382445: I tensorflow/core/grappler/optimizers/custom_graph_optimizer_registry.cc:112] Plugin optimizer for device_type GPU is enabled.\n"
     ]
    },
    {
     "name": "stdout",
     "output_type": "stream",
     "text": [
      "104/105 [============================>.] - ETA: 0s - loss: 2.9110 - accuracy: 0.1517"
     ]
    },
    {
     "name": "stderr",
     "output_type": "stream",
     "text": [
      "2022-08-01 08:41:39.026663: I tensorflow/core/grappler/optimizers/custom_graph_optimizer_registry.cc:112] Plugin optimizer for device_type GPU is enabled.\n"
     ]
    },
    {
     "name": "stdout",
     "output_type": "stream",
     "text": [
      "105/105 [==============================] - 4s 26ms/step - loss: 2.9012 - accuracy: 0.1509 - val_loss: 1.8789 - val_accuracy: 0.1667\n",
      "Epoch 2/40\n",
      "105/105 [==============================] - 2s 23ms/step - loss: 2.2571 - accuracy: 0.1524 - val_loss: 1.8199 - val_accuracy: 0.1667\n",
      "Epoch 3/40\n",
      "105/105 [==============================] - 3s 24ms/step - loss: 1.9762 - accuracy: 0.1583 - val_loss: 1.8613 - val_accuracy: 0.1819\n",
      "Epoch 4/40\n",
      "105/105 [==============================] - 2s 23ms/step - loss: 1.6754 - accuracy: 0.3185 - val_loss: 1.2543 - val_accuracy: 0.5569\n",
      "Epoch 5/40\n",
      "105/105 [==============================] - 2s 23ms/step - loss: 1.2277 - accuracy: 0.5640 - val_loss: 1.1446 - val_accuracy: 0.5875\n",
      "Epoch 6/40\n",
      "105/105 [==============================] - 3s 24ms/step - loss: 0.9565 - accuracy: 0.6604 - val_loss: 0.8379 - val_accuracy: 0.7597\n",
      "Epoch 7/40\n",
      "105/105 [==============================] - 2s 23ms/step - loss: 0.7905 - accuracy: 0.7301 - val_loss: 0.6535 - val_accuracy: 0.7917\n",
      "Epoch 8/40\n",
      "105/105 [==============================] - 2s 23ms/step - loss: 0.6788 - accuracy: 0.7628 - val_loss: 0.6292 - val_accuracy: 0.8069\n",
      "Epoch 9/40\n",
      "105/105 [==============================] - 2s 23ms/step - loss: 0.6184 - accuracy: 0.7833 - val_loss: 0.5805 - val_accuracy: 0.8264\n",
      "Epoch 10/40\n",
      "105/105 [==============================] - 3s 24ms/step - loss: 0.5907 - accuracy: 0.7908 - val_loss: 0.6312 - val_accuracy: 0.8236\n",
      "Epoch 11/40\n",
      "105/105 [==============================] - 2s 23ms/step - loss: 0.5444 - accuracy: 0.8143 - val_loss: 0.7481 - val_accuracy: 0.8014\n",
      "Epoch 12/40\n",
      "105/105 [==============================] - 2s 23ms/step - loss: 0.4855 - accuracy: 0.8238 - val_loss: 0.5984 - val_accuracy: 0.8292\n",
      "Epoch 13/40\n",
      "105/105 [==============================] - 2s 23ms/step - loss: 0.4666 - accuracy: 0.8360 - val_loss: 0.9113 - val_accuracy: 0.7972\n",
      "Epoch 14/40\n",
      "105/105 [==============================] - 3s 24ms/step - loss: 0.4396 - accuracy: 0.8449 - val_loss: 0.6693 - val_accuracy: 0.8389\n",
      "Epoch 15/40\n",
      "105/105 [==============================] - 2s 24ms/step - loss: 0.4283 - accuracy: 0.8557 - val_loss: 0.6280 - val_accuracy: 0.8486\n",
      "Epoch 16/40\n",
      "105/105 [==============================] - 2s 23ms/step - loss: 0.4015 - accuracy: 0.8616 - val_loss: 0.6124 - val_accuracy: 0.8667\n",
      "Epoch 17/40\n",
      "105/105 [==============================] - 3s 24ms/step - loss: 0.3845 - accuracy: 0.8702 - val_loss: 0.8042 - val_accuracy: 0.8319\n",
      "Epoch 18/40\n",
      "105/105 [==============================] - 2s 24ms/step - loss: 0.3776 - accuracy: 0.8738 - val_loss: 0.6487 - val_accuracy: 0.8514\n",
      "Epoch 19/40\n",
      "105/105 [==============================] - 3s 24ms/step - loss: 0.3373 - accuracy: 0.8851 - val_loss: 0.7102 - val_accuracy: 0.8500\n",
      "Epoch 20/40\n",
      "105/105 [==============================] - 2s 23ms/step - loss: 0.3310 - accuracy: 0.8935 - val_loss: 0.7038 - val_accuracy: 0.8500\n",
      "Epoch 21/40\n",
      "105/105 [==============================] - 2s 23ms/step - loss: 0.3148 - accuracy: 0.8932 - val_loss: 0.7089 - val_accuracy: 0.8611\n",
      "Epoch 22/40\n",
      "105/105 [==============================] - 2s 23ms/step - loss: 0.3168 - accuracy: 0.9009 - val_loss: 0.6851 - val_accuracy: 0.8681\n",
      "Epoch 23/40\n",
      "105/105 [==============================] - 2s 23ms/step - loss: 0.2830 - accuracy: 0.9137 - val_loss: 0.7956 - val_accuracy: 0.8597\n",
      "Epoch 24/40\n",
      "105/105 [==============================] - 2s 23ms/step - loss: 0.2928 - accuracy: 0.9095 - val_loss: 0.8158 - val_accuracy: 0.8514\n",
      "Epoch 25/40\n",
      "105/105 [==============================] - 2s 23ms/step - loss: 0.2800 - accuracy: 0.9211 - val_loss: 0.9049 - val_accuracy: 0.8597\n",
      "Epoch 26/40\n",
      "105/105 [==============================] - 2s 23ms/step - loss: 0.2667 - accuracy: 0.9238 - val_loss: 0.8537 - val_accuracy: 0.8694\n",
      "Epoch 27/40\n",
      "105/105 [==============================] - 2s 24ms/step - loss: 0.2829 - accuracy: 0.9190 - val_loss: 0.9011 - val_accuracy: 0.8667\n",
      "Epoch 28/40\n",
      "105/105 [==============================] - 2s 23ms/step - loss: 0.2547 - accuracy: 0.9307 - val_loss: 1.0194 - val_accuracy: 0.8764\n",
      "Epoch 29/40\n",
      "105/105 [==============================] - 2s 23ms/step - loss: 0.2492 - accuracy: 0.9330 - val_loss: 0.8504 - val_accuracy: 0.8639\n",
      "Epoch 30/40\n",
      "105/105 [==============================] - 2s 23ms/step - loss: 0.2800 - accuracy: 0.9253 - val_loss: 1.0058 - val_accuracy: 0.8708\n",
      "Epoch 31/40\n",
      "105/105 [==============================] - 2s 23ms/step - loss: 0.2351 - accuracy: 0.9354 - val_loss: 1.1688 - val_accuracy: 0.8542\n",
      "Epoch 32/40\n",
      "105/105 [==============================] - 2s 24ms/step - loss: 0.2256 - accuracy: 0.9363 - val_loss: 1.2805 - val_accuracy: 0.8667\n",
      "Epoch 33/40\n",
      "105/105 [==============================] - 3s 24ms/step - loss: 0.2471 - accuracy: 0.9313 - val_loss: 0.9647 - val_accuracy: 0.8611\n",
      "Epoch 34/40\n",
      "105/105 [==============================] - 2s 23ms/step - loss: 0.2507 - accuracy: 0.9348 - val_loss: 1.2390 - val_accuracy: 0.8611\n",
      "Epoch 35/40\n",
      "105/105 [==============================] - 2s 23ms/step - loss: 0.2333 - accuracy: 0.9405 - val_loss: 0.8246 - val_accuracy: 0.8833\n",
      "Epoch 36/40\n",
      "105/105 [==============================] - 2s 23ms/step - loss: 0.2082 - accuracy: 0.9473 - val_loss: 0.8741 - val_accuracy: 0.8778\n",
      "Epoch 37/40\n",
      "105/105 [==============================] - 2s 24ms/step - loss: 0.2160 - accuracy: 0.9452 - val_loss: 1.0209 - val_accuracy: 0.8611\n",
      "Epoch 38/40\n",
      "105/105 [==============================] - 2s 23ms/step - loss: 0.1964 - accuracy: 0.9545 - val_loss: 1.0520 - val_accuracy: 0.8611\n",
      "Epoch 39/40\n",
      "105/105 [==============================] - 2s 23ms/step - loss: 0.2231 - accuracy: 0.9426 - val_loss: 0.9726 - val_accuracy: 0.8569\n",
      "Epoch 40/40\n",
      "105/105 [==============================] - 2s 23ms/step - loss: 0.2076 - accuracy: 0.9455 - val_loss: 1.1492 - val_accuracy: 0.8653\n"
     ]
    }
   ],
   "source": [
    "history = model.fit(\n",
    "  train.cache(),\n",
    "  epochs=40,\n",
    "  callbacks=callbacks_list,\n",
    "  validation_data=val.cache()\n",
    ")"
   ]
  },
  {
   "cell_type": "code",
   "execution_count": 152,
   "metadata": {},
   "outputs": [
    {
     "name": "stdout",
     "output_type": "stream",
     "text": [
      "23/23 [==============================] - 0s 14ms/step - loss: 1.1438 - accuracy: 0.8486\n"
     ]
    },
    {
     "data": {
      "text/plain": [
       "[1.1437840461730957, 0.8486111164093018]"
      ]
     },
     "execution_count": 152,
     "metadata": {},
     "output_type": "execute_result"
    }
   ],
   "source": [
    "model.evaluate(test)"
   ]
  },
  {
   "cell_type": "code",
   "execution_count": 155,
   "metadata": {},
   "outputs": [
    {
     "name": "stdout",
     "output_type": "stream",
     "text": [
      " 4/23 [====>.........................] - ETA: 0s - loss: 0.5667 - accuracy: 0.8203"
     ]
    },
    {
     "name": "stderr",
     "output_type": "stream",
     "text": [
      "2022-08-01 08:44:12.758027: I tensorflow/core/grappler/optimizers/custom_graph_optimizer_registry.cc:112] Plugin optimizer for device_type GPU is enabled.\n"
     ]
    },
    {
     "name": "stdout",
     "output_type": "stream",
     "text": [
      "23/23 [==============================] - 1s 16ms/step - loss: 0.5823 - accuracy: 0.8139\n"
     ]
    },
    {
     "data": {
      "text/plain": [
       "[0.5823264718055725, 0.8138889074325562]"
      ]
     },
     "execution_count": 155,
     "metadata": {},
     "output_type": "execute_result"
    }
   ],
   "source": [
    "# keras.models.save_model(model, \"./models/zenodo_3.h5\")\n",
    "\n",
    "load_model = keras.models.load_model(\"models/zenodo_5.h5\")\n",
    "load_model.evaluate(test)"
   ]
  }
 ],
 "metadata": {
  "kernelspec": {
   "display_name": "Python 3.9.7 ('base')",
   "language": "python",
   "name": "python3"
  },
  "language_info": {
   "codemirror_mode": {
    "name": "ipython",
    "version": 3
   },
   "file_extension": ".py",
   "mimetype": "text/x-python",
   "name": "python",
   "nbconvert_exporter": "python",
   "pygments_lexer": "ipython3",
   "version": "3.9.7"
  },
  "orig_nbformat": 4,
  "vscode": {
   "interpreter": {
    "hash": "c6e4e9f98eb68ad3b7c296f83d20e6de614cb42e90992a65aa266555a3137d0d"
   }
  }
 },
 "nbformat": 4,
 "nbformat_minor": 2
}
