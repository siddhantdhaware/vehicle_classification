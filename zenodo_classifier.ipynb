{
 "cells": [
  {
   "cell_type": "code",
   "execution_count": 54,
   "metadata": {},
   "outputs": [],
   "source": [
    "import tensorflow as tf\n",
    "from tensorflow.keras import layers, utils\n",
    "from tensorflow import keras\n",
    "from matplotlib import pyplot as plt"
   ]
  },
  {
   "cell_type": "code",
   "execution_count": 55,
   "metadata": {},
   "outputs": [],
   "source": [
    "IMAGE_SIZE = 100\n",
    "BATCH_SIZE = 32"
   ]
  },
  {
   "cell_type": "code",
   "execution_count": 58,
   "metadata": {},
   "outputs": [
    {
     "name": "stdout",
     "output_type": "stream",
     "text": [
      "Found 3360 files belonging to 6 classes.\n",
      "Found 720 files belonging to 6 classes.\n",
      "Found 720 files belonging to 6 classes.\n"
     ]
    }
   ],
   "source": [
    "train = utils.image_dataset_from_directory(\"datasets/data/split/vehicles_zenodo/train/\", image_size=(IMAGE_SIZE, IMAGE_SIZE), batch_size=BATCH_SIZE)\n",
    "val = utils.image_dataset_from_directory(\"datasets/data/split/vehicles_zenodo/val\", image_size=(IMAGE_SIZE, IMAGE_SIZE), batch_size=BATCH_SIZE)\n",
    "test = utils.image_dataset_from_directory(\"datasets/data/split/vehicles_zenodo/test\", image_size=(IMAGE_SIZE, IMAGE_SIZE), batch_size=BATCH_SIZE)"
   ]
  },
  {
   "cell_type": "code",
   "execution_count": 63,
   "metadata": {},
   "outputs": [
    {
     "name": "stdout",
     "output_type": "stream",
     "text": [
      "Model: \"model_18\"\n",
      "_________________________________________________________________\n",
      " Layer (type)                Output Shape              Param #   \n",
      "=================================================================\n",
      " input_19 (InputLayer)       [(None, 100, 100, 3)]     0         \n",
      "                                                                 \n",
      " conv2d_110 (Conv2D)         (None, 98, 98, 16)        448       \n",
      "                                                                 \n",
      " max_pooling2d_54 (MaxPoolin  (None, 49, 49, 16)       0         \n",
      " g2D)                                                            \n",
      "                                                                 \n",
      " conv2d_111 (Conv2D)         (None, 47, 47, 32)        4640      \n",
      "                                                                 \n",
      " max_pooling2d_55 (MaxPoolin  (None, 23, 23, 32)       0         \n",
      " g2D)                                                            \n",
      "                                                                 \n",
      " conv2d_112 (Conv2D)         (None, 21, 21, 32)        9248      \n",
      "                                                                 \n",
      " global_average_pooling2d_17  (None, 32)               0         \n",
      "  (GlobalAveragePooling2D)                                       \n",
      "                                                                 \n",
      " dropout_18 (Dropout)        (None, 32)                0         \n",
      "                                                                 \n",
      " dense_33 (Dense)            (None, 6)                 198       \n",
      "                                                                 \n",
      "=================================================================\n",
      "Total params: 14,534\n",
      "Trainable params: 14,534\n",
      "Non-trainable params: 0\n",
      "_________________________________________________________________\n"
     ]
    }
   ],
   "source": [
    "inputs = keras.Input(shape=(100, 100, 3))\n",
    "x = layers.Conv2D(16, 3, activation='relu')(inputs)\n",
    "x = layers.MaxPooling2D(2)(x)\n",
    "x = layers.Conv2D(32, 3, activation='relu')(x)\n",
    "x = layers.MaxPooling2D(2)(x)\n",
    "x = layers.Conv2D(32, 3, activation='relu')(x)\n",
    "x = layers.GlobalAveragePooling2D()(x)\n",
    "x = layers.Dropout(0.5)(x)\n",
    "outputs = layers.Dense(6, activation='softmax')(x)\n",
    "\n",
    "model = keras.Model(inputs, outputs)\n",
    "\n",
    "model.compile(optimizer=keras.optimizers.RMSprop(0.001), loss='sparse_categorical_crossentropy', metrics=['accuracy'])\n",
    "\n",
    "model.summary()"
   ]
  },
  {
   "cell_type": "code",
   "execution_count": 64,
   "metadata": {},
   "outputs": [
    {
     "name": "stdout",
     "output_type": "stream",
     "text": [
      "Epoch 1/40\n"
     ]
    },
    {
     "name": "stderr",
     "output_type": "stream",
     "text": [
      "2022-08-01 06:48:48.956352: I tensorflow/core/grappler/optimizers/custom_graph_optimizer_registry.cc:112] Plugin optimizer for device_type GPU is enabled.\n"
     ]
    },
    {
     "name": "stdout",
     "output_type": "stream",
     "text": [
      "104/105 [============================>.] - ETA: 0s - loss: 4.4187 - accuracy: 0.1740"
     ]
    },
    {
     "name": "stderr",
     "output_type": "stream",
     "text": [
      "2022-08-01 06:48:51.843990: I tensorflow/core/grappler/optimizers/custom_graph_optimizer_registry.cc:112] Plugin optimizer for device_type GPU is enabled.\n"
     ]
    },
    {
     "name": "stdout",
     "output_type": "stream",
     "text": [
      "105/105 [==============================] - 3s 26ms/step - loss: 4.3936 - accuracy: 0.1750 - val_loss: 1.7799 - val_accuracy: 0.2375\n",
      "Epoch 2/40\n",
      "105/105 [==============================] - 2s 23ms/step - loss: 1.8368 - accuracy: 0.2360 - val_loss: 1.8046 - val_accuracy: 0.1694\n",
      "Epoch 3/40\n",
      "105/105 [==============================] - 2s 22ms/step - loss: 1.7809 - accuracy: 0.2833 - val_loss: 1.7130 - val_accuracy: 0.2514\n",
      "Epoch 4/40\n",
      "105/105 [==============================] - 2s 22ms/step - loss: 1.7386 - accuracy: 0.3223 - val_loss: 1.6283 - val_accuracy: 0.3667\n",
      "Epoch 5/40\n",
      "105/105 [==============================] - 2s 22ms/step - loss: 1.6433 - accuracy: 0.3682 - val_loss: 1.5980 - val_accuracy: 0.3514\n",
      "Epoch 6/40\n",
      "105/105 [==============================] - 2s 22ms/step - loss: 1.5995 - accuracy: 0.3967 - val_loss: 1.6670 - val_accuracy: 0.2556\n",
      "Epoch 7/40\n",
      "105/105 [==============================] - 2s 22ms/step - loss: 1.4945 - accuracy: 0.4345 - val_loss: 1.3270 - val_accuracy: 0.4944\n",
      "Epoch 8/40\n",
      "105/105 [==============================] - 2s 22ms/step - loss: 1.3974 - accuracy: 0.4568 - val_loss: 1.3119 - val_accuracy: 0.5389\n",
      "Epoch 9/40\n",
      "105/105 [==============================] - 2s 22ms/step - loss: 1.3113 - accuracy: 0.4890 - val_loss: 1.1294 - val_accuracy: 0.5778\n",
      "Epoch 10/40\n",
      "105/105 [==============================] - 2s 22ms/step - loss: 1.2450 - accuracy: 0.5107 - val_loss: 1.0565 - val_accuracy: 0.6167\n",
      "Epoch 11/40\n",
      "105/105 [==============================] - 2s 22ms/step - loss: 1.1944 - accuracy: 0.5354 - val_loss: 0.9944 - val_accuracy: 0.6444\n",
      "Epoch 12/40\n",
      "105/105 [==============================] - 2s 22ms/step - loss: 1.1448 - accuracy: 0.5536 - val_loss: 0.9608 - val_accuracy: 0.6486\n",
      "Epoch 13/40\n",
      "105/105 [==============================] - 2s 22ms/step - loss: 1.1245 - accuracy: 0.5673 - val_loss: 0.9449 - val_accuracy: 0.6514\n",
      "Epoch 14/40\n",
      "105/105 [==============================] - 2s 22ms/step - loss: 1.1114 - accuracy: 0.5798 - val_loss: 0.9936 - val_accuracy: 0.6167\n",
      "Epoch 15/40\n",
      "105/105 [==============================] - 2s 22ms/step - loss: 1.0574 - accuracy: 0.5905 - val_loss: 0.8924 - val_accuracy: 0.6542\n",
      "Epoch 16/40\n",
      "105/105 [==============================] - 2s 23ms/step - loss: 1.0510 - accuracy: 0.5961 - val_loss: 0.9903 - val_accuracy: 0.6097\n",
      "Epoch 17/40\n",
      "105/105 [==============================] - 2s 23ms/step - loss: 1.0046 - accuracy: 0.6098 - val_loss: 0.9450 - val_accuracy: 0.6347\n",
      "Epoch 18/40\n",
      "105/105 [==============================] - 2s 22ms/step - loss: 0.9707 - accuracy: 0.6351 - val_loss: 1.0499 - val_accuracy: 0.5917\n",
      "Epoch 19/40\n",
      "105/105 [==============================] - 2s 23ms/step - loss: 0.9551 - accuracy: 0.6396 - val_loss: 0.8336 - val_accuracy: 0.6722\n",
      "Epoch 20/40\n",
      "105/105 [==============================] - 2s 22ms/step - loss: 0.9219 - accuracy: 0.6470 - val_loss: 0.7963 - val_accuracy: 0.6792\n",
      "Epoch 21/40\n",
      "105/105 [==============================] - 2s 22ms/step - loss: 0.8904 - accuracy: 0.6598 - val_loss: 0.7918 - val_accuracy: 0.6819\n",
      "Epoch 22/40\n",
      "105/105 [==============================] - 2s 22ms/step - loss: 0.8699 - accuracy: 0.6640 - val_loss: 0.7642 - val_accuracy: 0.6972\n",
      "Epoch 23/40\n",
      "105/105 [==============================] - 2s 22ms/step - loss: 0.8442 - accuracy: 0.6753 - val_loss: 0.7985 - val_accuracy: 0.7042\n",
      "Epoch 24/40\n",
      "105/105 [==============================] - 2s 22ms/step - loss: 0.8163 - accuracy: 0.6896 - val_loss: 0.7825 - val_accuracy: 0.7194\n",
      "Epoch 25/40\n",
      "105/105 [==============================] - 2s 22ms/step - loss: 0.8025 - accuracy: 0.6955 - val_loss: 0.7825 - val_accuracy: 0.7181\n",
      "Epoch 26/40\n",
      "105/105 [==============================] - 3s 25ms/step - loss: 0.7831 - accuracy: 0.7063 - val_loss: 0.7583 - val_accuracy: 0.7347\n",
      "Epoch 27/40\n",
      "105/105 [==============================] - 2s 22ms/step - loss: 0.7638 - accuracy: 0.7196 - val_loss: 0.8483 - val_accuracy: 0.6917\n",
      "Epoch 28/40\n",
      "105/105 [==============================] - 2s 22ms/step - loss: 0.7517 - accuracy: 0.7196 - val_loss: 0.7728 - val_accuracy: 0.7264\n",
      "Epoch 29/40\n",
      "105/105 [==============================] - 2s 23ms/step - loss: 0.7342 - accuracy: 0.7283 - val_loss: 0.8725 - val_accuracy: 0.6917\n",
      "Epoch 30/40\n",
      "105/105 [==============================] - 2s 23ms/step - loss: 0.7155 - accuracy: 0.7414 - val_loss: 0.6810 - val_accuracy: 0.7583\n",
      "Epoch 31/40\n",
      "105/105 [==============================] - 2s 22ms/step - loss: 0.6845 - accuracy: 0.7512 - val_loss: 0.6808 - val_accuracy: 0.7556\n",
      "Epoch 32/40\n",
      "105/105 [==============================] - 2s 22ms/step - loss: 0.6784 - accuracy: 0.7488 - val_loss: 0.6533 - val_accuracy: 0.7556\n",
      "Epoch 33/40\n",
      "105/105 [==============================] - 2s 22ms/step - loss: 0.6669 - accuracy: 0.7533 - val_loss: 0.6379 - val_accuracy: 0.7569\n",
      "Epoch 34/40\n",
      "105/105 [==============================] - 2s 23ms/step - loss: 0.6486 - accuracy: 0.7652 - val_loss: 0.7100 - val_accuracy: 0.7514\n",
      "Epoch 35/40\n",
      "105/105 [==============================] - 2s 23ms/step - loss: 0.6365 - accuracy: 0.7717 - val_loss: 0.6589 - val_accuracy: 0.7556\n",
      "Epoch 36/40\n",
      "105/105 [==============================] - 2s 22ms/step - loss: 0.6106 - accuracy: 0.7729 - val_loss: 0.6347 - val_accuracy: 0.7819\n",
      "Epoch 37/40\n",
      "105/105 [==============================] - 2s 22ms/step - loss: 0.6030 - accuracy: 0.7836 - val_loss: 0.6453 - val_accuracy: 0.7611\n",
      "Epoch 38/40\n",
      "105/105 [==============================] - 2s 22ms/step - loss: 0.5838 - accuracy: 0.7851 - val_loss: 0.6541 - val_accuracy: 0.7625\n",
      "Epoch 39/40\n",
      "105/105 [==============================] - 2s 22ms/step - loss: 0.6579 - accuracy: 0.7845 - val_loss: 0.6005 - val_accuracy: 0.7889\n",
      "Epoch 40/40\n",
      "105/105 [==============================] - 2s 22ms/step - loss: 0.5446 - accuracy: 0.8071 - val_loss: 0.6084 - val_accuracy: 0.7833\n"
     ]
    }
   ],
   "source": [
    "history = model.fit(\n",
    "  train.cache(),\n",
    "  epochs=40,\n",
    "  validation_data=val.cache()\n",
    ")"
   ]
  },
  {
   "cell_type": "code",
   "execution_count": 68,
   "metadata": {},
   "outputs": [
    {
     "name": "stdout",
     "output_type": "stream",
     "text": [
      "23/23 [==============================] - 0s 13ms/step - loss: 0.5572 - accuracy: 0.8056\n"
     ]
    },
    {
     "data": {
      "text/plain": [
       "[0.5572182536125183, 0.8055555820465088]"
      ]
     },
     "execution_count": 68,
     "metadata": {},
     "output_type": "execute_result"
    }
   ],
   "source": [
    "model.evaluate(test)"
   ]
  },
  {
   "cell_type": "code",
   "execution_count": 69,
   "metadata": {},
   "outputs": [],
   "source": [
    "keras.models.save_model(model, \"./models/zenodo_2.h5\")"
   ]
  }
 ],
 "metadata": {
  "kernelspec": {
   "display_name": "Python 3.9.7 ('base')",
   "language": "python",
   "name": "python3"
  },
  "language_info": {
   "codemirror_mode": {
    "name": "ipython",
    "version": 3
   },
   "file_extension": ".py",
   "mimetype": "text/x-python",
   "name": "python",
   "nbconvert_exporter": "python",
   "pygments_lexer": "ipython3",
   "version": "3.9.7"
  },
  "orig_nbformat": 4,
  "vscode": {
   "interpreter": {
    "hash": "c6e4e9f98eb68ad3b7c296f83d20e6de614cb42e90992a65aa266555a3137d0d"
   }
  }
 },
 "nbformat": 4,
 "nbformat_minor": 2
}
